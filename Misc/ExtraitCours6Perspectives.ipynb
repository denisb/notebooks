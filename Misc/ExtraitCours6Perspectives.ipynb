{
 "cells": [
  {
   "cell_type": "markdown",
   "id": "7ad1c129-a3e6-4f26-b04d-384cf0837d43",
   "metadata": {
    "editable": true,
    "slideshow": {
     "slide_type": "slide"
    },
    "tags": []
   },
   "source": [
    "&nbsp;  \n",
    "\n",
    "**En bonus du cours d'Architecture des Ordinateurs  \n",
    "(année 1 : le langage machine ; année 2 : les circuits)**\n",
    "\n",
    "# La transition écologique du numérique (?)\n",
    "\n",
    "Plan :  \n",
    "\n",
    "* Constat écologique global\n",
    "* Détail sur le réchauffement climatique\n",
    "* Constat pour le numérique \n",
    "* Problématique du matériel\n",
    "  * Faire Durer\n",
    "  * Sobriété (ou Frugalité)\n",
    "  * (Optimiser), (Informer)\n",
    "  * (Optimiser) attention aux effets rebond\n",
    "  * (Informer) est-ce le métier de l'informaticien ou du communicant \n",
    "* En tant que développeur\n",
    "  * DD (développement durable, obsolescence, réparabilité, recyclage (?))\n",
    "  * Data-Center et Serveur de Calcul vs Terminaux ? ==>> organiser le logiciel en fonction (?)\n",
    "  * Sobriété/Frugalité (penser à essayer sur des machines anciennes ? éviter les algos trop couteux et les machines à la pointe ? éviter les codes peu utiles)\n",
    "  * Optimiser ? (Rappel) \n",
    "  * propositions de solutions globales :\n",
    "    * programmer pour un téléphone portable\n",
    "    * avoir une démarche Eroom   "
   ]
  },
  {
   "cell_type": "markdown",
   "id": "6304df4b-b878-4aab-bd8e-2e9cad2b49f1",
   "metadata": {
    "editable": true,
    "slideshow": {
     "slide_type": "slide"
    },
    "tags": []
   },
   "source": [
    "\n",
    "# Constats de la science (écologie)\n",
    "\n",
    "![PB_2022_green_water.png](PB_2022_green_water.png)\n",
    "\n",
    "Limites planétaires (source et illustration WKPD-2022) :  \n",
    "\n",
    "* **Changement climatique** (!!)\n",
    "* Érosion de la biodiversité  (!)\n",
    "* Modifications des usages des sols (!!)\n",
    "* Pollution chimique (nouvelles entités) (!) \n",
    "* Perturbation des cycles biochimiques de l'azote et du phosphore (!!)\n",
    "* Acidification des océans (OK)\n",
    "* Aérosols atmosphériques (!)\n",
    "* Diminution de la couche d’ozone (OK)\n",
    "* **Utilisation d’eau douce** (!)\n",
    "\n",
    "En **gras**, les domaines qui concernent le numérique."
   ]
  },
  {
   "cell_type": "markdown",
   "id": "01b40601-57da-49f8-9c0a-fbfb41b49906",
   "metadata": {
    "editable": true,
    "slideshow": {
     "slide_type": "skip"
    },
    "tags": []
   },
   "source": [
    "Commentaires libres (hors transparents)  \n",
    "```\n",
    "Rem. : le numérique est habitué à gérer les ressources avec attention\n",
    "(d'où la théorie de la complexité algorithmique pour utiliser le temps\n",
    "et l'espace à bon escient) ;\n",
    "la gestion des ressources de la planète devrait donc pouvoir être prise\n",
    "en compte par l'informatique  \n",
    "\n",
    "dans le désordre \\[remettre un peu d'ordre ou expliquer la logique]\n",
    "\n",
    "* parce que c'est un sujet (la gestion des ressources) familier\n",
    "pour les informaticiens\n",
    "* mais attention à ne pas le confondre avec une simple recherche\n",
    "de la meilleure complexité algorithmique\n",
    "(ce qui pourrait sembler évident et mènerait à un cours d'optimisation)\n",
    "* la problématique est plus complexe (il faut avoir une approche systémique,\n",
    "prenant en compte l'ensemble de la planète dans la durée)\n",
    "* il y aurait même possibilité (malheureuse) de faire un contresens\n",
    "en confondant optimisation\n",
    "et éco-transition du numérique (voir la suite)\n",
    "* tout comme en théorie de la complexité, il est trop simpliste de dire\n",
    "que le meilleur programme est le plus rapide ; cela dépend des objectifs,\n",
    "et parfois il faut faire des compromis entre rapidité\n",
    "et mémoire pour avoir le meilleur programme en fonction d'un objectif\n",
    "combinant les 2\n",
    "* rem finale/additionnelle : en théorie de la complexité des circuits,\n",
    "on pourrait aussi étudier le coût en terme de consommation électrique,\n",
    "si ce dernier n'était pas si difficile à calculer effectivement\n",
    "(la théorie est disponible, mais les calculs de coût énergétiques sont\n",
    "beaucoup plus coûteux que les calculs de temps et/ou de place)\n",
    "```"
   ]
  },
  {
   "cell_type": "markdown",
   "id": "a5356274-ce7a-4c76-9659-47d74b53f319",
   "metadata": {
    "editable": true,
    "slideshow": {
     "slide_type": "slide"
    }
   },
   "source": [
    "&nbsp;  \n",
    "Conclusion de ce premier point :  \n",
    "\n",
    "* on va se concentrer sur le problème du réchauffement climatique (et un peu de l'eau)\n",
    "\n",
    "![RechauffementClimatique.png](RechauffementClimatique.png)\n",
    "\n",
    "Réchauffement Climatique depuis 2000 ans (source initiale GIEC)"
   ]
  },
  {
   "cell_type": "markdown",
   "id": "b32e9196-f2f8-4ab9-ac6a-f1ff6edc0b27",
   "metadata": {
    "editable": true,
    "slideshow": {
     "slide_type": "skip"
    },
    "tags": []
   },
   "source": [
    "Commentaires libres (hors transparents)  \n",
    "```\n",
    "Remarques :  \n",
    "\n",
    "* début en 1850 (1 siècle avant le premier ordinateur)\n",
    "* pas accélération pour les GES (charbon avant, puis pétrole),\n",
    "mais accélération de la montée des températures ces dernières années\n",
    "(avec la diminution du charbon \\[qui produit aussi des poussières\n",
    "qui réduisent l'effet des gaz à effet de serre],\n",
    "les effets des GES étaient moins visibles)\n",
    "* les causes sont lointaines (la révolution industrielle),\n",
    "les effets visibles/forts sont plus récents, ce n'est pas la société moderne\n",
    "(post-seconde guerre mondiale) qui est (seulement) en cause,\n",
    "ni l'avènement de l'informatique, ou l'essort de la santé, ou de la science,\n",
    "ou de la démocratie libéro-socio-démocratico-populiste, ou de la financiarisation\n",
    "de l'économie, ou sa mondialisation/globalisation\n",
    "(il faut penser le changement sur 175 ans, pas juste sur ces 50 dernières années) ;\n",
    "il ne faut pas tout rejeter de la société moderne parce que la planète va mal\n",
    "(en particulier, l'informatique).\n",
    "```"
   ]
  },
  {
   "cell_type": "markdown",
   "id": "f5055676-1ce4-45ff-a9bf-10d41a4b9e53",
   "metadata": {
    "editable": true,
    "slideshow": {
     "slide_type": "slide"
    },
    "tags": []
   },
   "source": [
    "&nbsp;  \n",
    "\n",
    "# Sources des gaz à effet de serre\n",
    "\n",
    "![sources-emissions-gaz-effet-de-serre.png](sources-emissions-gaz-effet-de-serre.png)\n",
    "\n",
    "Source des gaz à effet de serre (illustration WKPD)\n",
    "\n",
    "Le numérique se trouve dans la part concernant l'énergie (consommation à l'utilisation) et l'industrie (production du matériel) : pour 2.5 % du total."
   ]
  },
  {
   "cell_type": "markdown",
   "id": "42bcca72-520d-4ab7-a328-dc3621803727",
   "metadata": {
    "editable": true,
    "slideshow": {
     "slide_type": "slide"
    },
    "tags": []
   },
   "source": [
    "\n",
    "# Forme et place du numérique\n",
    "\n",
    "Répartition du numérique (et des effets pour les GES) \\[illustration, ademe, 2020]\n",
    "\n",
    "![etude-prospective-numerique-environnement-ademe-arcep.png](etude-prospective-numerique-environnement-ademe-arcep.png)\n",
    "\n",
    "* 80 % : la fabrication (GES et Eau)\n",
    "* 20 % : la consommation/l'utilisation (GES)\n",
    "\n",
    "avec  \n",
    "\n",
    "* 80 % : les terminaux (ordinateurs bureau + écran, ordinateur portable (sans écran) ou avec écran supplémentaire, ou double écran, téléphones, gadgets, etc.)\n",
    "* 5 % : les réseaux\n",
    "* 15 % : les data-centers\n",
    "\n",
    "Ensemble : Il faut se concentrer en premier sur le matériel (informatique)"
   ]
  },
  {
   "cell_type": "markdown",
   "id": "001681c5-f272-4ba9-b282-e2720a95cb47",
   "metadata": {
    "editable": true,
    "slideshow": {
     "slide_type": "skip"
    },
    "tags": []
   },
   "source": [
    "Conclusions (pour l'informatique) :  \n",
    "\n",
    "* Il faut se concentrer en premier sur la (fabrication du) matériel (informatique), la question des économies d'énergie est (bien) moins importante.\n",
    "* 6 % de croissance par an (les émissions de GES liées au numérique) : de toute façon, comme pour tout évolution exponentielle, elle ne peut pas durer longtemps, il y a toujours un moment, qui arrive rapidement, ou cela déborde (idem, quand on a un algo de complexité exponentiel, il peut marcher pour de petites données, mais ne passera quasiment jamais à l'échelle \\[seule exception, si le passage à l'échelle ne concerne que des petites données, ce qui est rare])\n",
    " \n",
    "rem. :  \n",
    "\n",
    "* pour la plupart des matériels, les progrès technologiques ont amélioré (réduit) l'empreinte carbone (construction et consommation)\n",
    "* sauf pour les écrans de \"télévision\" dont la taille (et la qualité) à explosée\n",
    "* et/mais les usages ont ajouté leur coût, devant l'écran de \"télévision\", s'il existe encore, il n'est pas rare de voir aussi 1 ou 2 téléphones portables ou tablettes allumées qui lui font concurrence (i.e. : c'est la multiplication des écrans, chacun veut avoir le sien et faire 2-3 choses en même temps) ; finalement, le surcoût n'est pas forcément dans la construction (parfois meilleur), mais dans l'usage (qui explose)"
   ]
  },
  {
   "cell_type": "markdown",
   "id": "fbbaa101-865a-4566-9727-559ad1c40b4e",
   "metadata": {
    "editable": true,
    "slideshow": {
     "slide_type": "slide"
    },
    "tags": []
   },
   "source": [
    "\n",
    "# Focus sur le matériel\n",
    "\n",
    "Comment arriver à construire moins de matériel (informatique) ?\n",
    "\n",
    "Objectifs :  \n",
    "\n",
    "* **Faire durer** (si le matériel dure 2 fois plus longtemps, il faut en construire 2 fois moins)\n",
    "* **Frugalité/Sobriété** (limiter/réduire le besoin ?)\n",
    "* (Optimiser), (Informer)\n",
    "* autres ? (**Partager** ? => les serveurs et data-center ?)"
   ]
  },
  {
   "cell_type": "markdown",
   "id": "31b30491-a5c7-4007-9afa-5b59bc47ed5a",
   "metadata": {
    "editable": true,
    "slideshow": {
     "slide_type": "skip"
    }
   },
   "source": [
    "**En gras**, les parties importantes (explications à suivre, développées plus loin) ; (entre parenthèse), les parties moins importantes (explications à suivre également, rapidement, juste après)"
   ]
  },
  {
   "cell_type": "markdown",
   "id": "7dbb4b66-4d5c-4ff2-81b6-2ad24d065967",
   "metadata": {
    "editable": true,
    "slideshow": {
     "slide_type": "slide"
    },
    "tags": []
   },
   "source": [
    "\n",
    "# A propos des \"optimisations\" \n",
    "\n",
    "* Attention aux effets rebonds \n",
    "* Découverts/Formulés par William Stanley Jevons\n",
    "\n",
    "![Pantheon.png](Pantheon.png)\n",
    "\n",
    "sources WKPD^4\n",
    "\n",
    "![William_Stanley_Jevons_Logic_Piano.png](William_Stanley_Jevons_Logic_Piano.png)\n",
    "\n",
    "source WKPD"
   ]
  },
  {
   "cell_type": "markdown",
   "id": "32747a72-7e60-4575-8619-e8e8a416fc2c",
   "metadata": {
    "editable": true,
    "slideshow": {
     "slide_type": "skip"
    },
    "tags": []
   },
   "source": [
    "Commentaires libres (hors transparents)  \n",
    "```\n",
    "Distinguer les optimisations matérielles (qui peuvent entrer en conflit direct\n",
    "avec une démarche développement durable, si ces optimisations entraînent/nécessitent\n",
    "des renouvellements matériels plus rapides que les renouvellements naturels) ;\n",
    "à distinguer des optimisations logicielles qui n'entrent pas directement en conflit\n",
    "(cela peut être indirect, cependant), mais qui posent un autre soucis très important aussi,\n",
    "nommé : effet rebond. \n",
    "\n",
    "Dans la suite de ce point, on parle surtout d'optimisation logicielle,\n",
    "ce sont celles qui concernent plus directement les développeurs.\n",
    "\n",
    "* Attention aux effets rebonds \n",
    "* Découverts/Formulés par William Stanley Jevons (anglais, 19e ; (fin de) l'époque de Babbage) ! \n",
    "* Auteur d'une calculatrice logique (le piano logique, cf. illustration source WKPD)\n",
    "```"
   ]
  },
  {
   "cell_type": "markdown",
   "id": "5062ecd3-93df-44e1-9884-9a6626198ae7",
   "metadata": {
    "editable": true,
    "slideshow": {
     "slide_type": "slide"
    }
   },
   "source": [
    "&nbsp;  \n",
    "* Définition de la notion d'effet rebond (aka Paradoxe de Jevons):  \n",
    "```\n",
    "A mesure que les améliorations technologiques augmentent l'efficacité \n",
    "  avec laquelle une ressource est employée, \n",
    "la consommation totale de cette ressource \n",
    "  peut augmenter au lieu de diminuer (!)\n",
    "```\n",
    "(c'est par exemple le cas, quand la satisfaction des besoins n'a pas encore atteint les limites de la production)  \n",
    "\n",
    "\\[donner peut-être des exemples ici ; des exemples arrivent ensuite, certes]\n",
    "\n",
    "* En informatique : c'est connu sous la forme de la loi de Wirth (vs loi de Moore)  \n",
    "```\n",
    "Les programmes ralentissent plus vite que le matériel n'accélère\n",
    "```\n",
    "\n",
    "(autre formulation : ```ce que Intel te donne, Microsoft te le reprend```)"
   ]
  },
  {
   "cell_type": "markdown",
   "id": "80797b5f-9843-4c13-9fb5-62a17ad7dc8a",
   "metadata": {
    "editable": true,
    "slideshow": {
     "slide_type": "slide"
    }
   },
   "source": [
    "&nbsp;  \n",
    "Pour la loi de Moore (source WKPD) :  \n",
    "\n",
    "![Moore's_Law_Transistor_Count_1970-2020.png](Moore's_Law_Transistor_Count_1970-2020.png)\n",
    "\n",
    "```\n",
    "Doublement du nombre de transistors présents\n",
    "  sur une puce de microprocesseur\n",
    "  tous les deux ans\n",
    "```"
   ]
  },
  {
   "cell_type": "markdown",
   "id": "6bb8bc20-7e45-4bd6-91a8-5fb2c05ea616",
   "metadata": {
    "editable": true,
    "slideshow": {
     "slide_type": "skip"
    },
    "tags": []
   },
   "source": [
    "Commentaires libres (hors transparents)  \n",
    "```\n",
    "sur la loi de Moore : elle a constitué une source de gains (matériels) très importants,\n",
    "qui auraient pu/du être à la base d'innovations et de progrès et même de comportements vertueux\n",
    "(pour la consommation), mais qui (pouvaient) entrer en contradiction avec\n",
    "les principes du développement durable\n",
    "(construction, si nécessite renouvellement plus rapide que le renouvellement naturel)\n",
    "et qui a aussi subi les contre-coût des effets rebonds)\n",
    "```"
   ]
  },
  {
   "cell_type": "markdown",
   "id": "98e05cf5-0ff2-4ca2-9c2c-bdf60ac9639a",
   "metadata": {
    "editable": true,
    "slideshow": {
     "slide_type": "slide"
    }
   },
   "source": [
    "&nbsp;  \n",
    "Conclusion locale sur les optimisations (logicielles) :  \n",
    "\n",
    "* Optimiser, oui, si le reste a été fait (effort pour la durabilité, la sobriété) \n",
    "* Dans un cadre attentif à éviter les effets rebond\n",
    "* et Attention à ce que cela ne soit pas la part du colibri (il y a peut-être mieux à faire pour le colibri que d'apporter sa goutte d'eau pour éteindre l'incendie)"
   ]
  },
  {
   "cell_type": "markdown",
   "id": "b818f821-db78-43c2-9e6d-4074224262c2",
   "metadata": {
    "editable": true,
    "slideshow": {
     "slide_type": "slide"
    },
    "tags": []
   },
   "source": [
    "\n",
    "# A propos du volet \"Information\"  \n",
    "\n",
    "* Informer : donner les indicateurs pour contrôler, étudier la gestions de ses ressources\n",
    "* Expliquer : comment arriver aux solutions (les plus efficaces)\n",
    "* Convertir (?) : à une démarche durable/éco-responsable (?)\n",
    "* mais ce n'est pas de l'informatique (de développeur), c'est (plus) le métier des communicants"
   ]
  },
  {
   "cell_type": "markdown",
   "id": "ffa1fb36-0b7c-456d-ad88-344f58d4cf55",
   "metadata": {
    "editable": true,
    "slideshow": {
     "slide_type": "slide"
    }
   },
   "source": [
    "&nbsp;  \n",
    "**Mini-pause (fin du constat et des principes généraux)**\n",
    "\n",
    "(l'informatique n'est pas le problème (principal), ni la solution, mais doit pouvoir agir à son niveau)  \n",
    "\n",
    "Bilan/Question à mi-parcours : Que faire quand on est développeur (au courant de la part matérielle de l'informatique et de son impact sur l'environnement) ?  \n",
    "\n",
    "(Le programmeur ne va pas changer la construction des machines, et pourtant il peut agir !)\n",
    "\n",
    "À suivre, 4 pistes (peut-être réduites) et 2 propositions de solutions (qui se veulent) plus globales."
   ]
  },
  {
   "cell_type": "markdown",
   "id": "0f289256-9abc-4b46-9cde-793ec673fa8a",
   "metadata": {
    "editable": true,
    "slideshow": {
     "slide_type": "slide"
    },
    "tags": []
   },
   "source": [
    "\n",
    "# En tant que développeur, pistes de solution 1 : le Développement Durable ?\n",
    "\n",
    "Comment faire durer les machines plus longtemps ?   \n",
    "\n",
    "* Mot clé : Développement Durable\n",
    "* Ne pas changer de matériel trop souvent (pression commerciale vs pression technique)\n",
    "* problème principal (?), l'Obsolescence ((non-)programmée) \n",
    "* autre piste, la Réparabilité \n",
    "* autre piste, le Recyclage (?)"
   ]
  },
  {
   "cell_type": "markdown",
   "id": "9e02021f-25b1-4d7a-9f47-0c9e7de3a53e",
   "metadata": {
    "editable": true,
    "slideshow": {
     "slide_type": "skip"
    },
    "tags": []
   },
   "source": [
    "Commentaires libres (hors transparents)  \n",
    "```\n",
    "pour aller au delà, raisonner de manière systémique, en cycle de vie ?\n",
    "ACV : analyse du cycle de vie \\[phases de conception, de production, d'utilisation,\n",
    "d'élimination\n",
    "; en entrées des ressources, en sortie des résidus/déchets])\n",
    "\n",
    "* sur l'Obsolescence ((non-)programmée) : attention aux nouveautés technologiques\n",
    "(pression commercial, bis), est-ce que votre machine ne tourne plus assez vite\n",
    "pour les programmes courants ? est-ce que les mise à jours de sécurité\n",
    "ne sont plus disponibles ? Si ce n'est pas le cas, pourquoi changer de machine ?\n",
    "* autre piste, la Réparabilité : prendre soin de son matériel et le réparer\n",
    "tant que c'est possible ; la réparabilité n'est pas encore l'objectif\n",
    "des constructeurs mais peut le devenir, ce sera plus simple si c'est le cas\n",
    "dès la conception, pour cela à l'achat, faire pression,\n",
    "par ex. en prenant/payant les allongements de garantie (contre-pression des utilisateurs)\n",
    "* autre piste (finale), le recyclage (?), la récupération des déchets\n",
    "(déchets d'équipements électriques et électroniques \\[on parle de DEEE ou D3E],\n",
    "22% sur la planète en 2022, la quantité de déchets augmente plus vite que leur recyclage) :\n",
    "de toute façon, si le numérique continue de croître, cela ne sera pas une solution\n",
    "(au problème des ressources rares), cela retardera juste un peu le moment\n",
    "où les limites seront atteintes\n",
    "```"
   ]
  },
  {
   "cell_type": "markdown",
   "id": "b8dbae7a-e4e6-4e5f-96fd-2d0599b6ebc3",
   "metadata": {
    "editable": true,
    "slideshow": {
     "slide_type": "slide"
    }
   },
   "source": [
    "&nbsp;  \n",
    "Pour bien comprendre l'effet de la durée de vie d'une machine sur l'émission de GES : \n",
    "\n",
    "![GesOrdiDureeVie2024.png](GesOrdiDureeVie2024.png)\n",
    "\n",
    "Coût annuel, d'un ordinateur (en GES, en France ; ailleurs le coût annuel de l'utilisation serait significativement plus fort (*5 ?), sauf à avoir de l'électricité verte ; mais le résultat serait sensiblement le même), \n",
    "Exemple :  \n",
    "\n",
    "* Durée de vie usuelle d'un ordinateur (portable sans écran supplémentaire) : entre 3 et 8 ans (il y a  aujourd'hui des garanties de 7 ans)\n",
    "* Pour 3 ans : 250 kg + 3 * 10 kg = 280 kg, soit ~90 kg/an\n",
    "* pour 7 ans : 250 kg + 7 * 10 kg = 320 kg, soit ~45 kg/an"
   ]
  },
  {
   "cell_type": "markdown",
   "id": "9c83889f-9289-4760-88b2-c15be595f036",
   "metadata": {
    "editable": true,
    "slideshow": {
     "slide_type": "skip"
    },
    "tags": []
   },
   "source": [
    "Commentaires libres (hors transparents)  \n",
    "```\n",
    "Rem. :  \n",
    "\n",
    "* faire durer plus longtemps n'est pas toujours possible ou le plus efficace\n",
    "* cela dépend des progrès technos matériels et/ou logiciels,\n",
    "s'ils sont matériels et trop importants, trop rapides\n",
    "(et c'était peut-être le cas dans les années 70-90 pour les ordis ;\n",
    "dans les années 2000-20 pour les téléphones portables),\n",
    "les gains apportés par les nouvelles technologies n'étaient pas au niveau\n",
    "de ce que pouvaient apporter la conservation (DD) des anciens matériels,\n",
    "il y avait un choix impossible entre innovation technologique et développement durable\n",
    "* aujourd'hui, ordi et téléphones évoluent encore, mais à quelle vitesse (plutot lente)\n",
    "et pour le matériel ? ou le logiciel ? (ralentissement de l'évolution matérielle)\n",
    "* et quel sera la prochaine techno (quantique ? IA ?) pour quels apports et à quelle vitesse ?\n",
    "* Ecrans et ordinateurs (ils peuvent être séparés, avoir des vies indépendantes,\n",
    "attention, à ne pas les multiplier ou à l'augmentation des tailles)\n",
    "\n",
    "Exemple de problèmes (?) :  \n",
    "\n",
    "* Arrêt prévu des mises à jours de Windows 10 prévue en Oct. 2025 (?)\n",
    "après 10 ans \\[Windows11 a pris la relève en 2021, environ depuis ~5 ans] :\n",
    " https://www.greenit.fr/2024/01/16/fin-de-windows-10-37-276-687-millions-de-tonnes-eq-co2-evitables/\n",
    "```"
   ]
  },
  {
   "cell_type": "markdown",
   "id": "950b0b5f-e35f-4f81-95f8-cc082bbd6fb9",
   "metadata": {
    "editable": true,
    "slideshow": {
     "slide_type": "slide"
    },
    "tags": []
   },
   "source": [
    "&nbsp;\n",
    "\n",
    "# En tant que développeur, piste 2 : Data-Center et Serveur de Calcul vs Terminaux (peut-on partager certains coûts ? doit-on centraliser ?) ?\n",
    "\n",
    "![20190922_03_Groningen_Professor_Uilkensweg_Bytesnet_datacenter_dRoot.png](20190922_03_Groningen_Professor_Uilkensweg_Bytesnet_datacenter_dRoot.png)\n",
    "\n",
    "Constats :  \n",
    "\n",
    "* les data-centers consomment beaucoup d'électricité\n",
    "* les data-centers produisent beaucoup de GES (construction)\n",
    "* mais les data-centers ne représentent que 15% du numérique \n",
    "  * et l'ensemble du numérique, ce n'est que 3% des émissions de CO2 (en france, 2022)\n",
    "* (attention, les discours sur le sujet sont rarement neutres) \n",
    "\n",
    "Points positifs pour les data-centers :  \n",
    "\n",
    "* Centralisme/effet de taille \n",
    "* Chaleur produite ==>> perdue vs exploitée ? (mais c'est 1% / industrie)\n",
    "* Perspectives d'arriver à la neutralité carbone prochainement\n",
    "* Sans les data-centers, il faudrait d'autres solutions (moins sobres ?)\n",
    "* Développement de solutions innovantes : Edge-Computing, Gestion de l'énergie renouvelable intermittente\n",
    "\n",
    "Points négatifs contre les data-centers :  \n",
    "\n",
    "* Effet rebond (ex. Netflix vs Dvd)\n",
    "* Selon les perspectives pessimistes, les data-centers peuvent être un problème demain\n",
    "* Le taux d'utilisation des data-centers est un problème \n",
    "* les avantages (?) et les coûts de la redondance : 60% du coût d'un DC (pourrait être pire ?)\n",
    "\n",
    "Conclusions :  \n",
    "\n",
    "* Améliorer les data-centers, suivre le niveau d'éco-responsabilité des data-centers, bien les dimensionner\n",
    "* Trouver le bon mix traitement/donnée pour data-centers vs terminaux \n",
    "* Eviter les effets rebond\n",
    "* Rendez-vous en 2030 : Si neutre, alors on utilise ? mais si l'accélération continue alors on évite ?"
   ]
  },
  {
   "cell_type": "markdown",
   "id": "b9581268-18f2-4826-9953-ff4139d43c69",
   "metadata": {
    "editable": true,
    "slideshow": {
     "slide_type": "skip"
    },
    "tags": []
   },
   "source": [
    "Commentaires libres (hors transparents)  \n",
    "```\n",
    "* les data-centers consomment beaucoup d'électricité\n",
    "(et parfois d'eau pour le refroidissement \\[river cooling],\n",
    "mais pas toujours \\[free colling]) avec un objectif d'utiliser\n",
    "du renouvelable mis en avant (objectif neutralité popur 2030)\n",
    "\n",
    "Pour les data-centers :  \n",
    "\n",
    "* Centralisme (permet des effets d'échelle, en particulier pour\n",
    "la mise en place de solutions techno innovantes et éco-responsable)\n",
    "et l'utilisation de constructions (récentes) efficaces/économes\n",
    "(PUE proche de 1 : Power Usage Effectivemeness, mais charge ?)\n",
    "\n",
    "Contre les data-centers :  \n",
    "\n",
    "* Effet rebond, ex. NetFlix, le streaming d'un film est vertueux comparé\n",
    "à l'achat d'un DVD (pour un usage unique), mais le nb de films/séries\n",
    "vus a explosé !\n",
    "* Le taux d'utilisation des data-centers est un problème\n",
    "(il est faible ==>> mauvais pour la planète ;\n",
    "il est fort ==>> le service rendu est de moins bonne qualité,\n",
    "la concurrence peut gagner des parts de marché avec un taux plus faible\n",
    " \\[comme pour la tragédie des communs, l'auto-organisation du secteur peut\n",
    " mener à des solutions non profitable à la planète])\n",
    "\n",
    "Conclusions :  \n",
    "\n",
    "* Améliorer les data-centers, suivre le niveau d'éco-responsabilité\n",
    "des data-centers (pue, charge, neutralité carbone des sources d'énergie,\n",
    "localisation et autres), en particulier bien les dimensionner\n",
    "(70% des entreprises ne connaissent pas la charge de leurs machines,\n",
    "et seulement 12% des machines sont avec une charge > 60%)\n",
    "```"
   ]
  },
  {
   "cell_type": "markdown",
   "id": "1b88d311-2b4e-46cf-b577-3f3b3f6d7233",
   "metadata": {
    "editable": true,
    "slideshow": {
     "slide_type": "slide"
    },
    "tags": []
   },
   "source": [
    "&nbsp;  \n",
    "\n",
    "# En tant que développeur, piste 3 : la Sobriété ?\n",
    "\n",
    "* penser à essayer sur des machines anciennes\n",
    "* éviter les algos trop coûteux ou les modes irresponsables (boucles/défilements infinis)\n",
    "* éviter les machines ou les technos à la pointe\n",
    "* éviter les modes irresponsables (ex. : les boucles infinies comme le défilement à l'infini)\n",
    "* attention aux librairies obèses et aux codes peu utiles (obésiciel : logiciel-obèse)\n",
    "* prévoir les mises à jour de sécurités indépendantes des ajouts de fonctionnalités (plus coûteuses)\n",
    "* prévoir des ajouts de fonctionnalités (rares) indépendantes\n",
    "\n",
    "mais, attention :  \n",
    "\n",
    "* un peu de mesure\n",
    "* parfois, il faut aussi des algos coûteux, des machines performantes, etc. \n",
    "* il faut réfléchir globalement (pensée systémique \\[ex. étudier pour apprendre ou pour le diplôme ?])\n",
    " \n",
    "Quelques contre-exemples de frugalité (exemple à ne pas suivre, rendu possible par effet rebond de l'augmentation des performances des machines, sans conservation/réduction de leur usage courant) :  \n",
    "\n",
    "* VsCode et les sauvegardes ou la compilation en permanence\n",
    "* YouTube vs ChatGpt vs StackOverflow vs Wikipédia\n",
    "* Algorithmes de suggestions, addictifs, à l'infini"
   ]
  },
  {
   "cell_type": "markdown",
   "id": "0d7b9319-7d5e-4db9-a047-c9ef8fc6abe7",
   "metadata": {
    "editable": true,
    "slideshow": {
     "slide_type": "skip"
    }
   },
   "source": [
    "Commentaires libres (hors transparents)  \n",
    "```\n",
    "détail pb, vs-code (pour afficher les erreurs au fur et à mesure)\n",
    "à distance sur im2ag-turing (limites atteintes !)\n",
    "solution, compiler en local ? limiter la compilation permanente (en directe),\n",
    "idem pour les sauvegardes ? à n'utiliser que s'il y a une plus value (pour l'apprentissage)\n",
    "```"
   ]
  },
  {
   "cell_type": "markdown",
   "id": "d085cf8c-c4b6-42ce-a3a9-816c42ad90a2",
   "metadata": {
    "editable": true,
    "slideshow": {
     "slide_type": "slide"
    },
    "tags": []
   },
   "source": [
    "&nbsp;  \n",
    "\n",
    "# (En tant que développeur, piste 4 : Optimiser ? (Rappel))\n",
    "\n",
    "(rappel) :  \n",
    "\n",
    "* Attention aux effets rebond\n",
    "* Optimiser seulement si DD et Sobre déjà fait (c'est plus important)\n",
    "* Rappel de L2 : pour Optimiser, le **developpeur** peut aider, le **compilateur** et la **machine** aussi ; le plus efficace, c'est quand tout le monde s'y met et respecte les contraintes des autres \n",
    "  * Eviter les ruptures de séquences (conditionnelles) pour éviter de rompre les pipe-lines matériels\n",
    "  * Prévoir et faciliter les apports des caches (matériels, réseaux, logiciels, etc.) et de la hiérarchie mémoire (favoriser les principes de localité spatiale et temporelle)\n",
    "  * Utiliser les potentialités des multi-coeurs (plutôt que d'avoir un ordi surdimensionné // ou avoir un ordi à la puissance bien dimensionnée !)\n",
    "  * Reduire les contraintes de précédence de l'exécution dans le desordre pour améliorer les optimisations du compilateur\n",
    "  * Utiliser la récursivité (et les fonctions) à bon escient, pour que cela soit un gain et non pas un surcoût\n",
    "  * Ajuster la taille des données (numériques ou textuelles) à leur réelle nécessité"
   ]
  },
  {
   "cell_type": "markdown",
   "id": "e15cbe2f-282c-45a8-a37f-fc227bfb2687",
   "metadata": {
    "editable": true,
    "slideshow": {
     "slide_type": "slide"
    }
   },
   "source": [
    "&nbsp;  \n",
    "Pour votre information : \n",
    "\n",
    "![energy-efficient-languages-768x689.png](energy-efficient-languages-768x689.png)\n",
    "\n",
    "Efficacité des langages de programmation\n",
    "\n",
    "Si vous voulez un exemple :  \n",
    "* voir [ici](optimiser.ipynb)"
   ]
  },
  {
   "cell_type": "markdown",
   "id": "a601b961-71bc-4482-b697-c84ab959e1ec",
   "metadata": {
    "editable": true,
    "slideshow": {
     "slide_type": "slide"
    },
    "tags": []
   },
   "source": [
    "\n",
    "# Propositions de solution globale 1 : Développer pour les téléphones portables (?)\n",
    "\n",
    "* programmer pour un téléphone portable (un peu ancien) ou des terminaux/ordinateurs (un peu ancien) peu puissants (avec écran limité),\n",
    "* les ressources peuvent être déportées (sur les serveurs et data-centers ?)\n",
    "* source : Numérique Eco-Responsable, https://www.greenit.fr/\n",
    "* 115 bonnes pratiques pour le developpement web : https://collectif.greenit.fr/ecoconception-web/115-bonnes-pratiques-eco-conception_web.html"
   ]
  },
  {
   "cell_type": "markdown",
   "id": "2c0735d3-03d1-4c98-8cca-5d3c4e88023f",
   "metadata": {
    "editable": true,
    "slideshow": {
     "slide_type": "slide"
    },
    "tags": []
   },
   "source": [
    "&nbsp;  \n",
    "\n",
    "# Propositions de solution globale 2 : Démarche erooM (?)\n",
    "\n",
    "Avoir une démarche erooM :  \n",
    "\n",
    "```\n",
    "erooM ,\n",
    "  c’est la décision d’optimiser le logiciel existant\n",
    "  d’un facteur deux\n",
    "  tous les deux ans\n",
    "```\n",
    "\n",
    "\n",
    "Dans la pratique, organiser son travail en 3 temps (au cours de la vie du logiciel) :  \n",
    "\n",
    "* temps 1 : Développer (sobre et durable)\n",
    "* temps 2 : Stabiliser\n",
    "* temps 3 (récurrent) : Optimiser (pour revenir à une dépense énergétique soutenable/compatible avec les limites planétaires à fonctionnalités équivalentes), objectif : diminuer par 2 tous les 2 ans le coût GES.\n",
    "\n",
    "ou  \n",
    "\n",
    "* travailler avec une idée des ressources limitées\n",
    "* ressources à ne pas dépasser, compatibles avec les vieilles machines\n",
    "* et améliorer encore (pour revenir à une dépense énergétique soutenable)\n",
    "\n",
    "Remarques :   \n",
    "\n",
    "* une différence importante entre loi de Moore et démarche erooM : matériel vs logiciel. \n",
    "* mais des similarités (à surveiller) : sensible aux effets rebonds\n",
    "\n",
    "Illustration\n",
    "\n",
    "![demarcheEroom.png](demarcheEroom.png)\n",
    "\n",
    "source blog Octo https://blog.octo.com\n"
   ]
  },
  {
   "cell_type": "markdown",
   "id": "46effae8-f645-47ed-87eb-e653b653e63d",
   "metadata": {
    "editable": true,
    "slideshow": {
     "slide_type": "skip"
    },
    "tags": []
   },
   "source": [
    "Commentaires libres (hors transparents)  \n",
    "```\n",
    "erooM ? (le nom n'est pas important, c'est Moore à l'envers ;\n",
    "l'important c'est d'arriver à faire décroître l'empreinte carbone,\n",
    "ce qu'aurait du avoir comme conséquence la loi de Moore s'il n'y avait pas\n",
    "eu d'effets rebond\n",
    "ou si elle n'avait pas été matérielle et (trop) rapide) \n",
    "\n",
    "La loi de Moore a porté l'innovation et le numérique depuis 50 ans (et +),\n",
    "mais elle s'essoufle (et entre en collision avec les limites planétaires) ;\n",
    "pour ne pas perdre ses bienfaits (et la planète en aura peut-être besoin,\n",
    "c'est le Green-By-IT),\n",
    "il faut remplacer ces gains technologiques/matériels par des gains logiciels\n",
    "(renverser la loi de Wirth, si c'est possible)\n",
    "```"
   ]
  },
  {
   "cell_type": "markdown",
   "id": "d82bed90-c99b-44fe-acd7-212ae60e4aa2",
   "metadata": {
    "editable": true,
    "slideshow": {
     "slide_type": "slide"
    },
    "tags": []
   },
   "source": [
    "&nbsp;  \n",
    "\n",
    "# Conclusion et Remarques finales\n",
    "\n",
    "* L'important, c'est (vraiment) du côté machine !\n",
    "  * il faut les faire durer, c'est l'essentiel, aujourd'hui (c'est le côté construction, 80% !)\n",
    "  * il faut viser une consommation électrique qui reste sobre (compatible avec la planète, ce qui est possible, la part de la consommation n'est pas encore si grande), et surtout ne pas chercher à croître sans limite (on doit pouvoir se satisfaire de la croissance de Moore ou de erooM)\n",
    "  * (et attention de ne pas engendrer des effets rebonds pour les optimisations)\n",
    "  * (le reste, les usages, nous concernent, mais, en tant que développeur, nous n'en sommes pas les principaux responsables)\n",
    "* Programmer de manière éco-responsable (**vert**ueusement) peut/doit être bénéfique à la planète, à l'utilisateur, à l'entreprise (rechercher un équilibre de Pareto ?) : la planète ira mieux, pour l'entreprise cela pourra participer à son image de marque (attention, pas du green-washing) et l'utilisateur se portera mieux dans sa tête.\n",
    "* Le travail le plus important (pour l'éco-transition du numérique) n'est pas au moment du développement, mais en amont et en aval, dans les choix (d'architectures matérielles et logicielles) et les infrastructures utilisées (le mix Data-Center - Terminaux)"
   ]
  },
  {
   "cell_type": "markdown",
   "id": "595704c1-35a6-4d35-91f2-e27e932d6130",
   "metadata": {
    "editable": true,
    "slideshow": {
     "slide_type": "slide"
    },
    "tags": []
   },
   "source": [
    "\n",
    "# Références\n",
    "\n",
    "* Pour une transition numérique écologique, Rapports d'information au Senat n° 555, Juin 2020,  Guillaume CHEVROLLIER et Jean-Michel HOULLEGATTE\n",
    "* Green IT : les clés pour des projets informatiques plus responsables, 2022, Margerie Guilliot, Raphaël Lemaire, Sylvain Revereault, ENI édition\n",
    "* Ecoconception web : les 115 bonnes pratiques, 4ème édition, mai 2022, Frédéric Bordage / GreenIT.fr, Ed. Eyrolles\n",
    "* Datacenter, Maîtriser et optimiser son impact environnemental, Livre Blanc, Alliance Green IT\n",
    "* Démarche erooM : https://blog.octo.com/octo-article-de-blog-4"
   ]
  }
 ],
 "metadata": {
  "jpcodetoc-autonumbering": true,
  "kernelspec": {
   "display_name": "Bash",
   "language": "bash",
   "name": "bash"
  },
  "language_info": {
   "codemirror_mode": "shell",
   "file_extension": ".sh",
   "mimetype": "text/x-sh",
   "name": "bash"
  },
  "rise": {
   "auto_select": "none",
   "footer": "<span style='z-index:99; position:relative; left:100%; bottom:3px; font-size:16px;'>Denis Bouhineau --- Automne 2024</span>",
   "header": "<img src='https://moodle.caseine.org/pluginfile.php/251364/mod_label/intro/logoUGA.png' style='z-index:99; position:fixed;'>UGA",
   "scroll": true,
   "slideNumber": "c"
  },
  "scenes_data": {
   "active_scene": "Default Scene",
   "init_scene": "",
   "scenes": [
    "Default Scene"
   ]
  },
  "title": "Cours 6 : Perspectives"
 },
 "nbformat": 4,
 "nbformat_minor": 5
}
