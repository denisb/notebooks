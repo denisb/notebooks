{
 "cells": [
  {
   "cell_type": "markdown",
   "id": "f102f00b-2b68-4c2d-aa30-f461d0c6d37f",
   "metadata": {
    "editable": true,
    "slideshow": {
     "slide_type": ""
    },
    "tags": []
   },
   "source": [
    "# Critère de divisibilité, quotient et reste\n",
    "\n",
    "Reconnaître qu'un nombre est multiple de 2, 4, 5, 8, 10,... est (quasi) immédiat.  \n",
    "Pour reconnaître qu'un nombre est multiple de 3, 6, 9, 12,... c'est un peu plus compliqué, mais, depuis longtemps, on sait faire sans grands calculs (réduction par addition des chiffres).  \n",
    "Pour les multiples de 7, 11, 13,... le calcul de la division euclidienne est toujours possible mais plus coûteux (sous réserve que l'on sache encore faire une division euclidienne). Pourtant il existe des méthodes (chacune spécifique du nombre en question) permettant de se ramener à des calculs similaires à ceux de la preuve par 9 (réduction par addition ou soustraction). Par exemple pour 7, il *suffit* de soustraire aux dizaines 2 fois les unités et de recommencer jusqu'à obtenir un petit nombre. Exemple numérique dans l'exemple, 2023 => 202 - 2*3 = 196 => 19 - 2*6 = 7 montre que 2023 est multiple de 7. Cependant ces méthodes sont moins connues car le choix du facteur 2 et de la soustraction (ou de la multiplication) dépendent de 7. Pour connaître les facteurs pour 11, 13,... voir [https://fr.wikipedia.org/wiki/Liste_de_crit%C3%A8res_de_divisibilit%C3%A9](https://fr.wikipedia.org/wiki/Liste_de_crit%C3%A8res_de_divisibilit%C3%A9).  Il y a autant de méthodes que de nombres, chacun a ses coefficient et son choix addition/soustraction spécifiques, ce n'est pas pratique, il faudrait connaître tous ces coefficients par cœur (ou savoir les retrouver) et savoir s'il faut additionner ou soustraire. On peut se rappeler de 2/Soustaction pour 7, 1/Soustraction pour 11, 4/Addition pour 13,... \n",
    "\n",
    "\n",
    "C'est rarement explicité (ni expliqué) mais ces méthodes sont liées à la base 10 et conviennent bien avec le calcul mental, mais moins avec les calculs sur machine (qui s'effectuent en binaire). \n",
    "\n",
    "\n",
    "Pourtant, si l'on pense binaire, on peut trouver une méthode similaire (par réduction via des additions) sans paramètres et beaucoup plus efficace en machine.  \n",
    "Supposons donc que l'on veuille trouver si N (un nombre quelconque) est multiple de M :   \n",
    "\n",
    "* Si N et M sont tous les deux **pairs**, on peut les diviser tous les deux par 2 (ce qui est assez facile en décimal et immédiat sur machine). Le nouveau N sera multiple de M ssi le précédent N était multiple de M.\n",
    "* Si N est **impair** et M **pair**, alors N ne sera pas multiple de M.\n",
    "* Si N est **pair** et M **impair**, alors on peut diviser N par 2. Le nouveau N sera multiple de M ssi le précédent N était multiple de M.\n",
    "* Si N et M sont **impairs**, alors on peut soustraire M de N (ou l'additionner), cela ne change pas le critère de divisibilité, mais le nouveau N est pair, on peut alors se ramener au cas précédent, et diviser N par 2.\n",
    "\n",
    "Dans tous les cas, à chaque étape, on fait une division par 2 (ou on conclue), la méthode s'arrête assez vite.\n",
    "\n",
    "\n",
    "Exemple pour N=2023 et M=7 : 2023 => (2023 - 7) / 2 = 1008 => 1008 / 2 = 504 => 504 / 2 = 252 => 252 /2 = 126 => 126 / 2 = 63 => (63 - 7) / 2 = 28 => 28 / 2 = 14 => 14 / 2 = 7.  \n",
    "\n",
    "Remarques :  \n",
    "\n",
    "* la méthode semble plus longue, c'est exacte, car elle repose sur des divisions/décomposition par 2 au lieu de divisions/décomposition par 10, elle est donc environ 3 fois plus longue, mais reste en temps linéaire selon le nombre de chiffres de N\n",
    "* en utilisant la méthode avec soustraction, l'alternance des pairs/impairs permet de trouver le quotient poids faible d'abord quand le nombre est multiple (quand le nombre n'est pas multiple c'est encore possible mais plus compliqué et n'est plus poids faible d'abords)."
   ]
  },
  {
   "cell_type": "markdown",
   "id": "6c61a576-3c66-40fc-9d4d-41b8a9c87215",
   "metadata": {},
   "source": [
    "# Code - Vrac - Annexes"
   ]
  },
  {
   "cell_type": "markdown",
   "id": "51342718-ef04-4a51-bf65-db8b327b719e",
   "metadata": {},
   "source": [
    "## Critère de divisibilité/multiplicité"
   ]
  },
  {
   "cell_type": "code",
   "execution_count": 1,
   "id": "23ab3282-82d6-4567-8dd2-bfb7d32fd489",
   "metadata": {},
   "outputs": [],
   "source": [
    "def pair(V):\n",
    "    return (V&1)==0\n",
    "\n",
    "def impair(V):\n",
    "    return (V&1)==1"
   ]
  },
  {
   "cell_type": "code",
   "execution_count": 2,
   "id": "fdc76277-e833-4d04-b3ff-70241b922434",
   "metadata": {},
   "outputs": [],
   "source": [
    "def multipleDe(V,M):\n",
    "    match V,M :\n",
    "        case 0,M : return True\n",
    "        case V,M if V==M : return True\n",
    "        case V,M if 0<V<M : return False\n",
    "        case V,M if pair(V) and pair(M) : return multipleDe(V >> 1,M >> 1)\n",
    "        case V,M if pair(V) and impair(M) : return multipleDe(V >> 1,M)\n",
    "        case V,M if impair(V) and pair(M) : return False\n",
    "        case V,M if impair(V) and impair(M) : return multipleDe((V-M) >> 1,M)\n",
    "        case _ : return \"not defined\""
   ]
  },
  {
   "cell_type": "code",
   "execution_count": 3,
   "id": "b71ba59c-f7b5-4964-9fef-eab28fcdd1a5",
   "metadata": {},
   "outputs": [
    {
     "data": {
      "text/plain": [
       "True"
      ]
     },
     "execution_count": 3,
     "metadata": {},
     "output_type": "execute_result"
    }
   ],
   "source": [
    "multipleDe(2023,7)"
   ]
  },
  {
   "cell_type": "code",
   "execution_count": 4,
   "id": "55d3efd6-f984-4cd1-b279-305b9716a343",
   "metadata": {
    "scrolled": true
   },
   "outputs": [
    {
     "name": "stdout",
     "output_type": "stream",
     "text": [
      "0 True\n",
      "1 False\n",
      "2 False\n",
      "3 False\n",
      "4 False\n",
      "5 False\n",
      "6 False\n",
      "7 True\n",
      "8 False\n",
      "9 False\n",
      "10 False\n",
      "11 False\n",
      "12 False\n",
      "13 False\n",
      "14 True\n",
      "15 False\n",
      "16 False\n",
      "17 False\n",
      "18 False\n",
      "19 False\n",
      "20 False\n",
      "21 True\n",
      "22 False\n",
      "23 False\n",
      "24 False\n",
      "25 False\n",
      "26 False\n",
      "27 False\n",
      "28 True\n",
      "29 False\n",
      "30 False\n",
      "31 False\n",
      "32 False\n",
      "33 False\n",
      "34 False\n",
      "35 True\n",
      "36 False\n",
      "37 False\n",
      "38 False\n",
      "39 False\n",
      "40 False\n",
      "41 False\n",
      "42 True\n",
      "43 False\n",
      "44 False\n",
      "45 False\n",
      "46 False\n",
      "47 False\n",
      "48 False\n",
      "49 True\n"
     ]
    }
   ],
   "source": [
    "for i in range(50):\n",
    "    print(i,multipleDe(i,7))"
   ]
  },
  {
   "cell_type": "code",
   "execution_count": 5,
   "id": "56b7a525-4b5e-4130-994e-c5e5bd6ac0b5",
   "metadata": {},
   "outputs": [
    {
     "name": "stdout",
     "output_type": "stream",
     "text": [
      "fin\n"
     ]
    }
   ],
   "source": [
    "for V in range(100000):\n",
    "    if multipleDe(V,7) != (V%7==0):\n",
    "        print(V,multipleDe(V,7),V%7)\n",
    "print(\"fin\")"
   ]
  },
  {
   "cell_type": "code",
   "execution_count": 6,
   "id": "4aebb19d-63f9-4560-9072-4852be58c706",
   "metadata": {},
   "outputs": [
    {
     "name": "stdout",
     "output_type": "stream",
     "text": [
      "fin\n"
     ]
    }
   ],
   "source": [
    "for V in range(10000):\n",
    "    for M in range(1,100):\n",
    "        if multipleDe(V,M) != (V%M==0):\n",
    "            print(V,M,multipleDe(V,M),V%M)\n",
    "print(\"fin\")"
   ]
  },
  {
   "cell_type": "markdown",
   "id": "e2488d20-3034-430a-8c6c-af34b08feaff",
   "metadata": {},
   "source": [
    "## Quotient (si multiple)"
   ]
  },
  {
   "cell_type": "code",
   "execution_count": 7,
   "id": "9974aa6d-3dd3-45d5-a97d-b69dc48277e9",
   "metadata": {},
   "outputs": [],
   "source": [
    "def QuotientSiMultiple(V,M):\n",
    "    match V,M :\n",
    "        case 0,M : return 0\n",
    "        case V,M if V==M : return 1\n",
    "        case V,M if 0<V<M : return False\n",
    "        case V,M if pair(V) and pair(M) : return QuotientSiMultiple(V >> 1,M >> 1)\n",
    "        case V,M if pair(V) and impair(M) : return QuotientSiMultiple(V >> 1,M)<<1\n",
    "        case V,M if impair(V) and pair(M) : return False\n",
    "        case V,M if impair(V) and impair(M) : return (QuotientSiMultiple((V-M) >> 1,M)<<1)|1\n",
    "        case _ : return \"not defined\""
   ]
  },
  {
   "cell_type": "code",
   "execution_count": 8,
   "id": "b6723622-2915-4f32-bebc-8c3b6f58cabb",
   "metadata": {},
   "outputs": [
    {
     "data": {
      "text/plain": [
       "(True, 290)"
      ]
     },
     "execution_count": 8,
     "metadata": {},
     "output_type": "execute_result"
    }
   ],
   "source": [
    "multipleDe(2030,7),QuotientSiMultiple(2030,7)"
   ]
  },
  {
   "cell_type": "code",
   "execution_count": 9,
   "id": "0f05a274-58bc-435d-9dd5-9b410b2c7eb2",
   "metadata": {},
   "outputs": [
    {
     "data": {
      "text/plain": [
       "(False, 216)"
      ]
     },
     "execution_count": 9,
     "metadata": {},
     "output_type": "execute_result"
    }
   ],
   "source": [
    "multipleDe(2024,7),QuotientSiMultiple(2024,7)"
   ]
  },
  {
   "cell_type": "code",
   "execution_count": 10,
   "id": "f816ca40-c38a-4836-944e-44a79243d3ca",
   "metadata": {},
   "outputs": [
    {
     "name": "stdout",
     "output_type": "stream",
     "text": [
      "fin\n"
     ]
    }
   ],
   "source": [
    "for V in range(10000):\n",
    "    for M in range(1,100):\n",
    "        if (multipleDe(V,M)!=(V%M==0)) or (multipleDe(V,M) and (QuotientSiMultiple(V,M)!=(V//M))):\n",
    "            print(V,M,multipleDe(V,M),QuotientSiMultiple(V,M),V%M,V/M)\n",
    "print(\"fin\")"
   ]
  },
  {
   "cell_type": "markdown",
   "id": "81871f68-d91b-45fa-8904-40291271fb6d",
   "metadata": {},
   "source": [
    "Remarques :   \n",
    "\n",
    "* le calcul peut se faire poids faible d'abord (sous réserve que l'on sache (à l'avance (?)) que le nombre est multiple)  \n",
    "* cela donne un autre calcul, récursif terminal, mais avec des accumulateurs (à initialiser)"
   ]
  },
  {
   "cell_type": "code",
   "execution_count": 11,
   "id": "a7fa370f-e793-42a8-84a9-5f592f559534",
   "metadata": {},
   "outputs": [],
   "source": [
    "def QuotientSiMultipleRecTerminalAvecAcc(V,M,Q,P):\n",
    "    match V,M :\n",
    "        case 0,M : return Q\n",
    "        case V,M if V==M : return Q|P\n",
    "        case V,M if 0<V<M : return False\n",
    "        case V,M if pair(V) and pair(M) : return QuotientSiMultipleRecTerminalAvecAcc(V >> 1,M >> 1, Q, P)\n",
    "        case V,M if pair(V) and impair(M) : return QuotientSiMultipleRecTerminalAvecAcc(V >> 1, M, Q, P<<1)\n",
    "        case V,M if impair(V) and pair(M) : return False\n",
    "        case V,M if impair(V) and impair(M) : return QuotientSiMultipleRecTerminalAvecAcc((V-M) >> 1, M, Q|P, P<<1)\n",
    "        case _ : return \"not defined\""
   ]
  },
  {
   "cell_type": "code",
   "execution_count": 12,
   "id": "4455b55c-f9a5-4258-8a70-c3c7837f8f53",
   "metadata": {},
   "outputs": [
    {
     "data": {
      "text/plain": [
       "(True, 290)"
      ]
     },
     "execution_count": 12,
     "metadata": {},
     "output_type": "execute_result"
    }
   ],
   "source": [
    "multipleDe(2030,7),QuotientSiMultipleRecTerminalAvecAcc(2030,7,0,1)"
   ]
  },
  {
   "cell_type": "code",
   "execution_count": 13,
   "id": "8bf8eee0-7e87-4dd6-abac-19cab796fe73",
   "metadata": {},
   "outputs": [
    {
     "name": "stdout",
     "output_type": "stream",
     "text": [
      "fin\n"
     ]
    }
   ],
   "source": [
    "for V in range(10000):\n",
    "    for M in range(1,100):\n",
    "        if (multipleDe(V,M)!=(V%M==0)) or (multipleDe(V,M) and (QuotientSiMultipleRecTerminalAvecAcc(V,M,0,1)!=(V//M))):\n",
    "            print(V,M,multipleDe(V,M),QuotientSiMultipleRecTerminalAvecAcc(V,M,0,1),V%M,V/M)\n",
    "print(\"fin\")"
   ]
  },
  {
   "cell_type": "markdown",
   "id": "5f7c1940-8820-428f-80cd-8015b5a33c46",
   "metadata": {},
   "source": [
    "Version sans paramètres supplémentaires apparents (les paramètres supplémentaires (les accumulateurs) continuent d'exister dans les calculs, leur ajout et leur initialisation est prise en charge lors d'une étape préliminaire) :  "
   ]
  },
  {
   "cell_type": "code",
   "execution_count": 14,
   "id": "c00376b8-7015-402c-ba54-cfa4ddcb72eb",
   "metadata": {},
   "outputs": [],
   "source": [
    "def QuotientSiMultipleRecTerminal(V,M):\n",
    "    return QuotientSiMultipleRecTerminalAvecAcc(V,M,0,1)"
   ]
  },
  {
   "cell_type": "code",
   "execution_count": 15,
   "id": "7a498b0b-4f77-4975-8eb4-b346485744a1",
   "metadata": {},
   "outputs": [
    {
     "data": {
      "text/plain": [
       "(True, 290)"
      ]
     },
     "execution_count": 15,
     "metadata": {},
     "output_type": "execute_result"
    }
   ],
   "source": [
    "multipleDe(2030,7),QuotientSiMultipleRecTerminal(2030,7)"
   ]
  },
  {
   "cell_type": "markdown",
   "id": "36a4d5a2-9132-49cf-a1fb-0a86a3e2e1f3",
   "metadata": {
    "editable": true,
    "slideshow": {
     "slide_type": ""
    },
    "tags": []
   },
   "source": [
    "## Quotient et Reste (dans tous les cas)\n",
    "\n",
    "Pour calculer le quotient dans les cas où le reste n'est pas nul, on peut se ramener au cas où le reste est nul sous réserve de connaître ce reste et de le retrancher au nombre (V) initial.  \n",
    "Pour connaître ce reste (dans le cas où le nombre V n'est pas multiple de M) :  \n",
    "* dans le cas où le reste calculé (faux) est entre 0 et M (strict), il faut observer d'abord que ce reste est faux car à chaque étape où l'on a divisé M (pair) par 2, on a modifié le reste observé (par ex. s'il valait 1, en divisant par 2, il vaudra (1+M)/2) , on peut remonter au reste initial, en défaisant chaque étape de division par 2 (au niveau du reste), par une opération de multiplication par 2 du reste (observé) modulo M\n",
    "* dans le cas où le V est impair et M pair, il faut chercher à se ramener au cas V pair (en retranchant à V la partie de M non pair (*) et faire l'opération inverse pour les restes observés dans le sens inverse)\n",
    "\n",
    "Remarques :  \n",
    "\n",
    "* c'est moins immédiat que ce qui précède mais possible.  \n",
    "* on perd la propriété que le calcul se fasse poids faible d'abord (le calcul demande l'ensemble des chiffres pour être effectué)"
   ]
  }
 ],
 "metadata": {
  "authors": [
   {
    "name": "Denis Bouhineau (denis.bouhineau@imag.fr)"
   }
  ],
  "kernelspec": {
   "display_name": "Python 3 (ipykernel)",
   "language": "python",
   "name": "python3"
  },
  "language_info": {
   "codemirror_mode": {
    "name": "ipython",
    "version": 3
   },
   "file_extension": ".py",
   "mimetype": "text/x-python",
   "name": "python",
   "nbconvert_exporter": "python",
   "pygments_lexer": "ipython3",
   "version": "3.10.12"
  },
  "scenes_data": {
   "active_scene": "Default Scene",
   "init_scene": "",
   "scenes": [
    "Default Scene"
   ]
  },
  "title": "Critère de divisibilité (binaire)"
 },
 "nbformat": 4,
 "nbformat_minor": 5
}
