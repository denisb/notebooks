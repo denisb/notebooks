{
 "cells": [
  {
   "cell_type": "markdown",
   "id": "5aaae776",
   "metadata": {
    "toc": true
   },
   "source": [
    "<h1>Table of Contents<span class=\"tocSkip\"></span></h1>\n",
    "<div class=\"toc\"><ul class=\"toc-item\"><li><span><a href=\"#Plan\" data-toc-modified-id=\"Plan-1\"><span class=\"toc-item-num\">1&nbsp;&nbsp;</span>Plan</a></span></li><li><span><a href=\"#3-Exemples-concrets\" data-toc-modified-id=\"3-Exemples-concrets-2\"><span class=\"toc-item-num\">2&nbsp;&nbsp;</span>3 Exemples concrets</a></span></li><li><span><a href=\"#3-Bugs-célèbres\" data-toc-modified-id=\"3-Bugs-célèbres-3\"><span class=\"toc-item-num\">3&nbsp;&nbsp;</span>3 Bugs célèbres</a></span></li><li><span><a href=\"#3-Failles-de-sécurité-célèbres\" data-toc-modified-id=\"3-Failles-de-sécurité-célèbres-4\"><span class=\"toc-item-num\">4&nbsp;&nbsp;</span>3 Failles de sécurité célèbres</a></span></li><li><span><a href=\"#3-Familles-de-failles-classiques\" data-toc-modified-id=\"3-Familles-de-failles-classiques-5\"><span class=\"toc-item-num\">5&nbsp;&nbsp;</span>3 Familles de failles classiques</a></span></li></ul></div>"
   ]
  },
  {
   "cell_type": "markdown",
   "id": "df3a982a",
   "metadata": {
    "slideshow": {
     "slide_type": "slide"
    }
   },
   "source": [
    "# Anomalies"
   ]
  },
  {
   "cell_type": "markdown",
   "id": "be16392e-dce1-4d2d-b448-62f054a2bb9f",
   "metadata": {
    "slideshow": {
     "slide_type": "fragment"
    }
   },
   "source": [
    "* Bugs\n",
    "* Failles de sécurité"
   ]
  },
  {
   "cell_type": "markdown",
   "id": "f2f0d3a5",
   "metadata": {
    "slideshow": {
     "slide_type": "slide"
    }
   },
   "source": [
    "## Plan\n",
    "\n",
    "* Quelques chiffres\n",
    "* 3 Exemples concrets\n",
    "* 3 Bugs célèbres\n",
    "* 3 Failles de sécurité célèbres\n",
    "* 3 Familles de failles classiques"
   ]
  },
  {
   "cell_type": "markdown",
   "id": "a4b3319d-9610-4142-abd0-8a154f9f3e93",
   "metadata": {
    "slideshow": {
     "slide_type": "slide"
    },
    "tags": []
   },
   "source": [
    "# Les anomalies\n",
    "\n",
    "Pour 1000 lignes de code :\n",
    "* Logiciel normal : 25 anomalies\n",
    "* Logiciel spatial : 0.1 anomalies\n",
    "\n",
    "Taille d'un OS :\n",
    "* 50 000 000 lignes de code\n",
    "\n",
    "Coût de la correction :\n",
    "* x30 pour les corrections tardives"
   ]
  },
  {
   "cell_type": "markdown",
   "id": "c6d806a2",
   "metadata": {
    "slideshow": {
     "slide_type": "slide"
    }
   },
   "source": [
    "## 3 Exemples concrets\n",
    "\n",
    "* Liste des octets (initialement, pour vérifier une propriété)\n",
    "* autre exemple possible : la factorielle (en python, en javascript, en C)\n",
    "* autre exemple possible : 2 boucles à la suite, une boucle infinie et une boucle qui ne commence pas (?)"
   ]
  },
  {
   "cell_type": "markdown",
   "id": "5d90cce2",
   "metadata": {
    "slideshow": {
     "slide_type": "slide"
    }
   },
   "source": [
    "## 3 Bugs célèbres\n",
    "\n",
    "* 1991 : le missile Patriot (arrondi IEEE754)\n",
    "* 1994 : la division du Pentium (constantes partiellement définies)\n",
    "* 1996 : le tir inaugural d'Ariane 5 (32=>64 bits)"
   ]
  },
  {
   "cell_type": "markdown",
   "id": "7c0b5228",
   "metadata": {
    "slideshow": {
     "slide_type": "slide"
    }
   },
   "source": [
    "## 3 Failles de sécurité célèbres\n",
    "\n",
    "* 2014 : Heartbleed (buffer-overread dans open-ssl)\n",
    "* 2018 : Spectre (exécution spéculative partiellement invalidée)\n",
    "* 2018 : Meltdown (version simplifiée/spécifique X86)\n"
   ]
  },
  {
   "cell_type": "markdown",
   "id": "bc267c9a",
   "metadata": {
    "slideshow": {
     "slide_type": "slide"
    }
   },
   "source": [
    "## 3 Familles de failles classiques\n",
    "\n",
    "* Injection de Code\n",
    "* Dépassement de tampon\n",
    "* Scripts entre sites (XSS)"
   ]
  }
 ],
 "metadata": {
  "celltoolbar": "Slideshow",
  "kernelspec": {
   "display_name": "Python 3 (ipykernel)",
   "language": "python",
   "name": "python3"
  },
  "language_info": {
   "codemirror_mode": {
    "name": "ipython",
    "version": 3
   },
   "file_extension": ".py",
   "mimetype": "text/x-python",
   "name": "python",
   "nbconvert_exporter": "python",
   "pygments_lexer": "ipython3",
   "version": "3.9.7"
  },
  "latex_envs": {
   "LaTeX_envs_menu_present": true,
   "autoclose": false,
   "autocomplete": true,
   "bibliofile": "biblio.bib",
   "cite_by": "apalike",
   "current_citInitial": 1,
   "eqLabelWithNumbers": true,
   "eqNumInitial": 1,
   "hotkeys": {
    "equation": "Ctrl-E",
    "itemize": "Ctrl-I"
   },
   "labels_anchors": false,
   "latex_user_defs": false,
   "report_style_numbering": false,
   "user_envs_cfg": false
  },
  "rise": {
   "backimage": "logoUGA.png",
   "enable_chalkboard": true,
   "footer": "<span style='position: relative;left: 100%;bottom:10px;font-size: 20px;'>Denis Bouhineau --- Nov 2022</span>",
   "scroll": true
  },
  "toc": {
   "base_numbering": 1,
   "nav_menu": {},
   "number_sections": true,
   "sideBar": false,
   "skip_h1_title": true,
   "title_cell": "Table of Contents",
   "title_sidebar": "Contents",
   "toc_cell": true,
   "toc_position": {},
   "toc_section_display": true,
   "toc_window_display": true
  },
  "varInspector": {
   "cols": {
    "lenName": 16,
    "lenType": 16,
    "lenVar": 40
   },
   "kernels_config": {
    "python": {
     "delete_cmd_postfix": "",
     "delete_cmd_prefix": "del ",
     "library": "var_list.py",
     "varRefreshCmd": "print(var_dic_list())"
    },
    "r": {
     "delete_cmd_postfix": ") ",
     "delete_cmd_prefix": "rm(",
     "library": "var_list.r",
     "varRefreshCmd": "cat(var_dic_list()) "
    }
   },
   "types_to_exclude": [
    "module",
    "function",
    "builtin_function_or_method",
    "instance",
    "_Feature"
   ],
   "window_display": false
  }
 },
 "nbformat": 4,
 "nbformat_minor": 5
}
