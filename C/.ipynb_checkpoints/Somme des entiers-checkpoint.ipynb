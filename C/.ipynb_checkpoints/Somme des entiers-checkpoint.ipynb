{
 "cells": [
  {
   "cell_type": "markdown",
   "metadata": {},
   "source": [
    "# Calcul récursif de la somme des entiers\n",
    "\n",
    "L'objectif est d'observer le code produit pour compiler un programme avec une fonction récursive.\n",
    "\n",
    "Le programme consiste à calculer la somme des entiers de 1 à N, N étant donné."
   ]
  },
  {
   "cell_type": "code",
   "execution_count": null,
   "metadata": {},
   "outputs": [],
   "source": [
    "#include <stdio.h>\n",
    " \n",
    " int sommeEntiers (int n) {\n",
    "  if (n==0) {return 0;}\n",
    "  else { return N+sommeEntiers(n-1);}\n",
    "   \n",
    "   return resultat; }\n",
    "\n",
    "int main() {\n",
    "int N=4;\n",
    "printf(\"1 + ... + %d = %d\\n\",N,sommeEntiers(N));\n",
    "return 0;}"
   ]
  }
 ],
 "metadata": {
  "kernelspec": {
   "display_name": "C",
   "language": "c",
   "name": "bash"
  },
  "language_info": {
   "file_extension": ".c",
   "mimetype": "text/plain",
   "name": "c"
  }
 },
 "nbformat": 4,
 "nbformat_minor": 2
}
