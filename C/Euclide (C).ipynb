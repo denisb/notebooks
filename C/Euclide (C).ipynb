{
 "cells": [
  {
   "cell_type": "markdown",
   "metadata": {},
   "source": [
    "# Autour de l'algorithme d'Euclide\n",
    "\n",
    "![Euclide, Livre VII, chapitre II](euclide.png)\n",
    "(traduction DHPEM, XVIe siecle.)\n",
    "\n",
    "# Traduction en C"
   ]
  },
  {
   "cell_type": "code",
   "execution_count": 35,
   "metadata": {},
   "outputs": [
    {
     "name": "stdout",
     "output_type": "stream",
     "text": [
      "4\n"
     ]
    }
   ],
   "source": [
    "#include <stdio.h>\n",
    "\n",
    "\n",
    "int main() {\n",
    "int a=12,b=8;\n",
    "\n",
    "while (a!=b) {\n",
    "  if (a>b) {a=a-b;}\n",
    "  else if (b>a) {b=b-a;}}\n",
    "printf(\"%d\\n\",a);\n",
    "return 0;\n",
    "}"
   ]
  },
  {
   "cell_type": "markdown",
   "metadata": {},
   "source": [
    "remarque : pour les nombres négatifs ou nuls, cela coince (en général)"
   ]
  },
  {
   "cell_type": "markdown",
   "metadata": {},
   "source": [
    "## Version compatible avec les nombres négatifs"
   ]
  },
  {
   "cell_type": "code",
   "execution_count": 41,
   "metadata": {},
   "outputs": [
    {
     "name": "stdout",
     "output_type": "stream",
     "text": [
      "4\n"
     ]
    }
   ],
   "source": [
    "#include <stdio.h>\n",
    "\n",
    "int abs(int x) {\n",
    "  if (x>0) {\n",
    "    return x;}\n",
    "  else {\n",
    "    return -x;}}\n",
    "\n",
    "int sig(int x) {\n",
    "  if (x>0) {\n",
    "    return 1;}\n",
    "  else {\n",
    "    return -1;}}\n",
    "\n",
    "\n",
    "int main() {\n",
    "int a=-12,b=8;\n",
    "\n",
    "while (abs(a)!=abs(b)) {\n",
    "  if (abs(a)>abs(b)) {a=a-sig(a)*abs(b);}\n",
    "  else if (abs(b)>abs(a)) {b=b-sig(b)*abs(a);}}\n",
    "printf(\"%d\\n\",abs(a));\n",
    "return 0;\n",
    "}"
   ]
  },
  {
   "cell_type": "markdown",
   "metadata": {},
   "source": [
    "## Cas particuliers\n",
    "(entre -10 et 10)"
   ]
  },
  {
   "cell_type": "code",
   "execution_count": 13,
   "metadata": {},
   "outputs": [
    {
     "name": "stdout",
     "output_type": "stream",
     "text": [
      "-9 -10 => -125 (95 étapes)\n",
      "-8 -9 => -127 (53 étapes)\n",
      "-7 -10 => -127 (67 étapes)\n",
      "-6 -9 => -127 (133 étapes)\n",
      "-4 -9 => -125 (139 étapes)\n",
      "-4 -7 => -127 (139 étapes)\n",
      "-4 -5 => -125 (67 étapes)\n",
      "-3 -10 => -125 (43 étapes)\n",
      "-3 -9 => -125 (119 étapes)\n",
      "-3 -5 => -125 (100 étapes)\n",
      "-2 -7 => -127 (61 étapes)\n",
      "-2 -6 => -126 (82 étapes)\n",
      "-1 -8 => -127 (56 étapes)\n",
      "-1 -5 => -127 (148 étapes)\n",
      "-1 -4 => -125 (116 étapes)\n",
      "0 -10 => -126 (71 étapes)\n",
      "0 -9 => -121 (31 étapes)\n",
      "0 -7 => -127 (47 étapes)\n",
      "0 -3 => -127 (167 étapes)\n",
      "1 -10 => -125 (94 étapes)\n",
      "1 -9 => -127 (52 étapes)\n",
      "1 -5 => -125 (66 étapes)\n",
      "2 -5 => -125 (99 étapes)\n",
      "3 -10 => -127 (66 étapes)\n",
      "3 -9 => -127 (132 étapes)\n",
      "3 -7 => -127 (138 étapes)\n",
      "3 -4 => -125 (115 étapes)\n",
      "3 -3 => -127 (166 étapes)\n",
      "4 -6 => -126 (81 étapes)\n",
      "4 -5 => -127 (147 étapes)\n",
      "5 -9 => -125 (138 étapes)\n",
      "5 -7 => -127 (60 étapes)\n",
      "6 -9 => -125 (118 étapes)\n",
      "6 -5 => -125 (65 étapes)\n",
      "6 -3 => -127 (165 étapes)\n",
      "7 -10 => -125 (42 étapes)\n",
      "7 -8 => -127 (55 étapes)\n",
      "7 -7 => -127 (46 étapes)\n",
      "7 -5 => -125 (98 étapes)\n",
      "7 -4 => -125 (114 étapes)\n",
      "9 -9 => -121 (30 étapes)\n",
      "9 -5 => -127 (146 étapes)\n",
      "9 -3 => -127 (164 étapes)\n",
      "10 -10 => -126 (70 étapes)\n",
      "10 -9 => -127 (51 étapes)\n",
      "10 -7 => -127 (137 étapes)\n",
      "10 -6 => -126 (80 étapes)\n"
     ]
    }
   ],
   "source": [
    "#include <stdio.h>\n",
    "\n",
    "\n",
    "int main() {\n",
    "char a,b;\n",
    "char a_,b_;\n",
    "int n=0;\n",
    "    \n",
    "for(a_=-10;a_<=10;a_++) {\n",
    "  for(b_=-10;b_<=10;b_++) {\n",
    "    n=0;\n",
    "    a=a_;b=b_;\n",
    "    while ((a!=b)&&(++n<100000)) {\n",
    "      if (a>b) {a=a-b;}\n",
    "      else if (b>a) {b=b-a;}}\n",
    "    if ((n!=100000)&&(a_>b_)&&((a_<=0)||(b_<=0))) {printf(\"%d %d => %d (%d étapes)\\n\",a_,b_,a,n);}\n",
    "    }}\n",
    "return 0;\n",
    "}"
   ]
  },
  {
   "cell_type": "markdown",
   "metadata": {},
   "source": [
    "# Vrac (poubelle)"
   ]
  },
  {
   "cell_type": "code",
   "execution_count": null,
   "metadata": {},
   "outputs": [],
   "source": [
    "#include <stdio.h>\n",
    "\n",
    "\n",
    "int main() {\n",
    "char a,b;\n",
    "char a_,b_;\n",
    "int n=0;\n",
    "int m=0;\n",
    "    \n",
    "for(a_=-10;a_<=10;a_++) {\n",
    "  for(b_=-10;b_<=10;b_++) {\n",
    "    n=0;\n",
    "    a=a_;b=b_;\n",
    "    while ((a!=b)&&(++n<1000)&&(++m<100000000)) {\n",
    "      if (a>b) {a=a-b;}\n",
    "      else if (b>a) {b=b-a;}}\n",
    "    if (n!=1000) {printf(\"%d %d => %d %d (%d %d)\\n\",a_,b_,a,b,n,m);}\n",
    "    }}\n",
    "return 0;\n",
    "}"
   ]
  }
 ],
 "metadata": {
  "kernelspec": {
   "display_name": "C",
   "language": "c",
   "name": "bash"
  },
  "language_info": {
   "file_extension": ".c",
   "mimetype": "text/plain",
   "name": "c"
  }
 },
 "nbformat": 4,
 "nbformat_minor": 2
}
