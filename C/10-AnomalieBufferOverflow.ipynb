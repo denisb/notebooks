{
 "cells": [
  {
   "cell_type": "markdown",
   "metadata": {
    "toc": true
   },
   "source": [
    "<h1>Table of Contents<span class=\"tocSkip\"></span></h1>\n",
    "<div class=\"toc\"><ul class=\"toc-item\"><li><span><a href=\"#en-X86\" data-toc-modified-id=\"en-X86-1\"><span class=\"toc-item-num\">1&nbsp;&nbsp;</span>en X86</a></span></li><li><span><a href=\"#Trouver-la-faille-?\" data-toc-modified-id=\"Trouver-la-faille-?-2\"><span class=\"toc-item-num\">2&nbsp;&nbsp;</span>Trouver la faille ?</a></span></li><li><span><a href=\"#Solution\" data-toc-modified-id=\"Solution-3\"><span class=\"toc-item-num\">3&nbsp;&nbsp;</span>Solution</a></span></li><li><span><a href=\"#Comment-l'éviter-?\" data-toc-modified-id=\"Comment-l'éviter-?-4\"><span class=\"toc-item-num\">4&nbsp;&nbsp;</span>Comment l'éviter ?</a></span></li></ul></div>"
   ]
  },
  {
   "cell_type": "markdown",
   "metadata": {},
   "source": [
    "# BufferOverflow\n",
    "\n",
    "Le problème du dépassement de tampon (ou Buffer Overflow, ou BOF) est une faille de sécurité intervenant quand une saisie dépasse la taille prévue et déborde sur le reste de la mémoire. En général, cela fait \"juste\" planter le programme, mais si la faille est mal placée et qu'un attaquant cherche à l'exploiter, cela peut devenir ennuyeux.\n",
    "Pour en savoir plus : \n",
    "\n",
    "En général, la donnée saisie est un chaîne de caractères prévue pour une zone mémoire de taille fixe.\n",
    "\n",
    "Pour donner un exemple, prenons un cas de programme C qui attend une chaine de caractères et vérifie que cette chaine correspond bien à un nom connu (ici \"John\"). Ce programme, simple, doit écrire \"Bonjour\" si le nom est bon (et rien ou \"Pardon ?\" sinon). "
   ]
  },
  {
   "cell_type": "code",
   "execution_count": 1,
   "metadata": {
    "ExecuteTime": {
     "end_time": "2022-04-13T17:50:44.776041Z",
     "start_time": "2022-04-13T17:50:44.769303Z"
    }
   },
   "outputs": [
    {
     "name": "stdout",
     "output_type": "stream",
     "text": [
      "Overwriting bonjourOverflow.c\n"
     ]
    }
   ],
   "source": [
    "%%writefile bonjourOverflow.c\n",
    "#include <stdio.h>\n",
    "#include <stdlib.h>\n",
    "#include <string.h>\n",
    "\n",
    "static char EntreeLue[10];\n",
    "static char ReponseAttendu[10];\n",
    "\n",
    "int main (int argc, char * argv[]) {\n",
    "    strcpy(ReponseAttendu, \"John\");\n",
    "    if (argc==1) {\n",
    "        printf(\"Il faut un argument\\n\");}\n",
    "    else {\n",
    "        strcpy(EntreeLue, argv[1]);        \n",
    "        if (strncmp(ReponseAttendu,EntreeLue,10)==0) {printf(\"Bonjour\\n\");}\n",
    "        else {printf(\"Pardon ?\\n\");}}\n",
    "    return 0;}"
   ]
  },
  {
   "cell_type": "code",
   "execution_count": 2,
   "metadata": {
    "ExecuteTime": {
     "end_time": "2022-04-13T17:31:53.532106Z",
     "start_time": "2022-04-13T17:31:53.404814Z"
    },
    "scrolled": true
   },
   "outputs": [
    {
     "name": "stdout",
     "output_type": "stream",
     "text": [
      "\t.arch armv5t\n",
      "\t.fpu softvfp\n",
      "\t.eabi_attribute 20, 1\n",
      "\t.eabi_attribute 21, 1\n",
      "\t.eabi_attribute 23, 3\n",
      "\t.eabi_attribute 24, 1\n",
      "\t.eabi_attribute 25, 1\n",
      "\t.eabi_attribute 26, 2\n",
      "\t.eabi_attribute 30, 6\n",
      "\t.eabi_attribute 34, 0\n",
      "\t.eabi_attribute 18, 4\n",
      "\t.file\t\"bonjourOverflow.c\"\n",
      "\t.local\tEntreeLue\n",
      "\t.comm\tEntreeLue,10,4\n",
      "\t.local\tReponseAttendu\n",
      "\t.comm\tReponseAttendu,10,4\n",
      "\t.section\t.rodata\n",
      "\t.align\t2\n",
      ".LC0:\n",
      "\t.ascii\t\"John\\000\"\n",
      "\t.align\t2\n",
      ".LC1:\n",
      "\t.ascii\t\"Il faut un argument\\000\"\n",
      "\t.align\t2\n",
      ".LC2:\n",
      "\t.ascii\t\"Bonjour\\000\"\n",
      "\t.align\t2\n",
      ".LC3:\n",
      "\t.ascii\t\"Pardon ?\\000\"\n",
      "\t.text\n",
      "\t.align\t2\n",
      "\t.global\tmain\n",
      "\t.type\tmain, %function\n",
      "main:\n",
      "\t@ args = 0, pretend = 0, frame = 8\n",
      "\t@ frame_needed = 1, uses_anonymous_args = 0\n",
      "\tstmfd\tsp!, {fp, lr}\n",
      "\tadd\tfp, sp, #4\n",
      "\tsub\tsp, sp, #8\n",
      "\tstr\tr0, [fp, #-8]\n",
      "\tstr\tr1, [fp, #-12]\n",
      "\tldr\tr3, .L6\n",
      "\tldr\tr2, .L6+4\n",
      "\tldmia\tr2, {r0, r1}\n",
      "\tstr\tr0, [r3, #0]\n",
      "\tadd\tr3, r3, #4\n",
      "\tstrb\tr1, [r3, #0]\n",
      "\tldr\tr3, [fp, #-8]\n",
      "\tcmp\tr3, #1\n",
      "\tbne\t.L2\n",
      "\tldr\tr0, .L6+8\n",
      "\tbl\tputs\n",
      "\tb\t.L3\n",
      ".L2:\n",
      "\tldr\tr3, [fp, #-12]\n",
      "\tadd\tr3, r3, #4\n",
      "\tldr\tr3, [r3, #0]\n",
      "\tldr\tr0, .L6+12\n",
      "\tmov\tr1, r3\n",
      "\tbl\tstrcpy\n",
      "\tldr\tr0, .L6\n",
      "\tldr\tr1, .L6+12\n",
      "\tmov\tr2, #10\n",
      "\tbl\tstrncmp\n",
      "\tmov\tr3, r0\n",
      "\tcmp\tr3, #0\n",
      "\tbne\t.L4\n",
      "\tldr\tr0, .L6+16\n",
      "\tbl\tputs\n",
      "\tb\t.L3\n",
      ".L4:\n",
      "\tldr\tr0, .L6+20\n",
      "\tbl\tputs\n",
      ".L3:\n",
      "\tmov\tr3, #0\n",
      "\tmov\tr0, r3\n",
      "\tsub\tsp, fp, #4\n",
      "\tldmfd\tsp!, {fp, pc}\n",
      ".L7:\n",
      "\t.align\t2\n",
      ".L6:\n",
      "\t.word\tReponseAttendu\n",
      "\t.word\t.LC0\n",
      "\t.word\t.LC1\n",
      "\t.word\tEntreeLue\n",
      "\t.word\t.LC2\n",
      "\t.word\t.LC3\n",
      "\t.size\tmain, .-main\n",
      "\t.ident\t\"GCC: (Ubuntu/Linaro 4.7.3-12ubuntu1) 4.7.3\"\n",
      "\t.section\t.note.GNU-stack,\"\",%progbits\n"
     ]
    }
   ],
   "source": [
    "%%sh\n",
    "arm-linux-gnueabi-gcc -S -static bonjourOverflow.c\n",
    "cat bonjourOverflow.s"
   ]
  },
  {
   "cell_type": "code",
   "execution_count": 6,
   "metadata": {},
   "outputs": [
    {
     "name": "stdout",
     "output_type": "stream",
     "text": [
      "Bonjour\n"
     ]
    }
   ],
   "source": [
    "%%sh\n",
    "arm-linux-gnueabi-gcc -static bonjourOverflow.c\n",
    "qemu-arm a.out JJJJJJJJJJJJJJJJJJJJJJJJJJJJJJJJJJJJJJJJJ"
   ]
  },
  {
   "cell_type": "code",
   "execution_count": 39,
   "metadata": {},
   "outputs": [
    {
     "name": "stdout",
     "output_type": "stream",
     "text": [
      "Pardon ?\n"
     ]
    }
   ],
   "source": [
    "%%sh\n",
    "arm-linux-gnueabi-gcc -static bonjourOverflow.c\n",
    "qemu-arm a.out Tom"
   ]
  },
  {
   "cell_type": "markdown",
   "metadata": {},
   "source": [
    "Le fonctionnement prévu est le suivant :\n",
    "* pour John, il dit \"Bonjour\"\n",
    "* pour Joe (ou tout le reste), il dit \"Pardon ?\"\n",
    "\n",
    "\n",
    "Vous voulez essayer ? (le jeu, maintenant, c'est de trouver comment lui faire dire bonjour, sans dire John.)"
   ]
  },
  {
   "cell_type": "code",
   "execution_count": 43,
   "metadata": {},
   "outputs": [
    {
     "name": "stdout",
     "output_type": "stream",
     "text": [
      "Pardon ?\n"
     ]
    }
   ],
   "source": [
    "%%sh\n",
    "arm-linux-gnueabi-gcc -static bonjourOverflow.c\n",
    "qemu-arm a.out Joe"
   ]
  },
  {
   "cell_type": "markdown",
   "metadata": {},
   "source": [
    "## en X86"
   ]
  },
  {
   "cell_type": "code",
   "execution_count": 47,
   "metadata": {
    "ExecuteTime": {
     "end_time": "2022-04-13T17:32:00.019715Z",
     "start_time": "2022-04-13T17:31:59.917127Z"
    }
   },
   "outputs": [
    {
     "name": "stdout",
     "output_type": "stream",
     "text": [
      "Pardon ?\n"
     ]
    }
   ],
   "source": [
    "%%sh\n",
    "gcc bonjourOverflow.c\n",
    "./a.out Tom"
   ]
  },
  {
   "cell_type": "code",
   "execution_count": 48,
   "metadata": {
    "ExecuteTime": {
     "end_time": "2022-04-13T17:32:01.967612Z",
     "start_time": "2022-04-13T17:32:01.867098Z"
    }
   },
   "outputs": [
    {
     "name": "stdout",
     "output_type": "stream",
     "text": [
      "Bonjour\n"
     ]
    }
   ],
   "source": [
    "%%sh\n",
    "gcc bonjourOverflow.c\n",
    "./a.out John"
   ]
  },
  {
   "cell_type": "markdown",
   "metadata": {},
   "source": [
    "Le fonctionnement prévu est le suivant :\n",
    "* pour John, il dit \"Bonjour\"\n",
    "* pour Joe (ou tout le reste), il dit \"Pardon ?\""
   ]
  },
  {
   "cell_type": "markdown",
   "metadata": {
    "ExecuteTime": {
     "end_time": "2022-04-13T17:16:04.273564Z",
     "start_time": "2022-04-13T17:16:04.267710Z"
    }
   },
   "source": [
    "## Trouver la faille ?\n",
    "\n",
    "Le jeu, maintenant, c'est de trouver comment lui faire dire bonjour, sans dire John."
   ]
  },
  {
   "cell_type": "code",
   "execution_count": 37,
   "metadata": {
    "ExecuteTime": {
     "end_time": "2022-04-13T17:50:59.378508Z",
     "start_time": "2022-04-13T17:50:59.275605Z"
    }
   },
   "outputs": [
    {
     "name": "stdout",
     "output_type": "stream",
     "text": [
      "Bonjour\n"
     ]
    }
   ],
   "source": [
    "%%sh\n",
    "gcc bonjourOverflow.c\n",
    "./a.out abcdefghijabcdefghij"
   ]
  },
  {
   "cell_type": "markdown",
   "metadata": {},
   "source": [
    "## Solution\n",
    "\n",
    "La Solution ?  \n",
    "\n",
    "Une solution ?\n",
    "\n",
    "Vous voulez la solution ?\n",
    "\n",
    "Vous voulez une solution ?\n",
    "\n",
    "Toute la solution ?\n",
    "\n",
    "Juste un morceau ?\n",
    "\n",
    "Il s'agit juste de déborder de EntreeLue pour écrire sur ReponseAttendu pour que les 2 chaînes se ressemblent (la comparaison ne porte que sur 10 caractères.)\n",
    "\n",
    "On peut essayer de mettre une chaîne de 10 caractères qui se répète (mais il faut bien évaluer l'espace entre la chaîne initiale et la répétition (mais on y arrive !)\n",
    "\n",
    "Mais il y a plus simple.\n",
    "\n",
    "Le plus simple est de mettre une chaîne avec un seul caractère et de le répéter au moins 20 fois, mais probablement un peu plus que 20 fois, par exemple, une cinquantaine de fois (on doit pouvoir faire moins, il faudra peut-être faire plus parfois)\n",
    "\n",
    "Et cela marche.\n",
    "\n",
    "Pour une chaine intelligente (sur la machine X86 de l'essai : abcdefghijxxxxxxabcdefghij, sur la machine arm émulée abcdefghijxxabcdefghij, ailleurs encore abcdefghijabcdefghij)\n",
    "\n",
    "Pour une chaîne stupide (partout ça marche avec : xxxxxxxxxxxxxxxxxxxxxxxxxxxxxxxxxxxxxxxxxxxxxxxxxxxxxxxxxx)"
   ]
  },
  {
   "cell_type": "markdown",
   "metadata": {},
   "source": [
    "## Comment l'éviter ?\n",
    "\n",
    "Ne pas utiliser scanf, strcmp, strcpy, etc. sans limiter la taille de la saisie ou du test ou de la recopie ou etc. Par exemple, ici utiliser strncpy."
   ]
  },
  {
   "cell_type": "code",
   "execution_count": 7,
   "metadata": {
    "ExecuteTime": {
     "end_time": "2022-04-13T17:50:28.193313Z",
     "start_time": "2022-04-13T17:50:28.186836Z"
    }
   },
   "outputs": [
    {
     "name": "stdout",
     "output_type": "stream",
     "text": [
      "Writing bonjourOverflowCorrigee.c\n"
     ]
    }
   ],
   "source": [
    "%%writefile bonjourOverflowCorrigee.c\n",
    "#include <stdio.h>\n",
    "#include <stdlib.h>\n",
    "#include <string.h>\n",
    "\n",
    "static char EntreeLue[10];\n",
    "static char ReponseAttendu[10];\n",
    "\n",
    "int main (int argc, char * argv[]) {\n",
    "    strncpy(ReponseAttendu, \"John\",10);\n",
    "    if (argc==1) {\n",
    "        printf(\"Il faut un argument\\n\");}\n",
    "    else {\n",
    "        strncpy(EntreeLue, argv[1],10);        \n",
    "        if (strncmp(ReponseAttendu,EntreeLue,10)==0) {printf(\"Bonjour\\n\");}\n",
    "        else {printf(\"Pardon ?\\n\");}}\n",
    "    return 0;}"
   ]
  },
  {
   "cell_type": "code",
   "execution_count": 8,
   "metadata": {
    "ExecuteTime": {
     "end_time": "2022-04-13T17:50:39.611136Z",
     "start_time": "2022-04-13T17:50:39.503625Z"
    }
   },
   "outputs": [
    {
     "name": "stdout",
     "output_type": "stream",
     "text": [
      "Pardon ?\n"
     ]
    }
   ],
   "source": [
    "%%sh\n",
    "gcc bonjourOverflowCorrigee.c\n",
    "./a.out xxxxxxxxxxxxxxxxxxxxxxxxxxxxxxxxxxxxxxxxxxxxxxxxxxxxxxxxxxxx"
   ]
  }
 ],
 "metadata": {
  "kernelspec": {
   "display_name": "Python 3",
   "language": "python",
   "name": "python3"
  },
  "language_info": {
   "codemirror_mode": {
    "name": "ipython",
    "version": 3
   },
   "file_extension": ".py",
   "mimetype": "text/x-python",
   "name": "python",
   "nbconvert_exporter": "python",
   "pygments_lexer": "ipython3",
   "version": "3.4.3"
  },
  "toc": {
   "base_numbering": 1,
   "nav_menu": {},
   "number_sections": true,
   "sideBar": false,
   "skip_h1_title": true,
   "title_cell": "Table of Contents",
   "title_sidebar": "Contents",
   "toc_cell": true,
   "toc_position": {},
   "toc_section_display": false,
   "toc_window_display": true
  },
  "varInspector": {
   "cols": {
    "lenName": 16,
    "lenType": 16,
    "lenVar": 40
   },
   "kernels_config": {
    "python": {
     "delete_cmd_postfix": "",
     "delete_cmd_prefix": "del ",
     "library": "var_list.py",
     "varRefreshCmd": "print(var_dic_list())"
    },
    "r": {
     "delete_cmd_postfix": ") ",
     "delete_cmd_prefix": "rm(",
     "library": "var_list.r",
     "varRefreshCmd": "cat(var_dic_list()) "
    }
   },
   "types_to_exclude": [
    "module",
    "function",
    "builtin_function_or_method",
    "instance",
    "_Feature"
   ],
   "window_display": false
  }
 },
 "nbformat": 4,
 "nbformat_minor": 5
}
