{
 "cells": [
  {
   "cell_type": "markdown",
   "metadata": {
    "toc": true
   },
   "source": [
    "<h1>Table of Contents<span class=\"tocSkip\"></span></h1>\n",
    "<div class=\"toc\"><ul class=\"toc-item\"><li><span><a href=\"#Calcul-de-la-puissance\" data-toc-modified-id=\"Calcul-de-la-puissance-1\"><span class=\"toc-item-num\">1&nbsp;&nbsp;</span>Calcul de la puissance</a></span></li><li><span><a href=\"#Tour-de-Hanoi\" data-toc-modified-id=\"Tour-de-Hanoi-2\"><span class=\"toc-item-num\">2&nbsp;&nbsp;</span>Tour de Hanoi</a></span></li><li><span><a href=\"#Commentaire-sur-1-(Puissance)\" data-toc-modified-id=\"Commentaire-sur-1-(Puissance)-3\"><span class=\"toc-item-num\">3&nbsp;&nbsp;</span>Commentaire sur 1 (Puissance)</a></span></li><li><span><a href=\"#Commentaire-sur-2-(Hanoi)\" data-toc-modified-id=\"Commentaire-sur-2-(Hanoi)-4\"><span class=\"toc-item-num\">4&nbsp;&nbsp;</span>Commentaire sur 2 (Hanoi)</a></span></li></ul></div>"
   ]
  },
  {
   "cell_type": "markdown",
   "metadata": {},
   "source": [
    "# Contrat (didactique) et récursivité\n",
    "\n",
    "Dans une leçon sur la récursivité, l'étudiant s'attend à devoir résoudre les problèmes avec de la récursivité. Pour autant, il ne faut pas en abuser.\n",
    "\n",
    "Voici 2 exemples (réels) :\n",
    "\n",
    "## Calcul de la puissance\n",
    "\n",
    "Pour X et N donnés, calculer X^N.\n",
    "\n",
    "Solution (1) proposée par l'étudiant :"
   ]
  },
  {
   "cell_type": "code",
   "execution_count": 3,
   "metadata": {
    "ExecuteTime": {
     "end_time": "2020-12-03T14:38:22.351309Z",
     "start_time": "2020-12-03T14:38:22.255025Z"
    }
   },
   "outputs": [
    {
     "name": "stdout",
     "output_type": "stream",
     "text": [
      "7 ^ 7 = 823543\n"
     ]
    }
   ],
   "source": [
    "#include <stdio.h>\n",
    "\n",
    "int maPuissance(int X, int N) {\n",
    "if (N==0) { return 1;}\n",
    "else {\n",
    "  if (N&1) /* N impair */ {\n",
    "    return X*maPuissance(X,N/2)*maPuissance(X,N/2);}\n",
    "  else {\n",
    "    return maPuissance(X,N/2)*maPuissance(X,N/2);}}}\n",
    "\n",
    "int main(int argc, char * argv[]) {\n",
    "printf(\"7 ^ 7 = %d\\n\",maPuissance(7,7));\n",
    "return 0;}"
   ]
  },
  {
   "cell_type": "markdown",
   "metadata": {},
   "source": [
    "## Tour de Hanoi\n",
    "\n",
    "pour le sujet, voir : https://fr.wikipedia.org/wiki/Tours_de_Hano%C3%AF\n",
    "\n",
    "Solution (2) proposée par l'étudiant :"
   ]
  },
  {
   "cell_type": "code",
   "execution_count": 7,
   "metadata": {
    "ExecuteTime": {
     "end_time": "2020-12-03T14:50:32.714883Z",
     "start_time": "2020-12-03T14:50:32.614695Z"
    }
   },
   "outputs": [
    {
     "name": "stdout",
     "output_type": "stream",
     "text": [
      "1 ==>> 2\n",
      "1 ==>> 3\n",
      "2 ==>> 3\n",
      "1 ==>> 2\n",
      "3 ==>> 1\n",
      "3 ==>> 2\n",
      "1 ==>> 2\n",
      "1 ==>> 3\n",
      "2 ==>> 3\n",
      "2 ==>> 1\n",
      "3 ==>> 1\n",
      "2 ==>> 3\n",
      "1 ==>> 2\n",
      "1 ==>> 3\n",
      "2 ==>> 3\n"
     ]
    }
   ],
   "source": [
    "#include <stdio.h>\n",
    "\n",
    "void hanoi(int N, int depart, int intermediaire, int arrivee) {\n",
    "if (N==1) { printf(\"%d ==>> %d\\n\",depart,arrivee); return;}\n",
    "else {\n",
    "  hanoi(N-1,depart,arrivee,intermediaire);\n",
    "  hanoi(1,depart,intermediaire,arrivee);\n",
    "  hanoi(N-1,intermediaire,depart,arrivee);\n",
    "  return;}}\n",
    "\n",
    "int main(int argc, char * argv[]) {\n",
    "hanoi(4,1,2,3);\n",
    "return 0;}"
   ]
  },
  {
   "cell_type": "markdown",
   "metadata": {},
   "source": [
    "## Commentaire sur 1 (Puissance)\n",
    "\n",
    "La solution proposée est correcte. Elle donne le bon résultat. Mais l'analyse de la complexité algorithmique donne N multiplications pour le calcul d'une puissance N. C'est un algorithme linéaire (en N).\n",
    "Il y a mieux, l'algorithme usuel est sublinéaire (Log N) et ce n'est pas une question de récursivité, la même solution existe en itératif.\n",
    "\n",
    "Solution (3) récursive sub-linéaire :"
   ]
  },
  {
   "cell_type": "code",
   "execution_count": 13,
   "metadata": {
    "ExecuteTime": {
     "end_time": "2020-12-03T15:08:49.243448Z",
     "start_time": "2020-12-03T15:08:49.152077Z"
    }
   },
   "outputs": [
    {
     "name": "stdout",
     "output_type": "stream",
     "text": [
      "7 ^ 7 = 823543\n"
     ]
    }
   ],
   "source": [
    "#include <stdio.h>\n",
    "\n",
    "int maPuissance(int X, int N) {\n",
    "int P;\n",
    "if (N==0) { return 1;}\n",
    "else {\n",
    "  P = maPuissance(X,N/2);\n",
    "  if (N&1) /* N impair */ {\n",
    "    return X*P*P;}\n",
    "  else {\n",
    "    return P*P;}}}\n",
    "\n",
    "int main(int argc, char * argv[]) {\n",
    "printf(\"7 ^ 7 = %d\\n\",maPuissance(7,7));\n",
    "return 0;}"
   ]
  },
  {
   "cell_type": "markdown",
   "metadata": {},
   "source": [
    "En discutant avec l'étudiant, il voulait absolument éviter d'utiliser le calcul d'un carré avec une fonction puissance, et même le calcul d'un carré par X*X le gênait. Pour le calcul d'un carré, il fallait utiliser la récursivité, ou éviter de faire ce calcul.\n",
    "\n",
    "Eventuellement, au vu de la solution Hanoi, il aurait pu faire cette solution :"
   ]
  },
  {
   "cell_type": "code",
   "execution_count": 16,
   "metadata": {
    "ExecuteTime": {
     "end_time": "2020-12-03T15:13:02.586721Z",
     "start_time": "2020-12-03T15:13:02.470711Z"
    }
   },
   "outputs": [
    {
     "name": "stderr",
     "output_type": "stream",
     "text": [
      "[C kernel] Executable exited with code -11"
     ]
    }
   ],
   "source": [
    "#include <stdio.h>\n",
    "\n",
    "int maPuissance(int X, int N) {\n",
    "if (N==0) { return 1;}\n",
    "else {\n",
    "  if (N&1) /* N impair */ {\n",
    "    return X*maPuissance(maPuissance(X,N/2),2);}\n",
    "  else {\n",
    "    return maPuissance(maPuissance(X,N/2),2);}}}\n",
    "\n",
    "int main(int argc, char * argv[]) {\n",
    "printf(\"7 ^ 7 = %d\\n\",maPuissance(7,7));\n",
    "return 0;}"
   ]
  },
  {
   "cell_type": "markdown",
   "metadata": {},
   "source": [
    "Ou, pour éviter la boucle infinie (qui vient de ce que l'appel à la puissance de 2, demande un appel à la puissance de 2 !) :"
   ]
  },
  {
   "cell_type": "code",
   "execution_count": 18,
   "metadata": {
    "ExecuteTime": {
     "end_time": "2020-12-03T15:15:06.023076Z",
     "start_time": "2020-12-03T15:15:05.916466Z"
    }
   },
   "outputs": [
    {
     "name": "stdout",
     "output_type": "stream",
     "text": [
      "7 ^ 7 = 823543\n"
     ]
    }
   ],
   "source": [
    "#include <stdio.h>\n",
    "\n",
    "int maPuissance(int X, int N) {\n",
    "if (N==0) { return 1;}\n",
    "else if (N==1) { return X;}\n",
    "else if (N==2) { return X*X;}\n",
    "else {\n",
    "  if (N&1) /* N impair */ {\n",
    "    return X*maPuissance(maPuissance(X,N/2),2);}\n",
    "  else {\n",
    "    return maPuissance(maPuissance(X,N/2),2);}}}\n",
    "\n",
    "int main(int argc, char * argv[]) {\n",
    "printf(\"7 ^ 7 = %d\\n\",maPuissance(7,7));\n",
    "return 0;}"
   ]
  },
  {
   "cell_type": "markdown",
   "metadata": {},
   "source": [
    "C'est peut-être un peu moins joli, mais reste correct et équivalent à la solution (3) pour la complexité (sub-linéaire).\n",
    "\n",
    "Cependant, est-ce nécessaire d'utiliser cette fonction récursive pour le calcul du carré ? (voir la suite)\n",
    "\n",
    "## Commentaire sur 2 (Hanoi)\n",
    "\n",
    "La solution (2) n'est pas mauvaise, au contraire, et même elle peut être considérée comme élégante. Elle est correcte et correspond à la complexité attendue.\n",
    "\n",
    "Mais pourquoi cet appel récursif à \"hanoi(1,depart,intermediaire,arrivee)\" ?\n",
    "\n",
    "Et idem que précédement, l'étudiant y tenait beaucoup, en disant que \"c'est le cours sur la récursivité, donc il faut utiliser la récursivité !\"\n",
    "\n",
    "La solution que j'aurai proposée est plutôt la suivante :"
   ]
  },
  {
   "cell_type": "code",
   "execution_count": 19,
   "metadata": {
    "ExecuteTime": {
     "end_time": "2020-12-03T15:29:45.241505Z",
     "start_time": "2020-12-03T15:29:45.155753Z"
    }
   },
   "outputs": [
    {
     "name": "stdout",
     "output_type": "stream",
     "text": [
      "1 ==>> 2\n",
      "1 ==>> 3\n",
      "2 ==>> 3\n",
      "1 ==>> 2\n",
      "3 ==>> 1\n",
      "3 ==>> 2\n",
      "1 ==>> 2\n",
      "1 ==>> 3\n",
      "2 ==>> 3\n",
      "2 ==>> 1\n",
      "3 ==>> 1\n",
      "2 ==>> 3\n",
      "1 ==>> 2\n",
      "1 ==>> 3\n",
      "2 ==>> 3\n"
     ]
    }
   ],
   "source": [
    "#include <stdio.h>\n",
    "\n",
    "void hanoi(int N, int depart, int intermediaire, int arrivee) {\n",
    "if (N==1) { printf(\"%d ==>> %d\\n\",depart,arrivee); return;}\n",
    "else {\n",
    "  hanoi(N-1,depart,arrivee,intermediaire);\n",
    "  printf(\"%d ==>> %d\\n\",depart,arrivee);\n",
    "  hanoi(N-1,intermediaire,depart,arrivee);\n",
    "  return;}}\n",
    "\n",
    "int main(int argc, char * argv[]) {\n",
    "hanoi(4,1,2,3);\n",
    "return 0;}"
   ]
  },
  {
   "cell_type": "markdown",
   "metadata": {},
   "source": [
    "La différence est minime.\n",
    "\n",
    "Chacun peut avoir son avis, ce qui est maladroit [à mon goût] c'est d'indiquer que le déplacement intermédiaire est un appel récursif. En fait, ce n'est pas vraiment un appel récursif, le déplacement peut être immédiat. La recursivité n'est pas nécessaire ici. Pour moi, c'est juste cela la maladresse, dans un cours sur la récursivité, c'est peut-être dommage de ne pas réserver la récursivité à ce qui est nécessairement de la récursivité et de laisser un flou entre ce qui est ou n'est pas récursif.\n",
    "\n",
    "Ici, de toute façon, c'est tout de même moins grave, il n'y a pas de différence de complexité."
   ]
  }
 ],
 "metadata": {
  "kernelspec": {
   "display_name": "C",
   "language": "c",
   "name": "c"
  },
  "language_info": {
   "file_extension": ".c",
   "mimetype": "text/plain",
   "name": "c"
  },
  "toc": {
   "base_numbering": 1,
   "nav_menu": {},
   "number_sections": true,
   "sideBar": false,
   "skip_h1_title": true,
   "title_cell": "Table of Contents",
   "title_sidebar": "Contents",
   "toc_cell": true,
   "toc_position": {},
   "toc_section_display": false,
   "toc_window_display": true
  },
  "varInspector": {
   "cols": {
    "lenName": 16,
    "lenType": 16,
    "lenVar": 40
   },
   "kernels_config": {
    "python": {
     "delete_cmd_postfix": "",
     "delete_cmd_prefix": "del ",
     "library": "var_list.py",
     "varRefreshCmd": "print(var_dic_list())"
    },
    "r": {
     "delete_cmd_postfix": ") ",
     "delete_cmd_prefix": "rm(",
     "library": "var_list.r",
     "varRefreshCmd": "cat(var_dic_list()) "
    }
   },
   "types_to_exclude": [
    "module",
    "function",
    "builtin_function_or_method",
    "instance",
    "_Feature"
   ],
   "window_display": false
  }
 },
 "nbformat": 4,
 "nbformat_minor": 4
}
