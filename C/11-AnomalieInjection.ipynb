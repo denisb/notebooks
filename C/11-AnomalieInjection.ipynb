{
 "cells": [
  {
   "cell_type": "markdown",
   "metadata": {
    "toc": true
   },
   "source": [
    "<h1>Table of Contents<span class=\"tocSkip\"></span></h1>\n",
    "<div class=\"toc\"><ul class=\"toc-item\"><li><span><a href=\"#En-X86.\" data-toc-modified-id=\"En-X86.-1\"><span class=\"toc-item-num\">1&nbsp;&nbsp;</span>En X86.</a></span></li><li><span><a href=\"#Trouver-la-faille-?\" data-toc-modified-id=\"Trouver-la-faille-?-2\"><span class=\"toc-item-num\">2&nbsp;&nbsp;</span>Trouver la faille ?</a></span></li><li><span><a href=\"#Aide\" data-toc-modified-id=\"Aide-3\"><span class=\"toc-item-num\">3&nbsp;&nbsp;</span>Aide</a></span></li><li><span><a href=\"#Solution\" data-toc-modified-id=\"Solution-4\"><span class=\"toc-item-num\">4&nbsp;&nbsp;</span>Solution</a></span></li><li><span><a href=\"#Comment-l'éviter-?\" data-toc-modified-id=\"Comment-l'éviter-?-5\"><span class=\"toc-item-num\">5&nbsp;&nbsp;</span>Comment l'éviter ?</a></span></li></ul></div>"
   ]
  },
  {
   "cell_type": "markdown",
   "metadata": {},
   "source": [
    "# Injection\n",
    "\n",
    "Le cas le plus courant/connu d'injection est l'injection sql (voir https://fr.wikipedia.org/wiki/Injection_SQL). \n",
    "\n",
    "L' \"injection\" est une faille pouvant arriver quand un programme produit un programme ou des éléments +/- exécutables à partir de données saisies interactivement. (il y a donc 2 programmes en jeu, un programme principal/producteur et un programme produit, et une saisie interactive dans le programme principal/producteur donnant les éléments pour que ce programme construise le programme produit). \n",
    "\n",
    "Pour donner un exemple dans le contexte d'un cours de représentation de l'information, prenons un cas de programme C qui attend une chaine de caractères et produit avec cette entrée un programme qui vérifiera que cette chaine correspond bien à un nom connu (ici \"John\") et écrira \"Bonjour\" si c'est le cas (et rien ou \"Pardon ?\" sinon).  \n",
    "\n",
    "Le programme produit sera donc proche de celui-là (la chaîne saisie sera à mettre à la place de A-REMPLIR par le programme principal/producteur) :"
   ]
  },
  {
   "cell_type": "code",
   "execution_count": 1,
   "metadata": {
    "ExecuteTime": {
     "end_time": "2022-04-13T12:53:34.406930Z",
     "start_time": "2022-04-13T12:53:34.400625Z"
    }
   },
   "outputs": [
    {
     "name": "stdout",
     "output_type": "stream",
     "text": [
      "Writing bonjourInjection.c\n"
     ]
    }
   ],
   "source": [
    "%%writefile bonjourInjection.c\n",
    "#include <stdio.h>\n",
    "#include <string.h>\n",
    "\n",
    "int main () {\n",
    "    if (strcmp(\"John\",\"A-REMPLIR\")==0) {\n",
    "        printf(\"Bonjour\\n\");}\n",
    "    else {printf(\"Pardon ?\\n\");}\n",
    "    return 0;}"
   ]
  },
  {
   "cell_type": "markdown",
   "metadata": {},
   "source": [
    "Compilation de ce programme"
   ]
  },
  {
   "cell_type": "code",
   "execution_count": 2,
   "metadata": {
    "ExecuteTime": {
     "end_time": "2022-04-13T12:09:12.689478Z",
     "start_time": "2022-04-13T12:09:12.539055Z"
    },
    "collapsed": true
   },
   "outputs": [
    {
     "name": "stdout",
     "output_type": "stream",
     "text": [
      "\t.arch armv5t\n",
      "\t.fpu softvfp\n",
      "\t.eabi_attribute 20, 1\n",
      "\t.eabi_attribute 21, 1\n",
      "\t.eabi_attribute 23, 3\n",
      "\t.eabi_attribute 24, 1\n",
      "\t.eabi_attribute 25, 1\n",
      "\t.eabi_attribute 26, 2\n",
      "\t.eabi_attribute 30, 6\n",
      "\t.eabi_attribute 34, 0\n",
      "\t.eabi_attribute 18, 4\n",
      "\t.file\t\"bonjourInjection.c\"\n",
      "\t.section\t.rodata\n",
      "\t.align\t2\n",
      ".LC0:\n",
      "\t.ascii\t\"Pardon ?\\000\"\n",
      "\t.text\n",
      "\t.align\t2\n",
      "\t.global\tmain\n",
      "\t.type\tmain, %function\n",
      "main:\n",
      "\t@ args = 0, pretend = 0, frame = 0\n",
      "\t@ frame_needed = 1, uses_anonymous_args = 0\n",
      "\tstmfd\tsp!, {fp, lr}\n",
      "\tadd\tfp, sp, #4\n",
      "\tldr\tr0, .L3\n",
      "\tbl\tputs\n",
      "\tmov\tr3, #0\n",
      "\tmov\tr0, r3\n",
      "\tldmfd\tsp!, {fp, pc}\n",
      ".L4:\n",
      "\t.align\t2\n",
      ".L3:\n",
      "\t.word\t.LC0\n",
      "\t.size\tmain, .-main\n",
      "\t.ident\t\"GCC: (Ubuntu/Linaro 4.7.3-12ubuntu1) 4.7.3\"\n",
      "\t.section\t.note.GNU-stack,\"\",%progbits\n"
     ]
    }
   ],
   "source": [
    "%%sh\n",
    "arm-linux-gnueabi-gcc -S -static bonjourInjection.c\n",
    "cat bonjourInjection.s"
   ]
  },
  {
   "cell_type": "markdown",
   "metadata": {},
   "source": [
    "Exécution de ce programme"
   ]
  },
  {
   "cell_type": "code",
   "execution_count": 6,
   "metadata": {
    "ExecuteTime": {
     "end_time": "2022-04-13T12:10:03.000023Z",
     "start_time": "2022-04-13T12:10:02.967262Z"
    }
   },
   "outputs": [
    {
     "name": "stdout",
     "output_type": "stream",
     "text": [
      "Pardon ?\n"
     ]
    }
   ],
   "source": [
    "%%sh\n",
    "arm-linux-gnueabi-gcc -static bonjourInjection.c\n",
    "qemu-arm a.out"
   ]
  },
  {
   "cell_type": "markdown",
   "metadata": {},
   "source": [
    "## En X86."
   ]
  },
  {
   "cell_type": "code",
   "execution_count": 13,
   "metadata": {
    "ExecuteTime": {
     "end_time": "2022-04-13T12:55:36.749928Z",
     "start_time": "2022-04-13T12:55:36.656213Z"
    }
   },
   "outputs": [
    {
     "name": "stdout",
     "output_type": "stream",
     "text": [
      "Pardon ?\n"
     ]
    }
   ],
   "source": [
    "%%sh\n",
    "gcc bonjourInjection.c\n",
    "./a.out"
   ]
  },
  {
   "cell_type": "markdown",
   "metadata": {},
   "source": [
    "Le programme principal/producteur (celui qui produit le programme bonjour), prend donc un paramètre et produit le programme bonjourInjection en fonction (en remplaçant A-REMPLIR par le paramètre). Ce programme est donc le suivant :"
   ]
  },
  {
   "cell_type": "code",
   "execution_count": 7,
   "metadata": {
    "ExecuteTime": {
     "end_time": "2022-04-13T16:49:19.764285Z",
     "start_time": "2022-04-13T16:49:19.757414Z"
    }
   },
   "outputs": [
    {
     "name": "stdout",
     "output_type": "stream",
     "text": [
      "Writing pourBonjourInjection.c\n"
     ]
    }
   ],
   "source": [
    "%%writefile pourBonjourInjection.c\n",
    "#include <stdio.h>\n",
    "#include <stdlib.h>\n",
    "#include <string.h>\n",
    "\n",
    "int main (int argc, char * argv[]) {\n",
    "char command[1000];\n",
    "    if (argc==1) {\n",
    "        printf(\"Il faut un argument\\n\");}\n",
    "    else {\n",
    "        system(\"rm a.out\");\n",
    "        system(\"echo \\\"#include <stdio.h>\\\" > bonjourInjection.c\");\n",
    "        system(\"echo \\\"#include <string.h>\\\" >> bonjourInjection.c\");\n",
    "        system(\"echo \\\"int main () {\\\" >> bonjourInjection.c\");\n",
    "        strcpy(command,\"echo \\\"if (strcmp(\\\\\\\"John\\\\\\\",\\\\\\\"\");\n",
    "        strcat(command,                                     argv[1]);\n",
    "        strcat(command,                                             \"\\\\\\\")==0) {\\\">> bonjourInjection.c\");\n",
    "        system(command);\n",
    "        system(\"echo \\\"  printf(\\\\\\\"Bonjour\\\\\\\");}\\\">> bonjourInjection.c\");\n",
    "        system(\"echo \\\"else {printf(\\\\\\\"Pardon ?\\\\\\\");}\\\" >> bonjourInjection.c\");\n",
    "        system(\"echo \\\"return 0;}\\\" >> bonjourInjection.c\");\n",
    "        system(\"gcc bonjourInjection.c\");\n",
    "        system(\"./a.out\");\n",
    "    }\n",
    "    return 0;}"
   ]
  },
  {
   "cell_type": "markdown",
   "metadata": {},
   "source": [
    "Le fonctionnement prévu est le suivant :\n",
    "* pour John, il dit \"Bonjour\"\n",
    "* pour Joe (ou tout le reste), il dit \"Pardon ?\""
   ]
  },
  {
   "cell_type": "code",
   "execution_count": 8,
   "metadata": {
    "ExecuteTime": {
     "end_time": "2022-04-13T16:31:02.228801Z",
     "start_time": "2022-04-13T16:31:02.031764Z"
    }
   },
   "outputs": [
    {
     "name": "stdout",
     "output_type": "stream",
     "text": [
      "Pardon ?"
     ]
    }
   ],
   "source": [
    "%%sh\n",
    "gcc -o pourBonjourInjection.e pourBonjourInjection.c\n",
    "./pourBonjourInjection.e Joe"
   ]
  },
  {
   "cell_type": "code",
   "execution_count": 12,
   "metadata": {
    "ExecuteTime": {
     "end_time": "2022-04-13T16:31:06.776244Z",
     "start_time": "2022-04-13T16:31:06.583650Z"
    }
   },
   "outputs": [
    {
     "name": "stdout",
     "output_type": "stream",
     "text": [
      "Bonjour"
     ]
    }
   ],
   "source": [
    "%%sh\n",
    "gcc -o pourBonjourInjection.e pourBonjourInjection.c\n",
    "./pourBonjourInjection.e John"
   ]
  },
  {
   "cell_type": "markdown",
   "metadata": {},
   "source": [
    "## Trouver la faille ?\n",
    "\n",
    "Le jeu, maintenant, c'est de trouver comment lui faire dire bonjour, sans dire John."
   ]
  },
  {
   "cell_type": "code",
   "execution_count": 13,
   "metadata": {
    "ExecuteTime": {
     "end_time": "2022-04-13T16:32:56.991011Z",
     "start_time": "2022-04-13T16:32:56.806676Z"
    }
   },
   "outputs": [
    {
     "name": "stdout",
     "output_type": "stream",
     "text": [
      "Pardon ?"
     ]
    }
   ],
   "source": [
    "%%sh\n",
    "gcc -o pourBonjourInjection.e pourBonjourInjection.c\n",
    "./pourBonjourInjection.e MettreCeQueVousVoulezMaisPasNImporteQuoi"
   ]
  },
  {
   "cell_type": "code",
   "execution_count": 14,
   "metadata": {
    "ExecuteTime": {
     "end_time": "2022-04-13T16:44:23.449209Z",
     "start_time": "2022-04-13T16:44:23.433029Z"
    }
   },
   "outputs": [
    {
     "name": "stdout",
     "output_type": "stream",
     "text": [
      "#include <stdio.h>\n",
      "#include <string.h>\n",
      "int main () {\n",
      "if (strcmp(\"John\",\"MettreCeQueVousVoulezMaisPasNImporteQuoi\")==0) {\n",
      "  printf(\"Bonjour\");}\n",
      "else {printf(\"Pardon ?\");}\n",
      "return 0;}\n"
     ]
    }
   ],
   "source": [
    "%%sh\n",
    "cat bonjourInjection.c"
   ]
  },
  {
   "cell_type": "markdown",
   "metadata": {},
   "source": [
    "## Aide \n",
    "\n",
    "Comment faire ?  \n",
    "\n",
    "L'objectif, c'est de mettre une chaîne de caractères \n",
    "* qui ne provoque pas une erreur de compilation\n",
    "* mais qui détourne le test d'égalité pour ne pas le faire vraiment\n",
    "* qui remplace ce test non fait ou mal fait ou fait de manière erronée, en faisant comme s'il avait réussi,\n",
    "* et qui poursuive le reste du code comme si tout était ok\n",
    "\n",
    "Les moyens pour cela :\n",
    "* ajouter des caractères spéciaux dans la chaîne de caractères\n",
    "* en particulier des caractères de fin de chaîne\n",
    "* mais en général, on ne peut pas en mettre ces caractères de fin de chaîne sans caractère spéciaux (dit caractères d'échapement)\n",
    "* il faudra aussi mettre des morceaux de code C, éventuellement après la fin de chaîne, pour faire que le code compile, et s'exécute\n",
    "* etc.\n",
    "\n"
   ]
  },
  {
   "cell_type": "markdown",
   "metadata": {
    "ExecuteTime": {
     "end_time": "2022-04-13T16:59:44.651817Z",
     "start_time": "2022-04-13T16:59:44.641694Z"
    }
   },
   "source": [
    "## Solution\n",
    "\n",
    "La Solution ?  \n",
    "\n",
    "Une solution ?\n",
    "\n",
    "Vous voulez la solution ?\n",
    "\n",
    "Vous voulez une solution ?\n",
    "\n",
    "Toute la solution ?\n",
    "\n",
    "Juste un morceau ?\n",
    "\n",
    "Pour finir la chaîne :\n",
    "* \"\n",
    "\n",
    "Dans un chaîne ?  \n",
    "\n",
    "Pour pouvoir finir la chaîne :\n",
    "* un échapement \\\n",
    "\n",
    "Mais pour avoir un échapement il faut être dans une chaîne ?\n",
    "\n",
    "Et dans cette chaine, l'échapement, il échappe quoi ?\n",
    "\n",
    "Bref ...\n",
    "\n",
    "Dans la chaîne, il faudra mettre :\n",
    "* \"\\\\\\\" .....\"\n",
    "\n",
    "Ensuite, pour tromper le test :\n",
    "* \" ... )!=0 ....\"\n",
    "\n",
    "Puis pour éviter le reste de la ligne (et l'évaluation initiale du test :\n",
    "* \" ... { // ...\"\n",
    "\n",
    "Voila !\n",
    "\n",
    "\n",
    "Au final :\n",
    "* \"\\\\\\\")!=0) { // \""
   ]
  },
  {
   "cell_type": "code",
   "execution_count": 10,
   "metadata": {
    "ExecuteTime": {
     "end_time": "2022-04-13T16:52:44.579070Z",
     "start_time": "2022-04-13T16:52:44.367304Z"
    }
   },
   "outputs": [
    {
     "name": "stdout",
     "output_type": "stream",
     "text": [
      "Bonjour"
     ]
    }
   ],
   "source": [
    "%%sh\n",
    "gcc -o pourBonjourInjection.e pourBonjourInjection.c\n",
    "./pourBonjourInjection.e \"\\\\\\\")!=0) { // \""
   ]
  },
  {
   "cell_type": "code",
   "execution_count": 11,
   "metadata": {
    "ExecuteTime": {
     "end_time": "2022-04-13T16:52:46.997317Z",
     "start_time": "2022-04-13T16:52:46.976533Z"
    }
   },
   "outputs": [
    {
     "name": "stdout",
     "output_type": "stream",
     "text": [
      "#include <stdio.h>\n",
      "#include <string.h>\n",
      "int main () {\n",
      "if (strcmp(\"John\",\"\")!=0) { // \")==0) {\n",
      "  printf(\"Bonjour\");}\n",
      "else {printf(\"Pardon ?\");}\n",
      "return 0;}\n"
     ]
    }
   ],
   "source": [
    "%%sh\n",
    "cat bonjourInjection.c"
   ]
  },
  {
   "cell_type": "markdown",
   "metadata": {},
   "source": [
    "## Comment l'éviter ?\n",
    "\n",
    "Il y a plusieurs choses à éviter, ou dont il faut se méfier :\n",
    "* les codes produits à la volée\n",
    "* les entrées/sorties\n",
    "* les chaînes de caractères\n",
    "\n",
    "Et si on ne peut pas éviter tout cela :\n",
    "* vérifier qu'une chaîne de caractères est bien aussi simple que prévue \n",
    "* (ici, n'auroriser que les lettres a-zA-Z et vérifier que l'entrée est bien seulement constituée de a-ZA-Z)"
   ]
  }
 ],
 "metadata": {
  "kernelspec": {
   "display_name": "Python 3",
   "language": "python",
   "name": "python3"
  },
  "language_info": {
   "codemirror_mode": {
    "name": "ipython",
    "version": 3
   },
   "file_extension": ".py",
   "mimetype": "text/x-python",
   "name": "python",
   "nbconvert_exporter": "python",
   "pygments_lexer": "ipython3",
   "version": "3.4.3"
  },
  "toc": {
   "base_numbering": 1,
   "nav_menu": {},
   "number_sections": true,
   "sideBar": false,
   "skip_h1_title": true,
   "title_cell": "Table of Contents",
   "title_sidebar": "Contents",
   "toc_cell": true,
   "toc_position": {},
   "toc_section_display": false,
   "toc_window_display": true
  },
  "varInspector": {
   "cols": {
    "lenName": 16,
    "lenType": 16,
    "lenVar": 40
   },
   "kernels_config": {
    "python": {
     "delete_cmd_postfix": "",
     "delete_cmd_prefix": "del ",
     "library": "var_list.py",
     "varRefreshCmd": "print(var_dic_list())"
    },
    "r": {
     "delete_cmd_postfix": ") ",
     "delete_cmd_prefix": "rm(",
     "library": "var_list.r",
     "varRefreshCmd": "cat(var_dic_list()) "
    }
   },
   "types_to_exclude": [
    "module",
    "function",
    "builtin_function_or_method",
    "instance",
    "_Feature"
   ],
   "window_display": false
  }
 },
 "nbformat": 4,
 "nbformat_minor": 5
}
