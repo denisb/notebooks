{
 "cells": [
  {
   "cell_type": "markdown",
   "id": "2b01103b-91d5-488c-9723-7ca06a125f03",
   "metadata": {
    "editable": true,
    "execution": {
     "iopub.execute_input": "2024-01-12T08:55:53.447632Z",
     "iopub.status.busy": "2024-01-12T08:55:53.447304Z",
     "iopub.status.idle": "2024-01-12T08:55:53.452035Z",
     "shell.execute_reply": "2024-01-12T08:55:53.451385Z",
     "shell.execute_reply.started": "2024-01-12T08:55:53.447608Z"
    },
    "slideshow": {
     "slide_type": "slide"
    },
    "tags": []
   },
   "source": [
    "<img src=\"logoUGA.png\"></img>\n",
    "\n",
    "C Déclaratif ?"
   ]
  },
  {
   "cell_type": "markdown",
   "id": "953c5d1f-1dbb-46f9-899c-22fbea6afa85",
   "metadata": {
    "editable": true,
    "slideshow": {
     "slide_type": "skip"
    },
    "tags": []
   },
   "source": [
    "1) Introduction \n",
    "2) C réversible\n",
    "3) C non-déterministe"
   ]
  },
  {
   "cell_type": "markdown",
   "id": "0506c539-ab90-4439-910f-e729c77a1bd3",
   "metadata": {
    "editable": true,
    "slideshow": {
     "slide_type": "slide"
    },
    "tags": []
   },
   "source": [
    "# Introduction\n",
    "\n",
    "La programmation déclarative repose sur quelques principes et modes de programmation :\n",
    "\n",
    "* *Réduction des effets de bord*\n",
    "* *Unification*\n",
    "* Raisonnement par Cas\n",
    "* Récursivité\n",
    "* **Réversibilité**\n",
    "* **Non-Déterminisme**\n",
    "* *Contraintes*"
   ]
  },
  {
   "cell_type": "markdown",
   "id": "142684fe-0593-4235-88cd-8bfa0c7731cf",
   "metadata": {
    "editable": true,
    "slideshow": {
     "slide_type": "notes"
    },
    "tags": []
   },
   "source": [
    "(en gras les points qui distingue particulièrement ce paradigme de programmation, en italique ce qui est partagé par d'autres paradigmes de programmation de haut niveau, par ex. la programmation fonctionnelle)\n",
    "\n",
    "Elle favorise une programmation de haut niveau, plus algorithmique, plus rapide (pour le programmeur, mais parfois peu efficace pour la machine) et permet ainsi des phases de prototypages ou de développement et de maintenance avancée.\n",
    "\n",
    "Si les performances sont l'objectif principal d'un projet, après un prototypage en Prolog ou Erlang, il faut pouvoir passer en C (ou dans d'autres langages plus efficaces).\n",
    "\n",
    "Parmi les points listés précédemment, certains sont transposables (plus ou moins) facilement en C (mais plutôt plus que moins) :\n",
    "\n",
    "* Réduction des effets de bord : ne pas en utiliser simplement (c'est évité dans la plupart des paradigmes de programmation, car cela complique, voir rend impossible, les preuves de programmes)\n",
    "* Unification : traduite par une analyse à la main d'une structure attendue (juste du code en plus)\n",
    "* Raisonnement par Cas : les si-alors-sinon sont déjà là (depuis longtemps)\n",
    "* Récursivité : peu utilisés, mais disponibles aussi (depuis longtemps)\n",
    "* Contraintes : utiliser des contraintes en C peut se faire via l'utilisation de librairies [...]\n",
    "\n",
    "Pour la réversibilité et le non-déterminisme, le passage au C n'est peut-être pas aussi évident. Notons, que ce sont (hors les contraintes) des points qui distinguent fortement ProLog (avec ces points) de Erlang (sans ces points).\n",
    "\n",
    "La thèse de Church-Turing postule que tous les langages de programmation ont des potentiels expressifs équivalents ; ce que Prolog peut faire, C doit pouvoir le faire aussi. Voyons comment."
   ]
  },
  {
   "cell_type": "markdown",
   "id": "8ef77496-f3bb-4ff0-a46e-1bc87b10b158",
   "metadata": {
    "editable": true,
    "slideshow": {
     "slide_type": "slide"
    },
    "tags": []
   },
   "source": [
    "# C réversible\n",
    "\n",
    "Commençons par un programme simple (l'incrémentation) et essayons d'écrire une incrémentation réversible en C.\n",
    "\n",
    "**Objectif** : avoir une fonction inc qui permette de faire l'incrémentation de 3 en 4, ou de demander l'antécédent de 4 (et d'obtenir 3)."
   ]
  },
  {
   "cell_type": "markdown",
   "id": "a364d3f2-bde0-49c6-812b-ec28eefcb74a",
   "metadata": {
    "editable": true,
    "slideshow": {
     "slide_type": "notes"
    },
    "tags": []
   },
   "source": [
    "Dans le cas de l'incrémentation, l'objectif est réalisable, parce que la fonction mathématique est (facilement) inversible (le C, pas plus que ProLog ne pourra inverser tous les programmes). En Prolog, la réversibilité de l'incrémantation reposera par exemple sur l'emploi de contraintes et  permettra les exécutions suivantes :  "
   ]
  },
  {
   "cell_type": "code",
   "execution_count": 3,
   "id": "9501245f-ba48-4229-bfd7-cd6aaadc8237",
   "metadata": {
    "editable": true,
    "execution": {
     "iopub.execute_input": "2024-03-12T14:31:24.388207Z",
     "iopub.status.busy": "2024-03-12T14:31:24.387995Z",
     "iopub.status.idle": "2024-03-12T14:31:24.417001Z",
     "shell.execute_reply": "2024-03-12T14:31:24.416386Z",
     "shell.execute_reply.started": "2024-03-12T14:31:24.388193Z"
    },
    "slideshow": {
     "slide_type": "slide"
    },
    "tags": []
   },
   "outputs": [
    {
     "name": "stdout",
     "output_type": "stream",
     "text": [
      "Overwriting prog.pl\n"
     ]
    }
   ],
   "source": [
    "%%writefile prog.pl\n",
    "/* incrementation(X,Y) vrai ssi X+1 = Y */\n",
    "incrementation(X,Y):-\n",
    "  {X+1=Y}.  /* merci les contraintes */\n",
    "\n",
    "main :-  \n",
    "  use_module(library(clpq)),\n",
    "  writeln('Votre requête ?'), read(Entree),\n",
    "  findall(Entree,Entree,Resultats),\n",
    "  write('Liste des résultats : '), writeln(Resultats).\n",
    ":- main."
   ]
  },
  {
   "cell_type": "code",
   "execution_count": 4,
   "id": "0c769f81-14a3-4c2b-ba24-9dca7c78cf81",
   "metadata": {
    "editable": true,
    "execution": {
     "iopub.execute_input": "2024-03-12T14:31:26.624062Z",
     "iopub.status.busy": "2024-03-12T14:31:26.623372Z",
     "iopub.status.idle": "2024-03-12T14:31:26.849541Z",
     "shell.execute_reply": "2024-03-12T14:31:26.848848Z",
     "shell.execute_reply.started": "2024-03-12T14:31:26.624041Z"
    },
    "slideshow": {
     "slide_type": "fragment"
    },
    "tags": []
   },
   "outputs": [
    {
     "name": "stdout",
     "output_type": "stream",
     "text": [
      "Votre requête ?\n",
      "Liste des résultats : [incrementation(41,42)]\n"
     ]
    }
   ],
   "source": [
    "!echo \"incrementation(41,Y).\" | swipl -g halt -s prog.pl"
   ]
  },
  {
   "cell_type": "code",
   "execution_count": 6,
   "id": "3b0d90e5-5fd2-43a0-a6d6-55ae6fbb0422",
   "metadata": {
    "editable": true,
    "execution": {
     "iopub.execute_input": "2024-03-12T14:32:02.043487Z",
     "iopub.status.busy": "2024-03-12T14:32:02.043273Z",
     "iopub.status.idle": "2024-03-12T14:32:02.239882Z",
     "shell.execute_reply": "2024-03-12T14:32:02.239180Z",
     "shell.execute_reply.started": "2024-03-12T14:32:02.043475Z"
    },
    "slideshow": {
     "slide_type": "notes"
    },
    "tags": []
   },
   "outputs": [
    {
     "name": "stdout",
     "output_type": "stream",
     "text": [
      "Votre requête ?\n",
      "Liste des résultats : [incrementation(41,42)]\n"
     ]
    }
   ],
   "source": [
    "!echo \"incrementation(X,42).\" | swipl -g halt -s prog.pl"
   ]
  },
  {
   "cell_type": "markdown",
   "id": "9117b149-acfb-4cb3-8b49-013e0cd30766",
   "metadata": {
    "editable": true,
    "slideshow": {
     "slide_type": "notes"
    },
    "tags": []
   },
   "source": [
    "En C, pour pouvoir \"manipuler\" entrée et sortie, (donnée et résultat, et potentiellement, en inversant les rôles !), une solution consiste à utiliser 2 paramètres passés par adresse. C'est la solution usuelle pour avoir un/plusieurs résultats (et conserver le résultat principal, celui fourni par le ```return```, pour les codes d'erreurs).\n",
    "\n",
    "Pour avoir un comportement proche de ProLog et permettre que ces paramètres soient \"connus\" ou \"libre\", je propose :"
   ]
  },
  {
   "cell_type": "markdown",
   "id": "a8a176fd-859d-46a9-ab0a-ef4365b90c67",
   "metadata": {
    "editable": true,
    "slideshow": {
     "slide_type": "slide"
    },
    "tags": []
   },
   "source": [
    "En C :  \n",
    "* un type Entier défini comme pointeur d'entier (pointeur d'int),\n",
    "* pointeur vide pour signifier que la variable est libre.  "
   ]
  },
  {
   "cell_type": "markdown",
   "id": "0d8ded2c-9cb9-4934-94e6-dd146459eb28",
   "metadata": {
    "editable": true,
    "slideshow": {
     "slide_type": "notes"
    },
    "tags": []
   },
   "source": [
    "(D'autres solutions sont possibles, par exemple, une structure entier-booléen, avec le booléen pour dire si la variable est connue ou pas).\n",
    "* Paramètre par adresse, variable pointeur : attention, la double étoile arrive bientôt.\n",
    "\n",
    "Pour les entrées, sorties, et mettre en place ces Entiers, pointeur d'int (comme entrée en matière) :\n",
    "```C\n",
    "/* saisie */\n",
    "r=scanf(\"%d\",&monInt);\n",
    "if (r&&(r!=EOF)) {\n",
    "    monEntier = &monInt;}\n",
    "else {\n",
    "    monEntier = NULL;};\n",
    "    \n",
    "/* affichage */\n",
    "if (monEntier) {\n",
    "  printf(\"%d\",*monEntier);}\n",
    "else {\n",
    "  printf(\"*\");}\n",
    "```"
   ]
  },
  {
   "cell_type": "markdown",
   "id": "01d2766d-8169-471d-931c-22d89e634a8f",
   "metadata": {
    "editable": true,
    "slideshow": {
     "slide_type": "notes"
    },
    "tags": []
   },
   "source": [
    "Pour saisir un entier :\n",
    "* défini : donner le nombre\n",
    "* non-défini : donner un caractère non numérique, par ex. \"*\""
   ]
  },
  {
   "cell_type": "code",
   "execution_count": 72,
   "id": "5ba9207e-c226-42ab-9ae0-185e196cf20c",
   "metadata": {
    "editable": true,
    "execution": {
     "iopub.execute_input": "2024-03-12T15:17:06.778467Z",
     "iopub.status.busy": "2024-03-12T15:17:06.777992Z",
     "iopub.status.idle": "2024-03-12T15:17:06.795679Z",
     "shell.execute_reply": "2024-03-12T15:17:06.794787Z",
     "shell.execute_reply.started": "2024-03-12T15:17:06.778445Z"
    },
    "slideshow": {
     "slide_type": "notes"
    },
    "tags": []
   },
   "outputs": [
    {
     "name": "stdout",
     "output_type": "stream",
     "text": [
      "Overwriting prog.c\n"
     ]
    }
   ],
   "source": [
    "%%writefile prog.c\n",
    "#include <stdio.h>\n",
    "\n",
    "int main() {\n",
    "int monInt, r, *monEntier;\n",
    "char c;\n",
    "    \n",
    "/* saisie */\n",
    "r=scanf(\"%d\",&monInt);\n",
    "if (r&&(r!=EOF)) {\n",
    "    monEntier = &monInt;}\n",
    "else {\n",
    "    monEntier = NULL;\n",
    "    scanf(\"%c\",&c);};\n",
    "    \n",
    "/* affichage */\n",
    "if (monEntier) {\n",
    "  printf(\"%d\",*monEntier);}\n",
    "else {\n",
    "  printf(\"*\");}\n",
    "\n",
    "return 0;}"
   ]
  },
  {
   "cell_type": "code",
   "execution_count": 73,
   "id": "450abbdd-b057-40ff-8c1d-2a1f4e35c506",
   "metadata": {
    "editable": true,
    "execution": {
     "iopub.execute_input": "2024-03-12T15:17:08.918430Z",
     "iopub.status.busy": "2024-03-12T15:17:08.918168Z",
     "iopub.status.idle": "2024-03-12T15:17:09.486574Z",
     "shell.execute_reply": "2024-03-12T15:17:09.484555Z",
     "shell.execute_reply.started": "2024-03-12T15:17:08.918410Z"
    },
    "slideshow": {
     "slide_type": "notes"
    },
    "tags": []
   },
   "outputs": [
    {
     "name": "stdout",
     "output_type": "stream",
     "text": [
      "42"
     ]
    }
   ],
   "source": [
    "!gcc prog.c\n",
    "!echo -e \"42\" | ./a.out"
   ]
  },
  {
   "cell_type": "code",
   "execution_count": 74,
   "id": "c2ef70ca-b268-4b82-a7bd-1b4ec661d72e",
   "metadata": {
    "editable": true,
    "execution": {
     "iopub.execute_input": "2024-03-12T15:17:10.866786Z",
     "iopub.status.busy": "2024-03-12T15:17:10.866561Z",
     "iopub.status.idle": "2024-03-12T15:17:11.406649Z",
     "shell.execute_reply": "2024-03-12T15:17:11.405893Z",
     "shell.execute_reply.started": "2024-03-12T15:17:10.866769Z"
    },
    "slideshow": {
     "slide_type": "notes"
    },
    "tags": []
   },
   "outputs": [
    {
     "name": "stdout",
     "output_type": "stream",
     "text": [
      "*"
     ]
    }
   ],
   "source": [
    "!gcc prog.c\n",
    "!echo -e \"*\" | ./a.out"
   ]
  },
  {
   "cell_type": "markdown",
   "id": "03a91e7b-e8de-4496-a6a3-aae2d3174e76",
   "metadata": {
    "editable": true,
    "slideshow": {
     "slide_type": "notes"
    },
    "tags": []
   },
   "source": [
    "Pour l'incrémentation, le code est un peu plus long, il distingue les cas où les variables sont définies (ou pas), et indique (via le résultat global) si l'incrémentation est possible ou pas.  \n",
    "Rem. : comme le C n'est pas à instanciation unique, en cas de passage d'une variable du statut de non-défini à défini, une allocation mémoire est ajoutée (pas de partage mémoire) :\n",
    "```C\n",
    "int incrementation(int **x, int**y) {  // x + 1 -> y ?\n",
    "if ((!*x)&&(!*y)) {  //x et y inconnus, on ne peut rien faire\n",
    "    return 1;}\n",
    "else if ((*x)&&(*y)) {  //x et y sont connus, juste on vérifie que x+1=y\n",
    "    return ((**y)!=((**x)+1));}\n",
    "else if (*x) {   // selon que x (ou y) est connu, on fait l'incrémentation\n",
    "    *y=(int *)malloc(sizeof(int));\n",
    "    (**y) = (**x) + 1;\n",
    "    return 0;}\n",
    "else {          // ou l'inverse\n",
    "    *x=(int *)malloc(sizeof(int));\n",
    "    (**x) = (**y) - 1;\n",
    "    return 0;}}\n",
    "```\n",
    "\n",
    "Tout ensemble :"
   ]
  },
  {
   "cell_type": "code",
   "execution_count": 75,
   "id": "ccc178f7-b317-4643-9a94-c0939c371899",
   "metadata": {
    "editable": true,
    "execution": {
     "iopub.execute_input": "2024-03-12T15:17:16.129172Z",
     "iopub.status.busy": "2024-03-12T15:17:16.128935Z",
     "iopub.status.idle": "2024-03-12T15:17:16.146070Z",
     "shell.execute_reply": "2024-03-12T15:17:16.145338Z",
     "shell.execute_reply.started": "2024-03-12T15:17:16.129157Z"
    },
    "slideshow": {
     "slide_type": "notes"
    },
    "tags": []
   },
   "outputs": [
    {
     "name": "stdout",
     "output_type": "stream",
     "text": [
      "Overwriting prog.c\n"
     ]
    }
   ],
   "source": [
    "%%writefile prog.c\n",
    "#include <stdio.h>\n",
    "#include <stdlib.h>\n",
    "\n",
    "int incrementation(int **x, int**y) {  // x + 1 -> y ?\n",
    "if ((!*x)&&(!*y)) {\n",
    "    return 1;}\n",
    "else if ((*x)&&(*y)) {\n",
    "    return ((**y)!=((**x)+1));}\n",
    "else if (*x) {\n",
    "    *y=(int *)malloc(sizeof(int));\n",
    "    (**y) = (**x) + 1;\n",
    "    return 0;}\n",
    "else {\n",
    "    *x=(int *)malloc(sizeof(int));\n",
    "    (**x) = (**y) - 1;\n",
    "    return 0;}\n",
    "}\n",
    "\n",
    "int main() {\n",
    "int a, b, r, *_a, *_b;\n",
    "char c;\n",
    "    \n",
    "r=scanf(\"%d\",&a);\n",
    "if (r&&(r!=EOF)) {\n",
    "    _a = &a;}\n",
    "else {\n",
    "    _a = NULL;\n",
    "    scanf(\"%c\",&c);};\n",
    "r=scanf(\"%d\",&b);\n",
    "if (r&&(r!=EOF)) {\n",
    "    _b = &b;}\n",
    "else {\n",
    "    _b = NULL;\n",
    "    scanf(\"%c\",&c);};\n",
    "\n",
    "if (!incrementation(&_a, &_b)) {\n",
    "    printf(\"+1 ok\\n\");}\n",
    "else {\n",
    "    printf(\"+1 ko\\n\");}\n",
    "\n",
    "if (_a) {\n",
    "  printf(\"%d\\n\",*_a);}\n",
    "else {\n",
    "  printf(\"*\\n\");}\n",
    "if (_b) {\n",
    "  printf(\"%d\\n\",*_b);}\n",
    "else {\n",
    "  printf(\"*\\n\");}\n",
    "return 0;}"
   ]
  },
  {
   "cell_type": "markdown",
   "id": "5f73519d-555c-4235-b9b0-c95f5e80c12a",
   "metadata": {
    "editable": true,
    "slideshow": {
     "slide_type": "notes"
    },
    "tags": []
   },
   "source": [
    "Et on teste, les 4 cas de figures, et sous-cas (connus/pas connus, et surcontraint ou incohérent) :"
   ]
  },
  {
   "cell_type": "code",
   "execution_count": 76,
   "id": "be0671fa-dcb6-42d8-8d6a-597e21cfc9da",
   "metadata": {
    "editable": true,
    "execution": {
     "iopub.execute_input": "2024-03-12T15:17:18.288731Z",
     "iopub.status.busy": "2024-03-12T15:17:18.288169Z",
     "iopub.status.idle": "2024-03-12T15:17:18.868112Z",
     "shell.execute_reply": "2024-03-12T15:17:18.866890Z",
     "shell.execute_reply.started": "2024-03-12T15:17:18.288703Z"
    },
    "slideshow": {
     "slide_type": "notes"
    },
    "tags": []
   },
   "outputs": [
    {
     "name": "stdout",
     "output_type": "stream",
     "text": [
      "+1 ok\n",
      "42\n",
      "43\n"
     ]
    }
   ],
   "source": [
    "!gcc prog.c\n",
    "!echo -e \"42\\n43\" | ./a.out"
   ]
  },
  {
   "cell_type": "code",
   "execution_count": 80,
   "id": "88e4532c-a856-42e9-a412-b322262facf2",
   "metadata": {
    "editable": true,
    "execution": {
     "iopub.execute_input": "2024-03-12T15:17:34.291574Z",
     "iopub.status.busy": "2024-03-12T15:17:34.291263Z",
     "iopub.status.idle": "2024-03-12T15:17:34.798145Z",
     "shell.execute_reply": "2024-03-12T15:17:34.797096Z",
     "shell.execute_reply.started": "2024-03-12T15:17:34.291552Z"
    },
    "slideshow": {
     "slide_type": "notes"
    },
    "tags": []
   },
   "outputs": [
    {
     "name": "stdout",
     "output_type": "stream",
     "text": [
      "+1 ko\n",
      "42\n",
      "1024\n"
     ]
    }
   ],
   "source": [
    "!gcc prog.c\n",
    "!echo -e \"42 1024\" | ./a.out"
   ]
  },
  {
   "cell_type": "code",
   "execution_count": 82,
   "id": "3fab9854-35a6-4f97-a7b1-1ea4130c16e8",
   "metadata": {
    "editable": true,
    "execution": {
     "iopub.execute_input": "2024-03-12T15:17:40.659678Z",
     "iopub.status.busy": "2024-03-12T15:17:40.659370Z",
     "iopub.status.idle": "2024-03-12T15:17:41.230309Z",
     "shell.execute_reply": "2024-03-12T15:17:41.227990Z",
     "shell.execute_reply.started": "2024-03-12T15:17:40.659658Z"
    },
    "slideshow": {
     "slide_type": "notes"
    },
    "tags": []
   },
   "outputs": [
    {
     "name": "stdout",
     "output_type": "stream",
     "text": [
      "+1 ko\n",
      "*\n",
      "*\n"
     ]
    }
   ],
   "source": [
    "!gcc prog.c\n",
    "!echo -e \"* *\" | ./a.out"
   ]
  },
  {
   "cell_type": "code",
   "execution_count": 83,
   "id": "161dc87d-bd7a-4d00-b633-c60ed6433bd2",
   "metadata": {
    "editable": true,
    "execution": {
     "iopub.execute_input": "2024-03-12T15:17:46.576051Z",
     "iopub.status.busy": "2024-03-12T15:17:46.575713Z",
     "iopub.status.idle": "2024-03-12T15:17:47.155326Z",
     "shell.execute_reply": "2024-03-12T15:17:47.153522Z",
     "shell.execute_reply.started": "2024-03-12T15:17:46.576028Z"
    },
    "slideshow": {
     "slide_type": "notes"
    },
    "tags": []
   },
   "outputs": [
    {
     "name": "stdout",
     "output_type": "stream",
     "text": [
      "+1 ok\n",
      "42\n",
      "43\n"
     ]
    }
   ],
   "source": [
    "!gcc prog.c\n",
    "!echo -e \"42 *\" | ./a.out"
   ]
  },
  {
   "cell_type": "code",
   "execution_count": 84,
   "id": "e2f3b55c-28a9-40b5-a9dd-6147f98ed555",
   "metadata": {
    "editable": true,
    "execution": {
     "iopub.execute_input": "2024-03-12T15:17:49.193350Z",
     "iopub.status.busy": "2024-03-12T15:17:49.193046Z",
     "iopub.status.idle": "2024-03-12T15:17:49.761641Z",
     "shell.execute_reply": "2024-03-12T15:17:49.759444Z",
     "shell.execute_reply.started": "2024-03-12T15:17:49.193329Z"
    },
    "slideshow": {
     "slide_type": "notes"
    },
    "tags": []
   },
   "outputs": [
    {
     "name": "stdout",
     "output_type": "stream",
     "text": [
      "+1 ok\n",
      "1023\n",
      "1024\n"
     ]
    }
   ],
   "source": [
    "!gcc prog.c\n",
    "!echo -e \"* 1024\" | ./a.out"
   ]
  },
  {
   "cell_type": "markdown",
   "id": "9c560c68-0d95-4e24-9796-e86a9d9f8d7f",
   "metadata": {
    "editable": true,
    "slideshow": {
     "slide_type": "notes"
    },
    "tags": []
   },
   "source": [
    "Tout marche bien !\n",
    "\n",
    "Pour une version un peu plus intégrée :"
   ]
  },
  {
   "cell_type": "code",
   "execution_count": 1,
   "id": "f69e5655-2ca4-42b5-9162-58996fd57b7d",
   "metadata": {
    "editable": true,
    "execution": {
     "iopub.execute_input": "2024-03-26T08:27:05.379638Z",
     "iopub.status.busy": "2024-03-26T08:27:05.378174Z",
     "iopub.status.idle": "2024-03-26T08:27:05.495272Z",
     "shell.execute_reply": "2024-03-26T08:27:05.494510Z",
     "shell.execute_reply.started": "2024-03-26T08:27:05.379395Z"
    },
    "slideshow": {
     "slide_type": "slide"
    },
    "tags": []
   },
   "outputs": [
    {
     "name": "stdout",
     "output_type": "stream",
     "text": [
      "Overwriting prog.c\n"
     ]
    }
   ],
   "source": [
    "%%writefile prog.c\n",
    "#include <stdio.h>\n",
    "#include <stdlib.h>\n",
    "\n",
    "typedef int *Entier ;\n",
    "\n",
    "int lireEntier(Entier *x) {\n",
    "  int rep;\n",
    "  Entier tmp;\n",
    "  char c;\n",
    "tmp=(Entier ) malloc(sizeof(int));\n",
    "rep=scanf(\"%d\",tmp);\n",
    "if (rep&&(rep!=EOF)) {\n",
    "    *x = tmp;}\n",
    "else {\n",
    "    *x = NULL;\n",
    "    free(tmp);\n",
    "    scanf(\"%c\",&c);}\n",
    "return 1;}\n",
    "\n",
    "int ecrireEntier(Entier x) {\n",
    "if (x) {\n",
    "  printf(\"%d\\n\",*x);}\n",
    "else {\n",
    "  printf(\"*\\n\");}\n",
    "return 1;}\n",
    "    \n",
    "int estDefiniEntier(Entier x) {\n",
    "return x!=NULL;}\n",
    "\n",
    "int valeurEntier(Entier x) {\n",
    "return *x;}\n",
    "\n",
    "int affecteEntier(Entier *x, int v) {\n",
    "if ((*x)==NULL) {\n",
    "  *x=(Entier )malloc(sizeof(int)); } \n",
    "**x=v;    \n",
    "return 1;}\n",
    "\n",
    "\n",
    "int plusUn(Entier *x, Entier *y) {  // x + 1 -> y ? \n",
    "// en sortie 0 : ok, \n",
    "//           1 : ko (soit les 2 entiers sont indéfinis, \n",
    "//                   soit ils sont définis mais ne respectent pas x + 1 = y)\n",
    "if ((!estDefiniEntier(*x))&&(!estDefiniEntier(*y))) {\n",
    "    return 1;}\n",
    "else if (estDefiniEntier(*x)&&estDefiniEntier(*y)) {\n",
    "    return (valeurEntier(*y)!=(valeurEntier(*x)+1));}\n",
    "else if (estDefiniEntier(*x)) {\n",
    "    affecteEntier(y,valeurEntier(*x) + 1);\n",
    "    return 0;}\n",
    "else {\n",
    "    affecteEntier(x,valeurEntier(*y) - 1);\n",
    "    return 0;}}\n",
    "\n",
    "\n",
    "int main() {\n",
    "Entier a, b;\n",
    "\n",
    "lireEntier(&a);\n",
    "lireEntier(&b);\n",
    "\n",
    "\n",
    "if (plusUn(&a, &b)) {\n",
    "    printf(\"+1 ko\\n\");}\n",
    "else {\n",
    "    printf(\"+1 ok\\n\");}\n",
    "    \n",
    "ecrireEntier(a);\n",
    "ecrireEntier(b);\n",
    "return 0;}"
   ]
  },
  {
   "cell_type": "code",
   "execution_count": 6,
   "id": "0def875e-b21e-4a04-9269-864ba213c103",
   "metadata": {
    "editable": true,
    "execution": {
     "iopub.execute_input": "2024-03-26T08:28:08.442856Z",
     "iopub.status.busy": "2024-03-26T08:28:08.442213Z",
     "iopub.status.idle": "2024-03-26T08:28:09.051002Z",
     "shell.execute_reply": "2024-03-26T08:28:09.048307Z",
     "shell.execute_reply.started": "2024-03-26T08:28:08.442835Z"
    },
    "slideshow": {
     "slide_type": "fragment"
    },
    "tags": []
   },
   "outputs": [
    {
     "name": "stdout",
     "output_type": "stream",
     "text": [
      "+1 ko\n",
      "42\n",
      "44\n"
     ]
    }
   ],
   "source": [
    "!gcc prog.c\n",
    "!echo -e \"42 44\" | ./a.out"
   ]
  },
  {
   "cell_type": "code",
   "execution_count": 88,
   "id": "c69e4dd7-c054-4692-9ecb-0e160addf9ce",
   "metadata": {
    "editable": true,
    "execution": {
     "iopub.execute_input": "2024-03-12T15:43:17.478906Z",
     "iopub.status.busy": "2024-03-12T15:43:17.478025Z",
     "iopub.status.idle": "2024-03-12T15:43:18.113347Z",
     "shell.execute_reply": "2024-03-12T15:43:18.112544Z",
     "shell.execute_reply.started": "2024-03-12T15:43:17.478887Z"
    },
    "slideshow": {
     "slide_type": "notes"
    },
    "tags": []
   },
   "outputs": [
    {
     "name": "stdout",
     "output_type": "stream",
     "text": [
      "+1 ok\n",
      "42\n",
      "43\n"
     ]
    }
   ],
   "source": [
    "!gcc prog.c\n",
    "!echo -e \"* 43\" | ./a.out"
   ]
  },
  {
   "cell_type": "code",
   "execution_count": 89,
   "id": "07d43c2d-02b2-4447-b5a5-160102fed46c",
   "metadata": {
    "editable": true,
    "execution": {
     "iopub.execute_input": "2024-03-12T15:43:24.772969Z",
     "iopub.status.busy": "2024-03-12T15:43:24.772730Z",
     "iopub.status.idle": "2024-03-12T15:43:25.406770Z",
     "shell.execute_reply": "2024-03-12T15:43:25.406141Z",
     "shell.execute_reply.started": "2024-03-12T15:43:24.772952Z"
    },
    "slideshow": {
     "slide_type": "notes"
    },
    "tags": []
   },
   "outputs": [
    {
     "name": "stdout",
     "output_type": "stream",
     "text": [
      "+1 ok\n",
      "42\n",
      "43\n"
     ]
    }
   ],
   "source": [
    "!gcc prog.c\n",
    "!echo -e \"42 *\" | ./a.out"
   ]
  },
  {
   "cell_type": "code",
   "execution_count": 92,
   "id": "1ed52ba6-e6f4-4ec2-b99f-84920b98b3e5",
   "metadata": {
    "editable": true,
    "execution": {
     "iopub.execute_input": "2024-03-12T15:43:47.382810Z",
     "iopub.status.busy": "2024-03-12T15:43:47.382534Z",
     "iopub.status.idle": "2024-03-12T15:43:48.005560Z",
     "shell.execute_reply": "2024-03-12T15:43:48.004658Z",
     "shell.execute_reply.started": "2024-03-12T15:43:47.382796Z"
    },
    "slideshow": {
     "slide_type": "notes"
    },
    "tags": []
   },
   "outputs": [
    {
     "name": "stdout",
     "output_type": "stream",
     "text": [
      "+1 ko\n",
      "*\n",
      "*\n"
     ]
    }
   ],
   "source": [
    "!gcc prog.c\n",
    "!echo -e \"* *\" | ./a.out"
   ]
  },
  {
   "cell_type": "code",
   "execution_count": 95,
   "id": "633ed4cd-2655-4386-a10b-340ee39bf518",
   "metadata": {
    "editable": true,
    "execution": {
     "iopub.execute_input": "2024-03-12T15:45:30.899854Z",
     "iopub.status.busy": "2024-03-12T15:45:30.899604Z",
     "iopub.status.idle": "2024-03-12T15:45:31.539669Z",
     "shell.execute_reply": "2024-03-12T15:45:31.538922Z",
     "shell.execute_reply.started": "2024-03-12T15:45:30.899835Z"
    },
    "slideshow": {
     "slide_type": "notes"
    },
    "tags": []
   },
   "outputs": [
    {
     "name": "stdout",
     "output_type": "stream",
     "text": [
      "+1 ko\n",
      "42\n",
      "1024\n"
     ]
    }
   ],
   "source": [
    "!gcc prog.c\n",
    "!echo -e \"42 1024\" | ./a.out"
   ]
  },
  {
   "cell_type": "markdown",
   "id": "24d2d14c-7f52-4b6d-a224-2da90a5b399c",
   "metadata": {
    "editable": true,
    "slideshow": {
     "slide_type": "slide"
    },
    "tags": []
   },
   "source": [
    "Autre exemple, sur les listes : Dupliquer l'élément en queue de liste.  \n",
    "(À l'envers, retire un élément en queue de liste (si doublon).)\n",
    "\n",
    "La liste sera représentée de manière contiguë dans un tableau de longueur limitée, avec longueur explicite."
   ]
  },
  {
   "cell_type": "code",
   "execution_count": 96,
   "id": "f06ac02d-57bc-4aaf-8851-c37ae199edf9",
   "metadata": {
    "editable": true,
    "execution": {
     "iopub.execute_input": "2024-03-12T15:47:11.271140Z",
     "iopub.status.busy": "2024-03-12T15:47:11.270914Z",
     "iopub.status.idle": "2024-03-12T15:47:11.289906Z",
     "shell.execute_reply": "2024-03-12T15:47:11.289327Z",
     "shell.execute_reply.started": "2024-03-12T15:47:11.271127Z"
    },
    "slideshow": {
     "slide_type": "slide"
    },
    "tags": []
   },
   "outputs": [
    {
     "name": "stdout",
     "output_type": "stream",
     "text": [
      "Overwriting prog.c\n"
     ]
    }
   ],
   "source": [
    "%%writefile prog.c\n",
    "#include <stdio.h>\n",
    "#include <stdlib.h>\n",
    "\n",
    "typedef struct {int tab[10]; int lg;} *Liste;\n",
    "\n",
    "int lireListe(Liste *x) { //non-liste : - ; liste vide :  ; liste 1, 2, 3 : 1 2 3 \n",
    "  int rep, elt, flt, i;\n",
    "  Liste tmp;\n",
    "rep=scanf(\"%d\",&elt);\n",
    "if (!rep) {\n",
    "  *x=NULL;\n",
    "  return 1;}\n",
    "else if (rep==EOF) {\n",
    "  *x=(Liste ) malloc(11*sizeof(int));\n",
    "  (*x)->lg=0;\n",
    "  return 1;}\n",
    "else {\n",
    "  *x=(Liste ) malloc(11*sizeof(int));\n",
    "  (*x)->lg=0;\n",
    "  for(i=0;i<10;i++) {   \n",
    "    (*x)->tab[(*x)->lg]=elt;\n",
    "    (*x)->lg=(*x)->lg+1;\n",
    "    rep=scanf(\"%d\",&elt);\n",
    "    if ((!rep)||(rep==EOF)) {\n",
    "        return 1;}}}\n",
    "return 1;}\n",
    "\n",
    "int ecrireListe(Liste x) {\n",
    "int i;\n",
    "if (x) {\n",
    "  for(i=0;i<x->lg;i++) {  \n",
    "  printf(\"%d \\n\",x->tab[i]);}}\n",
    "else {\n",
    "  printf(\"-\\n\");}\n",
    "return 1;}\n",
    "    \n",
    "\n",
    "int dupliqueDernierElement(Liste *x, Liste *y) {  // x ++ -> y ? \n",
    "// en sortie 0 : ok,  1 : ko \n",
    "int i;\n",
    "if (((*x) != NULL)&&((*y) != NULL)) {\n",
    "    return 1;}\n",
    "else if ((*x == NULL)&&(*y == NULL)) {\n",
    "    return (*y)->tab[(*y)->lg-1] != (*y)->tab[(*y)->lg-2];} //on vérifie juste que y se termine avec un doublon\n",
    "else if (*y == NULL) {\n",
    "    *y=(Liste ) malloc(11*sizeof(int));\n",
    "    (*y)->lg=0;\n",
    "    for(i=0;i<(*x)->lg;i++) {   \n",
    "      (*y)->tab[(*y)->lg]=(*x)->tab[(*y)->lg];\n",
    "      (*y)->lg=(*y)->lg+1;}\n",
    "    (*y)->tab[(*y)->lg]=(*y)->tab[(*y)->lg-1];\n",
    "    (*y)->lg=(*y)->lg+1;\n",
    "    return 0;}\n",
    "else {\n",
    "    *x=(Liste ) malloc(11*sizeof(int));\n",
    "    (*x)->lg=0;\n",
    "    for(i=0;i<(*y)->lg-1;i++) {   \n",
    "      (*x)->tab[(*x)->lg]=(*y)->tab[(*x)->lg];\n",
    "      (*x)->lg=(*x)->lg+1;}\n",
    "    return (*y)->tab[(*y)->lg-1] != (*y)->tab[(*y)->lg-2];}} //on vérifie que y se termine avec un doublon\n",
    "\n",
    "int main() {\n",
    "Liste a=NULL, b=NULL;\n",
    "\n",
    "lireListe(&a);\n",
    " if (dupliqueDernierElement(&a, &b)) {\n",
    "    printf(\"dup ko\\nOn ne peut pas inverser\\n\");\n",
    "    ecrireListe(a);}\n",
    "else {\n",
    "    printf(\"dup ok\\n\");\n",
    "    ecrireListe(a);\n",
    "    printf(\" donne -> \\n\");\n",
    "    ecrireListe(b);}\n",
    "printf(\"\\n on inverse\\n\\n\");\n",
    "b=NULL;\n",
    "if (dupliqueDernierElement(&b,&a)) {\n",
    "    printf(\"dup ko\\nOn ne peut pas inverser\\n\");\n",
    "    ecrireListe(a);}\n",
    "else {\n",
    "    ecrireListe(a);\n",
    "    printf(\" est obtenue à partir de <<-- \\n\");\n",
    "    printf(\"dup ok\\n\");\n",
    "    ecrireListe(b);}\n",
    "return 0;}"
   ]
  },
  {
   "cell_type": "code",
   "execution_count": 97,
   "id": "672faf53-d469-4a33-b057-cd252ae4de79",
   "metadata": {
    "editable": true,
    "execution": {
     "iopub.execute_input": "2024-03-12T15:48:19.326012Z",
     "iopub.status.busy": "2024-03-12T15:48:19.325794Z",
     "iopub.status.idle": "2024-03-12T15:48:19.954871Z",
     "shell.execute_reply": "2024-03-12T15:48:19.952723Z",
     "shell.execute_reply.started": "2024-03-12T15:48:19.325996Z"
    },
    "slideshow": {
     "slide_type": "fragment"
    },
    "tags": []
   },
   "outputs": [
    {
     "name": "stdout",
     "output_type": "stream",
     "text": [
      "dup ok\n",
      "42 \n",
      "1024 \n",
      "1024 \n",
      " donne -> \n",
      "42 \n",
      "1024 \n",
      "1024 \n",
      "1024 \n",
      "\n",
      " on inverse\n",
      "\n",
      "42 \n",
      "1024 \n",
      "1024 \n",
      " est obtenue à partir de <<-- \n",
      "dup ok\n",
      "42 \n",
      "1024 \n"
     ]
    }
   ],
   "source": [
    "!gcc prog.c\n",
    "!echo -e \"42 1024 1024\" | ./a.out"
   ]
  },
  {
   "cell_type": "code",
   "execution_count": 98,
   "id": "e8dc1371-f62b-4cf4-9ae6-a3cab94dee6b",
   "metadata": {
    "editable": true,
    "execution": {
     "iopub.execute_input": "2024-03-12T15:48:33.215543Z",
     "iopub.status.busy": "2024-03-12T15:48:33.215154Z",
     "iopub.status.idle": "2024-03-12T15:48:33.851388Z",
     "shell.execute_reply": "2024-03-12T15:48:33.850271Z",
     "shell.execute_reply.started": "2024-03-12T15:48:33.215524Z"
    },
    "slideshow": {
     "slide_type": "notes"
    },
    "tags": []
   },
   "outputs": [
    {
     "name": "stdout",
     "output_type": "stream",
     "text": [
      "dup ok\n",
      "42 \n",
      "1024 \n",
      " donne -> \n",
      "42 \n",
      "1024 \n",
      "1024 \n",
      "\n",
      " on inverse\n",
      "\n",
      "dup ko\n",
      "On ne peut pas inverser\n",
      "42 \n",
      "1024 \n"
     ]
    }
   ],
   "source": [
    "!gcc prog.c\n",
    "!echo -e \"42 1024\" | ./a.out"
   ]
  },
  {
   "cell_type": "markdown",
   "id": "e1c4b733-f8a0-43e1-bd1e-7d76f9e6c1f2",
   "metadata": {
    "editable": true,
    "slideshow": {
     "slide_type": "slide"
    },
    "tags": []
   },
   "source": [
    "# C non-détermiste\n",
    "\n",
    "**Objectif** : Course à 100 Non Déterministe (faire une somme égale à 100 en prenant des sous-liste d'une liste d'entiers donnée par ordre de longueur des sous-liste, la plus courte en premier).\n",
    "\n",
    "Si l'on avait un oracle qui nous permettait de choisir les bonnes valeurs à prendre (ou rejeter), cela pourrait être résolu en quelques lignes :\n",
    "\n",
    "```C\n",
    "void mainRec(int LgFinSol, int k) { \n",
    "if (k<10) {\n",
    "  if (LgFinSol==0) {\n",
    "    somme(k);}\n",
    "  else {\n",
    "    env[k]=__choixEnv(k)__ //0 ou 1 ?\n",
    "    mainRec(LgFinSol [-1 selon choix],k+1);}}\n",
    "\n",
    "int main() {\n",
    "  mainRec(__choixLgSol()__,0);  // 1 .. 10 ?\n",
    "return 0;}\n",
    "```"
   ]
  },
  {
   "cell_type": "markdown",
   "id": "35534425-22cd-4ef1-a84a-9704b42df34e",
   "metadata": {
    "editable": true,
    "slideshow": {
     "slide_type": "notes"
    },
    "tags": []
   },
   "source": [
    "Pour mettre en place, les points de choix, pour un problème général, il faudrait avoir une pile des environnements définis à chaque choix, et la liste des choix possibles. \n",
    "\n",
    "Pour le problème posé, on se satisfera d'utiliser la pile des appels récursifs avec les 2 variables LgFinSol et k, (il faudrait ajouter sur cette pile l'environnement des variables définies, en particulier le tableau env\\[\\] (mais ne n'est pas immédiat, ni efficace, et ce n'est pas utile ici, car on travaille peu dessus)) et on liste les différents choix possibles, comme du code à exécuter, les uns à la suite des autres (avec une pile des environnement, entre deux choix, il faudrait rétablir l'environnement de départ). \n",
    "\n",
    "Le résultat est le suivant (avec la définition auxiliaire de somme qui n'est là que pour vérifier que l'on a une solution ou pas, somme est déterministe, la partie non-déterministe est dans le main/mainRec) :"
   ]
  },
  {
   "cell_type": "code",
   "execution_count": 7,
   "id": "0483b16c-4b78-4144-baf8-c9f9cb8fc5ed",
   "metadata": {
    "editable": true,
    "execution": {
     "iopub.execute_input": "2024-03-26T08:31:12.317723Z",
     "iopub.status.busy": "2024-03-26T08:31:12.317356Z",
     "iopub.status.idle": "2024-03-26T08:31:12.337460Z",
     "shell.execute_reply": "2024-03-26T08:31:12.336790Z",
     "shell.execute_reply.started": "2024-03-26T08:31:12.317699Z"
    },
    "slideshow": {
     "slide_type": "slide"
    },
    "tags": []
   },
   "outputs": [
    {
     "name": "stdout",
     "output_type": "stream",
     "text": [
      "Overwriting prog.c\n"
     ]
    }
   ],
   "source": [
    "%%writefile prog.c\n",
    "#include <stdio.h>\n",
    "\n",
    "int env[10], val[10]={10,20,30,50,80,70,50,20,20,10};\n",
    "\n",
    "void somme(int tailleUtileTabVal) {\n",
    "int s=0;\n",
    "for(int i=0;i<tailleUtileTabVal;i++) {\n",
    "    if (env[i]) {s=s+val[i];}}\n",
    "if (s==100) {\n",
    "  for(int i=0;i<tailleUtileTabVal;i++) {\n",
    "    if (env[i]) {printf(\"%d \",val[i]);}}\n",
    "  printf(\"\\n\");}}\n",
    "\n",
    "void mainRec(int LgFinSol, int indEC) { \n",
    "if (indEC<10) {\n",
    "  if (LgFinSol==0) {\n",
    "    somme(indEC);}\n",
    "  else {\n",
    "    env[indEC]=0;\n",
    "    mainRec(LgFinSol,indEC+1);\n",
    "    // pt de choix\n",
    "    env[indEC]=1;\n",
    "    mainRec(LgFinSol-1,indEC+1);}}}\n",
    "\n",
    "int main() {\n",
    "for (int lgSol=1;lgSol<=10;lgSol++) {  //points de choix itératifs\n",
    "  mainRec(lgSol,0);}\n",
    "return 0;}"
   ]
  },
  {
   "cell_type": "markdown",
   "id": "08887348-30eb-440e-86c2-318608dacbdd",
   "metadata": {
    "editable": true,
    "slideshow": {
     "slide_type": "notes"
    },
    "tags": []
   },
   "source": [
    "Ca marche très bien :"
   ]
  },
  {
   "cell_type": "code",
   "execution_count": 8,
   "id": "9ed59fd1-1cb5-4b37-be5a-db1445487cea",
   "metadata": {
    "editable": true,
    "execution": {
     "iopub.execute_input": "2024-03-26T08:31:20.625913Z",
     "iopub.status.busy": "2024-03-26T08:31:20.625584Z",
     "iopub.status.idle": "2024-03-26T08:31:21.198782Z",
     "shell.execute_reply": "2024-03-26T08:31:21.188302Z",
     "shell.execute_reply.started": "2024-03-26T08:31:20.625890Z"
    },
    "slideshow": {
     "slide_type": "fragment"
    },
    "tags": []
   },
   "outputs": [
    {
     "name": "stdout",
     "output_type": "stream",
     "text": [
      "80 20 \n",
      "80 20 \n",
      "50 50 \n",
      "30 70 \n",
      "20 80 \n",
      "30 50 20 \n",
      "30 50 20 \n",
      "30 50 20 \n",
      "30 50 20 \n",
      "20 30 50 \n",
      "20 30 50 \n",
      "10 70 20 \n",
      "10 70 20 \n",
      "10 20 70 \n",
      "10 50 20 20 \n",
      "10 50 20 20 \n",
      "10 20 50 20 \n",
      "10 20 50 20 \n",
      "10 20 50 20 \n",
      "10 20 50 20 \n",
      "10 20 30 20 20 \n"
     ]
    }
   ],
   "source": [
    "!gcc prog.c\n",
    "!./a.out"
   ]
  },
  {
   "cell_type": "markdown",
   "id": "3ae569b2-0b1e-456c-b023-ddd00d075079",
   "metadata": {
    "editable": true,
    "slideshow": {
     "slide_type": "notes"
    },
    "tags": []
   },
   "source": [
    "# Conclusion\n",
    "\n",
    "Le C aussi peut être déclaratif !\n",
    "\n",
    "remarques :\n",
    "\n",
    "* travailler en C, permet le plus souvent d'avoir des programmes qui vont plus vites (2 fois plus vite, 50 fois plus vites, cela dépend des langages de comparaison), mais :\n",
    "* changer de langage de programmation ne change pas (en général) la classe de complexité d'un programme, et donc :\n",
    "* sur des grandes données, un programme linéaire en Prolog a toutes les chances d'aller plus vite qu'un programme quadratique en C\n",
    "* le premier objectif, pour gagner en temps de calcul, c'est de travailler l'algorithmique  \n",
    "pourquoi pas avec un langage de plus haut niveau qui permet d'être plus à l'aise (sans trop se soucier de détails de programmation)"
   ]
  }
 ],
 "metadata": {
  "kernelspec": {
   "display_name": "Python 3 (ipykernel)",
   "language": "python",
   "name": "python3"
  },
  "language_info": {
   "codemirror_mode": {
    "name": "ipython",
    "version": 3
   },
   "file_extension": ".py",
   "mimetype": "text/x-python",
   "name": "python",
   "nbconvert_exporter": "python",
   "pygments_lexer": "ipython3",
   "version": "3.10.12"
  },
  "rise": {
   "scroll": true
  },
  "title": "C, déclaratif ?"
 },
 "nbformat": 4,
 "nbformat_minor": 5
}
