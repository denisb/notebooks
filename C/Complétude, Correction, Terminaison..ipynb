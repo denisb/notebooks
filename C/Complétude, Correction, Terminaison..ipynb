{
 "cells": [
  {
   "cell_type": "markdown",
   "metadata": {
    "toc": true
   },
   "source": [
    "<h1>Table of Contents<span class=\"tocSkip\"></span></h1>\n",
    "<div class=\"toc\"><ul class=\"toc-item\"><li><span><a href=\"#Première-solution-(naïve)-:-incorrect,-mais-complète-et-qui-termine.\" data-toc-modified-id=\"Première-solution-(naïve)-:-incorrect,-mais-complète-et-qui-termine.-1\"><span class=\"toc-item-num\">1&nbsp;&nbsp;</span>Première solution (naïve) : incorrect, mais complète et qui termine.</a></span></li><li><span><a href=\"#Solution-correcte,-complète-et-qui-termine\" data-toc-modified-id=\"Solution-correcte,-complète-et-qui-termine-2\"><span class=\"toc-item-num\">2&nbsp;&nbsp;</span>Solution correcte, complète et qui termine</a></span></li><li><span><a href=\"#Une-solution-qui-ne-termine-pas\" data-toc-modified-id=\"Une-solution-qui-ne-termine-pas-3\"><span class=\"toc-item-num\">3&nbsp;&nbsp;</span>Une solution qui ne termine pas</a></span></li><li><span><a href=\"#Une-solution-incomplète-mais-correcte-et-qui-termine\" data-toc-modified-id=\"Une-solution-incomplète-mais-correcte-et-qui-termine-4\"><span class=\"toc-item-num\">4&nbsp;&nbsp;</span>Une solution incomplète mais correcte et qui termine</a></span></li><li><span><a href=\"#Conclusion\" data-toc-modified-id=\"Conclusion-5\"><span class=\"toc-item-num\">5&nbsp;&nbsp;</span>Conclusion</a></span></li></ul></div>"
   ]
  },
  {
   "cell_type": "markdown",
   "metadata": {},
   "source": [
    "# Complétude, Correction, Terminaison.\n",
    "\n",
    "Pour reprendre ce qui est écrit sur Wikipédia :\n",
    "> Ces trois notions « correction », « complétude », « terminaison » sont liées, \n",
    "> et supposent qu'un algorithme est écrit pour résoudre un problème.\n",
    ">\n",
    "> La terminaison est l'assurance que l'algorithme terminera en un temps fini. Les preuves de terminaison font \n",
    "> habituellement intervenir une fonction entière positive strictement décroissante à chaque « pas » de l'algorithme.\n",
    ">\n",
    "> Étant donnée la garantie qu'un algorithme terminera, la preuve de correction doit apporter l'assurance \n",
    "> que si l'algorithme termine en donnant un résultat, alors ce résultat est effectivement une solution \n",
    "> au problème posé. Les preuves de correction font habituellement intervenir une spécification logique \n",
    "> que doivent vérifier les solutions du problème. La preuve de correction consiste donc à montrer \n",
    "> que les résultats de l'algorithme vérifient cette spécification.\n",
    "\n",
    "> La preuve de complétude garantit que, pour un espace de problèmes donné, l'algorithme, \n",
    "> s'il termine, donnera l'ensemble des solutions de l'espace du problème. \n",
    "> Les preuves de complétude demandent à identifier l'espace du problème et \n",
    "> l'espace des solutions pour ensuite montrer que l'algorithme produit \n",
    "> bien le second à partir du premier. \n",
    "\n",
    "Prenons donc un problème (simple), résoudre une équation paramétrique diophantienne (recherche des solutions entières seulement, parce que l'informatique cela ne calcule bien et facilement qu'avec les entiers) :\n",
    "$$ 2X+P = 0 $$\n",
    "\n",
    "Remarques : l'espace des solutions est l'espace des entiers, au paramètre $-2N$ correspond la solution $N$. Pour les paramètres impairs, il n'y a pas de solution (entière).\n",
    "\n",
    "Et proposons quelques programmes pour résoudre ce problème. Et pour chacun, regardons :\n",
    "* est-ce que le programme, lorsqu'il donne un résultat, donne bien un résultat entier qui valide l'équation ; c'est à dire, est-ce que le programme est correct ?\n",
    "* est-ce que le programme est complet ? \n",
    "* est-ce que le programme termine (toujours) ?\n",
    "\n",
    "## Première solution (naïve) : incorrect, mais complète et qui termine."
   ]
  },
  {
   "cell_type": "code",
   "execution_count": 25,
   "metadata": {
    "ExecuteTime": {
     "end_time": "2021-01-06T09:43:30.054130Z",
     "start_time": "2021-01-06T09:43:29.964103Z"
    }
   },
   "outputs": [
    {
     "name": "stdout",
     "output_type": "stream",
     "text": [
      "Solution de l'equation 2X+10 = 0 :\n",
      "   X = -5\n",
      "Verification 2*-5+10 = 0\n"
     ]
    }
   ],
   "source": [
    "#include <stdio.h>\n",
    "#include <stdlib.h>\n",
    "\n",
    "int main(int argc, char * argv[]) {\n",
    "int Parametre=10;\n",
    "int Solution = -Parametre/2;\n",
    "printf(\"Solution entiere de l'equation 2X+%d = 0 :\\n   X = %d\\nVerification 2*%d+%d = %d\\n\",Parametre,Solution,Solution,Parametre,2*Solution+Parametre);\n",
    "return 0;}"
   ]
  },
  {
   "cell_type": "markdown",
   "metadata": {},
   "source": [
    "Cela semble pas mal, mais :\n",
    "<div style=\"width: 400px;  padding-top:10px; padding-bottom:10px;border: 3px solid #ff5252; background: #fce6d4;\"> \n",
    "  <ul>\n",
    "    <li><b>Non</b>, le programme n'est pas correct</li>\n",
    "    <li><b>Oui</b>, le programme est complet</li>\n",
    "    <li><b>Oui</b>, le programme  termine  toujours</li>\n",
    "  </ul>\n",
    "</div>\n",
    "\n",
    "Pour voir le problème de correction, prenons un paramètre impair, par exemple P=9 "
   ]
  },
  {
   "cell_type": "code",
   "execution_count": 26,
   "metadata": {
    "ExecuteTime": {
     "end_time": "2021-01-06T09:43:33.229136Z",
     "start_time": "2021-01-06T09:43:33.134851Z"
    }
   },
   "outputs": [
    {
     "name": "stdout",
     "output_type": "stream",
     "text": [
      "Solution de l'equation 2X+9 = 0 :\n",
      "   X = -4\n",
      "Verification 2*-4+9 = 1\n"
     ]
    }
   ],
   "source": [
    "#include <stdio.h>\n",
    "#include <stdlib.h>\n",
    "\n",
    "int main(int argc, char * argv[]) {\n",
    "int Parametre=9;\n",
    "int Solution = -Parametre/2;\n",
    "printf(\"Solution entiere de l'equation 2X+%d = 0 :\\n   X = %d\\nVerification 2*%d+%d = %d\\n\",Parametre,Solution,Solution,Parametre,2*Solution+Parametre);\n",
    "return 0;}"
   ]
  },
  {
   "cell_type": "markdown",
   "metadata": {},
   "source": [
    "## Solution correcte, complète et qui termine\n",
    "\n",
    "Pour obtenir la correction, il suffit de ne pas dire de bêtise (pour les paramètres impairs, il n'y a pas de solution) : "
   ]
  },
  {
   "cell_type": "code",
   "execution_count": 28,
   "metadata": {
    "ExecuteTime": {
     "end_time": "2021-01-06T09:45:06.135627Z",
     "start_time": "2021-01-06T09:45:06.045743Z"
    }
   },
   "outputs": [
    {
     "name": "stdout",
     "output_type": "stream",
     "text": [
      "Pas de solution pour l'equation 2X+9 = 0 (9 est impair)\n"
     ]
    }
   ],
   "source": [
    "#include <stdio.h>\n",
    "#include <stdlib.h>\n",
    "\n",
    "int main(int argc, char * argv[]) {\n",
    "int Parametre=9;\n",
    "int Solution = -Parametre/2;\n",
    "if (Parametre&1) {\n",
    "  printf(\"Pas de solution entiere pour l'equation 2X+%d = 0 (%d est impair)\\n\",Parametre,Parametre);}\n",
    "else {\n",
    "  printf(\"Solution entiere de l'equation 2X+%d = 0 :\\n   X = %d\\nVerification 2*%d+%d = %d\\n\",Parametre,Solution,Solution,Parametre,2*Solution+Parametre);}\n",
    "return 0;}"
   ]
  },
  {
   "cell_type": "markdown",
   "metadata": {},
   "source": [
    "Pour les paramètres pairs, cela reste correct."
   ]
  },
  {
   "cell_type": "code",
   "execution_count": 29,
   "metadata": {
    "ExecuteTime": {
     "end_time": "2021-01-06T09:45:20.250490Z",
     "start_time": "2021-01-06T09:45:20.144403Z"
    }
   },
   "outputs": [
    {
     "name": "stdout",
     "output_type": "stream",
     "text": [
      "Solution de l'equation 2X+10 = 0 :\n",
      "   X = -5\n",
      "Verification 2*-5+10 = 0\n"
     ]
    }
   ],
   "source": [
    "#include <stdio.h>\n",
    "#include <stdlib.h>\n",
    "\n",
    "int main(int argc, char * argv[]) {\n",
    "int Parametre=10;\n",
    "int Solution = -Parametre/2;\n",
    "if (Parametre&1) {\n",
    "  printf(\"Pas de solution entiere pour l'equation 2X+%d = 0 (%d est impair)\\n\",Parametre,Parametre);}\n",
    "else {\n",
    "  printf(\"Solution entiere de l'equation 2X+%d = 0 :\\n   X = %d\\nVerification 2*%d+%d = %d\\n\",Parametre,Solution,Solution,Parametre,2*Solution+Parametre);}\n",
    "return 0;}"
   ]
  },
  {
   "cell_type": "markdown",
   "metadata": {},
   "source": [
    "Voila donc un programme qui parait idéal :\n",
    "<div style=\"width: 400px;  padding-top:10px; padding-bottom:10px;border: 3px solid #5eff52;background: #d4fcd4;\"> \n",
    "  <ul>\n",
    "    <li><b>Oui</b>, le programme est correct</li>\n",
    "    <li><b>Oui</b>, le programme est complet</li>\n",
    "    <li><b>Oui</b>, le programme termine toujours</li>\n",
    "  </ul>\n",
    "</div>\n",
    "<pre>\n",
    "(en fait, pour les grands entiers, il y aurait des choses à dire, voir plus loin)\n",
    "(mais pour faire \"simple\", on dira que ce programme est ok)\n",
    "(pour faire \"simple\" et vraiment correct, passer à Python (?))\n",
    "</pre>\n",
    "\n",
    "## Une solution qui ne termine pas\n",
    "\n",
    "Je ne dis pas que le programme qui suit est idéal ... c'est juste un programme qui essaie de trouver un entier qui répond à l'équation !\n",
    "\n",
    "De temps en temps cela marche :"
   ]
  },
  {
   "cell_type": "code",
   "execution_count": 33,
   "metadata": {
    "ExecuteTime": {
     "end_time": "2021-01-06T09:49:32.998639Z",
     "start_time": "2021-01-06T09:49:32.897659Z"
    }
   },
   "outputs": [
    {
     "name": "stdout",
     "output_type": "stream",
     "text": [
      "Solution de l'equation 2X+-10 = 0 :\n",
      "   X = 5\n",
      "Verification 2*5+-10 = 0\n"
     ]
    }
   ],
   "source": [
    "#include <stdio.h>\n",
    "#include <stdlib.h>\n",
    "\n",
    "int main(int argc, char * argv[]) {\n",
    "int Parametre=-10;\n",
    "int Solution;\n",
    "for(Solution=0;2*Solution+Parametre!=0;Solution++) ;\n",
    "printf(\"Solution entiere de l'equation 2X+%d = 0 :\\n   X = %d\\nVerification 2*%d+%d = %d\\n\",Parametre,Solution,Solution,Parametre,2*Solution+Parametre);\n",
    "return 0;}"
   ]
  },
  {
   "cell_type": "markdown",
   "metadata": {},
   "source": [
    "De temps en temps, cela donne des résultats étranges (pour comprendre, il faudrait un petit cours sur les nombres en machine)"
   ]
  },
  {
   "cell_type": "code",
   "execution_count": 43,
   "metadata": {
    "ExecuteTime": {
     "end_time": "2021-01-06T09:57:12.091309Z",
     "start_time": "2021-01-06T09:57:07.379991Z"
    }
   },
   "outputs": [
    {
     "name": "stdout",
     "output_type": "stream",
     "text": [
      "Solution de l'equation 2X+10 = 0 :\n",
      "   X = 2147483643\n",
      "Verification 2*2147483643+10 = 0\n"
     ]
    }
   ],
   "source": [
    "#include <stdio.h>\n",
    "#include <stdlib.h>\n",
    "\n",
    "int main(int argc, char * argv[]) {\n",
    "int Parametre=10;\n",
    "int Solution;\n",
    "for(Solution=0;2*Solution+Parametre!=0;Solution++) ;\n",
    "printf(\"Solution entiere de l'equation 2X+%d = 0 :\\n   X = %d\\nVerification 2*%d+%d = %d\\n\",Parametre,Solution,Solution,Parametre,2*Solution+Parametre);\n",
    "return 0;}"
   ]
  },
  {
   "cell_type": "markdown",
   "metadata": {},
   "source": [
    "Est-ce que c'est correct ? on dirait, vu la vérification, mais cela reste étrange. (l'explication est peut-être plus facile quand on regarde comment s'écrit 2147483643 en hexadécimal : 0x7FFFFFFB)\n",
    "\n",
    "Est-ce complet ? il semble qu'il y ait une solution plus simple qui n'est pas donnée ?\n",
    "(pour avoir un programme un peu plus complet on aurait pu mettre : ... )"
   ]
  },
  {
   "cell_type": "code",
   "execution_count": 12,
   "metadata": {
    "ExecuteTime": {
     "end_time": "2021-01-06T10:52:58.040960Z",
     "start_time": "2021-01-06T10:52:48.805240Z"
    }
   },
   "outputs": [
    {
     "name": "stdout",
     "output_type": "stream",
     "text": [
      "Solution entiere de l'equation 2X+10 = 0 :\n",
      "   X = 2147483643\n",
      "Verification 2*2147483643+10 = 0\n",
      "\n",
      "Solution entiere de l'equation 2X+10 = 0 :\n",
      "   X = -5\n",
      "Verification 2*-5+10 = 0\n",
      "\n"
     ]
    }
   ],
   "source": [
    "#include <stdio.h>\n",
    "#include <stdlib.h>\n",
    "\n",
    "int main(int argc, char * argv[]) {\n",
    "int Parametre=10;\n",
    "int Solution=0;\n",
    "if (Parametre==0) {\n",
    "  printf(\"Solution entiere de l'equation 2X+%d = 0 :\\n   X = %d\\nVerification 2*%d+%d = %d\\n\\n\",Parametre,Solution,Solution,Parametre,2*Solution+Parametre);}\n",
    "for(Solution=1;Solution;Solution++) {\n",
    "  if (2*Solution+Parametre==0) {\n",
    "    printf(\"Solution entiere de l'equation 2X+%d = 0 :\\n   X = %d\\nVerification 2*%d+%d = %d\\n\\n\",Parametre,Solution,Solution,Parametre,2*Solution+Parametre);}}\n",
    "return 0;}"
   ]
  },
  {
   "cell_type": "markdown",
   "metadata": {},
   "source": [
    "Pour la correction et la complétude ce n'est pas clair, mais il y a pire, pour la terminaison avec un paramètre impair on a un problème (déjà les calculs étaient longs, mais là !) :"
   ]
  },
  {
   "cell_type": "code",
   "execution_count": null,
   "metadata": {
    "ExecuteTime": {
     "start_time": "2021-01-06T10:03:41.866Z"
    }
   },
   "outputs": [],
   "source": [
    "#include <stdio.h>\n",
    "#include <stdlib.h>\n",
    "\n",
    "int main(int argc, char * argv[]) {\n",
    "int Parametre=9;\n",
    "int Solution;\n",
    "for(Solution=0;2*Solution+Parametre!=0;Solution++) ;\n",
    "printf(\"Solution entiere de l'equation 2X+%d = 0 :\\n   X = %d\\nVerification 2*%d+%d = %d\\n\",Parametre,Solution,Solution,Parametre,2*Solution+Parametre);\n",
    "return 0;}"
   ]
  },
  {
   "cell_type": "markdown",
   "metadata": {},
   "source": [
    "Pas de réponse au bout de 5 minutes, vous pensez qu'il faut attendre encore un peu ?\n",
    "\n",
    "On a donc là un programme :\n",
    "<div style=\"width: 400px;  padding-top:10px; padding-bottom:10px;border: 3px solid #ff5252;background: #fce6d4;\"> \n",
    "  <ul>\n",
    "    <li><b>Oui/Non</b>, qui n'est pas clairement correct</li>\n",
    "    <li><b>Non</b>, qui n'est pas complet</li>\n",
    "    <li><b>Non</b>, qui ne termine pas toujours (parfois seulement)</li>\n",
    "  </ul>\n",
    "</div>\n"
   ]
  },
  {
   "cell_type": "markdown",
   "metadata": {},
   "source": [
    "## Une solution incomplète mais correcte et qui termine \n",
    "\n",
    "En reprenant le programme précédent, même s'il n'est pas très efficace, on peut obtenir quelque chose de mieux mais limité aux \"petits\" entiers (de toute façon en machine, c'est toujours de petits entiers, sauf à faire de l'évaluation en précision infinie, mais c'est une autre histoire ...)\n",
    "\n",
    "Le programme termine pour les paramètres impairs :"
   ]
  },
  {
   "cell_type": "code",
   "execution_count": 11,
   "metadata": {
    "ExecuteTime": {
     "end_time": "2021-01-06T10:52:23.400498Z",
     "start_time": "2021-01-06T10:52:20.723711Z"
    }
   },
   "outputs": [
    {
     "name": "stdout",
     "output_type": "stream",
     "text": [
      "Fin de la recherche des solutions entieres de l'equation 2X+9 = 0\n"
     ]
    }
   ],
   "source": [
    "#include <stdio.h>\n",
    "#include <stdlib.h>\n",
    "\n",
    "int main(int argc, char * argv[]) {\n",
    "int Parametre=9;\n",
    "int Solution;\n",
    "if (Parametre==0) {\n",
    "  printf(\"Solution entiere de l'equation 2X+%d = 0 :\\n   X = %d\\nVerification 2*%d+%d = %d\\n\",Parametre,Solution,Solution,Parametre,2*Solution+Parametre);}\n",
    "for(Solution=1;Solution<1000000000;Solution++) {\n",
    "  if (2*Solution+Parametre==0) {\n",
    "    printf(\"Solution entiere de l'equation 2X+%d = 0 :\\n   X = %d\\nVerification 2*%d+%d = %d\\n\",Parametre,Solution,Solution,Parametre,2*Solution+Parametre);}\n",
    "  if (-2*Solution+Parametre==0) {\n",
    "    printf(\"Solution de l'equation 2X+%d = 0 :\\n   X = %d\\nVerification 2*%d+%d = %d\\n\",Parametre,-Solution,-Solution,Parametre,-2*Solution+Parametre);}}\n",
    "printf(\"Fin de la recherche des solutions entieres de l'equation 2X+%d = 0\\n\",Parametre);\n",
    "return 0;}"
   ]
  },
  {
   "cell_type": "markdown",
   "metadata": {},
   "source": [
    "Le programme donne des solutions pour les \"petits\" paramètres pairs :"
   ]
  },
  {
   "cell_type": "code",
   "execution_count": 10,
   "metadata": {
    "ExecuteTime": {
     "end_time": "2021-01-06T10:52:13.519824Z",
     "start_time": "2021-01-06T10:52:10.718366Z"
    }
   },
   "outputs": [
    {
     "name": "stdout",
     "output_type": "stream",
     "text": [
      "Solution de l'equation 2X+10 = 0 :\n",
      "   X = -5\n",
      "Verification 2*-5+10 = 0\n",
      "Fin de la recherche des solutions entieres de l'equation 2X+10 = 0\n"
     ]
    }
   ],
   "source": [
    "#include <stdio.h>\n",
    "#include <stdlib.h>\n",
    "\n",
    "int main(int argc, char * argv[]) {\n",
    "int Parametre=10;\n",
    "int Solution;\n",
    "if (Parametre==0) {\n",
    "  printf(\"Solution entiere de l'equation 2X+%d = 0 :\\n   X = %d\\nVerification 2*%d+%d = %d\\n\",Parametre,Solution,Solution,Parametre,2*Solution+Parametre);}\n",
    "for(Solution=1;Solution<1000000000;Solution++) {\n",
    "  if (2*Solution+Parametre==0) {\n",
    "    printf(\"Solution entiere de l'equation 2X+%d = 0 :\\n   X = %d\\nVerification 2*%d+%d = %d\\n\",Parametre,Solution,Solution,Parametre,2*Solution+Parametre);}\n",
    "  if (-2*Solution+Parametre==0) {\n",
    "    printf(\"Solution de l'equation 2X+%d = 0 :\\n   X = %d\\nVerification 2*%d+%d = %d\\n\",Parametre,-Solution,-Solution,Parametre,-2*Solution+Parametre);}}\n",
    "printf(\"Fin de la recherche des solutions entieres de l'equation 2X+%d = 0\\n\",Parametre);\n",
    "return 0;}"
   ]
  },
  {
   "cell_type": "markdown",
   "metadata": {
    "ExecuteTime": {
     "end_time": "2021-01-06T10:17:52.462422Z",
     "start_time": "2021-01-06T10:17:52.435337Z"
    }
   },
   "source": [
    "Mais pour les gros paramètres, il ne donne pas de solution (il termine pourtant) :"
   ]
  },
  {
   "cell_type": "code",
   "execution_count": 9,
   "metadata": {
    "ExecuteTime": {
     "end_time": "2021-01-06T10:52:02.262640Z",
     "start_time": "2021-01-06T10:51:59.542846Z"
    }
   },
   "outputs": [
    {
     "name": "stdout",
     "output_type": "stream",
     "text": [
      "Fin de la recherche des solutions entieres de l'equation 2X+2000000000 = 0\n"
     ]
    }
   ],
   "source": [
    "#include <stdio.h>\n",
    "#include <stdlib.h>\n",
    "\n",
    "int main(int argc, char * argv[]) {\n",
    "int Parametre=2000000000;\n",
    "int Solution;\n",
    "if (Parametre==0) {\n",
    "  printf(\"Solution entiere de l'equation 2X+%d = 0 :\\n   X = %d\\nVerification 2*%d+%d = %d\\n\",Parametre,Solution,Solution,Parametre,2*Solution+Parametre);}\n",
    "for(Solution=1;Solution<1000000000;Solution++) {\n",
    "  if (2*Solution+Parametre==0) {\n",
    "    printf(\"Solution entiere de l'equation 2X+%d = 0 :\\n   X = %d\\nVerification 2*%d+%d = %d\\n\",Parametre,Solution,Solution,Parametre,2*Solution+Parametre);}\n",
    "  if (-2*Solution+Parametre==0) {\n",
    "    printf(\"Solution de l'equation 2X+%d = 0 :\\n   X = %d\\nVerification 2*%d+%d = %d\\n\",Parametre,-Solution,-Solution,Parametre,-2*Solution+Parametre);}}\n",
    "printf(\"Fin de la recherche des solutions entieres de l'equation 2X+%d = 0\\n\",Parametre);\n",
    "return 0;}"
   ]
  },
  {
   "cell_type": "markdown",
   "metadata": {},
   "source": [
    "on a donc là :\n",
    "<div style=\"width: 400px;  padding-top:10px; padding-bottom:10px;border: 3px solid #ff5252;background: #fce6d4;\"> \n",
    "  <ul>\n",
    "    <li><b>Oui</b>, un programme correct</li>\n",
    "    <li><b>Non</b>, un programme incomplet</li>\n",
    "    <li><b>Oui</b>, un programme qui termine toujours</li>\n",
    "  </ul>\n",
    "</div>\n",
    "\n",
    "(mais un programme pas efficace !)\n",
    "\n",
    "## Conclusion\n",
    "\n",
    "Il y a donc des programmes de tous les genres !\n",
    "\n",
    "(on peut donner des exemples pour les 8 cas de figure, ici, il n'y en a que 4+1, les autres s'en déduisent)\n"
   ]
  }
 ],
 "metadata": {
  "kernelspec": {
   "display_name": "C",
   "language": "c",
   "name": "c"
  },
  "language_info": {
   "file_extension": ".c",
   "mimetype": "text/plain",
   "name": "c"
  },
  "toc": {
   "base_numbering": 1,
   "nav_menu": {},
   "number_sections": true,
   "sideBar": false,
   "skip_h1_title": true,
   "title_cell": "Table of Contents",
   "title_sidebar": "Contents",
   "toc_cell": true,
   "toc_position": {},
   "toc_section_display": false,
   "toc_window_display": true
  },
  "varInspector": {
   "cols": {
    "lenName": 16,
    "lenType": 16,
    "lenVar": 40
   },
   "kernels_config": {
    "python": {
     "delete_cmd_postfix": "",
     "delete_cmd_prefix": "del ",
     "library": "var_list.py",
     "varRefreshCmd": "print(var_dic_list())"
    },
    "r": {
     "delete_cmd_postfix": ") ",
     "delete_cmd_prefix": "rm(",
     "library": "var_list.r",
     "varRefreshCmd": "cat(var_dic_list()) "
    }
   },
   "types_to_exclude": [
    "module",
    "function",
    "builtin_function_or_method",
    "instance",
    "_Feature"
   ],
   "window_display": false
  }
 },
 "nbformat": 4,
 "nbformat_minor": 4
}
