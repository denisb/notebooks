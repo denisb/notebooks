{
 "cells": [
  {
   "cell_type": "markdown",
   "id": "fecd2bd7",
   "metadata": {
    "toc": true
   },
   "source": [
    "<h1>Table of Contents<span class=\"tocSkip\"></span></h1>\n",
    "<div class=\"toc\"><ul class=\"toc-item\"></ul></div>"
   ]
  },
  {
   "cell_type": "markdown",
   "id": "4d211ef9",
   "metadata": {},
   "source": [
    "# Eh, et ?\n",
    "\n",
    "En C, il y a 2 << et >> : \n",
    "* & : bit à bit\n",
    "* && : global\n",
    "    \n",
    "sachant que :\n",
    "* 0 est faux\n",
    "* tout le reste est vrai 1, 2, 3 ... jusqu'à -1\n",
    "    \n",
    "on peut avoir\n",
    "* A&B == A&&B (pour faux (0) comme pour vrai (le reste))\n",
    "* A&B != A&&B (mais tous les deux vrais, étrange ?)\n",
    "* A&B != A&&B (avec A&B faux alors que A&&B est vrai, ce qui est ennuyeux !)"
   ]
  },
  {
   "cell_type": "code",
   "execution_count": 2,
   "id": "5796041a",
   "metadata": {
    "ExecuteTime": {
     "end_time": "2021-09-24T08:47:05.913199Z",
     "start_time": "2021-09-24T08:47:05.815706Z"
    }
   },
   "outputs": [
    {
     "name": "stdout",
     "output_type": "stream",
     "text": [
      "A:0, B:0, A&B:0, A&&B:0\n",
      "A:1, B:-1, A&B:1, A&&B:1\n",
      "A:2, B:3, A&B:2, A&&B:1\n",
      "A:1, B:2, A&B:0, A&&B:1\n"
     ]
    }
   ],
   "source": [
    "#include <stdio.h>\n",
    "#include <stdlib.h>\n",
    "\n",
    "int main(int argc, char * argv[]) {\n",
    "char A=0, B=0;\n",
    "printf(\"A:%d, B:%d, A&B:%d, A&&B:%d\\n\",A,B,A&B,A&&B);\n",
    "A=1, B=-1;\n",
    "printf(\"A:%d, B:%d, A&B:%d, A&&B:%d\\n\",A,B,A&B,A&&B);\n",
    "A=2, B=3;\n",
    "printf(\"A:%d, B:%d, A&B:%d, A&&B:%d\\n\",A,B,A&B,A&&B);\n",
    "A=1, B=2;\n",
    "printf(\"A:%d, B:%d, A&B:%d, A&&B:%d\\n\",A,B,A&B,A&&B);\n",
    "return 0;}"
   ]
  },
  {
   "cell_type": "markdown",
   "id": "ebd37eba",
   "metadata": {},
   "source": [
    "par contre, on ne peut pas avoir\n",
    "* A&B != A&&B (avec A&B vrai alors que A&&B est faux, ouf ...)"
   ]
  },
  {
   "cell_type": "code",
   "execution_count": 1,
   "id": "2a9209f1",
   "metadata": {
    "ExecuteTime": {
     "end_time": "2021-09-24T08:46:24.329945Z",
     "start_time": "2021-09-24T08:46:24.248059Z"
    }
   },
   "outputs": [
    {
     "name": "stdout",
     "output_type": "stream",
     "text": [
      "\n",
      "fin\n"
     ]
    }
   ],
   "source": [
    "#include <stdio.h>\n",
    "#include <stdlib.h>\n",
    "\n",
    "int main(int argc, char * argv[]) {\n",
    "char A=0, B=0;\n",
    "for(A=0;A>0;A++)\n",
    "  for(B=0;B>0;B++)\n",
    "    if ((A&B!=0)&&(A&&B==0))\n",
    "      printf(\"A:%d, B:%d, A&B:%d, A&&B:%d\\n\",A,B,A&B,A&&B);\n",
    "printf(\"\\nfin\\n\");\n",
    "return 0;}"
   ]
  },
  {
   "cell_type": "markdown",
   "id": "9af95df7",
   "metadata": {},
   "source": [
    "remarque, \n",
    "* c'est pareil avec le << ou >> : | vs ||\n",
    "* il y a aussi 2 << non >> :! vs ~\n",
    "* c'est pareil en python et dans d'autres langages (en cherchant un peu)"
   ]
  }
 ],
 "metadata": {
  "kernelspec": {
   "display_name": "C",
   "language": "c",
   "name": "c"
  },
  "language_info": {
   "file_extension": ".c",
   "mimetype": "text/plain",
   "name": "c"
  },
  "toc": {
   "base_numbering": 1,
   "nav_menu": {},
   "number_sections": true,
   "sideBar": false,
   "skip_h1_title": true,
   "title_cell": "Table of Contents",
   "title_sidebar": "Contents",
   "toc_cell": true,
   "toc_position": {},
   "toc_section_display": false,
   "toc_window_display": true
  },
  "varInspector": {
   "cols": {
    "lenName": 16,
    "lenType": 16,
    "lenVar": 40
   },
   "kernels_config": {
    "python": {
     "delete_cmd_postfix": "",
     "delete_cmd_prefix": "del ",
     "library": "var_list.py",
     "varRefreshCmd": "print(var_dic_list())"
    },
    "r": {
     "delete_cmd_postfix": ") ",
     "delete_cmd_prefix": "rm(",
     "library": "var_list.r",
     "varRefreshCmd": "cat(var_dic_list()) "
    }
   },
   "types_to_exclude": [
    "module",
    "function",
    "builtin_function_or_method",
    "instance",
    "_Feature"
   ],
   "window_display": false
  }
 },
 "nbformat": 4,
 "nbformat_minor": 5
}
