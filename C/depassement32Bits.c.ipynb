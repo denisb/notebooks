{
 "cells": [
  {
   "cell_type": "markdown",
   "metadata": {},
   "source": [
    "# Dépassement 32 bits\n",
    "## Pour les entiers\n",
    "\n",
    "Calcul simple : $1000 * 2000 * 3000$ ...\n",
    "\n",
    "On s'attend à 6 000 000 000"
   ]
  },
  {
   "cell_type": "code",
   "execution_count": 55,
   "metadata": {},
   "outputs": [
    {
     "name": "stdout",
     "output_type": "stream",
     "text": [
      "Résultat : 1705032704\n"
     ]
    }
   ],
   "source": [
    "#include <stdio.h>\n",
    "\n",
    "int main() {\n",
    "int x = 1000;\n",
    "x = x * 2000;\n",
    "x = x * 3000;\n",
    "\n",
    "printf(\"Résultat : %d\\n\",x);\n",
    "return 0;}"
   ]
  },
  {
   "cell_type": "markdown",
   "metadata": {},
   "source": [
    "1 milliard seulement ! au lieu de 6 ?!? (et puis cela devrait être un multiple de 1000 au moins, ou un multiple de $1000 * 1000 * 1000$)\n",
    "\n",
    "rem. : cela aurait pu être pire :"
   ]
  },
  {
   "cell_type": "code",
   "execution_count": 58,
   "metadata": {},
   "outputs": [
    {
     "name": "stdout",
     "output_type": "stream",
     "text": [
      "Résultat : -589934592\n"
     ]
    }
   ],
   "source": [
    "#include <stdio.h>\n",
    "\n",
    "int main() {\n",
    "int x = 2000;\n",
    "x = x * 2000;\n",
    "x = x * 2000;\n",
    "\n",
    "printf(\"Résultat : %d\\n\",x);\n",
    "return 0;}"
   ]
  },
  {
   "cell_type": "markdown",
   "metadata": {},
   "source": [
    "un résultat négatif (non multiple de 1000) pour le produit de 4 nombres positifs, multiples de 1000 ...\n",
    "\n",
    "Cependant, le résultat semble cohérent, on peut le prendre dans n'importe quel sens, c'est toujours pareil :"
   ]
  },
  {
   "cell_type": "code",
   "execution_count": 63,
   "metadata": {},
   "outputs": [
    {
     "name": "stdout",
     "output_type": "stream",
     "text": [
      "Résultat : 1705032704\n"
     ]
    }
   ],
   "source": [
    "#include <stdio.h>\n",
    "\n",
    "int main() {\n",
    "int x = 3000;\n",
    "x = x * 2000;\n",
    "x = x * 1000;\n",
    "\n",
    "printf(\"Résultat : %d\\n\",x);\n",
    "return 0;}"
   ]
  },
  {
   "cell_type": "markdown",
   "metadata": {},
   "source": [
    "on peut même essayer de le décomposer :"
   ]
  },
  {
   "cell_type": "code",
   "execution_count": 66,
   "metadata": {},
   "outputs": [
    {
     "name": "stdout",
     "output_type": "stream",
     "text": [
      "Résultat : 1705032704\n"
     ]
    }
   ],
   "source": [
    "#include <stdio.h>\n",
    "\n",
    "int main() {\n",
    "int x = 1000;\n",
    "x = x * 1000;\n",
    "x = x * 1000;\n",
    "x = x * 6;\n",
    "\n",
    "printf(\"Résultat : %d\\n\",x);\n",
    "return 0;}"
   ]
  },
  {
   "cell_type": "markdown",
   "metadata": {},
   "source": [
    "ou"
   ]
  },
  {
   "cell_type": "code",
   "execution_count": 84,
   "metadata": {},
   "outputs": [
    {
     "name": "stdout",
     "output_type": "stream",
     "text": [
      "Résultat : 1705032704\n"
     ]
    }
   ],
   "source": [
    "#include <stdio.h>\n",
    "\n",
    "int main() {\n",
    "int x = 1000;\n",
    "x = x * 1000;\n",
    "x = x * 1000;\n",
    "x = x + x + x + x + x + x;\n",
    "\n",
    "printf(\"Résultat : %d\\n\",x);\n",
    "return 0;}"
   ]
  },
  {
   "cell_type": "markdown",
   "metadata": {},
   "source": [
    "et même en comptant 1 à 1 :"
   ]
  },
  {
   "cell_type": "code",
   "execution_count": 97,
   "metadata": {},
   "outputs": [
    {
     "name": "stdout",
     "output_type": "stream",
     "text": [
      "Résultat : 1705032704\n",
      "\n",
      "toujours 1705032704\n",
      "\n"
     ]
    }
   ],
   "source": [
    "#include <stdio.h>\n",
    "\n",
    "int main() {\n",
    "int x = 0, i, j, k;\n",
    "for(i=0;i<1000;i++) {\n",
    "  for(j=0;j<2000;j++) {\n",
    "    for(k=0;k<3000;k++) {\n",
    "      x = x + 1;}}}\n",
    "printf(\"Résultat : %d\\n\\n\",x);\n",
    "printf(\"toujours %d\\n\\n\",x);\n",
    "return 0;}"
   ]
  },
  {
   "cell_type": "markdown",
   "metadata": {},
   "source": [
    "Mais attention, 6 000 000 000 - 1 ou 6 000 000 000 + 1 donnent les bons résultats (enfin, si on considère que pour 6 000 000 000 on a le bon résultat) :"
   ]
  },
  {
   "cell_type": "code",
   "execution_count": 99,
   "metadata": {},
   "outputs": [
    {
     "name": "stdout",
     "output_type": "stream",
     "text": [
      "Résultat : 1705032703 1705032704 1705032705\n"
     ]
    }
   ],
   "source": [
    "#include <stdio.h>\n",
    "\n",
    "int main() {\n",
    "int x = 1000;\n",
    "x = x * 2000;\n",
    "x = x * 3000;\n",
    "\n",
    "printf(\"Résultat : %d %d %d\\n\",x-1,x,x+1);\n",
    "return 0;}"
   ]
  },
  {
   "cell_type": "markdown",
   "metadata": {},
   "source": [
    "## Explication pour les entiers \n",
    "\n",
    "Tout cela parce que les nombres sont sur 32 bits ... dès que l'on arrive aux milliards, on retombe sur 0 et on recommence avec 1, 2, 3, ... (plus exactement, après 2^31 [c'est à dire presque 2 milliards] on peut arriver à -2^31, ou si l'on utilise des nombres non signés [entiers naturels] c'est seulement après 2^32 que l'on voit le problème, dans les deux cas après 2^32 [c'est à dire après un peu plus de 4 milliards] on retombe sur 0)\n",
    "\n",
    "et effectivment 6 000 000 000 - 2^32 = 1705032704\n",
    "\n",
    "## Pour les nombres à virgule flottante\n",
    "\n",
    "Pour les nombres à virgule flottante, c'est une autre histoire. Le milliard est dans les limites de ce que ces nombres peuvent représenter :"
   ]
  },
  {
   "cell_type": "code",
   "execution_count": 121,
   "metadata": {},
   "outputs": [
    {
     "name": "stdout",
     "output_type": "stream",
     "text": [
      "Résultat : 6000000000.000000 6.000000e+09\n"
     ]
    }
   ],
   "source": [
    "#include <stdio.h>\n",
    "\n",
    "int main() {\n",
    "float x = 1000.0;\n",
    "x = x * 2000.0;\n",
    "x = x * 3000.0;\n",
    "\n",
    "printf(\"Résultat : %f %e\\n\",x,x);\n",
    "return 0;}"
   ]
  },
  {
   "cell_type": "markdown",
   "metadata": {},
   "source": [
    "Super, c'est le résultat exact. Mais n'est-ce pas un peu par chance, parce que par contre, x+1, x-1 ... :"
   ]
  },
  {
   "cell_type": "code",
   "execution_count": 124,
   "metadata": {},
   "outputs": [
    {
     "name": "stdout",
     "output_type": "stream",
     "text": [
      "Résultat : 6000000000.000000 6.000000e+09 - 6000000000.000000 6.000000e+09 - 6000000000.000000 6.000000e+09\n"
     ]
    }
   ],
   "source": [
    "#include <stdio.h>\n",
    "\n",
    "int main() {\n",
    "float x = 1000.0;\n",
    "x = x * 2000.0;\n",
    "x = x * 3000.0;\n",
    "\n",
    "printf(\"Résultat : %f %e - %f %e - %f %e\\n\",x-1,x-1,x,x,x+1,x+1);\n",
    "return 0;}"
   ]
  },
  {
   "cell_type": "markdown",
   "metadata": {},
   "source": [
    "on reste collé à 6 000 000 000.\n",
    "\n",
    "Et même, si l'on avait voulu décomposer le calcul, cela aurait peut-être été une très mauvaise idée (outre le fait que le calcul de quelques milliards d'additions en flottant prend un peu de temps) :"
   ]
  },
  {
   "cell_type": "code",
   "execution_count": 154,
   "metadata": {},
   "outputs": [
    {
     "name": "stdout",
     "output_type": "stream",
     "text": [
      "Résultat : 16777216.000000 1.677722e+07 \n"
     ]
    }
   ],
   "source": [
    "#include <stdio.h>\n",
    "\n",
    "int main() {\n",
    "float x = 0.0;\n",
    "int i, j, k;\n",
    "for(i=0;i<1000;i++) {\n",
    "  for(j=0;j<2000;j++) {\n",
    "    for(k=0;k<3000;k++) {\n",
    "      x = x + 1.0;}}}\n",
    "printf(\"Résultat : %f %e \\n\",x,x);\n",
    "return 0;}"
   ]
  },
  {
   "cell_type": "markdown",
   "metadata": {},
   "source": [
    "quoi, seulement 16 millions ?!?\n",
    "\n",
    "## Explication pour les nombres à virgule flottante\n",
    "\n",
    "avec les nombres à virgule flottante, les résultats peuvent être plus grands et dépasser qlq milliards [même s'il y a des limites, elles sont beaucoup plus loin], mais ces nombres perdent en précision : pour un nombre de l'ordre du milliard, les 9 chiffres ne sont pas tous significatifs [justes]. DAns le calculs précédent, quand l'écard de magnitude entre x et 1.0 est trop grand, on dépasse la précision maximale et alors 1.0 est négligé : x+1.0 = x ... d'après ce qui précède, c'est donc quand x dépasse 16 millions (soit une vingtaine de bits), il n'y a donc que 7 chiffres significatifs [justes])."
   ]
  }
 ],
 "metadata": {
  "kernelspec": {
   "display_name": "C",
   "language": "c",
   "name": "bash"
  },
  "language_info": {
   "file_extension": ".c",
   "mimetype": "text/plain",
   "name": "c"
  }
 },
 "nbformat": 4,
 "nbformat_minor": 2
}
