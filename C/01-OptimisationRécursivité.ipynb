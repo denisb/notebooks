{
 "cells": [
  {
   "cell_type": "markdown",
   "metadata": {},
   "source": [
    "# Récursivité et optimisation\n",
    "\n",
    "Est-ce que la récursivité a encore une mauvaise image ? À cause du coût à l'exécution ? Pourtant, en contre-partie, elle permet une expression des algorithmes qui montre leurs structures/propriétés logiques (la récursivité, c'est se baser sur des invariants d'algorithmes) et les optimisations permises par les compilateurs peuvent rendre les programmes aussi efficaces que les programmes itératifs.\n",
    "\n",
    "Pour étudier les aspects \"performances\", prenons l'exemple du calcul des sommes d'entiers de 1 à N.\n",
    "\n",
    "## Première approche, programme récursif initial, compilation normale\n",
    "\n",
    "Le programme récursif le plus évident est le suivant :"
   ]
  },
  {
   "cell_type": "code",
   "execution_count": 2,
   "metadata": {},
   "outputs": [
    {
     "name": "stdout",
     "output_type": "stream",
     "text": [
      "Writing somme.c\n"
     ]
    }
   ],
   "source": [
    "%%writefile somme.c\n",
    "#include <stdio.h>\n",
    "\n",
    "int somme(int n) {\n",
    "if (!n) {return 0;}\n",
    "else {return n+somme(n-1);}}\n",
    "\n",
    "int main (int argc, char * argv[]) {\n",
    "int i;\n",
    "if (argc==1)    {i=20;}\n",
    "else {i=atoi(argv[1]);}\n",
    "printf(\"1+2+...+%d=%d\\n\",i,somme(i));\n",
    "return 0;}"
   ]
  },
  {
   "cell_type": "markdown",
   "metadata": {},
   "source": [
    "Une compilation normale en ARM donne :  \n",
    "(on peut reconnaitre le programme princpal (main),   \n",
    "l'appel à somme et dans la fonction somme l'appel récursif à somme)"
   ]
  },
  {
   "cell_type": "code",
   "execution_count": 2,
   "metadata": {
    "scrolled": true
   },
   "outputs": [
    {
     "name": "stdout",
     "output_type": "stream",
     "text": [
      "\t.arch armv5t\n",
      "\t.fpu softvfp\n",
      "\t.eabi_attribute 20, 1\n",
      "\t.eabi_attribute 21, 1\n",
      "\t.eabi_attribute 23, 3\n",
      "\t.eabi_attribute 24, 1\n",
      "\t.eabi_attribute 25, 1\n",
      "\t.eabi_attribute 26, 2\n",
      "\t.eabi_attribute 30, 6\n",
      "\t.eabi_attribute 34, 0\n",
      "\t.eabi_attribute 18, 4\n",
      "\t.file\t\"somme.c\"\n",
      "\t.text\n",
      "\t.align\t2\n",
      "\t.global\tsomme\n",
      "\t.type\tsomme, %function\n",
      "somme:\n",
      "\t@ args = 0, pretend = 0, frame = 8\n",
      "\t@ frame_needed = 1, uses_anonymous_args = 0\n",
      "\tstmfd\tsp!, {fp, lr}\n",
      "\tadd\tfp, sp, #4\n",
      "\tsub\tsp, sp, #8\n",
      "\tstr\tr0, [fp, #-8]\n",
      "\tldr\tr3, [fp, #-8]\n",
      "\tcmp\tr3, #0\n",
      "\tbne\t.L2\n",
      "\tmov\tr3, #0\n",
      "\tb\t.L3\n",
      ".L2:\n",
      "\tldr\tr3, [fp, #-8]\n",
      "\tsub\tr3, r3, #1\n",
      "\tmov\tr0, r3\n",
      "\tbl\tsomme\n",
      "\tmov\tr2, r0\n",
      "\tldr\tr3, [fp, #-8]\n",
      "\tadd\tr3, r2, r3\n",
      ".L3:\n",
      "\tmov\tr0, r3\n",
      "\tsub\tsp, fp, #4\n",
      "\tldmfd\tsp!, {fp, pc}\n",
      "\t.size\tsomme, .-somme\n",
      "\t.section\t.rodata\n",
      "\t.align\t2\n",
      ".LC0:\n",
      "\t.ascii\t\"1+2+...+%d=%d\\012\\000\"\n",
      "\t.text\n",
      "\t.align\t2\n",
      "\t.global\tmain\n",
      "\t.type\tmain, %function\n",
      "main:\n",
      "\t@ args = 0, pretend = 0, frame = 16\n",
      "\t@ frame_needed = 1, uses_anonymous_args = 0\n",
      "\tstmfd\tsp!, {fp, lr}\n",
      "\tadd\tfp, sp, #4\n",
      "\tsub\tsp, sp, #16\n",
      "\tstr\tr0, [fp, #-16]\n",
      "\tstr\tr1, [fp, #-20]\n",
      "\tldr\tr3, [fp, #-16]\n",
      "\tcmp\tr3, #1\n",
      "\tbne\t.L5\n",
      "\tmov\tr3, #20\n",
      "\tstr\tr3, [fp, #-8]\n",
      "\tb\t.L6\n",
      ".L5:\n",
      "\tldr\tr3, [fp, #-20]\n",
      "\tadd\tr3, r3, #4\n",
      "\tldr\tr3, [r3, #0]\n",
      "\tmov\tr0, r3\n",
      "\tbl\tatoi\n",
      "\tstr\tr0, [fp, #-8]\n",
      ".L6:\n",
      "\tldr\tr0, [fp, #-8]\n",
      "\tbl\tsomme\n",
      "\tmov\tr3, r0\n",
      "\tldr\tr0, .L8\n",
      "\tldr\tr1, [fp, #-8]\n",
      "\tmov\tr2, r3\n",
      "\tbl\tprintf\n",
      "\tmov\tr3, #0\n",
      "\tmov\tr0, r3\n",
      "\tsub\tsp, fp, #4\n",
      "\tldmfd\tsp!, {fp, pc}\n",
      ".L9:\n",
      "\t.align\t2\n",
      ".L8:\n",
      "\t.word\t.LC0\n",
      "\t.size\tmain, .-main\n",
      "\t.ident\t\"GCC: (Ubuntu/Linaro 4.7.3-12ubuntu1) 4.7.3\"\n",
      "\t.section\t.note.GNU-stack,\"\",%progbits\n"
     ]
    }
   ],
   "source": [
    "%%sh\n",
    "arm-linux-gnueabi-gcc -S -static somme.c\n",
    "cat somme.s"
   ]
  },
  {
   "cell_type": "markdown",
   "metadata": {},
   "source": [
    "À l'exécution, pour de petites valeurs c'est ok. "
   ]
  },
  {
   "cell_type": "code",
   "execution_count": 3,
   "metadata": {},
   "outputs": [
    {
     "name": "stdout",
     "output_type": "stream",
     "text": [
      "1+2+...+20=210\n"
     ]
    }
   ],
   "source": [
    "%%sh\n",
    "arm-linux-gnueabi-gcc -static somme.c\n",
    "qemu-arm a.out"
   ]
  },
  {
   "cell_type": "markdown",
   "metadata": {},
   "source": [
    "Par contre, avant même que cela ne devienne un peu long à calculer, des limites s'expriment (au dela de 500 000) :  \n",
    "la faute à la pile d'appel !"
   ]
  },
  {
   "cell_type": "code",
   "execution_count": 8,
   "metadata": {},
   "outputs": [
    {
     "name": "stdout",
     "output_type": "stream",
     "text": [
      "1+2+...+500000=446198416\n"
     ]
    }
   ],
   "source": [
    "%%sh\n",
    "arm-linux-gnueabi-gcc -static somme.c\n",
    "qemu-arm a.out 500000"
   ]
  },
  {
   "cell_type": "code",
   "execution_count": 9,
   "metadata": {},
   "outputs": [
    {
     "name": "stderr",
     "output_type": "stream",
     "text": [
      "qemu: uncaught target signal 11 (Segmentation fault) - core dumped\n",
      "Segmentation fault (core dumped)\n"
     ]
    }
   ],
   "source": [
    "%%sh\n",
    "arm-linux-gnueabi-gcc -static somme.c\n",
    "qemu-arm a.out 600000"
   ]
  },
  {
   "cell_type": "markdown",
   "metadata": {},
   "source": [
    "N.B : par ailleurs, les résultats sont faux (la valeur attendue est  $\\frac{n(n+1)}{2}$), ce qui pour 500 000 devrait donner qlq chose de l'ordre de 125 000 000 000). On aurait pu s'en rendre compte, si par hasard on avait demandé (par exemple) :  \n",
    "Quoi, un résultat négatif ?"
   ]
  },
  {
   "cell_type": "code",
   "execution_count": 6,
   "metadata": {},
   "outputs": [
    {
     "name": "stdout",
     "output_type": "stream",
     "text": [
      "1+2+...+400000=-1604178624\n"
     ]
    }
   ],
   "source": [
    "%%sh\n",
    "arm-linux-gnueabi-gcc -static somme.c\n",
    "qemu-arm a.out 400000"
   ]
  },
  {
   "cell_type": "markdown",
   "metadata": {},
   "source": [
    "## Amélioration du programme\n",
    "\n",
    "La récursivité ne demande pas toujours une pile d'appel ! Dans le cas d'une récursivité \"terminale\" (ou il n'y que des appels récursifs à la fin de la fonction), la pile d'appel n'est pas nécessaire.\n",
    "\n",
    "En introduisant un accumulateur, la fonction suivante est récursive terminale :"
   ]
  },
  {
   "cell_type": "code",
   "execution_count": 10,
   "metadata": {},
   "outputs": [
    {
     "name": "stdout",
     "output_type": "stream",
     "text": [
      "Writing sommeTal.c\n"
     ]
    }
   ],
   "source": [
    "%%writefile sommeTal.c\n",
    "#include <stdio.h>\n",
    "\n",
    "int somme(int a,int s) {\n",
    "if (!a) {return s;}\n",
    "else {return somme(a-1,a+s);}}\n",
    "\n",
    "int main (int argc, char *argv[]) {\n",
    "int i;\n",
    "if (argc==1) {i=20;}\n",
    "else {i=atoi(argv[1]);}\n",
    "printf(\"1+2+...+%d=%d\\n\",i,somme(i,0));\n",
    "return 0;}"
   ]
  },
  {
   "cell_type": "markdown",
   "metadata": {},
   "source": [
    "Mais cela ne change pas grand chose (le compilateur fait une traduction simple) :"
   ]
  },
  {
   "cell_type": "code",
   "execution_count": 8,
   "metadata": {
    "scrolled": true
   },
   "outputs": [
    {
     "name": "stdout",
     "output_type": "stream",
     "text": [
      "\t.arch armv5t\n",
      "\t.fpu softvfp\n",
      "\t.eabi_attribute 20, 1\n",
      "\t.eabi_attribute 21, 1\n",
      "\t.eabi_attribute 23, 3\n",
      "\t.eabi_attribute 24, 1\n",
      "\t.eabi_attribute 25, 1\n",
      "\t.eabi_attribute 26, 2\n",
      "\t.eabi_attribute 30, 6\n",
      "\t.eabi_attribute 34, 0\n",
      "\t.eabi_attribute 18, 4\n",
      "\t.file\t\"sommeTal.c\"\n",
      "\t.text\n",
      "\t.align\t2\n",
      "\t.global\tsomme\n",
      "\t.type\tsomme, %function\n",
      "somme:\n",
      "\t@ args = 0, pretend = 0, frame = 8\n",
      "\t@ frame_needed = 1, uses_anonymous_args = 0\n",
      "\tstmfd\tsp!, {fp, lr}\n",
      "\tadd\tfp, sp, #4\n",
      "\tsub\tsp, sp, #8\n",
      "\tstr\tr0, [fp, #-8]\n",
      "\tstr\tr1, [fp, #-12]\n",
      "\tldr\tr3, [fp, #-8]\n",
      "\tcmp\tr3, #0\n",
      "\tbne\t.L2\n",
      "\tldr\tr3, [fp, #-12]\n",
      "\tb\t.L3\n",
      ".L2:\n",
      "\tldr\tr3, [fp, #-8]\n",
      "\tsub\tr2, r3, #1\n",
      "\tldr\tr1, [fp, #-8]\n",
      "\tldr\tr3, [fp, #-12]\n",
      "\tadd\tr3, r1, r3\n",
      "\tmov\tr0, r2\n",
      "\tmov\tr1, r3\n",
      "\tbl\tsomme\n",
      "\tmov\tr3, r0\n",
      ".L3:\n",
      "\tmov\tr0, r3\n",
      "\tsub\tsp, fp, #4\n",
      "\tldmfd\tsp!, {fp, pc}\n",
      "\t.size\tsomme, .-somme\n",
      "\t.section\t.rodata\n",
      "\t.align\t2\n",
      ".LC0:\n",
      "\t.ascii\t\"1+2+...+%d=%d\\012\\000\"\n",
      "\t.text\n",
      "\t.align\t2\n",
      "\t.global\tmain\n",
      "\t.type\tmain, %function\n",
      "main:\n",
      "\t@ args = 0, pretend = 0, frame = 16\n",
      "\t@ frame_needed = 1, uses_anonymous_args = 0\n",
      "\tstmfd\tsp!, {fp, lr}\n",
      "\tadd\tfp, sp, #4\n",
      "\tsub\tsp, sp, #16\n",
      "\tstr\tr0, [fp, #-16]\n",
      "\tstr\tr1, [fp, #-20]\n",
      "\tldr\tr3, [fp, #-16]\n",
      "\tcmp\tr3, #1\n",
      "\tbne\t.L5\n",
      "\tmov\tr3, #20\n",
      "\tstr\tr3, [fp, #-8]\n",
      "\tb\t.L6\n",
      ".L5:\n",
      "\tldr\tr3, [fp, #-20]\n",
      "\tadd\tr3, r3, #4\n",
      "\tldr\tr3, [r3, #0]\n",
      "\tmov\tr0, r3\n",
      "\tbl\tatoi\n",
      "\tstr\tr0, [fp, #-8]\n",
      ".L6:\n",
      "\tldr\tr0, [fp, #-8]\n",
      "\tmov\tr1, #0\n",
      "\tbl\tsomme\n",
      "\tmov\tr3, r0\n",
      "\tldr\tr0, .L8\n",
      "\tldr\tr1, [fp, #-8]\n",
      "\tmov\tr2, r3\n",
      "\tbl\tprintf\n",
      "\tmov\tr3, #0\n",
      "\tmov\tr0, r3\n",
      "\tsub\tsp, fp, #4\n",
      "\tldmfd\tsp!, {fp, pc}\n",
      ".L9:\n",
      "\t.align\t2\n",
      ".L8:\n",
      "\t.word\t.LC0\n",
      "\t.size\tmain, .-main\n",
      "\t.ident\t\"GCC: (Ubuntu/Linaro 4.7.3-12ubuntu1) 4.7.3\"\n",
      "\t.section\t.note.GNU-stack,\"\",%progbits\n"
     ]
    }
   ],
   "source": [
    "%%sh\n",
    "arm-linux-gnueabi-gcc -S -static sommeTal.c\n",
    "cat sommeTal.s"
   ]
  },
  {
   "cell_type": "code",
   "execution_count": 15,
   "metadata": {},
   "outputs": [
    {
     "name": "stdout",
     "output_type": "stream",
     "text": [
      "1+2+...+500000=446198416\n"
     ]
    }
   ],
   "source": [
    "%%sh\n",
    "arm-linux-gnueabi-gcc -static sommeTal.c\n",
    "qemu-arm a.out 500000"
   ]
  },
  {
   "cell_type": "markdown",
   "metadata": {},
   "source": [
    "Le résultat est le même que précédement (faux, cf. plus haut), et cela plante au même endroit :"
   ]
  },
  {
   "cell_type": "code",
   "execution_count": 10,
   "metadata": {},
   "outputs": [
    {
     "name": "stderr",
     "output_type": "stream",
     "text": [
      "qemu: uncaught target signal 11 (Segmentation fault) - core dumped\n",
      "Segmentation fault (core dumped)\n"
     ]
    }
   ],
   "source": [
    "%%sh\n",
    "arm-linux-gnueabi-gcc -static sommeTal.c\n",
    "qemu-arm a.out 600000"
   ]
  },
  {
   "cell_type": "markdown",
   "metadata": {},
   "source": [
    "N.B. : c'est assez étonnant, en fait, on aurait pu imaginé que la pile se remplisse plus vite (la fonction a 2 arguments au lieu d'1 !). En regardant le code compilé, c'est peut-être plus clair ? Non, il y a autant de place prise sur la pile. Pourquoi pas plus ? C'est peut-être, que le code avant, avait, en fait besoin de plus de place que seulement le nombre de paramètres (!) par exemple pour faire la calcul final (1 temporaire ?).  \n",
    "Si artificiellement, on augmentre le nombre de paramètre sur la pile pour une version ad'hoc récursive terminale, on obtient bien une fonction qui remplie plus vite la pile :"
   ]
  },
  {
   "cell_type": "code",
   "execution_count": 16,
   "metadata": {},
   "outputs": [
    {
     "name": "stdout",
     "output_type": "stream",
     "text": [
      "Writing sommeAdHoc.c\n"
     ]
    }
   ],
   "source": [
    "%%writefile sommeAdHoc.c\n",
    "#include <stdio.h>\n",
    "\n",
    "int somme(int a,int s, int t) {\n",
    "if (!a) {return s;}\n",
    "else {return somme(a-1,a+s, t);}}\n",
    "\n",
    "int main (int argc, char *argv[]) {\n",
    "int i;\n",
    "if (argc==1) {i=20;}\n",
    "else {i=atoi(argv[1]);}\n",
    "printf(\"1+2+...+%d=%d\\n\",i,somme(i,0,0));\n",
    "return 0;}"
   ]
  },
  {
   "cell_type": "code",
   "execution_count": 12,
   "metadata": {
    "scrolled": true
   },
   "outputs": [
    {
     "name": "stdout",
     "output_type": "stream",
     "text": [
      "\t.arch armv5t\n",
      "\t.fpu softvfp\n",
      "\t.eabi_attribute 20, 1\n",
      "\t.eabi_attribute 21, 1\n",
      "\t.eabi_attribute 23, 3\n",
      "\t.eabi_attribute 24, 1\n",
      "\t.eabi_attribute 25, 1\n",
      "\t.eabi_attribute 26, 2\n",
      "\t.eabi_attribute 30, 6\n",
      "\t.eabi_attribute 34, 0\n",
      "\t.eabi_attribute 18, 4\n",
      "\t.file\t\"sommeAdHoc.c\"\n",
      "\t.text\n",
      "\t.align\t2\n",
      "\t.global\tsomme\n",
      "\t.type\tsomme, %function\n",
      "somme:\n",
      "\t@ args = 0, pretend = 0, frame = 16\n",
      "\t@ frame_needed = 1, uses_anonymous_args = 0\n",
      "\tstmfd\tsp!, {fp, lr}\n",
      "\tadd\tfp, sp, #4\n",
      "\tsub\tsp, sp, #16\n",
      "\tstr\tr0, [fp, #-8]\n",
      "\tstr\tr1, [fp, #-12]\n",
      "\tstr\tr2, [fp, #-16]\n",
      "\tldr\tr3, [fp, #-8]\n",
      "\tcmp\tr3, #0\n",
      "\tbne\t.L2\n",
      "\tldr\tr3, [fp, #-12]\n",
      "\tb\t.L3\n",
      ".L2:\n",
      "\tldr\tr3, [fp, #-8]\n",
      "\tsub\tr2, r3, #1\n",
      "\tldr\tr1, [fp, #-8]\n",
      "\tldr\tr3, [fp, #-12]\n",
      "\tadd\tr3, r1, r3\n",
      "\tmov\tr0, r2\n",
      "\tmov\tr1, r3\n",
      "\tldr\tr2, [fp, #-16]\n",
      "\tbl\tsomme\n",
      "\tmov\tr3, r0\n",
      ".L3:\n",
      "\tmov\tr0, r3\n",
      "\tsub\tsp, fp, #4\n",
      "\tldmfd\tsp!, {fp, pc}\n",
      "\t.size\tsomme, .-somme\n",
      "\t.section\t.rodata\n",
      "\t.align\t2\n",
      ".LC0:\n",
      "\t.ascii\t\"1+2+...+%d=%d\\012\\000\"\n",
      "\t.text\n",
      "\t.align\t2\n",
      "\t.global\tmain\n",
      "\t.type\tmain, %function\n",
      "main:\n",
      "\t@ args = 0, pretend = 0, frame = 16\n",
      "\t@ frame_needed = 1, uses_anonymous_args = 0\n",
      "\tstmfd\tsp!, {fp, lr}\n",
      "\tadd\tfp, sp, #4\n",
      "\tsub\tsp, sp, #16\n",
      "\tstr\tr0, [fp, #-16]\n",
      "\tstr\tr1, [fp, #-20]\n",
      "\tldr\tr3, [fp, #-16]\n",
      "\tcmp\tr3, #1\n",
      "\tbne\t.L5\n",
      "\tmov\tr3, #20\n",
      "\tstr\tr3, [fp, #-8]\n",
      "\tb\t.L6\n",
      ".L5:\n",
      "\tldr\tr3, [fp, #-20]\n",
      "\tadd\tr3, r3, #4\n",
      "\tldr\tr3, [r3, #0]\n",
      "\tmov\tr0, r3\n",
      "\tbl\tatoi\n",
      "\tstr\tr0, [fp, #-8]\n",
      ".L6:\n",
      "\tldr\tr0, [fp, #-8]\n",
      "\tmov\tr1, #0\n",
      "\tmov\tr2, #0\n",
      "\tbl\tsomme\n",
      "\tmov\tr3, r0\n",
      "\tldr\tr0, .L8\n",
      "\tldr\tr1, [fp, #-8]\n",
      "\tmov\tr2, r3\n",
      "\tbl\tprintf\n",
      "\tmov\tr3, #0\n",
      "\tmov\tr0, r3\n",
      "\tsub\tsp, fp, #4\n",
      "\tldmfd\tsp!, {fp, pc}\n",
      ".L9:\n",
      "\t.align\t2\n",
      ".L8:\n",
      "\t.word\t.LC0\n",
      "\t.size\tmain, .-main\n",
      "\t.ident\t\"GCC: (Ubuntu/Linaro 4.7.3-12ubuntu1) 4.7.3\"\n",
      "\t.section\t.note.GNU-stack,\"\",%progbits\n"
     ]
    }
   ],
   "source": [
    "%%sh\n",
    "arm-linux-gnueabi-gcc -S -static sommeAdHoc.c\n",
    "cat sommeAdHoc.s"
   ]
  },
  {
   "cell_type": "code",
   "execution_count": 20,
   "metadata": {},
   "outputs": [
    {
     "name": "stdout",
     "output_type": "stream",
     "text": [
      "1+2+...+300000=2050477040\n"
     ]
    }
   ],
   "source": [
    "%%sh\n",
    "arm-linux-gnueabi-gcc -static sommeAdHoc.c\n",
    "qemu-arm a.out 300000"
   ]
  },
  {
   "cell_type": "markdown",
   "metadata": {},
   "source": [
    "## Et si le compilateur aidait ?\n",
    "\n",
    "On repart du programme simple de départ et on demande au compilateur s'il peut aider."
   ]
  },
  {
   "cell_type": "code",
   "execution_count": 14,
   "metadata": {},
   "outputs": [
    {
     "name": "stdout",
     "output_type": "stream",
     "text": [
      "Overwriting somme.c\n"
     ]
    }
   ],
   "source": [
    "%%writefile somme.c\n",
    "#include <stdio.h>\n",
    "\n",
    "int somme(int n) {\n",
    "if (!n) {return 0;}\n",
    "else {return n+somme(n-1);}}\n",
    "\n",
    "int main (int argc, char * argv[]) {\n",
    "int i;\n",
    "if (argc==1)    {i=20;}\n",
    "else {i=atoi(argv[1]);}\n",
    "printf(\"1+2+...+%d=%d\\n\",i,somme(i));\n",
    "return 0;}"
   ]
  },
  {
   "cell_type": "code",
   "execution_count": 21,
   "metadata": {
    "scrolled": true
   },
   "outputs": [
    {
     "name": "stdout",
     "output_type": "stream",
     "text": [
      "\t.arch armv5t\n",
      "\t.fpu softvfp\n",
      "\t.eabi_attribute 20, 1\n",
      "\t.eabi_attribute 21, 1\n",
      "\t.eabi_attribute 23, 3\n",
      "\t.eabi_attribute 24, 1\n",
      "\t.eabi_attribute 25, 1\n",
      "\t.eabi_attribute 26, 2\n",
      "\t.eabi_attribute 30, 1\n",
      "\t.eabi_attribute 34, 0\n",
      "\t.eabi_attribute 18, 4\n",
      "\t.file\t\"somme.c\"\n",
      "\t.text\n",
      "\t.align\t2\n",
      "\t.global\tsomme\n",
      "\t.type\tsomme, %function\n",
      "somme:\n",
      "\t@ args = 0, pretend = 0, frame = 0\n",
      "\t@ frame_needed = 0, uses_anonymous_args = 0\n",
      "\tstmfd\tsp!, {r4, lr}\n",
      "\tsubs\tr4, r0, #0\n",
      "\tbeq\t.L3\n",
      "\tsub\tr0, r4, #1\n",
      "\tbl\tsomme\n",
      "\tadd\tr0, r0, r4\n",
      "\tldmfd\tsp!, {r4, pc}\n",
      ".L3:\n",
      "\tmov\tr0, #0\n",
      "\tldmfd\tsp!, {r4, pc}\n",
      "\t.size\tsomme, .-somme\n",
      "\t.align\t2\n",
      "\t.global\tmain\n",
      "\t.type\tmain, %function\n",
      "main:\n",
      "\t@ args = 0, pretend = 0, frame = 0\n",
      "\t@ frame_needed = 0, uses_anonymous_args = 0\n",
      "\tstmfd\tsp!, {r4, lr}\n",
      "\tcmp\tr0, #1\n",
      "\tmoveq\tr4, #20\n",
      "\tbeq\t.L5\n",
      "\tldr\tr0, [r1, #4]\n",
      "\tbl\tatoi\n",
      "\tmov\tr4, r0\n",
      "\tb\t.L5\n",
      ".L5:\n",
      "\tmov\tr0, r4\n",
      "\tbl\tsomme\n",
      "\tmov\tr3, r0\n",
      "\tmov\tr0, #1\n",
      "\tldr\tr1, .L7\n",
      "\tmov\tr2, r4\n",
      "\tbl\t__printf_chk\n",
      "\tmov\tr0, #0\n",
      "\tldmfd\tsp!, {r4, pc}\n",
      ".L8:\n",
      "\t.align\t2\n",
      ".L7:\n",
      "\t.word\t.LC0\n",
      "\t.size\tmain, .-main\n",
      "\t.section\t.rodata.str1.4,\"aMS\",%progbits,1\n",
      "\t.align\t2\n",
      ".LC0:\n",
      "\t.ascii\t\"1+2+...+%d=%d\\012\\000\"\n",
      "\t.ident\t\"GCC: (Ubuntu/Linaro 4.7.3-12ubuntu1) 4.7.3\"\n",
      "\t.section\t.note.GNU-stack,\"\",%progbits\n"
     ]
    }
   ],
   "source": [
    "%%sh\n",
    "arm-linux-gnueabi-gcc -O -S -static somme.c\n",
    "cat somme.s"
   ]
  },
  {
   "cell_type": "markdown",
   "metadata": {},
   "source": [
    "Effectivement, il y a eu quelques optimisations, la pile est moins sollicitées, mais cela ne va pas suffire et on peut imaginer que cela va juste planter 2 fois plus loin (entre 1 000 0000 et 1 200 000) :"
   ]
  },
  {
   "cell_type": "code",
   "execution_count": 28,
   "metadata": {},
   "outputs": [
    {
     "name": "stderr",
     "output_type": "stream",
     "text": [
      "qemu: uncaught target signal 11 (Segmentation fault) - core dumped\n",
      "Segmentation fault (core dumped)\n"
     ]
    }
   ],
   "source": [
    "%%sh\n",
    "arm-linux-gnueabi-gcc -O -static somme.c\n",
    "qemu-arm a.out 6000000"
   ]
  },
  {
   "cell_type": "code",
   "execution_count": 34,
   "metadata": {},
   "outputs": [
    {
     "name": "stdout",
     "output_type": "stream",
     "text": [
      "1+2+...+1000000000=-243309312\n"
     ]
    }
   ],
   "source": [
    "%%sh\n",
    "arm-linux-gnueabi-gcc -O2 -static somme.c\n",
    "qemu-arm a.out 1000000000"
   ]
  },
  {
   "cell_type": "markdown",
   "metadata": {},
   "source": [
    "Cependant, le compilateur peut faire plus (beaucoup plus), il peut même essayer de reconnaitre une forme de récursivité qui se ramène (facilement) à une récursivité terminale et traduire mieux (il y a quelques années, il était un peu moins fort, il fallait que la récursité terminale soit explicite dès le départ ; et/ou il fallait lui demander explicitement de rechercher des récursivités terminales) :  \n",
    "(en particulier, regarder la fonction \"main\", il n'y a plus de référence à \"somme\", en fait la fonction est inline, on reconnait la boucle, le +n et le -1 en .L9 au lieu d'une récursivité)"
   ]
  },
  {
   "cell_type": "code",
   "execution_count": 29,
   "metadata": {
    "scrolled": true
   },
   "outputs": [
    {
     "name": "stdout",
     "output_type": "stream",
     "text": [
      "\t.arch armv5t\n",
      "\t.fpu softvfp\n",
      "\t.eabi_attribute 20, 1\n",
      "\t.eabi_attribute 21, 1\n",
      "\t.eabi_attribute 23, 3\n",
      "\t.eabi_attribute 24, 1\n",
      "\t.eabi_attribute 25, 1\n",
      "\t.eabi_attribute 26, 2\n",
      "\t.eabi_attribute 30, 2\n",
      "\t.eabi_attribute 34, 0\n",
      "\t.eabi_attribute 18, 4\n",
      "\t.file\t\"somme.c\"\n",
      "\t.text\n",
      "\t.align\t2\n",
      "\t.global\tsomme\n",
      "\t.type\tsomme, %function\n",
      "somme:\n",
      "\t@ args = 0, pretend = 0, frame = 0\n",
      "\t@ frame_needed = 0, uses_anonymous_args = 0\n",
      "\t@ link register save eliminated.\n",
      "\tsubs\tr3, r0, #0\n",
      "\tbeq\t.L4\n",
      "\tmov\tr0, #0\n",
      ".L3:\n",
      "\tadd\tr0, r0, r3\n",
      "\tsubs\tr3, r3, #1\n",
      "\tbne\t.L3\n",
      "\tbx\tlr\n",
      ".L4:\n",
      "\tmov\tr0, r3\n",
      "\tbx\tlr\n",
      "\t.size\tsomme, .-somme\n",
      "\t.section\t.text.startup,\"ax\",%progbits\n",
      "\t.align\t2\n",
      "\t.global\tmain\n",
      "\t.type\tmain, %function\n",
      "main:\n",
      "\t@ args = 0, pretend = 0, frame = 0\n",
      "\t@ frame_needed = 0, uses_anonymous_args = 0\n",
      "\tcmp\tr0, #1\n",
      "\tstmfd\tsp!, {r3, lr}\n",
      "\tbeq\t.L14\n",
      "\tldr\tr0, [r1, #4]\n",
      "\tbl\tatoi\n",
      "\tsubs\tr2, r0, #0\n",
      "\tbeq\t.L15\n",
      ".L11:\n",
      "\tmov\tr1, r2\n",
      "\tmov\tr3, #0\n",
      ".L9:\n",
      "\tadd\tr3, r3, r1\n",
      "\tsubs\tr1, r1, #1\n",
      "\tbne\t.L9\n",
      ".L10:\n",
      "\tldr\tr1, .L16\n",
      "\tmov\tr0, #1\n",
      "\tbl\t__printf_chk\n",
      "\tmov\tr0, #0\n",
      "\tldmfd\tsp!, {r3, pc}\n",
      ".L14:\n",
      "\tmov\tr2, #20\n",
      "\tb\t.L11\n",
      ".L15:\n",
      "\tmov\tr3, r2\n",
      "\tb\t.L10\n",
      ".L17:\n",
      "\t.align\t2\n",
      ".L16:\n",
      "\t.word\t.LC0\n",
      "\t.size\tmain, .-main\n",
      "\t.section\t.rodata.str1.4,\"aMS\",%progbits,1\n",
      "\t.align\t2\n",
      ".LC0:\n",
      "\t.ascii\t\"1+2+...+%d=%d\\012\\000\"\n",
      "\t.ident\t\"GCC: (Ubuntu/Linaro 4.7.3-12ubuntu1) 4.7.3\"\n",
      "\t.section\t.note.GNU-stack,\"\",%progbits\n"
     ]
    }
   ],
   "source": [
    "%%sh\n",
    "arm-linux-gnueabi-gcc -O2 -S -static somme.c\n",
    "cat somme.s"
   ]
  },
  {
   "cell_type": "markdown",
   "metadata": {},
   "source": [
    "## Conclusion\n",
    "\n",
    "* Avant optimisation : un programme limité\n",
    "* Après optimisation : une récursivité transformée en boucle (mais un programme qui continue de donner des résultats faux quand cela dépasse le milliard (32 bits))\n",
    "\n",
    "N.B. : pour de petites valeurs, l'optimisation peut même changer radicalement le programme (cas où le programme n'a pas d'entrées et fonctionne avec des constantes) :  \n",
    "Regarder le \"main\" de l'exécutable, le résultat du calcul est mis dès le départ !"
   ]
  },
  {
   "cell_type": "code",
   "execution_count": 19,
   "metadata": {},
   "outputs": [
    {
     "name": "stdout",
     "output_type": "stream",
     "text": [
      "Overwriting sommeCst.c\n"
     ]
    }
   ],
   "source": [
    "%%writefile sommeCst.c\n",
    "#include <stdio.h>\n",
    "\n",
    "int somme(int n) {\n",
    "if (!n) {return 0;}\n",
    "else {return n+somme(n-1);}}\n",
    "\n",
    "int main (int argc, char * argv[]) {\n",
    "int i=20;\n",
    "printf(\"1+2+...+%d=%d\\n\",i,somme(i));\n",
    "return 0;}"
   ]
  },
  {
   "cell_type": "code",
   "execution_count": 20,
   "metadata": {
    "scrolled": true
   },
   "outputs": [
    {
     "name": "stdout",
     "output_type": "stream",
     "text": [
      "\t.arch armv5t\n",
      "\t.fpu softvfp\n",
      "\t.eabi_attribute 20, 1\n",
      "\t.eabi_attribute 21, 1\n",
      "\t.eabi_attribute 23, 3\n",
      "\t.eabi_attribute 24, 1\n",
      "\t.eabi_attribute 25, 1\n",
      "\t.eabi_attribute 26, 2\n",
      "\t.eabi_attribute 30, 2\n",
      "\t.eabi_attribute 34, 0\n",
      "\t.eabi_attribute 18, 4\n",
      "\t.file\t\"sommeCst.c\"\n",
      "\t.text\n",
      "\t.align\t2\n",
      "\t.global\tsomme\n",
      "\t.type\tsomme, %function\n",
      "somme:\n",
      "\t@ args = 0, pretend = 0, frame = 0\n",
      "\t@ frame_needed = 0, uses_anonymous_args = 0\n",
      "\t@ link register save eliminated.\n",
      "\tsubs\tr3, r0, #0\n",
      "\tbeq\t.L4\n",
      "\tmov\tr0, #0\n",
      ".L3:\n",
      "\tadd\tr0, r0, r3\n",
      "\tsubs\tr3, r3, #1\n",
      "\tbne\t.L3\n",
      "\tbx\tlr\n",
      ".L4:\n",
      "\tmov\tr0, r3\n",
      "\tbx\tlr\n",
      "\t.size\tsomme, .-somme\n",
      "\t.section\t.text.startup,\"ax\",%progbits\n",
      "\t.align\t2\n",
      "\t.global\tmain\n",
      "\t.type\tmain, %function\n",
      "main:\n",
      "\t@ args = 0, pretend = 0, frame = 0\n",
      "\t@ frame_needed = 0, uses_anonymous_args = 0\n",
      "\tstmfd\tsp!, {r3, lr}\n",
      "\tldr\tr1, .L8\n",
      "\tmov\tr2, #20\n",
      "\tmov\tr3, #210\n",
      "\tmov\tr0, #1\n",
      "\tbl\t__printf_chk\n",
      "\tmov\tr0, #0\n",
      "\tldmfd\tsp!, {r3, pc}\n",
      ".L9:\n",
      "\t.align\t2\n",
      ".L8:\n",
      "\t.word\t.LC0\n",
      "\t.size\tmain, .-main\n",
      "\t.section\t.rodata.str1.4,\"aMS\",%progbits,1\n",
      "\t.align\t2\n",
      ".LC0:\n",
      "\t.ascii\t\"1+2+...+%d=%d\\012\\000\"\n",
      "\t.ident\t\"GCC: (Ubuntu/Linaro 4.7.3-12ubuntu1) 4.7.3\"\n",
      "\t.section\t.note.GNU-stack,\"\",%progbits\n"
     ]
    }
   ],
   "source": [
    "%%sh\n",
    "arm-linux-gnueabi-gcc -O2 -S -static sommeCst.c\n",
    "cat sommeCst.s"
   ]
  },
  {
   "cell_type": "markdown",
   "metadata": {},
   "source": [
    "## et en X86 ?\n",
    "\n",
    "C'est pareil ! (les erreurs sont juste sur des paliers différents)"
   ]
  },
  {
   "cell_type": "code",
   "execution_count": 21,
   "metadata": {},
   "outputs": [
    {
     "name": "stdout",
     "output_type": "stream",
     "text": [
      "Overwriting somme.c\n"
     ]
    }
   ],
   "source": [
    "%%writefile somme.c\n",
    "#include <stdio.h>\n",
    "#include <stdlib.h>\n",
    "\n",
    "int somme(int n) {\n",
    "if (!n) {return 0;}\n",
    "else {return n+somme(n-1);}}\n",
    "\n",
    "int main (int argc, char * argv[]) {\n",
    "int i;\n",
    "if (argc==1)    {i=20;}\n",
    "else {i=atoi(argv[1]);}\n",
    "printf(\"1+2+...+%d=%d\\n\",i,somme(i));\n",
    "return 0;}"
   ]
  },
  {
   "cell_type": "code",
   "execution_count": 22,
   "metadata": {
    "scrolled": true
   },
   "outputs": [
    {
     "name": "stdout",
     "output_type": "stream",
     "text": [
      "\t.file\t\"somme.c\"\n",
      "\t.text\n",
      "\t.globl\tsomme\n",
      "\t.type\tsomme, @function\n",
      "somme:\n",
      ".LFB2:\n",
      "\t.cfi_startproc\n",
      "\tpushq\t%rbp\n",
      "\t.cfi_def_cfa_offset 16\n",
      "\t.cfi_offset 6, -16\n",
      "\tmovq\t%rsp, %rbp\n",
      "\t.cfi_def_cfa_register 6\n",
      "\tsubq\t$16, %rsp\n",
      "\tmovl\t%edi, -4(%rbp)\n",
      "\tcmpl\t$0, -4(%rbp)\n",
      "\tjne\t.L2\n",
      "\tmovl\t$0, %eax\n",
      "\tjmp\t.L3\n",
      ".L2:\n",
      "\tmovl\t-4(%rbp), %eax\n",
      "\tsubl\t$1, %eax\n",
      "\tmovl\t%eax, %edi\n",
      "\tcall\tsomme\n",
      "\tmovl\t-4(%rbp), %edx\n",
      "\taddl\t%edx, %eax\n",
      ".L3:\n",
      "\tleave\n",
      "\t.cfi_def_cfa 7, 8\n",
      "\tret\n",
      "\t.cfi_endproc\n",
      ".LFE2:\n",
      "\t.size\tsomme, .-somme\n",
      "\t.section\t.rodata\n",
      ".LC0:\n",
      "\t.string\t\"1+2+...+%d=%d\\n\"\n",
      "\t.text\n",
      "\t.globl\tmain\n",
      "\t.type\tmain, @function\n",
      "main:\n",
      ".LFB3:\n",
      "\t.cfi_startproc\n",
      "\tpushq\t%rbp\n",
      "\t.cfi_def_cfa_offset 16\n",
      "\t.cfi_offset 6, -16\n",
      "\tmovq\t%rsp, %rbp\n",
      "\t.cfi_def_cfa_register 6\n",
      "\tsubq\t$32, %rsp\n",
      "\tmovl\t%edi, -20(%rbp)\n",
      "\tmovq\t%rsi, -32(%rbp)\n",
      "\tcmpl\t$1, -20(%rbp)\n",
      "\tjne\t.L5\n",
      "\tmovl\t$20, -4(%rbp)\n",
      "\tjmp\t.L6\n",
      ".L5:\n",
      "\tmovq\t-32(%rbp), %rax\n",
      "\taddq\t$8, %rax\n",
      "\tmovq\t(%rax), %rax\n",
      "\tmovq\t%rax, %rdi\n",
      "\tcall\tatoi\n",
      "\tmovl\t%eax, -4(%rbp)\n",
      ".L6:\n",
      "\tmovl\t-4(%rbp), %eax\n",
      "\tmovl\t%eax, %edi\n",
      "\tcall\tsomme\n",
      "\tmovl\t%eax, %edx\n",
      "\tmovl\t-4(%rbp), %eax\n",
      "\tmovl\t%eax, %esi\n",
      "\tmovl\t$.LC0, %edi\n",
      "\tmovl\t$0, %eax\n",
      "\tcall\tprintf\n",
      "\tmovl\t$0, %eax\n",
      "\tleave\n",
      "\t.cfi_def_cfa 7, 8\n",
      "\tret\n",
      "\t.cfi_endproc\n",
      ".LFE3:\n",
      "\t.size\tmain, .-main\n",
      "\t.ident\t\"GCC: (Ubuntu 4.8.4-2ubuntu1~14.04.4) 4.8.4\"\n",
      "\t.section\t.note.GNU-stack,\"\",@progbits\n"
     ]
    }
   ],
   "source": [
    "%%sh\n",
    "gcc -S somme.c\n",
    "cat somme.s"
   ]
  },
  {
   "cell_type": "code",
   "execution_count": 23,
   "metadata": {},
   "outputs": [
    {
     "name": "stdout",
     "output_type": "stream",
     "text": [
      "1+2+...+20=210\n"
     ]
    }
   ],
   "source": [
    "%%sh\n",
    "gcc  somme.c\n",
    "./a.out"
   ]
  },
  {
   "cell_type": "code",
   "execution_count": 24,
   "metadata": {},
   "outputs": [
    {
     "name": "stdout",
     "output_type": "stream",
     "text": [
      "1+2+...+200000=-1474736480\n"
     ]
    }
   ],
   "source": [
    "%%sh\n",
    "gcc  somme.c\n",
    "./a.out 200000"
   ]
  },
  {
   "cell_type": "code",
   "execution_count": 25,
   "metadata": {},
   "outputs": [
    {
     "name": "stderr",
     "output_type": "stream",
     "text": [
      "Segmentation fault (core dumped)\n"
     ]
    }
   ],
   "source": [
    "%%sh\n",
    "gcc  somme.c\n",
    "./a.out 300000"
   ]
  },
  {
   "cell_type": "code",
   "execution_count": 26,
   "metadata": {},
   "outputs": [
    {
     "name": "stdout",
     "output_type": "stream",
     "text": [
      "1+2+...+300000=2050477040\n"
     ]
    }
   ],
   "source": [
    "%%sh\n",
    "gcc  -O somme.c\n",
    "./a.out 300000"
   ]
  },
  {
   "cell_type": "code",
   "execution_count": 27,
   "metadata": {},
   "outputs": [
    {
     "name": "stderr",
     "output_type": "stream",
     "text": [
      "Segmentation fault (core dumped)\n"
     ]
    }
   ],
   "source": [
    "%%sh\n",
    "gcc  -O somme.c\n",
    "./a.out 600000"
   ]
  },
  {
   "cell_type": "code",
   "execution_count": 28,
   "metadata": {},
   "outputs": [
    {
     "name": "stdout",
     "output_type": "stream",
     "text": [
      "1+2+...+1000000000=-243309312\n"
     ]
    }
   ],
   "source": [
    "%%sh\n",
    "gcc  -O2 somme.c\n",
    "./a.out 1000000000"
   ]
  },
  {
   "cell_type": "code",
   "execution_count": 29,
   "metadata": {
    "scrolled": true
   },
   "outputs": [
    {
     "name": "stdout",
     "output_type": "stream",
     "text": [
      "\t.file\t\"somme.c\"\n",
      "\t.text\n",
      "\t.p2align 4,,15\n",
      "\t.globl\tsomme\n",
      "\t.type\tsomme, @function\n",
      "somme:\n",
      ".LFB39:\n",
      "\t.cfi_startproc\n",
      "\txorl\t%eax, %eax\n",
      "\ttestl\t%edi, %edi\n",
      "\tje\t.L2\n",
      "\t.p2align 4,,10\n",
      "\t.p2align 3\n",
      ".L3:\n",
      "\taddl\t%edi, %eax\n",
      "\tsubl\t$1, %edi\n",
      "\tjne\t.L3\n",
      ".L2:\n",
      "\trep ret\n",
      "\t.cfi_endproc\n",
      ".LFE39:\n",
      "\t.size\tsomme, .-somme\n",
      "\t.section\t.rodata.str1.1,\"aMS\",@progbits,1\n",
      ".LC0:\n",
      "\t.string\t\"1+2+...+%d=%d\\n\"\n",
      "\t.section\t.text.startup,\"ax\",@progbits\n",
      "\t.p2align 4,,15\n",
      "\t.globl\tmain\n",
      "\t.type\tmain, @function\n",
      "main:\n",
      ".LFB40:\n",
      "\t.cfi_startproc\n",
      "\tsubq\t$8, %rsp\n",
      "\t.cfi_def_cfa_offset 16\n",
      "\tcmpl\t$1, %edi\n",
      "\tje\t.L19\n",
      "\tmovq\t8(%rsi), %rdi\n",
      "\tmovl\t$10, %edx\n",
      "\txorl\t%esi, %esi\n",
      "\tcall\tstrtol\n",
      "\ttestl\t%eax, %eax\n",
      "\tmovl\t%eax, %edx\n",
      "\tje\t.L20\n",
      ".L13:\n",
      "\tmovl\t%edx, %eax\n",
      "\txorl\t%ecx, %ecx\n",
      "\t.p2align 4,,10\n",
      "\t.p2align 3\n",
      ".L11:\n",
      "\taddl\t%eax, %ecx\n",
      "\tsubl\t$1, %eax\n",
      "\tjne\t.L11\n",
      ".L12:\n",
      "\tmovl\t$.LC0, %esi\n",
      "\tmovl\t$1, %edi\n",
      "\txorl\t%eax, %eax\n",
      "\tcall\t__printf_chk\n",
      "\txorl\t%eax, %eax\n",
      "\taddq\t$8, %rsp\n",
      "\t.cfi_remember_state\n",
      "\t.cfi_def_cfa_offset 8\n",
      "\tret\n",
      ".L19:\n",
      "\t.cfi_restore_state\n",
      "\tmovl\t$20, %edx\n",
      "\tjmp\t.L13\n",
      ".L20:\n",
      "\txorl\t%ecx, %ecx\n",
      "\tjmp\t.L12\n",
      "\t.cfi_endproc\n",
      ".LFE40:\n",
      "\t.size\tmain, .-main\n",
      "\t.ident\t\"GCC: (Ubuntu 4.8.4-2ubuntu1~14.04.4) 4.8.4\"\n",
      "\t.section\t.note.GNU-stack,\"\",@progbits\n"
     ]
    }
   ],
   "source": [
    "%%sh\n",
    "gcc -O2 -S somme.c\n",
    "cat somme.s"
   ]
  },
  {
   "cell_type": "markdown",
   "metadata": {},
   "source": [
    "## Et avec un autre compilateur ? (clang)"
   ]
  },
  {
   "cell_type": "code",
   "execution_count": 34,
   "metadata": {
    "scrolled": true
   },
   "outputs": [
    {
     "name": "stdout",
     "output_type": "stream",
     "text": [
      "\t.file\t\"somme.c\"\n",
      "\t.text\n",
      "\t.globl\tsomme\n",
      "\t.align\t16, 0x90\n",
      "\t.type\tsomme,@function\n",
      "somme:                                  # @somme\n",
      "\t.cfi_startproc\n",
      "# BB#0:\n",
      "\tpushq\t%rbp\n",
      ".Ltmp2:\n",
      "\t.cfi_def_cfa_offset 16\n",
      ".Ltmp3:\n",
      "\t.cfi_offset %rbp, -16\n",
      "\tmovq\t%rsp, %rbp\n",
      ".Ltmp4:\n",
      "\t.cfi_def_cfa_register %rbp\n",
      "\tsubq\t$16, %rsp\n",
      "\tmovl\t%edi, -8(%rbp)\n",
      "\tcmpl\t$0, -8(%rbp)\n",
      "\tjne\t.LBB0_2\n",
      "# BB#1:\n",
      "\tmovl\t$0, -4(%rbp)\n",
      "\tjmp\t.LBB0_3\n",
      ".LBB0_2:\n",
      "\tmovl\t-8(%rbp), %eax\n",
      "\tmovl\t-8(%rbp), %ecx\n",
      "\tsubl\t$1, %ecx\n",
      "\tmovl\t%ecx, %edi\n",
      "\tmovl\t%eax, -12(%rbp)         # 4-byte Spill\n",
      "\tcallq\tsomme\n",
      "\tmovl\t-12(%rbp), %ecx         # 4-byte Reload\n",
      "\taddl\t%eax, %ecx\n",
      "\tmovl\t%ecx, -4(%rbp)\n",
      ".LBB0_3:\n",
      "\tmovl\t-4(%rbp), %eax\n",
      "\taddq\t$16, %rsp\n",
      "\tpopq\t%rbp\n",
      "\tret\n",
      ".Ltmp5:\n",
      "\t.size\tsomme, .Ltmp5-somme\n",
      "\t.cfi_endproc\n",
      "\n",
      "\t.globl\tmain\n",
      "\t.align\t16, 0x90\n",
      "\t.type\tmain,@function\n",
      "main:                                   # @main\n",
      "\t.cfi_startproc\n",
      "# BB#0:\n",
      "\tpushq\t%rbp\n",
      ".Ltmp8:\n",
      "\t.cfi_def_cfa_offset 16\n",
      ".Ltmp9:\n",
      "\t.cfi_offset %rbp, -16\n",
      "\tmovq\t%rsp, %rbp\n",
      ".Ltmp10:\n",
      "\t.cfi_def_cfa_register %rbp\n",
      "\tsubq\t$32, %rsp\n",
      "\tmovl\t$0, -4(%rbp)\n",
      "\tmovl\t%edi, -8(%rbp)\n",
      "\tmovq\t%rsi, -16(%rbp)\n",
      "\tcmpl\t$1, -8(%rbp)\n",
      "\tjne\t.LBB1_2\n",
      "# BB#1:\n",
      "\tmovl\t$20, -20(%rbp)\n",
      "\tjmp\t.LBB1_3\n",
      ".LBB1_2:\n",
      "\tmovq\t-16(%rbp), %rax\n",
      "\tmovq\t8(%rax), %rdi\n",
      "\tcallq\tatoi\n",
      "\tmovl\t%eax, -20(%rbp)\n",
      ".LBB1_3:\n",
      "\tmovl\t-20(%rbp), %esi\n",
      "\tmovl\t-20(%rbp), %edi\n",
      "\tmovl\t%esi, -24(%rbp)         # 4-byte Spill\n",
      "\tcallq\tsomme\n",
      "\tleaq\t.L.str, %rdi\n",
      "\tmovl\t-24(%rbp), %esi         # 4-byte Reload\n",
      "\tmovl\t%eax, %edx\n",
      "\tmovb\t$0, %al\n",
      "\tcallq\tprintf\n",
      "\tmovl\t$0, %edx\n",
      "\tmovl\t%eax, -28(%rbp)         # 4-byte Spill\n",
      "\tmovl\t%edx, %eax\n",
      "\taddq\t$32, %rsp\n",
      "\tpopq\t%rbp\n",
      "\tret\n",
      ".Ltmp11:\n",
      "\t.size\tmain, .Ltmp11-main\n",
      "\t.cfi_endproc\n",
      "\n",
      "\t.type\t.L.str,@object          # @.str\n",
      "\t.section\t.rodata.str1.1,\"aMS\",@progbits,1\n",
      ".L.str:\n",
      "\t.asciz\t\"1+2+...+%d=%d\\n\"\n",
      "\t.size\t.L.str, 15\n",
      "\n",
      "\n",
      "\t.ident\t\"Ubuntu clang version 3.4-1ubuntu3 (tags/RELEASE_34/final) (based on LLVM 3.4)\"\n",
      "\t.section\t\".note.GNU-stack\",\"\",@progbits\n"
     ]
    }
   ],
   "source": [
    "%%sh\n",
    "clang -S somme.c\n",
    "cat somme.s"
   ]
  },
  {
   "cell_type": "code",
   "execution_count": 30,
   "metadata": {},
   "outputs": [
    {
     "name": "stdout",
     "output_type": "stream",
     "text": [
      "1+2+...+200000=-1474736480\n"
     ]
    }
   ],
   "source": [
    "%%sh\n",
    "clang somme.c\n",
    "./a.out 200000"
   ]
  },
  {
   "cell_type": "code",
   "execution_count": 31,
   "metadata": {},
   "outputs": [
    {
     "name": "stderr",
     "output_type": "stream",
     "text": [
      "Segmentation fault (core dumped)\n"
     ]
    }
   ],
   "source": [
    "%%sh\n",
    "clang somme.c\n",
    "./a.out 300000"
   ]
  },
  {
   "cell_type": "code",
   "execution_count": 32,
   "metadata": {},
   "outputs": [
    {
     "name": "stdout",
     "output_type": "stream",
     "text": [
      "1+2+...+1000000000=-243309312\n"
     ]
    }
   ],
   "source": [
    "%%sh\n",
    "clang -O somme.c\n",
    "./a.out 1000000000"
   ]
  },
  {
   "cell_type": "code",
   "execution_count": 33,
   "metadata": {
    "scrolled": true
   },
   "outputs": [
    {
     "name": "stdout",
     "output_type": "stream",
     "text": [
      "\t.file\t\"somme.c\"\n",
      "\t.text\n",
      "\t.globl\tsomme\n",
      "\t.align\t16, 0x90\n",
      "\t.type\tsomme,@function\n",
      "somme:                                  # @somme\n",
      "\t.cfi_startproc\n",
      "# BB#0:\n",
      "                                        # kill: EDI<def> EDI<kill> RDI<def>\n",
      "\txorl\t%eax, %eax\n",
      "\ttestl\t%edi, %edi\n",
      "\tje\t.LBB0_2\n",
      "# BB#1:                                 # %.lr.ph\n",
      "\tleal\t-1(%rdi), %eax\n",
      "\tleal\t-2(%rdi), %ecx\n",
      "\timulq\t%rax, %rcx\n",
      "                                        # kill: EAX<def> EAX<kill> RAX<kill>\n",
      "\timull\t%eax, %eax\n",
      "\tshrq\t%rcx\n",
      "\taddl\t%edi, %eax\n",
      "\tsubl\t%ecx, %eax\n",
      ".LBB0_2:\n",
      "\tret\n",
      ".Ltmp0:\n",
      "\t.size\tsomme, .Ltmp0-somme\n",
      "\t.cfi_endproc\n",
      "\n",
      "\t.globl\tmain\n",
      "\t.align\t16, 0x90\n",
      "\t.type\tmain,@function\n",
      "main:                                   # @main\n",
      "\t.cfi_startproc\n",
      "# BB#0:\n",
      "\tpushq\t%rbx\n",
      ".Ltmp3:\n",
      "\t.cfi_def_cfa_offset 16\n",
      ".Ltmp4:\n",
      "\t.cfi_offset %rbx, -16\n",
      "\tcmpl\t$1, %edi\n",
      "\tmovl\t$20, %eax\n",
      "\tje\t.LBB1_2\n",
      "# BB#1:\n",
      "\tmovq\t8(%rsi), %rdi\n",
      "\txorl\t%ebx, %ebx\n",
      "\txorl\t%esi, %esi\n",
      "\tmovl\t$10, %edx\n",
      "\tcallq\tstrtol\n",
      "\ttestl\t%eax, %eax\n",
      "\tmovl\t$0, %edx\n",
      "\tje\t.LBB1_3\n",
      ".LBB1_2:                                # %.lr.ph.i\n",
      "\tleal\t-1(%rax), %ecx\n",
      "\tleal\t-2(%rax), %esi\n",
      "\timulq\t%rcx, %rsi\n",
      "\tmovl\t%ecx, %edx\n",
      "\timull\t%edx, %edx\n",
      "\tshrq\t%rsi\n",
      "\taddl\t%eax, %edx\n",
      "\tsubl\t%esi, %edx\n",
      "\tmovl\t%eax, %ebx\n",
      ".LBB1_3:                                # %somme.exit\n",
      "\tmovl\t$.L.str, %edi\n",
      "\txorl\t%eax, %eax\n",
      "\tmovl\t%ebx, %esi\n",
      "\tcallq\tprintf\n",
      "\txorl\t%eax, %eax\n",
      "\tpopq\t%rbx\n",
      "\tret\n",
      ".Ltmp5:\n",
      "\t.size\tmain, .Ltmp5-main\n",
      "\t.cfi_endproc\n",
      "\n",
      "\t.type\t.L.str,@object          # @.str\n",
      "\t.section\t.rodata.str1.1,\"aMS\",@progbits,1\n",
      ".L.str:\n",
      "\t.asciz\t\"1+2+...+%d=%d\\n\"\n",
      "\t.size\t.L.str, 15\n",
      "\n",
      "\n",
      "\t.ident\t\"Ubuntu clang version 3.4-1ubuntu3 (tags/RELEASE_34/final) (based on LLVM 3.4)\"\n",
      "\t.section\t\".note.GNU-stack\",\"\",@progbits\n"
     ]
    }
   ],
   "source": [
    "%%sh\n",
    "clang -O -S somme.c\n",
    "cat somme.s"
   ]
  },
  {
   "cell_type": "code",
   "execution_count": null,
   "metadata": {},
   "outputs": [],
   "source": []
  }
 ],
 "metadata": {
  "kernelspec": {
   "display_name": "Python 3",
   "language": "python",
   "name": "python3"
  },
  "language_info": {
   "codemirror_mode": {
    "name": "ipython",
    "version": 3
   },
   "file_extension": ".py",
   "mimetype": "text/x-python",
   "name": "python",
   "nbconvert_exporter": "python",
   "pygments_lexer": "ipython3",
   "version": "3.4.3"
  }
 },
 "nbformat": 4,
 "nbformat_minor": 2
}
