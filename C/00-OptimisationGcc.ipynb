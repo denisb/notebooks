{
 "cells": [
  {
   "cell_type": "markdown",
   "metadata": {},
   "source": [
    "# Optimisation : GCC\n",
    "\n",
    "## Calculs avec des constantes\n",
    "\n",
    "Quand il n'y a que des constantes, on peut imaginer que gcc fait les calculs."
   ]
  },
  {
   "cell_type": "code",
   "execution_count": 4,
   "metadata": {},
   "outputs": [
    {
     "name": "stdout",
     "output_type": "stream",
     "text": [
      "Overwriting progConstantes.c\n"
     ]
    }
   ],
   "source": [
    "%%writefile progConstantes.c\n",
    "#include <stdio.h>\n",
    "int main () {\n",
    "int i=3, j=5;\n",
    "printf(\"4+5=%d\\n\",i+j);\n",
    "return;}"
   ]
  },
  {
   "cell_type": "code",
   "execution_count": 5,
   "metadata": {
    "scrolled": true
   },
   "outputs": [
    {
     "name": "stdout",
     "output_type": "stream",
     "text": [
      "\t.arch armv5t\n",
      "\t.fpu softvfp\n",
      "\t.eabi_attribute 20, 1\n",
      "\t.eabi_attribute 21, 1\n",
      "\t.eabi_attribute 23, 3\n",
      "\t.eabi_attribute 24, 1\n",
      "\t.eabi_attribute 25, 1\n",
      "\t.eabi_attribute 26, 2\n",
      "\t.eabi_attribute 30, 6\n",
      "\t.eabi_attribute 34, 0\n",
      "\t.eabi_attribute 18, 4\n",
      "\t.file\t\"progConstantes.c\"\n",
      "\t.section\t.rodata\n",
      "\t.align\t2\n",
      ".LC0:\n",
      "\t.ascii\t\"4+5=%d\\012\\000\"\n",
      "\t.text\n",
      "\t.align\t2\n",
      "\t.global\tmain\n",
      "\t.type\tmain, %function\n",
      "main:\n",
      "\t@ args = 0, pretend = 0, frame = 8\n",
      "\t@ frame_needed = 1, uses_anonymous_args = 0\n",
      "\tstmfd\tsp!, {fp, lr}\n",
      "\tadd\tfp, sp, #4\n",
      "\tsub\tsp, sp, #8\n",
      "\tmov\tr3, #3\n",
      "\tstr\tr3, [fp, #-12]\n",
      "\tmov\tr3, #5\n",
      "\tstr\tr3, [fp, #-8]\n",
      "\tldr\tr2, [fp, #-12]\n",
      "\tldr\tr3, [fp, #-8]\n",
      "\tadd\tr3, r2, r3\n",
      "\tldr\tr0, .L3\n",
      "\tmov\tr1, r3\n",
      "\tbl\tprintf\n",
      "\tmov\tr0, r3\n",
      "\tsub\tsp, fp, #4\n",
      "\tldmfd\tsp!, {fp, pc}\n",
      ".L4:\n",
      "\t.align\t2\n",
      ".L3:\n",
      "\t.word\t.LC0\n",
      "\t.size\tmain, .-main\n",
      "\t.ident\t\"GCC: (Ubuntu/Linaro 4.7.3-12ubuntu1) 4.7.3\"\n",
      "\t.section\t.note.GNU-stack,\"\",%progbits\n"
     ]
    }
   ],
   "source": [
    "%%sh\n",
    "arm-linux-gnueabi-gcc -S -static progConstantes.c\n",
    "cat progConstantes.s"
   ]
  },
  {
   "cell_type": "markdown",
   "metadata": {},
   "source": [
    "Et en demandant d'optimiser :"
   ]
  },
  {
   "cell_type": "code",
   "execution_count": 6,
   "metadata": {
    "scrolled": true
   },
   "outputs": [
    {
     "name": "stdout",
     "output_type": "stream",
     "text": [
      "\t.arch armv5t\n",
      "\t.fpu softvfp\n",
      "\t.eabi_attribute 20, 1\n",
      "\t.eabi_attribute 21, 1\n",
      "\t.eabi_attribute 23, 3\n",
      "\t.eabi_attribute 24, 1\n",
      "\t.eabi_attribute 25, 1\n",
      "\t.eabi_attribute 26, 2\n",
      "\t.eabi_attribute 30, 1\n",
      "\t.eabi_attribute 34, 0\n",
      "\t.eabi_attribute 18, 4\n",
      "\t.file\t\"progConstantes.c\"\n",
      "\t.text\n",
      "\t.align\t2\n",
      "\t.global\tmain\n",
      "\t.type\tmain, %function\n",
      "main:\n",
      "\t@ args = 0, pretend = 0, frame = 0\n",
      "\t@ frame_needed = 0, uses_anonymous_args = 0\n",
      "\tstmfd\tsp!, {r3, lr}\n",
      "\tmov\tr0, #1\n",
      "\tldr\tr1, .L2\n",
      "\tmov\tr2, #8\n",
      "\tbl\t__printf_chk\n",
      "\tldmfd\tsp!, {r3, pc}\n",
      ".L3:\n",
      "\t.align\t2\n",
      ".L2:\n",
      "\t.word\t.LC0\n",
      "\t.size\tmain, .-main\n",
      "\t.section\t.rodata.str1.4,\"aMS\",%progbits,1\n",
      "\t.align\t2\n",
      ".LC0:\n",
      "\t.ascii\t\"4+5=%d\\012\\000\"\n",
      "\t.ident\t\"GCC: (Ubuntu/Linaro 4.7.3-12ubuntu1) 4.7.3\"\n",
      "\t.section\t.note.GNU-stack,\"\",%progbits\n"
     ]
    }
   ],
   "source": [
    "%%sh\n",
    "arm-linux-gnueabi-gcc -O -S -static progConstantes.c\n",
    "cat progConstantes.s"
   ]
  },
  {
   "cell_type": "markdown",
   "metadata": {},
   "source": [
    "## Sur les divisions\n",
    "\n",
    "Est-ce que la division peut être optimisée ? pour les divisions par 2 ? pour les divisions par 10 ?"
   ]
  },
  {
   "cell_type": "code",
   "execution_count": 7,
   "metadata": {},
   "outputs": [
    {
     "name": "stdout",
     "output_type": "stream",
     "text": [
      "Overwriting progDivision.c\n"
     ]
    }
   ],
   "source": [
    "%%writefile progDivision.c\n",
    "#include <stdio.h>\n",
    "int main () {\n",
    "int i;\n",
    "scanf(\"%d\",&i);\n",
    "printf(\"%d / 10=%d\\n\",i,i/i);\n",
    "return 0;}"
   ]
  },
  {
   "cell_type": "code",
   "execution_count": 10,
   "metadata": {
    "scrolled": true
   },
   "outputs": [
    {
     "name": "stdout",
     "output_type": "stream",
     "text": [
      "\t.arch armv5t\n",
      "\t.fpu softvfp\n",
      "\t.eabi_attribute 20, 1\n",
      "\t.eabi_attribute 21, 1\n",
      "\t.eabi_attribute 23, 3\n",
      "\t.eabi_attribute 24, 1\n",
      "\t.eabi_attribute 25, 1\n",
      "\t.eabi_attribute 26, 2\n",
      "\t.eabi_attribute 30, 2\n",
      "\t.eabi_attribute 34, 0\n",
      "\t.eabi_attribute 18, 4\n",
      "\t.file\t\"progDivision.c\"\n",
      "\t.global\t__aeabi_idiv\n",
      "\t.section\t.text.startup,\"ax\",%progbits\n",
      "\t.align\t2\n",
      "\t.global\tmain\n",
      "\t.type\tmain, %function\n",
      "main:\n",
      "\t@ args = 0, pretend = 0, frame = 8\n",
      "\t@ frame_needed = 0, uses_anonymous_args = 0\n",
      "\tstmfd\tsp!, {r4, lr}\n",
      "\tsub\tsp, sp, #8\n",
      "\tadd\tr1, sp, #4\n",
      "\tldr\tr0, .L2\n",
      "\tbl\t__isoc99_scanf\n",
      "\tldr\tr4, [sp, #4]\n",
      "\tmov\tr1, r4\n",
      "\tmov\tr0, r4\n",
      "\tbl\t__aeabi_idiv\n",
      "\tmov\tr2, r4\n",
      "\tmov\tr3, r0\n",
      "\tldr\tr1, .L2+4\n",
      "\tmov\tr0, #1\n",
      "\tbl\t__printf_chk\n",
      "\tmov\tr0, #0\n",
      "\tadd\tsp, sp, #8\n",
      "\tldmfd\tsp!, {r4, pc}\n",
      ".L3:\n",
      "\t.align\t2\n",
      ".L2:\n",
      "\t.word\t.LC0\n",
      "\t.word\t.LC1\n",
      "\t.size\tmain, .-main\n",
      "\t.section\t.rodata.str1.4,\"aMS\",%progbits,1\n",
      "\t.align\t2\n",
      ".LC0:\n",
      "\t.ascii\t\"%d\\000\"\n",
      "\t.space\t1\n",
      ".LC1:\n",
      "\t.ascii\t\"%d / 10=%d\\012\\000\"\n",
      "\t.ident\t\"GCC: (Ubuntu/Linaro 4.7.3-12ubuntu1) 4.7.3\"\n",
      "\t.section\t.note.GNU-stack,\"\",%progbits\n"
     ]
    },
    {
     "name": "stderr",
     "output_type": "stream",
     "text": [
      "progDivision.c: Dans la fonction ‘main’:\n",
      "progDivision.c:4:6: attention : ignoring return value of ‘scanf’, declared with attribute warn_unused_result [-Wunused-result]\n"
     ]
    }
   ],
   "source": [
    "%%sh\n",
    "arm-linux-gnueabi-gcc -O2 -S -static progDivision.c\n",
    "cat progDivision.s"
   ]
  },
  {
   "cell_type": "code",
   "execution_count": 11,
   "metadata": {},
   "outputs": [
    {
     "name": "stdout",
     "output_type": "stream",
     "text": [
      "Overwriting progDivision2.c\n"
     ]
    }
   ],
   "source": [
    "%%writefile progDivision2.c\n",
    "#include <stdio.h>\n",
    "int main () {\n",
    "int i;\n",
    "scanf(\"%d\",&i);\n",
    "printf(\"%d / 10=%d\\n\",i,i/2);\n",
    "return 0;}"
   ]
  },
  {
   "cell_type": "code",
   "execution_count": 12,
   "metadata": {
    "scrolled": true
   },
   "outputs": [
    {
     "name": "stdout",
     "output_type": "stream",
     "text": [
      "\t.arch armv5t\n",
      "\t.fpu softvfp\n",
      "\t.eabi_attribute 20, 1\n",
      "\t.eabi_attribute 21, 1\n",
      "\t.eabi_attribute 23, 3\n",
      "\t.eabi_attribute 24, 1\n",
      "\t.eabi_attribute 25, 1\n",
      "\t.eabi_attribute 26, 2\n",
      "\t.eabi_attribute 30, 6\n",
      "\t.eabi_attribute 34, 0\n",
      "\t.eabi_attribute 18, 4\n",
      "\t.file\t\"progDivision2.c\"\n",
      "\t.section\t.rodata\n",
      "\t.align\t2\n",
      ".LC0:\n",
      "\t.ascii\t\"%d\\000\"\n",
      "\t.align\t2\n",
      ".LC1:\n",
      "\t.ascii\t\"%d / 10=%d\\012\\000\"\n",
      "\t.text\n",
      "\t.align\t2\n",
      "\t.global\tmain\n",
      "\t.type\tmain, %function\n",
      "main:\n",
      "\t@ args = 0, pretend = 0, frame = 8\n",
      "\t@ frame_needed = 1, uses_anonymous_args = 0\n",
      "\tstmfd\tsp!, {fp, lr}\n",
      "\tadd\tfp, sp, #4\n",
      "\tsub\tsp, sp, #8\n",
      "\tsub\tr3, fp, #8\n",
      "\tldr\tr0, .L3\n",
      "\tmov\tr1, r3\n",
      "\tbl\t__isoc99_scanf\n",
      "\tldr\tr2, [fp, #-8]\n",
      "\tldr\tr3, [fp, #-8]\n",
      "\tmov\tr1, r3, lsr #31\n",
      "\tadd\tr3, r1, r3\n",
      "\tmov\tr3, r3, asr #1\n",
      "\tldr\tr0, .L3+4\n",
      "\tmov\tr1, r2\n",
      "\tmov\tr2, r3\n",
      "\tbl\tprintf\n",
      "\tmov\tr3, #0\n",
      "\tmov\tr0, r3\n",
      "\tsub\tsp, fp, #4\n",
      "\tldmfd\tsp!, {fp, pc}\n",
      ".L4:\n",
      "\t.align\t2\n",
      ".L3:\n",
      "\t.word\t.LC0\n",
      "\t.word\t.LC1\n",
      "\t.size\tmain, .-main\n",
      "\t.ident\t\"GCC: (Ubuntu/Linaro 4.7.3-12ubuntu1) 4.7.3\"\n",
      "\t.section\t.note.GNU-stack,\"\",%progbits\n"
     ]
    }
   ],
   "source": [
    "%%sh\n",
    "arm-linux-gnueabi-gcc -S -static progDivision2.c\n",
    "cat progDivision2.s"
   ]
  },
  {
   "cell_type": "code",
   "execution_count": 13,
   "metadata": {},
   "outputs": [
    {
     "name": "stdout",
     "output_type": "stream",
     "text": [
      "Overwriting progDivision10.c\n"
     ]
    }
   ],
   "source": [
    "%%writefile progDivision10.c\n",
    "#include <stdio.h>\n",
    "int main () {\n",
    "int i;\n",
    "scanf(\"%d\",&i);\n",
    "printf(\"%d / 10=%d\\n\",i,i/10);\n",
    "return 0;}"
   ]
  },
  {
   "cell_type": "code",
   "execution_count": 14,
   "metadata": {
    "scrolled": true
   },
   "outputs": [
    {
     "name": "stdout",
     "output_type": "stream",
     "text": [
      "\t.arch armv5t\n",
      "\t.fpu softvfp\n",
      "\t.eabi_attribute 20, 1\n",
      "\t.eabi_attribute 21, 1\n",
      "\t.eabi_attribute 23, 3\n",
      "\t.eabi_attribute 24, 1\n",
      "\t.eabi_attribute 25, 1\n",
      "\t.eabi_attribute 26, 2\n",
      "\t.eabi_attribute 30, 6\n",
      "\t.eabi_attribute 34, 0\n",
      "\t.eabi_attribute 18, 4\n",
      "\t.file\t\"progDivision10.c\"\n",
      "\t.section\t.rodata\n",
      "\t.align\t2\n",
      ".LC0:\n",
      "\t.ascii\t\"%d\\000\"\n",
      "\t.align\t2\n",
      ".LC1:\n",
      "\t.ascii\t\"%d / 10=%d\\012\\000\"\n",
      "\t.text\n",
      "\t.align\t2\n",
      "\t.global\tmain\n",
      "\t.type\tmain, %function\n",
      "main:\n",
      "\t@ args = 0, pretend = 0, frame = 8\n",
      "\t@ frame_needed = 1, uses_anonymous_args = 0\n",
      "\tstmfd\tsp!, {fp, lr}\n",
      "\tadd\tfp, sp, #4\n",
      "\tsub\tsp, sp, #8\n",
      "\tsub\tr3, fp, #8\n",
      "\tldr\tr0, .L3\n",
      "\tmov\tr1, r3\n",
      "\tbl\t__isoc99_scanf\n",
      "\tldr\tr2, [fp, #-8]\n",
      "\tldr\tr3, [fp, #-8]\n",
      "\tldr\tr1, .L3+4\n",
      "\tsmull\tr0, r1, r3, r1\n",
      "\tmov\tr1, r1, asr #2\n",
      "\tmov\tr3, r3, asr #31\n",
      "\trsb\tr3, r3, r1\n",
      "\tldr\tr0, .L3+8\n",
      "\tmov\tr1, r2\n",
      "\tmov\tr2, r3\n",
      "\tbl\tprintf\n",
      "\tmov\tr3, #0\n",
      "\tmov\tr0, r3\n",
      "\tsub\tsp, fp, #4\n",
      "\tldmfd\tsp!, {fp, pc}\n",
      ".L4:\n",
      "\t.align\t2\n",
      ".L3:\n",
      "\t.word\t.LC0\n",
      "\t.word\t1717986919\n",
      "\t.word\t.LC1\n",
      "\t.size\tmain, .-main\n",
      "\t.ident\t\"GCC: (Ubuntu/Linaro 4.7.3-12ubuntu1) 4.7.3\"\n",
      "\t.section\t.note.GNU-stack,\"\",%progbits\n"
     ]
    }
   ],
   "source": [
    "%%sh\n",
    "arm-linux-gnueabi-gcc -S -static progDivision10.c\n",
    "cat progDivision10.s"
   ]
  },
  {
   "cell_type": "markdown",
   "metadata": {},
   "source": [
    "N.B. : cela marche parce qu'il y a des constantes ! (rappel, même i/i n'est pas optimisé)"
   ]
  },
  {
   "cell_type": "markdown",
   "metadata": {},
   "source": [
    "## Les conditionnelles ?"
   ]
  },
  {
   "cell_type": "code",
   "execution_count": 15,
   "metadata": {},
   "outputs": [
    {
     "name": "stdout",
     "output_type": "stream",
     "text": [
      "Overwriting progConditionnelle.c\n"
     ]
    }
   ],
   "source": [
    "%%writefile progConditionnelle.c\n",
    "#include <stdio.h>\n",
    "int main () {\n",
    "int i=4;\n",
    "if (i&1) {\n",
    "  printf(\"4 est impair\\n\");}\n",
    "else {\n",
    "  printf(\"4 est pair\\n\");}\n",
    "return 0;}"
   ]
  },
  {
   "cell_type": "code",
   "execution_count": 16,
   "metadata": {
    "scrolled": true
   },
   "outputs": [
    {
     "name": "stdout",
     "output_type": "stream",
     "text": [
      "\t.arch armv5t\n",
      "\t.fpu softvfp\n",
      "\t.eabi_attribute 20, 1\n",
      "\t.eabi_attribute 21, 1\n",
      "\t.eabi_attribute 23, 3\n",
      "\t.eabi_attribute 24, 1\n",
      "\t.eabi_attribute 25, 1\n",
      "\t.eabi_attribute 26, 2\n",
      "\t.eabi_attribute 30, 6\n",
      "\t.eabi_attribute 34, 0\n",
      "\t.eabi_attribute 18, 4\n",
      "\t.file\t\"progConditionnelle.c\"\n",
      "\t.section\t.rodata\n",
      "\t.align\t2\n",
      ".LC0:\n",
      "\t.ascii\t\"4 est impair\\000\"\n",
      "\t.align\t2\n",
      ".LC1:\n",
      "\t.ascii\t\"4 est pair\\000\"\n",
      "\t.text\n",
      "\t.align\t2\n",
      "\t.global\tmain\n",
      "\t.type\tmain, %function\n",
      "main:\n",
      "\t@ args = 0, pretend = 0, frame = 8\n",
      "\t@ frame_needed = 1, uses_anonymous_args = 0\n",
      "\tstmfd\tsp!, {fp, lr}\n",
      "\tadd\tfp, sp, #4\n",
      "\tsub\tsp, sp, #8\n",
      "\tmov\tr3, #4\n",
      "\tstr\tr3, [fp, #-8]\n",
      "\tldr\tr3, [fp, #-8]\n",
      "\tand\tr3, r3, #1\n",
      "\tcmp\tr3, #0\n",
      "\tbeq\t.L2\n",
      "\tldr\tr0, .L5\n",
      "\tbl\tputs\n",
      "\tb\t.L3\n",
      ".L2:\n",
      "\tldr\tr0, .L5+4\n",
      "\tbl\tputs\n",
      ".L3:\n",
      "\tmov\tr3, #0\n",
      "\tmov\tr0, r3\n",
      "\tsub\tsp, fp, #4\n",
      "\tldmfd\tsp!, {fp, pc}\n",
      ".L6:\n",
      "\t.align\t2\n",
      ".L5:\n",
      "\t.word\t.LC0\n",
      "\t.word\t.LC1\n",
      "\t.size\tmain, .-main\n",
      "\t.ident\t\"GCC: (Ubuntu/Linaro 4.7.3-12ubuntu1) 4.7.3\"\n",
      "\t.section\t.note.GNU-stack,\"\",%progbits\n"
     ]
    }
   ],
   "source": [
    "%%sh\n",
    "arm-linux-gnueabi-gcc -S -static progConditionnelle.c\n",
    "cat progConditionnelle.s"
   ]
  },
  {
   "cell_type": "markdown",
   "metadata": {},
   "source": [
    "version optimisée"
   ]
  },
  {
   "cell_type": "code",
   "execution_count": 17,
   "metadata": {
    "scrolled": true
   },
   "outputs": [
    {
     "name": "stdout",
     "output_type": "stream",
     "text": [
      "\t.arch armv5t\n",
      "\t.fpu softvfp\n",
      "\t.eabi_attribute 20, 1\n",
      "\t.eabi_attribute 21, 1\n",
      "\t.eabi_attribute 23, 3\n",
      "\t.eabi_attribute 24, 1\n",
      "\t.eabi_attribute 25, 1\n",
      "\t.eabi_attribute 26, 2\n",
      "\t.eabi_attribute 30, 1\n",
      "\t.eabi_attribute 34, 0\n",
      "\t.eabi_attribute 18, 4\n",
      "\t.file\t\"progConditionnelle.c\"\n",
      "\t.text\n",
      "\t.align\t2\n",
      "\t.global\tmain\n",
      "\t.type\tmain, %function\n",
      "main:\n",
      "\t@ args = 0, pretend = 0, frame = 0\n",
      "\t@ frame_needed = 0, uses_anonymous_args = 0\n",
      "\tstmfd\tsp!, {r3, lr}\n",
      "\tldr\tr0, .L2\n",
      "\tbl\tputs\n",
      "\tmov\tr0, #0\n",
      "\tldmfd\tsp!, {r3, pc}\n",
      ".L3:\n",
      "\t.align\t2\n",
      ".L2:\n",
      "\t.word\t.LC0\n",
      "\t.size\tmain, .-main\n",
      "\t.section\t.rodata.str1.4,\"aMS\",%progbits,1\n",
      "\t.align\t2\n",
      ".LC0:\n",
      "\t.ascii\t\"4 est pair\\000\"\n",
      "\t.ident\t\"GCC: (Ubuntu/Linaro 4.7.3-12ubuntu1) 4.7.3\"\n",
      "\t.section\t.note.GNU-stack,\"\",%progbits\n"
     ]
    }
   ],
   "source": [
    "%%sh\n",
    "arm-linux-gnueabi-gcc -O -S -static progConditionnelle.c\n",
    "cat progConditionnelle.s"
   ]
  },
  {
   "cell_type": "markdown",
   "metadata": {},
   "source": [
    "## Les boucles ?"
   ]
  },
  {
   "cell_type": "code",
   "execution_count": 24,
   "metadata": {},
   "outputs": [
    {
     "name": "stdout",
     "output_type": "stream",
     "text": [
      "Overwriting progBoucle.c\n"
     ]
    }
   ],
   "source": [
    "%%writefile progBoucle.c\n",
    "#include <stdio.h>\n",
    "int main () {\n",
    "int i, s=0, a, r;\n",
    "for(i=0;i<100;i++) {\n",
    "  r=scanf(\"%d\",&a);\n",
    "  s=s+a;}\n",
    "printf(\"Somme : %d\\n\",s);\n",
    "return 0;}"
   ]
  },
  {
   "cell_type": "code",
   "execution_count": 20,
   "metadata": {
    "scrolled": true
   },
   "outputs": [
    {
     "name": "stdout",
     "output_type": "stream",
     "text": [
      "\t.arch armv5t\n",
      "\t.fpu softvfp\n",
      "\t.eabi_attribute 20, 1\n",
      "\t.eabi_attribute 21, 1\n",
      "\t.eabi_attribute 23, 3\n",
      "\t.eabi_attribute 24, 1\n",
      "\t.eabi_attribute 25, 1\n",
      "\t.eabi_attribute 26, 2\n",
      "\t.eabi_attribute 30, 6\n",
      "\t.eabi_attribute 34, 0\n",
      "\t.eabi_attribute 18, 4\n",
      "\t.file\t\"progBoucle.c\"\n",
      "\t.section\t.rodata\n",
      "\t.align\t2\n",
      ".LC0:\n",
      "\t.ascii\t\"%d\\000\"\n",
      "\t.align\t2\n",
      ".LC1:\n",
      "\t.ascii\t\"Somme : %d\\012\\000\"\n",
      "\t.text\n",
      "\t.align\t2\n",
      "\t.global\tmain\n",
      "\t.type\tmain, %function\n",
      "main:\n",
      "\t@ args = 0, pretend = 0, frame = 16\n",
      "\t@ frame_needed = 1, uses_anonymous_args = 0\n",
      "\tstmfd\tsp!, {fp, lr}\n",
      "\tadd\tfp, sp, #4\n",
      "\tsub\tsp, sp, #16\n",
      "\tmov\tr3, #0\n",
      "\tstr\tr3, [fp, #-12]\n",
      "\tmov\tr3, #0\n",
      "\tstr\tr3, [fp, #-16]\n",
      "\tb\t.L2\n",
      ".L3:\n",
      "\tsub\tr3, fp, #20\n",
      "\tldr\tr0, .L5\n",
      "\tmov\tr1, r3\n",
      "\tbl\t__isoc99_scanf\n",
      "\tstr\tr0, [fp, #-8]\n",
      "\tldr\tr3, [fp, #-20]\n",
      "\tldr\tr2, [fp, #-12]\n",
      "\tadd\tr3, r2, r3\n",
      "\tstr\tr3, [fp, #-12]\n",
      "\tldr\tr3, [fp, #-16]\n",
      "\tadd\tr3, r3, #1\n",
      "\tstr\tr3, [fp, #-16]\n",
      ".L2:\n",
      "\tldr\tr3, [fp, #-16]\n",
      "\tcmp\tr3, #9\n",
      "\tble\t.L3\n",
      "\tldr\tr0, .L5+4\n",
      "\tldr\tr1, [fp, #-12]\n",
      "\tbl\tprintf\n",
      "\tmov\tr3, #0\n",
      "\tmov\tr0, r3\n",
      "\tsub\tsp, fp, #4\n",
      "\tldmfd\tsp!, {fp, pc}\n",
      ".L6:\n",
      "\t.align\t2\n",
      ".L5:\n",
      "\t.word\t.LC0\n",
      "\t.word\t.LC1\n",
      "\t.size\tmain, .-main\n",
      "\t.ident\t\"GCC: (Ubuntu/Linaro 4.7.3-12ubuntu1) 4.7.3\"\n",
      "\t.section\t.note.GNU-stack,\"\",%progbits\n"
     ]
    }
   ],
   "source": [
    "%%sh\n",
    "arm-linux-gnueabi-gcc -S -static progBoucle.c\n",
    "cat progBoucle.s"
   ]
  },
  {
   "cell_type": "markdown",
   "metadata": {},
   "source": [
    "en demandant à gcc d'optimiser :"
   ]
  },
  {
   "cell_type": "code",
   "execution_count": 21,
   "metadata": {
    "scrolled": true
   },
   "outputs": [
    {
     "name": "stdout",
     "output_type": "stream",
     "text": [
      "\t.arch armv5t\n",
      "\t.fpu softvfp\n",
      "\t.eabi_attribute 20, 1\n",
      "\t.eabi_attribute 21, 1\n",
      "\t.eabi_attribute 23, 3\n",
      "\t.eabi_attribute 24, 1\n",
      "\t.eabi_attribute 25, 1\n",
      "\t.eabi_attribute 26, 2\n",
      "\t.eabi_attribute 30, 2\n",
      "\t.eabi_attribute 34, 0\n",
      "\t.eabi_attribute 18, 4\n",
      "\t.file\t\"progBoucle.c\"\n",
      "\t.section\t.text.startup,\"ax\",%progbits\n",
      "\t.align\t2\n",
      "\t.global\tmain\n",
      "\t.type\tmain, %function\n",
      "main:\n",
      "\t@ args = 0, pretend = 0, frame = 8\n",
      "\t@ frame_needed = 0, uses_anonymous_args = 0\n",
      "\tstmfd\tsp!, {r4, r5, lr}\n",
      "\tmov\tr4, #10\n",
      "\tsub\tsp, sp, #12\n",
      "\tmov\tr5, #0\n",
      ".L2:\n",
      "\tldr\tr0, .L5\n",
      "\tadd\tr1, sp, #4\n",
      "\tbl\t__isoc99_scanf\n",
      "\tldr\tr3, [sp, #4]\n",
      "\tsubs\tr4, r4, #1\n",
      "\tadd\tr5, r5, r3\n",
      "\tbne\t.L2\n",
      "\tmov\tr2, r5\n",
      "\tldr\tr1, .L5+4\n",
      "\tmov\tr0, #1\n",
      "\tbl\t__printf_chk\n",
      "\tmov\tr0, r4\n",
      "\tadd\tsp, sp, #12\n",
      "\tldmfd\tsp!, {r4, r5, pc}\n",
      ".L6:\n",
      "\t.align\t2\n",
      ".L5:\n",
      "\t.word\t.LC0\n",
      "\t.word\t.LC1\n",
      "\t.size\tmain, .-main\n",
      "\t.section\t.rodata.str1.4,\"aMS\",%progbits,1\n",
      "\t.align\t2\n",
      ".LC0:\n",
      "\t.ascii\t\"%d\\000\"\n",
      "\t.space\t1\n",
      ".LC1:\n",
      "\t.ascii\t\"Somme : %d\\012\\000\"\n",
      "\t.ident\t\"GCC: (Ubuntu/Linaro 4.7.3-12ubuntu1) 4.7.3\"\n",
      "\t.section\t.note.GNU-stack,\"\",%progbits\n"
     ]
    }
   ],
   "source": [
    "%%sh\n",
    "arm-linux-gnueabi-gcc -O2 -S -static progBoucle.c\n",
    "cat progBoucle.s"
   ]
  },
  {
   "cell_type": "markdown",
   "metadata": {},
   "source": [
    "et avec clang ?"
   ]
  },
  {
   "cell_type": "code",
   "execution_count": 22,
   "metadata": {
    "scrolled": true
   },
   "outputs": [
    {
     "name": "stdout",
     "output_type": "stream",
     "text": [
      "\t.file\t\"progBoucle.c\"\n",
      "\t.text\n",
      "\t.globl\tmain\n",
      "\t.align\t16, 0x90\n",
      "\t.type\tmain,@function\n",
      "main:                                   # @main\n",
      "\t.cfi_startproc\n",
      "# BB#0:\n",
      "\tpushq\t%rbp\n",
      ".Ltmp2:\n",
      "\t.cfi_def_cfa_offset 16\n",
      ".Ltmp3:\n",
      "\t.cfi_offset %rbp, -16\n",
      "\tmovq\t%rsp, %rbp\n",
      ".Ltmp4:\n",
      "\t.cfi_def_cfa_register %rbp\n",
      "\tsubq\t$32, %rsp\n",
      "\tmovl\t$0, -4(%rbp)\n",
      "\tmovl\t$0, -12(%rbp)\n",
      "\tmovl\t$0, -8(%rbp)\n",
      ".LBB0_1:                                # =>This Inner Loop Header: Depth=1\n",
      "\tcmpl\t$10, -8(%rbp)\n",
      "\tjge\t.LBB0_4\n",
      "# BB#2:                                 #   in Loop: Header=BB0_1 Depth=1\n",
      "\tleaq\t.L.str, %rdi\n",
      "\tleaq\t-16(%rbp), %rsi\n",
      "\tmovb\t$0, %al\n",
      "\tcallq\t__isoc99_scanf\n",
      "\tmovl\t%eax, -20(%rbp)\n",
      "\tmovl\t-12(%rbp), %eax\n",
      "\taddl\t-16(%rbp), %eax\n",
      "\tmovl\t%eax, -12(%rbp)\n",
      "# BB#3:                                 #   in Loop: Header=BB0_1 Depth=1\n",
      "\tmovl\t-8(%rbp), %eax\n",
      "\taddl\t$1, %eax\n",
      "\tmovl\t%eax, -8(%rbp)\n",
      "\tjmp\t.LBB0_1\n",
      ".LBB0_4:\n",
      "\tleaq\t.L.str1, %rdi\n",
      "\tmovl\t-12(%rbp), %esi\n",
      "\tmovb\t$0, %al\n",
      "\tcallq\tprintf\n",
      "\tmovl\t$0, %esi\n",
      "\tmovl\t%eax, -24(%rbp)         # 4-byte Spill\n",
      "\tmovl\t%esi, %eax\n",
      "\taddq\t$32, %rsp\n",
      "\tpopq\t%rbp\n",
      "\tret\n",
      ".Ltmp5:\n",
      "\t.size\tmain, .Ltmp5-main\n",
      "\t.cfi_endproc\n",
      "\n",
      "\t.type\t.L.str,@object          # @.str\n",
      "\t.section\t.rodata.str1.1,\"aMS\",@progbits,1\n",
      ".L.str:\n",
      "\t.asciz\t\"%d\"\n",
      "\t.size\t.L.str, 3\n",
      "\n",
      "\t.type\t.L.str1,@object         # @.str1\n",
      ".L.str1:\n",
      "\t.asciz\t\"Somme : %d\\n\"\n",
      "\t.size\t.L.str1, 12\n",
      "\n",
      "\n",
      "\t.ident\t\"Ubuntu clang version 3.4-1ubuntu3 (tags/RELEASE_34/final) (based on LLVM 3.4)\"\n",
      "\t.section\t\".note.GNU-stack\",\"\",@progbits\n"
     ]
    }
   ],
   "source": [
    "%%sh\n",
    "clang -S progBoucle.c\n",
    "cat progBoucle.s"
   ]
  },
  {
   "cell_type": "code",
   "execution_count": 25,
   "metadata": {
    "scrolled": true
   },
   "outputs": [
    {
     "name": "stdout",
     "output_type": "stream",
     "text": [
      "\t.file\t\"progBoucle.c\"\n",
      "\t.text\n",
      "\t.globl\tmain\n",
      "\t.align\t16, 0x90\n",
      "\t.type\tmain,@function\n",
      "main:                                   # @main\n",
      "\t.cfi_startproc\n",
      "# BB#0:\n",
      "\tpushq\t%rbp\n",
      ".Ltmp4:\n",
      "\t.cfi_def_cfa_offset 16\n",
      "\tpushq\t%r14\n",
      ".Ltmp5:\n",
      "\t.cfi_def_cfa_offset 24\n",
      "\tpushq\t%rbx\n",
      ".Ltmp6:\n",
      "\t.cfi_def_cfa_offset 32\n",
      "\tsubq\t$16, %rsp\n",
      ".Ltmp7:\n",
      "\t.cfi_def_cfa_offset 48\n",
      ".Ltmp8:\n",
      "\t.cfi_offset %rbx, -32\n",
      ".Ltmp9:\n",
      "\t.cfi_offset %r14, -24\n",
      ".Ltmp10:\n",
      "\t.cfi_offset %rbp, -16\n",
      "\tmovl\t$100, %ebp\n",
      "\tleaq\t12(%rsp), %r14\n",
      "\txorl\t%ebx, %ebx\n",
      "\t.align\t16, 0x90\n",
      ".LBB0_1:                                # =>This Inner Loop Header: Depth=1\n",
      "\tmovl\t$.L.str, %edi\n",
      "\txorl\t%eax, %eax\n",
      "\tmovq\t%r14, %rsi\n",
      "\tcallq\t__isoc99_scanf\n",
      "\taddl\t12(%rsp), %ebx\n",
      "\tdecl\t%ebp\n",
      "\tjne\t.LBB0_1\n",
      "# BB#2:\n",
      "\tmovl\t$.L.str1, %edi\n",
      "\txorl\t%eax, %eax\n",
      "\tmovl\t%ebx, %esi\n",
      "\tcallq\tprintf\n",
      "\txorl\t%eax, %eax\n",
      "\taddq\t$16, %rsp\n",
      "\tpopq\t%rbx\n",
      "\tpopq\t%r14\n",
      "\tpopq\t%rbp\n",
      "\tret\n",
      ".Ltmp11:\n",
      "\t.size\tmain, .Ltmp11-main\n",
      "\t.cfi_endproc\n",
      "\n",
      "\t.type\t.L.str,@object          # @.str\n",
      "\t.section\t.rodata.str1.1,\"aMS\",@progbits,1\n",
      ".L.str:\n",
      "\t.asciz\t\"%d\"\n",
      "\t.size\t.L.str, 3\n",
      "\n",
      "\t.type\t.L.str1,@object         # @.str1\n",
      ".L.str1:\n",
      "\t.asciz\t\"Somme : %d\\n\"\n",
      "\t.size\t.L.str1, 12\n",
      "\n",
      "\n",
      "\t.ident\t\"Ubuntu clang version 3.4-1ubuntu3 (tags/RELEASE_34/final) (based on LLVM 3.4)\"\n",
      "\t.section\t\".note.GNU-stack\",\"\",@progbits\n"
     ]
    }
   ],
   "source": [
    "%%sh\n",
    "clang -O -S progBoucle.c\n",
    "cat progBoucle.s"
   ]
  },
  {
   "cell_type": "markdown",
   "metadata": {},
   "source": [
    "## Les fonctions ?"
   ]
  },
  {
   "cell_type": "code",
   "execution_count": 26,
   "metadata": {},
   "outputs": [
    {
     "name": "stdout",
     "output_type": "stream",
     "text": [
      "Overwriting progFonction.c\n"
     ]
    }
   ],
   "source": [
    "%%writefile progFonction.c\n",
    "#include <stdio.h>\n",
    "\n",
    "int somme(int a,int b) {\n",
    "return a+b;}\n",
    "\n",
    "int main () {\n",
    "int i, j;\n",
    "scanf(\"%d\",&i);\n",
    "scanf(\"%d\",&j);\n",
    "printf(\"4+5=%d\\n\",somme(i,j));\n",
    "return;}"
   ]
  },
  {
   "cell_type": "code",
   "execution_count": 27,
   "metadata": {
    "scrolled": true
   },
   "outputs": [
    {
     "name": "stdout",
     "output_type": "stream",
     "text": [
      "\t.arch armv5t\n",
      "\t.fpu softvfp\n",
      "\t.eabi_attribute 20, 1\n",
      "\t.eabi_attribute 21, 1\n",
      "\t.eabi_attribute 23, 3\n",
      "\t.eabi_attribute 24, 1\n",
      "\t.eabi_attribute 25, 1\n",
      "\t.eabi_attribute 26, 2\n",
      "\t.eabi_attribute 30, 6\n",
      "\t.eabi_attribute 34, 0\n",
      "\t.eabi_attribute 18, 4\n",
      "\t.file\t\"progFonction.c\"\n",
      "\t.text\n",
      "\t.align\t2\n",
      "\t.global\tsomme\n",
      "\t.type\tsomme, %function\n",
      "somme:\n",
      "\t@ args = 0, pretend = 0, frame = 8\n",
      "\t@ frame_needed = 1, uses_anonymous_args = 0\n",
      "\t@ link register save eliminated.\n",
      "\tstr\tfp, [sp, #-4]!\n",
      "\tadd\tfp, sp, #0\n",
      "\tsub\tsp, sp, #12\n",
      "\tstr\tr0, [fp, #-8]\n",
      "\tstr\tr1, [fp, #-12]\n",
      "\tldr\tr2, [fp, #-8]\n",
      "\tldr\tr3, [fp, #-12]\n",
      "\tadd\tr3, r2, r3\n",
      "\tmov\tr0, r3\n",
      "\tadd\tsp, fp, #0\n",
      "\tldmfd\tsp!, {fp}\n",
      "\tbx\tlr\n",
      "\t.size\tsomme, .-somme\n",
      "\t.section\t.rodata\n",
      "\t.align\t2\n",
      ".LC0:\n",
      "\t.ascii\t\"%d\\000\"\n",
      "\t.align\t2\n",
      ".LC1:\n",
      "\t.ascii\t\"4+5=%d\\012\\000\"\n",
      "\t.text\n",
      "\t.align\t2\n",
      "\t.global\tmain\n",
      "\t.type\tmain, %function\n",
      "main:\n",
      "\t@ args = 0, pretend = 0, frame = 8\n",
      "\t@ frame_needed = 1, uses_anonymous_args = 0\n",
      "\tstmfd\tsp!, {fp, lr}\n",
      "\tadd\tfp, sp, #4\n",
      "\tsub\tsp, sp, #8\n",
      "\tsub\tr3, fp, #12\n",
      "\tldr\tr0, .L5\n",
      "\tmov\tr1, r3\n",
      "\tbl\t__isoc99_scanf\n",
      "\tsub\tr3, fp, #8\n",
      "\tldr\tr0, .L5\n",
      "\tmov\tr1, r3\n",
      "\tbl\t__isoc99_scanf\n",
      "\tldr\tr2, [fp, #-12]\n",
      "\tldr\tr3, [fp, #-8]\n",
      "\tmov\tr0, r2\n",
      "\tmov\tr1, r3\n",
      "\tbl\tsomme\n",
      "\tmov\tr3, r0\n",
      "\tldr\tr0, .L5+4\n",
      "\tmov\tr1, r3\n",
      "\tbl\tprintf\n",
      "\tmov\tr0, r3\n",
      "\tsub\tsp, fp, #4\n",
      "\tldmfd\tsp!, {fp, pc}\n",
      ".L6:\n",
      "\t.align\t2\n",
      ".L5:\n",
      "\t.word\t.LC0\n",
      "\t.word\t.LC1\n",
      "\t.size\tmain, .-main\n",
      "\t.ident\t\"GCC: (Ubuntu/Linaro 4.7.3-12ubuntu1) 4.7.3\"\n",
      "\t.section\t.note.GNU-stack,\"\",%progbits\n"
     ]
    }
   ],
   "source": [
    "%%sh\n",
    "arm-linux-gnueabi-gcc -S -static progFonction.c\n",
    "cat progFonction.s"
   ]
  },
  {
   "cell_type": "markdown",
   "metadata": {},
   "source": [
    "en demandant d'optimiser"
   ]
  },
  {
   "cell_type": "code",
   "execution_count": 28,
   "metadata": {
    "scrolled": true
   },
   "outputs": [
    {
     "name": "stdout",
     "output_type": "stream",
     "text": [
      "\t.arch armv5t\n",
      "\t.fpu softvfp\n",
      "\t.eabi_attribute 20, 1\n",
      "\t.eabi_attribute 21, 1\n",
      "\t.eabi_attribute 23, 3\n",
      "\t.eabi_attribute 24, 1\n",
      "\t.eabi_attribute 25, 1\n",
      "\t.eabi_attribute 26, 2\n",
      "\t.eabi_attribute 30, 2\n",
      "\t.eabi_attribute 34, 0\n",
      "\t.eabi_attribute 18, 4\n",
      "\t.file\t\"progFonction.c\"\n",
      "\t.text\n",
      "\t.align\t2\n",
      "\t.global\tsomme\n",
      "\t.type\tsomme, %function\n",
      "somme:\n",
      "\t@ args = 0, pretend = 0, frame = 0\n",
      "\t@ frame_needed = 0, uses_anonymous_args = 0\n",
      "\t@ link register save eliminated.\n",
      "\tadd\tr0, r0, r1\n",
      "\tbx\tlr\n",
      "\t.size\tsomme, .-somme\n",
      "\t.section\t.text.startup,\"ax\",%progbits\n",
      "\t.align\t2\n",
      "\t.global\tmain\n",
      "\t.type\tmain, %function\n",
      "main:\n",
      "\t@ args = 0, pretend = 0, frame = 8\n",
      "\t@ frame_needed = 0, uses_anonymous_args = 0\n",
      "\tstmfd\tsp!, {r4, lr}\n",
      "\tldr\tr4, .L3\n",
      "\tsub\tsp, sp, #8\n",
      "\tmov\tr1, sp\n",
      "\tmov\tr0, r4\n",
      "\tbl\t__isoc99_scanf\n",
      "\tadd\tr1, sp, #4\n",
      "\tmov\tr0, r4\n",
      "\tbl\t__isoc99_scanf\n",
      "\tldmia\tsp, {r2, r3}\n",
      "\tldr\tr1, .L3+4\n",
      "\tadd\tr2, r2, r3\n",
      "\tmov\tr0, #1\n",
      "\tbl\t__printf_chk\n",
      "\tadd\tsp, sp, #8\n",
      "\tldmfd\tsp!, {r4, pc}\n",
      ".L4:\n",
      "\t.align\t2\n",
      ".L3:\n",
      "\t.word\t.LC0\n",
      "\t.word\t.LC1\n",
      "\t.size\tmain, .-main\n",
      "\t.section\t.rodata.str1.4,\"aMS\",%progbits,1\n",
      "\t.align\t2\n",
      ".LC0:\n",
      "\t.ascii\t\"%d\\000\"\n",
      "\t.space\t1\n",
      ".LC1:\n",
      "\t.ascii\t\"4+5=%d\\012\\000\"\n",
      "\t.ident\t\"GCC: (Ubuntu/Linaro 4.7.3-12ubuntu1) 4.7.3\"\n",
      "\t.section\t.note.GNU-stack,\"\",%progbits\n"
     ]
    },
    {
     "name": "stderr",
     "output_type": "stream",
     "text": [
      "progFonction.c: Dans la fonction ‘main’:\n",
      "progFonction.c:8:6: attention : ignoring return value of ‘scanf’, declared with attribute warn_unused_result [-Wunused-result]\n",
      "progFonction.c:9:6: attention : ignoring return value of ‘scanf’, declared with attribute warn_unused_result [-Wunused-result]\n"
     ]
    }
   ],
   "source": [
    "%%sh\n",
    "arm-linux-gnueabi-gcc -O2 -S -static progFonction.c\n",
    "cat progFonction.s"
   ]
  }
 ],
 "metadata": {
  "kernelspec": {
   "display_name": "Python 3",
   "language": "python",
   "name": "python3"
  },
  "language_info": {
   "codemirror_mode": {
    "name": "ipython",
    "version": 3
   },
   "file_extension": ".py",
   "mimetype": "text/x-python",
   "name": "python",
   "nbconvert_exporter": "python",
   "pygments_lexer": "ipython3",
   "version": "3.4.3"
  }
 },
 "nbformat": 4,
 "nbformat_minor": 2
}
