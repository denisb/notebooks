{
 "cells": [
  {
   "cell_type": "markdown",
   "metadata": {},
   "source": [
    "# Test : Pipe-line vs branchement\n",
    "\n",
    "Pour en savoir un peu plus sur le pipe-line : https://fr.wikipedia.org/wiki/Pipeline_(architecture_des_processeurs)\n",
    "\n",
    "\n",
    "Pour voir les effets des conflits entre le pipe-line et un/des branchements, suivons le calcul de nombreuses suites de Syracuse (on cherche les voyages les plus longs).\n",
    "\n",
    "## Plus long voyage (syracuse), première version"
   ]
  },
  {
   "cell_type": "code",
   "execution_count": 1,
   "metadata": {},
   "outputs": [
    {
     "name": "stdout",
     "output_type": "stream",
     "text": [
      "Overwriting syracuse.c\n"
     ]
    }
   ],
   "source": [
    "%%writefile syracuse.c\n",
    "#include <stdio.h>\n",
    "#include <stdlib.h>\n",
    "\n",
    "int syracuse(int a) {\n",
    "int i;\n",
    "for(i=0;a>1;i++) {\n",
    "  if (a&1) {a=3*a+1;}\n",
    "  else {a=a/2;}}\n",
    "return i;}\n",
    "\n",
    "int main (int argc, char * argv[]) {\n",
    "int i,m,n,im;\n",
    "if (argc==1)    {i=20;}\n",
    "else {i=atoi(argv[1]);}\n",
    "for(m=0;i>0;i--) {\n",
    "  n=syracuse(i);\n",
    "  if (n>m) {m=n;im=i;}}\n",
    "printf(\"i=%d, m=%d\\n\",im,m);\n",
    "return 0;}"
   ]
  },
  {
   "cell_type": "code",
   "execution_count": 2,
   "metadata": {},
   "outputs": [
    {
     "name": "stdout",
     "output_type": "stream",
     "text": [
      "\t.arch armv5t\n",
      "\t.fpu softvfp\n",
      "\t.eabi_attribute 20, 1\n",
      "\t.eabi_attribute 21, 1\n",
      "\t.eabi_attribute 23, 3\n",
      "\t.eabi_attribute 24, 1\n",
      "\t.eabi_attribute 25, 1\n",
      "\t.eabi_attribute 26, 2\n",
      "\t.eabi_attribute 30, 6\n",
      "\t.eabi_attribute 34, 0\n",
      "\t.eabi_attribute 18, 4\n",
      "\t.file\t\"syracuse.c\"\n",
      "\t.text\n",
      "\t.align\t2\n",
      "\t.global\tsyracuse\n",
      "\t.type\tsyracuse, %function\n",
      "syracuse:\n",
      "\t@ args = 0, pretend = 0, frame = 16\n",
      "\t@ frame_needed = 1, uses_anonymous_args = 0\n",
      "\t@ link register save eliminated.\n",
      "\tstr\tfp, [sp, #-4]!\n",
      "\tadd\tfp, sp, #0\n",
      "\tsub\tsp, sp, #20\n",
      "\tstr\tr0, [fp, #-16]\n",
      "\tmov\tr3, #0\n",
      "\tstr\tr3, [fp, #-8]\n",
      "\tb\t.L2\n",
      ".L5:\n",
      "\tldr\tr3, [fp, #-16]\n",
      "\tand\tr3, r3, #1\n",
      "\tcmp\tr3, #0\n",
      "\tbeq\t.L3\n",
      "\tldr\tr2, [fp, #-16]\n",
      "\tmov\tr3, r2\n",
      "\tmov\tr3, r3, asl #1\n",
      "\tadd\tr3, r3, r2\n",
      "\tadd\tr3, r3, #1\n",
      "\tstr\tr3, [fp, #-16]\n",
      "\tb\t.L4\n",
      ".L3:\n",
      "\tldr\tr3, [fp, #-16]\n",
      "\tmov\tr2, r3, lsr #31\n",
      "\tadd\tr3, r2, r3\n",
      "\tmov\tr3, r3, asr #1\n",
      "\tstr\tr3, [fp, #-16]\n",
      ".L4:\n",
      "\tldr\tr3, [fp, #-8]\n",
      "\tadd\tr3, r3, #1\n",
      "\tstr\tr3, [fp, #-8]\n",
      ".L2:\n",
      "\tldr\tr3, [fp, #-16]\n",
      "\tcmp\tr3, #1\n",
      "\tbgt\t.L5\n",
      "\tldr\tr3, [fp, #-8]\n",
      "\tmov\tr0, r3\n",
      "\tadd\tsp, fp, #0\n",
      "\tldmfd\tsp!, {fp}\n",
      "\tbx\tlr\n",
      "\t.size\tsyracuse, .-syracuse\n",
      "\t.section\t.rodata\n",
      "\t.align\t2\n",
      ".LC0:\n",
      "\t.ascii\t\"i=%d, m=%d\\012\\000\"\n",
      "\t.text\n",
      "\t.align\t2\n",
      "\t.global\tmain\n",
      "\t.type\tmain, %function\n",
      "main:\n",
      "\t@ args = 0, pretend = 0, frame = 24\n",
      "\t@ frame_needed = 1, uses_anonymous_args = 0\n",
      "\tstmfd\tsp!, {fp, lr}\n",
      "\tadd\tfp, sp, #4\n",
      "\tsub\tsp, sp, #24\n",
      "\tstr\tr0, [fp, #-24]\n",
      "\tstr\tr1, [fp, #-28]\n",
      "\tldr\tr3, [fp, #-24]\n",
      "\tcmp\tr3, #1\n",
      "\tbne\t.L8\n",
      "\tmov\tr3, #20\n",
      "\tstr\tr3, [fp, #-20]\n",
      "\tb\t.L9\n",
      ".L8:\n",
      "\tldr\tr3, [fp, #-28]\n",
      "\tadd\tr3, r3, #4\n",
      "\tldr\tr3, [r3, #0]\n",
      "\tmov\tr0, r3\n",
      "\tbl\tatoi\n",
      "\tstr\tr0, [fp, #-20]\n",
      ".L9:\n",
      "\tmov\tr3, #0\n",
      "\tstr\tr3, [fp, #-16]\n",
      "\tb\t.L10\n",
      ".L12:\n",
      "\tldr\tr0, [fp, #-20]\n",
      "\tbl\tsyracuse\n",
      "\tstr\tr0, [fp, #-8]\n",
      "\tldr\tr2, [fp, #-8]\n",
      "\tldr\tr3, [fp, #-16]\n",
      "\tcmp\tr2, r3\n",
      "\tble\t.L11\n",
      "\tldr\tr3, [fp, #-8]\n",
      "\tstr\tr3, [fp, #-16]\n",
      "\tldr\tr3, [fp, #-20]\n",
      "\tstr\tr3, [fp, #-12]\n",
      ".L11:\n",
      "\tldr\tr3, [fp, #-20]\n",
      "\tsub\tr3, r3, #1\n",
      "\tstr\tr3, [fp, #-20]\n",
      ".L10:\n",
      "\tldr\tr3, [fp, #-20]\n",
      "\tcmp\tr3, #0\n",
      "\tbgt\t.L12\n",
      "\tldr\tr0, .L14\n",
      "\tldr\tr1, [fp, #-12]\n",
      "\tldr\tr2, [fp, #-16]\n",
      "\tbl\tprintf\n",
      "\tmov\tr3, #0\n",
      "\tmov\tr0, r3\n",
      "\tsub\tsp, fp, #4\n",
      "\tldmfd\tsp!, {fp, pc}\n",
      ".L15:\n",
      "\t.align\t2\n",
      ".L14:\n",
      "\t.word\t.LC0\n",
      "\t.size\tmain, .-main\n",
      "\t.ident\t\"GCC: (Ubuntu/Linaro 4.7.3-12ubuntu1) 4.7.3\"\n",
      "\t.section\t.note.GNU-stack,\"\",%progbits\n"
     ]
    }
   ],
   "source": [
    "%%sh\n",
    "arm-linux-gnueabi-gcc -S -static syracuse.c\n",
    "cat syracuse.s"
   ]
  },
  {
   "cell_type": "code",
   "execution_count": 3,
   "metadata": {},
   "outputs": [
    {
     "name": "stdout",
     "output_type": "stream",
     "text": [
      "i=19, m=20\n"
     ]
    }
   ],
   "source": [
    "%%sh\n",
    "arm-linux-gnueabi-gcc -static syracuse.c\n",
    "qemu-arm a.out"
   ]
  },
  {
   "cell_type": "code",
   "execution_count": 29,
   "metadata": {},
   "outputs": [
    {
     "name": "stdout",
     "output_type": "stream",
     "text": [
      "i=910107, m=475\n"
     ]
    },
    {
     "name": "stderr",
     "output_type": "stream",
     "text": [
      "0.87user 0.00system 0:00.89elapsed 98%CPU (0avgtext+0avgdata 4124maxresident)k\n",
      "0inputs+0outputs (0major+1113minor)pagefaults 0swaps\n"
     ]
    }
   ],
   "source": [
    "%%sh\n",
    "arm-linux-gnueabi-gcc -static -O syracuse.c\n",
    "time qemu-arm a.out 1000000"
   ]
  },
  {
   "cell_type": "markdown",
   "metadata": {},
   "source": [
    "## Version optimisée par le programmeur\n",
    "\n",
    "Le programmeur a juste observé qu'après un nombre impaire (*3+1) donne un nombre pair, donc autant faire le calcul de suite."
   ]
  },
  {
   "cell_type": "code",
   "execution_count": 12,
   "metadata": {},
   "outputs": [
    {
     "name": "stdout",
     "output_type": "stream",
     "text": [
      "Overwriting syracuseOptProg.c\n"
     ]
    }
   ],
   "source": [
    "%%writefile syracuseOptProg.c\n",
    "#include <stdio.h>\n",
    "#include <stdlib.h>\n",
    "\n",
    "int syracuse(int a) {\n",
    "int i;\n",
    "for(i=0;a>1;i++) {\n",
    "  if (a&1) {a=(3*a+1)/2;i++;}\n",
    "  else {a=a/2;}}\n",
    "return i;}\n",
    "\n",
    "int main () {\n",
    "int i=1000000,m,n,im;\n",
    "for(m=0;i>0;i--) {\n",
    "  n=syracuse(i);\n",
    "  if (n>m) {m=n;im=i;}}\n",
    "printf(\"i=%d, m=%d\\n\",im,m);\n",
    "return 0;}"
   ]
  },
  {
   "cell_type": "code",
   "execution_count": 36,
   "metadata": {},
   "outputs": [
    {
     "name": "stdout",
     "output_type": "stream",
     "text": [
      "i=910107, m=475\n"
     ]
    },
    {
     "name": "stderr",
     "output_type": "stream",
     "text": [
      "0.87user 0.00system 0:00.86elapsed 100%CPU (0avgtext+0avgdata 4112maxresident)k\n",
      "0inputs+0outputs (0major+1111minor)pagefaults 0swaps\n"
     ]
    }
   ],
   "source": [
    "%%sh\n",
    "arm-linux-gnueabi-gcc -static -O syracuseOptProg.c\n",
    "time qemu-arm a.out 1000000"
   ]
  },
  {
   "cell_type": "markdown",
   "metadata": {},
   "source": [
    "## Versions optimisées par le compilateur\n",
    "\n",
    "La première version :  \n",
    "remarquez que le compilateur a aussi évité les branchements ! (en utilisant des instructions conditionnelles)"
   ]
  },
  {
   "cell_type": "code",
   "execution_count": 16,
   "metadata": {
    "scrolled": true
   },
   "outputs": [
    {
     "name": "stdout",
     "output_type": "stream",
     "text": [
      "\t.arch armv5t\n",
      "\t.fpu softvfp\n",
      "\t.eabi_attribute 20, 1\n",
      "\t.eabi_attribute 21, 1\n",
      "\t.eabi_attribute 23, 3\n",
      "\t.eabi_attribute 24, 1\n",
      "\t.eabi_attribute 25, 1\n",
      "\t.eabi_attribute 26, 2\n",
      "\t.eabi_attribute 30, 1\n",
      "\t.eabi_attribute 34, 0\n",
      "\t.eabi_attribute 18, 4\n",
      "\t.file\t\"syracuse.c\"\n",
      "\t.text\n",
      "\t.align\t2\n",
      "\t.global\tsyracuse\n",
      "\t.type\tsyracuse, %function\n",
      "syracuse:\n",
      "\t@ args = 0, pretend = 0, frame = 0\n",
      "\t@ frame_needed = 0, uses_anonymous_args = 0\n",
      "\t@ link register save eliminated.\n",
      "\tmov\tr3, r0\n",
      "\tcmp\tr0, #1\n",
      "\tble\t.L6\n",
      "\tmov\tr0, #0\n",
      ".L5:\n",
      "\ttst\tr3, #1\n",
      "\taddne\tr3, r3, r3, asl #1\n",
      "\taddne\tr3, r3, #1\n",
      "\taddeq\tr3, r3, r3, lsr #31\n",
      "\tmoveq\tr3, r3, asr #1\n",
      "\tadd\tr0, r0, #1\n",
      "\tcmp\tr3, #1\n",
      "\tbgt\t.L5\n",
      "\tbx\tlr\n",
      ".L6:\n",
      "\tmov\tr0, #0\n",
      "\tbx\tlr\n",
      "\t.size\tsyracuse, .-syracuse\n",
      "\t.align\t2\n",
      "\t.global\tmain\n",
      "\t.type\tmain, %function\n",
      "main:\n",
      "\t@ args = 0, pretend = 0, frame = 0\n",
      "\t@ frame_needed = 0, uses_anonymous_args = 0\n",
      "\tstmfd\tsp!, {r4, r5, r6, lr}\n",
      "\tcmp\tr0, #1\n",
      "\tbne\t.L9\n",
      "\tmov\tr4, #20\n",
      ".L11:\n",
      "\tmov\tr5, #0\n",
      "\tb\t.L10\n",
      ".L9:\n",
      "\tldr\tr0, [r1, #4]\n",
      "\tmov\tr1, #0\n",
      "\tmov\tr2, #10\n",
      "\tbl\tstrtol\n",
      "\tsubs\tr4, r0, #0\n",
      "\tmovle\tr5, #0\n",
      "\tble\t.L12\n",
      "\tb\t.L11\n",
      ".L10:\n",
      "\tmov\tr0, r4\n",
      "\tbl\tsyracuse\n",
      "\tcmp\tr0, r5\n",
      "\tmovgt\tr6, r4\n",
      "\tmovgt\tr5, r0\n",
      "\tsub\tr4, r4, #1\n",
      "\tcmp\tr4, #0\n",
      "\tbgt\t.L10\n",
      ".L12:\n",
      "\tmov\tr0, #1\n",
      "\tldr\tr1, .L16\n",
      "\tmov\tr2, r6\n",
      "\tmov\tr3, r5\n",
      "\tbl\t__printf_chk\n",
      "\tmov\tr0, #0\n",
      "\tldmfd\tsp!, {r4, r5, r6, pc}\n",
      ".L17:\n",
      "\t.align\t2\n",
      ".L16:\n",
      "\t.word\t.LC0\n",
      "\t.size\tmain, .-main\n",
      "\t.section\t.rodata.str1.4,\"aMS\",%progbits,1\n",
      "\t.align\t2\n",
      ".LC0:\n",
      "\t.ascii\t\"i=%d, m=%d\\012\\000\"\n",
      "\t.ident\t\"GCC: (Ubuntu/Linaro 4.7.3-12ubuntu1) 4.7.3\"\n",
      "\t.section\t.note.GNU-stack,\"\",%progbits\n"
     ]
    }
   ],
   "source": [
    "%%sh\n",
    "arm-linux-gnueabi-gcc -O -S -static syracuse.c\n",
    "cat syracuse.s"
   ]
  },
  {
   "cell_type": "code",
   "execution_count": 6,
   "metadata": {},
   "outputs": [
    {
     "name": "stdout",
     "output_type": "stream",
     "text": [
      "i=910107, m=475\n"
     ]
    },
    {
     "name": "stderr",
     "output_type": "stream",
     "text": [
      "1.07user 0.01system 0:01.09elapsed 100%CPU (0avgtext+0avgdata 4120maxresident)k\n",
      "0inputs+0outputs (0major+1114minor)pagefaults 0swaps\n"
     ]
    }
   ],
   "source": [
    "%%sh\n",
    "arm-linux-gnueabi-gcc -O -static syracuse.c\n",
    "time qemu-arm a.out 1000000"
   ]
  },
  {
   "cell_type": "markdown",
   "metadata": {},
   "source": [
    "La version optimisée par le programmeur :"
   ]
  },
  {
   "cell_type": "code",
   "execution_count": 8,
   "metadata": {},
   "outputs": [
    {
     "name": "stdout",
     "output_type": "stream",
     "text": [
      "i=910107, m=475\n"
     ]
    },
    {
     "name": "stderr",
     "output_type": "stream",
     "text": [
      "0.93user 0.00system 0:00.96elapsed 97%CPU (0avgtext+0avgdata 4116maxresident)k\n",
      "0inputs+0outputs (0major+1112minor)pagefaults 0swaps\n"
     ]
    }
   ],
   "source": [
    "%%sh\n",
    "arm-linux-gnueabi-gcc -static syracuseOptProg.c\n",
    "time qemu-arm a.out 1000000"
   ]
  },
  {
   "cell_type": "markdown",
   "metadata": {},
   "source": [
    "## Arm vs X86 ?\n",
    "\n",
    "Mais est-ce que qemu simule le pipe-line (ou seulement bénéficie d'un pipe-line de la machine ? ou produit un code qui peut en bénéficiér ?) ? Bref, avec qemu, ce n'est pas tout à fait sûr de savoir ce qui se passe. Pour avoir confirmation de ce que l'on a l'impression d'observer regardons en X86 (cette machine est en X86, pas en ARM) pour un langage compilé (il ne faudrait peut-être pas prendre Python ou java pour voir cela)"
   ]
  },
  {
   "cell_type": "code",
   "execution_count": 37,
   "metadata": {
    "scrolled": true
   },
   "outputs": [
    {
     "name": "stdout",
     "output_type": "stream",
     "text": [
      "\t.file\t\"syracuse.c\"\n",
      "\t.intel_syntax noprefix\n",
      "\t.text\n",
      "\t.globl\tsyracuse\n",
      "\t.type\tsyracuse, @function\n",
      "syracuse:\n",
      ".LFB2:\n",
      "\t.cfi_startproc\n",
      "\tpush\trbp\n",
      "\t.cfi_def_cfa_offset 16\n",
      "\t.cfi_offset 6, -16\n",
      "\tmov\trbp, rsp\n",
      "\t.cfi_def_cfa_register 6\n",
      "\tmov\tDWORD PTR [rbp-20], edi\n",
      "\tmov\tDWORD PTR [rbp-4], 0\n",
      "\tjmp\t.L2\n",
      ".L5:\n",
      "\tmov\teax, DWORD PTR [rbp-20]\n",
      "\tand\teax, 1\n",
      "\ttest\teax, eax\n",
      "\tje\t.L3\n",
      "\tmov\tedx, DWORD PTR [rbp-20]\n",
      "\tmov\teax, edx\n",
      "\tadd\teax, eax\n",
      "\tadd\teax, edx\n",
      "\tadd\teax, 1\n",
      "\tmov\tDWORD PTR [rbp-20], eax\n",
      "\tjmp\t.L4\n",
      ".L3:\n",
      "\tmov\teax, DWORD PTR [rbp-20]\n",
      "\tmov\tedx, eax\n",
      "\tshr\tedx, 31\n",
      "\tadd\teax, edx\n",
      "\tsar\teax\n",
      "\tmov\tDWORD PTR [rbp-20], eax\n",
      ".L4:\n",
      "\tadd\tDWORD PTR [rbp-4], 1\n",
      ".L2:\n",
      "\tcmp\tDWORD PTR [rbp-20], 1\n",
      "\tjg\t.L5\n",
      "\tmov\teax, DWORD PTR [rbp-4]\n",
      "\tpop\trbp\n",
      "\t.cfi_def_cfa 7, 8\n",
      "\tret\n",
      "\t.cfi_endproc\n",
      ".LFE2:\n",
      "\t.size\tsyracuse, .-syracuse\n",
      "\t.section\t.rodata\n",
      ".LC0:\n",
      "\t.string\t\"i=%d, m=%d\\n\"\n",
      "\t.text\n",
      "\t.globl\tmain\n",
      "\t.type\tmain, @function\n",
      "main:\n",
      ".LFB3:\n",
      "\t.cfi_startproc\n",
      "\tpush\trbp\n",
      "\t.cfi_def_cfa_offset 16\n",
      "\t.cfi_offset 6, -16\n",
      "\tmov\trbp, rsp\n",
      "\t.cfi_def_cfa_register 6\n",
      "\tsub\trsp, 32\n",
      "\tmov\tDWORD PTR [rbp-20], edi\n",
      "\tmov\tQWORD PTR [rbp-32], rsi\n",
      "\tcmp\tDWORD PTR [rbp-20], 1\n",
      "\tjne\t.L8\n",
      "\tmov\tDWORD PTR [rbp-16], 20\n",
      "\tjmp\t.L9\n",
      ".L8:\n",
      "\tmov\trax, QWORD PTR [rbp-32]\n",
      "\tadd\trax, 8\n",
      "\tmov\trax, QWORD PTR [rax]\n",
      "\tmov\trdi, rax\n",
      "\tcall\tatoi\n",
      "\tmov\tDWORD PTR [rbp-16], eax\n",
      ".L9:\n",
      "\tmov\tDWORD PTR [rbp-12], 0\n",
      "\tjmp\t.L10\n",
      ".L12:\n",
      "\tmov\teax, DWORD PTR [rbp-16]\n",
      "\tmov\tedi, eax\n",
      "\tcall\tsyracuse\n",
      "\tmov\tDWORD PTR [rbp-4], eax\n",
      "\tmov\teax, DWORD PTR [rbp-4]\n",
      "\tcmp\teax, DWORD PTR [rbp-12]\n",
      "\tjle\t.L11\n",
      "\tmov\teax, DWORD PTR [rbp-4]\n",
      "\tmov\tDWORD PTR [rbp-12], eax\n",
      "\tmov\teax, DWORD PTR [rbp-16]\n",
      "\tmov\tDWORD PTR [rbp-8], eax\n",
      ".L11:\n",
      "\tsub\tDWORD PTR [rbp-16], 1\n",
      ".L10:\n",
      "\tcmp\tDWORD PTR [rbp-16], 0\n",
      "\tjg\t.L12\n",
      "\tmov\tedx, DWORD PTR [rbp-12]\n",
      "\tmov\teax, DWORD PTR [rbp-8]\n",
      "\tmov\tesi, eax\n",
      "\tmov\tedi, OFFSET FLAT:.LC0\n",
      "\tmov\teax, 0\n",
      "\tcall\tprintf\n",
      "\tmov\teax, 0\n",
      "\tleave\n",
      "\t.cfi_def_cfa 7, 8\n",
      "\tret\n",
      "\t.cfi_endproc\n",
      ".LFE3:\n",
      "\t.size\tmain, .-main\n",
      "\t.ident\t\"GCC: (Ubuntu 4.8.4-2ubuntu1~14.04.4) 4.8.4\"\n",
      "\t.section\t.note.GNU-stack,\"\",@progbits\n"
     ]
    }
   ],
   "source": [
    "%%sh\n",
    "gcc -S -masm=intel syracuse.c\n",
    "cat syracuse.s"
   ]
  },
  {
   "cell_type": "code",
   "execution_count": 49,
   "metadata": {},
   "outputs": [
    {
     "name": "stdout",
     "output_type": "stream",
     "text": [
      "i=910107, m=475\n"
     ]
    },
    {
     "name": "stderr",
     "output_type": "stream",
     "text": [
      "0.35user 0.01system 0:00.36elapsed 103%CPU (0avgtext+0avgdata 500maxresident)k\n",
      "0inputs+0outputs (0major+155minor)pagefaults 0swaps\n"
     ]
    }
   ],
   "source": [
    "%%sh\n",
    "gcc -O -masm=intel syracuse.c\n",
    "time a.out 1000000"
   ]
  },
  {
   "cell_type": "code",
   "execution_count": 21,
   "metadata": {
    "scrolled": true
   },
   "outputs": [
    {
     "name": "stdout",
     "output_type": "stream",
     "text": [
      "\t.file\t\"syracuseOptProg.c\"\n",
      "\t.text\n",
      "\t.globl\tsyracuse\n",
      "\t.type\tsyracuse, @function\n",
      "syracuse:\n",
      ".LFB39:\n",
      "\t.cfi_startproc\n",
      "\tcmpl\t$1, %edi\n",
      "\tjle\t.L6\n",
      "\tmovl\t$0, %eax\n",
      ".L5:\n",
      "\ttestb\t$1, %dil\n",
      "\tje\t.L3\n",
      "\tleal\t1(%rdi,%rdi,2), %edx\n",
      "\tmovl\t%edx, %edi\n",
      "\tshrl\t$31, %edi\n",
      "\taddl\t%edx, %edi\n",
      "\tsarl\t%edi\n",
      "\taddl\t$1, %eax\n",
      "\tjmp\t.L4\n",
      ".L3:\n",
      "\tmovl\t%edi, %edx\n",
      "\tshrl\t$31, %edx\n",
      "\taddl\t%edx, %edi\n",
      "\tsarl\t%edi\n",
      ".L4:\n",
      "\taddl\t$1, %eax\n",
      "\tcmpl\t$1, %edi\n",
      "\tjg\t.L5\n",
      "\trep ret\n",
      ".L6:\n",
      "\tmovl\t$0, %eax\n",
      "\tret\n",
      "\t.cfi_endproc\n",
      ".LFE39:\n",
      "\t.size\tsyracuse, .-syracuse\n",
      "\t.section\t.rodata.str1.1,\"aMS\",@progbits,1\n",
      ".LC0:\n",
      "\t.string\t\"i=%d, m=%d\\n\"\n",
      "\t.text\n",
      "\t.globl\tmain\n",
      "\t.type\tmain, @function\n",
      "main:\n",
      ".LFB40:\n",
      "\t.cfi_startproc\n",
      "\tpushq\t%r12\n",
      "\t.cfi_def_cfa_offset 16\n",
      "\t.cfi_offset 12, -16\n",
      "\tpushq\t%rbp\n",
      "\t.cfi_def_cfa_offset 24\n",
      "\t.cfi_offset 6, -24\n",
      "\tpushq\t%rbx\n",
      "\t.cfi_def_cfa_offset 32\n",
      "\t.cfi_offset 3, -32\n",
      "\tmovl\t$0, %ebp\n",
      "\tmovl\t$1000000, %ebx\n",
      ".L10:\n",
      "\tmovl\t%ebx, %edi\n",
      "\tcall\tsyracuse\n",
      "\tcmpl\t%ebp, %eax\n",
      "\tjle\t.L8\n",
      "\tmovl\t%ebx, %r12d\n",
      "\tmovl\t%eax, %ebp\n",
      ".L8:\n",
      "\tsubl\t$1, %ebx\n",
      "\tjne\t.L10\n",
      "\tmovl\t%ebp, %ecx\n",
      "\tmovl\t%r12d, %edx\n",
      "\tmovl\t$.LC0, %esi\n",
      "\tmovl\t$1, %edi\n",
      "\tmovl\t$0, %eax\n",
      "\tcall\t__printf_chk\n",
      "\tmovl\t$0, %eax\n",
      "\tpopq\t%rbx\n",
      "\t.cfi_def_cfa_offset 24\n",
      "\tpopq\t%rbp\n",
      "\t.cfi_def_cfa_offset 16\n",
      "\tpopq\t%r12\n",
      "\t.cfi_def_cfa_offset 8\n",
      "\tret\n",
      "\t.cfi_endproc\n",
      ".LFE40:\n",
      "\t.size\tmain, .-main\n",
      "\t.ident\t\"GCC: (Ubuntu 4.8.4-2ubuntu1~14.04.4) 4.8.4\"\n",
      "\t.section\t.note.GNU-stack,\"\",@progbits\n"
     ]
    }
   ],
   "source": [
    "%%sh\n",
    "gcc -O -S syracuseOptProg.c\n",
    "cat syracuseOptProg.s"
   ]
  },
  {
   "cell_type": "code",
   "execution_count": 58,
   "metadata": {},
   "outputs": [
    {
     "name": "stdout",
     "output_type": "stream",
     "text": [
      "i=910107, m=475\n"
     ]
    },
    {
     "name": "stderr",
     "output_type": "stream",
     "text": [
      "0.31user 0.01system 0:00.30elapsed 105%CPU (0avgtext+0avgdata 492maxresident)k\n",
      "0inputs+0outputs (0major+153minor)pagefaults 0swaps\n"
     ]
    }
   ],
   "source": [
    "%%sh\n",
    "gcc -O syracuseOptProg.c\n",
    "time a.out 1000000"
   ]
  },
  {
   "cell_type": "code",
   "execution_count": 17,
   "metadata": {},
   "outputs": [
    {
     "name": "stdout",
     "output_type": "stream",
     "text": [
      "i=910107, m=475\n"
     ]
    },
    {
     "name": "stderr",
     "output_type": "stream",
     "text": [
      "0.45user 0.00system 0:00.46elapsed 98%CPU (0avgtext+0avgdata 500maxresident)k\n",
      "0inputs+0outputs (0major+155minor)pagefaults 0swaps\n"
     ]
    }
   ],
   "source": [
    "%%sh\n",
    "gcc -O syracuse.c\n",
    "time a.out 1000000"
   ]
  },
  {
   "cell_type": "code",
   "execution_count": 16,
   "metadata": {},
   "outputs": [
    {
     "name": "stdout",
     "output_type": "stream",
     "text": [
      "i=910107, m=475\n"
     ]
    },
    {
     "name": "stderr",
     "output_type": "stream",
     "text": [
      "0.37user 0.00system 0:00.39elapsed 95%CPU (0avgtext+0avgdata 492maxresident)k\n",
      "0inputs+0outputs (0major+153minor)pagefaults 0swaps\n"
     ]
    }
   ],
   "source": [
    "%%sh\n",
    "gcc -O syracuseOptProg.c\n",
    "time a.out 1000000"
   ]
  },
  {
   "cell_type": "markdown",
   "metadata": {},
   "source": [
    "## Conclusion\n",
    "\n",
    "C'est (parfois) mieux quand le programmeur et le compilateur optimisent en même temps !"
   ]
  }
 ],
 "metadata": {
  "kernelspec": {
   "display_name": "Python 3",
   "language": "python",
   "name": "python3"
  },
  "language_info": {
   "codemirror_mode": {
    "name": "ipython",
    "version": 3
   },
   "file_extension": ".py",
   "mimetype": "text/x-python",
   "name": "python",
   "nbconvert_exporter": "python",
   "pygments_lexer": "ipython3",
   "version": "3.4.3"
  }
 },
 "nbformat": 4,
 "nbformat_minor": 2
}
