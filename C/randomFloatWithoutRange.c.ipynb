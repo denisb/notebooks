{
 "cells": [
  {
   "cell_type": "markdown",
   "metadata": {},
   "source": [
    "# Random float without range\n",
    "\n",
    "Comment tirer au hasard un nombre sans restriction (éventuellement NaN ou Infinity) ?\n",
    "\n",
    "Déjà, il faut savoir quel nombre on veut créer ..."
   ]
  },
  {
   "cell_type": "code",
   "execution_count": 4,
   "metadata": {},
   "outputs": [
    {
     "name": "stdout",
     "output_type": "stream",
     "text": [
      "Ici, les nombres sont sur 4 octets\n"
     ]
    }
   ],
   "source": [
    "#include <stdio.h>\n",
    "\n",
    "int main() {\n",
    "float nombre;\n",
    "int taille = (int)sizeof(nombre);\n",
    "printf(\"Ici, les nombres sont sur %d octets\\n\",taille);\n",
    "return 0;}"
   ]
  },
  {
   "cell_type": "markdown",
   "metadata": {},
   "source": [
    "Ensuite, il faut savoir créer un vecteur de bits de la bonne taille et lui attribuer des bits au hazard."
   ]
  },
  {
   "cell_type": "code",
   "execution_count": 94,
   "metadata": {},
   "outputs": [
    {
     "name": "stdout",
     "output_type": "stream",
     "text": [
      "01100100110110110011111000011111\n",
      "Nombre aléatoire : -2.052572e+34\n",
      "\n"
     ]
    }
   ],
   "source": [
    "#include <stdio.h>\n",
    "#include <stdlib.h>\n",
    "#include <time.h>\n",
    "\n",
    "int main() {\n",
    "float nombre;\n",
    "int * adrNombre = (int *)&nombre; //en esperant que float et int utilisent le même nombre d'octets ! sinon, adapter ...\n",
    "int taille = (int)sizeof(nombre);\n",
    "srand((unsigned int)time(NULL));\n",
    "for(int i=0;i<taille*8;i++) {\n",
    "  char n = rand()&1;\n",
    "  * adrNombre = (* adrNombre) | (n<<i);\n",
    "  printf(\"%d\",n);}\n",
    "printf(\"\\nNombre aléatoire : %e\\n\\n\",nombre);\n",
    "return 0;} "
   ]
  },
  {
   "cell_type": "markdown",
   "metadata": {},
   "source": [
    "Remarque : pour jouer avec les flottants, voila aussi de quoi écrire quelques nombres en binaire \"à la main\" et voir ce qu'ils valent :"
   ]
  },
  {
   "cell_type": "code",
   "execution_count": 497,
   "metadata": {},
   "outputs": [
    {
     "name": "stdout",
     "output_type": "stream",
     "text": [
      "Nombre le plus grand : 3.402823e+38\n",
      "\n",
      "Nombre le plus petit positif strict : 1.401298e-45\n",
      "\n",
      "Votre nombre : 2.998817e-38\n",
      "\n"
     ]
    }
   ],
   "source": [
    "#include <stdio.h>\n",
    "#include <stdlib.h>\n",
    "#include <time.h>\n",
    "\n",
    "int main() {\n",
    "float nombre;\n",
    "int * adrNombre = (int *)&nombre; //en esperant que float et int utilisent le même nombre d'octets ! sinon, adapter ...\n",
    "int enBinaire = 0x7f7fffff; //le plus grand\n",
    "*adrNombre = enBinaire; \n",
    "printf(\"Nombre le plus grand : %e\\n\\n\",nombre);\n",
    "enBinaire = 0x00000001; //le plus petit positif strict\n",
    "*adrNombre = enBinaire; \n",
    "printf(\"Nombre le plus petit positif strict : %e\\n\\n\",nombre);\n",
    "\n",
    "  enBinaire = 0x01234567; //changer ici la valeur en binaire que vous voulez voir ...\n",
    "  *adrNombre = enBinaire; \n",
    "  printf(\"Votre nombre : %e\\n\\n\",nombre);\n",
    "\n",
    "return 0;} \n"
   ]
  },
  {
   "cell_type": "markdown",
   "metadata": {},
   "source": [
    "Enfin, avec un nombre aléatoire, on peut regarder son signe, s'il est entier, plus grand que 1, paire, multiple de 3, ..."
   ]
  },
  {
   "cell_type": "code",
   "execution_count": 564,
   "metadata": {},
   "outputs": [
    {
     "name": "stdout",
     "output_type": "stream",
     "text": [
      "00010011111000011100001010000110\n",
      "Nombre aléatoire : 2.254312e+20\n",
      "\n",
      "-Nombre positif-   -Nombre plus grand [large] que 1- -Entier-  -Pair-  -Multiple de 5-  \n"
     ]
    }
   ],
   "source": [
    "#include <stdio.h>\n",
    "#include <stdlib.h>\n",
    "#include <time.h>\n",
    "#include <math.h>\n",
    "\n",
    "int main() {\n",
    "float nombre;\n",
    "int * adrNombre = (int *)&nombre; //en esperant que float et int utilisent le même nombre d'octets ! sinon, adapter ...\n",
    "int taille = (int)sizeof(nombre);\n",
    "double tmp;\n",
    "srand((unsigned int)time(NULL));\n",
    "for(int i=0;i<taille*8;i++) {\n",
    "  char n = rand()&1;\n",
    "  * adrNombre = (* adrNombre) | (n<<i);\n",
    "  printf(\"%d\",n);}\n",
    "printf(\"\\nNombre aléatoire : %e\\n\\n\",nombre);\n",
    "\n",
    "//  int enBinaire = 0x01234567; //si le nombre aléatoire ne vous plait pas changer ici la valeur en binaire que vous voulez voir ...\n",
    "//  *adrNombre = enBinaire; \n",
    "//  printf(\"Votre nombre : %e\\n\\n\",nombre);\n",
    "\n",
    "if (nombre>0) {\n",
    "  printf(\"-Nombre positif-   \");\n",
    "  if (nombre>=1) {\n",
    "    printf(\"-Nombre plus grand [large] que 1- \");\n",
    "    //printf(\"\\n %f %d %f \\n\",nombre, (int) nombre, modf(nombre,&tmp));\n",
    "    if (modf(nombre,&tmp)==0) {\n",
    "      printf(\"-Entier-  \");\n",
    "      tmp = nombre / 2;\n",
    "      if (2*tmp==nombre) {\n",
    "        printf(\"-Pair-  \");}\n",
    "      tmp = nombre / 3;\n",
    "      if (3*tmp==nombre) {\n",
    "        printf(\"-Multiple de 3-  \");}\n",
    "      tmp = nombre / 5;\n",
    "      if (5*tmp==nombre) {\n",
    "        printf(\"-Multiple de 5-  \");}\n",
    "        }}}\n",
    "printf(\"\\n\");\n",
    "return 0;} "
   ]
  },
  {
   "cell_type": "markdown",
   "metadata": {},
   "source": [
    "Pour la suite, on peut regarder la distribution des nombres positifs, plus grands que 1, entiers, pairs, multiples de 3 ou 5 ..."
   ]
  },
  {
   "cell_type": "code",
   "execution_count": 576,
   "metadata": {},
   "outputs": [
    {
     "name": "stdout",
     "output_type": "stream",
     "text": [
      "Positifs : 5059 (50.590000 /00),\n",
      "  >=1 : 2568 (25.680000 /00),\n",
      "    entier : 2140 (21.400000 /00),\n",
      "      pair : 2140 (21.400000 /00),\n",
      "      mult3 : 746 (7.460000 /00),\n",
      "      mult5 : 415 (4.150000 /00)\n",
      "\n"
     ]
    }
   ],
   "source": [
    "#include <stdio.h>\n",
    "#include <stdlib.h>\n",
    "#include <time.h>\n",
    "#include <math.h>\n",
    "\n",
    "int main() {\n",
    "float nombre;\n",
    "int * adrNombre = (int *)&nombre; //en esperant que float et int utilisent le même nombre d'octets ! sinon, adapter ...\n",
    "int taille = (int)sizeof(nombre);\n",
    "double tmp; int k, i; char n; int nbTirage = 10000;\n",
    "int pos=0,plusGrandQue1=0,entier=0,pair=0,multipleDe3=0,multipleDe5=0;\n",
    "srand((unsigned int)time(NULL));\n",
    "for(k=0;k<nbTirage;k++) {\n",
    "  nombre=0;\n",
    "  for(i=0;i<taille*8;i++) {\n",
    "    n = rand()&1;\n",
    "    * adrNombre = (* adrNombre) | (n<<i);}\n",
    "  //printf(\"\\nNombre aléatoire : %e\\n\\n\",nombre);\n",
    "  if (nombre>0) {\n",
    "    pos++;\n",
    "    if (nombre>=1) {\n",
    "    plusGrandQue1++;\n",
    "    if (modf(nombre,&tmp)==0) {\n",
    "      entier++;\n",
    "      tmp = nombre / 2;\n",
    "      if (2*tmp==nombre) {\n",
    "        pair++;}\n",
    "      tmp = nombre / 3;\n",
    "      if (3*tmp==nombre) {\n",
    "        multipleDe3++;}\n",
    "      tmp = nombre / 5;\n",
    "      if (5*tmp==nombre) {\n",
    "        multipleDe5++;}}}}}\n",
    "printf(\"Positifs : %d (%f /00),\\n  >=1 : %d (%f /00),\\n    entier : %d (%f /00),\\n      pair : %d (%f /00),\\n      mult3 : %d (%f /00),\\n      mult5 : %d (%f /00)\\n\\n\",\n",
    "  pos,((float)100*pos)/nbTirage,plusGrandQue1,((float)100*plusGrandQue1)/nbTirage,entier,((float)100*entier)/nbTirage,pair,((float)100*pair)/nbTirage,multipleDe3,((float)100*multipleDe3)/nbTirage,multipleDe5,((float)100*multipleDe5)/nbTirage);\n",
    "return 0;} "
   ]
  },
  {
   "cell_type": "markdown",
   "metadata": {},
   "source": [
    "## Conclusion\n",
    "Le binaire favorise les nombres pairs : quasiment tous les entiers sont pairs ... (parmi les nombres à virgules représentant des entiers), pour le reste, c'est normal : autant de positifs et de négatifs, autant de nombre entre 0 et 1 que entre 1 et l'infini, 1/3 des entiers multiples de 3, 1/5 des entiers multiples de 5.\n",
    "\n",
    "---\n",
    "\n",
    "---\n",
    "\n",
    "---\n",
    "\n",
    "# VRAC\n",
    "\n",
    "### premier essai pour modifier un float : &\n",
    "\n"
   ]
  },
  {
   "cell_type": "code",
   "execution_count": 1,
   "metadata": {},
   "outputs": [
    {
     "name": "stderr",
     "output_type": "stream",
     "text": [
      "/tmp/tmpb86r2dmu.c: In function ‘main’:\n",
      "/tmp/tmpb86r2dmu.c:8:15: error: invalid operands to binary | (have ‘float’ and ‘unsigned int’)\n",
      " nombre=nombre | 0x80000000;\n",
      "               ^\n",
      "[C kernel] GCC exited with code 1, the executable will not be executed"
     ]
    }
   ],
   "source": [
    "#include <stdio.h>\n",
    "#include <stdlib.h>\n",
    "#include <time.h>\n",
    "\n",
    "int main() {\n",
    "float nombre=1.234;\n",
    "printf(\"\\nNombre initial : %e\\n\\n\",nombre);\n",
    "nombre=nombre | 0x80000000;\n",
    "printf(\"\\nNombre modifié (chgnt de signe) : %e\\n\\n\",nombre);\n",
    "return 0;} "
   ]
  },
  {
   "cell_type": "markdown",
   "metadata": {},
   "source": [
    "essayons de faire une traduction de type pour que le ou \"|\" ait des opérandes de même type ..."
   ]
  },
  {
   "cell_type": "code",
   "execution_count": 2,
   "metadata": {},
   "outputs": [
    {
     "name": "stderr",
     "output_type": "stream",
     "text": [
      "/tmp/tmpcf1foz0y.c: In function ‘main’:\n",
      "/tmp/tmpcf1foz0y.c:8:15: error: invalid operands to binary | (have ‘float’ and ‘float’)\n",
      " nombre=nombre | ((float)0x80000000);\n",
      "               ^\n",
      "[C kernel] GCC exited with code 1, the executable will not be executed"
     ]
    }
   ],
   "source": [
    "#include <stdio.h>\n",
    "#include <stdlib.h>\n",
    "#include <time.h>\n",
    "\n",
    "int main() {\n",
    "float nombre=1.234;\n",
    "printf(\"\\nNombre initial : %e\\n\\n\",nombre);\n",
    "nombre=nombre | ((float)0x80000000);\n",
    "printf(\"\\nNombre modifié (chgnt de signe) : %e\\n\\n\",nombre);\n",
    "return 0;} "
   ]
  },
  {
   "cell_type": "markdown",
   "metadata": {},
   "source": [
    "essayons de faire une traduction du float vers un tableau de char (ou un tableau de bits) ..."
   ]
  },
  {
   "cell_type": "code",
   "execution_count": 26,
   "metadata": {},
   "outputs": [
    {
     "name": "stdout",
     "output_type": "stream",
     "text": [
      "\n",
      "Nombre initial : 1.234000e+00\n",
      "\n",
      "\n",
      "Nombre modifié (chgnt de signe sur char *) : 1.234000e+00\n",
      "\n"
     ]
    }
   ],
   "source": [
    "#include <stdio.h>\n",
    "#include <stdlib.h>\n",
    "#include <time.h>\n",
    "\n",
    "int main() {\n",
    "float nombre=1.234;\n",
    "char *adNombre;\n",
    "printf(\"\\nNombre initial : %e\\n\\n\",nombre);\n",
    "adNombre = (char *)&nombre;\n",
    "adNombre[0] = adNombre[0] | 0x80;\n",
    "printf(\"\\nNombre modifié (chgnt de signe sur char *) : %e\\n\\n\",nombre);\n",
    "return 0;} "
   ]
  },
  {
   "cell_type": "markdown",
   "metadata": {},
   "source": [
    "cela s'exécute, mais ne change rien ... \n",
    "\n",
    "est-ce que le stockage est petit-boutiste ?"
   ]
  },
  {
   "cell_type": "code",
   "execution_count": 36,
   "metadata": {},
   "outputs": [
    {
     "name": "stdout",
     "output_type": "stream",
     "text": [
      "\n",
      "Nombre initial : 1.234000e+00\n",
      "\n",
      "\n",
      "Nombre modifié (chgnt de signe sur char * petit boutiste) : -1.234000e+00\n",
      "\n"
     ]
    }
   ],
   "source": [
    "#include <stdio.h>\n",
    "#include <stdlib.h>\n",
    "#include <time.h>\n",
    "\n",
    "int main() {\n",
    "float nombre=1.234;\n",
    "char *adNombre;\n",
    "printf(\"\\nNombre initial : %e\\n\\n\",nombre);\n",
    "adNombre = (char *)&nombre;\n",
    "adNombre[3] = adNombre[3] | 0x80;\n",
    "printf(\"\\nNombre modifié (chgnt de signe sur char * petit boutiste) : %e\\n\\n\",nombre);\n",
    "return 0;} "
   ]
  },
  {
   "cell_type": "markdown",
   "metadata": {},
   "source": [
    "Victoire !"
   ]
  }
 ],
 "metadata": {
  "kernelspec": {
   "display_name": "C",
   "language": "c",
   "name": "bash"
  },
  "language_info": {
   "file_extension": ".c",
   "mimetype": "text/plain",
   "name": "c"
  }
 },
 "nbformat": 4,
 "nbformat_minor": 2
}
