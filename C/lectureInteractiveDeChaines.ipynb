{
 "cells": [
  {
   "cell_type": "markdown",
   "id": "edd32131-6b7a-4d7a-a0d9-237c7191ec98",
   "metadata": {
    "editable": true,
    "slideshow": {
     "slide_type": ""
    },
    "tags": []
   },
   "source": [
    "# Objectif\n",
    "\n",
    "Saisir **des** **textes**, i.e. plusieurs à la suite, dont des textes **vides**, en **C**, avec **scanf**, éventuellement sur les 2 \\[ou 3\\] systèmes (Unix, \\[MacOs\\], Windows).\n",
    "\n",
    "  \n",
    "Remarques :  \n",
    "\n",
    "* Pourquoi ```scanf``` ? Parce que c'est la primitive de lecture la plus connue/utilisée (elle est même conseillée aux débutants par les IA).\n",
    "* Il s'agit de \"textes\", des espaces peuvent être présents, des textes vides aussi.\n",
    "* Pour délimiter la fin d'une saisie, on considérera que la touche ```Entrée``` clos la saisie (rem. : en générale, elle ajoute aussi un passage à la ligne à la saisie, mais ce ```\"\\n\"``` n'est pas voulu), ou que la saisie est close si le flux d'entrée est fini (```EOF```).\n",
    "* Lire des *nombres* ou des *caractères* ou des textes *non vides* ou *un seul* texte, c'est une autre histoire\n",
    "* Dans les pages de manuel Unix/Linux récentes (changement autours des années 2020-23), l'utilisation de ```scanf``` est déconseillée. La fonction ```scanf``` est considérée comme d'usage difficile (et source de bug ?), lui sont préférées les fonctions ```fgets``` et ```getline``` (avec sscanf, à la suite \\[!\\])\n",
    "\n",
    "# Limites des solutions naïves\n",
    "\n",
    "La solution naIve, avec ```scanf(\"%s\")``` :"
   ]
  },
  {
   "cell_type": "code",
   "execution_count": 1,
   "id": "b41ef7e4-7ab2-41f3-b671-34572fc6d185",
   "metadata": {
    "execution": {
     "iopub.execute_input": "2024-06-07T07:21:03.988068Z",
     "iopub.status.busy": "2024-06-07T07:21:03.987831Z",
     "iopub.status.idle": "2024-06-07T07:21:04.013889Z",
     "shell.execute_reply": "2024-06-07T07:21:04.012558Z",
     "shell.execute_reply.started": "2024-06-07T07:21:03.988050Z"
    }
   },
   "outputs": [
    {
     "name": "stdout",
     "output_type": "stream",
     "text": [
      "Overwriting progNaif.c\n"
     ]
    }
   ],
   "source": [
    "%%writefile progNaif.c\n",
    "#include <stdio.h>\n",
    "\n",
    "int main() {\n",
    "    char ch[81];\n",
    "\n",
    "  printf(\"Chaine ?\\n\");\n",
    "  scanf(\"%s\",ch);\n",
    "  printf(\">> Chaine = >>%s<<\\n\\n\", ch);\n",
    "\n",
    "  printf(\"Chaine ?\\n\");\n",
    "  scanf(\"%s\",ch);\n",
    "  printf(\">> Chaine = >>%s<<\\n\", ch);\n",
    "\n",
    "return 0;}"
   ]
  },
  {
   "cell_type": "markdown",
   "id": "375460c3-0cb7-43b7-b6ed-af4fe315aa39",
   "metadata": {},
   "source": [
    "## ```scanf(\"%s\")``` s'arrête aux séparateurs blancs (espaces, tabulation, etc.)\n",
    "\n",
    "Donnons deux textes avec des blancs."
   ]
  },
  {
   "cell_type": "code",
   "execution_count": 2,
   "id": "824c40e1-2dcd-4c59-bc29-c588569fa9f5",
   "metadata": {
    "execution": {
     "iopub.execute_input": "2024-06-07T07:21:04.015459Z",
     "iopub.status.busy": "2024-06-07T07:21:04.015189Z",
     "iopub.status.idle": "2024-06-07T07:21:04.583665Z",
     "shell.execute_reply": "2024-06-07T07:21:04.582924Z",
     "shell.execute_reply.started": "2024-06-07T07:21:04.015438Z"
    }
   },
   "outputs": [
    {
     "name": "stdout",
     "output_type": "stream",
     "text": [
      "Chaine ?\n",
      ">> Chaine = >>Bon<<\n",
      "\n",
      "Chaine ?\n",
      ">> Chaine = >>jour<<\n"
     ]
    }
   ],
   "source": [
    "!gcc progNaif.c -o progNaif.e\n",
    "!printf \"Bon jour \\n la terre\\n\" | ./progNaif.e"
   ]
  },
  {
   "cell_type": "markdown",
   "id": "effda478-b355-4c45-a6d1-45c71904022c",
   "metadata": {},
   "source": [
    "Il manque la moitié des entrées.\n",
    "\n",
    "## ```scanf(\"%s\")``` n'accèpte pas les réponses vides\n",
    "\n",
    "Pour une première entrée \"vide\" :"
   ]
  },
  {
   "cell_type": "code",
   "execution_count": 3,
   "id": "f5cde81f-c8fc-45ea-bc53-6a10e0bb58cf",
   "metadata": {
    "execution": {
     "iopub.execute_input": "2024-06-07T07:21:04.584929Z",
     "iopub.status.busy": "2024-06-07T07:21:04.584713Z",
     "iopub.status.idle": "2024-06-07T07:21:05.117822Z",
     "shell.execute_reply": "2024-06-07T07:21:05.116862Z",
     "shell.execute_reply.started": "2024-06-07T07:21:04.584912Z"
    }
   },
   "outputs": [
    {
     "name": "stdout",
     "output_type": "stream",
     "text": [
      "Chaine ?\n",
      ">> Chaine = >>Bonjour<<\n",
      "\n",
      "Chaine ?\n",
      ">> Chaine = >>Bonjour<<\n"
     ]
    }
   ],
   "source": [
    "!gcc progNaif.c -o progNaif.e\n",
    "!printf \"\\nBonjour\\n\" | ./progNaif.e"
   ]
  },
  {
   "cell_type": "markdown",
   "id": "6d269867-c695-44cb-8326-882c037e45b0",
   "metadata": {},
   "source": [
    "La première entrée/ligne était vide, la saisie l'a omise (c'est peut-être une sage solution \\[dans certains cas\\]) et la saisie a pris le seconde ligne comme première réponse, mais si la première entrée/réponse voulait être **vide**, c'est une erreur, la saisie fournit en première réponse la seconde entrée, et en seconde réponse conserve cette entrée .\n",
    "\n",
    "Remarques :  \n",
    "\n",
    "* s'il y avait eu une troisième entrée, elle aurait été prise comme seconde réponse.\n",
    "\n",
    "Pour une seconde entrée \"vide\" :"
   ]
  },
  {
   "cell_type": "code",
   "execution_count": 4,
   "id": "6affcb24-aa74-4b5c-88d2-a7180912802f",
   "metadata": {
    "execution": {
     "iopub.execute_input": "2024-06-07T07:21:05.119121Z",
     "iopub.status.busy": "2024-06-07T07:21:05.118907Z",
     "iopub.status.idle": "2024-06-07T07:21:05.653049Z",
     "shell.execute_reply": "2024-06-07T07:21:05.652133Z",
     "shell.execute_reply.started": "2024-06-07T07:21:05.119094Z"
    }
   },
   "outputs": [
    {
     "name": "stdout",
     "output_type": "stream",
     "text": [
      "Chaine ?\n",
      ">> Chaine = >>Bonjour<<\n",
      "\n",
      "Chaine ?\n",
      ">> Chaine = >>Bonjour<<\n"
     ]
    }
   ],
   "source": [
    "!gcc progNaif.c -o progNaif.e\n",
    "!printf \"Bonjour\\n\\n\" | ./progNaif.e"
   ]
  },
  {
   "cell_type": "markdown",
   "id": "41d0bfe5-1dbc-4e5b-8651-db1b06257644",
   "metadata": {},
   "source": [
    "La seconde ligne/réponse était vide, à nouveau la réponse \"vide\" est mal interprétée, c'est comme une erreur, et comme une erreur la variable ```ch``` est laissée inchangée (pourquoi pas, mais ici, cela signifie que ```ch``` reste avec la première saisie ! alors qu'elle devrait être vide). "
   ]
  },
  {
   "cell_type": "markdown",
   "id": "a8775507-1aa4-493c-ab13-dfb155836376",
   "metadata": {
    "editable": true,
    "slideshow": {
     "slide_type": ""
    },
    "tags": []
   },
   "source": [
    "# Analyse du problème\n",
    "\n",
    "Différents problèmes principaux empêchent d'avoir une solution \"simple\" avec ```scanf(\"%s\")``` :  \n",
    "\n",
    "* Les blancs terminent la saisie des ```scanf(\"%s\")```\n",
    "* Les saisies vides sont considérées comme des échecs et laissent inchangées les paramètres\n",
    "* Selon les OS, il faut passer un ou deux caractères (et pas le même en premier) pour éviter les délimiteurs de fin de saisie apparaissant sous forme de caractères de fin de ligne\n",
    "\n",
    "Il faut donc utiliser autre chose que ```scanf(\"%s\")```, passer les fin de lignes, et prévoir les possibles saisie vides. \n",
    "\n",
    "# Résolution"
   ]
  },
  {
   "cell_type": "code",
   "execution_count": 5,
   "id": "c722bbab-e609-43bb-aab3-f1617d4e685c",
   "metadata": {
    "execution": {
     "iopub.execute_input": "2024-06-07T07:21:05.655250Z",
     "iopub.status.busy": "2024-06-07T07:21:05.655045Z",
     "iopub.status.idle": "2024-06-07T07:21:05.670481Z",
     "shell.execute_reply": "2024-06-07T07:21:05.669602Z",
     "shell.execute_reply.started": "2024-06-07T07:21:05.655223Z"
    }
   },
   "outputs": [
    {
     "name": "stdout",
     "output_type": "stream",
     "text": [
      "Overwriting prog.c\n"
     ]
    }
   ],
   "source": [
    "%%writefile prog.c\n",
    "#include <stdio.h>\n",
    "int main() {\n",
    "  char ch[81];\n",
    "\n",
    "  printf(\"Chaine ?\\n\");\n",
    "  ch[0]=0;                   // en cas de saisie vide, le scanf va échouer, mais \"ch\" aura la bonne valeur !\n",
    "  scanf(\"%80[^\\n\\r]\",ch);    // lecture jusqu'à la fin de la saisie (\\n, \\r ou EOF)\n",
    "  scanf(\"%*1[\\r]\");          // lecture des délimiteurs de fin de saisie, si présents\n",
    "  scanf(\"%*1[\\n]\");          //   '' idem '' (dans l'ordre naturel \\r\\n de Windows)\n",
    "  printf(\">> Chaine = >>%s<<\\n\\n\", ch);\n",
    "\n",
    "  printf(\"Chaine ?\\n\");\n",
    "  ch[0]=0;\n",
    "  scanf(\"%80[^\\n\\r]\",ch); \n",
    "  scanf(\"%*1[\\r]\"); \n",
    "  scanf(\"%*1[\\n]\"); \n",
    "  printf(\">> Chaine = >>%s<<\\n\\n\", ch);\n",
    "return 0;}"
   ]
  },
  {
   "cell_type": "markdown",
   "id": "051c6d22-0dc4-4a6a-9992-ede04b4abbab",
   "metadata": {
    "editable": true,
    "slideshow": {
     "slide_type": ""
    },
    "tags": []
   },
   "source": [
    "# Conclusion\n",
    "\n",
    "Tests :"
   ]
  },
  {
   "cell_type": "code",
   "execution_count": 6,
   "id": "b86efdb0-3fc3-4a93-b0d2-075bb175cc68",
   "metadata": {
    "execution": {
     "iopub.execute_input": "2024-06-07T07:21:05.671580Z",
     "iopub.status.busy": "2024-06-07T07:21:05.671340Z",
     "iopub.status.idle": "2024-06-07T07:21:06.194649Z",
     "shell.execute_reply": "2024-06-07T07:21:06.193855Z",
     "shell.execute_reply.started": "2024-06-07T07:21:05.671563Z"
    }
   },
   "outputs": [
    {
     "name": "stdout",
     "output_type": "stream",
     "text": [
      "Chaine ?\n",
      ">> Chaine = >>Bon jour <<\n",
      "\n",
      "Chaine ?\n",
      ">> Chaine = >> la terre<<\n",
      "\n"
     ]
    }
   ],
   "source": [
    "!gcc prog.c -o prog.e\n",
    "!printf \"Bon jour \\n la terre\\n\" | ./prog.e"
   ]
  },
  {
   "cell_type": "code",
   "execution_count": 7,
   "id": "17a4bf6d-7a92-44c9-8dbe-68999a79ae97",
   "metadata": {
    "execution": {
     "iopub.execute_input": "2024-06-07T07:21:06.195738Z",
     "iopub.status.busy": "2024-06-07T07:21:06.195526Z",
     "iopub.status.idle": "2024-06-07T07:21:06.697244Z",
     "shell.execute_reply": "2024-06-07T07:21:06.696511Z",
     "shell.execute_reply.started": "2024-06-07T07:21:06.195719Z"
    }
   },
   "outputs": [
    {
     "name": "stdout",
     "output_type": "stream",
     "text": [
      "Chaine ?\n",
      ">> Chaine = >>Bonjour la terre<<\n",
      "\n",
      "Chaine ?\n",
      ">> Chaine = >><<\n",
      "\n"
     ]
    }
   ],
   "source": [
    "!gcc prog.c -o prog.e\n",
    "!printf \"Bonjour la terre\\n\\n\" | ./prog.e"
   ]
  },
  {
   "cell_type": "code",
   "execution_count": 8,
   "id": "08e44ca4-36e6-45a9-9025-9634db52843f",
   "metadata": {
    "execution": {
     "iopub.execute_input": "2024-06-07T07:21:06.698710Z",
     "iopub.status.busy": "2024-06-07T07:21:06.698511Z",
     "iopub.status.idle": "2024-06-07T07:21:07.237129Z",
     "shell.execute_reply": "2024-06-07T07:21:07.236258Z",
     "shell.execute_reply.started": "2024-06-07T07:21:06.698692Z"
    }
   },
   "outputs": [
    {
     "name": "stdout",
     "output_type": "stream",
     "text": [
      "Chaine ?\n",
      ">> Chaine = >><<\n",
      "\n",
      "Chaine ?\n",
      ">> Chaine = >>Bonjour la terre<<\n",
      "\n"
     ]
    }
   ],
   "source": [
    "!gcc prog.c -o prog.e\n",
    "!printf \"\\nBonjour la terre\\n\" | ./prog.e"
   ]
  },
  {
   "cell_type": "code",
   "execution_count": 9,
   "id": "64612ff4-d7db-42a8-a39b-4de82e03627c",
   "metadata": {
    "execution": {
     "iopub.execute_input": "2024-06-07T07:21:07.238240Z",
     "iopub.status.busy": "2024-06-07T07:21:07.238064Z",
     "iopub.status.idle": "2024-06-07T07:21:07.755656Z",
     "shell.execute_reply": "2024-06-07T07:21:07.754895Z",
     "shell.execute_reply.started": "2024-06-07T07:21:07.238224Z"
    }
   },
   "outputs": [
    {
     "name": "stdout",
     "output_type": "stream",
     "text": [
      "Chaine ?\n",
      ">> Chaine = >>Bon jour <<\n",
      "\n",
      "Chaine ?\n",
      ">> Chaine = >> la terre<<\n",
      "\n"
     ]
    }
   ],
   "source": [
    "!gcc prog.c -o prog.e\n",
    "!printf \"Bon jour \\r\\n la terre\\r\\n\" | ./prog.e"
   ]
  },
  {
   "cell_type": "markdown",
   "id": "0db9d5c3-d9b5-4f07-bc05-e5ab6fc68928",
   "metadata": {},
   "source": [
    "Ca fonctionne.\n",
    "\n",
    "D'autres solutions sont possibles avec ```fgets```, ```readline``` et des expressions régulières (ou même avec d'autres traitements utilisant ```scanf```). \n",
    "\n",
    "L'avantage de la solution présente, c'est qu'elle passe facilement en assembleur.\n",
    "```ARM\n",
    "   @ avec l'adresse de ch dans R1\n",
    "   ldr r0, LD_FormatLigne          @ \"%80[^\\n\\r]\"\n",
    "   mov R2, #0     \n",
    "   strb R2, [R1]                   @ ch[0]=0\n",
    "   bl scanf\n",
    "   ldr r0, LD_FormatCR             @ \"%*1[\\r]\"\n",
    "   bl scanf    \n",
    "   ldr r0, LD_FormatLF             @ \"%*1[\\n]\"\n",
    "   bl scanf    \n",
    "```"
   ]
  }
 ],
 "metadata": {
  "kernelspec": {
   "display_name": "Python 3 (ipykernel)",
   "language": "python",
   "name": "python3"
  },
  "language_info": {
   "codemirror_mode": {
    "name": "ipython",
    "version": 3
   },
   "file_extension": ".py",
   "mimetype": "text/x-python",
   "name": "python",
   "nbconvert_exporter": "python",
   "pygments_lexer": "ipython3",
   "version": "3.10.12"
  },
  "title": "Saisie interactive de textes en C"
 },
 "nbformat": 4,
 "nbformat_minor": 5
}
