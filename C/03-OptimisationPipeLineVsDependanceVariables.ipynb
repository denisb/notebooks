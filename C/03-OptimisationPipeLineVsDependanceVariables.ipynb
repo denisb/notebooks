{
 "cells": [
  {
   "cell_type": "markdown",
   "metadata": {},
   "source": [
    "# Test : Pipe-line vs Dépendances entre variables\n",
    "\n",
    "Pour en savoir un peu plus sur le pipe-line : https://fr.wikipedia.org/wiki/Pipeline_(architecture_des_processeurs)\n",
    "\n",
    "\n",
    "Pour voir les effets des conflits entre le pipe-line et les dépendances entre variables, suivons le calcul suivant pour obtenir une multiplication à partir d'additions.\n",
    "\n",
    "## Multiplication par addition, première version\n",
    "\n",
    "Pour obtenir une multiplication par 8, 8 additions sont proposées, reposant sur 28 accès mémoire."
   ]
  },
  {
   "cell_type": "code",
   "execution_count": 1,
   "metadata": {},
   "outputs": [
    {
     "name": "stdout",
     "output_type": "stream",
     "text": [
      "Overwriting multiplication.c\n"
     ]
    }
   ],
   "source": [
    "%%writefile multiplication.c\n",
    "#include <stdio.h>\n",
    "#include <stdlib.h>\n",
    "\n",
    "int main (int argc, char * argv[]) {\n",
    "int i,x,y;\n",
    "if (argc==1)    {i=10;}\n",
    "else {i=atoi(argv[1]);}\n",
    "for(x=0,y=1;i;i--) {\n",
    "  y=y+x;\n",
    "  y=y+x;\n",
    "  y=y+x;\n",
    "  y=y+x;\n",
    "  y=y+x;\n",
    "  y=y+x;\n",
    "  y=y+x;\n",
    "  y=y+x;\n",
    "  x=y;}\n",
    "printf(\"x=%d, y=%d \\n\",x,y);\n",
    "return 0;}"
   ]
  },
  {
   "cell_type": "code",
   "execution_count": 2,
   "metadata": {
    "scrolled": true
   },
   "outputs": [
    {
     "name": "stdout",
     "output_type": "stream",
     "text": [
      "\t.arch armv5t\n",
      "\t.fpu softvfp\n",
      "\t.eabi_attribute 20, 1\n",
      "\t.eabi_attribute 21, 1\n",
      "\t.eabi_attribute 23, 3\n",
      "\t.eabi_attribute 24, 1\n",
      "\t.eabi_attribute 25, 1\n",
      "\t.eabi_attribute 26, 2\n",
      "\t.eabi_attribute 30, 6\n",
      "\t.eabi_attribute 34, 0\n",
      "\t.eabi_attribute 18, 4\n",
      "\t.file\t\"multiplication.c\"\n",
      "\t.section\t.rodata\n",
      "\t.align\t2\n",
      ".LC0:\n",
      "\t.ascii\t\"x=%d, y=%d \\012\\000\"\n",
      "\t.text\n",
      "\t.align\t2\n",
      "\t.global\tmain\n",
      "\t.type\tmain, %function\n",
      "main:\n",
      "\t@ args = 0, pretend = 0, frame = 24\n",
      "\t@ frame_needed = 1, uses_anonymous_args = 0\n",
      "\tstmfd\tsp!, {fp, lr}\n",
      "\tadd\tfp, sp, #4\n",
      "\tsub\tsp, sp, #24\n",
      "\tstr\tr0, [fp, #-24]\n",
      "\tstr\tr1, [fp, #-28]\n",
      "\tldr\tr3, [fp, #-24]\n",
      "\tcmp\tr3, #1\n",
      "\tbne\t.L2\n",
      "\tmov\tr3, #10\n",
      "\tstr\tr3, [fp, #-16]\n",
      "\tb\t.L3\n",
      ".L2:\n",
      "\tldr\tr3, [fp, #-28]\n",
      "\tadd\tr3, r3, #4\n",
      "\tldr\tr3, [r3, #0]\n",
      "\tmov\tr0, r3\n",
      "\tbl\tatoi\n",
      "\tstr\tr0, [fp, #-16]\n",
      ".L3:\n",
      "\tmov\tr3, #0\n",
      "\tstr\tr3, [fp, #-12]\n",
      "\tmov\tr3, #1\n",
      "\tstr\tr3, [fp, #-8]\n",
      "\tb\t.L4\n",
      ".L5:\n",
      "\tldr\tr2, [fp, #-8]\n",
      "\tldr\tr3, [fp, #-12]\n",
      "\tadd\tr3, r2, r3\n",
      "\tstr\tr3, [fp, #-8]\n",
      "\tldr\tr2, [fp, #-8]\n",
      "\tldr\tr3, [fp, #-12]\n",
      "\tadd\tr3, r2, r3\n",
      "\tstr\tr3, [fp, #-8]\n",
      "\tldr\tr2, [fp, #-8]\n",
      "\tldr\tr3, [fp, #-12]\n",
      "\tadd\tr3, r2, r3\n",
      "\tstr\tr3, [fp, #-8]\n",
      "\tldr\tr2, [fp, #-8]\n",
      "\tldr\tr3, [fp, #-12]\n",
      "\tadd\tr3, r2, r3\n",
      "\tstr\tr3, [fp, #-8]\n",
      "\tldr\tr2, [fp, #-8]\n",
      "\tldr\tr3, [fp, #-12]\n",
      "\tadd\tr3, r2, r3\n",
      "\tstr\tr3, [fp, #-8]\n",
      "\tldr\tr2, [fp, #-8]\n",
      "\tldr\tr3, [fp, #-12]\n",
      "\tadd\tr3, r2, r3\n",
      "\tstr\tr3, [fp, #-8]\n",
      "\tldr\tr2, [fp, #-8]\n",
      "\tldr\tr3, [fp, #-12]\n",
      "\tadd\tr3, r2, r3\n",
      "\tstr\tr3, [fp, #-8]\n",
      "\tldr\tr2, [fp, #-8]\n",
      "\tldr\tr3, [fp, #-12]\n",
      "\tadd\tr3, r2, r3\n",
      "\tstr\tr3, [fp, #-8]\n",
      "\tldr\tr3, [fp, #-8]\n",
      "\tstr\tr3, [fp, #-12]\n",
      "\tldr\tr3, [fp, #-16]\n",
      "\tsub\tr3, r3, #1\n",
      "\tstr\tr3, [fp, #-16]\n",
      ".L4:\n",
      "\tldr\tr3, [fp, #-16]\n",
      "\tcmp\tr3, #0\n",
      "\tbne\t.L5\n",
      "\tldr\tr0, .L7\n",
      "\tldr\tr1, [fp, #-12]\n",
      "\tldr\tr2, [fp, #-8]\n",
      "\tbl\tprintf\n",
      "\tmov\tr3, #0\n",
      "\tmov\tr0, r3\n",
      "\tsub\tsp, fp, #4\n",
      "\tldmfd\tsp!, {fp, pc}\n",
      ".L8:\n",
      "\t.align\t2\n",
      ".L7:\n",
      "\t.word\t.LC0\n",
      "\t.size\tmain, .-main\n",
      "\t.ident\t\"GCC: (Ubuntu/Linaro 4.7.3-12ubuntu1) 4.7.3\"\n",
      "\t.section\t.note.GNU-stack,\"\",%progbits\n"
     ]
    }
   ],
   "source": [
    "%%sh\n",
    "arm-linux-gnueabi-gcc -S -static multiplication.c\n",
    "cat multiplication.s"
   ]
  },
  {
   "cell_type": "code",
   "execution_count": 28,
   "metadata": {},
   "outputs": [
    {
     "name": "stdout",
     "output_type": "stream",
     "text": [
      "x=387420489, y=387420489 \n"
     ]
    }
   ],
   "source": [
    "%%sh\n",
    "arm-linux-gnueabi-gcc -static multiplication.c\n",
    "qemu-arm a.out"
   ]
  },
  {
   "cell_type": "code",
   "execution_count": 4,
   "metadata": {},
   "outputs": [
    {
     "name": "stdout",
     "output_type": "stream",
     "text": [
      "x=-1027070407, y=-1027070407 \n"
     ]
    },
    {
     "name": "stderr",
     "output_type": "stream",
     "text": [
      "0.93user 0.00system 0:00.94elapsed 99%CPU (0avgtext+0avgdata 4128maxresident)k\n",
      "0inputs+0outputs (0major+1115minor)pagefaults 0swaps\n"
     ]
    }
   ],
   "source": [
    "%%sh\n",
    "arm-linux-gnueabi-gcc -static multiplication.c\n",
    "time qemu-arm a.out 60000000"
   ]
  },
  {
   "cell_type": "markdown",
   "metadata": {},
   "source": [
    "N.B. : attention, les résultats sont à comprendre comme des résultats sur 32 bits (seulement)"
   ]
  },
  {
   "cell_type": "markdown",
   "metadata": {},
   "source": [
    "## Multiplication par addition, version améliorée par le programmeur\n",
    "\n",
    "On veut éviter les dépendances entre variables, mais garder le même nombre d'opérations et aussi le même nombre d'accès mémoire. Des variables suppléméntaires sont ajoutées, les calculs utils sont un peu améliorés, des calculs inutils sont ajoutés pour compenser."
   ]
  },
  {
   "cell_type": "code",
   "execution_count": 5,
   "metadata": {},
   "outputs": [
    {
     "name": "stdout",
     "output_type": "stream",
     "text": [
      "Overwriting multiplicationEnArbre.c\n"
     ]
    }
   ],
   "source": [
    "%%writefile multiplicationEnArbre.c\n",
    "#include <stdio.h>\n",
    "#include <stdlib.h>\n",
    "\n",
    "int main (int argc, char * argv[]) {\n",
    "int i,x,y,xx,xxxx,xxxxxxxx,t,tt,ttt,tttt;\n",
    "if (argc==1)    {i=10;}\n",
    "else {i=atoi(argv[1]);}\n",
    "for(x=0,y=1;i;i--) {\n",
    "    xx=x+x;\n",
    "    t=x+x;\n",
    "    xxxx=xx+xx;\n",
    "    tt=x+x;\n",
    "    xxxxxxxx=xxxx+xxxx;\n",
    "    ttt=x+x;\n",
    "    y=y+xxxxxxxx;    \n",
    "    tttt=x+x;\n",
    "    x=y;}\n",
    "  printf(\"x=%d, y=%d \\n\",x,y);\n",
    "  return 0;}\n"
   ]
  },
  {
   "cell_type": "code",
   "execution_count": 17,
   "metadata": {
    "scrolled": true
   },
   "outputs": [
    {
     "name": "stdout",
     "output_type": "stream",
     "text": [
      "\t.arch armv5t\n",
      "\t.fpu softvfp\n",
      "\t.eabi_attribute 20, 1\n",
      "\t.eabi_attribute 21, 1\n",
      "\t.eabi_attribute 23, 3\n",
      "\t.eabi_attribute 24, 1\n",
      "\t.eabi_attribute 25, 1\n",
      "\t.eabi_attribute 26, 2\n",
      "\t.eabi_attribute 30, 6\n",
      "\t.eabi_attribute 34, 0\n",
      "\t.eabi_attribute 18, 4\n",
      "\t.file\t\"multiplicationEnArbre.c\"\n",
      "\t.section\t.rodata\n",
      "\t.align\t2\n",
      ".LC0:\n",
      "\t.ascii\t\"x=%d, y=%d \\012\\000\"\n",
      "\t.text\n",
      "\t.align\t2\n",
      "\t.global\tmain\n",
      "\t.type\tmain, %function\n",
      "main:\n",
      "\t@ args = 0, pretend = 0, frame = 48\n",
      "\t@ frame_needed = 1, uses_anonymous_args = 0\n",
      "\tstmfd\tsp!, {fp, lr}\n",
      "\tadd\tfp, sp, #4\n",
      "\tsub\tsp, sp, #48\n",
      "\tstr\tr0, [fp, #-48]\n",
      "\tstr\tr1, [fp, #-52]\n",
      "\tldr\tr3, [fp, #-48]\n",
      "\tcmp\tr3, #1\n",
      "\tbne\t.L2\n",
      "\tmov\tr3, #10\n",
      "\tstr\tr3, [fp, #-44]\n",
      "\tb\t.L3\n",
      ".L2:\n",
      "\tldr\tr3, [fp, #-52]\n",
      "\tadd\tr3, r3, #4\n",
      "\tldr\tr3, [r3, #0]\n",
      "\tmov\tr0, r3\n",
      "\tbl\tatoi\n",
      "\tstr\tr0, [fp, #-44]\n",
      ".L3:\n",
      "\tmov\tr3, #0\n",
      "\tstr\tr3, [fp, #-40]\n",
      "\tmov\tr3, #1\n",
      "\tstr\tr3, [fp, #-36]\n",
      "\tb\t.L4\n",
      ".L5:\n",
      "\tldr\tr2, [fp, #-40]\n",
      "\tldr\tr3, [fp, #-40]\n",
      "\tadd\tr3, r2, r3\n",
      "\tstr\tr3, [fp, #-32]\n",
      "\tldr\tr2, [fp, #-40]\n",
      "\tldr\tr3, [fp, #-40]\n",
      "\tadd\tr3, r2, r3\n",
      "\tstr\tr3, [fp, #-28]\n",
      "\tldr\tr2, [fp, #-32]\n",
      "\tldr\tr3, [fp, #-32]\n",
      "\tadd\tr3, r2, r3\n",
      "\tstr\tr3, [fp, #-24]\n",
      "\tldr\tr2, [fp, #-40]\n",
      "\tldr\tr3, [fp, #-40]\n",
      "\tadd\tr3, r2, r3\n",
      "\tstr\tr3, [fp, #-20]\n",
      "\tldr\tr2, [fp, #-24]\n",
      "\tldr\tr3, [fp, #-24]\n",
      "\tadd\tr3, r2, r3\n",
      "\tstr\tr3, [fp, #-16]\n",
      "\tldr\tr2, [fp, #-40]\n",
      "\tldr\tr3, [fp, #-40]\n",
      "\tadd\tr3, r2, r3\n",
      "\tstr\tr3, [fp, #-12]\n",
      "\tldr\tr2, [fp, #-36]\n",
      "\tldr\tr3, [fp, #-16]\n",
      "\tadd\tr3, r2, r3\n",
      "\tstr\tr3, [fp, #-36]\n",
      "\tldr\tr2, [fp, #-40]\n",
      "\tldr\tr3, [fp, #-40]\n",
      "\tadd\tr3, r2, r3\n",
      "\tstr\tr3, [fp, #-8]\n",
      "\tldr\tr3, [fp, #-36]\n",
      "\tstr\tr3, [fp, #-40]\n",
      "\tldr\tr3, [fp, #-44]\n",
      "\tsub\tr3, r3, #1\n",
      "\tstr\tr3, [fp, #-44]\n",
      ".L4:\n",
      "\tldr\tr3, [fp, #-44]\n",
      "\tcmp\tr3, #0\n",
      "\tbne\t.L5\n",
      "\tldr\tr0, .L7\n",
      "\tldr\tr1, [fp, #-40]\n",
      "\tldr\tr2, [fp, #-36]\n",
      "\tbl\tprintf\n",
      "\tmov\tr3, #0\n",
      "\tmov\tr0, r3\n",
      "\tsub\tsp, fp, #4\n",
      "\tldmfd\tsp!, {fp, pc}\n",
      ".L8:\n",
      "\t.align\t2\n",
      ".L7:\n",
      "\t.word\t.LC0\n",
      "\t.size\tmain, .-main\n",
      "\t.ident\t\"GCC: (Ubuntu/Linaro 4.7.3-12ubuntu1) 4.7.3\"\n",
      "\t.section\t.note.GNU-stack,\"\",%progbits\n"
     ]
    }
   ],
   "source": [
    "%%sh\n",
    "arm-linux-gnueabi-gcc -S -static multiplicationEnArbre.c\n",
    "cat multiplicationEnArbre.s"
   ]
  },
  {
   "cell_type": "code",
   "execution_count": 8,
   "metadata": {},
   "outputs": [
    {
     "name": "stdout",
     "output_type": "stream",
     "text": [
      "x=-1027070407, y=-1027070407 \n"
     ]
    },
    {
     "name": "stderr",
     "output_type": "stream",
     "text": [
      "0.64user 0.01system 0:00.66elapsed 98%CPU (0avgtext+0avgdata 4124maxresident)k\n",
      "0inputs+0outputs (0major+1116minor)pagefaults 0swaps\n"
     ]
    }
   ],
   "source": [
    "%%sh\n",
    "arm-linux-gnueabi-gcc -static multiplicationEnArbre.c\n",
    "time qemu-arm a.out 60000000"
   ]
  },
  {
   "cell_type": "markdown",
   "metadata": {},
   "source": [
    "## Arm vs X86 ?\n",
    "\n",
    "Mais est-ce que qemu simule le pipe-line (ou seulement bénéficie d'un pipe-line de la machine ? ou produit un code qui peut en bénéficiér ?) ? Bref, avec qemu, ce n'est pas tout à fait sûr de savoir ce qui se passe. Pour avoir confirmation de ce que l'on a l'impression d'observer regardons en X86 (cette machine est en X86, pas en ARM) pour un langage compilé (il ne faudrait peut-être pas prendre Python ou java pour voir cela)"
   ]
  },
  {
   "cell_type": "code",
   "execution_count": 9,
   "metadata": {},
   "outputs": [
    {
     "name": "stdout",
     "output_type": "stream",
     "text": [
      "x=-1027070407, y=-1027070407 \n"
     ]
    },
    {
     "name": "stderr",
     "output_type": "stream",
     "text": [
      "0.81user 0.01system 0:00.81elapsed 101%CPU (0avgtext+0avgdata 504maxresident)k\n",
      "0inputs+0outputs (0major+157minor)pagefaults 0swaps\n"
     ]
    }
   ],
   "source": [
    "%%sh\n",
    "gcc multiplication.c\n",
    "time ./a.out 60000000"
   ]
  },
  {
   "cell_type": "code",
   "execution_count": 11,
   "metadata": {},
   "outputs": [
    {
     "name": "stdout",
     "output_type": "stream",
     "text": [
      "x=-1027070407, y=-1027070407 \n"
     ]
    },
    {
     "name": "stderr",
     "output_type": "stream",
     "text": [
      "0.50user 0.00system 0:00.50elapsed 99%CPU (0avgtext+0avgdata 504maxresident)k\n",
      "0inputs+0outputs (0major+158minor)pagefaults 0swaps\n"
     ]
    }
   ],
   "source": [
    "%%sh\n",
    "gcc  multiplicationEnArbre.c\n",
    "time ./a.out 60000000"
   ]
  },
  {
   "cell_type": "markdown",
   "metadata": {},
   "source": [
    "## Conclusion \n",
    "\n",
    "On peut ajouter des opérations inutiles et aller plus vite ! (à condition d'améliorer les opérations utiles)  \n",
    "(on peut même enlever ensuite les opérations inutiles, cela risque d'aller encore plus vite, mais c'est normal, cette fois, il y aura moins de calculs et d'accès mémoire à faire)"
   ]
  },
  {
   "cell_type": "code",
   "execution_count": 12,
   "metadata": {},
   "outputs": [
    {
     "name": "stdout",
     "output_type": "stream",
     "text": [
      "Overwriting multiplicationEnArbreDirecte.c\n"
     ]
    }
   ],
   "source": [
    "%%writefile multiplicationEnArbreDirecte.c\n",
    "#include <stdio.h>\n",
    "#include <stdlib.h>\n",
    "\n",
    "int main (int argc, char * argv[]) {\n",
    "int i,x,y,xx,xxxx,xxxxxxxx;\n",
    "if (argc==1)    {i=10;}\n",
    "else {i=atoi(argv[1]);}\n",
    "for(x=0,y=1;i;i--) {\n",
    "    xx=x+x;\n",
    "    xxxx=xx+xx;\n",
    "    xxxxxxxx=xxxx+xxxx;\n",
    "    y=y+xxxxxxxx;    \n",
    "    x=y;}\n",
    "  printf(\"x=%d, y=%d \\n\",x,y);\n",
    "  return 0;}\n"
   ]
  },
  {
   "cell_type": "code",
   "execution_count": 15,
   "metadata": {},
   "outputs": [
    {
     "name": "stdout",
     "output_type": "stream",
     "text": [
      "x=-1027070407, y=-1027070407 \n"
     ]
    },
    {
     "name": "stderr",
     "output_type": "stream",
     "text": [
      "0.51user 0.01system 0:00.53elapsed 99%CPU (0avgtext+0avgdata 4128maxresident)k\n",
      "0inputs+0outputs (0major+1116minor)pagefaults 0swaps\n"
     ]
    }
   ],
   "source": [
    "%%sh\n",
    "arm-linux-gnueabi-gcc -static multiplicationEnArbreDirecte.c\n",
    "time qemu-arm a.out 60000000"
   ]
  },
  {
   "cell_type": "code",
   "execution_count": 17,
   "metadata": {},
   "outputs": [
    {
     "name": "stdout",
     "output_type": "stream",
     "text": [
      "x=-1027070407, y=-1027070407 \n"
     ]
    },
    {
     "name": "stderr",
     "output_type": "stream",
     "text": [
      "0.54user 0.00system 0:00.54elapsed 100%CPU (0avgtext+0avgdata 504maxresident)k\n",
      "0inputs+0outputs (0major+155minor)pagefaults 0swaps\n"
     ]
    }
   ],
   "source": [
    "%%sh\n",
    "gcc  multiplicationEnArbreDirecte.c\n",
    "time ./a.out 60000000"
   ]
  }
 ],
 "metadata": {
  "kernelspec": {
   "display_name": "Python 3",
   "language": "python",
   "name": "python3"
  },
  "language_info": {
   "codemirror_mode": {
    "name": "ipython",
    "version": 3
   },
   "file_extension": ".py",
   "mimetype": "text/x-python",
   "name": "python",
   "nbconvert_exporter": "python",
   "pygments_lexer": "ipython3",
   "version": "3.4.3"
  }
 },
 "nbformat": 4,
 "nbformat_minor": 2
}
