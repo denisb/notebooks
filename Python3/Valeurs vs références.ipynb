{
 "cells": [
  {
   "cell_type": "markdown",
   "metadata": {},
   "source": [
    "# Valeurs et références\n",
    "\n",
    "Une variable, c'est un nom, une valeur associée d'un certains type et un endroit dans la machine où se trouve cette valeur (son adresse). Lors d'une affectation \"a <- b\", à gauche \"a\" sert à donner une adresse, à droite \"b\" sert à donner une valeur ; l'affectation sert à mettre à l'adresse associée à \"b\" la valeur associée à \"a\".\n",
    "\n",
    "Simple.\n",
    "\n",
    "Et si on change par la suite la valeur de \"a\", alors \"b\" n'est pas modifié :"
   ]
  },
  {
   "cell_type": "code",
   "execution_count": 8,
   "metadata": {},
   "outputs": [
    {
     "name": "stdout",
     "output_type": "stream",
     "text": [
      "zero_deviendra_un= 1  autre_zero= 0\n"
     ]
    }
   ],
   "source": [
    "zero_deviendra_un=0\n",
    "autre_zero=zero_deviendra_un\n",
    "zero_deviendra_un=1\n",
    "print(\"zero_deviendra_un=\",zero_deviendra_un,\" autre_zero=\",autre_zero)"
   ]
  },
  {
   "cell_type": "markdown",
   "metadata": {},
   "source": [
    "Pour un tableau, c'est pareil, il y a un nom, une valeur et un endroit où se trouve le tableau (son adresse). Cependant, à un niveau élémentaire si l'on regarde à l'adresse il n'y a que le début du tableau, il faut voir les adresses suivantes pour trouver le reste du tableau. C'est le rôle des indices de tableau de fixer les adresses de chaque élément de tableau. En soi, la valeur associée à un nom de tableau, c'est juste l'adresse du début du tableau. Et pour avoir le premier éléments, il faut préciser l'indice de cet élément (souvent l'indice 0, parfois 1, plus rarement autre chose).\n",
    "\n",
    "Si on change la valeur du premier élément de tableau, on obtient le même comportement que dans l'exécution précédente :"
   ]
  },
  {
   "cell_type": "code",
   "execution_count": 9,
   "metadata": {},
   "outputs": [
    {
     "name": "stdout",
     "output_type": "stream",
     "text": [
      "tableau[0]= 1  autre_tableau[0]= 0\n"
     ]
    }
   ],
   "source": [
    "tableau=[0]\n",
    "autre_tableau=[-1]\n",
    "autre_tableau[0]=tableau[0]\n",
    "tableau[0]=1\n",
    "print(\"tableau[0]=\",tableau[0],\" autre_tableau[0]=\",autre_tableau[0])"
   ]
  },
  {
   "cell_type": "markdown",
   "metadata": {},
   "source": [
    "Par contre, si on fait des affectations de tableau, il se passe autre chose :"
   ]
  },
  {
   "cell_type": "code",
   "execution_count": 10,
   "metadata": {},
   "outputs": [
    {
     "name": "stdout",
     "output_type": "stream",
     "text": [
      "tableau[0]= 1  autre_tableau[0]= 1\n"
     ]
    }
   ],
   "source": [
    "tableau=[0]\n",
    "autre_tableau=tableau\n",
    "tableau[0]=1\n",
    "print(\"tableau[0]=\",tableau[0],\" autre_tableau[0]=\",autre_tableau[0])"
   ]
  },
  {
   "cell_type": "markdown",
   "metadata": {},
   "source": [
    "Le changement de valeur du premier élément de \"tableau\" affecte la valeur associée au premier élément de \"autre_tableau\". En effet, l'affectation \"autre_tableau<-tableau\" a associé au nom \"autre_tableau\" la valeur associée au nom \"tableau\", c'est à dire l'adresse du début du tableau. Aussi, la valeur associée au premier élément de \"tableau\" se trouve au même endroit que la valeur associée au premier élément de \"autre_tableau\", l'un et l'autre sont au même endroit, ils partagent la même valeur. L'affectation de tableau entraine un partage des valeurs, après une affectation de tableau (affectation globale, pas affectation d'un élément de tableau), il y a partage des références associées.\n",
    "\n",
    "Donc attention, parfois donner une valeur (via une variable), c'est juste donner une valeur (cas des entiers, des caractères, ...), parfois c'est donner une référence ...(cas des tableaux, des dictionnaires, ...) et quand il y a partage de référence, changer d'un coté, c'est changer de l'autre.\n",
    "\n",
    "Cela entraine les comportements suivants :"
   ]
  },
  {
   "cell_type": "code",
   "execution_count": 33,
   "metadata": {},
   "outputs": [
    {
     "name": "stdout",
     "output_type": "stream",
     "text": [
      "tableau_de_0= [[1], [1], [1]]\n"
     ]
    }
   ],
   "source": [
    "zero=[0]\n",
    "tableau_de_0=[zero,zero,zero]\n",
    "zero[0]=1\n",
    "print(\"tableau_de_0=\",tableau_de_0)"
   ]
  },
  {
   "cell_type": "markdown",
   "metadata": {},
   "source": [
    "et même : "
   ]
  },
  {
   "cell_type": "code",
   "execution_count": 35,
   "metadata": {},
   "outputs": [
    {
     "name": "stdout",
     "output_type": "stream",
     "text": [
      "tableau_de_0= [[1], [1], [1]]  car zero= [1]\n"
     ]
    }
   ],
   "source": [
    "zero=[0]\n",
    "tableau_de_0=[zero,zero,zero]\n",
    "tableau_de_0[0][0]=1\n",
    "print(\"tableau_de_0=\",tableau_de_0,\" car zero=\",zero)"
   ]
  },
  {
   "cell_type": "markdown",
   "metadata": {},
   "source": [
    "ou encore"
   ]
  },
  {
   "cell_type": "code",
   "execution_count": 38,
   "metadata": {},
   "outputs": [
    {
     "name": "stdout",
     "output_type": "stream",
     "text": [
      "tableau_de_0= [[1], [1], [1]]  car zero= [1]\n"
     ]
    }
   ],
   "source": [
    "def init_tableau(z):\n",
    "    return [z,z,z]\n",
    "\n",
    "zero=[0]\n",
    "tableau_de_0=init_tableau(zero)\n",
    "zero[0]=1\n",
    "print(\"tableau_de_0=\",tableau_de_0,\" car zero=\",zero)"
   ]
  },
  {
   "cell_type": "markdown",
   "metadata": {},
   "source": [
    "mais attention, on peut aussi avoir :"
   ]
  },
  {
   "cell_type": "code",
   "execution_count": 41,
   "metadata": {},
   "outputs": [
    {
     "name": "stdout",
     "output_type": "stream",
     "text": [
      "tableau_de_0= [[0], [0], [0]]  avec zero= [1]\n"
     ]
    }
   ],
   "source": [
    "zero=[0]\n",
    "tableau_de_0=[zero,zero,zero]\n",
    "zero=[1]\n",
    "print(\"tableau_de_0=\",tableau_de_0,\" avec zero=\",zero)"
   ]
  },
  {
   "cell_type": "markdown",
   "metadata": {},
   "source": [
    "car, ici l'affectation de \"zero\" a été globale, un nouveau emplacement a été associé à \"zero\". Entre \"zero\" et \"tableau_de_0\" il n'y a plus de lien, pas de partage de référence.\n",
    "\n",
    "Parfois, cela peut être étonnant car il n'y a pas d'objet nommé, juste un objet anonyme :"
   ]
  },
  {
   "cell_type": "code",
   "execution_count": 6,
   "metadata": {},
   "outputs": [
    {
     "name": "stdout",
     "output_type": "stream",
     "text": [
      "tableau_de_0 avant = [[0], [0], [0]]\n",
      "tableau_de_0 après = [[1], [1], [1]]\n"
     ]
    }
   ],
   "source": [
    "def init_tableau(z):\n",
    "    return [z,z,z]\n",
    "\n",
    "tableau_de_0=init_tableau([0])\n",
    "print(\"tableau_de_0 avant =\",tableau_de_0)\n",
    "tableau_de_0[0][0]=1 \n",
    "print(\"tableau_de_0 après =\",tableau_de_0)"
   ]
  },
  {
   "cell_type": "markdown",
   "metadata": {},
   "source": [
    "Comment éviter le partage de référence suivant :"
   ]
  },
  {
   "cell_type": "code",
   "execution_count": 1,
   "metadata": {},
   "outputs": [
    {
     "name": "stdout",
     "output_type": "stream",
     "text": [
      "tableau[0]= 1  autre_tableau[0]= 1\n"
     ]
    }
   ],
   "source": [
    "tableau=[0]\n",
    "autre_tableau=tableau\n",
    "tableau[0]=1\n",
    "print(\"tableau[0]=\",tableau[0],\" autre_tableau[0]=\",autre_tableau[0])"
   ]
  },
  {
   "cell_type": "markdown",
   "metadata": {},
   "source": [
    "L'affectation globale était \"simple\", juste une affectation d'adresse, mais qui entrainait le partage des éléments à cet adresse. Pour éviter le partage de référence, il faut faire une copie des éléments ailleur, cela va être beaucoup plus couteux, ce n'est pas juste une adresse qui change.\n",
    "\n",
    "Heureusement, il y a une fonction qui fait cela, au coùt d'une duplication de tous les termes :"
   ]
  },
  {
   "cell_type": "code",
   "execution_count": 43,
   "metadata": {},
   "outputs": [
    {
     "name": "stdout",
     "output_type": "stream",
     "text": [
      "tableau[0]= 1  autre_tableau[0]= 0\n"
     ]
    }
   ],
   "source": [
    "import copy\n",
    "\n",
    "tableau=[0]\n",
    "autre_tableau=copy.deepcopy(tableau)\n",
    "tableau[0]=1\n",
    "print(\"tableau[0]=\",tableau[0],\" autre_tableau[0]=\",autre_tableau[0])"
   ]
  },
  {
   "cell_type": "markdown",
   "metadata": {},
   "source": [
    "Conclusion : à l'avenir, faire attention aux objects composés, leur valeur c'est une adresse, connaitre/donner cette adresse c'est connaitre/donner l'adresse des objets associés, c'est partager leur valeur ; si l'on veut éviter le partage de références il faut faire une copie. Reste à savoir si l'on veut faire des copies ou partager, et quand on change des données composées, faut-il changer les données sur place (qui modifie tous les variables partageant ces références) ou en produisant une nouvelle version de ces objets (pour que les variables qui partageaient ces références ne soient pas affectées)\n",
    "\n",
    "remarque : tout ceci n'est pas particulièrement lié à Python, la notion de valeur / référence est présente dans de nombreux langages de programmation.\n",
    "\n",
    "À l'inverse, il y a des langages de programmation où la notion de variable est plus réduite : les langages fonctionnels (Erlang, ou d'autres langages comme ProLog), dans ces langages on ne peut pas modifier une valeur (c'est comme pour les objets immutables), impossible de faire  n++ ... une fois qu'une variable a pris une valeur, elle ne peut en changer ; dans ces condition, il est beaucoup plus rare que le partage de référence introduise des problèmes."
   ]
  }
 ],
 "metadata": {
  "kernelspec": {
   "display_name": "Python 3",
   "language": "python",
   "name": "python3"
  },
  "language_info": {
   "codemirror_mode": {
    "name": "ipython",
    "version": 3
   },
   "file_extension": ".py",
   "mimetype": "text/x-python",
   "name": "python",
   "nbconvert_exporter": "python",
   "pygments_lexer": "ipython3",
   "version": "3.4.3"
  }
 },
 "nbformat": 4,
 "nbformat_minor": 2
}
