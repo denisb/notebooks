{
 "cells": [
  {
   "cell_type": "markdown",
   "metadata": {
    "toc": true
   },
   "source": [
    "<h1>Table of Contents<span class=\"tocSkip\"></span></h1>\n",
    "<div class=\"toc\"><ul class=\"toc-item\"><li><span><a href=\"#Somme-des-1/N\" data-toc-modified-id=\"Somme-des-1/N-1\"><span class=\"toc-item-num\">1&nbsp;&nbsp;</span>Somme des 1/N</a></span></li><li><span><a href=\"#Somme-des-1/N^i\" data-toc-modified-id=\"Somme-des-1/N^i-2\"><span class=\"toc-item-num\">2&nbsp;&nbsp;</span>Somme des 1/N^i</a></span></li><li><span><a href=\"#Produit-des-sommes-de-1/N^n\" data-toc-modified-id=\"Produit-des-sommes-de-1/N^n-3\"><span class=\"toc-item-num\">3&nbsp;&nbsp;</span>Produit des sommes de 1/N^n</a></span></li><li><span><a href=\"#Conclusion\" data-toc-modified-id=\"Conclusion-4\"><span class=\"toc-item-num\">4&nbsp;&nbsp;</span>Conclusion</a></span></li></ul></div>"
   ]
  },
  {
   "cell_type": "markdown",
   "metadata": {},
   "source": [
    "# Sommes infinies\n",
    "\n",
    "A vérifier : $1+\\frac{1}{2}+\\frac{1}{3}+\\frac{1}{4}+\\frac{1}{5}+...=(1+\\frac{1}{2}+\\frac{1}{4}+\\frac{1}{8}+...)(1+\\frac{1}{3}+\\frac{1}{9}+\\frac{1}{27}+....)(1+\\frac{1}{5}+\\frac{1}{25}+\\frac{1}{125}+...)...$\n",
    "\n",
    "\n",
    "Sachant que la première somme est connue pour diverger (vers $+\\infty$) \n",
    "\n",
    "Et que le produit en second (produit infini de sommes infinies de puissances inverses de nombres premiers seulement) diverge également vers $+\\infty$ (est-ce une raison pour dire que les deux termes sont égaux ? non, mais bref ... \\[c'est une autre histoire])"
   ]
  },
  {
   "cell_type": "markdown",
   "metadata": {},
   "source": [
    "## Somme des 1/N\n",
    "\n",
    "Commençons par calculer la somme des $\\frac{1}{N}$, en s'arrétant quand l'ajout d'un $\\frac{1}{N}$ ne change plus la somme.\n",
    " \n",
    "*n.b. : pour que les calculs s'effectuent en un temps raisonnable, avec un peu de précision pour autant, on fera les calculs en 32 bits (seulement)*"
   ]
  },
  {
   "cell_type": "code",
   "execution_count": 55,
   "metadata": {
    "ExecuteTime": {
     "end_time": "2019-10-08T13:39:59.984889Z",
     "start_time": "2019-10-08T13:39:59.978916Z"
    }
   },
   "outputs": [],
   "source": [
    "import array\n",
    "\n",
    "def versFloat(v):\n",
    "    t = array.array('f')\n",
    "    t.append(v)\n",
    "    return t[0]"
   ]
  },
  {
   "cell_type": "markdown",
   "metadata": {},
   "source": [
    "en 32 bits, par exemple, la différence entre 0.1 (codé sur 32 bits selon la norme IEEE 754) et la valeur 0.1 est de l'ordre de $10^{-9}$ (il y a 23+1 bits significatifs, 1 bit de signe, 8 bits d'exposant)"
   ]
  },
  {
   "cell_type": "code",
   "execution_count": 56,
   "metadata": {
    "ExecuteTime": {
     "end_time": "2019-10-08T13:40:02.704651Z",
     "start_time": "2019-10-08T13:40:02.698966Z"
    }
   },
   "outputs": [
    {
     "data": {
      "text/plain": [
       "1.4901161138336505e-09"
      ]
     },
     "execution_count": 56,
     "metadata": {},
     "output_type": "execute_result"
    }
   ],
   "source": [
    "versFloat(0.1)-0.1"
   ]
  },
  {
   "cell_type": "code",
   "execution_count": 86,
   "metadata": {
    "ExecuteTime": {
     "end_time": "2019-10-08T13:56:12.750289Z",
     "start_time": "2019-10-08T13:56:11.522872Z"
    }
   },
   "outputs": [
    {
     "name": "stdout",
     "output_type": "stream",
     "text": [
      "la somme vaut  15.903690338134766 au bout de  2097152 calculs (l'élément suivant est négligé par le calcul sur 32 bits)\n"
     ]
    }
   ],
   "source": [
    "S=versFloat(1.0)\n",
    "N=1\n",
    "S_=versFloat(S+1.0/(N+1.0))\n",
    "while S!=S_:\n",
    "    S=S_\n",
    "    S_=versFloat(S+1.0/(N+1))\n",
    "    N=N+1\n",
    "print(\"la somme vaut \",S,\"au bout de \",N,\"calculs (l'élément suivant est négligé par le calcul sur 32 bits)\")"
   ]
  },
  {
   "cell_type": "markdown",
   "metadata": {},
   "source": [
    "La somme qui devait diverger vers $+\\infty$ échoue à 15.9 (à peu près)"
   ]
  },
  {
   "cell_type": "markdown",
   "metadata": {},
   "source": [
    "## Somme des 1/N^i\n",
    "\n",
    "Calculons maintenant l'une des sommes $1+\\frac{1}{N}+\\frac{1}{N^2}+\\frac{1}{N^3}+...$"
   ]
  },
  {
   "cell_type": "code",
   "execution_count": 87,
   "metadata": {
    "ExecuteTime": {
     "end_time": "2019-10-08T13:57:06.714460Z",
     "start_time": "2019-10-08T13:57:06.708069Z"
    }
   },
   "outputs": [],
   "source": [
    "def sommeDes1SurNPuisI(N):\n",
    "    S=versFloat(1.0)\n",
    "    M = N\n",
    "    S_=versFloat(S+1.0/M)\n",
    "    while S!=S_:\n",
    "        S=S_\n",
    "        M=M*N\n",
    "        S_=versFloat(S+1.0/M)\n",
    "    return S"
   ]
  },
  {
   "cell_type": "markdown",
   "metadata": {},
   "source": [
    "Les premières sommes ne sont pas trop mauvaises :"
   ]
  },
  {
   "cell_type": "code",
   "execution_count": 88,
   "metadata": {
    "ExecuteTime": {
     "end_time": "2019-10-08T13:57:10.342565Z",
     "start_time": "2019-10-08T13:57:10.335125Z"
    }
   },
   "outputs": [
    {
     "data": {
      "text/plain": [
       "2.0"
      ]
     },
     "execution_count": 88,
     "metadata": {},
     "output_type": "execute_result"
    }
   ],
   "source": [
    "sommeDes1SurNPuisI(2)"
   ]
  },
  {
   "cell_type": "code",
   "execution_count": 89,
   "metadata": {
    "ExecuteTime": {
     "end_time": "2019-10-08T13:57:12.201069Z",
     "start_time": "2019-10-08T13:57:12.195266Z"
    }
   },
   "outputs": [
    {
     "data": {
      "text/plain": [
       "1.5000001192092896"
      ]
     },
     "execution_count": 89,
     "metadata": {},
     "output_type": "execute_result"
    }
   ],
   "source": [
    "sommeDes1SurNPuisI(3)"
   ]
  },
  {
   "cell_type": "code",
   "execution_count": 90,
   "metadata": {
    "ExecuteTime": {
     "end_time": "2019-10-08T13:57:35.900657Z",
     "start_time": "2019-10-08T13:57:35.893774Z"
    }
   },
   "outputs": [
    {
     "data": {
      "text/plain": [
       "1.3333332538604736"
      ]
     },
     "execution_count": 90,
     "metadata": {},
     "output_type": "execute_result"
    }
   ],
   "source": [
    "sommeDes1SurNPuisI(4)"
   ]
  },
  {
   "cell_type": "code",
   "execution_count": 91,
   "metadata": {
    "ExecuteTime": {
     "end_time": "2019-10-08T13:57:38.312852Z",
     "start_time": "2019-10-08T13:57:38.307150Z"
    }
   },
   "outputs": [
    {
     "data": {
      "text/plain": [
       "1.2499998807907104"
      ]
     },
     "execution_count": 91,
     "metadata": {},
     "output_type": "execute_result"
    }
   ],
   "source": [
    "sommeDes1SurNPuisI(5)"
   ]
  },
  {
   "cell_type": "markdown",
   "metadata": {},
   "source": [
    "Mais au bout d'un certains temps, il est clair que la somme stagne à 1 ."
   ]
  },
  {
   "cell_type": "code",
   "execution_count": 92,
   "metadata": {
    "ExecuteTime": {
     "end_time": "2019-10-08T13:57:55.500898Z",
     "start_time": "2019-10-08T13:57:55.494037Z"
    }
   },
   "outputs": [
    {
     "data": {
      "text/plain": [
       "1.0"
      ]
     },
     "execution_count": 92,
     "metadata": {},
     "output_type": "execute_result"
    }
   ],
   "source": [
    "sommeDes1SurNPuisI(17000000)"
   ]
  },
  {
   "cell_type": "markdown",
   "metadata": {},
   "source": [
    "## Produit des sommes de 1/N^n\n",
    "\n",
    "Calculons maintenant le produit infini des sommes précédentes.\n",
    "\n",
    "Pour cela, il faut pouvoir lister les nombres premiers (on ne fait le produit que des sommes de 1/N^n avec N premier).\n",
    "\n",
    "J'ajoute donc un petit test de primalité :"
   ]
  },
  {
   "cell_type": "code",
   "execution_count": 93,
   "metadata": {
    "ExecuteTime": {
     "end_time": "2019-10-08T14:11:48.678678Z",
     "start_time": "2019-10-08T14:11:48.668972Z"
    }
   },
   "outputs": [],
   "source": [
    "def estPremier(N):\n",
    "  if N<=10:\n",
    "    return (N==2)or(N==3)or(N==5)or(N==7)        \n",
    "  if N%2 == 0 : \n",
    "    return False\n",
    "  if N%3 == 0 : \n",
    "    return False\n",
    "  if N%5 == 0 : \n",
    "    return False\n",
    "  if N%7 == 0 : \n",
    "    return False\n",
    "  VN = int(N**0.5)\n",
    "  D = 11\n",
    "  while D <= VN:\n",
    "    if N%D == 0 : \n",
    "        return False\n",
    "    if N%(D+2) == 0: \n",
    "        return False\n",
    "    D = D+6\n",
    "  return True   "
   ]
  },
  {
   "cell_type": "markdown",
   "metadata": {},
   "source": [
    "Test rapide de la primalité :"
   ]
  },
  {
   "cell_type": "code",
   "execution_count": 72,
   "metadata": {
    "ExecuteTime": {
     "end_time": "2019-09-27T13:47:30.710563Z",
     "start_time": "2019-09-27T13:47:30.702993Z"
    }
   },
   "outputs": [
    {
     "data": {
      "text/plain": [
       "True"
      ]
     },
     "execution_count": 72,
     "metadata": {},
     "output_type": "execute_result"
    }
   ],
   "source": [
    "estPremier(113)"
   ]
  },
  {
   "cell_type": "code",
   "execution_count": 73,
   "metadata": {
    "ExecuteTime": {
     "end_time": "2019-09-27T13:47:34.421968Z",
     "start_time": "2019-09-27T13:47:34.414988Z"
    }
   },
   "outputs": [
    {
     "data": {
      "text/plain": [
       "False"
      ]
     },
     "execution_count": 73,
     "metadata": {},
     "output_type": "execute_result"
    }
   ],
   "source": [
    "estPremier(333)"
   ]
  },
  {
   "cell_type": "code",
   "execution_count": 94,
   "metadata": {
    "ExecuteTime": {
     "end_time": "2019-10-08T14:13:16.566454Z",
     "start_time": "2019-10-08T14:11:53.131167Z"
    }
   },
   "outputs": [
    {
     "name": "stdout",
     "output_type": "stream",
     "text": [
      "le produit vaut  30.118309435557457 au bout de  16777259 calculs (l'élément suivant est négligé par le calcul sur 32 bits)\n"
     ]
    }
   ],
   "source": [
    "S=sommeDes1SurNPuisI(2)\n",
    "N=3\n",
    "S_=S*sommeDes1SurNPuisI(N)\n",
    "while S!=S_:\n",
    "    S=S_\n",
    "    N=N+1\n",
    "    while not(estPremier(N)):\n",
    "        N=N+1\n",
    "    S_=S*sommeDes1SurNPuisI(N)\n",
    "print(\"le produit vaut \",S,\"au bout de \",N,\"calculs (l'élément suivant est négligé par le calcul sur 32 bits)\")"
   ]
  },
  {
   "cell_type": "markdown",
   "metadata": {},
   "source": [
    "## Conclusion\n",
    "\n",
    "En 32 bits, avec ces calculs \"simples\" :\n",
    "* $1+\\frac{1}{2}+\\frac{1}{3}+\\frac{1}{4}+\\frac{1}{5}+... = 16 \\pm \\epsilon$\n",
    "* $(1+\\frac{1}{2}+\\frac{1}{4}+\\frac{1}{8}+...)(1+\\frac{1}{3}+\\frac{1}{9}+\\frac{1}{27}+....)(1+\\frac{1}{5}+\\frac{1}{25}+\\frac{1}{125}+...)...=30 \\pm \\epsilon$\n",
    "\n",
    "Ce n'est pas vraiment la même chose ... (mais on n'est pas si loin)\n",
    "\n",
    "*remarque : on aurait pu faire de meilleurs calculs \\[par exemple en regroupant les termes quand ils deviennent trop petits], est-ce que l'on serait arriver à montrer que ce sont des sommes infinies, peut-être, mais alors on aurait eu du mal à dire qu'elles sont vraiment égales.*"
   ]
  }
 ],
 "metadata": {
  "kernelspec": {
   "display_name": "Python 3",
   "language": "python",
   "name": "python3"
  },
  "language_info": {
   "codemirror_mode": {
    "name": "ipython",
    "version": 3
   },
   "file_extension": ".py",
   "mimetype": "text/x-python",
   "name": "python",
   "nbconvert_exporter": "python",
   "pygments_lexer": "ipython3",
   "version": "3.7.1"
  },
  "toc": {
   "base_numbering": 1,
   "nav_menu": {},
   "number_sections": true,
   "sideBar": false,
   "skip_h1_title": true,
   "title_cell": "Table of Contents",
   "title_sidebar": "Contents",
   "toc_cell": true,
   "toc_position": {},
   "toc_section_display": true,
   "toc_window_display": false
  },
  "varInspector": {
   "cols": {
    "lenName": 16,
    "lenType": 16,
    "lenVar": 40
   },
   "kernels_config": {
    "python": {
     "delete_cmd_postfix": "",
     "delete_cmd_prefix": "del ",
     "library": "var_list.py",
     "varRefreshCmd": "print(var_dic_list())"
    },
    "r": {
     "delete_cmd_postfix": ") ",
     "delete_cmd_prefix": "rm(",
     "library": "var_list.r",
     "varRefreshCmd": "cat(var_dic_list()) "
    }
   },
   "types_to_exclude": [
    "module",
    "function",
    "builtin_function_or_method",
    "instance",
    "_Feature"
   ],
   "window_display": false
  }
 },
 "nbformat": 4,
 "nbformat_minor": 2
}
