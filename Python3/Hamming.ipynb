{
 "cells": [
  {
   "cell_type": "markdown",
   "metadata": {
    "toc": true
   },
   "source": [
    "<h1>Table of Contents<span class=\"tocSkip\"></span></h1>\n",
    "<div class=\"toc\"><ul class=\"toc-item\"><li><span><a href=\"#Distance-de-Hamming\" data-toc-modified-id=\"Distance-de-Hamming-1\"><span class=\"toc-item-num\">1&nbsp;&nbsp;</span>Distance de Hamming</a></span></li><li><span><a href=\"#Code-de-Hamming-(de-distance-K)\" data-toc-modified-id=\"Code-de-Hamming-(de-distance-K)-2\"><span class=\"toc-item-num\">2&nbsp;&nbsp;</span>Code de Hamming (de distance K)</a></span></li></ul></div>"
   ]
  },
  {
   "cell_type": "markdown",
   "metadata": {},
   "source": [
    "# Code de Hamming\n",
    "\n",
    "## Distance de Hamming\n",
    "\n",
    "Entre deux séquences de même longueur, la distance de Hamming est le nombre de différences entre les deux séquences.\n",
    "\n",
    "Entre deux nombres, pour ce qui nous concerne, on regardera la distance de Hamming entre les écritures de ces deux nombres en binaire."
   ]
  },
  {
   "cell_type": "code",
   "execution_count": 1,
   "metadata": {
    "ExecuteTime": {
     "end_time": "2019-10-09T07:25:26.400199Z",
     "start_time": "2019-10-09T07:25:26.393627Z"
    }
   },
   "outputs": [],
   "source": [
    "def distanceHamming(N,M):\n",
    "    i=1\n",
    "    d=0\n",
    "    while (i<N) or (i<M):\n",
    "        d=d+((i&N)!=(i&M))\n",
    "        i=i*2\n",
    "    return d"
   ]
  },
  {
   "cell_type": "code",
   "execution_count": 3,
   "metadata": {
    "ExecuteTime": {
     "end_time": "2019-10-09T07:26:05.359824Z",
     "start_time": "2019-10-09T07:26:05.353903Z"
    }
   },
   "outputs": [
    {
     "data": {
      "text/plain": [
       "4"
      ]
     },
     "execution_count": 3,
     "metadata": {},
     "output_type": "execute_result"
    }
   ],
   "source": [
    "distanceHamming(51,15)"
   ]
  },
  {
   "cell_type": "markdown",
   "metadata": {},
   "source": [
    "## Code de Hamming (de distance K)\n",
    "\n",
    "En partant de 0, on va chercher à construire une suite de nombres tel que la distance entre tous ces nombres est une constante (K). "
   ]
  },
  {
   "cell_type": "code",
   "execution_count": 17,
   "metadata": {
    "ExecuteTime": {
     "end_time": "2019-10-09T07:43:06.536032Z",
     "start_time": "2019-10-09T07:43:06.528574Z"
    }
   },
   "outputs": [],
   "source": [
    "def codeHamming(K,N):\n",
    "    code=[]\n",
    "    code.append(0)\n",
    "    i=1\n",
    "    while (len(code)<N):\n",
    "        ok = True\n",
    "        for j in code:\n",
    "            if distanceHamming(i,j)<K:\n",
    "                ok=False\n",
    "                break\n",
    "        if ok:\n",
    "            code.append(i)\n",
    "        i=i+1\n",
    "    return code"
   ]
  },
  {
   "cell_type": "code",
   "execution_count": 35,
   "metadata": {
    "ExecuteTime": {
     "end_time": "2019-10-09T08:13:00.485337Z",
     "start_time": "2019-10-09T08:13:00.476449Z"
    }
   },
   "outputs": [
    {
     "data": {
      "text/plain": [
       "[0, 15, 51, 60, 85, 90, 102, 105, 150, 153, 165, 170, 195, 204, 240, 255]"
      ]
     },
     "execution_count": 35,
     "metadata": {},
     "output_type": "execute_result"
    }
   ],
   "source": [
    "codeHamming(4,16)"
   ]
  }
 ],
 "metadata": {
  "kernelspec": {
   "display_name": "Python 3",
   "language": "python",
   "name": "python3"
  },
  "language_info": {
   "codemirror_mode": {
    "name": "ipython",
    "version": 3
   },
   "file_extension": ".py",
   "mimetype": "text/x-python",
   "name": "python",
   "nbconvert_exporter": "python",
   "pygments_lexer": "ipython3",
   "version": "3.7.1"
  },
  "toc": {
   "base_numbering": 1,
   "nav_menu": {},
   "number_sections": true,
   "sideBar": false,
   "skip_h1_title": true,
   "title_cell": "Table of Contents",
   "title_sidebar": "Contents",
   "toc_cell": true,
   "toc_position": {},
   "toc_section_display": true,
   "toc_window_display": false
  },
  "varInspector": {
   "cols": {
    "lenName": 16,
    "lenType": 16,
    "lenVar": 40
   },
   "kernels_config": {
    "python": {
     "delete_cmd_postfix": "",
     "delete_cmd_prefix": "del ",
     "library": "var_list.py",
     "varRefreshCmd": "print(var_dic_list())"
    },
    "r": {
     "delete_cmd_postfix": ") ",
     "delete_cmd_prefix": "rm(",
     "library": "var_list.r",
     "varRefreshCmd": "cat(var_dic_list()) "
    }
   },
   "types_to_exclude": [
    "module",
    "function",
    "builtin_function_or_method",
    "instance",
    "_Feature"
   ],
   "window_display": false
  }
 },
 "nbformat": 4,
 "nbformat_minor": 2
}
