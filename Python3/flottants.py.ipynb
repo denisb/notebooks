{
 "cells": [
  {
   "cell_type": "markdown",
   "metadata": {},
   "source": [
    "# Sur les nombres à virgule \\[flottante\\] ...\n",
    "\n",
    "La plupart des languages de programmation ont deux systèmes de nombres : \n",
    "* un système pour les nombres entiers (représentés en base 2) et \n",
    "* un système pour les nombres à virgule (représentés selon la norme IEEE 754)\n",
    "\n",
    "Dans cette note, je regarderais les nombres à virgule \\[flottante\\]. \n",
    "\n",
    "C'est une expérience similaire à faire 1/3 + 1/3 + 1/3 en base 10 : 0.333... + 0.333.... + 0.333... = 0.999... que l'on peut faire avec ces nombres :"
   ]
  },
  {
   "cell_type": "code",
   "execution_count": 4,
   "metadata": {},
   "outputs": [
    {
     "data": {
      "text/plain": [
       "0.9999999999999999"
      ]
     },
     "execution_count": 4,
     "metadata": {},
     "output_type": "execute_result"
    }
   ],
   "source": [
    "0.1+0.1+0.1+0.1+0.1+0.1+0.1+0.1+0.1+0.1"
   ]
  },
  {
   "cell_type": "markdown",
   "metadata": {},
   "source": [
    "Si l'on regarde de plus près, l'erreur se produit pour 0.1, mais aussi pour d'autres nombres :"
   ]
  },
  {
   "cell_type": "code",
   "execution_count": 6,
   "metadata": {},
   "outputs": [
    {
     "name": "stdout",
     "output_type": "stream",
     "text": [
      "0.1 + 0.1 + ... +  0.1 = 0.9999999999999999\n",
      "0.2 + 0.2 + ... +  0.2 = 1.9999999999999998\n",
      "0.3 + 0.3 + ... +  0.3 = 2.9999999999999996\n",
      "0.4 + 0.4 + ... +  0.4 = 3.9999999999999996\n",
      "0.5 + 0.5 + ... +  0.5 = 5.0\n",
      "0.6 + 0.6 + ... +  0.6 = 5.999999999999999\n",
      "0.7 + 0.7 + ... +  0.7 = 7.000000000000001\n",
      "0.8 + 0.8 + ... +  0.8 = 7.999999999999999\n",
      "0.9 + 0.9 + ... +  0.9 = 9.000000000000002\n"
     ]
    }
   ],
   "source": [
    "l=[0.1,0.2,0.3,0.4,0.5,0.6,0.7,0.8,0.9]\n",
    "for e in l:\n",
    "    s = 0\n",
    "    for i in range(10):\n",
    "        s = s + e\n",
    "    print(e, \"+\", e , \"+ ... + \", e, \"=\", s)"
   ]
  },
  {
   "cell_type": "markdown",
   "metadata": {},
   "source": [
    "Finalement, le plus étrange, c'est pour 0.5, le calcul est juste. Est-ce par hasard ? \n",
    "\n",
    "En fait, non. Tout comme 1/3 a une écriture infinie en base 10, mais 0.1 a une écriture finie en base 10 ; le nombre 0.1 a une écriture infinie en base 2 (si l'on prends les nombres après la virgule sur lesquels se fonde la norme IEEE 754) mais contre 0.5 a une écriture finie en  base 2 : 0.5 c'est $2^{-1}$, donc en base 2 cela s'ecrit 0.1|$_{base_2}$.\n",
    "\n",
    "Revenons à 0.1 et aux autres nombres ...\n",
    "\n",
    "Il y a un autre calcul que l'on peut faire pour voir à quel point le calcul peut être juste ou pas :"
   ]
  },
  {
   "cell_type": "code",
   "execution_count": 32,
   "metadata": {},
   "outputs": [
    {
     "name": "stdout",
     "output_type": "stream",
     "text": [
      "0.1 + 0.1  =  0.2\n",
      "0.1 + 0.1 + 0.1  =  0.30000000000000004\n",
      "0.1 + 0.1 + 0.1 + 0.1  =  0.4\n",
      "0.1 + 0.1 + 0.1 + 0.1 + 0.1  =  0.5\n",
      "0.1 + 0.1 + 0.1 + 0.1 + 0.1 + 0.1  =  0.6\n",
      "0.1 + 0.1 + 0.1 + 0.1 + 0.1 + 0.1 + 0.1  =  0.7\n",
      "0.1 + 0.1 + 0.1 + 0.1 + 0.1 + 0.1 + 0.1 + 0.1  =  0.7999999999999999\n",
      "0.1 + 0.1 + 0.1 + 0.1 + 0.1 + 0.1 + 0.1 + 0.1 + 0.1  =  0.8999999999999999\n",
      "0.1 + 0.1 + 0.1 + 0.1 + 0.1 + 0.1 + 0.1 + 0.1 + 0.1 + 0.1  =  0.9999999999999999\n"
     ]
    }
   ],
   "source": [
    "s = 0.1\n",
    "t = \"0.1\"\n",
    "for i in range(9):\n",
    "    s = s + 0.1\n",
    "    t = t + \" + 0.1\"\n",
    "    print(t, \" = \", s)"
   ]
  },
  {
   "cell_type": "markdown",
   "metadata": {},
   "source": [
    "Ici, les calculs justes sont un heureux hasard ... (et si on continuait, cet heureux hasard arriverait de moins en moins souvent)"
   ]
  },
  {
   "cell_type": "code",
   "execution_count": 57,
   "metadata": {},
   "outputs": [
    {
     "name": "stdout",
     "output_type": "stream",
     "text": [
      "0.1 + 0.1 + ... + 0.1 =  0.1\n",
      "0.1 + 0.1 + ... + 0.1 =  0.2\n",
      "0.1 + 0.1 + ... + 0.1 =  0.4\n",
      "0.1 + 0.1 + ... + 0.1 =  0.5\n",
      "0.1 + 0.1 + ... + 0.1 =  0.6\n",
      "0.1 + 0.1 + ... + 0.1 =  0.7\n",
      "0.1 + 0.1 + ... + 0.1 =  1.2\n",
      "0.1 + 0.1 + ... + 0.1 =  1.3\n",
      "0.1 + 0.1 + ... + 0.1 =  4.4\n",
      "0.1 + 0.1 + ... + 0.1 =  4.5\n",
      "0.1 + 0.1 + ... + 0.1 =  4.6\n",
      "0.1 + 0.1 + ... + 0.1 =  18.9\n",
      "0.1 + 0.1 + ... + 0.1 =  19.0\n",
      "0.1 + 0.1 + ... + 0.1 =  19.1\n",
      "0.1 + 0.1 + ... + 0.1 =  75.2\n",
      "0.1 + 0.1 + ... + 0.1 =  75.3\n",
      "0.1 + 0.1 + ... + 0.1 =  301.2\n",
      "0.1 + 0.1 + ... + 0.1 =  301.3\n",
      "0.1 + 0.1 + ... + 0.1 =  1204.4\n",
      "0.1 + 0.1 + ... + 0.1 =  1204.5\n",
      "0.1 + 0.1 + ... + 0.1 =  1204.6\n",
      "0.1 + 0.1 + ... + 0.1 =  4818.9\n",
      "0.1 + 0.1 + ... + 0.1 =  4819.0\n",
      "0.1 + 0.1 + ... + 0.1 =  4819.1\n",
      "0.1 + 0.1 + ... + 0.1 =  19275.2\n",
      "0.1 + 0.1 + ... + 0.1 =  19275.3\n",
      "0.1 + 0.1 + ... + 0.1 =  77101.2\n",
      "0.1 + 0.1 + ... + 0.1 =  77101.3\n"
     ]
    }
   ],
   "source": [
    "s = 0\n",
    "for i in range(1,1000000):\n",
    "    s = s + 0.1\n",
    "    if len(\" \"+str(s))<10:\n",
    "        print(\"0.1 + 0.1 + ... + 0.1 = \", s)"
   ]
  },
  {
   "cell_type": "markdown",
   "metadata": {},
   "source": [
    "Donc 0.1+0.1+0.1 donne aussi une erreur (petite, mais une erreur tout de même). Et alors ?  peut-on partir sur cette erreur pour faire pire dans l'addition 0.1+0.1+0.1+0.1+0.1+0.1+0.1+0.1+0.1+0.1 ? Essayons :"
   ]
  },
  {
   "cell_type": "code",
   "execution_count": 20,
   "metadata": {},
   "outputs": [
    {
     "data": {
      "text/plain": [
       "1.0000000000000002"
      ]
     },
     "execution_count": 20,
     "metadata": {},
     "output_type": "execute_result"
    }
   ],
   "source": [
    "(0.1+0.1+0.1)+(0.1+0.1+0.1)+(0.1+0.1+0.1)+0.1"
   ]
  },
  {
   "cell_type": "markdown",
   "metadata": {},
   "source": [
    "C'est pire si l'on regarde le détail :"
   ]
  },
  {
   "cell_type": "code",
   "execution_count": 25,
   "metadata": {},
   "outputs": [
    {
     "name": "stdout",
     "output_type": "stream",
     "text": [
      "En premier, erreur de : -1.1102230246251565e-16\n",
      "En second, erreur de : 2.220446049250313e-16\n"
     ]
    }
   ],
   "source": [
    "premier_un = 0.1+0.1+0.1+0.1+0.1+0.1+0.1+0.1+0.1+0.1\n",
    "print(\"En premier, erreur de :\",premier_un-1)\n",
    "second_un = (0.1+0.1+0.1)+(0.1+0.1+0.1)+(0.1+0.1+0.1)+0.1\n",
    "print(\"En second, erreur de :\",second_un-1)"
   ]
  },
  {
   "cell_type": "markdown",
   "metadata": {},
   "source": [
    "L'erreur a doublé.\n",
    "\n",
    "De plus, c'est étonnant l'erreur a changé de coté, précédement on arrivait à 0.9999999999999999 (moins que 1) alors que maintenant on arrive à 1.0000000000000002 (plus que 1).\n",
    "\n",
    "## et alors ?\n",
    "\n",
    "Et alors, donc dans tous les cas précédents, si l'on fait un test d'égalité, on obtient toujours le même résultat :"
   ]
  },
  {
   "cell_type": "code",
   "execution_count": 62,
   "metadata": {},
   "outputs": [
    {
     "name": "stdout",
     "output_type": "stream",
     "text": [
      "(0.1+0.1+0.1+0.1+0.1+0.1+0.1+0.1+0.1+0.1)==1 :  False\n",
      "((0.1+0.1+0.1)+(0.1+0.1+0.1)+(0.1+0.1+0.1)+0.1)==1 :  False\n",
      "(0.1 + 0.1 + 0.1)==0.3 :  False\n"
     ]
    }
   ],
   "source": [
    "print(\"(0.1+0.1+0.1+0.1+0.1+0.1+0.1+0.1+0.1+0.1)==1 : \",(0.1+0.1+0.1+0.1+0.1+0.1+0.1+0.1+0.1+0.1)==1)\n",
    "print(\"((0.1+0.1+0.1)+(0.1+0.1+0.1)+(0.1+0.1+0.1)+0.1)==1 : \",((0.1+0.1+0.1)+(0.1+0.1+0.1)+(0.1+0.1+0.1)+0.1)==1)\n",
    "print(\"(0.1 + 0.1 + 0.1)==0.3 : \",(0.1 + 0.1 + 0.1)==0.3)\n"
   ]
  },
  {
   "cell_type": "markdown",
   "metadata": {},
   "source": [
    "## Conclusion\n",
    "\n",
    "Attention aux nombres à virgule \\[flottante\\], en particulier lors de tests d'égalité.\n",
    "\n",
    "ps : une autre fois, on pourra regarder :"
   ]
  },
  {
   "cell_type": "code",
   "execution_count": 80,
   "metadata": {},
   "outputs": [
    {
     "data": {
      "text/plain": [
       "0.0"
      ]
     },
     "execution_count": 80,
     "metadata": {},
     "output_type": "execute_result"
    }
   ],
   "source": [
    "x=10000000000000000\n",
    "(x+0.1)-x"
   ]
  }
 ],
 "metadata": {
  "kernelspec": {
   "display_name": "Python 3",
   "language": "python",
   "name": "python3"
  },
  "language_info": {
   "codemirror_mode": {
    "name": "ipython",
    "version": 3
   },
   "file_extension": ".py",
   "mimetype": "text/x-python",
   "name": "python",
   "nbconvert_exporter": "python",
   "pygments_lexer": "ipython3",
   "version": "3.4.3"
  }
 },
 "nbformat": 4,
 "nbformat_minor": 2
}
