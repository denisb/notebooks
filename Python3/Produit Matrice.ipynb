{
 "cells": [
  {
   "cell_type": "markdown",
   "metadata": {
    "slideshow": {
     "slide_type": "-"
    }
   },
   "source": [
    "# Produit de matrices en Python3\n",
    "\n",
    "## Trois méthodes de calcul du produit\n",
    "\n",
    "### Calcul Ligne - Colonne - K ...\n",
    "\n",
    "Il s'agit de calculer le produit de deux matrices Taille x Taille remplies de 1 : C = A * B.\n",
    "\n",
    "Au final, la matrice C devrait être remplie de Taille."
   ]
  },
  {
   "cell_type": "code",
   "execution_count": 35,
   "metadata": {
    "collapsed": false
   },
   "outputs": [
    {
     "name": "stdout",
     "output_type": "stream",
     "text": [
      "Temps initialisation : 0.016007184982299805 s\n",
      "Temps de calcul : 9.933462381362915 s\n"
     ]
    }
   ],
   "source": [
    "import time\n",
    "debut = time.time()\n",
    "# Initialisation des matrices\n",
    "Taille = 333\n",
    "a = [[1 for colonne in range(Taille)] for ligne in range(Taille)]\n",
    "b = [[1 for colonne in range(Taille)] for ligne in range(Taille)]\n",
    "c = [[0 for colonne in range(Taille)] for ligne in range(Taille)]\n",
    "# Calcul\n",
    "intermediaire = time.time()\n",
    "for ligne in range(Taille):\n",
    "    for colonne in range(Taille):\n",
    "        x = 0\n",
    "        for k in range(Taille):\n",
    "            x += a[ligne][k]*b[k][colonne]\n",
    "        c[ligne][colonne]=x     \n",
    "fin = time.time()\n",
    "print ('Temps initialisation :',intermediaire - debut,'s')\n",
    "print ('Temps de calcul :',fin - intermediaire,'s')"
   ]
  },
  {
   "cell_type": "markdown",
   "metadata": {},
   "source": [
    "Vérification du résultat"
   ]
  },
  {
   "cell_type": "code",
   "execution_count": 15,
   "metadata": {
    "collapsed": false
   },
   "outputs": [
    {
     "data": {
      "text/plain": [
       "333"
      ]
     },
     "execution_count": 15,
     "metadata": {},
     "output_type": "execute_result"
    }
   ],
   "source": [
    "c[5][10]"
   ]
  },
  {
   "cell_type": "markdown",
   "metadata": {},
   "source": [
    "### Calcul Ligne - K - Colonne\n",
    "\n",
    "On change un peu l'algorithme (le résultat sera le même)"
   ]
  },
  {
   "cell_type": "code",
   "execution_count": 21,
   "metadata": {
    "collapsed": false
   },
   "outputs": [
    {
     "name": "stdout",
     "output_type": "stream",
     "text": [
      "Temps de calcul : 10.515999555587769 s\n"
     ]
    }
   ],
   "source": [
    "import time\n",
    "debut = time.time()\n",
    "# Initialisation des matrices\n",
    "Taille = 333\n",
    "a = [[1 for colonne in range(Taille)] for ligne in range(Taille)]\n",
    "b = [[1 for colonne in range(Taille)] for ligne in range(Taille)]\n",
    "c = [[0 for colonne in range(Taille)] for ligne in range(Taille)]\n",
    "# Calcul\n",
    "for ligne in range(Taille):\n",
    "    for k in range(Taille):\n",
    "        x = a[ligne][k]\n",
    "        for colonne in range(Taille):\n",
    "            c[ligne][colonne] += x*b[k][colonne] \n",
    "fin = time.time()\n",
    "print ('Temps de calcul :',fin - debut,'s')"
   ]
  },
  {
   "cell_type": "markdown",
   "metadata": {},
   "source": [
    "Vérification du résultat"
   ]
  },
  {
   "cell_type": "code",
   "execution_count": 18,
   "metadata": {
    "collapsed": false
   },
   "outputs": [
    {
     "data": {
      "text/plain": [
       "333"
      ]
     },
     "execution_count": 18,
     "metadata": {},
     "output_type": "execute_result"
    }
   ],
   "source": [
    "c[5][10]"
   ]
  },
  {
   "cell_type": "markdown",
   "metadata": {},
   "source": [
    "### Calcul Colonne - K - Ligne\n",
    "\n",
    "On inverse ligne et colonne (le temps devrait être le même)"
   ]
  },
  {
   "cell_type": "code",
   "execution_count": 22,
   "metadata": {
    "collapsed": false
   },
   "outputs": [
    {
     "name": "stdout",
     "output_type": "stream",
     "text": [
      "Temps de calcul : 11.04539179801941 s\n"
     ]
    }
   ],
   "source": [
    "import time\n",
    "debut = time.time()\n",
    "# Initialisation des matrices\n",
    "Taille = 333\n",
    "a = [[1 for colonne in range(Taille)] for ligne in range(Taille)]\n",
    "b = [[1 for colonne in range(Taille)] for ligne in range(Taille)]\n",
    "c = [[0 for colonne in range(Taille)] for ligne in range(Taille)]\n",
    "# Calcul\n",
    "for colonne in range(Taille):\n",
    "    for k in range(Taille):\n",
    "        x = b[k][colonne]\n",
    "        for ligne in range(Taille):\n",
    "            c[ligne][colonne] +=  a[ligne][k]*x \n",
    "fin = time.time()\n",
    "print ('Temps de calcul :',fin - debut,'s')"
   ]
  },
  {
   "cell_type": "markdown",
   "metadata": {},
   "source": [
    "Vérification du résultat :"
   ]
  },
  {
   "cell_type": "code",
   "execution_count": 20,
   "metadata": {
    "collapsed": false
   },
   "outputs": [
    {
     "data": {
      "text/plain": [
       "333"
      ]
     },
     "execution_count": 20,
     "metadata": {},
     "output_type": "execute_result"
    }
   ],
   "source": [
    "c[5][10]"
   ]
  },
  {
   "cell_type": "markdown",
   "metadata": {},
   "source": [
    "## Maintenant avec NumPy"
   ]
  },
  {
   "cell_type": "code",
   "execution_count": 34,
   "metadata": {
    "collapsed": false
   },
   "outputs": [
    {
     "name": "stdout",
     "output_type": "stream",
     "text": [
      "Temps initialisation : 0.04010486602783203 s\n",
      "Temps de calcul : 17.989868640899658 s\n"
     ]
    }
   ],
   "source": [
    "import time\n",
    "import numpy\n",
    "# Initialisation des matrices\n",
    "debut = time.time()\n",
    "Taille = 333\n",
    "a = numpy.array([[1 for colonne in range(Taille)] for ligne in range(Taille)])\n",
    "b = numpy.array([[1 for colonne in range(Taille)] for ligne in range(Taille)])\n",
    "c = numpy.array([[0 for colonne in range(Taille)] for ligne in range(Taille)])\n",
    "# Calcul\n",
    "intermediaire = time.time()\n",
    "for ligne in range(Taille):\n",
    "    for colonne in range(Taille):\n",
    "        x = 0\n",
    "        for k in range(Taille):\n",
    "            x += a[ligne,k]*b[k,colonne]\n",
    "        c[ligne,colonne]=x     \n",
    "fin = time.time()\n",
    "print ('Temps initialisation :',intermediaire - debut,'s')\n",
    "print ('Temps de calcul :',fin - intermediaire,'s')"
   ]
  },
  {
   "cell_type": "code",
   "execution_count": 30,
   "metadata": {
    "collapsed": false
   },
   "outputs": [
    {
     "name": "stdout",
     "output_type": "stream",
     "text": [
      "Temps de calcul : 19.94607663154602 s\n"
     ]
    }
   ],
   "source": [
    "import time\n",
    "import numpy\n",
    "# Initialisation des matrices\n",
    "Taille = 333\n",
    "a = numpy.array([[1 for colonne in range(Taille)] for ligne in range(Taille)])\n",
    "b = numpy.array([[1 for colonne in range(Taille)] for ligne in range(Taille)])\n",
    "c = numpy.array([[0 for colonne in range(Taille)] for ligne in range(Taille)])\n",
    "# Calcul\n",
    "debut = time.time()\n",
    "for ligne in range(Taille):\n",
    "    for k in range(Taille):\n",
    "        x = a[ligne,k]\n",
    "        for colonne in range(Taille):\n",
    "            c[ligne,colonne] += x*b[k,colonne] \n",
    "fin = time.time()\n",
    "print ('Temps de calcul :',fin - debut,'s')"
   ]
  },
  {
   "cell_type": "code",
   "execution_count": 32,
   "metadata": {
    "collapsed": false
   },
   "outputs": [
    {
     "name": "stdout",
     "output_type": "stream",
     "text": [
      "Temps de calcul : 19.349521160125732 s\n"
     ]
    }
   ],
   "source": [
    "import time\n",
    "import numpy\n",
    "# Initialisation des matrices\n",
    "Taille = 333\n",
    "a = numpy.array([[1 for colonne in range(Taille)] for ligne in range(Taille)])\n",
    "b = numpy.array([[1 for colonne in range(Taille)] for ligne in range(Taille)])\n",
    "c = numpy.array([[0 for colonne in range(Taille)] for ligne in range(Taille)])\n",
    "# Calcul\n",
    "debut = time.time()\n",
    "for colonne in range(Taille):\n",
    "    for k in range(Taille):\n",
    "        x = b[k,colonne]\n",
    "        for ligne in range(Taille):\n",
    "            c[ligne,colonne] +=  a[ligne,k]*x \n",
    "fin = time.time()\n",
    "print ('Temps de calcul :',fin - debut,'s')"
   ]
  },
  {
   "cell_type": "markdown",
   "metadata": {},
   "source": [
    "## Conclusion\n",
    "\n",
    "* Pas de différences de temps de calcul !?!\n",
    "* Avec NumPy c'est plus lent !?!\n"
   ]
  }
 ],
 "metadata": {
  "kernelspec": {
   "display_name": "Python 3",
   "language": "python",
   "name": "python3"
  },
  "language_info": {
   "codemirror_mode": {
    "name": "ipython",
    "version": 3
   },
   "file_extension": ".py",
   "mimetype": "text/x-python",
   "name": "python",
   "nbconvert_exporter": "python",
   "pygments_lexer": "ipython3",
   "version": "3.6.0"
  }
 },
 "nbformat": 4,
 "nbformat_minor": 2
}
