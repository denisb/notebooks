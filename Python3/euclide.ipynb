{
 "cells": [
  {
   "cell_type": "markdown",
   "metadata": {},
   "source": [
    "\n",
    "# Autour de l'algorithme d'Euclide\n",
    "\n",
    "![Livre VII Proposition I](../Misc/Image/euclide.png)\n",
    "\n",
    "(traduction DHPEM, XVIIe)\n",
    "\n",
    "\n",
    "## Traduction en langage moderne\n"
   ]
  },
  {
   "cell_type": "code",
   "execution_count": 2,
   "metadata": {},
   "outputs": [
    {
     "name": "stdout",
     "output_type": "stream",
     "text": [
      "Résultat final :  4\n"
     ]
    }
   ],
   "source": [
    "a=12\n",
    "b=8\n",
    "while a != b :\n",
    "    if a>b:\n",
    "        a = a-b\n",
    "    elif b>a :\n",
    "        b = b-a \n",
    "    else :\n",
    "        pass\n",
    "print(\"Résultat final : \",a)"
   ]
  }
 ],
 "metadata": {
  "kernelspec": {
   "display_name": "Python 3",
   "language": "python",
   "name": "python3"
  },
  "language_info": {
   "codemirror_mode": {
    "name": "ipython",
    "version": 3
   },
   "file_extension": ".py",
   "mimetype": "text/x-python",
   "name": "python",
   "nbconvert_exporter": "python",
   "pygments_lexer": "ipython3",
   "version": "3.4.3"
  }
 },
 "nbformat": 4,
 "nbformat_minor": 2
}
