{
 "cells": [
  {
   "cell_type": "markdown",
   "metadata": {},
   "source": [
    "(bloc 3, les machines)\n",
    "\n",
    "# Autour de l'algorithme d'Euclide\n",
    "\n",
    "![Livre VII Proposition I](../Misc/Image/euclide.png)\n",
    "\n",
    "(traduction DHPEM, XVIIe)\n",
    "\n",
    "\n",
    "## Traduction en langage moderne\n"
   ]
  },
  {
   "cell_type": "code",
   "execution_count": 4,
   "metadata": {},
   "outputs": [
    {
     "name": "stdout",
     "output_type": "stream",
     "text": [
      "Résultat final :  4\n"
     ]
    }
   ],
   "source": [
    "a=12\n",
    "b=8\n",
    "while a != b :\n",
    "    if a>b:\n",
    "        a = a-b\n",
    "    elif b>a :\n",
    "        b = b-a \n",
    "    else :\n",
    "        pass\n",
    "print(\"Résultat final : \",a)"
   ]
  },
  {
   "cell_type": "markdown",
   "metadata": {},
   "source": [
    "## 0 - Binaire\n",
    "\n",
    "Les nombres en machine\n",
    "* entiers naturels ou relatifs (taille limitée, \"grand\" = négatif ?)\n",
    "* (réels)\n",
    "* (code détecteur et correcteur d'erreurs)\n",
    "\n",
    "\n",
    "Arithmétique\n",
    "* addition\n",
    "* soustraction\n",
    "* multiplication\n",
    "\n",
    "\n",
    "Exemple en C avec le calcul du pgcd"
   ]
  },
  {
   "cell_type": "markdown",
   "metadata": {},
   "source": [
    "## I - Circuit\n",
    "\n",
    "Progression\n",
    "* (Du transistor à la porte logique)\n",
    "* Circuits combinatoires (simple)\n",
    "* Algorithmique des circuits combinatoires\n",
    "* (Réalisation d'un point mémoire)\n",
    "* Mémoires\n",
    "* Circuits séquentiels (simple) : automates\n",
    "* Algorithmique des circuits séquentiels (circuits à flot de données)\n",
    "* Décomposition PC-PO (Partie Contrôle - Partie Opérative)\n",
    "\n",
    "Résultats : \n",
    "* Equivalence entre Fonctions booléennes (sémantique) et Circuits combinatoires (syntaxe) \n",
    "* Notion de complexité (en temps, en espace, en consommation énergétique)\n",
    "* Equivalence entre algorithme et circuit. Il n'y a pas de frontière entre logiciel et matériel.\n",
    "\n",
    "Exemples avec Logisim\n",
    "* Additionneur\n",
    "* Algorithme d'Euclide\n"
   ]
  },
  {
   "cell_type": "markdown",
   "metadata": {},
   "source": [
    "## I,5 - Ordinateur\n",
    "\n",
    "Progression\n",
    "* Ajout Bus, Mémoire et E/S à un circuit (flot de données ou Pc-Po)\n",
    "\n",
    "* Notion de Langage machine (**)\n",
    "* Machine de von Neumann (ou de Harvard)\n",
    "\n",
    "Exemple avec Procesim (vidéo)"
   ]
  },
  {
   "cell_type": "markdown",
   "metadata": {},
   "source": [
    "## II - Langage machine\n",
    "\n",
    "Progression\n",
    "* Langage machine\n",
    "** Ensemble d'instructions (RISC)\n",
    "** Modes d'adressage\n",
    "* Programmation en langage machine\n",
    "* Accés aux données\n",
    "* Structures de contrôle\n",
    "* Définition et appels de fonctions\n",
    "\n",
    "Exemples en Arm\n",
    "* Algorithme d'Euclide \n",
    "* Lien avec le C (Ajout d'E/S, manipulation d'images)\n",
    "* Observations (binaire, compilation, optimisation)"
   ]
  },
  {
   "cell_type": "markdown",
   "metadata": {},
   "source": [
    "## (Extensions)\n",
    "\n",
    "Anomalies\n",
    "* bugs\n",
    "* failles\n",
    "\n",
    "Performances\n",
    "* pipe-line\n",
    "* mémoire cache\n",
    "* exécution prédictive, exécution désordonnée\n",
    "* optimisation de compilation"
   ]
  }
 ],
 "metadata": {
  "kernelspec": {
   "display_name": "Python 3",
   "language": "python",
   "name": "python3"
  },
  "language_info": {
   "codemirror_mode": {
    "name": "ipython",
    "version": 3
   },
   "file_extension": ".py",
   "mimetype": "text/x-python",
   "name": "python",
   "nbconvert_exporter": "python",
   "pygments_lexer": "ipython3",
   "version": "3.7.1"
  }
 },
 "nbformat": 4,
 "nbformat_minor": 2
}
