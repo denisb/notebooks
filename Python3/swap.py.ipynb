{
 "cells": [
  {
   "cell_type": "markdown",
   "metadata": {},
   "source": [
    "# Echange de valeurs\n",
    "## Sur les variables, les références, les notions de local vs global, de mutable vs immutable\n",
    "\n",
    "Essayons d'échanger les valeurs de deux variables \"zero\" et \"un\" (initialement zero vaudra 0 et un vaudra 1)"
   ]
  },
  {
   "cell_type": "code",
   "execution_count": 40,
   "metadata": {},
   "outputs": [
    {
     "name": "stdout",
     "output_type": "stream",
     "text": [
      "zero= 1  un= 0\n"
     ]
    }
   ],
   "source": [
    "zero=0\n",
    "un=1\n",
    "zero,un = un,zero\n",
    "print(\"zero=\",zero,\" un=\",un)"
   ]
  },
  {
   "cell_type": "markdown",
   "metadata": {},
   "source": [
    "ok l'échange a bien eut lieu (idem pour des éléments de liste, de dictionnaire et d'autres objets mutables ; par contre pour des éléments d'une chaine de caractères, d'un tuple ou d'autres objets immutable, l'affectation sera impossible ex. : pour zero_un=\"01\" s[0] vaut bien 0, mais l'affectation s[0]='1' est impossible)"
   ]
  },
  {
   "cell_type": "code",
   "execution_count": 51,
   "metadata": {},
   "outputs": [
    {
     "name": "stdout",
     "output_type": "stream",
     "text": [
      "zero_un[0]= 0\n"
     ]
    },
    {
     "ename": "TypeError",
     "evalue": "'str' object does not support item assignment",
     "output_type": "error",
     "traceback": [
      "\u001b[0;31m---------------------------------------------------------------------------\u001b[0m",
      "\u001b[0;31mTypeError\u001b[0m                                 Traceback (most recent call last)",
      "\u001b[0;32m<ipython-input-51-7d5164c2b3ad>\u001b[0m in \u001b[0;36m<module>\u001b[0;34m()\u001b[0m\n\u001b[1;32m      1\u001b[0m \u001b[0mzero_un\u001b[0m\u001b[1;33m=\u001b[0m\u001b[1;34m\"01\"\u001b[0m\u001b[1;33m\u001b[0m\u001b[0m\n\u001b[1;32m      2\u001b[0m \u001b[0mprint\u001b[0m\u001b[1;33m(\u001b[0m\u001b[1;34m\"zero_un[0]=\"\u001b[0m\u001b[1;33m,\u001b[0m\u001b[0mzero_un\u001b[0m\u001b[1;33m[\u001b[0m\u001b[1;36m0\u001b[0m\u001b[1;33m]\u001b[0m\u001b[1;33m)\u001b[0m\u001b[1;33m\u001b[0m\u001b[0m\n\u001b[0;32m----> 3\u001b[0;31m \u001b[0mzero_un\u001b[0m\u001b[1;33m[\u001b[0m\u001b[1;36m0\u001b[0m\u001b[1;33m]\u001b[0m\u001b[1;33m=\u001b[0m\u001b[1;34m\"1\"\u001b[0m\u001b[1;33m\u001b[0m\u001b[0m\n\u001b[0m",
      "\u001b[0;31mTypeError\u001b[0m: 'str' object does not support item assignment"
     ]
    }
   ],
   "source": [
    "zero_un=\"01\"\n",
    "print(\"zero_un[0]=\",zero_un[0])\n",
    "zero_un[0]=\"1\""
   ]
  },
  {
   "cell_type": "markdown",
   "metadata": {},
   "source": [
    "Essayons à travers une fonction cet échange qui marche entre variables."
   ]
  },
  {
   "cell_type": "code",
   "execution_count": 42,
   "metadata": {},
   "outputs": [
    {
     "name": "stdout",
     "output_type": "stream",
     "text": [
      "zero= 0  un= 1\n"
     ]
    }
   ],
   "source": [
    "def echangeVar(x,y):\n",
    "    x,y = y,x\n",
    "    \n",
    "zero=0\n",
    "un=1\n",
    "echangeVar(zero,un)\n",
    "print(\"zero=\",zero,\" un=\",un)"
   ]
  },
  {
   "cell_type": "markdown",
   "metadata": {},
   "source": [
    "Hélas, c'est raté ! l'échange n'a pas eut lieu (même si dans la fonction il y a eu effectivement un échange), car les variables dans la fonction sont des variables locales dont les valeurs initiales ont été prises par les paramêtres donnés à l'appel.\n",
    "\n",
    "Essayons autre chose"
   ]
  },
  {
   "cell_type": "code",
   "execution_count": 55,
   "metadata": {},
   "outputs": [
    {
     "name": "stdout",
     "output_type": "stream",
     "text": [
      "3047677981512\n",
      "zero= [1]  un= [0]\n",
      "3047677981512\n"
     ]
    }
   ],
   "source": [
    "def echangeVarParTab(x,y):\n",
    "    x[0],y[0] = y[0],x[0]\n",
    "    \n",
    "zero=[0]\n",
    "un=[1]\n",
    "echangeVarParTab(zero,un)\n",
    "print(\"zero=\",zero,\" un=\",un)\n"
   ]
  },
  {
   "cell_type": "markdown",
   "metadata": {},
   "source": [
    "ok, cela marche, t pourtant zero et un n'ont pas été modifiés vraiment, zero et un sont deux tableaux, c'est à dire au premier degré juste une référence à une zone de la mémoire qui conserve les éléments de ces deux tableaux. Ces références n'ont pas changé. Par contre, avec ces références à la mémoire, la fonction a pu modifié les valeurs des deux tableaux ..."
   ]
  },
  {
   "cell_type": "code",
   "execution_count": 57,
   "metadata": {},
   "outputs": [
    {
     "name": "stdout",
     "output_type": "stream",
     "text": [
      "id(zero, avant)= 3047677707784\n",
      "id(zero, après)= 3047677707784\n"
     ]
    }
   ],
   "source": [
    "zero=[0]\n",
    "print(\"id(zero, avant)=\",id(zero))\n",
    "un=[1]\n",
    "echangeVarParTab(zero,un)\n",
    "print(\"id(zero, après)=\",id(zero))"
   ]
  },
  {
   "cell_type": "markdown",
   "metadata": {},
   "source": [
    "Ce qui précède aurait aussi marché avec des dictionnaires et d'autres objets mutables, mais essayons avec des tuples (objet immutable)"
   ]
  },
  {
   "cell_type": "code",
   "execution_count": 44,
   "metadata": {},
   "outputs": [
    {
     "name": "stdout",
     "output_type": "stream",
     "text": [
      "zero= 0  un= 1\n"
     ]
    }
   ],
   "source": [
    "def echangeTuple(x,y):\n",
    "    x,y = (y[0],),(x[0],)\n",
    "    \n",
    "zero=(0,)\n",
    "un=(1,)\n",
    "echangeTuple(zero,un)\n",
    "print(\"zero=\",zero[0],\" un=\",un[0])"
   ]
  },
  {
   "cell_type": "markdown",
   "metadata": {},
   "source": [
    "Hélas, c'est raté ! (idem pour chaine de caractères et autres objets immutables, car il y a un problème pour faire une affectation, ici, on croit contourné le problème avec une affectation à x, y des tuples complet, mais cela sera fait dans le contexte de la fonction, sur des variables locales, et pas sur les variables globales)\n",
    "\n",
    "Essayons autre chose, en forçant l'affectation sur l'objet global :"
   ]
  },
  {
   "cell_type": "code",
   "execution_count": 45,
   "metadata": {},
   "outputs": [
    {
     "name": "stdout",
     "output_type": "stream",
     "text": [
      "zero= 1  un= 0\n"
     ]
    }
   ],
   "source": [
    "def echangeTupleGlob():\n",
    "    global zero\n",
    "    global un\n",
    "    zero,un = (un[0],),(zero[0],)\n",
    "    \n",
    "zero=(0,)\n",
    "un=(1,)\n",
    "echangeTupleGlob()\n",
    "print(\"zero=\",zero[0],\" un=\",un[0])"
   ]
  },
  {
   "cell_type": "markdown",
   "metadata": {},
   "source": [
    "ok, cela marche, mais on y perd les paramètres ... on ne peut plus échanger que les deux tuples zero et un.\n",
    "\n",
    "Revenons à un échange entre deux éléments de tableau :"
   ]
  },
  {
   "cell_type": "code",
   "execution_count": 46,
   "metadata": {},
   "outputs": [
    {
     "name": "stdout",
     "output_type": "stream",
     "text": [
      "zero_un[0]= 1  zero_un[1]= 0\n"
     ]
    }
   ],
   "source": [
    "def echangeTab(t):\n",
    "    t[0],t[1] = t[1],t[0]\n",
    "    \n",
    "zero_un=[0,1]\n",
    "echangeTab(zero_un)\n",
    "print(\"zero_un[0]=\",zero_un[0],\" zero_un[1]=\",zero_un[1])"
   ]
  },
  {
   "cell_type": "markdown",
   "metadata": {},
   "source": [
    "ok, cela marche. Mais attention, on aurait pu aussi écrire :"
   ]
  },
  {
   "cell_type": "code",
   "execution_count": 58,
   "metadata": {},
   "outputs": [
    {
     "name": "stdout",
     "output_type": "stream",
     "text": [
      "[1, 0]\n",
      "zero_un[0]= 0  zero_un[1]= 1\n"
     ]
    }
   ],
   "source": [
    "def echangeTab2(t):\n",
    "    t = [t[1],t[0]]\n",
    "    \n",
    "zero_un=[0,1]\n",
    "echangeTab2(zero_un)\n",
    "print(\"zero_un[0]=\",zero_un[0],\" zero_un[1]=\",zero_un[1])"
   ]
  },
  {
   "cell_type": "markdown",
   "metadata": {},
   "source": [
    "Hélas, c'est raté ! comme précédement, car l'affectation se fait dans le contexte de la fonction sur une variable locale. Remarque, c'est troublant, car l'évaluation t[1], elle aussi se déroule dans le contexte de la fonction, mais n'ayant pas de variable t encore \"bien\" définie, elle trouve la valeur de t[0] dans le contexte global par élargissement. Cet élargissement, ne s'opère que dans un seul sens, et seulement tant que t[0] n'est pas défini localement ...\n",
    "\n",
    "remarque finale : les concepts en question ne sont pas liés particulièrement à Python ... (dans bien d'autres langages on obtient des comportements similaires)"
   ]
  }
 ],
 "metadata": {
  "kernelspec": {
   "display_name": "Python 3",
   "language": "python",
   "name": "python3"
  },
  "language_info": {
   "codemirror_mode": {
    "name": "ipython",
    "version": 3
   },
   "file_extension": ".py",
   "mimetype": "text/x-python",
   "name": "python",
   "nbconvert_exporter": "python",
   "pygments_lexer": "ipython3",
   "version": "3.4.3"
  }
 },
 "nbformat": 4,
 "nbformat_minor": 2
}
