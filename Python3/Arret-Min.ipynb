{
 "cells": [
  {
   "cell_type": "markdown",
   "metadata": {
    "toc": true
   },
   "source": [
    "<h1>Table of Contents<span class=\"tocSkip\"></span></h1>\n",
    "<div class=\"toc\"><ul class=\"toc-item\"><li><span><a href=\"#Définition-des-machines-à-analyser-et-de-la-notion-d'arrêt\" data-toc-modified-id=\"Définition-des-machines-à-analyser-et-de-la-notion-d'arrêt-1\"><span class=\"toc-item-num\">1&nbsp;&nbsp;</span>Définition des machines à analyser et de la notion d'arrêt</a></span><ul class=\"toc-item\"><li><span><a href=\"#Machines\" data-toc-modified-id=\"Machines-1.1\"><span class=\"toc-item-num\">1.1&nbsp;&nbsp;</span>Machines</a></span></li><li><span><a href=\"#Processus-et-exécution-des-instructions\" data-toc-modified-id=\"Processus-et-exécution-des-instructions-1.2\"><span class=\"toc-item-num\">1.2&nbsp;&nbsp;</span>Processus et exécution des instructions</a></span></li><li><span><a href=\"#Fin-des-programmes\" data-toc-modified-id=\"Fin-des-programmes-1.3\"><span class=\"toc-item-num\">1.3&nbsp;&nbsp;</span>Fin des programmes</a></span></li></ul></li><li><span><a href=\"#Générations-des-machines-et-analyse-globale-de-l'arrêt\" data-toc-modified-id=\"Générations-des-machines-et-analyse-globale-de-l'arrêt-2\"><span class=\"toc-item-num\">2&nbsp;&nbsp;</span>Générations des machines et analyse globale de l'arrêt</a></span><ul class=\"toc-item\"><li><span><a href=\"#Génération\" data-toc-modified-id=\"Génération-2.1\"><span class=\"toc-item-num\">2.1&nbsp;&nbsp;</span>Génération</a></span></li><li><span><a href=\"#Analyse-d'un-programme\" data-toc-modified-id=\"Analyse-d'un-programme-2.2\"><span class=\"toc-item-num\">2.2&nbsp;&nbsp;</span>Analyse d'un programme</a></span></li><li><span><a href=\"#Analyse-de-plusieurs-programmes-(tous)\" data-toc-modified-id=\"Analyse-de-plusieurs-programmes-(tous)-2.3\"><span class=\"toc-item-num\">2.3&nbsp;&nbsp;</span>Analyse de plusieurs programmes (tous)</a></span></li></ul></li><li><span><a href=\"#Autres-analyses\" data-toc-modified-id=\"Autres-analyses-3\"><span class=\"toc-item-num\">3&nbsp;&nbsp;</span>Autres analyses</a></span><ul class=\"toc-item\"><li><span><a href=\"#Analyses-aléatoires\" data-toc-modified-id=\"Analyses-aléatoires-3.1\"><span class=\"toc-item-num\">3.1&nbsp;&nbsp;</span>Analyses aléatoires</a></span></li><li><span><a href=\"#Analyses-plus-poussée\" data-toc-modified-id=\"Analyses-plus-poussée-3.2\"><span class=\"toc-item-num\">3.2&nbsp;&nbsp;</span>Analyses plus poussée</a></span></li></ul></li><li><span><a href=\"#Conclusion\" data-toc-modified-id=\"Conclusion-4\"><span class=\"toc-item-num\">4&nbsp;&nbsp;</span>Conclusion</a></span><ul class=\"toc-item\"><li><span><a href=\"#Récapitulatif\" data-toc-modified-id=\"Récapitulatif-4.1\"><span class=\"toc-item-num\">4.1&nbsp;&nbsp;</span>Récapitulatif</a></span></li><li><span><a href=\"#Variantes\" data-toc-modified-id=\"Variantes-4.2\"><span class=\"toc-item-num\">4.2&nbsp;&nbsp;</span>Variantes</a></span></li><li><span><a href=\"#Rappels\" data-toc-modified-id=\"Rappels-4.3\"><span class=\"toc-item-num\">4.3&nbsp;&nbsp;</span>Rappels</a></span></li></ul></li></ul></div>"
   ]
  },
  {
   "cell_type": "markdown",
   "metadata": {},
   "source": [
    "# Problème de l'arrêt pour des machines jouets minimalistes finies\n",
    "\n",
    "Le problème de l'arrêt consiste à déterminer si l'on peut, en toute généralité, écrire un programme A (comme \"programme qui détermine l'Arrêt\") qui pourra prendre en entrée un autre programme X et une donnée D (pour le programme X) et décide si le programme X va s'arrêter sur la donnée D. Le résultat classique du problème de l'arrêt conclue qu'il n'est pas possible de de produire un programme qui puisse dire en toute généralité si un autre programme va s'arréter.\n",
    "\n",
    "La preuve est jolie, elle repose sur une astuce et un raisonnement par l'absurde (voir [wkpd](https://fr.wikipedia.org/wiki/Probl%C3%A8me_de_l%27arr%C3%AAt)). Mais elle n'est pas valide pour tous les cas. Pour les machines de Turing, la preuve est valide (heureusement). Mais les machines de Turing ne sont pas des machines réelles, en particulier, elles supposent l'existence d'une mémoire infinie. Non pas très grande mais infinie. Et la preuve du problème de l'arrêt utilise implicitement cet infini. Nos machines n'ont malheureusement pas une mémoire infinie ...\n",
    "\n",
    "*Remarque : l'existence de programmes résolvant le problème de l'arrêt pour des machines finies est clair, mais théorique. Dans la pratique, dans le cas général (fini), les approches usuelles sont limitées par la combinatoire et ne peuvent résoudre le problème de l'arrêt que pour de petites machines. Dans la pratique le problème de l'arrêt subsiste.*\n",
    "\n",
    "Pour des machines M ayant une mémoire finie (taille max fixée : T), le problème de l'arrêt ne tient pas, et il existe des programmes A (avec un peu plus de mémoire que les machines M \\[donc A ne pourra pas s'appliquer à A {ce qui interdit la preuve classique du problème de l'arrêt}]) permettant de déterminer si les machines M s'arrêtent. Dans le cas présent, nous supposerons que l'on possède une super-machine avec une mémoire un peu supérieur à 2*T pour pouvoir faire fonctionner le programme A (à suivre)."
   ]
  },
  {
   "cell_type": "markdown",
   "metadata": {},
   "source": [
    "## Définition des machines à analyser et de la notion d'arrêt\n",
    "\n",
    "Pour la suite nous utiliserons des machines élémentaires ayant une architecture de Harvard avec une taille pour les programmes et les données fixe (aussi grande \\[en théorie] que l'on veut, en pratique, aussi grande que nous permet la machine sur laquelle on va faire tourner notre programme d'analyse, ce qui risque d'être assez petit, désolé)."
   ]
  },
  {
   "cell_type": "markdown",
   "metadata": {},
   "source": [
    "### Machines\n",
    "\n",
    "Dans un premier temps, le langage machine autorisé pour ces machines comporte seulement les instructions suivantes :\n",
    "* ADD Rg, Rd : Rg <= Rg + Rd (et mise à jour de Z en fonction du résultat de l'addition)\n",
    "* BNE Adr : Si -Z, PC <= Adr\n",
    "\n",
    "(attention, par défaut, l'instruction vide est traduite par \"ADD R0, R0\" qui n'est pas une instruction neutre)\n",
    "\n",
    "Les tailles des instructions, des registres, des adresses doivent être compatibles. Par exemple, en prenant :"
   ]
  },
  {
   "cell_type": "code",
   "execution_count": 63,
   "metadata": {
    "ExecuteTime": {
     "end_time": "2019-09-11T10:49:04.661476Z",
     "start_time": "2019-09-11T10:49:04.655881Z"
    }
   },
   "outputs": [],
   "source": [
    "TailleMemoire = 7 #mots mémoire\n",
    "TailleMemoireProgramme = 3 #mots mémoire\n",
    "TailleMemoireDonnees = 4 #mots mémoire\n",
    "TailleMotMemoire = 5 #bits\n",
    "TailleBancRegistres = 4 #registres\n",
    "TailleMotRegistre = 5 #bits\n",
    "TailleInstruction = 5 #bits"
   ]
  },
  {
   "cell_type": "markdown",
   "metadata": {},
   "source": [
    "* un codage binaire des instructions sur 1 bit : Add (0), BNE (1), et \n",
    "* 4 registres (numéro de registre codable sur 2 bits, taille du registre au moins la taille d'une adresse, d'une valeur ou d'une instruction => 5 bits), \n",
    "* 7 mots mémoire (adresse codable sur 3 bits), mots à répartir entre instructions du programme et données, par exemple, 3 mots de programme, 4 mots de données (architecture de Harvard)\n",
    "x\n",
    "Cela peut signifier une instruction sur 5 bits, soit pour la mémoire totale :\n",
    "* 35 bits de mémoire au maximum (15 bits de programme \\[environ une dizaine de milliers de programmes possibles] et 20 bits de données \\[environ un million de données possibles])\n",
    "* 16 (add) + 7 (bne) = 23 instructions différentes et donc 23**TailleMemoireProgramme  = 12 167 programmes différents\n",
    "\n",
    "(*une variante plus petite peut être définie, avec moins de mémoire ou moins de registre, etc. le choix de la version proposée vient de ce qu'elle permet de réaliser un algorithme naïf de multiplication \\[au moins].*)"
   ]
  },
  {
   "cell_type": "code",
   "execution_count": 64,
   "metadata": {
    "ExecuteTime": {
     "end_time": "2019-09-11T10:49:04.719757Z",
     "start_time": "2019-09-11T10:49:04.664840Z"
    },
    "scrolled": true
   },
   "outputs": [
    {
     "name": "stdout",
     "output_type": "stream",
     "text": [
      "Nb d'instructions différentes possibles :  23 \n",
      "Nb de programmes différents possibles :  12167 \n",
      "Nb de données différentes possibles :  1048576 \n",
      "Nb de machines différentes possibles :  12758024192\n"
     ]
    }
   ],
   "source": [
    "NbInstructionsPossibles = TailleBancRegistres**2+TailleMemoire\n",
    "NbProgrammesPossibles = NbInstructionsPossibles**TailleMemoireProgramme\n",
    "NbDonneesPossibles = (1<<TailleMotMemoire)**TailleMemoireDonnees\n",
    "NbMachinesPossibles = NbProgrammesPossibles*NbDonneesPossibles\n",
    "print(\"Nb d'instructions différentes possibles : \",NbInstructionsPossibles,\n",
    "      \"\\nNb de programmes différents possibles : \",NbProgrammesPossibles,\n",
    "      \"\\nNb de données différentes possibles : \",NbDonneesPossibles,\n",
    "      \"\\nNb de machines différentes possibles : \",NbMachinesPossibles)"
   ]
  },
  {
   "cell_type": "markdown",
   "metadata": {},
   "source": [
    "### Processus et exécution des instructions\n",
    "\n",
    "le processus (programme à l'exécution) sera déterminé par :\n",
    "* la mémoire (programme et données)\n",
    "* les valeurs des registres (PC, R0, R1, R2, R3)\n",
    "* la valeur de Z\n",
    "\n",
    "A l'initialisation, la mémoire étant fournie (programme et données) :\n",
    "* Z = 0\n",
    "* PC = 0\n",
    "* R0, R1, R2, R3 prennent les valeurs en début de zone mémoire (partie donnée), R0=Mem[3], R1=Mem[4], R2=Mem[5], R3=Mem[6] "
   ]
  },
  {
   "cell_type": "code",
   "execution_count": 65,
   "metadata": {
    "ExecuteTime": {
     "end_time": "2019-09-11T10:49:04.784452Z",
     "start_time": "2019-09-11T10:49:04.723092Z"
    }
   },
   "outputs": [],
   "source": [
    "def initProcessus(P,M):\n",
    "    P[\"Memoire\"] = M #TODO:faire une recopie mot à mot, avec contrôle <> \"\" et modulo TailleMotMemoire\n",
    "    P[\"Z\"] = 0\n",
    "    P[\"PC\"] = 0\n",
    "    P[\"R0\"] = M[TailleMemoireProgramme]&((1<<TailleMotRegistre)-1)\n",
    "    P[\"R1\"] = M[TailleMemoireProgramme+1]&((1<<TailleMotRegistre)-1)\n",
    "    P[\"R2\"] = M[TailleMemoireProgramme+2]&((1<<TailleMotRegistre)-1)\n",
    "    P[\"R3\"] = M[TailleMemoireProgramme+3]&((1<<TailleMotRegistre)-1)"
   ]
  },
  {
   "cell_type": "markdown",
   "metadata": {},
   "source": [
    "Exemple, pour une mémoire de 8 mots de 5 bits : la multiplication avec 2 et 3 en entrées, résultat dans R3 :"
   ]
  },
  {
   "cell_type": "code",
   "execution_count": 66,
   "metadata": {
    "ExecuteTime": {
     "end_time": "2019-09-11T10:49:04.835822Z",
     "start_time": "2019-09-11T10:49:04.787949Z"
    }
   },
   "outputs": [
    {
     "data": {
      "text/plain": [
       "{'Memoire': [['ADD', 'R3', 'R1'],\n",
       "  ['ADD', 'R0', 'R2'],\n",
       "  ['BNE', 0],\n",
       "  2,\n",
       "  3,\n",
       "  -1,\n",
       "  0],\n",
       " 'Z': 0,\n",
       " 'PC': 0,\n",
       " 'R0': 2,\n",
       " 'R1': 3,\n",
       " 'R2': 31,\n",
       " 'R3': 0}"
      ]
     },
     "execution_count": 66,
     "metadata": {},
     "output_type": "execute_result"
    }
   ],
   "source": [
    "MemoireTest = [[\"ADD\",\"R3\",\"R1\"],[\"ADD\",\"R0\",\"R2\"],[\"BNE\",0],2,3,-1,0]\n",
    "ProcessusTest = {}\n",
    "initProcessus(ProcessusTest,MemoireTest)\n",
    "ProcessusTest"
   ]
  },
  {
   "cell_type": "markdown",
   "metadata": {},
   "source": [
    "### Fin des programmes\n",
    "\n",
    "L'exécution d'un processus s'effectue, instruction après instruction, jusqu'à erreur ou fin de programme (arrivée à la fin de la zone de programme) ou boucle infinie."
   ]
  },
  {
   "cell_type": "code",
   "execution_count": 67,
   "metadata": {
    "ExecuteTime": {
     "end_time": "2019-09-11T10:49:04.882404Z",
     "start_time": "2019-09-11T10:49:04.838446Z"
    }
   },
   "outputs": [],
   "source": [
    "def ExecuteUneInstruction(P):\n",
    "    Mnemo = P[\"Memoire\"][P[\"PC\"]][0]\n",
    "    if Mnemo==\"ADD\" :\n",
    "        Res = P[P[\"Memoire\"][P[\"PC\"]][1]]+P[P[\"Memoire\"][P[\"PC\"]][2]]\n",
    "        Res = Res & ((1<<TailleMotRegistre)-1)\n",
    "        if Res == 0:\n",
    "            P[\"Z\"] = 1\n",
    "        else :\n",
    "            P[\"Z\"] = 0            \n",
    "        P[P[\"Memoire\"][P[\"PC\"]][1]]= Res\n",
    "        P[\"PC\"]=P[\"PC\"]+1\n",
    "        if P[\"PC\"]==TailleMemoireProgramme :\n",
    "            return \"Fin de programme\"\n",
    "    elif Mnemo==\"BNE\" :\n",
    "        if P[\"Z\"]==0 :\n",
    "            P[\"PC\"]=P[\"Memoire\"][P[\"PC\"]][1]\n",
    "            if ((P[\"PC\"]<0) or (P[\"PC\"]>=TailleMemoireProgramme)) :\n",
    "                return \"Erreur : Suite de Programme invalide\"\n",
    "        else :\n",
    "            P[\"PC\"]=P[\"PC\"]+1\n",
    "            if P[\"PC\"]==TailleMemoireProgramme :\n",
    "                return \"Fin de programme\"\n",
    "    else :\n",
    "        return \"Erreur : Instruction invalide\""
   ]
  },
  {
   "cell_type": "markdown",
   "metadata": {},
   "source": [
    "La fin de programme normale et la fin de programme en erreur sont détectées lors de l'exécution d'une instruction. Pour détecter l'exécution d'une boucle infinie, l'état du processus est inspecté selon la méthode de Floyd pour trouver les cycles dans les suites Un=f(Un-1) (voir wkpd) en exécutant le processus à deux vitesses différentes (le processus tortue : une instruction à la fois ; le processus lièvre : deux instructions à la suite à chaque fois), si la tortue et le lièvre se rencontrent c'est qu'il y a une boucle infinie."
   ]
  },
  {
   "cell_type": "code",
   "execution_count": null,
   "metadata": {
    "ExecuteTime": {
     "end_time": "2019-09-11T10:49:04.933672Z",
     "start_time": "2019-09-11T10:49:04.885055Z"
    }
   },
   "outputs": [],
   "source": [
    "def MemeEtat(P,Q):\n",
    "    if P[\"PC\"]!=Q[\"PC\"]:\n",
    "        return False\n",
    "    elif P[\"R0\"]!=Q[\"R0\"]:\n",
    "        return False\n",
    "    elif P[\"R1\"]!=Q[\"R1\"]:\n",
    "        return False\n",
    "    elif P[\"R2\"]!=Q[\"R2\"]:\n",
    "        return False\n",
    "    elif P[\"R3\"]!=Q[\"R3\"]:\n",
    "        return False\n",
    "    elif P[\"Z\"]!=Q[\"Z\"]:\n",
    "        return False\n",
    "    else :\n",
    "        return True"
   ]
  },
  {
   "cell_type": "code",
   "execution_count": null,
   "metadata": {
    "ExecuteTime": {
     "end_time": "2019-09-11T10:49:04.933672Z",
     "start_time": "2019-09-11T10:49:04.885055Z"
    }
   },
   "outputs": [],
   "source": [
    "def ExecuteProcessus(P):\n",
    "    Tortue = P.copy()\n",
    "    Lievre = P.copy()\n",
    "    continuation = True\n",
    "    while continuation :\n",
    "        ExecuteUneInstruction(Tortue)\n",
    "        msg = ExecuteUneInstruction(Lievre)\n",
    "        if msg is None :\n",
    "            msg = ExecuteUneInstruction(Lievre)\n",
    "        if msg :\n",
    "            return msg\n",
    "        elif MemeEtat(Tortue,Lievre) :\n",
    "            return \"Erreur : Boucle infinie\""
   ]
  },
  {
   "cell_type": "code",
   "execution_count": 68,
   "metadata": {
    "ExecuteTime": {
     "end_time": "2019-09-11T10:49:04.933672Z",
     "start_time": "2019-09-11T10:49:04.885055Z"
    }
   },
   "outputs": [],
   "source": [
    "def AnalyseMachine(M):\n",
    "    P = {}\n",
    "    initProcessus(P,M)\n",
    "    return ExecuteProcessus(P)"
   ]
  },
  {
   "cell_type": "markdown",
   "metadata": {},
   "source": [
    "L'analyse de la machine s'effectue en fonction de la mémoire :"
   ]
  },
  {
   "cell_type": "code",
   "execution_count": 69,
   "metadata": {
    "ExecuteTime": {
     "end_time": "2019-09-11T10:49:04.996128Z",
     "start_time": "2019-09-11T10:49:04.936427Z"
    }
   },
   "outputs": [
    {
     "data": {
      "text/plain": [
       "'Fin de programme'"
      ]
     },
     "execution_count": 69,
     "metadata": {},
     "output_type": "execute_result"
    }
   ],
   "source": [
    "# Choisir une machine pour l'analyse :\n",
    "AnalyseMachine([[\"ADD\",\"R3\",\"R1\"],[\"ADD\",\"R0\",\"R2\"],[\"BNE\",0],2,3,-1,0]) #test multiplication\n",
    "#AnalyseMachine[[\"ADD\",\"R3\",\"R1\"],[\"ADD\",\"R0\",\"R2\"],[\"BNE\",0],2,3,0,0]) # boucle infinie\n",
    "#AnalyseMachine[[\"ADD\",\"R3\",\"R1\"],[\"ADD\",\"R0\",\"R2\"],[\"BNE\",TailleMemoireProgramme+2],2,3,-1,0]) # erreur\n"
   ]
  },
  {
   "cell_type": "markdown",
   "metadata": {},
   "source": [
    "## Générations des machines et analyse globale de l'arrêt\n",
    "\n",
    "### Génération\n",
    "\n",
    "Une machine sera déterminée par son programme (parmi les 12167 programmes possibles) et ses données (parmi les 1048576 données possibles) :"
   ]
  },
  {
   "cell_type": "code",
   "execution_count": null,
   "metadata": {
    "ExecuteTime": {
     "end_time": "2019-09-11T10:49:05.050145Z",
     "start_time": "2019-09-11T10:49:05.000078Z"
    }
   },
   "outputs": [],
   "source": [
    "def GenereInstruction(NInstruction) :\n",
    "    if NInstruction<(TailleBancRegistres**2) :\n",
    "        return[\"ADD\",\"R\"+str((NInstruction&3)),\"R\"+str((NInstruction>>2)&3)] #2 bits par 2 bits, masque 11 = 3\n",
    "    else :\n",
    "        return [\"BNE\",NInstruction-(TailleBancRegistres**2)]"
   ]
  },
  {
   "cell_type": "code",
   "execution_count": 70,
   "metadata": {
    "ExecuteTime": {
     "end_time": "2019-09-11T10:49:05.050145Z",
     "start_time": "2019-09-11T10:49:05.000078Z"
    }
   },
   "outputs": [],
   "source": [
    "def GenereMachine(NProgramme,NDonnees) :\n",
    "    return [GenereInstruction((NProgramme // (NbInstructionsPossibles ** 0))%NbInstructionsPossibles),\n",
    "            GenereInstruction((NProgramme // (NbInstructionsPossibles ** 1))%NbInstructionsPossibles),\n",
    "            GenereInstruction((NProgramme // (NbInstructionsPossibles ** 2))%NbInstructionsPossibles),\n",
    "            (NDonnees >> (0*TailleMotMemoire)) & ((1<<TailleMotMemoire)-1),\n",
    "            (NDonnees >> (1*TailleMotMemoire)) & ((1<<TailleMotMemoire)-1),\n",
    "            (NDonnees >> (2*TailleMotMemoire)) & ((1<<TailleMotMemoire)-1),\n",
    "            (NDonnees >> (3*TailleMotMemoire)) & ((1<<TailleMotMemoire)-1)]"
   ]
  },
  {
   "cell_type": "markdown",
   "metadata": {},
   "source": [
    "Pour analyser un programme et une donnée particulière, il suffit de construire le processus associé et de l'exécuter :"
   ]
  },
  {
   "cell_type": "code",
   "execution_count": 71,
   "metadata": {
    "ExecuteTime": {
     "end_time": "2019-09-11T10:49:05.112823Z",
     "start_time": "2019-09-11T10:49:05.054042Z"
    }
   },
   "outputs": [
    {
     "data": {
      "text/plain": [
       "'Erreur : Suite de Programme invalide'"
      ]
     },
     "execution_count": 71,
     "metadata": {},
     "output_type": "execute_result"
    }
   ],
   "source": [
    "from random import randint\n",
    "#choisir une mémoire aléatoire ou particuliere :\n",
    "MemoireExemple=GenereMachine(randint(0,NbProgrammesPossibles),randint(0,NbDonneesPossibles))\n",
    "#MemoireExemple = [[\"ADD\",\"R3\",\"R1\"],[\"ADD\",\"R0\",\"R2\"],[\"BNE\",0],2,3,-1,0]\n",
    "AnalyseMachine(MemoireExemple)"
   ]
  },
  {
   "cell_type": "markdown",
   "metadata": {},
   "source": [
    "### Analyse d'un programme\n",
    "\n",
    "Pour analyser un programme pour toutes les données possible, il suffit de lancer l'analyse sur toutes les données :"
   ]
  },
  {
   "cell_type": "code",
   "execution_count": 72,
   "metadata": {
    "ExecuteTime": {
     "end_time": "2019-09-11T10:49:05.166633Z",
     "start_time": "2019-09-11T10:49:05.115352Z"
    }
   },
   "outputs": [],
   "source": [
    "def AnalyseProgramme(NP) :\n",
    "    NbOk = 0\n",
    "    NbOO = 0\n",
    "    NbEr = 0\n",
    "    ProcessusAnalyse = {}\n",
    "    for i in range((1<<TailleMotMemoire)**TailleMemoireDonnees):\n",
    "        MemoireAnalyse=GenereMachine(NP,i)\n",
    "        initProcessus(ProcessusAnalyse,MemoireAnalyse)\n",
    "        res=ExecuteProcessus(ProcessusAnalyse)\n",
    "        if res == \"Fin de programme\" :\n",
    "            NbOk = NbOk+1\n",
    "        elif res == \"Erreur : Boucle infinie\" :\n",
    "            NbOO = NbOO +1\n",
    "        elif res == \"Erreur : Suite de Programme invalide\" : \n",
    "            NbEr = NbEr +1\n",
    "        else :\n",
    "            return res\n",
    "    print (\"Nb Ok :\",NbOk)\n",
    "    print (\"Nb OO :\",NbOO)\n",
    "    print (\"Nb Er :\",NbEr)  "
   ]
  },
  {
   "cell_type": "markdown",
   "metadata": {},
   "source": [
    "Par exemple (attention, cela peut prendre un peu de temps) :"
   ]
  },
  {
   "cell_type": "code",
   "execution_count": 73,
   "metadata": {
    "ExecuteTime": {
     "end_time": "2019-09-11T10:49:05.215708Z",
     "start_time": "2019-09-11T10:49:05.169307Z"
    }
   },
   "outputs": [
    {
     "name": "stdout",
     "output_type": "stream",
     "text": [
      "4492\n",
      "[['ADD', 'R3', 'R1'], ['ADD', 'R3', 'R2'], ['ADD', 'R0', 'R2'], 0, 0, 0, 0]\n"
     ]
    }
   ],
   "source": [
    "from random import randint\n",
    "NbTmp = randint(0,NbProgrammesPossibles)\n",
    "print (NbTmp)\n",
    "MemoireTmp=GenereMachine(NbTmp,0)\n",
    "print (MemoireTmp)\n",
    "#lancer l'analyse:\n",
    "#AnalyseProgramme(NbTmp)"
   ]
  },
  {
   "cell_type": "markdown",
   "metadata": {},
   "source": [
    "Pour analyser un programme particulier, on peut prendre exemple sur AnalyseProgramme, par exemple pour analyser la multiplication précédente, en faisant varier les entiers à multiplier :"
   ]
  },
  {
   "cell_type": "code",
   "execution_count": 74,
   "metadata": {
    "ExecuteTime": {
     "end_time": "2019-09-11T10:49:05.286961Z",
     "start_time": "2019-09-11T10:49:05.218431Z"
    }
   },
   "outputs": [],
   "source": [
    "def AnalyseProgrammeMultiplication() :\n",
    "    NbOk = 0\n",
    "    NbOO = 0\n",
    "    NbEr = 0\n",
    "    MemoireTri = [[\"ADD\",\"R3\",\"R1\"],[\"ADD\",\"R0\",\"R2\"],[\"BNE\",0],\"operande1\",\"operande2\",-1,0]\n",
    "    ProcessusTri = {}\n",
    "    for i in range(1<<TailleMotMemoire):\n",
    "        for j in range(1<<TailleMotMemoire):\n",
    "            MemoireTri[3]=i\n",
    "            MemoireTri[4]=j            \n",
    "            initProcessus(ProcessusTri,MemoireTri)\n",
    "            res=ExecuteProcessus(ProcessusTri)\n",
    "            if res == \"Fin de programme\" :\n",
    "                NbOk = NbOk+1\n",
    "            elif res == \"Erreur : Boucle infinie\" :\n",
    "                NbOO = NbOO +1\n",
    "            elif res == \"Erreur : Suite de Programme invalide\" : \n",
    "                NbEr = NbEr +1\n",
    "            else :\n",
    "                return res\n",
    "    print (\"Nb Ok :\",NbOk)\n",
    "    print (\"Nb OO :\",NbOO)\n",
    "    print (\"Nb Er :\",NbEr)  "
   ]
  },
  {
   "cell_type": "code",
   "execution_count": 75,
   "metadata": {
    "ExecuteTime": {
     "end_time": "2019-09-11T10:49:05.436509Z",
     "start_time": "2019-09-11T10:49:05.289770Z"
    }
   },
   "outputs": [
    {
     "name": "stdout",
     "output_type": "stream",
     "text": [
      "Nb Ok : 1024\n",
      "Nb OO : 0\n",
      "Nb Er : 0\n"
     ]
    }
   ],
   "source": [
    "#lancer l'analyse:\n",
    "AnalyseProgrammeMultiplication()"
   ]
  },
  {
   "cell_type": "markdown",
   "metadata": {},
   "source": [
    "### Analyse de plusieurs programmes (tous)\n",
    "\n",
    "Pour analyser tous les programmes possibles sur toutes les données, cela risque de prendre du temps, mais c'est facile à programmer (rappel, pour analyser un programme particulier sur toutes les données : AnalyseProgramme(NProg), pour analyser une machine particulier, i.e. un programme et ses données : AnalyseMachine(Memoire)) :"
   ]
  },
  {
   "cell_type": "code",
   "execution_count": 76,
   "metadata": {
    "ExecuteTime": {
     "end_time": "2019-09-11T10:49:05.446638Z",
     "start_time": "2019-09-11T10:49:05.438126Z"
    }
   },
   "outputs": [],
   "source": [
    "def AnalyseDeA(NPDebut,NPFin) :\n",
    "    print (\"Analyse des machines\")\n",
    "    print (\"De :\",NPDebut)\n",
    "    print (\"Jusqu'à :\",NPFin)  \n",
    "    print(\"-------------\")    \n",
    "    NbOkTot = 0\n",
    "    NbOOTot = 0\n",
    "    NbErTot = 0\n",
    "    ProcessusAnalyse = {}\n",
    "    for m in range(NPDebut,NPFin) :\n",
    "        NbOk = 0\n",
    "        NbOO = 0\n",
    "        NbEr = 0\n",
    "        for i in range((1<<TailleMotMemoire)**TailleMemoireDonnees):\n",
    "            MemoireAnalyse=GenereMachine(m,i)\n",
    "            initProcessus(ProcessusAnalyse,MemoireAnalyse)\n",
    "            res=ExecuteProcessus(ProcessusAnalyse)\n",
    "            if res == \"Fin de programme\" :\n",
    "                NbOk = NbOk+1\n",
    "            elif res == \"Erreur : Boucle infinie\" :\n",
    "                NbOO = NbOO +1\n",
    "            elif res == \"Erreur : Suite de Programme invalide\" : \n",
    "                NbEr = NbEr +1\n",
    "            else :\n",
    "                return res\n",
    "        print (m)\n",
    "        NbOkTot = NbOk+NbOkTot\n",
    "        NbOOTot = NbOO+NbOOTot\n",
    "        NbErTot = NbEr+NbErTot        \n",
    "        print (\"Nb Ok :\",NbOk,\"\\tNb Ok total :\",NbOkTot)\n",
    "        print (\"Nb OO :\",NbOO,\"\\tNb OO total :\",NbOOTot)\n",
    "        print (\"Nb Er :\",NbEr,\"\\tNb Er total :\",NbErTot)  \n",
    "        print(\"-------------\")"
   ]
  },
  {
   "cell_type": "markdown",
   "metadata": {},
   "source": [
    "L'analyse de l'ensemble des programmes possibles, avec toutes les données possibles est donc maintenant facile (mais cela va prendre du temps) :"
   ]
  },
  {
   "cell_type": "code",
   "execution_count": 77,
   "metadata": {
    "ExecuteTime": {
     "end_time": "2019-09-11T10:49:05.510527Z",
     "start_time": "2019-09-11T10:49:05.448335Z"
    },
    "slideshow": {
     "slide_type": "slide"
    }
   },
   "outputs": [],
   "source": [
    "#Pour lancer l'analyse globale :\n",
    "#AnalyseDeA(0,NbProgrammesPossibles)"
   ]
  },
  {
   "cell_type": "markdown",
   "metadata": {},
   "source": [
    "## Autres analyses\n",
    "\n",
    "### Analyses aléatoires\n",
    "\n",
    "Pour lancer une analyse de quelques machines prises aléatoirement avec des données elle-même prises au hasard (cela sera utile quand les machines et la taille de la mémoire sera plus grande et que l'on ne pourra plus analyser toutes les machines sur toutes les données) :"
   ]
  },
  {
   "cell_type": "code",
   "execution_count": 78,
   "metadata": {
    "ExecuteTime": {
     "end_time": "2019-09-11T10:49:05.558984Z",
     "start_time": "2019-09-11T10:49:05.513161Z"
    }
   },
   "outputs": [],
   "source": [
    "def AnalyseAlea(NbMachines,NbDonnees) :\n",
    "    print (\"Analyse de \",NbMachines,\"machines, chacune sur \",NbDonnees,\"données\")\n",
    "    print(\"-------------\")    \n",
    "    NbOkTot = 0\n",
    "    NbOOTot = 0\n",
    "    NbErTot = 0\n",
    "    ProcessusAnalyse = {}\n",
    "    for m in range(NbMachines) :\n",
    "        NbOk = 0\n",
    "        NbOO = 0\n",
    "        NbEr = 0\n",
    "        NProgrammeAleatoire = randint(0,NbProgrammesPossibles)\n",
    "        for i in range(NbDonnees):\n",
    "            MemoireAnalyse=GenereMachine(NProgrammeAleatoire,randint(0,NbDonneesPossibles))\n",
    "            initProcessus(ProcessusAnalyse,MemoireAnalyse)\n",
    "            res=ExecuteProcessus(ProcessusAnalyse)\n",
    "            if res == \"Fin de programme\" :\n",
    "                NbOk = NbOk+1\n",
    "            elif res == \"Erreur : Boucle infinie\" :\n",
    "                NbOO = NbOO +1\n",
    "            elif res == \"Erreur : Suite de Programme invalide\" : \n",
    "                NbEr = NbEr +1\n",
    "            else :\n",
    "                return res\n",
    "        print (\"Programme : \",NProgrammeAleatoire)\n",
    "        print (GenereMachine(NProgrammeAleatoire,0))\n",
    "        NbOkTot = NbOk+NbOkTot\n",
    "        NbOOTot = NbOO+NbOOTot\n",
    "        NbErTot = NbEr+NbErTot        \n",
    "        print (\"Nb Ok :\",NbOk,\"\\tNb Ok total :\",NbOkTot,\"\\tNb Ok total :\",100*NbOkTot/(NbOkTot+NbOOTot+NbErTot),\"%\")\n",
    "        print (\"Nb OO :\",NbOO,\"\\tNb OO total :\",NbOOTot,\"\\tNb OO total :\",100*NbOOTot/(NbOkTot+NbOOTot+NbErTot),\"%\")\n",
    "        print (\"Nb Er :\",NbEr,\"\\tNb Er total :\",NbErTot,\"\\tNb Er total :\",100*NbErTot/(NbOkTot+NbOOTot+NbErTot),\"%\")  \n",
    "        print(\"-------------\")"
   ]
  },
  {
   "cell_type": "code",
   "execution_count": 79,
   "metadata": {
    "ExecuteTime": {
     "end_time": "2019-09-11T10:49:05.677939Z",
     "start_time": "2019-09-11T10:49:05.562014Z"
    }
   },
   "outputs": [
    {
     "name": "stdout",
     "output_type": "stream",
     "text": [
      "Analyse de  10 machines, chacune sur  100 données\n",
      "-------------\n",
      "Programme :  3824\n",
      "[['ADD', 'R2', 'R1'], ['ADD', 'R1', 'R1'], ['ADD', 'R3', 'R1'], 0, 0, 0, 0]\n",
      "Nb Ok : 100 \tNb Ok total : 100 \tNb Ok total : 100.0 %\n",
      "Nb OO : 0 \tNb OO total : 0 \tNb OO total : 0.0 %\n",
      "Nb Er : 0 \tNb Er total : 0 \tNb Er total : 0.0 %\n",
      "-------------\n",
      "Programme :  6552\n",
      "[['BNE', 4], ['ADD', 'R0', 'R2'], ['ADD', 'R0', 'R3'], 0, 0, 0, 0]\n",
      "Nb Ok : 0 \tNb Ok total : 100 \tNb Ok total : 50.0 %\n",
      "Nb OO : 0 \tNb OO total : 0 \tNb OO total : 0.0 %\n",
      "Nb Er : 100 \tNb Er total : 100 \tNb Er total : 50.0 %\n",
      "-------------\n",
      "Programme :  11042\n",
      "[['ADD', 'R2', 'R0'], ['BNE', 4], ['BNE', 4], 0, 0, 0, 0]\n",
      "Nb Ok : 2 \tNb Ok total : 102 \tNb Ok total : 34.0 %\n",
      "Nb OO : 0 \tNb OO total : 0 \tNb OO total : 0.0 %\n",
      "Nb Er : 98 \tNb Er total : 198 \tNb Er total : 66.0 %\n",
      "-------------\n",
      "Programme :  4469\n",
      "[['ADD', 'R3', 'R1'], ['ADD', 'R2', 'R2'], ['ADD', 'R0', 'R2'], 0, 0, 0, 0]\n",
      "Nb Ok : 100 \tNb Ok total : 202 \tNb Ok total : 50.5 %\n",
      "Nb OO : 0 \tNb OO total : 0 \tNb OO total : 0.0 %\n",
      "Nb Er : 0 \tNb Er total : 198 \tNb Er total : 49.5 %\n",
      "-------------\n",
      "Programme :  12045\n",
      "[['BNE', 0], ['BNE', 1], ['BNE', 6], 0, 0, 0, 0]\n",
      "Nb Ok : 0 \tNb Ok total : 202 \tNb Ok total : 40.4 %\n",
      "Nb OO : 100 \tNb OO total : 100 \tNb OO total : 20.0 %\n",
      "Nb Er : 0 \tNb Er total : 198 \tNb Er total : 39.6 %\n",
      "-------------\n",
      "Programme :  4704\n",
      "[['ADD', 'R0', 'R3'], ['BNE', 4], ['ADD', 'R0', 'R2'], 0, 0, 0, 0]\n",
      "Nb Ok : 2 \tNb Ok total : 204 \tNb Ok total : 34.0 %\n",
      "Nb OO : 0 \tNb OO total : 100 \tNb OO total : 16.666666666666668 %\n",
      "Nb Er : 98 \tNb Er total : 296 \tNb Er total : 49.333333333333336 %\n",
      "-------------\n",
      "Programme :  7260\n",
      "[['ADD', 'R3', 'R3'], ['BNE', 0], ['ADD', 'R1', 'R3'], 0, 0, 0, 0]\n",
      "Nb Ok : 100 \tNb Ok total : 304 \tNb Ok total : 43.42857142857143 %\n",
      "Nb OO : 0 \tNb OO total : 100 \tNb OO total : 14.285714285714286 %\n",
      "Nb Er : 0 \tNb Er total : 296 \tNb Er total : 42.285714285714285 %\n",
      "-------------\n",
      "Programme :  6234\n",
      "[['ADD', 'R1', 'R0'], ['BNE', 2], ['ADD', 'R3', 'R2'], 0, 0, 0, 0]\n",
      "Nb Ok : 100 \tNb Ok total : 404 \tNb Ok total : 50.5 %\n",
      "Nb OO : 0 \tNb OO total : 100 \tNb OO total : 12.5 %\n",
      "Nb Er : 0 \tNb Er total : 296 \tNb Er total : 37.0 %\n",
      "-------------\n",
      "Programme :  10036\n",
      "[['ADD', 'R0', 'R2'], ['BNE', 6], ['BNE', 2], 0, 0, 0, 0]\n",
      "Nb Ok : 1 \tNb Ok total : 405 \tNb Ok total : 45.0 %\n",
      "Nb OO : 0 \tNb OO total : 100 \tNb OO total : 11.11111111111111 %\n",
      "Nb Er : 99 \tNb Er total : 395 \tNb Er total : 43.888888888888886 %\n",
      "-------------\n",
      "Programme :  2889\n",
      "[['ADD', 'R2', 'R3'], ['ADD', 'R2', 'R2'], ['ADD', 'R1', 'R1'], 0, 0, 0, 0]\n",
      "Nb Ok : 100 \tNb Ok total : 505 \tNb Ok total : 50.5 %\n",
      "Nb OO : 0 \tNb OO total : 100 \tNb OO total : 10.0 %\n",
      "Nb Er : 0 \tNb Er total : 395 \tNb Er total : 39.5 %\n",
      "-------------\n"
     ]
    }
   ],
   "source": [
    "AnalyseAlea(10,100)"
   ]
  },
  {
   "cell_type": "markdown",
   "metadata": {},
   "source": [
    "### Analyses plus poussée\n",
    "\n",
    "Sur la base de ce qui a été fait précédement, on peut pousser un peu plus une analyse particulière.\n",
    "\n",
    "Exemple : donner le nombre maximum d'instructions exécutées (basée sur une analyse aléatoire).\n"
   ]
  },
  {
   "cell_type": "code",
   "execution_count": null,
   "metadata": {
    "ExecuteTime": {
     "end_time": "2019-09-11T10:49:05.691509Z",
     "start_time": "2019-09-11T10:49:05.680362Z"
    }
   },
   "outputs": [],
   "source": [
    "def ExecuteProcessusEtCompteInstruction(P):\n",
    "    Tortue = P.copy()\n",
    "    Lievre = P.copy()\n",
    "    continuation = True\n",
    "    NbInstruction = 0\n",
    "    msgLievre = None\n",
    "    msgTortue = None\n",
    "    while continuation :\n",
    "        msgTortue = ExecuteUneInstruction(Tortue)\n",
    "        NbInstruction = NbInstruction+1\n",
    "        if msgLievre is None :\n",
    "            msgLievre = ExecuteUneInstruction(Lievre)\n",
    "        if msgLievre is None :\n",
    "            msgLievre = ExecuteUneInstruction(Lievre)\n",
    "        if msgTortue == \"Fin de programme\" :\n",
    "            return NbInstruction\n",
    "        elif MemeEtat(Tortue,Lievre) :\n",
    "            return -1\n",
    "        elif msgTortue :\n",
    "            return -1"
   ]
  },
  {
   "cell_type": "code",
   "execution_count": 80,
   "metadata": {
    "ExecuteTime": {
     "end_time": "2019-09-11T10:49:05.691509Z",
     "start_time": "2019-09-11T10:49:05.680362Z"
    }
   },
   "outputs": [],
   "source": [
    "def AnalyseNbMaxInstruction(NbMachines,NbDonnees) :\n",
    "    print (\"Analyse de \",NbMachines,\"machines, chacune sur \",NbDonnees,\"données, pour trouver le nombre maximum d'instructions exécutées\")\n",
    "    print(\"-------------\")    \n",
    "    NbMaxIns = 25 #pour limiter les affichages, \n",
    "    ProcessusAnalyse = {}\n",
    "    for m in range(NbMachines) :\n",
    "        NMachineAleatoire = randint(0,NbProgrammesPossibles)\n",
    "        for i in range(NbDonnees):\n",
    "            NDonneesAleatoires = randint(0,NbDonneesPossibles)\n",
    "            MemoireAnalyse=GenereMachine(NMachineAleatoire,NDonneesAleatoires)\n",
    "            initProcessus(ProcessusAnalyse,MemoireAnalyse)\n",
    "            res=ExecuteProcessusEtCompteInstruction(ProcessusAnalyse)\n",
    "            if res>NbMaxIns :\n",
    "                NbMaxIns=res\n",
    "                print (\"Programme : \",NMachineAleatoire,\"Donnee :\",NDonneesAleatoires)\n",
    "                print (GenereMachine(NMachineAleatoire,NDonneesAleatoires))\n",
    "                print (NbMaxIns,\"instructions exécutées.\")\n",
    "                print(\"-------------\")"
   ]
  },
  {
   "cell_type": "code",
   "execution_count": 81,
   "metadata": {
    "ExecuteTime": {
     "end_time": "2019-09-11T10:49:05.784198Z",
     "start_time": "2019-09-11T10:49:05.693729Z"
    }
   },
   "outputs": [
    {
     "name": "stdout",
     "output_type": "stream",
     "text": [
      "Analyse de  100 machines, chacune sur  10 données, pour trouver le nombre maximum d'instructions exécutées\n",
      "-------------\n",
      "Programme :  9257 Donnee : 14542\n",
      "[['ADD', 'R3', 'R2'], ['ADD', 'R3', 'R2'], ['BNE', 1], 14, 6, 14, 0]\n",
      "31 instructions exécutées.\n",
      "-------------\n",
      "Programme :  9257 Donnee : 169047\n",
      "[['ADD', 'R3', 'R2'], ['ADD', 'R3', 'R2'], ['BNE', 1], 23, 2, 5, 5]\n",
      "61 instructions exécutées.\n",
      "-------------\n",
      "Programme :  8525 Donnee : 590007\n",
      "[['ADD', 'R3', 'R3'], ['ADD', 'R2', 'R0'], ['BNE', 0], 23, 5, 0, 18]\n",
      "96 instructions exécutées.\n",
      "-------------\n"
     ]
    }
   ],
   "source": [
    "AnalyseNbMaxInstruction(100,10)"
   ]
  },
  {
   "cell_type": "markdown",
   "metadata": {},
   "source": [
    "ou le nombre moyen d'instructions exécutées (pour les programmes ok) :"
   ]
  },
  {
   "cell_type": "code",
   "execution_count": 82,
   "metadata": {
    "ExecuteTime": {
     "end_time": "2019-09-11T10:49:05.799431Z",
     "start_time": "2019-09-11T10:49:05.786542Z"
    }
   },
   "outputs": [],
   "source": [
    "def AnalyseNbMoyInstruction(NbMachines,NbDonnees) :\n",
    "    print (\"Analyse de \",NbMachines,\"machines, chacune sur \",NbDonnees,\"données, pour trouver le nombre moyen d'instructions exécutées\")\n",
    "    print(\"-------------\")    \n",
    "    NbTotIns = 0\n",
    "    NbProgOk = 0\n",
    "    ProcessusAnalyse = {}\n",
    "    for m in range(NbMachines) :\n",
    "        NMachineAleatoire = randint(0,NbProgrammesPossibles)\n",
    "        for i in range(NbDonnees):\n",
    "            NDonneesAleatoires = randint(0,NbDonneesPossibles)\n",
    "            MemoireAnalyse=GenereMachine(NMachineAleatoire,NDonneesAleatoires)\n",
    "            initProcessus(ProcessusAnalyse,MemoireAnalyse)\n",
    "            res=ExecuteProcessusEtCompteInstruction(ProcessusAnalyse)\n",
    "            if res>0 :\n",
    "                NbTotIns=res+NbTotIns\n",
    "                NbProgOk=NbProgOk+1\n",
    "    print (\"Nombre moyen d'instructions exécutées : \",NbTotIns/NbProgOk,\" pour \",NbProgOk,\"programmes ok\")\n"
   ]
  },
  {
   "cell_type": "code",
   "execution_count": 83,
   "metadata": {
    "ExecuteTime": {
     "end_time": "2019-09-11T10:49:05.893282Z",
     "start_time": "2019-09-11T10:49:05.801607Z"
    }
   },
   "outputs": [
    {
     "name": "stdout",
     "output_type": "stream",
     "text": [
      "Analyse de  100 machines, chacune sur  10 données, pour trouver le nombre moyen d'instructions exécutées\n",
      "-------------\n",
      "Nombre moyen d'instructions exécutées :  4.818725099601593  pour  502 programmes ok\n"
     ]
    }
   ],
   "source": [
    "AnalyseNbMoyInstruction(100,10)"
   ]
  },
  {
   "cell_type": "markdown",
   "metadata": {},
   "source": [
    "## Conclusion\n",
    "\n",
    "### Récapitulatif\n",
    "\n",
    "Le problème de l'arrêt peut donc être analysé de manière exhaustive pour une petite machine (2 instructions Add/BNE), ayant une petite mémoire (3 instructions, 4 données ; mots de 5 bits). L'analyse s'effectue en catégorisant les programmes selon qu'ils terminent normalement/correctement, qu'ils exécutent une instruction erronnée ou qu'ils bouclent à l'infini, resp. : qu'ils   exécutent la dernière instruction de la zone de programme sans que celle-ci n'engendre de saut (ni en avant, ni en arrière) ; qu'ils exécutent une instruction engendrant un saut hors de la zone de programme ; que l'exécution du programme passe plus d'une fois par le même état, i.e. que l'exécution du programme à deux vitesses différentes (une instruction à la fois, ou deux instructions à la suite à chaque fois) mène à un instant donnée au même état (cas de boucle infinie). \n",
    "\n",
    "Pour ces machines minimalistes et cette catégorisation des arrêts, l'analyse présente montre que :\n",
    "* en moyenne, les machines correctes exécutent un peu plus de 5 instructions\n",
    "* au maximum, les machines correctes exécutent 189 instructions\n",
    "* parmi les 12167 programmes et 12758024192 machines différentes possibles, environ 50% des machines et programmes sont correctes (un peu moins), 40% terminent en erreur (un peu moins) et 10% bouclent à l'infini (un peu plus)."
   ]
  },
  {
   "cell_type": "markdown",
   "metadata": {},
   "source": [
    "### Variantes\n",
    "\n",
    "Pour la variante **8 bits** \\[taille du mot mémoire] (à la place des 5 bits de la version de base) de ces machines :\n",
    "* en moyenne, les machines correctes exécutent environ 25 instructions\n",
    "* au maximum, les machines correctes peuvent exécuter plus de 1500 instructions\n",
    "* parmi les programmes et machines différentes possibles, environ 50% des machines et programmes sont correctes (un peu moins), 40% terminent en erreur (un peu plus) et 10% bouclent à l'infini (un peu plus) \n",
    "\n",
    "Pour la variante **8 mots mémoire** (à la place des 7 mots mémoire de la version de base) de ces machines :\n",
    "* en moyenne, les machines correctes exécutent environ 10 instructions\n",
    "* au maximum, les machines correctes peuvent exécuter plus de 3000 instructions\n",
    "* parmi les programmes et  machines différentes possibles, environ 40% des machines et programmes sont correctes, 40% terminent en erreur et 10% bouclent à l'infini (un peu plus).\n",
    "\n",
    "Pour la variante **BEQ** (à la place de BNE de la version de base) de ces machines :\n",
    "* en moyenne, les machines correctes exécutent 3 instructions\n",
    "* au maximum, les machines correctes exécutent 9 instructions\n",
    "* parmi les programmes et machines différentes possibles, sur des tests aléatoires de machine environ 99% des machines et programmes sont correctes (un peu moins), 1% terminent en erreur et moins de 1% bouclent à l'infini (mais un peu plus que 0%).\n",
    "\n",
    "Pour la variante **sans erreur** (à la place de la version de base) de ces machines :\n",
    "* en moyenne, les machines correctes exécutent un peu plus de 5 instructions\n",
    "* au maximum, les machines correctes exécutent 189 instructions\n",
    "* parmi les programmes et machines différentes possibles, environ 80% des machines et programmes sont correctes et terminent, 20% bouclent à l'infini.\n",
    "\n",
    "Pour la variante **sûre**  (à la place de la version de base) de ces machines :\n",
    "* en moyenne, les machines correctes exécutent 3 instructions\n",
    "* au maximum, les machines correctes exécutent 48 instructions\n",
    "* parmi les programmes et machines différentes possibles, environ 20% des machines et programmes sont correctes (un peu moins), 40% terminent avec une erreur de calcul (un peu plus), 30% terminent avec un saut invalide (un peu plus) et 10% bouclent à l'infini (un peu moins).\n",
    "\n",
    "Pour la variante **normalisée** (14 ADD pour 7 BNE, c'est à dire 2/3 ADD pour 1/3 BNE, au lieu de 16 ADD pour 7 BNE) de ces machines :\n",
    "* en moyenne, les machines correctes exécutent un peu moins de 6 instructions\n",
    "* au maximum, les machines correctes peuvent exécuter 189 instructions\n",
    "* parmi les programmes et machines différentes possibles, environ 40% des machines et programmes sont correctes (un peu plus), 40% terminent en erreur (un peu plus) et 10% bouclent à l'infini (un peu plus) "
   ]
  },
  {
   "cell_type": "markdown",
   "metadata": {},
   "source": [
    "### Rappels \n",
    "\n",
    "Pour effectuer une analyse, ou plusieurs analyses :"
   ]
  },
  {
   "cell_type": "code",
   "execution_count": 84,
   "metadata": {
    "ExecuteTime": {
     "end_time": "2019-09-11T10:49:05.917001Z",
     "start_time": "2019-09-11T10:49:05.895515Z"
    }
   },
   "outputs": [
    {
     "data": {
      "text/plain": [
       "'Fin de programme'"
      ]
     },
     "execution_count": 84,
     "metadata": {},
     "output_type": "execute_result"
    }
   ],
   "source": [
    "AnalyseMachine([[\"ADD\",\"R3\",\"R1\"],[\"ADD\",\"R0\",\"R2\"],[\"BNE\",0],2,3,-1,0])"
   ]
  },
  {
   "cell_type": "code",
   "execution_count": 85,
   "metadata": {
    "ExecuteTime": {
     "end_time": "2019-09-11T10:49:05.972103Z",
     "start_time": "2019-09-11T10:49:05.920762Z"
    }
   },
   "outputs": [
    {
     "name": "stdout",
     "output_type": "stream",
     "text": [
      "Analyse de  2 machines, chacune sur  2 données\n",
      "-------------\n",
      "Programme :  440\n",
      "[['ADD', 'R3', 'R0'], ['BNE', 3], ['ADD', 'R0', 'R0'], 0, 0, 0, 0]\n",
      "Nb Ok : 0 \tNb Ok total : 0 \tNb Ok total : 0.0 %\n",
      "Nb OO : 0 \tNb OO total : 0 \tNb OO total : 0.0 %\n",
      "Nb Er : 2 \tNb Er total : 2 \tNb Er total : 100.0 %\n",
      "-------------\n",
      "Programme :  5809\n",
      "[['ADD', 'R1', 'R3'], ['BNE', 6], ['ADD', 'R2', 'R2'], 0, 0, 0, 0]\n",
      "Nb Ok : 0 \tNb Ok total : 0 \tNb Ok total : 0.0 %\n",
      "Nb OO : 0 \tNb OO total : 0 \tNb OO total : 0.0 %\n",
      "Nb Er : 2 \tNb Er total : 4 \tNb Er total : 100.0 %\n",
      "-------------\n"
     ]
    }
   ],
   "source": [
    "AnalyseAlea(2,2)"
   ]
  },
  {
   "cell_type": "code",
   "execution_count": 86,
   "metadata": {
    "ExecuteTime": {
     "end_time": "2019-09-11T10:49:06.046747Z",
     "start_time": "2019-09-11T10:49:05.975851Z"
    }
   },
   "outputs": [
    {
     "name": "stdout",
     "output_type": "stream",
     "text": [
      "Analyse de  100 machines, chacune sur  10 données, pour trouver le nombre maximum d'instructions exécutées\n",
      "-------------\n",
      "Programme :  8570 Donnee : 295904\n",
      "[['ADD', 'R2', 'R3'], ['ADD', 'R0', 'R1'], ['BNE', 0], 0, 31, 0, 9]\n",
      "96 instructions exécutées.\n",
      "-------------\n"
     ]
    }
   ],
   "source": [
    "AnalyseNbMaxInstruction(100,10)"
   ]
  },
  {
   "cell_type": "code",
   "execution_count": 87,
   "metadata": {
    "ExecuteTime": {
     "end_time": "2019-09-11T10:49:06.089609Z",
     "start_time": "2019-09-11T10:49:06.048990Z"
    }
   },
   "outputs": [
    {
     "name": "stdout",
     "output_type": "stream",
     "text": [
      "Analyse de  100 machines, chacune sur  10 données, pour trouver le nombre moyen d'instructions exécutées\n",
      "-------------\n",
      "Nombre moyen d'instructions exécutées :  5.859154929577465  pour  426 programmes ok\n"
     ]
    }
   ],
   "source": [
    "AnalyseNbMoyInstruction(100,10)"
   ]
  },
  {
   "cell_type": "code",
   "execution_count": 88,
   "metadata": {
    "ExecuteTime": {
     "end_time": "2019-09-11T10:49:20.284202Z",
     "start_time": "2019-09-11T10:49:06.091720Z"
    }
   },
   "outputs": [
    {
     "name": "stdout",
     "output_type": "stream",
     "text": [
      "Analyse des machines\n",
      "De : 1234\n",
      "Jusqu'à : 1236\n",
      "-------------\n",
      "1234\n",
      "Nb Ok : 1048576 \tNb Ok total : 1048576\n",
      "Nb OO : 0 \tNb OO total : 0\n",
      "Nb Er : 0 \tNb Er total : 0\n",
      "-------------\n",
      "1235\n",
      "Nb Ok : 0 \tNb Ok total : 1048576\n",
      "Nb OO : 1048576 \tNb OO total : 1048576\n",
      "Nb Er : 0 \tNb Er total : 0\n",
      "-------------\n"
     ]
    }
   ],
   "source": [
    "AnalyseDeA(1234,1236)"
   ]
  }
 ],
 "metadata": {
  "kernelspec": {
   "display_name": "Python 3",
   "language": "python",
   "name": "python3"
  },
  "language_info": {
   "codemirror_mode": {
    "name": "ipython",
    "version": 3
   },
   "file_extension": ".py",
   "mimetype": "text/x-python",
   "name": "python",
   "nbconvert_exporter": "python",
   "pygments_lexer": "ipython3",
   "version": "3.7.1"
  },
  "toc": {
   "base_numbering": 1,
   "nav_menu": {},
   "number_sections": true,
   "sideBar": false,
   "skip_h1_title": true,
   "title_cell": "Table of Contents",
   "title_sidebar": "Contents",
   "toc_cell": true,
   "toc_position": {},
   "toc_section_display": false,
   "toc_window_display": false
  },
  "varInspector": {
   "cols": {
    "lenName": 16,
    "lenType": 16,
    "lenVar": 40
   },
   "kernels_config": {
    "python": {
     "delete_cmd_postfix": "",
     "delete_cmd_prefix": "del ",
     "library": "var_list.py",
     "varRefreshCmd": "print(var_dic_list())"
    },
    "r": {
     "delete_cmd_postfix": ") ",
     "delete_cmd_prefix": "rm(",
     "library": "var_list.r",
     "varRefreshCmd": "cat(var_dic_list()) "
    }
   },
   "types_to_exclude": [
    "module",
    "function",
    "builtin_function_or_method",
    "instance",
    "_Feature"
   ],
   "window_display": false
  }
 },
 "nbformat": 4,
 "nbformat_minor": 2
}
