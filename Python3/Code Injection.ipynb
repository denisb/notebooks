{
 "cells": [
  {
   "cell_type": "markdown",
   "metadata": {},
   "source": [
    "# Code injection en Python3\n",
    "\n",
    "## Simulation de login\n",
    "\n",
    "Imaginons un programme demandant une authentification passant par une base de données"
   ]
  },
  {
   "cell_type": "code",
   "execution_count": 17,
   "metadata": {
    "collapsed": false
   },
   "outputs": [],
   "source": [
    "def login(X):\n",
    "    if (X==\"joe\"):\n",
    "        print(\"ok\")\n",
    "    else:\n",
    "        print(\"pas bon\")"
   ]
  },
  {
   "cell_type": "markdown",
   "metadata": {},
   "source": [
    "Dans la suite, on simulera l'appel à cette authentification en produisant l'appel à la fonction login avec un nom, puis en simulant son exécution. \n",
    "\n",
    "Comme cette authentification est sensée s'effectuer via une requête en base de données, produire l'appel signifie produire la chaine de caractères qui effectue l'appel. Dans la vraie vie, cette chaine serait ensuite envoyée au gestionnaire de base de données et exécutée par lui.\n",
    "\n",
    "Pour notre simulation, on produira une chaine de caractères corespondant à l'appel en python puis on exécutera cette appel en prenant le code de la chaine de caractère pour du code python et on l'exécutera.\n",
    "\n",
    "Le point délicat, c'est que l'on n'exécute pas un programme directement mais que l'on produit une chaine de caractère qui corespond à un programme et que dans cette chaine de caractères, si une partie est définie par l'utilisateur (par exemple, le nom), il y a un risque que l'utilisateur ait donné avec son nom d'autres choses ...\n",
    "\n",
    "Voila donc le programme de saisie d'un nom, de production du programme d'authentification et d'exécution de ce programme :"
   ]
  },
  {
   "cell_type": "code",
   "execution_count": 15,
   "metadata": {
    "collapsed": false
   },
   "outputs": [
    {
     "name": "stdout",
     "output_type": "stream",
     "text": [
      "Votre nom (pour authentification) : \n",
      "bob\n",
      "Code produit pour exécution (lancez l'exécution) : \n"
     ]
    }
   ],
   "source": [
    "print(\"Votre nom (pour authentification) : \")\n",
    "Nom = input()\n",
    "print(\"Code produit pour exécution (lancez l'exécution) : \")\n",
    "get_ipython().set_next_input('login(\"'+Nom+'\")')"
   ]
  },
  {
   "cell_type": "code",
   "execution_count": 18,
   "metadata": {
    "collapsed": false
   },
   "outputs": [
    {
     "name": "stdout",
     "output_type": "stream",
     "text": [
      "pas bon\n"
     ]
    }
   ],
   "source": [
    "login(\"bob\")"
   ]
  },
  {
   "cell_type": "markdown",
   "metadata": {},
   "source": [
    "Si vous avez tapé \"joe\", alors vous avez vu \"ok\", mais à priori, vous ne savez pas qu'il faut taper \"joe\", donc vous taper \"bob\", votre nom, ou n'importe quoi, et vous devriez avoir \"pas bon\".\n",
    "\n",
    "La question, c'est comment arriver à voir apparaitre \"ok\" sans savoir qu'il faut taper \"joe\"\n",
    "\n",
    "Vous pouvez essayer un autre nom pour voir \"ok\", si vous arrivez à faire apparaitre \"ok\", c'est que vous avez réussi à contourner l'authentification."
   ]
  },
  {
   "cell_type": "code",
   "execution_count": null,
   "metadata": {
    "collapsed": true
   },
   "outputs": [],
   "source": [
    "print(\"Votre nom (pour authentification) : \")\n",
    "Nom = input()\n",
    "print(\"Code produit pour exécution (lancez l'exécution) : \")\n",
    "get_ipython().set_next_input('login(\"'+Nom+'\")')"
   ]
  },
  {
   "cell_type": "markdown",
   "metadata": {},
   "source": [
    "Solutions\n",
    "\n",
    "Si vous n'avez pas réussi à voir \"ok\", voici une solution :\n",
    "\n",
    "(plus bas)\n",
    "\n",
    "(plus bas)\n",
    "\n",
    "(encore un peu plus bas)\n",
    "\n",
    "(presque arrivé)\n",
    "\n",
    "(vous êtes sûr(e) de vouloir la solution, essayez encore ...)\n",
    "\n",
    "(non ?)\n",
    "\n",
    "(alors, ok, la voilà :)\n",
    "\n",
    "toto\"), print(\"ok"
   ]
  }
 ],
 "metadata": {
  "kernelspec": {
   "display_name": "Python 3",
   "language": "python",
   "name": "python3"
  },
  "language_info": {
   "codemirror_mode": {
    "name": "ipython",
    "version": 3
   },
   "file_extension": ".py",
   "mimetype": "text/x-python",
   "name": "python",
   "nbconvert_exporter": "python",
   "pygments_lexer": "ipython3",
   "version": "3.6.0"
  }
 },
 "nbformat": 4,
 "nbformat_minor": 2
}
