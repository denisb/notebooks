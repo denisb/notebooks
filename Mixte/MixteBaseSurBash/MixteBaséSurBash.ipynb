{
 "cells": [
  {
   "cell_type": "markdown",
   "id": "2c0c3cc4-e840-4bfa-a7f8-a5740a17bd06",
   "metadata": {},
   "source": [
    "# NoteBook Mixte basé sur Bash\n",
    "\n",
    "Au lieu des magics de Python, une solution avec bash ?"
   ]
  },
  {
   "cell_type": "code",
   "execution_count": 9,
   "id": "b6344a1b-003f-426f-8377-92bc7dee89c4",
   "metadata": {},
   "outputs": [],
   "source": [
    "cat > prog.c << FinProgC\n",
    "#include <stdio.h>\n",
    "int main() {\n",
    "   printf(\"Bonjour Caseine !\\n\");\n",
    "    return 0;}\n",
    "FinProgC"
   ]
  },
  {
   "cell_type": "code",
   "execution_count": 7,
   "id": "a03f272f-f7f4-43be-9320-24867b4b55c5",
   "metadata": {},
   "outputs": [],
   "source": [
    "gcc prog.c -o prog"
   ]
  },
  {
   "cell_type": "code",
   "execution_count": 8,
   "id": "9d507204-0a85-4ed3-a9b8-6bb28020b341",
   "metadata": {},
   "outputs": [
    {
     "name": "stdout",
     "output_type": "stream",
     "text": [
      "Bonjour Caseine !\n"
     ]
    }
   ],
   "source": [
    "./prog"
   ]
  },
  {
   "cell_type": "markdown",
   "id": "fc3f1096-bdca-41f8-81b4-890d11fa595c",
   "metadata": {},
   "source": [
    "Voilà, c'est tout.\n",
    "\n",
    "(mais ça marche)"
   ]
  }
 ],
 "metadata": {
  "kernelspec": {
   "display_name": "Bash",
   "language": "bash",
   "name": "bash"
  },
  "language_info": {
   "codemirror_mode": "shell",
   "file_extension": ".sh",
   "mimetype": "text/x-sh",
   "name": "bash"
  }
 },
 "nbformat": 4,
 "nbformat_minor": 5
}
