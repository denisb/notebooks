{
 "cells": [
  {
   "attachments": {},
   "cell_type": "markdown",
   "id": "06fb373e-cd58-4ab3-a471-6f91b045b118",
   "metadata": {},
   "source": [
    "# Euclide\n",
    "\n",
    "Traduction en assembleur de l'algorithme d'Euclide.\n",
    "\n",
    "## Version initiale\n",
    "\n",
    "Dans l'une des premières traductions en français des éléments d'Euclides :\n",
    "\n",
    "![ElementsEuclide](ElementsEuclide.png)\n",
    "\n",
    "## Programme moderne\n",
    "\n",
    "Version moderne :\n",
    "\n",
    "```\n",
    "Saisie A, B\n",
    "Tant que A<> B\n",
    "  si A > B alors\n",
    "    A <- B\n",
    "  sinon\n",
    "    B <- A\n",
    "  fsi\n",
    "ftq\n",
    "Affichage A, B\n",
    "```\n",
    "\n",
    "## Organisation du code\n",
    "\n",
    "L'objectif n'est pas de traduire d'un seul morceau l'algorithme, mais, à la manière des compilateurs, traduire morceau par morceau l'algorithme. Pour cela, analysons la structure syntaxique du programme.\n",
    "\n",
    "### Analyse de la construction syntaxique du programme\n",
    "\n",
    "![euclideSyntaxique](euclideSyntaxique.png)\n",
    "\n",
    "Hors les textes (à traduire en assembleur), l'algorithme se découpe en 7 éléments de codes auxquels nous associerons 7 morceaux (ou extraits) de code, un fichier par extrait. L'assemblage des fichiers par inclusion (```#include 'file' ```) permettra de retrouver le code complet.\n",
    "\n",
    "### Shéma de l'organisation en fichier\n",
    "\n",
    "<table style=\"border-style:solid;\" >\n",
    "  <tr><td>fichier:Euclide</td></tr> \n",
    "  <tr><td><table >\n",
    "      <tr><td>déclarations A, B;</td></tr>\n",
    "      <tr><td  style=\"border-style:solid;margin:10px;display:block;\">&nbsp;&nbsp;extrait:Saisie A, B</td></tr>\n",
    "      <tr><td  style=\"border-style:solid;margin:10px;display:block;\"><table >\n",
    "           <tr><td>&nbsp;&nbsp;extrait:Boucle</td></tr>\n",
    "           <tr><td>&nbsp;&nbsp;Tant que A<>B faire:</td></tr>\n",
    "           <tr><td style=\"border-style:solid;margin:10px;display:block;\"><table>\n",
    "               <tr><td>&nbsp;&nbsp;&nbsp;&nbsp;extrait:Corps Boucle</td></tr>\n",
    "               <tr><td>&nbsp;&nbsp;&nbsp;&nbsp;Si A&gt;B alors</td></tr>\n",
    "               <tr><td style=\"border-style:solid;margin:10px;display:block;\">&nbsp;&nbsp;&nbsp;&nbsp;extrait:Alors (A<-A-B)</td></tr>\n",
    "               <tr><td>&nbsp;&nbsp;&nbsp;&nbsp;Sinon</td></tr>\n",
    "               <tr><td style=\"border-style:solid;margin:10px;display:block;\">&nbsp;&nbsp;&nbsp;&nbsp;extrait:Sinon (B<-B-A)</td></tr>\n",
    "               <tr><td>&nbsp;&nbsp;&nbsp;&nbsp;fsi</td></tr></table></td></tr>\n",
    "           <tr><td>&nbsp;&nbsp;ftq</td></tr></table></td></tr>\n",
    "  <tr><td  style=\"border-style:solid;margin:10px;display:block;\">&nbsp;&nbsp;extrait:Affichage A, B</td></tr></table></td></tr>\n",
    "</table>\n",
    "\n",
    "### Mise en place\n",
    "\n",
    "Les 7 fichiers, avec les inclusions, seront donc :"
   ]
  },
  {
   "cell_type": "code",
   "execution_count": 1,
   "id": "d73ad853-76df-4c58-96c4-0c6cc044be9a",
   "metadata": {
    "execution": {
     "iopub.execute_input": "2024-04-29T08:36:52.596548Z",
     "iopub.status.busy": "2024-04-29T08:36:52.596160Z",
     "iopub.status.idle": "2024-04-29T08:36:52.618806Z",
     "shell.execute_reply": "2024-04-29T08:36:52.618271Z",
     "shell.execute_reply.started": "2024-04-29T08:36:52.596503Z"
    }
   },
   "outputs": [
    {
     "name": "stdout",
     "output_type": "stream",
     "text": [
      "Overwriting euclide.es\n"
     ]
    }
   ],
   "source": [
    "%%writefile euclide.es\n",
    "@declarations A, B;\n",
    "#include \"saisie.es\"\n",
    "#include \"boucle.es\"\n",
    "#include \"affichage.es\""
   ]
  },
  {
   "cell_type": "code",
   "execution_count": 2,
   "id": "084cba7b-8586-4410-b609-f8e93c0fa585",
   "metadata": {
    "execution": {
     "iopub.execute_input": "2024-04-29T08:36:52.619830Z",
     "iopub.status.busy": "2024-04-29T08:36:52.619412Z",
     "iopub.status.idle": "2024-04-29T08:36:52.635915Z",
     "shell.execute_reply": "2024-04-29T08:36:52.635378Z",
     "shell.execute_reply.started": "2024-04-29T08:36:52.619813Z"
    },
    "scrolled": true
   },
   "outputs": [
    {
     "name": "stdout",
     "output_type": "stream",
     "text": [
      "Overwriting saisie.es\n"
     ]
    }
   ],
   "source": [
    "%%writefile saisie.es\n",
    "@saisir A\n",
    "@saisir B"
   ]
  },
  {
   "cell_type": "code",
   "execution_count": 3,
   "id": "23fb5fe6-fd04-41d8-84c3-5f255f23d104",
   "metadata": {
    "execution": {
     "iopub.execute_input": "2024-04-29T08:36:52.636680Z",
     "iopub.status.busy": "2024-04-29T08:36:52.636536Z",
     "iopub.status.idle": "2024-04-29T08:36:52.651731Z",
     "shell.execute_reply": "2024-04-29T08:36:52.651156Z",
     "shell.execute_reply.started": "2024-04-29T08:36:52.636667Z"
    }
   },
   "outputs": [
    {
     "name": "stdout",
     "output_type": "stream",
     "text": [
      "Overwriting boucle.es\n"
     ]
    }
   ],
   "source": [
    "%%writefile boucle.es\n",
    "@tant que A<>B faire\n",
    "#include \"corpsBoucle.es\"\n",
    "@ftq"
   ]
  },
  {
   "cell_type": "code",
   "execution_count": 4,
   "id": "9d389b50-f704-41fb-86fd-259db46b7650",
   "metadata": {
    "execution": {
     "iopub.execute_input": "2024-04-29T08:36:52.652826Z",
     "iopub.status.busy": "2024-04-29T08:36:52.652469Z",
     "iopub.status.idle": "2024-04-29T08:36:52.669331Z",
     "shell.execute_reply": "2024-04-29T08:36:52.668782Z",
     "shell.execute_reply.started": "2024-04-29T08:36:52.652811Z"
    }
   },
   "outputs": [
    {
     "name": "stdout",
     "output_type": "stream",
     "text": [
      "Overwriting corpsBoucle.es\n"
     ]
    }
   ],
   "source": [
    "%%writefile corpsBoucle.es\n",
    "@Si A>B faire\n",
    "#include \"alors.es\"\n",
    "@sinon\n",
    "#include \"sinon.es\"\n",
    "@fsi"
   ]
  },
  {
   "cell_type": "code",
   "execution_count": 5,
   "id": "27d1c1b5-8e88-405c-9b83-aea7b69702ae",
   "metadata": {
    "execution": {
     "iopub.execute_input": "2024-04-29T08:36:52.669930Z",
     "iopub.status.busy": "2024-04-29T08:36:52.669798Z",
     "iopub.status.idle": "2024-04-29T08:36:52.690067Z",
     "shell.execute_reply": "2024-04-29T08:36:52.689046Z",
     "shell.execute_reply.started": "2024-04-29T08:36:52.669918Z"
    }
   },
   "outputs": [
    {
     "name": "stdout",
     "output_type": "stream",
     "text": [
      "Overwriting alors.es\n"
     ]
    }
   ],
   "source": [
    "%%writefile alors.es\n",
    "@A<-A-B"
   ]
  },
  {
   "cell_type": "code",
   "execution_count": 6,
   "id": "1e96dc29-e27a-48ad-8ef4-97ffc29d0413",
   "metadata": {
    "execution": {
     "iopub.execute_input": "2024-04-29T08:36:52.692830Z",
     "iopub.status.busy": "2024-04-29T08:36:52.692552Z",
     "iopub.status.idle": "2024-04-29T08:36:52.710217Z",
     "shell.execute_reply": "2024-04-29T08:36:52.709577Z",
     "shell.execute_reply.started": "2024-04-29T08:36:52.692806Z"
    }
   },
   "outputs": [
    {
     "name": "stdout",
     "output_type": "stream",
     "text": [
      "Overwriting sinon.es\n"
     ]
    }
   ],
   "source": [
    "%%writefile sinon.es\n",
    "@B<-B-A"
   ]
  },
  {
   "cell_type": "code",
   "execution_count": 7,
   "id": "16301428-6f82-488c-b882-6e3842a0f184",
   "metadata": {
    "execution": {
     "iopub.execute_input": "2024-04-29T08:36:52.710839Z",
     "iopub.status.busy": "2024-04-29T08:36:52.710695Z",
     "iopub.status.idle": "2024-04-29T08:36:52.727893Z",
     "shell.execute_reply": "2024-04-29T08:36:52.726480Z",
     "shell.execute_reply.started": "2024-04-29T08:36:52.710825Z"
    }
   },
   "outputs": [
    {
     "name": "stdout",
     "output_type": "stream",
     "text": [
      "Overwriting affichage.es\n"
     ]
    }
   ],
   "source": [
    "%%writefile affichage.es\n",
    "@afficher A\n",
    "@afficher B"
   ]
  },
  {
   "cell_type": "markdown",
   "id": "ce119e20-141d-4eb7-84c4-abc321ea8d6c",
   "metadata": {},
   "source": [
    "## Contrôle de la structure\n",
    "\n",
    "Pour vérifier l'organisation :"
   ]
  },
  {
   "cell_type": "code",
   "execution_count": 8,
   "id": "40781ea5-f236-422c-9cfd-02a27553b4ea",
   "metadata": {
    "execution": {
     "iopub.execute_input": "2024-04-29T08:36:52.729209Z",
     "iopub.status.busy": "2024-04-29T08:36:52.729068Z",
     "iopub.status.idle": "2024-04-29T08:36:52.890361Z",
     "shell.execute_reply": "2024-04-29T08:36:52.888234Z",
     "shell.execute_reply.started": "2024-04-29T08:36:52.729196Z"
    }
   },
   "outputs": [
    {
     "name": "stdout",
     "output_type": "stream",
     "text": [
      "@declarations A, B;\n",
      "@saisir A\n",
      "@saisir B\n",
      "@tant que A<>B faire\n",
      "@Si A>B faire\n",
      "@A<-A-B\n",
      "@sinon\n",
      "@B<-B-A\n",
      "@fsi\n",
      "@ftq\n",
      "@afficher A\n",
      "@afficher B\n"
     ]
    }
   ],
   "source": [
    "!cpp -P euclide.es"
   ]
  },
  {
   "cell_type": "markdown",
   "id": "148e86df-9294-4117-8be3-bad636eccb70",
   "metadata": {},
   "source": [
    "C'est ok.\n",
    "\n",
    "rem. 1 : l'indentation est plate (cf. les fichiers originaux), c'est normal. L'objectif étant un code assembleur, il n'y aura pas d'indentation supplémentaire.\n",
    "\n",
    "rem. 2 : pour ajouter une trace optionnel, on peut ajouter dans la fin du corps de la boucle initiale un affichage optionnel en utilisant le code (à fournir pour l'algorithme initial) de l'affichage final (i.e. : cela ne demande pas de programmation supplémentaire) :"
   ]
  },
  {
   "cell_type": "code",
   "execution_count": 9,
   "id": "1b8fa9bc-893c-45e8-becc-1ef73dfe0cef",
   "metadata": {
    "execution": {
     "iopub.execute_input": "2024-04-29T08:36:52.892525Z",
     "iopub.status.busy": "2024-04-29T08:36:52.892106Z",
     "iopub.status.idle": "2024-04-29T08:36:52.911398Z",
     "shell.execute_reply": "2024-04-29T08:36:52.910792Z",
     "shell.execute_reply.started": "2024-04-29T08:36:52.892487Z"
    }
   },
   "outputs": [
    {
     "name": "stdout",
     "output_type": "stream",
     "text": [
      "Overwriting corpsBoucle.es\n"
     ]
    }
   ],
   "source": [
    "%%writefile corpsBoucle.es\n",
    "@Si A>B faire\n",
    "#include \"alors.es\"\n",
    "@sinon\n",
    "#include \"sinon.es\"\n",
    "@fsi\n",
    "#ifdef TRACEBOUCLE\n",
    "#include \"affichage.es\"\n",
    "#endif"
   ]
  },
  {
   "cell_type": "markdown",
   "id": "dc2c6c90-87e6-4b19-8571-b37ef0697c29",
   "metadata": {
    "execution": {
     "iopub.execute_input": "2024-04-29T07:16:45.576905Z",
     "iopub.status.busy": "2024-04-29T07:16:45.576637Z",
     "iopub.status.idle": "2024-04-29T07:16:45.583509Z",
     "shell.execute_reply": "2024-04-29T07:16:45.582173Z",
     "shell.execute_reply.started": "2024-04-29T07:16:45.576886Z"
    }
   },
   "source": [
    "Il sera activé par :"
   ]
  },
  {
   "cell_type": "code",
   "execution_count": 10,
   "id": "2b0a9fb0-57b9-4df6-89cd-0d3b58c5d6bf",
   "metadata": {
    "execution": {
     "iopub.execute_input": "2024-04-29T08:36:52.912123Z",
     "iopub.status.busy": "2024-04-29T08:36:52.911985Z",
     "iopub.status.idle": "2024-04-29T08:36:53.082074Z",
     "shell.execute_reply": "2024-04-29T08:36:53.079598Z",
     "shell.execute_reply.started": "2024-04-29T08:36:52.912111Z"
    }
   },
   "outputs": [
    {
     "name": "stdout",
     "output_type": "stream",
     "text": [
      "@declarations A, B;\n",
      "@saisir A\n",
      "@saisir B\n",
      "@tant que A<>B faire\n",
      "@Si A>B faire\n",
      "@A<-A-B\n",
      "@sinon\n",
      "@B<-B-A\n",
      "@fsi\n",
      "@afficher A\n",
      "@afficher B\n",
      "@ftq\n",
      "@afficher A\n",
      "@afficher B\n"
     ]
    }
   ],
   "source": [
    "!cpp -P -D TRACEBOUCLE euclide.es"
   ]
  },
  {
   "cell_type": "markdown",
   "id": "e44fbc7f-81e3-4012-9665-ae169fb1c36f",
   "metadata": {},
   "source": [
    "Par défaut, ```cpp``` n'ajoutera pas cet affichage.\n",
    "\n",
    "rem. 3 : pour tester chaque partie de code, on peut réutiliser la structure du programme initial (```Saisie Calcul Affichage```) en remplaçant le calcul par la partie de code à tester :"
   ]
  },
  {
   "cell_type": "code",
   "execution_count": 11,
   "id": "65363d41-727c-4764-a725-87345758a7db",
   "metadata": {
    "execution": {
     "iopub.execute_input": "2024-04-29T08:36:53.084464Z",
     "iopub.status.busy": "2024-04-29T08:36:53.084057Z",
     "iopub.status.idle": "2024-04-29T08:36:53.106098Z",
     "shell.execute_reply": "2024-04-29T08:36:53.105553Z",
     "shell.execute_reply.started": "2024-04-29T08:36:53.084426Z"
    }
   },
   "outputs": [
    {
     "name": "stdout",
     "output_type": "stream",
     "text": [
      "Overwriting euclide.es\n"
     ]
    }
   ],
   "source": [
    "%%writefile euclide.es\n",
    "@declarations A, B;\n",
    "#ifndef FICHIERCENTRAL\n",
    "#define FICHIERCENTRAL \"boucle.es\"\n",
    "#endif\n",
    "#include \"saisie.es\"\n",
    "#include FICHIERCENTRAL\n",
    "#include \"affichage.es\""
   ]
  },
  {
   "cell_type": "markdown",
   "id": "a84ccfb7-746d-481a-b83a-1acd5c006df4",
   "metadata": {},
   "source": [
    "Par défaut, ```cpp``` continue à produire le fichier complet, avec une option, il permet de produire le fichier de test d'un extrait de code, par ex: le corps de boucle :"
   ]
  },
  {
   "cell_type": "code",
   "execution_count": 12,
   "id": "4657dc5f-41ad-49b2-ae04-8ddddfa80bb5",
   "metadata": {
    "execution": {
     "iopub.execute_input": "2024-04-29T08:36:53.107074Z",
     "iopub.status.busy": "2024-04-29T08:36:53.106897Z",
     "iopub.status.idle": "2024-04-29T08:36:53.271133Z",
     "shell.execute_reply": "2024-04-29T08:36:53.268615Z",
     "shell.execute_reply.started": "2024-04-29T08:36:53.107059Z"
    }
   },
   "outputs": [
    {
     "name": "stdout",
     "output_type": "stream",
     "text": [
      "@declarations A, B;\n",
      "@saisir A\n",
      "@saisir B\n",
      "@Si A>B faire\n",
      "@A<-A-B\n",
      "@sinon\n",
      "@B<-B-A\n",
      "@fsi\n",
      "@afficher A\n",
      "@afficher B\n"
     ]
    }
   ],
   "source": [
    "!cpp -P -D FICHIERCENTRAL=\"\\\"corpsBoucle.es\\\"\" euclide.es"
   ]
  },
  {
   "cell_type": "markdown",
   "id": "1bd33999-31cc-41cf-a09e-e8b7c6689665",
   "metadata": {},
   "source": [
    "# Programmation\n",
    "\n",
    "## Fichier global\n",
    "\n",
    "(à faire en premier)\n",
    "\n",
    "Il s'agit de traduire les déclarations et de prévoir le schéma global du programme.\n",
    "\n",
    "### Traduction\n",
    "\n",
    "Contrairement à mes habitudes, je place les relais en début de zone ```.text``` pour être proche des déclarations de la zone ```.data```. L'étiquette ```main``` se situe donc un peu plus loin (et non pas en début de section)."
   ]
  },
  {
   "cell_type": "code",
   "execution_count": 13,
   "id": "c93333f4-f511-485a-b6c6-8bab5f73dd0c",
   "metadata": {
    "execution": {
     "iopub.execute_input": "2024-04-29T08:36:53.274837Z",
     "iopub.status.busy": "2024-04-29T08:36:53.273434Z",
     "iopub.status.idle": "2024-04-29T08:36:53.293364Z",
     "shell.execute_reply": "2024-04-29T08:36:53.292665Z",
     "shell.execute_reply.started": "2024-04-29T08:36:53.274789Z"
    }
   },
   "outputs": [
    {
     "name": "stdout",
     "output_type": "stream",
     "text": [
      "Overwriting euclide.es\n"
     ]
    }
   ],
   "source": [
    "%%writefile euclide.es\n",
    "#ifndef FICHIERCENTRAL\n",
    "#define FICHIERCENTRAL \"boucle.es\"\n",
    "#endif\n",
    "@declarations A, B;\n",
    ".data\n",
    "A: .word 0\n",
    "B: .word 0\n",
    ".text\n",
    ".global main\n",
    "LD_A: .word A\n",
    "LD_B: .word B\n",
    "main:\n",
    "  push {lr}\n",
    "#include \"saisie.es\"\n",
    "#include FICHIERCENTRAL\n",
    "#include \"affichage.es\"\n",
    "  mov R0,#0\n",
    "  pop {lr}\n",
    "  bx lr"
   ]
  },
  {
   "cell_type": "markdown",
   "id": "e281b4e4-0eab-4d50-b646-24e8fd4d0a79",
   "metadata": {},
   "source": [
    "### Vérification du fichier global\n",
    "\n",
    "Je peux tester, la compilation et l'exécution, mais le programme est (presque) vide, il n'y aura pas d'affichage :"
   ]
  },
  {
   "cell_type": "code",
   "execution_count": 14,
   "id": "2548a3ec-42a9-41a4-a6ed-6ad7cb9b39f6",
   "metadata": {
    "execution": {
     "iopub.execute_input": "2024-04-29T08:36:53.294089Z",
     "iopub.status.busy": "2024-04-29T08:36:53.293946Z",
     "iopub.status.idle": "2024-04-29T08:36:55.238286Z",
     "shell.execute_reply": "2024-04-29T08:36:55.236240Z",
     "shell.execute_reply.started": "2024-04-29T08:36:53.294075Z"
    }
   },
   "outputs": [
    {
     "name": "stdout",
     "output_type": "stream",
     "text": [
      "fin\n"
     ]
    }
   ],
   "source": [
    "!cpp -P euclide.es > euclide.s\n",
    "!arm-linux-gnueabi-gcc -static -c euclide.s\n",
    "!arm-linux-gnueabi-gcc -static -c es.s\n",
    "!arm-linux-gnueabi-gcc -static euclide.o es.o -o euclide\n",
    "!echo \"42 2048\" | qemu-arm euclide\n",
    "!echo \"fin\""
   ]
  },
  {
   "cell_type": "markdown",
   "id": "2c2f44ec-3b1e-4630-95e2-11f833cd9e6b",
   "metadata": {},
   "source": [
    "Pour avoir un affichage, il faut par exemple introduire une erreur.\n",
    "\n",
    "Par exemple :\n",
    "\n",
    "* un erreur lors des inclusions"
   ]
  },
  {
   "cell_type": "code",
   "execution_count": 15,
   "id": "dad5662d-4fcb-4648-b895-68733bc1236e",
   "metadata": {
    "execution": {
     "iopub.execute_input": "2024-04-29T08:36:55.240623Z",
     "iopub.status.busy": "2024-04-29T08:36:55.240248Z",
     "iopub.status.idle": "2024-04-29T08:36:56.943776Z",
     "shell.execute_reply": "2024-04-29T08:36:56.941136Z",
     "shell.execute_reply.started": "2024-04-29T08:36:55.240588Z"
    }
   },
   "outputs": [
    {
     "name": "stdout",
     "output_type": "stream",
     "text": [
      "\u001b[01m\u001b[Keuclide.es:15:10:\u001b[m\u001b[K \u001b[01;31m\u001b[Kerror: \u001b[m\u001b[K#include expects \"FILENAME\" or <FILENAME>\n",
      "   15 | #include \u001b[01;31m\u001b[KFICHIERCENTRAL\u001b[m\u001b[K\n",
      "      |          \u001b[01;31m\u001b[K^~~~~~~~~~~~~~\u001b[m\u001b[K\n",
      "fin\n"
     ]
    }
   ],
   "source": [
    "!cpp -P euclide.es -D FICHIERCENTRAL=\"rien.s\" > euclide.s\n",
    "!arm-linux-gnueabi-gcc -static -c euclide.s\n",
    "!arm-linux-gnueabi-gcc -static -c es.s\n",
    "!arm-linux-gnueabi-gcc -static euclide.o es.o -o euclide\n",
    "!echo \"42 2048\" | qemu-arm euclide\n",
    "!echo \"fin\""
   ]
  },
  {
   "cell_type": "markdown",
   "id": "72e371eb-7bc7-49dc-bd2f-5cb949e124bd",
   "metadata": {},
   "source": [
    "On peut faire d'autres erreurs pour vérifier les autres parties du processus de compilation/exécution :\n",
    "\n",
    "* Changer l'instruction ```push``` en une instruction qui n'existe pas pour que la compilation (séparée) échoue\n",
    "* Changer le relai ```LD_A : . word A``` vers une adresse qui n'existe pas pour que l'édition de lien échoue\n",
    "* Changer le ```bx lr``` pour que le programme boucle à l'infini lors de l'exécution et ne rende pas la main\n",
    "* etc."
   ]
  },
  {
   "cell_type": "markdown",
   "id": "b48d1018-eb5c-4109-9cd8-442395050be7",
   "metadata": {},
   "source": [
    "## Entrées/sorties\n",
    "\n",
    "Pour avoir un début de programme testable, il faut saisir/afficher.\n",
    "\n",
    "### Traduction\n",
    "\n",
    "En utilisant la bibliothèque es.s, la traduction de la saisie et de l'affichage sont :"
   ]
  },
  {
   "cell_type": "code",
   "execution_count": 16,
   "id": "72698ee7-8483-4d92-aa1b-7ab18fdf1c4f",
   "metadata": {
    "execution": {
     "iopub.execute_input": "2024-04-29T08:36:56.945772Z",
     "iopub.status.busy": "2024-04-29T08:36:56.945625Z",
     "iopub.status.idle": "2024-04-29T08:36:56.963091Z",
     "shell.execute_reply": "2024-04-29T08:36:56.962272Z",
     "shell.execute_reply.started": "2024-04-29T08:36:56.945759Z"
    }
   },
   "outputs": [
    {
     "name": "stdout",
     "output_type": "stream",
     "text": [
      "Overwriting saisie.es\n"
     ]
    }
   ],
   "source": [
    "%%writefile saisie.es\n",
    "@saisir A\n",
    "  ldr R1, LD_A\n",
    "  bl Lire32\n",
    "@saisir B\n",
    "  ldr R1, LD_B\n",
    "  bl Lire32"
   ]
  },
  {
   "cell_type": "code",
   "execution_count": 17,
   "id": "67767c73-e96e-4d43-8146-8a14970223d3",
   "metadata": {
    "execution": {
     "iopub.execute_input": "2024-04-29T08:36:56.963787Z",
     "iopub.status.busy": "2024-04-29T08:36:56.963648Z",
     "iopub.status.idle": "2024-04-29T08:36:56.978811Z",
     "shell.execute_reply": "2024-04-29T08:36:56.978269Z",
     "shell.execute_reply.started": "2024-04-29T08:36:56.963775Z"
    }
   },
   "outputs": [
    {
     "name": "stdout",
     "output_type": "stream",
     "text": [
      "Overwriting affichage.es\n"
     ]
    }
   ],
   "source": [
    "%%writefile affichage.es\n",
    "@afficher A\n",
    "  ldr R0, LD_A\n",
    "  ldr R1, [R0]\n",
    "  bl EcrZdecimal32\n",
    "@afficher B\n",
    "  ldr R0, LD_B\n",
    "  ldr R1, [R0]\n",
    "  bl EcrZdecimal32"
   ]
  },
  {
   "cell_type": "markdown",
   "id": "fc517b1e-42a6-4483-bab3-5b5c15d60758",
   "metadata": {},
   "source": [
    "### Test des entrées sorties\n",
    "\n",
    "On peut tester :"
   ]
  },
  {
   "cell_type": "code",
   "execution_count": 18,
   "id": "6ec6762a-55b2-4613-b555-708bc928cf5f",
   "metadata": {
    "execution": {
     "iopub.execute_input": "2024-04-29T08:36:56.979870Z",
     "iopub.status.busy": "2024-04-29T08:36:56.979422Z",
     "iopub.status.idle": "2024-04-29T08:36:58.832575Z",
     "shell.execute_reply": "2024-04-29T08:36:58.830045Z",
     "shell.execute_reply.started": "2024-04-29T08:36:56.979842Z"
    }
   },
   "outputs": [
    {
     "name": "stdout",
     "output_type": "stream",
     "text": [
      "42\n",
      "2048\n",
      "fin\n"
     ]
    }
   ],
   "source": [
    "!cpp -P euclide.es > euclide.s\n",
    "!arm-linux-gnueabi-gcc -static -c euclide.s\n",
    "!arm-linux-gnueabi-gcc -static -c es.s\n",
    "!arm-linux-gnueabi-gcc -static euclide.o es.o -o euclide\n",
    "!echo \"42 2048\" | qemu-arm euclide\n",
    "!echo \"fin\""
   ]
  },
  {
   "cell_type": "markdown",
   "id": "a6f2a9e1-7667-45f0-a210-c6363e13f530",
   "metadata": {},
   "source": [
    "rem. : avec l'affichage seulement, on pouvait déjà tester cette partie de programme. Les nombres affichés auraient été ceux inscrits dans la section de données pour A et B, (0 et 0), en les modifiant \"à la main\", le test aurait pu afficher des nombres particuliers. \n",
    "\n",
    "*La première chose à faire dans un programme ? les affichages ?  \n",
    "(tant qu'il n'y a pas d'affichage, si on ne veut/peut pas utiliser de debugger, c'est difficile de tester le programme, non ?)*"
   ]
  },
  {
   "cell_type": "markdown",
   "id": "8e80f43c-6d74-4802-b67a-f30e7c18a1a4",
   "metadata": {},
   "source": [
    "## Traduction des affectations (alors/sinon)\n",
    "\n",
    "Plutôt que de commencer à traduire la boucle, qui nécessitera pour son test de traduire le reste, nous commençons par traduire les affectations dans les parties alors/sinon :\n",
    "\n",
    "### Alors / Sinon\n",
    "\n",
    "Dans l'ordre, Alors, puis Sinon :"
   ]
  },
  {
   "cell_type": "code",
   "execution_count": 19,
   "id": "4f5d7004-c4e8-441a-88db-d09bb089acdb",
   "metadata": {
    "execution": {
     "iopub.execute_input": "2024-04-29T08:36:58.834807Z",
     "iopub.status.busy": "2024-04-29T08:36:58.834434Z",
     "iopub.status.idle": "2024-04-29T08:36:58.855068Z",
     "shell.execute_reply": "2024-04-29T08:36:58.854468Z",
     "shell.execute_reply.started": "2024-04-29T08:36:58.834774Z"
    }
   },
   "outputs": [
    {
     "name": "stdout",
     "output_type": "stream",
     "text": [
      "Overwriting alors.es\n"
     ]
    }
   ],
   "source": [
    "%%writefile alors.es\n",
    "@A<-A-B\n",
    "  ldr R0, LD_A\n",
    "  ldr R1, [R0]\n",
    "  ldr R2, LD_B\n",
    "  ldr R2, [R2]\n",
    "  sub R1, R1, R2\n",
    "  str R1, [R0]"
   ]
  },
  {
   "cell_type": "code",
   "execution_count": 20,
   "id": "dd486fc9-3f6a-46ca-8644-ab85d8be579c",
   "metadata": {
    "execution": {
     "iopub.execute_input": "2024-04-29T08:36:58.855861Z",
     "iopub.status.busy": "2024-04-29T08:36:58.855702Z",
     "iopub.status.idle": "2024-04-29T08:36:58.869588Z",
     "shell.execute_reply": "2024-04-29T08:36:58.869040Z",
     "shell.execute_reply.started": "2024-04-29T08:36:58.855848Z"
    }
   },
   "outputs": [
    {
     "name": "stdout",
     "output_type": "stream",
     "text": [
      "Overwriting sinon.es\n"
     ]
    }
   ],
   "source": [
    "%%writefile sinon.es\n",
    "@B<-B-A\n",
    "  ldr R0, LD_B\n",
    "  ldr R1, [R0]\n",
    "  ldr R2, LD_A\n",
    "  ldr R2, [R2]\n",
    "  sub R1, R1, R2\n",
    "  str R1, [R0]"
   ]
  },
  {
   "cell_type": "markdown",
   "id": "3c7c32e4-ae7c-4c6a-b9be-d583d9acc4d6",
   "metadata": {},
   "source": [
    "### Test Alors / Sinon\n",
    "\n",
    "Test du alors :"
   ]
  },
  {
   "cell_type": "code",
   "execution_count": 21,
   "id": "bb2742e8-f1cf-4bb5-946b-55a620bbb183",
   "metadata": {
    "execution": {
     "iopub.execute_input": "2024-04-29T08:36:58.871494Z",
     "iopub.status.busy": "2024-04-29T08:36:58.871146Z",
     "iopub.status.idle": "2024-04-29T08:37:00.701621Z",
     "shell.execute_reply": "2024-04-29T08:37:00.699602Z",
     "shell.execute_reply.started": "2024-04-29T08:36:58.871479Z"
    }
   },
   "outputs": [
    {
     "name": "stdout",
     "output_type": "stream",
     "text": [
      "-2006\n",
      "2048\n",
      "fin\n"
     ]
    }
   ],
   "source": [
    "!cpp -P -D FICHIERCENTRAL=\"\\\"alors.es\\\"\" euclide.es > euclide.s\n",
    "!arm-linux-gnueabi-gcc -static -c euclide.s\n",
    "!arm-linux-gnueabi-gcc -static -c es.s\n",
    "!arm-linux-gnueabi-gcc -static euclide.o es.o -o euclide\n",
    "!echo \"42 2048\" | qemu-arm euclide\n",
    "!echo \"fin\""
   ]
  },
  {
   "cell_type": "markdown",
   "id": "b54a4e84-3bd6-4ecf-bfd6-26846a71eb0e",
   "metadata": {},
   "source": [
    "On a bien $42-2048=-2006$ le test est concluant.\n",
    "\n",
    "Remarques :\n",
    "\n",
    "* avant la sauvegarde de ```alors.es```, l'affichage donnait bien 42 et 2048 (pas de modification)\n",
    "* le test de ```sinon.es``` se fait de la même manière\n",
    "* en cas de bug, par exemple oubli de la soustraction, ou erreur dans la soustraction, les résultats affichés auraient montré le problème et aider (avec les valeurs) à comprendre où se trouve le problème :\n",
    "  * par exemple, si le résultat n'avait pas le bon signe, soustraction inversée\n",
    "  * par exemple, si le résultat donnait des valeurs incompréhensible, très grandes (ou très petites), soustraction d'adresse (?)\n",
    "  * etc.\n",
    "\n",
    "## Boucle et conditionnelle (i.e. : corps de la boucle)\n",
    "\n",
    "### Traduction\n",
    "En allant 2 à 2, on a :"
   ]
  },
  {
   "cell_type": "code",
   "execution_count": 22,
   "id": "1d3a8fb4-adbb-4aa4-95f0-227ff24cee28",
   "metadata": {
    "execution": {
     "iopub.execute_input": "2024-04-29T08:37:00.704728Z",
     "iopub.status.busy": "2024-04-29T08:37:00.704218Z",
     "iopub.status.idle": "2024-04-29T08:37:00.722758Z",
     "shell.execute_reply": "2024-04-29T08:37:00.722229Z",
     "shell.execute_reply.started": "2024-04-29T08:37:00.704687Z"
    }
   },
   "outputs": [
    {
     "name": "stdout",
     "output_type": "stream",
     "text": [
      "Overwriting boucle.es\n"
     ]
    }
   ],
   "source": [
    "%%writefile boucle.es\n",
    "@tant que A<>B faire\n",
    "tq: \n",
    "  ldr R0, LD_A\n",
    "  ldr R0, [R0]\n",
    "  ldr R1, LD_B\n",
    "  ldr R1, [R1]\n",
    "  cmp R0,R1\n",
    "  beq ftq\n",
    "#include \"corpsBoucle.es\"\n",
    "@ftq\n",
    "  b tq\n",
    "ftq:"
   ]
  },
  {
   "cell_type": "code",
   "execution_count": 23,
   "id": "7fb59a2d-c7a7-40f0-88e3-4ac1cad1645f",
   "metadata": {
    "execution": {
     "iopub.execute_input": "2024-04-29T08:37:00.723505Z",
     "iopub.status.busy": "2024-04-29T08:37:00.723350Z",
     "iopub.status.idle": "2024-04-29T08:37:00.739314Z",
     "shell.execute_reply": "2024-04-29T08:37:00.738414Z",
     "shell.execute_reply.started": "2024-04-29T08:37:00.723492Z"
    }
   },
   "outputs": [
    {
     "name": "stdout",
     "output_type": "stream",
     "text": [
      "Overwriting corpsBoucle.es\n"
     ]
    }
   ],
   "source": [
    "%%writefile corpsBoucle.es\n",
    "@Si A>B faire\n",
    "  ldr R0, LD_A\n",
    "  ldr R0, [R0]\n",
    "  ldr R1, LD_B\n",
    "  ldr R1, [R1]\n",
    "  cmp R0,R1\n",
    "  blt sinon\n",
    "#include \"alors.es\"\n",
    "  b fsi\n",
    "@sinon\n",
    "sinon:\n",
    "#include \"sinon.es\"\n",
    "@fsi\n",
    "fsi:\n",
    "#ifdef TRACEBOUCLE\n",
    "#include \"affichage.es\"\n",
    "#endif"
   ]
  },
  {
   "cell_type": "markdown",
   "id": "5909b962-f8b6-4825-9852-b06390d4bdf6",
   "metadata": {},
   "source": [
    "### Test Boucle et Conditionnelle (corps de la boucle)\n",
    "\n",
    "Premier du programme complet :"
   ]
  },
  {
   "cell_type": "code",
   "execution_count": 24,
   "id": "9074927d-369e-4629-b1b1-fa0ea04eb4e3",
   "metadata": {
    "execution": {
     "iopub.execute_input": "2024-04-29T08:37:00.740559Z",
     "iopub.status.busy": "2024-04-29T08:37:00.740080Z",
     "iopub.status.idle": "2024-04-29T08:37:02.332645Z",
     "shell.execute_reply": "2024-04-29T08:37:02.329989Z",
     "shell.execute_reply.started": "2024-04-29T08:37:00.740534Z"
    }
   },
   "outputs": [
    {
     "name": "stdout",
     "output_type": "stream",
     "text": [
      "2\n",
      "2\n"
     ]
    }
   ],
   "source": [
    "!cpp -P euclide.es > euclide.s\n",
    "!arm-linux-gnueabi-gcc -static -c euclide.s\n",
    "!arm-linux-gnueabi-gcc -static -c es.s\n",
    "!arm-linux-gnueabi-gcc -static euclide.o es.o -o euclide\n",
    "!echo \"42 2048\" | qemu-arm euclide"
   ]
  },
  {
   "cell_type": "markdown",
   "id": "bde88a88-4929-4083-a221-dfc8c0fbeea1",
   "metadata": {},
   "source": [
    "Cela semble correct, 42 et 2048 sont multiples de 2 ; $42=2*3*7$, mais 2048 n'est pas multiple de 3, ni de 7. Donc le résultat est correct.\n",
    "\n",
    "## Versions longues\n",
    "\n",
    "### Code complet\n",
    "\n",
    "Si nécessaire (sinon, à placer en Annexe, car cela rique d'être un peu long)"
   ]
  },
  {
   "cell_type": "code",
   "execution_count": 25,
   "id": "5a807d72-f4f5-4764-aeee-d5dbe9220d1b",
   "metadata": {
    "execution": {
     "iopub.execute_input": "2024-04-29T08:37:02.335005Z",
     "iopub.status.busy": "2024-04-29T08:37:02.334592Z",
     "iopub.status.idle": "2024-04-29T08:37:02.503864Z",
     "shell.execute_reply": "2024-04-29T08:37:02.501591Z",
     "shell.execute_reply.started": "2024-04-29T08:37:02.334966Z"
    }
   },
   "outputs": [
    {
     "name": "stdout",
     "output_type": "stream",
     "text": [
      "@declarations A, B;\n",
      ".data\n",
      "A: .word 0\n",
      "B: .word 0\n",
      ".text\n",
      ".global main\n",
      "LD_A: .word A\n",
      "LD_B: .word B\n",
      "main:\n",
      "  push {lr}\n",
      "@saisir A\n",
      "  ldr R1, LD_A\n",
      "  bl Lire32\n",
      "@saisir B\n",
      "  ldr R1, LD_B\n",
      "  bl Lire32\n",
      "@tant que A<>B faire\n",
      "tq:\n",
      "  ldr R0, LD_A\n",
      "  ldr R0, [R0]\n",
      "  ldr R1, LD_B\n",
      "  ldr R1, [R1]\n",
      "  cmp R0,R1\n",
      "  beq ftq\n",
      "@Si A>B faire\n",
      "  ldr R0, LD_A\n",
      "  ldr R0, [R0]\n",
      "  ldr R1, LD_B\n",
      "  ldr R1, [R1]\n",
      "  cmp R0,R1\n",
      "  blt sinon\n",
      "@A<-A-B\n",
      "  ldr R0, LD_A\n",
      "  ldr R1, [R0]\n",
      "  ldr R2, LD_B\n",
      "  ldr R2, [R2]\n",
      "  sub R1, R1, R2\n",
      "  str R1, [R0]\n",
      "  b fsi\n",
      "@sinon\n",
      "sinon:\n",
      "@B<-B-A\n",
      "  ldr R0, LD_B\n",
      "  ldr R1, [R0]\n",
      "  ldr R2, LD_A\n",
      "  ldr R2, [R2]\n",
      "  sub R1, R1, R2\n",
      "  str R1, [R0]\n",
      "@fsi\n",
      "fsi:\n",
      "@ftq\n",
      "  b tq\n",
      "ftq:\n",
      "@afficher A\n",
      "  ldr R0, LD_A\n",
      "  ldr R1, [R0]\n",
      "  bl EcrZdecimal32\n",
      "@afficher B\n",
      "  ldr R0, LD_B\n",
      "  ldr R1, [R0]\n",
      "  bl EcrZdecimal32\n",
      "  mov R0,#0\n",
      "  pop {lr}\n",
      "  bx lr\n"
     ]
    }
   ],
   "source": [
    "!cpp -P euclide.es"
   ]
  },
  {
   "cell_type": "markdown",
   "id": "bde52b67-284e-4d16-abac-3cf77ea75d0e",
   "metadata": {},
   "source": [
    "Oups, oui, c'est long !\n",
    "\n",
    "### Exécution avec trace\n",
    "\n",
    "On peut aussi tracer les valeurs de A/B dans la boucle (cela risque aussi d'être long) :"
   ]
  },
  {
   "cell_type": "code",
   "execution_count": 26,
   "id": "3aab90bf-b900-439b-a895-f7c83166e42a",
   "metadata": {
    "execution": {
     "iopub.execute_input": "2024-04-29T08:37:02.506201Z",
     "iopub.status.busy": "2024-04-29T08:37:02.505812Z",
     "iopub.status.idle": "2024-04-29T08:37:04.242473Z",
     "shell.execute_reply": "2024-04-29T08:37:04.240986Z",
     "shell.execute_reply.started": "2024-04-29T08:37:02.506166Z"
    }
   },
   "outputs": [
    {
     "name": "stdout",
     "output_type": "stream",
     "text": [
      "42\n",
      "2006\n",
      "42\n",
      "1964\n",
      "42\n",
      "1922\n",
      "42\n",
      "1880\n",
      "42\n",
      "1838\n",
      "42\n",
      "1796\n",
      "42\n",
      "1754\n",
      "42\n",
      "1712\n",
      "42\n",
      "1670\n",
      "42\n",
      "1628\n",
      "42\n",
      "1586\n",
      "42\n",
      "1544\n",
      "42\n",
      "1502\n",
      "42\n",
      "1460\n",
      "42\n",
      "1418\n",
      "42\n",
      "1376\n",
      "42\n",
      "1334\n",
      "42\n",
      "1292\n",
      "42\n",
      "1250\n",
      "42\n",
      "1208\n",
      "42\n",
      "1166\n",
      "42\n",
      "1124\n",
      "42\n",
      "1082\n",
      "42\n",
      "1040\n",
      "42\n",
      "998\n",
      "42\n",
      "956\n",
      "42\n",
      "914\n",
      "42\n",
      "872\n",
      "42\n",
      "830\n",
      "42\n",
      "788\n",
      "42\n",
      "746\n",
      "42\n",
      "704\n",
      "42\n",
      "662\n",
      "42\n",
      "620\n",
      "42\n",
      "578\n",
      "42\n",
      "536\n",
      "42\n",
      "494\n",
      "42\n",
      "452\n",
      "42\n",
      "410\n",
      "42\n",
      "368\n",
      "42\n",
      "326\n",
      "42\n",
      "284\n",
      "42\n",
      "242\n",
      "42\n",
      "200\n",
      "42\n",
      "158\n",
      "42\n",
      "116\n",
      "42\n",
      "74\n",
      "42\n",
      "32\n",
      "10\n",
      "32\n",
      "10\n",
      "22\n",
      "10\n",
      "12\n",
      "10\n",
      "2\n",
      "8\n",
      "2\n",
      "6\n",
      "2\n",
      "4\n",
      "2\n",
      "2\n",
      "2\n",
      "2\n",
      "2\n"
     ]
    }
   ],
   "source": [
    "!cpp -P -D TRACEBOUCLE euclide.es > euclide.s\n",
    "!arm-linux-gnueabi-gcc -static -c euclide.s\n",
    "!arm-linux-gnueabi-gcc -static -c es.s\n",
    "!arm-linux-gnueabi-gcc -static euclide.o es.o -o euclide\n",
    "!echo \"42 2048\" | qemu-arm euclide"
   ]
  },
  {
   "cell_type": "markdown",
   "id": "dbc752ee-b735-436e-9234-d76f27a05e67",
   "metadata": {},
   "source": [
    "Oups, oui, c'est (aussi) long !\n",
    "\n",
    "# Conclusion\n",
    "\n",
    "À noter :  \n",
    "\n",
    "* les traductions de l'ensemble, découpé en petites parties (qlq lignes seulement), qui part souvent des feuilles de l'arbre syntaxique (démarche *bottom-up*)\n",
    "* les tests pour (presque) chaque partie de code (utile pour cerner au plus tôt les bugs et les corriger avant qu'ils ne se trouvent enfouis dans un code (très/trop) gros)\n",
    "* L'utilisation de cpp (pour le découpage, et les tests)\n",
    "* Travail fait en 2*2h (2h pour le code, 2h pour la rédaction), une douzaine de pages en 4h, Jupyter...\n",
    "\n",
    "Si c'était à refaire ou pour aller plus loin : \n",
    "\n",
    "* bug : ne pas oublier de traduire les soustractions (!)\n",
    "* essayer de ne pas utiliser ```es.s``` mais utiliser directement ```printf/scanf```\n",
    "* essayer de produire aussi une version récursive ou avec des fonctions pour montrer la traduction des fonctions en assembleur\n"
   ]
  },
  {
   "cell_type": "markdown",
   "id": "67b6077a-1b08-49cb-9f8a-bb19e31b0fb8",
   "metadata": {},
   "source": [
    "# Annexes\n",
    "\n",
    "## Découpage syntaxique, illustration avec Graphviz"
   ]
  },
  {
   "cell_type": "code",
   "execution_count": 27,
   "id": "260e23b6-4c31-4f94-aa3e-baee3310c9ad",
   "metadata": {
    "execution": {
     "iopub.execute_input": "2024-04-29T08:37:04.244799Z",
     "iopub.status.busy": "2024-04-29T08:37:04.244367Z",
     "iopub.status.idle": "2024-04-29T08:37:04.264575Z",
     "shell.execute_reply": "2024-04-29T08:37:04.264028Z",
     "shell.execute_reply.started": "2024-04-29T08:37:04.244763Z"
    }
   },
   "outputs": [
    {
     "name": "stdout",
     "output_type": "stream",
     "text": [
      "Overwriting euclideSyntaxique.dot\n"
     ]
    }
   ],
   "source": [
    "%%writefile euclideSyntaxique.dot\n",
    "digraph G {\n",
    "    node [penwidth=0]\n",
    "    Euclide -> Saisie\n",
    "    Euclide -> Boucle\n",
    "    Euclide -> Affichage\n",
    "    Boucle -> \"\\\"Tant que Cond faire\\\"\"\n",
    "    Boucle -> CorpsBoucle\n",
    "    CorpsBoucle -> \"\\\"Si Cond alors\\\"\"\n",
    "    CorpsBoucle -> Alors\n",
    "    CorpsBoucle -> \"\\\"sinon\\\"\"\n",
    "    CorpsBoucle -> Sinon\n",
    "}"
   ]
  },
  {
   "cell_type": "code",
   "execution_count": 28,
   "id": "4451cee9-a566-46ce-a2fc-d4314a0b5d98",
   "metadata": {
    "execution": {
     "iopub.execute_input": "2024-04-29T08:37:04.266160Z",
     "iopub.status.busy": "2024-04-29T08:37:04.265634Z",
     "iopub.status.idle": "2024-04-29T08:37:04.360903Z",
     "shell.execute_reply": "2024-04-29T08:37:04.360304Z",
     "shell.execute_reply.started": "2024-04-29T08:37:04.266128Z"
    }
   },
   "outputs": [
    {
     "data": {
      "image/png": "[encoded data removed]",
      "text/plain": [
       "<IPython.core.display.Image object>"
      ]
     },
     "metadata": {},
     "output_type": "display_data"
    }
   ],
   "source": [
    "import pygraphviz as pg\n",
    "from IPython.display import display, Image\n",
    "d = pg.AGraph(\"euclideSyntaxique.dot\")  \n",
    "d.layout(prog=\"dot\")    \n",
    "d.draw(\"euclideSyntaxique.png\")\n",
    "display(Image('euclideSyntaxique.png'))"
   ]
  }
 ],
 "metadata": {
  "jpcodetoc-autonumbering": true,
  "kernelspec": {
   "display_name": "Python 3 (ipykernel)",
   "language": "python",
   "name": "python3"
  },
  "language_info": {
   "codemirror_mode": {
    "name": "ipython",
    "version": 3
   },
   "file_extension": ".py",
   "mimetype": "text/x-python",
   "name": "python",
   "nbconvert_exporter": "python",
   "pygments_lexer": "ipython3",
   "version": "3.10.12"
  }
 },
 "nbformat": 4,
 "nbformat_minor": 5
}
