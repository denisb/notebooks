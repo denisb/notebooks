{
 "cells": [
  {
   "cell_type": "markdown",
   "id": "1896017a",
   "metadata": {
    "toc": true
   },
   "source": [
    "<h1>Table of Contents<span class=\"tocSkip\"></span></h1>\n",
    "<div class=\"toc\"><ul class=\"toc-item\"></ul></div>"
   ]
  },
  {
   "cell_type": "markdown",
   "id": "b3a7fcf9",
   "metadata": {},
   "source": [
    "# A <= B <= C ?\n",
    "\n",
    "\n",
    "\n",
    "En python, on peut écrire cette comparaison multiple, et cela marche bien\n"
   ]
  },
  {
   "cell_type": "code",
   "execution_count": 1,
   "id": "60a1175f",
   "metadata": {
    "ExecuteTime": {
     "end_time": "2023-10-27T09:34:44.629673Z",
     "start_time": "2023-10-27T09:34:36.692200Z"
    },
    "scrolled": false
   },
   "outputs": [
    {
     "name": "stdout",
     "output_type": "stream",
     "text": [
      "Donner un entier, svp.1\n",
      "Donner un entier, svp.2\n",
      "Donner un entier, svp.3\n",
      "1/2/3 : C'est dans l'ordre !\n"
     ]
    }
   ],
   "source": [
    "def ComparaisonMultiple():    \n",
    "    A=int(input(\"Donner un entier, svp.\"))\n",
    "    B=int(input(\"Donner un entier, svp.\"))\n",
    "    C=int(input(\"Donner un entier, svp.\"))\n",
    "    if A <= B <= C:\n",
    "        print(str(A)+\"/\"+str(B)+\"/\"+str(C)+\" : C'est dans l'ordre !\")\n",
    "    else:\n",
    "        print(str(A)+\"/\"+str(B)+\"/\"+str(C)+\" : C'est dans le desordre.\")\n",
    "\n",
    "ComparaisonMultiple()"
   ]
  },
  {
   "cell_type": "code",
   "execution_count": 2,
   "id": "53f4a673",
   "metadata": {
    "ExecuteTime": {
     "end_time": "2023-10-27T09:34:48.403553Z",
     "start_time": "2023-10-27T09:34:44.633119Z"
    }
   },
   "outputs": [
    {
     "name": "stdout",
     "output_type": "stream",
     "text": [
      "Donner un entier, svp.1\n",
      "Donner un entier, svp.3\n",
      "Donner un entier, svp.2\n",
      "1/3/2 : C'est dans le desordre.\n"
     ]
    }
   ],
   "source": [
    "ComparaisonMultiple()"
   ]
  },
  {
   "cell_type": "code",
   "execution_count": 3,
   "id": "dd5d0ec7",
   "metadata": {
    "ExecuteTime": {
     "end_time": "2023-10-27T09:34:52.673443Z",
     "start_time": "2023-10-27T09:34:48.406915Z"
    }
   },
   "outputs": [
    {
     "name": "stdout",
     "output_type": "stream",
     "text": [
      "Donner un entier, svp.2\n",
      "Donner un entier, svp.1\n",
      "Donner un entier, svp.3\n",
      "2/1/3 : C'est dans le desordre.\n"
     ]
    }
   ],
   "source": [
    "ComparaisonMultiple()"
   ]
  },
  {
   "cell_type": "code",
   "execution_count": 4,
   "id": "bcba05cf",
   "metadata": {
    "ExecuteTime": {
     "end_time": "2023-10-27T09:34:55.715823Z",
     "start_time": "2023-10-27T09:34:52.675962Z"
    }
   },
   "outputs": [
    {
     "name": "stdout",
     "output_type": "stream",
     "text": [
      "Donner un entier, svp.2\n",
      "Donner un entier, svp.3\n",
      "Donner un entier, svp.1\n",
      "2/3/1 : C'est dans le desordre.\n"
     ]
    }
   ],
   "source": [
    "ComparaisonMultiple()"
   ]
  },
  {
   "cell_type": "code",
   "execution_count": 5,
   "id": "a1f7e7db",
   "metadata": {
    "ExecuteTime": {
     "end_time": "2023-10-27T09:34:58.779581Z",
     "start_time": "2023-10-27T09:34:55.719784Z"
    }
   },
   "outputs": [
    {
     "name": "stdout",
     "output_type": "stream",
     "text": [
      "Donner un entier, svp.3\n",
      "Donner un entier, svp.1\n",
      "Donner un entier, svp.2\n",
      "3/1/2 : C'est dans le desordre.\n"
     ]
    }
   ],
   "source": [
    "ComparaisonMultiple()"
   ]
  },
  {
   "cell_type": "code",
   "execution_count": 6,
   "id": "8dff5f70",
   "metadata": {
    "ExecuteTime": {
     "end_time": "2023-10-27T09:35:04.868008Z",
     "start_time": "2023-10-27T09:34:58.782137Z"
    }
   },
   "outputs": [
    {
     "name": "stdout",
     "output_type": "stream",
     "text": [
      "Donner un entier, svp.3\n",
      "Donner un entier, svp.2\n",
      "Donner un entier, svp.1\n",
      "3/2/1 : C'est dans le desordre.\n"
     ]
    }
   ],
   "source": [
    "ComparaisonMultiple()"
   ]
  },
  {
   "cell_type": "markdown",
   "id": "a6004f18",
   "metadata": {},
   "source": [
    "Mais en C, est-ce encore le cas ?"
   ]
  },
  {
   "cell_type": "code",
   "execution_count": 7,
   "id": "a483e157",
   "metadata": {
    "ExecuteTime": {
     "end_time": "2023-10-27T09:35:04.879108Z",
     "start_time": "2023-10-27T09:35:04.871228Z"
    }
   },
   "outputs": [
    {
     "name": "stdout",
     "output_type": "stream",
     "text": [
      "Overwriting prog.c\n"
     ]
    }
   ],
   "source": [
    "%%writefile prog.c\n",
    "#include <stdio.h>\n",
    "#include <stdint.h>\n",
    "#include <err.h>\n",
    "\n",
    "int main(int argc, char * argv[]) {\n",
    "int A,B,C;\n",
    "  warnx(\"Donner un entier, svp.\");\n",
    "  scanf(\"%d\",&A);\n",
    "  warnx(\"Donner un entier, svp.\");\n",
    "  scanf(\"%d\",&B);\n",
    "  warnx(\"Donner un entier, svp.\");\n",
    "  scanf(\"%d\",&C);\n",
    "  if (A <= B <= C) \n",
    "    warnx(\"%d/%d/%d : C'est dans l'ordre !\\n\",A,B,C);   \n",
    "  else\n",
    "    warnx(\"%d/%d/%d : C'est dans le desordre.\\n\",A,B,C);   \n",
    "return 0;}"
   ]
  },
  {
   "cell_type": "code",
   "execution_count": 9,
   "id": "56371b76",
   "metadata": {
    "ExecuteTime": {
     "end_time": "2023-10-27T09:35:05.003783Z",
     "start_time": "2023-10-27T09:35:04.893725Z"
    }
   },
   "outputs": [
    {
     "data": {
      "text/plain": [
       "[]"
      ]
     },
     "execution_count": 9,
     "metadata": {},
     "output_type": "execute_result"
    }
   ],
   "source": [
    "%sx gcc -o prog.e prog.c"
   ]
  },
  {
   "cell_type": "markdown",
   "id": "5105cdc6",
   "metadata": {},
   "source": [
    "rem. au moins, le compilateur accepte (sans soucis).\n",
    "\n",
    "mais est-ce que l'exécution va donner le bon résultat ?\n",
    "\n",
    "Pour exécuter ce C en interactif, j'ajoute un petit peu de Python (les interactions avec Jupyter, hors python, ce n'est pas évident, le modèle de Jupyter, c'est ipython, une interprétation **interactive**, mais pour les langages compilés, ce n'est pas la norme)"
   ]
  },
  {
   "cell_type": "code",
   "execution_count": 8,
   "id": "b8459c84",
   "metadata": {
    "ExecuteTime": {
     "end_time": "2023-10-27T09:35:04.890737Z",
     "start_time": "2023-10-27T09:35:04.882323Z"
    }
   },
   "outputs": [],
   "source": [
    "import os\n",
    "import time\n",
    "\n",
    "def lanceur(prog,nb=4,tps=20):  \n",
    "    # prog : le chemin de l'exécutable\n",
    "    # nb : le nombre d'interactions prévues\n",
    "    # tps : le temps maximum prévu pour l'exécution (interactions comprises)\n",
    "    os.system(\"if [ -p monPipeEnEntree ]; then rm monPipeEnEntree; fi\")\n",
    "    os.system(\"mkfifo monPipeEnEntree\")\n",
    "    os.system(\"sleep \"+str(tps)+\" > monPipeEnEntree &\")         # important : ouvrir et garder le pipe ouvert pour un temps assez grand\n",
    "    os.system(\"(sleep \"+str(tps+1)+\" ; rm monPipeEnEntree) &\")\n",
    "    os.system(prog+\" < monPipeEnEntree &\")                      # important : lancer le programme (prévoir que les sorties soient visibles, par ex. sur la sortie erreur)\n",
    "    for i in range(nb):\n",
    "        time.sleep(0.5)\n",
    "        x=input(\"?\")                                            # important : faire une saisie (cela peut servir)\n",
    "        os.system(\"echo \"+x+\" > monPipeEnEntree\")               # important : envoyer la saisie sur le programme (si cela peut servir)\n",
    "    os.system(\"if [ -p monPipeEnEntree ]; then rm monPipeEnEntree; fi\")        "
   ]
  },
  {
   "cell_type": "markdown",
   "id": "62a97e4d",
   "metadata": {},
   "source": [
    "Maintenant on peut lancer l'exécution."
   ]
  },
  {
   "cell_type": "code",
   "execution_count": 11,
   "id": "79b7f4af",
   "metadata": {
    "ExecuteTime": {
     "end_time": "2023-10-27T09:35:31.419874Z",
     "start_time": "2023-10-27T09:35:26.003112Z"
    }
   },
   "outputs": [
    {
     "name": "stderr",
     "output_type": "stream",
     "text": [
      "prog.e: Donner un entier, svp.\n"
     ]
    },
    {
     "name": "stdout",
     "output_type": "stream",
     "text": [
      "?1\n"
     ]
    },
    {
     "name": "stderr",
     "output_type": "stream",
     "text": [
      "prog.e: Donner un entier, svp.\n"
     ]
    },
    {
     "name": "stdout",
     "output_type": "stream",
     "text": [
      "?2\n"
     ]
    },
    {
     "name": "stderr",
     "output_type": "stream",
     "text": [
      "prog.e: Donner un entier, svp.\n"
     ]
    },
    {
     "name": "stdout",
     "output_type": "stream",
     "text": [
      "?3\n"
     ]
    },
    {
     "name": "stderr",
     "output_type": "stream",
     "text": [
      "prog.e: 1/2/3 : C'est dans l'ordre !\n",
      "\n"
     ]
    }
   ],
   "source": [
    "lanceur(\"./prog.e\",3,10)"
   ]
  },
  {
   "cell_type": "code",
   "execution_count": 12,
   "id": "916c951f",
   "metadata": {
    "ExecuteTime": {
     "end_time": "2023-10-27T09:35:51.188913Z",
     "start_time": "2023-10-27T09:35:46.253090Z"
    }
   },
   "outputs": [
    {
     "name": "stderr",
     "output_type": "stream",
     "text": [
      "prog.e: Donner un entier, svp.\n"
     ]
    },
    {
     "name": "stdout",
     "output_type": "stream",
     "text": [
      "?1\n"
     ]
    },
    {
     "name": "stderr",
     "output_type": "stream",
     "text": [
      "prog.e: Donner un entier, svp.\n"
     ]
    },
    {
     "name": "stdout",
     "output_type": "stream",
     "text": [
      "?3\n"
     ]
    },
    {
     "name": "stderr",
     "output_type": "stream",
     "text": [
      "prog.e: Donner un entier, svp.\n"
     ]
    },
    {
     "name": "stdout",
     "output_type": "stream",
     "text": [
      "?2\n"
     ]
    },
    {
     "name": "stderr",
     "output_type": "stream",
     "text": [
      "prog.e: 1/3/2 : C'est dans l'ordre !\n",
      "\n"
     ]
    }
   ],
   "source": [
    "lanceur(\"./prog.e\",3,10)"
   ]
  },
  {
   "cell_type": "markdown",
   "id": "6f248d7f",
   "metadata": {},
   "source": [
    "Pardon ? vous êtes sur ?"
   ]
  },
  {
   "cell_type": "code",
   "execution_count": 13,
   "id": "00b83a0b",
   "metadata": {
    "ExecuteTime": {
     "end_time": "2023-10-27T09:36:07.781700Z",
     "start_time": "2023-10-27T09:36:01.180214Z"
    }
   },
   "outputs": [
    {
     "name": "stderr",
     "output_type": "stream",
     "text": [
      "prog.e: Donner un entier, svp.\n"
     ]
    },
    {
     "name": "stdout",
     "output_type": "stream",
     "text": [
      "?2\n"
     ]
    },
    {
     "name": "stderr",
     "output_type": "stream",
     "text": [
      "prog.e: Donner un entier, svp.\n"
     ]
    },
    {
     "name": "stdout",
     "output_type": "stream",
     "text": [
      "?1\n"
     ]
    },
    {
     "name": "stderr",
     "output_type": "stream",
     "text": [
      "prog.e: Donner un entier, svp.\n"
     ]
    },
    {
     "name": "stdout",
     "output_type": "stream",
     "text": [
      "?3\n"
     ]
    },
    {
     "name": "stderr",
     "output_type": "stream",
     "text": [
      "prog.e: 2/1/3 : C'est dans l'ordre !\n",
      "\n"
     ]
    }
   ],
   "source": [
    "lanceur(\"./prog.e\",3,10)"
   ]
  },
  {
   "cell_type": "code",
   "execution_count": 14,
   "id": "c1b0dcb5",
   "metadata": {
    "ExecuteTime": {
     "end_time": "2023-10-27T09:36:25.346236Z",
     "start_time": "2023-10-27T09:36:20.189210Z"
    }
   },
   "outputs": [
    {
     "name": "stderr",
     "output_type": "stream",
     "text": [
      "prog.e: Donner un entier, svp.\n"
     ]
    },
    {
     "name": "stdout",
     "output_type": "stream",
     "text": [
      "?2\n"
     ]
    },
    {
     "name": "stderr",
     "output_type": "stream",
     "text": [
      "prog.e: Donner un entier, svp.\n"
     ]
    },
    {
     "name": "stdout",
     "output_type": "stream",
     "text": [
      "?3\n"
     ]
    },
    {
     "name": "stderr",
     "output_type": "stream",
     "text": [
      "prog.e: Donner un entier, svp.\n"
     ]
    },
    {
     "name": "stdout",
     "output_type": "stream",
     "text": [
      "?1\n"
     ]
    },
    {
     "name": "stderr",
     "output_type": "stream",
     "text": [
      "prog.e: 2/3/1 : C'est dans l'ordre !\n",
      "\n"
     ]
    }
   ],
   "source": [
    "lanceur(\"./prog.e\",3,10)"
   ]
  },
  {
   "cell_type": "code",
   "execution_count": 15,
   "id": "9a3fedb2",
   "metadata": {
    "ExecuteTime": {
     "end_time": "2023-10-27T09:36:37.830013Z",
     "start_time": "2023-10-27T09:36:32.235414Z"
    }
   },
   "outputs": [
    {
     "name": "stderr",
     "output_type": "stream",
     "text": [
      "prog.e: Donner un entier, svp.\n"
     ]
    },
    {
     "name": "stdout",
     "output_type": "stream",
     "text": [
      "?3\n"
     ]
    },
    {
     "name": "stderr",
     "output_type": "stream",
     "text": [
      "prog.e: Donner un entier, svp.\n"
     ]
    },
    {
     "name": "stdout",
     "output_type": "stream",
     "text": [
      "?1\n"
     ]
    },
    {
     "name": "stderr",
     "output_type": "stream",
     "text": [
      "prog.e: Donner un entier, svp.\n"
     ]
    },
    {
     "name": "stdout",
     "output_type": "stream",
     "text": [
      "?2\n"
     ]
    },
    {
     "name": "stderr",
     "output_type": "stream",
     "text": [
      "prog.e: 3/1/2 : C'est dans l'ordre !\n",
      "\n"
     ]
    }
   ],
   "source": [
    "lanceur(\"./prog.e\",3,10)"
   ]
  },
  {
   "cell_type": "code",
   "execution_count": 16,
   "id": "2791e7d8",
   "metadata": {
    "ExecuteTime": {
     "end_time": "2023-10-27T09:36:52.372058Z",
     "start_time": "2023-10-27T09:36:47.665803Z"
    }
   },
   "outputs": [
    {
     "name": "stderr",
     "output_type": "stream",
     "text": [
      "prog.e: Donner un entier, svp.\n"
     ]
    },
    {
     "name": "stdout",
     "output_type": "stream",
     "text": [
      "?3\n"
     ]
    },
    {
     "name": "stderr",
     "output_type": "stream",
     "text": [
      "prog.e: Donner un entier, svp.\n"
     ]
    },
    {
     "name": "stdout",
     "output_type": "stream",
     "text": [
      "?2\n"
     ]
    },
    {
     "name": "stderr",
     "output_type": "stream",
     "text": [
      "prog.e: Donner un entier, svp.\n"
     ]
    },
    {
     "name": "stdout",
     "output_type": "stream",
     "text": [
      "?1\n"
     ]
    },
    {
     "name": "stderr",
     "output_type": "stream",
     "text": [
      "prog.e: 3/2/1 : C'est dans l'ordre !\n",
      "\n"
     ]
    }
   ],
   "source": [
    "lanceur(\"./prog.e\",3,10)"
   ]
  },
  {
   "cell_type": "markdown",
   "id": "ade004d7",
   "metadata": {},
   "source": [
    "rem. on pourrait croire que cela va toujours dire que c'est dans l'ordre"
   ]
  },
  {
   "cell_type": "code",
   "execution_count": 19,
   "id": "b169e9e4",
   "metadata": {
    "ExecuteTime": {
     "end_time": "2023-10-27T09:38:35.573390Z",
     "start_time": "2023-10-27T09:38:28.794283Z"
    }
   },
   "outputs": [
    {
     "name": "stderr",
     "output_type": "stream",
     "text": [
      "prog.e: Donner un entier, svp.\n"
     ]
    },
    {
     "name": "stdout",
     "output_type": "stream",
     "text": [
      "?-1\n"
     ]
    },
    {
     "name": "stderr",
     "output_type": "stream",
     "text": [
      "prog.e: Donner un entier, svp.\n"
     ]
    },
    {
     "name": "stdout",
     "output_type": "stream",
     "text": [
      "?-2\n"
     ]
    },
    {
     "name": "stderr",
     "output_type": "stream",
     "text": [
      "prog.e: Donner un entier, svp.\n"
     ]
    },
    {
     "name": "stdout",
     "output_type": "stream",
     "text": [
      "?-3\n"
     ]
    },
    {
     "name": "stderr",
     "output_type": "stream",
     "text": [
      "prog.e: -1/-2/-3 : C'est dans le desordre.\n",
      "\n"
     ]
    }
   ],
   "source": [
    "lanceur(\"./prog.e\",3,10)"
   ]
  },
  {
   "cell_type": "code",
   "execution_count": 20,
   "id": "a5d0f328",
   "metadata": {
    "ExecuteTime": {
     "end_time": "2023-10-27T09:39:53.085408Z",
     "start_time": "2023-10-27T09:39:47.672853Z"
    }
   },
   "outputs": [
    {
     "name": "stderr",
     "output_type": "stream",
     "text": [
      "prog.e: Donner un entier, svp.\n"
     ]
    },
    {
     "name": "stdout",
     "output_type": "stream",
     "text": [
      "?-3\n"
     ]
    },
    {
     "name": "stderr",
     "output_type": "stream",
     "text": [
      "prog.e: Donner un entier, svp.\n"
     ]
    },
    {
     "name": "stdout",
     "output_type": "stream",
     "text": [
      "?-2\n"
     ]
    },
    {
     "name": "stderr",
     "output_type": "stream",
     "text": [
      "prog.e: Donner un entier, svp.\n"
     ]
    },
    {
     "name": "stdout",
     "output_type": "stream",
     "text": [
      "?-1\n"
     ]
    },
    {
     "name": "stderr",
     "output_type": "stream",
     "text": [
      "prog.e: -3/-2/-1 : C'est dans le desordre.\n",
      "\n"
     ]
    }
   ],
   "source": [
    "lanceur(\"./prog.e\",3,10)"
   ]
  },
  {
   "cell_type": "markdown",
   "id": "4667370a",
   "metadata": {},
   "source": [
    "Bref, en C, cela ne donne pas ce que l'*on* s'attend que cela donne.\n",
    "\n",
    "En C, il aurait fallu écrire :\n",
    "* (A <= B) && (B <= C)"
   ]
  }
 ],
 "metadata": {
  "kernelspec": {
   "display_name": "Python 3 (ipykernel)",
   "language": "python",
   "name": "python3"
  },
  "language_info": {
   "codemirror_mode": {
    "name": "ipython",
    "version": 3
   },
   "file_extension": ".py",
   "mimetype": "text/x-python",
   "name": "python",
   "nbconvert_exporter": "python",
   "pygments_lexer": "ipython3",
   "version": "3.9.7"
  },
  "latex_envs": {
   "LaTeX_envs_menu_present": true,
   "autoclose": false,
   "autocomplete": true,
   "bibliofile": "biblio.bib",
   "cite_by": "apalike",
   "current_citInitial": 1,
   "eqLabelWithNumbers": true,
   "eqNumInitial": 1,
   "hotkeys": {
    "equation": "Ctrl-E",
    "itemize": "Ctrl-I"
   },
   "labels_anchors": false,
   "latex_user_defs": false,
   "report_style_numbering": false,
   "user_envs_cfg": false
  },
  "toc": {
   "base_numbering": 1,
   "nav_menu": {},
   "number_sections": true,
   "sideBar": false,
   "skip_h1_title": true,
   "title_cell": "Table of Contents",
   "title_sidebar": "Contents",
   "toc_cell": true,
   "toc_position": {},
   "toc_section_display": false,
   "toc_window_display": true
  },
  "varInspector": {
   "cols": {
    "lenName": 16,
    "lenType": 16,
    "lenVar": 40
   },
   "kernels_config": {
    "python": {
     "delete_cmd_postfix": "",
     "delete_cmd_prefix": "del ",
     "library": "var_list.py",
     "varRefreshCmd": "print(var_dic_list())"
    },
    "r": {
     "delete_cmd_postfix": ") ",
     "delete_cmd_prefix": "rm(",
     "library": "var_list.r",
     "varRefreshCmd": "cat(var_dic_list()) "
    }
   },
   "types_to_exclude": [
    "module",
    "function",
    "builtin_function_or_method",
    "instance",
    "_Feature"
   ],
   "window_display": false
  }
 },
 "nbformat": 4,
 "nbformat_minor": 5
}
