{
 "cells": [
  {
   "cell_type": "markdown",
   "id": "125859c9",
   "metadata": {},
   "source": [
    "# Bonjour\n",
    "\n",
    "Modèles de programmes\n",
    "* ARM\n",
    "* C\n",
    "* Erlang\n",
    "* Java\n",
    "* Javascript\n",
    "* Prolog\n",
    "* Python\n",
    "* R\n",
    "* ... (il peut y en avoir d'autres qui fonctionnent)\n",
    "\n",
    "## ARM\n"
   ]
  },
  {
   "cell_type": "code",
   "execution_count": 1,
   "id": "808a571e",
   "metadata": {},
   "outputs": [
    {
     "name": "stdout",
     "output_type": "stream",
     "text": [
      "Overwriting _tmp/bonjour.s\n"
     ]
    }
   ],
   "source": [
    "%%writefile _tmp/bonjour.s\n",
    "  .global main\n",
    "  .data\n",
    "msg: .asciz \"Bonjour le monde\"\n",
    "  .text\n",
    "main:\n",
    "    push {lr}\n",
    "    \n",
    "    ldr R1,LD_msg  @ appel/paramètre\n",
    "    bl EcrChaine   @ appel/appel\n",
    "    \n",
    "    mov R0, #0\n",
    "    pop {lr}\n",
    "    bx lr\n",
    "    \n",
    "LD_msg: .word msg"
   ]
  },
  {
   "cell_type": "markdown",
   "id": "7cd99635",
   "metadata": {},
   "source": [
    "et quelques lignes de bibliothèque"
   ]
  },
  {
   "cell_type": "code",
   "execution_count": 2,
   "id": "addbc8cb",
   "metadata": {},
   "outputs": [
    {
     "name": "stdout",
     "output_type": "stream",
     "text": [
      "Overwriting _tmp/tinyes.s\n"
     ]
    }
   ],
   "source": [
    "%%writefile _tmp/tinyes.s\n",
    "  .global EcrChaine\n",
    "  .text\n",
    "@ EcrChaine :\n",
    "@    ecriture de la chaine dont l'adresse est dans r1\n",
    "EcrChaine:\n",
    "   mov ip, sp\n",
    "   stmfd sp!, {r0, r1, r2, r3, fp, ip, lr, pc}\n",
    "   sub     fp, ip, #4\n",
    "   ldr r0, LD_fe_chaine\n",
    "   bl printf\n",
    "   ldmea fp, {r0, r1, r2, r3, fp, sp, pc}\n",
    "LD_fe_chaine: .word fe_chaine\n",
    "  .data\n",
    "fe_chaine: .asciz \"%s\\n\"\n"
   ]
  },
  {
   "cell_type": "markdown",
   "id": "baf9fabb",
   "metadata": {},
   "source": [
    "Pour compiler, exécuter le code, on utilise une variante de gcc pour ARM et un émulateur de ARM :"
   ]
  },
  {
   "cell_type": "code",
   "execution_count": 3,
   "id": "ccd5c69e",
   "metadata": {},
   "outputs": [
    {
     "name": "stdout",
     "output_type": "stream",
     "text": [
      "Bonjour le monde\n"
     ]
    }
   ],
   "source": [
    "%%sh \n",
    "rm -f _tmp/bonjour.e\n",
    "arm-linux-gnueabi-gcc -static -c _tmp/tinyes.s -o _tmp/tinyes.o\n",
    "arm-linux-gnueabi-gcc -static -c _tmp/bonjour.s -o _tmp/bonjour.o\n",
    "arm-linux-gnueabi-gcc -static _tmp/bonjour.o _tmp/tinyes.o -o _tmp/bonjour.e\n",
    "qemu-arm  _tmp/bonjour.e"
   ]
  },
  {
   "cell_type": "markdown",
   "id": "2a886c1e",
   "metadata": {},
   "source": [
    "## C"
   ]
  },
  {
   "cell_type": "code",
   "execution_count": 4,
   "id": "cfca5164",
   "metadata": {},
   "outputs": [
    {
     "name": "stdout",
     "output_type": "stream",
     "text": [
      "Overwriting _tmp/bonjour.c\n"
     ]
    }
   ],
   "source": [
    "%%writefile _tmp/bonjour.c\n",
    "#include <stdio.h>\n",
    "\n",
    "int main() {\n",
    "    printf(\"Bonjour\");\n",
    "    return 0;}"
   ]
  },
  {
   "cell_type": "markdown",
   "id": "0d274b4a",
   "metadata": {},
   "source": [
    "pour l'exécuter :"
   ]
  },
  {
   "cell_type": "code",
   "execution_count": 5,
   "id": "0521b18d",
   "metadata": {},
   "outputs": [
    {
     "name": "stdout",
     "output_type": "stream",
     "text": [
      "Bonjour"
     ]
    }
   ],
   "source": [
    "%%sh \n",
    "rm -f _tmp/bonjour\n",
    "gcc _tmp/bonjour.c -o _tmp/bonjour.e\n",
    "_tmp/bonjour.e\n"
   ]
  },
  {
   "cell_type": "markdown",
   "id": "86accdc7",
   "metadata": {},
   "source": [
    "## Erlang"
   ]
  },
  {
   "cell_type": "code",
   "execution_count": 6,
   "id": "eb7c8b3b",
   "metadata": {},
   "outputs": [
    {
     "name": "stdout",
     "output_type": "stream",
     "text": [
      "Overwriting _tmp/bonjour.erl\n"
     ]
    }
   ],
   "source": [
    "%%writefile _tmp/bonjour.erl\n",
    "-module(bonjour).\n",
    "-compile([export_all,nowarn_export_all]).\n",
    "\n",
    "main([]) -> \n",
    "  io:format(\"Bonjour\",[])."
   ]
  },
  {
   "cell_type": "code",
   "execution_count": 7,
   "id": "5b227c3e",
   "metadata": {},
   "outputs": [
    {
     "name": "stdout",
     "output_type": "stream",
     "text": [
      "Bonjour"
     ]
    }
   ],
   "source": [
    "! escript _tmp/bonjour.erl"
   ]
  },
  {
   "cell_type": "markdown",
   "id": "12d14742-aa5d-409d-b65f-efaf1a4ed674",
   "metadata": {},
   "source": [
    "# Java"
   ]
  },
  {
   "cell_type": "code",
   "execution_count": 1,
   "id": "977b2c6e-d9c2-4953-9d41-95bc440ca04a",
   "metadata": {
    "execution": {
     "iopub.execute_input": "2024-06-28T07:05:10.134805Z",
     "iopub.status.busy": "2024-06-28T07:05:10.134199Z",
     "iopub.status.idle": "2024-06-28T07:05:10.179278Z",
     "shell.execute_reply": "2024-06-28T07:05:10.178774Z",
     "shell.execute_reply.started": "2024-06-28T07:05:10.134715Z"
    }
   },
   "outputs": [
    {
     "name": "stdout",
     "output_type": "stream",
     "text": [
      "Writing Prog.java\n"
     ]
    }
   ],
   "source": [
    "%%writefile Prog.java\n",
    "public class Prog {\n",
    "    public static void main(String[] args) {\n",
    "        System.out.println(\"Bonjour\");}}"
   ]
  },
  {
   "cell_type": "code",
   "execution_count": 2,
   "id": "3575ceb1-e35f-451e-9a92-c1286607180b",
   "metadata": {
    "execution": {
     "iopub.execute_input": "2024-06-28T07:05:21.508797Z",
     "iopub.status.busy": "2024-06-28T07:05:21.508458Z",
     "iopub.status.idle": "2024-06-28T07:05:22.086957Z",
     "shell.execute_reply": "2024-06-28T07:05:22.086127Z",
     "shell.execute_reply.started": "2024-06-28T07:05:21.508772Z"
    }
   },
   "outputs": [
    {
     "name": "stdout",
     "output_type": "stream",
     "text": [
      "Bonjour\n"
     ]
    }
   ],
   "source": [
    "!java Prog.java"
   ]
  },
  {
   "cell_type": "markdown",
   "id": "898db8cf",
   "metadata": {},
   "source": [
    "## Javascript"
   ]
  },
  {
   "cell_type": "code",
   "execution_count": 8,
   "id": "be0f1125",
   "metadata": {},
   "outputs": [
    {
     "name": "stdout",
     "output_type": "stream",
     "text": [
      "Overwriting _tmp/bonjour.js\n"
     ]
    }
   ],
   "source": [
    "%%writefile _tmp/bonjour.js\n",
    "console.log(\"Bonjour\")"
   ]
  },
  {
   "cell_type": "code",
   "execution_count": 9,
   "id": "4cd046ad",
   "metadata": {},
   "outputs": [
    {
     "name": "stdout",
     "output_type": "stream",
     "text": [
      "Bonjour\r\n"
     ]
    }
   ],
   "source": [
    "! node _tmp/bonjour.js"
   ]
  },
  {
   "cell_type": "markdown",
   "id": "c7fcb49a",
   "metadata": {},
   "source": [
    "## Prolog"
   ]
  },
  {
   "cell_type": "code",
   "execution_count": 10,
   "id": "97bdc6d1",
   "metadata": {},
   "outputs": [
    {
     "name": "stdout",
     "output_type": "stream",
     "text": [
      "Overwriting _tmp/bonjour.pl\n"
     ]
    }
   ],
   "source": [
    "%%writefile _tmp/bonjour.pl\n",
    "main :- \n",
    "  writeln('Bonjour').\n",
    "\n",
    ":- main, halt."
   ]
  },
  {
   "cell_type": "code",
   "execution_count": 11,
   "id": "639fa3c3",
   "metadata": {},
   "outputs": [
    {
     "name": "stdout",
     "output_type": "stream",
     "text": [
      "Bonjour\r\n"
     ]
    }
   ],
   "source": [
    "! swipl -q -s _tmp/bonjour.pl"
   ]
  },
  {
   "cell_type": "markdown",
   "id": "5bfb94b6",
   "metadata": {},
   "source": [
    "## Python"
   ]
  },
  {
   "cell_type": "code",
   "execution_count": 12,
   "id": "df709959",
   "metadata": {},
   "outputs": [
    {
     "name": "stdout",
     "output_type": "stream",
     "text": [
      "Bonjour\n"
     ]
    }
   ],
   "source": [
    "print(\"Bonjour\")"
   ]
  },
  {
   "cell_type": "markdown",
   "id": "71dd7bdb",
   "metadata": {},
   "source": [
    "## R"
   ]
  },
  {
   "cell_type": "code",
   "execution_count": 13,
   "id": "6f200fa0",
   "metadata": {},
   "outputs": [
    {
     "name": "stdout",
     "output_type": "stream",
     "text": [
      "Overwriting _tmp/bonjour.R\n"
     ]
    }
   ],
   "source": [
    "%%writefile _tmp/bonjour.R\n",
    "\n",
    "print(\"Bonjour\")"
   ]
  },
  {
   "cell_type": "code",
   "execution_count": 14,
   "id": "cbd0a16b",
   "metadata": {},
   "outputs": [
    {
     "name": "stdout",
     "output_type": "stream",
     "text": [
      "[1] \"Bonjour\"\r\n"
     ]
    }
   ],
   "source": [
    "! Rscript  _tmp/bonjour.R"
   ]
  }
 ],
 "metadata": {
  "kernelspec": {
   "display_name": "Python 3 (ipykernel)",
   "language": "python",
   "name": "python3"
  },
  "language_info": {
   "codemirror_mode": {
    "name": "ipython",
    "version": 3
   },
   "file_extension": ".py",
   "mimetype": "text/x-python",
   "name": "python",
   "nbconvert_exporter": "python",
   "pygments_lexer": "ipython3",
   "version": "3.10.12"
  }
 },
 "nbformat": 4,
 "nbformat_minor": 5
}
