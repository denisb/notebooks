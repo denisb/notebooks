{
 "cells": [
  {
   "cell_type": "markdown",
   "metadata": {},
   "source": [
    "# Bonjour\n",
    "\n",
    "Modèles de programmes\n",
    "* ARM\n",
    "* C\n",
    "* Erlang\n",
    "* Javascript\n",
    "* Prolog\n",
    "* Python\n",
    "* R\n",
    "* ... (il peut y en avoir d'autres qui fonctionnent)\n",
    "\n",
    "## ARM\n"
   ]
  },
  {
   "cell_type": "code",
   "execution_count": 1,
   "metadata": {},
   "outputs": [
    {
     "name": "stdout",
     "output_type": "stream",
     "text": [
      "Overwriting _tmp/bonjour.s\n"
     ]
    }
   ],
   "source": [
    "%%writefile _tmp/bonjour.s\n",
    "  .global main\n",
    "  .data\n",
    "msg: .asciz \"Bonjour le monde\"\n",
    "  .text\n",
    "main:\n",
    "    push {lr}\n",
    "    \n",
    "    ldr R1,LD_msg  @ appel/paramètre\n",
    "    bl EcrChaine   @ appel/appel\n",
    "    \n",
    "    mov R0, #0\n",
    "    pop {lr}\n",
    "    bx lr\n",
    "    \n",
    "LD_msg: .word msg"
   ]
  },
  {
   "cell_type": "markdown",
   "metadata": {},
   "source": [
    "et quelques lignes de bibliothèque"
   ]
  },
  {
   "cell_type": "code",
   "execution_count": 2,
   "metadata": {},
   "outputs": [
    {
     "name": "stdout",
     "output_type": "stream",
     "text": [
      "Overwriting _tmp/tinyes.s\n"
     ]
    }
   ],
   "source": [
    "%%writefile _tmp/tinyes.s\n",
    "  .global EcrChaine\n",
    "  .text\n",
    "@ EcrChaine :\n",
    "@    ecriture de la chaine dont l'adresse est dans r1\n",
    "EcrChaine:\n",
    "   mov ip, sp\n",
    "   stmfd sp!, {r0, r1, r2, r3, fp, ip, lr, pc}\n",
    "   sub     fp, ip, #4\n",
    "   ldr r0, LD_fe_chaine\n",
    "   bl printf\n",
    "   ldmea fp, {r0, r1, r2, r3, fp, sp, pc}\n",
    "LD_fe_chaine: .word fe_chaine\n",
    "  .data\n",
    "fe_chaine: .asciz \"%s\\n\"\n"
   ]
  },
  {
   "cell_type": "markdown",
   "metadata": {},
   "source": [
    "Pour compiler, exécuter le code, on utilise une variante de gcc pour ARM et un émulateur de ARM :"
   ]
  },
  {
   "cell_type": "code",
   "execution_count": 3,
   "metadata": {},
   "outputs": [
    {
     "name": "stdout",
     "output_type": "stream",
     "text": [
      "Bonjour le monde\n"
     ]
    }
   ],
   "source": [
    "%%sh \n",
    "rm -f _tmp/bonjour.e\n",
    "arm-linux-gnueabi-gcc -static -c _tmp/tinyes.s -o _tmp/tinyes.o\n",
    "arm-linux-gnueabi-gcc -static -c _tmp/bonjour.s -o _tmp/bonjour.o\n",
    "arm-linux-gnueabi-gcc -static _tmp/bonjour.o _tmp/tinyes.o -o _tmp/bonjour.e\n",
    "qemu-arm  _tmp/bonjour.e"
   ]
  },
  {
   "cell_type": "markdown",
   "metadata": {},
   "source": [
    "## C"
   ]
  },
  {
   "cell_type": "code",
   "execution_count": 4,
   "metadata": {},
   "outputs": [
    {
     "name": "stdout",
     "output_type": "stream",
     "text": [
      "Overwriting _tmp/bonjour.c\n"
     ]
    }
   ],
   "source": [
    "%%writefile _tmp/bonjour.c\n",
    "#include <stdio.h>\n",
    "\n",
    "int main() {\n",
    "    printf(\"Bonjour\");\n",
    "    return 0;}"
   ]
  },
  {
   "cell_type": "markdown",
   "metadata": {},
   "source": [
    "pour l'exécuter :"
   ]
  },
  {
   "cell_type": "code",
   "execution_count": 5,
   "metadata": {},
   "outputs": [
    {
     "name": "stdout",
     "output_type": "stream",
     "text": [
      "Bonjour"
     ]
    }
   ],
   "source": [
    "%%sh \n",
    "rm -f _tmp/bonjour\n",
    "gcc _tmp/bonjour.c -o _tmp/bonjour.e\n",
    "_tmp/bonjour.e\n"
   ]
  },
  {
   "cell_type": "markdown",
   "metadata": {},
   "source": [
    "## Erlang"
   ]
  },
  {
   "cell_type": "code",
   "execution_count": 6,
   "metadata": {},
   "outputs": [
    {
     "name": "stdout",
     "output_type": "stream",
     "text": [
      "Overwriting _tmp/bonjour.erl\n"
     ]
    }
   ],
   "source": [
    "%%writefile _tmp/bonjour.erl\n",
    "-module(bonjour).\n",
    "-compile([export_all,nowarn_export_all]).\n",
    "\n",
    "main([]) -> \n",
    "  io:format(\"Bonjour\",[])."
   ]
  },
  {
   "cell_type": "code",
   "execution_count": 7,
   "metadata": {},
   "outputs": [
    {
     "name": "stdout",
     "output_type": "stream",
     "text": [
      "Bonjour"
     ]
    }
   ],
   "source": [
    "! escript _tmp/bonjour.erl"
   ]
  },
  {
   "cell_type": "markdown",
   "metadata": {},
   "source": [
    "## Javascript"
   ]
  },
  {
   "cell_type": "code",
   "execution_count": 8,
   "metadata": {},
   "outputs": [
    {
     "name": "stdout",
     "output_type": "stream",
     "text": [
      "Overwriting _tmp/bonjour.js\n"
     ]
    }
   ],
   "source": [
    "%%writefile _tmp/bonjour.js\n",
    "console.log(\"Bonjour\")"
   ]
  },
  {
   "cell_type": "code",
   "execution_count": 9,
   "metadata": {},
   "outputs": [
    {
     "name": "stdout",
     "output_type": "stream",
     "text": [
      "Bonjour\r\n"
     ]
    }
   ],
   "source": [
    "! node _tmp/bonjour.js"
   ]
  },
  {
   "cell_type": "markdown",
   "metadata": {},
   "source": [
    "## Prolog"
   ]
  },
  {
   "cell_type": "code",
   "execution_count": 10,
   "metadata": {},
   "outputs": [
    {
     "name": "stdout",
     "output_type": "stream",
     "text": [
      "Overwriting _tmp/bonjour.pl\n"
     ]
    }
   ],
   "source": [
    "%%writefile _tmp/bonjour.pl\n",
    "main :- \n",
    "  writeln('Bonjour').\n",
    "\n",
    ":- main, halt."
   ]
  },
  {
   "cell_type": "code",
   "execution_count": 11,
   "metadata": {},
   "outputs": [
    {
     "name": "stdout",
     "output_type": "stream",
     "text": [
      "Bonjour\r\n"
     ]
    }
   ],
   "source": [
    "! swipl -q -s _tmp/bonjour.pl"
   ]
  },
  {
   "cell_type": "markdown",
   "metadata": {},
   "source": [
    "## Python"
   ]
  },
  {
   "cell_type": "code",
   "execution_count": 12,
   "metadata": {},
   "outputs": [
    {
     "name": "stdout",
     "output_type": "stream",
     "text": [
      "Bonjour\n"
     ]
    }
   ],
   "source": [
    "print(\"Bonjour\")"
   ]
  },
  {
   "cell_type": "markdown",
   "metadata": {},
   "source": [
    "## R"
   ]
  },
  {
   "cell_type": "code",
   "execution_count": 13,
   "metadata": {},
   "outputs": [
    {
     "name": "stdout",
     "output_type": "stream",
     "text": [
      "Overwriting _tmp/bonjour.R\n"
     ]
    }
   ],
   "source": [
    "%%writefile _tmp/bonjour.R\n",
    "\n",
    "print(\"Bonjour\")"
   ]
  },
  {
   "cell_type": "code",
   "execution_count": 14,
   "metadata": {},
   "outputs": [
    {
     "name": "stdout",
     "output_type": "stream",
     "text": [
      "[1] \"Bonjour\"\r\n"
     ]
    }
   ],
   "source": [
    "! Rscript  _tmp/bonjour.R"
   ]
  }
 ],
 "metadata": {
  "kernelspec": {
   "display_name": "Python 3",
   "language": "python",
   "name": "python3"
  },
  "language_info": {
   "codemirror_mode": {
    "name": "ipython",
    "version": 3
   },
   "file_extension": ".py",
   "mimetype": "text/x-python",
   "name": "python",
   "nbconvert_exporter": "python",
   "pygments_lexer": "ipython3",
   "version": "3.8.10"
  }
 },
 "nbformat": 4,
 "nbformat_minor": 5
}
