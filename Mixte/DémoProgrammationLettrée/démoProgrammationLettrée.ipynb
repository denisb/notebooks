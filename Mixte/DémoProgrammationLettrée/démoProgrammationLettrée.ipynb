{
 "cells": [
  {
   "cell_type": "markdown",
   "id": "15906395",
   "metadata": {
    "toc": true
   },
   "source": [
    "<h1>Table of Contents<span class=\"tocSkip\"></span></h1>\n",
    "<div class=\"toc\"><ul class=\"toc-item\"><li><span><a href=\"#Qu'est-ce-que-la-programmation-lettrée-?\" data-toc-modified-id=\"Qu'est-ce-que-la-programmation-lettrée-?-1\"><span class=\"toc-item-num\">1&nbsp;&nbsp;</span>Qu'est-ce que la programmation lettrée ?</a></span></li><li><span><a href=\"#Qu'est-ce-qui-est-nécessaire-pour-faire-de-la-programmation-lettrée-?\" data-toc-modified-id=\"Qu'est-ce-qui-est-nécessaire-pour-faire-de-la-programmation-lettrée-?-2\"><span class=\"toc-item-num\">2&nbsp;&nbsp;</span>Qu'est-ce qui est nécessaire pour faire de la programmation lettrée ?</a></span></li><li><span><a href=\"#Exemple-avec-un-programme-de-tri-par-sélection-du-minimum\" data-toc-modified-id=\"Exemple-avec-un-programme-de-tri-par-sélection-du-minimum-3\"><span class=\"toc-item-num\">3&nbsp;&nbsp;</span>Exemple avec un programme de tri par sélection du minimum</a></span><ul class=\"toc-item\"><li><span><a href=\"#Début-avec-une-démarche-bottom-up\" data-toc-modified-id=\"Début-avec-une-démarche-bottom-up-3.1\"><span class=\"toc-item-num\">3.1&nbsp;&nbsp;</span>Début avec une démarche bottom-up</a></span></li><li><span><a href=\"#Plus-de-test\" data-toc-modified-id=\"Plus-de-test-3.2\"><span class=\"toc-item-num\">3.2&nbsp;&nbsp;</span>Plus de test</a></span></li><li><span><a href=\"#Passage-à-une-démarche-top-down\" data-toc-modified-id=\"Passage-à-une-démarche-top-down-3.3\"><span class=\"toc-item-num\">3.3&nbsp;&nbsp;</span>Passage à une démarche top-down</a></span></li><li><span><a href=\"#Contrôle-(parenthèse)\" data-toc-modified-id=\"Contrôle-(parenthèse)-3.4\"><span class=\"toc-item-num\">3.4&nbsp;&nbsp;</span>Contrôle (parenthèse)</a></span></li><li><span><a href=\"#Finalisation\" data-toc-modified-id=\"Finalisation-3.5\"><span class=\"toc-item-num\">3.5&nbsp;&nbsp;</span>Finalisation</a></span></li></ul></li><li><span><a href=\"#Remarques\" data-toc-modified-id=\"Remarques-4\"><span class=\"toc-item-num\">4&nbsp;&nbsp;</span>Remarques</a></span></li></ul></div>"
   ]
  },
  {
   "cell_type": "markdown",
   "id": "3608f9a1-0e86-42ee-ba2d-4541f7444b6c",
   "metadata": {},
   "source": [
    "# Programmation lettrée\n",
    "\n",
    "## Qu'est-ce que la programmation lettrée ?\n",
    "\n",
    "La programmation, ce n'est pas seulement écrire des programmes. C'est aussi écrire des programmes qui tournent et expliquer ce qu'ils font. Trop souvent, ces deux dernières parties de la programmation (le test et la documentation) sont reléguées aux calendes, s'il reste du temps et s'il l'on en a encore l'envie, l'énergie. Pour mettre les tests en première position, la programmation dirigée par les tests a été inventée. Pour donner une meilleure place à la documentation, la programmation lettrée a été pensée.\n",
    "\n",
    "La programmation lettrée, c'est un essai pour inverser la relation qui existe habituellement entre le code et les commentaires : les commentaires ne seront pas rédigés dans le code, le code sera fourni dans la rédaction (l'essai au sens littéraire) qui mènera au programme. L'objet de départ sera donc un texte à lire, porté par un effort d'explication, de narration, en suivant la logique de la pensée (et non pas la logique de l'ordinateur). De ce texte, il faudra tout de même pouvoir en extraire un programme, et, c'est mieux, un programme qui marche (il faudra donc aussi avoir eu l'occasion de le tester, mais cette partie, si elle doit être comprise dans le texte, ne doit pas nécessairement faire partie du programme final)\n",
    "\n",
    "## Qu'est-ce qui est nécessaire pour faire de la programmation lettrée ?\n",
    "\n",
    "En premier, donc, il faut pouvoir écrire du texte. Et si possible, pouvoir l'organiser comme une oeuvre littéraire, avec des chapitres, des paragraphes, des choix de fonts, de graisses et de casses, etc. Dans ce texte, doivent aussi pouvoir être donnés des morceaux de programme. Ces morceaux de codes doivent pouvoir apparaître dans un ordre quelconque, certaines parties doivent pouvoir être abstraites, certains parties doivent pouvoir être complétées plus tard (par les parties abstraites ou par des ajouts). Il faut donc des outils d'abstraction, de composition, d'ajout en fin, etc.\n",
    "\n",
    "Certains de ces outils peuvent être simulés avec les commandes magiques de IPython, (%%writefile nomFichier et %%writefile -a nomFichier ou %%writefile --append nomFichier), d'autres avec les commandes du précompilateur c (cpp) : (#include nomFichier, #define macro(param) formule(param), #if #ifdef, #ifndef, #else, #elif, #endif, etc.). Pour obtenir le/s programme final, il restera à exécuter les commandes magiques de IPython et cpp, puis à compiler ou interpréter le code résultat (avec la commande magique %sh).\n",
    "\n",
    "## Exemple avec un programme de tri par sélection du minimum\n",
    "\n",
    "### Début avec une démarche bottom-up \n",
    "\n",
    "Imaginons une situation où l'on veut un tri par sélection du minimum dans une démarche bottom-up, c'est à dire commençant par définir une recherche du minimum, puis en utilisant celle-ci pour faire un tri.\n",
    "\n",
    "Supposons que notre recherche de minimum se fera en javascript sur un tableau T, un début de code peut être le suivant :"
   ]
  },
  {
   "cell_type": "code",
   "execution_count": 21,
   "id": "3353eafa",
   "metadata": {
    "ExecuteTime": {
     "end_time": "2022-06-03T09:05:10.615832Z",
     "start_time": "2022-06-03T09:05:10.607279Z"
    }
   },
   "outputs": [
    {
     "name": "stdout",
     "output_type": "stream",
     "text": [
      "Writing corpsMinimum.js\n"
     ]
    }
   ],
   "source": [
    "%%writefile corpsMinimum.js\n",
    "\n",
    "let min = T[0];\n",
    "let imin=0;\n",
    "for(let i=1;i<T.length;i++) {\n",
    "    if (T[i]<min) {\n",
    "        min=T[i];\n",
    "        imin=i;}}\n",
    "return imin;"
   ]
  },
  {
   "cell_type": "markdown",
   "id": "5864aed3",
   "metadata": {},
   "source": [
    "Pour tester ce morceau de programme, il faut peut-être lui construire un petit programme ad'hoc :"
   ]
  },
  {
   "cell_type": "code",
   "execution_count": 22,
   "id": "12313484",
   "metadata": {
    "ExecuteTime": {
     "end_time": "2022-06-03T09:05:49.686043Z",
     "start_time": "2022-06-03T09:05:49.676566Z"
    }
   },
   "outputs": [
    {
     "name": "stdout",
     "output_type": "stream",
     "text": [
      "Writing testCorpsMinimum.js\n"
     ]
    }
   ],
   "source": [
    "%%writefile testCorpsMinimum.js\n",
    "\n",
    "\n",
    "function rechMin(T) {\n",
    "#include \"corpsMinimum.js\"\n",
    "}\n",
    "\n",
    "console.log(\"Indice du min : \"+rechMin([2,0,4,8]));"
   ]
  },
  {
   "cell_type": "code",
   "execution_count": 23,
   "id": "651527da",
   "metadata": {
    "ExecuteTime": {
     "end_time": "2022-06-03T09:06:14.563467Z",
     "start_time": "2022-06-03T09:06:13.767139Z"
    }
   },
   "outputs": [
    {
     "name": "stdout",
     "output_type": "stream",
     "text": [
      "Indice du min : 1\n"
     ]
    }
   ],
   "source": [
    "%%sh\n",
    "cpp -P testCorpsMinimum.js > all.js\n",
    "node all.js"
   ]
  },
  {
   "cell_type": "markdown",
   "id": "c05af6d0",
   "metadata": {},
   "source": [
    "Cela semble marcher, mais le code n'est peut-être pas solide pour les tableaux vides, etc. Il faudrait peut-être l'améliorer. Il faudrait peut-être placer ce code dans une fonction (comme il a été fait pour le test), etc. La première version de notre programme n'est peut-être pas optimal.\n",
    "\n",
    "### Plus de test\n",
    "\n",
    "Remarque, pour le programme de test, on pourrait ajouter un autre test :"
   ]
  },
  {
   "cell_type": "code",
   "execution_count": 24,
   "id": "eb5a1eab",
   "metadata": {
    "ExecuteTime": {
     "end_time": "2022-06-03T09:06:59.953619Z",
     "start_time": "2022-06-03T09:06:59.944169Z"
    }
   },
   "outputs": [
    {
     "name": "stdout",
     "output_type": "stream",
     "text": [
      "Appending to testCorpsMinimum.js\n"
     ]
    }
   ],
   "source": [
    "%%writefile -a testCorpsMinimum.js\n",
    "\n",
    "console.log(\"Autre test\")\n",
    "T2=[6,5,5,3,6];\n",
    "Min2=rechMin(T2);\n",
    "console.log(\"Indice du min : \"+Min2);\n",
    "console.log(\"Val du min : \"+T2[Min2]);"
   ]
  },
  {
   "cell_type": "code",
   "execution_count": 25,
   "id": "dd643607",
   "metadata": {
    "ExecuteTime": {
     "end_time": "2022-06-03T09:07:14.879469Z",
     "start_time": "2022-06-03T09:07:14.084525Z"
    }
   },
   "outputs": [
    {
     "name": "stdout",
     "output_type": "stream",
     "text": [
      "Indice du min : 1\n",
      "Autre test\n",
      "Indice du min : 3\n",
      "Val du min : 3\n"
     ]
    }
   ],
   "source": [
    "%%sh\n",
    "cpp -P testCorpsMinimum.js > all.js\n",
    "node all.js"
   ]
  },
  {
   "cell_type": "markdown",
   "id": "ad5d7e2d",
   "metadata": {},
   "source": [
    "Attention, avec la commande d'ajout précédente, l'exécution de la cellule plusieurs fois ajoute le code correspondant plusieurs fois, ce qui modifie à chaque fois le résultat. La corespondance entre le texte et les exécutions peut être perturbante avec Jupyter (si on exécute dans le désordre, ou en oubliant des étapes, ou en revenant en arrière, ou en exécutant plusieurs fois une même cellule), ce n'est pas cette cellule et cette commande magics qui va simplifier les choses. Parmi les bonnes pratiques de Jupyter, il faudrait pouvoir indiquer/controler qu'une cellule doit être exécutée une fois exactement, une fois au plus, une fois au moins, etc. (rem. il y a des extensions et codes magiques pour cela, en partie ; c'est à explorer)\n",
    "\n",
    "Pour la suite, on peut prévoir un morceau de code définissant la fonction (en gardant le corps de la fonction dans un autre morceau) :"
   ]
  },
  {
   "cell_type": "code",
   "execution_count": 26,
   "id": "ede25463",
   "metadata": {
    "ExecuteTime": {
     "end_time": "2022-06-03T09:07:38.919938Z",
     "start_time": "2022-06-03T09:07:38.909178Z"
    }
   },
   "outputs": [
    {
     "name": "stdout",
     "output_type": "stream",
     "text": [
      "Writing fonctionMinimum.js\n"
     ]
    }
   ],
   "source": [
    "%%writefile fonctionMinimum.js\n",
    "\n",
    "\n",
    "function rechMin(T) {\n",
    "#include \"corpsMinimum.js\"\n",
    "}"
   ]
  },
  {
   "cell_type": "markdown",
   "id": "d33bf2c7",
   "metadata": {},
   "source": [
    "### Passage à une démarche top-down\n",
    "\n",
    "Le programme de test, peut donc s'exprimer avec des inclusions multiples et des inclusions imbriquées :"
   ]
  },
  {
   "cell_type": "code",
   "execution_count": 27,
   "id": "548c6b26",
   "metadata": {
    "ExecuteTime": {
     "end_time": "2022-06-03T09:07:44.584060Z",
     "start_time": "2022-06-03T09:07:44.577074Z"
    }
   },
   "outputs": [
    {
     "name": "stdout",
     "output_type": "stream",
     "text": [
      "Writing testMinimum.js\n"
     ]
    }
   ],
   "source": [
    "%%writefile testMinimum.js\n",
    "\n",
    "\n",
    "#include \"fonctionMinimum.js\"\n",
    "\n",
    "#include \"testDebut.js\"\n",
    "#include \"testMilieu.js\"\n",
    "#include \"testFin.js\""
   ]
  },
  {
   "cell_type": "markdown",
   "id": "31a44a30",
   "metadata": {},
   "source": [
    "L'exécution du programme précédent donnera des erreurs (une partie des codes n'est pas encore défini) :"
   ]
  },
  {
   "cell_type": "code",
   "execution_count": 28,
   "id": "4e11d3c9",
   "metadata": {
    "ExecuteTime": {
     "end_time": "2022-06-03T09:07:53.782509Z",
     "start_time": "2022-06-03T09:07:52.975499Z"
    }
   },
   "outputs": [
    {
     "name": "stderr",
     "output_type": "stream",
     "text": [
      "testMinimum.js:5:10: fatal error: testDebut.js: No such file or directory\n",
      "    5 | #include \"testDebut.js\"\n",
      "      |          ^~~~~~~~~~~~~~\n",
      "compilation terminated.\n"
     ]
    }
   ],
   "source": [
    "%%sh\n",
    "cpp -P testMinimum.js > all.js\n",
    "node all.js"
   ]
  },
  {
   "cell_type": "markdown",
   "id": "4c315b3e",
   "metadata": {},
   "source": [
    "En fait, on est passé d'une démarche bottum-up à une démarche top-down. Précédement, on assemblait les morceaux de codes en partant de ce que l'on pouvait effectivement faire (au niveau des détails). Ici, on a indiqué/utilisé des morceaux des codes qui ne sont pas encore définis. Cela permet, de décrire le test à un haut niveau, en ne se souciant pas des détails. Mais pour exécuter ce code, il faut bien à un moment définir les détails. Alors voici, le détail des différents tests prévus (dans le désordre) :"
   ]
  },
  {
   "cell_type": "code",
   "execution_count": 29,
   "id": "c09f7c01",
   "metadata": {
    "ExecuteTime": {
     "end_time": "2022-06-03T09:08:35.684205Z",
     "start_time": "2022-06-03T09:08:35.677011Z"
    }
   },
   "outputs": [
    {
     "name": "stdout",
     "output_type": "stream",
     "text": [
      "Writing testMilieu.js\n"
     ]
    }
   ],
   "source": [
    "%%writefile testMilieu.js\n",
    "\n",
    "console.log(\"Test Milieu\")\n",
    "T=[6,5,5,3,6];\n",
    "console.log(T)\n",
    "IndMin=rechMin(T);\n",
    "console.log(\"Indice du min : \"+IndMin);\n",
    "console.log(\"Val du min : \"+T[IndMin]);"
   ]
  },
  {
   "cell_type": "code",
   "execution_count": 30,
   "id": "aefda52d",
   "metadata": {
    "ExecuteTime": {
     "end_time": "2022-06-03T09:08:37.783175Z",
     "start_time": "2022-06-03T09:08:37.776842Z"
    }
   },
   "outputs": [
    {
     "name": "stdout",
     "output_type": "stream",
     "text": [
      "Writing testDebut.js\n"
     ]
    }
   ],
   "source": [
    "%%writefile testDebut.js\n",
    "\n",
    "console.log(\"Test Début\")\n",
    "T=[2,5,6];\n",
    "console.log(T)\n",
    "IndMin=rechMin(T);\n",
    "console.log(\"Indice du min : \"+IndMin);\n",
    "console.log(\"Val du min : \"+T[IndMin]);"
   ]
  },
  {
   "cell_type": "code",
   "execution_count": 31,
   "id": "e0e08620",
   "metadata": {
    "ExecuteTime": {
     "end_time": "2022-06-03T09:08:40.407145Z",
     "start_time": "2022-06-03T09:08:40.400929Z"
    }
   },
   "outputs": [
    {
     "name": "stdout",
     "output_type": "stream",
     "text": [
      "Writing testFin.js\n"
     ]
    }
   ],
   "source": [
    "%%writefile testFin.js\n",
    "\n",
    "console.log(\"Test Fin\")\n",
    "T=[3,3,5,5,4,4,3,2];\n",
    "console.log(T)\n",
    "IndMin=rechMin(T);\n",
    "console.log(\"Indice du min : \"+IndMin);\n",
    "console.log(\"Val du min : \"+T[IndMin]);"
   ]
  },
  {
   "cell_type": "code",
   "execution_count": 32,
   "id": "8fe21661",
   "metadata": {
    "ExecuteTime": {
     "end_time": "2022-06-03T09:08:45.368338Z",
     "start_time": "2022-06-03T09:08:44.509149Z"
    }
   },
   "outputs": [
    {
     "name": "stdout",
     "output_type": "stream",
     "text": [
      "Test Début\n",
      "[ 2, 5, 6 ]\n",
      "Indice du min : 0\n",
      "Val du min : 2\n",
      "Test Milieu\n",
      "[ 6, 5, 5, 3, 6 ]\n",
      "Indice du min : 3\n",
      "Val du min : 3\n",
      "Test Fin\n",
      "[\n",
      "  3, 3, 5,\n",
      "  5, 4, 4,\n",
      "  3, 2\n",
      "]\n",
      "Indice du min : 7\n",
      "Val du min : 2\n"
     ]
    }
   ],
   "source": [
    "%%sh\n",
    "cpp -P testMinimum.js > all.js\n",
    "node all.js"
   ]
  },
  {
   "cell_type": "markdown",
   "id": "e73dd6b1",
   "metadata": {},
   "source": [
    "### Contrôle (parenthèse)\n",
    "\n",
    "Rem. : puisque ce sont des tests, ce serait bien de vérifier que les résultats sont corrects :"
   ]
  },
  {
   "cell_type": "code",
   "execution_count": 33,
   "id": "3c7f4a40",
   "metadata": {
    "ExecuteTime": {
     "end_time": "2022-06-03T09:09:07.780401Z",
     "start_time": "2022-06-03T09:09:07.773348Z"
    }
   },
   "outputs": [
    {
     "name": "stdout",
     "output_type": "stream",
     "text": [
      "Writing testControle.js\n"
     ]
    }
   ],
   "source": [
    "%%writefile testControle.js\n",
    "\n",
    "#include \"fonctionMinimum.js\"\n",
    "\n",
    "console.log(\"Test avec Contrôle\")\n",
    "T=[3,2,7,6,8];\n",
    "console.log(T)\n",
    "IndMin=rechMin(T);\n",
    "console.log(\"Indice du min : \"+IndMin);\n",
    "console.log(\"Val du min : \"+T[IndMin]);\n",
    "console.assert(T[IndMin]==2,\"erreur\")"
   ]
  },
  {
   "cell_type": "code",
   "execution_count": 34,
   "id": "bbd9de77",
   "metadata": {
    "ExecuteTime": {
     "end_time": "2022-06-03T09:09:11.481862Z",
     "start_time": "2022-06-03T09:09:10.631781Z"
    }
   },
   "outputs": [
    {
     "name": "stdout",
     "output_type": "stream",
     "text": [
      "Test avec Contrôle\n",
      "[ 3, 2, 7, 6, 8 ]\n",
      "Indice du min : 1\n",
      "Val du min : 2\n"
     ]
    }
   ],
   "source": [
    "%%sh\n",
    "cpp -P testControle.js > all.js\n",
    "node all.js"
   ]
  },
  {
   "cell_type": "markdown",
   "id": "06177e8d",
   "metadata": {},
   "source": [
    "Juste pour vérifier que le contrôle du test fonctionne quand il y a une erreur, provoquont une erreur en essayant de vérifier une assertion fausse :"
   ]
  },
  {
   "cell_type": "code",
   "execution_count": 35,
   "id": "e5d08b68",
   "metadata": {
    "ExecuteTime": {
     "end_time": "2022-06-03T09:09:22.114964Z",
     "start_time": "2022-06-03T09:09:22.105739Z"
    }
   },
   "outputs": [
    {
     "name": "stdout",
     "output_type": "stream",
     "text": [
      "Overwriting testControle.js\n"
     ]
    }
   ],
   "source": [
    "%%writefile testControle.js\n",
    "\n",
    "#include \"fonctionMinimum.js\"\n",
    "\n",
    "console.log(\"Test avec Contrôle\")\n",
    "T=[3,2,7,6,8];\n",
    "console.log(T)\n",
    "IndMin=rechMin(T);\n",
    "console.log(\"Indice du min : \"+IndMin);\n",
    "console.log(\"Val du min : \"+T[IndMin]);\n",
    "console.assert(T[IndMin]==0,\"erreur\")"
   ]
  },
  {
   "cell_type": "code",
   "execution_count": 36,
   "id": "2c723dec",
   "metadata": {
    "ExecuteTime": {
     "end_time": "2022-06-03T09:09:30.233753Z",
     "start_time": "2022-06-03T09:09:29.406190Z"
    }
   },
   "outputs": [
    {
     "name": "stdout",
     "output_type": "stream",
     "text": [
      "Test avec Contrôle\n",
      "[ 3, 2, 7, 6, 8 ]\n",
      "Indice du min : 1\n",
      "Val du min : 2\n"
     ]
    },
    {
     "name": "stderr",
     "output_type": "stream",
     "text": [
      "Assertion failed: erreur\n"
     ]
    }
   ],
   "source": [
    "%%sh\n",
    "cpp -P testControle.js > all.js\n",
    "node all.js"
   ]
  },
  {
   "cell_type": "markdown",
   "id": "33e8a8a9",
   "metadata": {},
   "source": [
    "### Finalisation\n",
    "\n",
    "Pour finir, il faudrait faire le tri :"
   ]
  },
  {
   "cell_type": "code",
   "execution_count": 37,
   "id": "95a83155",
   "metadata": {
    "ExecuteTime": {
     "end_time": "2022-06-03T09:09:53.502303Z",
     "start_time": "2022-06-03T09:09:53.494832Z"
    }
   },
   "outputs": [
    {
     "name": "stdout",
     "output_type": "stream",
     "text": [
      "Writing tri.js\n"
     ]
    }
   ],
   "source": [
    "%%writefile tri.js\n",
    "\n",
    "#include \"fonctionMinimum.js\"\n",
    "\n",
    "function tri(T) {\n",
    "    let R=[];\n",
    "    let n=T.length;\n",
    "    for(let i=0;i<n;i++) {\n",
    "      let iMin=rechMin(T);\n",
    "      R.push(T[iMin]);  \n",
    "      T.splice(iMin,1);}\n",
    "    return R;}\n",
    "\n",
    "D=[3,2,7,6,8];\n",
    "console.log(\"Init : \"+D);\n",
    "S=tri(D);\n",
    "console.log(\"Trié : \"+S);"
   ]
  },
  {
   "cell_type": "code",
   "execution_count": 38,
   "id": "bdb83437",
   "metadata": {
    "ExecuteTime": {
     "end_time": "2022-06-03T09:09:59.217143Z",
     "start_time": "2022-06-03T09:09:58.398713Z"
    }
   },
   "outputs": [
    {
     "name": "stdout",
     "output_type": "stream",
     "text": [
      "Init : 3,2,7,6,8\n",
      "Trié : 2,3,6,7,8\n"
     ]
    }
   ],
   "source": [
    "%%sh\n",
    "cpp -P tri.js > all.js\n",
    "node all.js"
   ]
  },
  {
   "cell_type": "markdown",
   "id": "6870d957",
   "metadata": {},
   "source": [
    "Rem. pour voir le code final complet :"
   ]
  },
  {
   "cell_type": "code",
   "execution_count": 39,
   "id": "7857ef1d",
   "metadata": {
    "ExecuteTime": {
     "end_time": "2022-06-03T09:10:32.133051Z",
     "start_time": "2022-06-03T09:10:32.107591Z"
    }
   },
   "outputs": [
    {
     "name": "stdout",
     "output_type": "stream",
     "text": [
      "function rechMin(T) {\n",
      "let min = T[0];\n",
      "let imin=0;\n",
      "for(let i=1;i<T.length;i++) {\n",
      "    if (T[i]<min) {\n",
      "        min=T[i];\n",
      "        imin=i;}}\n",
      "return imin;\n",
      "}\n",
      "function tri(T) {\n",
      "    let R=[];\n",
      "    let n=T.length;\n",
      "    for(let i=0;i<n;i++) {\n",
      "      let iMin=rechMin(T);\n",
      "      R.push(T[iMin]);\n",
      "      T.splice(iMin,1);}\n",
      "    return R;}\n",
      "D=[3,2,7,6,8];\n",
      "console.log(\"Init : \"+D);\n",
      "S=tri(D);\n",
      "console.log(\"Trié : \"+S);\n"
     ]
    }
   ],
   "source": [
    "%%sh\n",
    "cat all.js"
   ]
  },
  {
   "cell_type": "markdown",
   "id": "ddd44ff7",
   "metadata": {},
   "source": [
    "## Remarques\n",
    "\n",
    "* de toute la page, il n'y aura eu qu'une seule cellule pour la définition de l'algo min (au début) et une seule cellule pour la définition de l'algo de tri (vers la fin), mais il aurait pu y en avoir plus. Pour la cohérence, c'était plus simple qu'il n'y en ait qu'une pour chaque algo. Pour autant, ces cellules ont un peu évolué au cours de la rédaction du texte (comme le texte lui-même), tout en restant dans l'esprit conforme à leur rôle initial. \n",
    "* tous les morceaux de code ont été montrés sur cette page. Ce n'était pas obligatoire. Certains morceaux de code (par exemple, les tests début/milieu/fin) auraient pu être définis informellement, décrits éventuellement et utilisés mais sans être donnés explicitement dans le texte. Pour cela, il aurait suffit que les fichiers en question soient présents dans le répertoire courant.\n",
    "* mettre en avant la rédaction, cela devrait aussi passer par utiliser le **gras**, l'*italique*, la <span style=\"color:blue;\">couleur</span>, etc. C'est possible (même si ce n'est pas aussi évident/simple que l'on voudrait, même pour mettre des dessins ou schéma) ![](https://upload.wikimedia.org/wikipedia/commons/thumb/8/8b/Wikimedia-logo_black.svg/45px-Wikimedia-logo_black.svg.png).\n",
    "* en vidéo : [ici](https://www.youtube.com/watch?v=QNkgpl9jRCk)\n"
   ]
  }
 ],
 "metadata": {
  "kernelspec": {
   "display_name": "Python 3 (ipykernel)",
   "language": "python",
   "name": "python3"
  },
  "language_info": {
   "codemirror_mode": {
    "name": "ipython",
    "version": 3
   },
   "file_extension": ".py",
   "mimetype": "text/x-python",
   "name": "python",
   "nbconvert_exporter": "python",
   "pygments_lexer": "ipython3",
   "version": "3.9.7"
  },
  "toc": {
   "base_numbering": 1,
   "nav_menu": {},
   "number_sections": true,
   "sideBar": false,
   "skip_h1_title": true,
   "title_cell": "Table of Contents",
   "title_sidebar": "Contents",
   "toc_cell": true,
   "toc_position": {
    "height": "244.717px",
    "left": "10px",
    "top": "150px",
    "width": "290.6px"
   },
   "toc_section_display": false,
   "toc_window_display": true
  },
  "varInspector": {
   "cols": {
    "lenName": 16,
    "lenType": 16,
    "lenVar": 40
   },
   "kernels_config": {
    "python": {
     "delete_cmd_postfix": "",
     "delete_cmd_prefix": "del ",
     "library": "var_list.py",
     "varRefreshCmd": "print(var_dic_list())"
    },
    "r": {
     "delete_cmd_postfix": ") ",
     "delete_cmd_prefix": "rm(",
     "library": "var_list.r",
     "varRefreshCmd": "cat(var_dic_list()) "
    }
   },
   "types_to_exclude": [
    "module",
    "function",
    "builtin_function_or_method",
    "instance",
    "_Feature"
   ],
   "window_display": false
  }
 },
 "nbformat": 4,
 "nbformat_minor": 5
}
