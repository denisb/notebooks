{
 "cells": [
  {
   "cell_type": "markdown",
   "id": "c372eab6-7632-40ce-a502-bdd167b9ce40",
   "metadata": {},
   "source": [
    "# Petits Mementos\n",
    "\n",
    "* [MarkDown](#MarkDown)\n",
    "* [Programmation lettrée](#ProgrammationLettree) (avec préprocesseur CPP)\n",
    "* [Jupyter Multilingue](#JupyterMultilingue)\n",
    "* [Raccourcis Jupyter](#RaccourcisJupyter)\n",
    "\n",
    "\n",
    "<a name=\"MarkDown\"></a>\n",
    "## MarkDown\n",
    "\n",
    "Structuration :\n",
    "\n",
    "* \\# : titre\n",
    "* \\#\\# : sous-titre\n",
    "* \\* : liste\n",
    "* 1. : liste numérotée\n",
    "\n",
    "Styles :\n",
    "\n",
    "* \\_italique\\_ : _italique_\n",
    "* \\*\\*gras\\*\\*  : **gras**\n",
    "* \\*\\*\\_gras-italique\\_\\*\\* : **_gras-italique_**\n",
    "* \\~\\~barré\\~\\~  : ~~barré~~\n",
    "\n",
    "Divers :\n",
    "\n",
    "* \\`\\`\\`bloc de code\\`\\`\\` : ```bloc de code```\n",
    "* \\[texte\\]\\(url\\) : [caseine](https://caseine.org)\n",
    "* \\!\\[texte\\]\\(url-img\\) : ![caseine](https://moodle.caseine.org/pluginfile.php/1/core_admin/logocompact/50x50/1712564507/lait%20caseine.png)\n",
    "\n",
    "\n",
    "Pour en savoir plus ou aller plus loin :\n",
    "\n",
    "* menu Help/MarkDown Reference\n",
    "* pour en savoir plus : https://en.wikipedia.org/wiki/Markdown\n",
    "* pour aller plus loin : faire du html (ou du latex), par exemple pour affiner un affichage (couleur, tailler, etc.)  \n",
    "Exemple : \\<span style=\"color: red\"\\>en rouge\\</span\\> : <span style=\"color: red\">en rouge</span>\n",
    "\n",
    "<a name=\"ProgrammationLettree\"></a>\n",
    "## Magic Python et Programmation ~lettrée\n",
    "\n",
    "* Magic Python\n",
    "  * **%%writefile fichier** : en début de cellule, lors de l'exécution de la cellule, un fichier est produit avec le reste de la cellule,    en option \\[-a\\], ou \\[-append\\], c'est un ajout au fichier (attention, à n'exécuter l'ajout qu'une fois)\n",
    "  * **%%sh** : en debut de cellule, lors de l'exécution de la cellule, le reste de la cellule est interprété comme des commandes shell  \n",
    "  autre forme, en début de ligne, un point d'exclamation, pour exécuter une commande shell, ex : ```!ls```\n",
    "* Programmation ~lettrée (avec cpp, le préprocesseur C)\n",
    "  * **#include fichier** \n",
    "  * **#define param**  (éventuellement #undef param)\n",
    "  * **#ifdef param #else #endif** ou #ifndef param #elseif #endif\n",
    "  * pour appliquer les #include, #define, etc., par exemple le pré-processeur C (avec option -P pour éviter les ajouts pour le C) : **cpp -P fichier**\n",
    "  * pour définir des param en ligne de commande : **cpp -D param=valeur** \n",
    "\n",
    "Pour en savoir plus :\n",
    "* Magic commands in IPython : https://ipython.readthedocs.io/en/stable/interactive/magics.html\n",
    "* CPP (le préprocesseur C) : https://gcc.gnu.org/onlinedocs/cpp/\n",
    "\n",
    "Exemples (en C) :\n",
    "\n",
    "* exemple général : #include et #définition de variable en ligne de commande"
   ]
  },
  {
   "cell_type": "code",
   "execution_count": 3,
   "id": "0e674a80-6f54-4039-9d85-e54739fa3c0b",
   "metadata": {},
   "outputs": [
    {
     "name": "stdout",
     "output_type": "stream",
     "text": [
      "Overwriting declaration.cx\n"
     ]
    }
   ],
   "source": [
    "%%writefile declaration.cx\n",
    "char nom[100];"
   ]
  },
  {
   "cell_type": "code",
   "execution_count": 4,
   "id": "fcb594f2-4085-431a-80ba-f661b3a56eca",
   "metadata": {},
   "outputs": [
    {
     "name": "stdout",
     "output_type": "stream",
     "text": [
      "Overwriting saisie.cx\n"
     ]
    }
   ],
   "source": [
    "%%writefile saisie.cx\n",
    "printf(\"Nom ?\\n\");\n",
    "scanf(\"%99s\",&nom);"
   ]
  },
  {
   "cell_type": "code",
   "execution_count": 1,
   "id": "23e769f1-712f-4039-a1da-10332dcfd935",
   "metadata": {},
   "outputs": [
    {
     "name": "stdout",
     "output_type": "stream",
     "text": [
      "Writing prog.cx\n"
     ]
    }
   ],
   "source": [
    "%%writefile prog.cx\n",
    "int main() {\n",
    "#include \"declaration.cx\"\n",
    "#include \"saisie.cx\"\n",
    "printf(MSGBONJOUR);\n",
    "printf(\"\\n%s\",nom);\n",
    "return 0;}"
   ]
  },
  {
   "cell_type": "code",
   "execution_count": 51,
   "id": "f4b009b6-f3a1-4be4-b1e7-241b0be1c98a",
   "metadata": {},
   "outputs": [
    {
     "name": "stdout",
     "output_type": "stream",
     "text": [
      "int main() {\n",
      "char nom[100];\n",
      "printf(\"Nom ?\\n\");\n",
      "scanf(\"%99s\",&nom);\n",
      "printf(\"Bien le bonjour\");\n",
      "printf(\"\\n%s\",nom);\n",
      "return 0;}\n"
     ]
    }
   ],
   "source": [
    "!cpp -P -D MSGBONJOUR=\"\\\"Bien le bonjour\\\"\" prog.cx"
   ]
  },
  {
   "cell_type": "markdown",
   "id": "c9d44c30-09f3-46fe-ab8e-c496395212a2",
   "metadata": {},
   "source": [
    "* Exemple sur les valeurs intiales d'une variable (valeur par défaut et redéfinition à l'exécution)"
   ]
  },
  {
   "cell_type": "code",
   "execution_count": 2,
   "id": "68b8f3b3-8784-441d-8694-31767be24c41",
   "metadata": {},
   "outputs": [
    {
     "name": "stdout",
     "output_type": "stream",
     "text": [
      "Overwriting prog.cx\n"
     ]
    }
   ],
   "source": [
    "%%writefile prog.cx\n",
    "#ifndef DEFNOMINIT\n",
    "#define DEFNOMINIT \"Alan\"\n",
    "#endif\n",
    "int main() {\n",
    "char nom[20]=DEFNOMINIT;\n",
    "printf(\"Bonjour %s\\n\",nom);\n",
    "return 0;}"
   ]
  },
  {
   "cell_type": "code",
   "execution_count": 8,
   "id": "b0e3f7d4-87da-4463-93f8-f55c5d15fca7",
   "metadata": {},
   "outputs": [
    {
     "name": "stdout",
     "output_type": "stream",
     "text": [
      "int main() {\n",
      "char nom[20]=\"Alan\";\n",
      "printf(\"Bonjour %s\\n\",nom);\n",
      "return 0;}\n"
     ]
    }
   ],
   "source": [
    "!cpp -P prog.cx"
   ]
  },
  {
   "cell_type": "code",
   "execution_count": 7,
   "id": "61fbc733-e71d-4b59-82aa-484baa8f079f",
   "metadata": {},
   "outputs": [
    {
     "name": "stdout",
     "output_type": "stream",
     "text": [
      "int main() {\n",
      "char nom[20]=\"John\";\n",
      "printf(\"Bonjour %s\\n\",nom);\n",
      "return 0;}\n"
     ]
    }
   ],
   "source": [
    "!cpp -P -D DEFNOMINIT=\"\\\"John\\\"\" prog.cx "
   ]
  },
  {
   "cell_type": "markdown",
   "id": "061cf9d6-aba4-4cfe-8c72-2e404ae42fcc",
   "metadata": {},
   "source": [
    "<a name=\"JupyterMultilingue\"></a>\n",
    "## Jupyter Multilingue\n",
    "\n",
    "Jupyter, via Python, peut être utilisé avec tous les langages disponibles sur le serveur. Entre autres :\n",
    "\n",
    "* ARM \n",
    "* Bash\n",
    "* C \n",
    "* C++\n",
    "* Erlang\n",
    "* Haskell\n",
    "* Java \n",
    "* OCaml\n",
    "* Prolog \n",
    "* Python \n",
    "* R\n",
    "\n",
    "_([exemples ci-après](#ExempleMultilingue))_\n",
    "\n",
    "Pour les entrées-sorties, quelques pistes de solution (avec le C comme exemple)\n",
    "\n",
    "* Solution 1, avec des entrées prévues et passées sur la ligne de commande"
   ]
  },
  {
   "cell_type": "code",
   "execution_count": 39,
   "id": "22faa2f9-fb83-4a9e-bb54-01717035b5cb",
   "metadata": {},
   "outputs": [
    {
     "name": "stdout",
     "output_type": "stream",
     "text": [
      "Overwriting bonjour.c\n"
     ]
    }
   ],
   "source": [
    "%%writefile bonjour.c\n",
    "#include <stdio.h>\n",
    "\n",
    "int main() {\n",
    "    char prenom[100], nom[100];\n",
    "    printf(\"Prenom ?\\n\");\n",
    "    scanf(\"%99s\",&prenom);\n",
    "    printf(\"Nom ?\\n\");\n",
    "    scanf(\"%99s\",&nom);\n",
    "    printf(\"\\nBonjour %s, %s.\",prenom,nom);\n",
    "    return 0;}"
   ]
  },
  {
   "cell_type": "code",
   "execution_count": 38,
   "id": "811af6cf-e41d-49e6-a34c-3489b9427fab",
   "metadata": {},
   "outputs": [
    {
     "name": "stdout",
     "output_type": "stream",
     "text": [
      "Prenom ?\n",
      "Nom ?\n",
      "\n",
      "Bonjour Alan, Turing."
     ]
    }
   ],
   "source": [
    "!gcc bonjour.c\n",
    "!echo \"Alan\\nTuring\" | ./a.out #selon la config. de echo, parfois utiliser echo -e"
   ]
  },
  {
   "cell_type": "markdown",
   "id": "845bfcb9-cb72-45c0-9219-0834b9a59ae2",
   "metadata": {},
   "source": [
    "* Solution 2, avec saisie interactive (sous réserve d'avoir des affichages immédiats (sinon, ils arrivent un peu tard) et un programme d'interaction en Python (qui sait gérer les entrées))"
   ]
  },
  {
   "cell_type": "code",
   "execution_count": 4,
   "id": "e1cb654d-cb25-452d-bd21-c61e237d4dc7",
   "metadata": {},
   "outputs": [],
   "source": [
    "import os\n",
    "import time\n",
    "\n",
    "def lanceur(prog,nb=4,tps=20):  \n",
    "    # prog : le chemin de l'exécutable\n",
    "    # nb : le nombre d'interactions prévues\n",
    "    # tps : le temps maximum prévu pour l'exécution (interactions comprises)\n",
    "    os.system(\"if [ -p monPipeEnEntree ]; then rm monPipeEnEntree; fi\")\n",
    "    os.system(\"mkfifo monPipeEnEntree\")\n",
    "    os.system(\"sleep \"+str(tps)+\" > monPipeEnEntree &\")         # important : ouvrir et garder le pipe ouvert pour un temps assez grand\n",
    "    os.system(\"(sleep \"+str(tps+1)+\" ; rm monPipeEnEntree) &\")\n",
    "    os.system(prog+\" < monPipeEnEntree &\")                      # important : lancer le programme (prévoir que les sorties soient visibles, par ex. sur la sortie erreur)\n",
    "    for i in range(nb):\n",
    "        time.sleep(0.5)\n",
    "        x=input()                                            # important : faire une saisie (cela peut servir)\n",
    "        os.system(\"echo \\\"\"+x+\"\\\" > monPipeEnEntree\")               # important : envoyer la saisie sur le programme (si cela peut servir)\n",
    "    os.system(\"if [ -p monPipeEnEntree ]; then rm monPipeEnEntree; fi\")   "
   ]
  },
  {
   "cell_type": "code",
   "execution_count": 1,
   "id": "c34df499-606f-4222-bba4-8da47c542e25",
   "metadata": {},
   "outputs": [
    {
     "name": "stdout",
     "output_type": "stream",
     "text": [
      "Writing bonjour.c\n"
     ]
    }
   ],
   "source": [
    "%%writefile bonjour.c\n",
    "#include <stdio.h>\n",
    "\n",
    "int main() {\n",
    "    char prenom[100], nom[100];\n",
    "    setbuf(stdout,0);           //à noter, imposer des affichages immédiats \n",
    "    printf(\"Prenom ?\\n\");\n",
    "    scanf(\"%99s\",&prenom);\n",
    "    printf(\"Nom ?\\n\");\n",
    "    scanf(\"%99s\",&nom);\n",
    "    printf(\"\\nBonjour %s, %s.\",prenom,nom);\n",
    "    return 0;}"
   ]
  },
  {
   "cell_type": "code",
   "execution_count": 2,
   "id": "2b51e344-07e4-4a3b-895b-90f772d50c1e",
   "metadata": {},
   "outputs": [],
   "source": [
    "!gcc bonjour.c"
   ]
  },
  {
   "cell_type": "code",
   "execution_count": 5,
   "id": "8c7da58e-1371-4e9a-9982-6648c17ccd8b",
   "metadata": {},
   "outputs": [
    {
     "name": "stdout",
     "output_type": "stream",
     "text": [
      "Prenom ?\n"
     ]
    },
    {
     "name": "stdout",
     "output_type": "stream",
     "text": [
      " Alan\n"
     ]
    },
    {
     "name": "stdout",
     "output_type": "stream",
     "text": [
      "Nom ?\n"
     ]
    },
    {
     "name": "stdout",
     "output_type": "stream",
     "text": [
      " Turing\n"
     ]
    },
    {
     "name": "stdout",
     "output_type": "stream",
     "text": [
      "\n",
      "Bonjour Alan, Turing."
     ]
    }
   ],
   "source": [
    "lanceur(\"./a.out\",2,60)"
   ]
  },
  {
   "cell_type": "markdown",
   "id": "747e3c5b-930b-4520-bf1f-679d1e0f9d22",
   "metadata": {},
   "source": [
    "&nbsp;  \n",
    "   \n",
    "   \n",
    "<a name=\"ExempleMultilingue\"></a>\n",
    "**(suite)**  \n",
    "\\[...\\], des exemples de programmes dans plusieurs langues.\n",
    "\n",
    "# ARM"
   ]
  },
  {
   "cell_type": "code",
   "execution_count": 15,
   "id": "1354b79b-9d76-4e08-aecb-154b9f87095c",
   "metadata": {},
   "outputs": [
    {
     "name": "stdout",
     "output_type": "stream",
     "text": [
      "Overwriting es.s\n"
     ]
    }
   ],
   "source": [
    "%%writefile es.s\n",
    "  .global EcrChaine\n",
    "  .text\n",
    "@ EcrChaine :\n",
    "@    ecriture de la chaine dont l'adresse est dans r1\n",
    "EcrChaine:\n",
    "   mov ip, sp\n",
    "   stmfd sp!, {r0, r1, r2, r3, fp, ip, lr, pc}\n",
    "   sub     fp, ip, #4\n",
    "   ldr r0, LD_fe_chaine\n",
    "   bl printf\n",
    "   ldmea fp, {r0, r1, r2, r3, fp, sp, pc}\n",
    "LD_fe_chaine: .word fe_chaine\n",
    "  .data\n",
    "fe_chaine: .asciz \"%s\\n\"\n"
   ]
  },
  {
   "cell_type": "code",
   "execution_count": 14,
   "id": "10fbc449-0c5e-4dad-8a9a-dc38896b9e6f",
   "metadata": {},
   "outputs": [
    {
     "name": "stdout",
     "output_type": "stream",
     "text": [
      "Overwriting bonjour.s\n"
     ]
    }
   ],
   "source": [
    "%%writefile bonjour.s\n",
    "  .global main\n",
    "  .data\n",
    "msg: .asciz \"Bonjour\"\n",
    "  .text\n",
    "main:\n",
    "    push {lr}\n",
    "    ldr R1,LD_msg\n",
    "    bl EcrChaine\n",
    "    pop {lr}\n",
    "    bx lr\n",
    "    \n",
    "LD_msg: .word msg"
   ]
  },
  {
   "cell_type": "code",
   "execution_count": 20,
   "id": "f19ca720-e361-44ea-9342-8ba743c72f9c",
   "metadata": {},
   "outputs": [
    {
     "name": "stdout",
     "output_type": "stream",
     "text": [
      "Bonjour\n",
      "(version ARM)\n"
     ]
    }
   ],
   "source": [
    "%%sh\n",
    "rm -f bonjour.e\n",
    "arm-linux-gnueabi-gcc -static -c es.s\n",
    "arm-linux-gnueabi-gcc -static -c bonjour.s\n",
    "arm-linux-gnueabi-gcc -static bonjour.o es.o -o bonjour.e\n",
    "qemu-arm  bonjour.e\n",
    "echo \"(version ARM)\""
   ]
  },
  {
   "cell_type": "markdown",
   "id": "ce06bedf-8050-4eab-a4b6-356c341a0ca6",
   "metadata": {},
   "source": [
    "# Bash"
   ]
  },
  {
   "cell_type": "code",
   "execution_count": 21,
   "id": "6a86e4b4-2445-43a3-8a57-1ab7f738ecad",
   "metadata": {},
   "outputs": [
    {
     "name": "stdout",
     "output_type": "stream",
     "text": [
      "Writing bonjour.sh\n"
     ]
    }
   ],
   "source": [
    "%%writefile bonjour.sh\n",
    "#!/bin/bash\n",
    "\n",
    "echo \"Bonjour\""
   ]
  },
  {
   "cell_type": "code",
   "execution_count": 24,
   "id": "0841120d-fdf2-404b-9bb7-78be758ef9e9",
   "metadata": {},
   "outputs": [
    {
     "name": "stdout",
     "output_type": "stream",
     "text": [
      "Bonjour\n"
     ]
    }
   ],
   "source": [
    "%%sh\n",
    "chmod a+x bonjour.sh\n",
    "./bonjour.sh"
   ]
  },
  {
   "cell_type": "markdown",
   "id": "dca4e7bb-ef0f-4dc0-9701-74148ff9a920",
   "metadata": {},
   "source": [
    "# C"
   ]
  },
  {
   "cell_type": "code",
   "execution_count": 5,
   "id": "f1e223bc-c14a-4419-8c97-b2b8ac7f32e6",
   "metadata": {},
   "outputs": [
    {
     "name": "stdout",
     "output_type": "stream",
     "text": [
      "Writing bonjour.c\n"
     ]
    }
   ],
   "source": [
    "%%writefile bonjour.c\n",
    "#include <stdio.h>\n",
    "\n",
    "int main() {\n",
    "    printf(\"Bonjour\");\n",
    "    return 0;}\n"
   ]
  },
  {
   "cell_type": "code",
   "execution_count": 6,
   "id": "e34f5f91-da4a-4527-9cfe-fefb87493533",
   "metadata": {},
   "outputs": [
    {
     "name": "stdout",
     "output_type": "stream",
     "text": [
      "Bonjour"
     ]
    }
   ],
   "source": [
    "%%sh\n",
    "gcc bonjour.c -o bonjour\n",
    "./bonjour"
   ]
  },
  {
   "cell_type": "markdown",
   "id": "f41fd6d2-bcee-42fa-9776-505c9f96f900",
   "metadata": {},
   "source": [
    "# C++"
   ]
  },
  {
   "cell_type": "code",
   "execution_count": 9,
   "id": "56d8239f-9a8a-4b84-9d72-34c164c8cba1",
   "metadata": {},
   "outputs": [
    {
     "name": "stdout",
     "output_type": "stream",
     "text": [
      "Writing bonjour.cpp\n"
     ]
    }
   ],
   "source": [
    "%%writefile bonjour.cpp\n",
    "#include <iostream>\n",
    "using namespace std;\n",
    "\n",
    "int main() {\n",
    "  cout << \"Bonjour \\n\";\n",
    "  return 0;}"
   ]
  },
  {
   "cell_type": "code",
   "execution_count": 12,
   "id": "3be936a4-f5fb-489d-9bcc-0cd2a2cd5782",
   "metadata": {},
   "outputs": [
    {
     "name": "stdout",
     "output_type": "stream",
     "text": [
      "Bonjour \n"
     ]
    }
   ],
   "source": [
    "%%sh\n",
    "g++ bonjour.cpp -o bonjour\n",
    "./bonjour"
   ]
  },
  {
   "cell_type": "markdown",
   "id": "815b79b4-fccc-4406-ae5b-2644f088dd3d",
   "metadata": {},
   "source": [
    "# Erlang"
   ]
  },
  {
   "cell_type": "code",
   "execution_count": 7,
   "id": "05ce94f5-6b29-4c73-b7ff-cb10bfce6f73",
   "metadata": {},
   "outputs": [
    {
     "name": "stdout",
     "output_type": "stream",
     "text": [
      "Writing bonjour.erl\n"
     ]
    }
   ],
   "source": [
    "%%writefile bonjour.erl\n",
    "-module(bonjour).\n",
    "-compile([export_all,nowarn_export_all]).\n",
    "\n",
    "main([]) -> \n",
    "  io:format(\"Bonjour\",[]).\n",
    "  "
   ]
  },
  {
   "cell_type": "code",
   "execution_count": 8,
   "id": "bb532bca-5de4-4210-8975-98f567f10a29",
   "metadata": {},
   "outputs": [
    {
     "name": "stdout",
     "output_type": "stream",
     "text": [
      "Bonjour"
     ]
    }
   ],
   "source": [
    "%%sh\n",
    "escript bonjour.erl"
   ]
  },
  {
   "cell_type": "markdown",
   "id": "7c34b4de-c8d0-47cb-a746-1826b44a9898",
   "metadata": {},
   "source": [
    "# Haskell "
   ]
  },
  {
   "cell_type": "code",
   "execution_count": 1,
   "id": "547a2a1a-85c7-4fe7-9d83-96b00e8cddd1",
   "metadata": {
    "execution": {
     "iopub.execute_input": "2024-04-23T14:09:14.162332Z",
     "iopub.status.busy": "2024-04-23T14:09:14.161956Z",
     "iopub.status.idle": "2024-04-23T14:09:14.178096Z",
     "shell.execute_reply": "2024-04-23T14:09:14.177589Z",
     "shell.execute_reply.started": "2024-04-23T14:09:14.162302Z"
    }
   },
   "outputs": [
    {
     "name": "stdout",
     "output_type": "stream",
     "text": [
      "Writing prog.hs\n"
     ]
    }
   ],
   "source": [
    "%%writefile prog.hs\n",
    "main = do \n",
    "    putStrLn \"Bonjour \""
   ]
  },
  {
   "cell_type": "code",
   "execution_count": 3,
   "id": "417c57eb-7947-47c2-b9ad-02c16c80bad2",
   "metadata": {
    "execution": {
     "iopub.execute_input": "2024-04-23T14:10:34.101427Z",
     "iopub.status.busy": "2024-04-23T14:10:34.100950Z",
     "iopub.status.idle": "2024-04-23T14:10:34.496328Z",
     "shell.execute_reply": "2024-04-23T14:10:34.494612Z",
     "shell.execute_reply.started": "2024-04-23T14:10:34.101399Z"
    }
   },
   "outputs": [
    {
     "name": "stdout",
     "output_type": "stream",
     "text": [
      "Bonjour \n"
     ]
    }
   ],
   "source": [
    "!runhugs prog.hs"
   ]
  },
  {
   "cell_type": "markdown",
   "id": "68dbec8a-bd41-407f-8211-f1725067abc9",
   "metadata": {},
   "source": [
    "# Java"
   ]
  },
  {
   "cell_type": "code",
   "execution_count": 7,
   "id": "2e6108e3-99da-460a-b893-b228ce9d917a",
   "metadata": {},
   "outputs": [
    {
     "name": "stdout",
     "output_type": "stream",
     "text": [
      "Overwriting bonjour.java\n"
     ]
    }
   ],
   "source": [
    "%%writefile bonjour.java\n",
    "import java.util.Scanner;\n",
    "public class Prog {\n",
    "    public static void main(String[] args) {\n",
    "        System.out.println(\"Bonjour \");}}"
   ]
  },
  {
   "cell_type": "code",
   "execution_count": 8,
   "id": "bb449088-357c-415c-8961-8a4efc98dc46",
   "metadata": {},
   "outputs": [
    {
     "name": "stdout",
     "output_type": "stream",
     "text": [
      "Bonjour \n"
     ]
    }
   ],
   "source": [
    "%%sh\n",
    "java bonjour.java"
   ]
  },
  {
   "cell_type": "markdown",
   "id": "4a231a04-6a04-45b0-858b-7f0d843972cd",
   "metadata": {},
   "source": [
    "# OCaml"
   ]
  },
  {
   "cell_type": "code",
   "execution_count": 3,
   "id": "60d6ff16-9e4e-4eb8-8cb3-94f4681665d1",
   "metadata": {},
   "outputs": [
    {
     "name": "stdout",
     "output_type": "stream",
     "text": [
      "Overwriting bonjour.ml\n"
     ]
    }
   ],
   "source": [
    "%%writefile bonjour.ml\n",
    "let _ = \n",
    "    print_endline (\"Bonjour \");;"
   ]
  },
  {
   "cell_type": "code",
   "execution_count": 4,
   "id": "22fc7a31-1403-4585-9e22-ffcfcc1c77a5",
   "metadata": {},
   "outputs": [
    {
     "name": "stdout",
     "output_type": "stream",
     "text": [
      "Bonjour \n"
     ]
    }
   ],
   "source": [
    "%%sh\n",
    "ocaml bonjour.ml"
   ]
  },
  {
   "cell_type": "markdown",
   "id": "c46dabac-af76-4e1b-b4eb-8826f897d49a",
   "metadata": {},
   "source": [
    "# Prolog"
   ]
  },
  {
   "cell_type": "code",
   "execution_count": 9,
   "id": "4d747798-ead1-4727-8d8f-771d80ded264",
   "metadata": {},
   "outputs": [
    {
     "name": "stdout",
     "output_type": "stream",
     "text": [
      "Writing bonjour.pl\n"
     ]
    }
   ],
   "source": [
    "%%writefile bonjour.pl\n",
    "main :- \n",
    "  writeln('Bonjour').\n",
    "\n",
    ":- main."
   ]
  },
  {
   "cell_type": "code",
   "execution_count": 10,
   "id": "64e5a9dc-aabe-4498-aabb-72d60dd075b4",
   "metadata": {},
   "outputs": [
    {
     "name": "stdout",
     "output_type": "stream",
     "text": [
      "Bonjour\n",
      "\n"
     ]
    }
   ],
   "source": [
    "%%sh\n",
    "swipl -q -s bonjour.pl"
   ]
  },
  {
   "cell_type": "code",
   "execution_count": null,
   "id": "0148bb09",
   "metadata": {},
   "outputs": [
    {
     "name": "stdout",
     "output_type": "stream",
     "text": [
      "Bonjour\n",
      "\n"
     ]
    }
   ],
   "source": [
    "%%sh\n",
    "swipl -g halt -s bonjour.pl"
   ]
  },
  {
   "cell_type": "markdown",
   "id": "d151e391-c724-44e2-8929-6b8b742bb923",
   "metadata": {},
   "source": [
    "# Python"
   ]
  },
  {
   "cell_type": "code",
   "execution_count": 5,
   "id": "d8955c2b-fc11-4208-a7da-178e6f26de70",
   "metadata": {},
   "outputs": [
    {
     "name": "stdout",
     "output_type": "stream",
     "text": [
      "Bonjour\n"
     ]
    }
   ],
   "source": [
    "print(\"Bonjour\")"
   ]
  },
  {
   "cell_type": "markdown",
   "id": "741627ce-399a-4c60-8f09-19f04a261a4e",
   "metadata": {},
   "source": [
    "# R"
   ]
  },
  {
   "cell_type": "code",
   "execution_count": 3,
   "id": "13760b5d-2c56-442c-b9fa-53285c35490b",
   "metadata": {},
   "outputs": [
    {
     "name": "stdout",
     "output_type": "stream",
     "text": [
      "Writing bonjour.r\n"
     ]
    }
   ],
   "source": [
    "%%writefile bonjour.r\n",
    "cat(\"bonjour\")"
   ]
  },
  {
   "cell_type": "code",
   "execution_count": null,
   "id": "c9799a4e-0cbf-47e3-9c27-0a35fa39c337",
   "metadata": {},
   "outputs": [],
   "source": [
    "%%sh\n",
    "Rscript bonjour.r"
   ]
  },
  {
   "cell_type": "markdown",
   "id": "31a91b81-f43f-468d-81b5-0818e6407378",
   "metadata": {},
   "source": [
    "<a name=\"RaccourcisJupyter\"></a>\n",
    "# Raccourcis Jupyter\n",
    "\n",
    "* Mode édition vs mode Commande :  \n",
    "  * en mode édition : **escape** passe en mode commande ; \n",
    "  * en mode commande : **enter** passe en mode édition\n",
    "* en mode commande : \n",
    "  * **Y** passe la cellule en mode Code, \n",
    "  * **M** passe la cellule en mode Markdows, \n",
    "  * **R** passe la cellule en mode Raw\n",
    "* en mode commande : \n",
    "  * **A** ajouter une cellule au dessus de la cellule courante (above), \n",
    "  * **B** ajouter une cellule sous la cellule courante (below), \n",
    "  * **X** détruit la cellule courante (attention !)\n",
    "* Split vs Merge \n",
    "  * en mode édition, **Ctrl+Shift+Moins** (essayer le - du pavé numérique ?) : sépare un cellule en 2\n",
    "  * en mode commande, **Shift+M** : fusionne la cellule courante et la cellule dessous\n",
    "* En savoir plus : Menu Settings/Advanced/Keyboard shortcuts\n",
    "\n",
    "## Fin"
   ]
  }
 ],
 "metadata": {
  "interpreter": {
   "hash": "7d94e1be038fcad694ffdf5289349ea8246211535a956caed3f33ada8f43438d"
  },
  "kernelspec": {
   "display_name": "Python 3 (ipykernel)",
   "language": "python",
   "name": "python3"
  },
  "language_info": {
   "codemirror_mode": {
    "name": "ipython",
    "version": 3
   },
   "file_extension": ".py",
   "mimetype": "text/x-python",
   "name": "python",
   "nbconvert_exporter": "python",
   "pygments_lexer": "ipython3",
   "version": "3.10.12"
  }
 },
 "nbformat": 4,
 "nbformat_minor": 5
}
