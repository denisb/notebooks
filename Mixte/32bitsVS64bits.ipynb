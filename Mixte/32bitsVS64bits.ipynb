{
 "cells": [
  {
   "cell_type": "markdown",
   "id": "3890b01c-3f07-4d37-9882-daed503b6452",
   "metadata": {},
   "source": [
    "# Objectif\n",
    "\n",
    "Faire la somme de quelques nombres (0.7,1.25,0.3,1,0.3,0.3,0.3) et les comparer à un seuil (6.248) : Seuil/Somme.\n",
    "\n",
    "On s'attend à une somme de 4.15 et un rapport Seuil/Somme de 1.5 (à peu près)"
   ]
  },
  {
   "cell_type": "markdown",
   "id": "c1c06209-f3ed-47bd-a3b5-a5bdbe8cc709",
   "metadata": {
    "execution": {
     "iopub.execute_input": "2024-06-27T07:29:11.961209Z",
     "iopub.status.busy": "2024-06-27T07:29:11.960889Z",
     "iopub.status.idle": "2024-06-27T07:29:11.965742Z",
     "shell.execute_reply": "2024-06-27T07:29:11.964964Z",
     "shell.execute_reply.started": "2024-06-27T07:29:11.961180Z"
    }
   },
   "source": [
    "# En R ?"
   ]
  },
  {
   "cell_type": "code",
   "execution_count": 1,
   "id": "71d2af66-9617-4930-884b-a3d3ce819ffd",
   "metadata": {
    "execution": {
     "iopub.execute_input": "2024-06-27T09:50:22.426854Z",
     "iopub.status.busy": "2024-06-27T09:50:22.426641Z",
     "iopub.status.idle": "2024-06-27T09:50:22.447404Z",
     "shell.execute_reply": "2024-06-27T09:50:22.446824Z",
     "shell.execute_reply.started": "2024-06-27T09:50:22.426837Z"
    }
   },
   "outputs": [
    {
     "name": "stdout",
     "output_type": "stream",
     "text": [
      "Overwriting prog.R\n"
     ]
    }
   ],
   "source": [
    "%%writefile prog.R\n",
    "\n",
    "nombres=c(0.7,1.25,0.3,1,0.3,0.3,0.3)\n",
    "seuil=6.248\n",
    "options( \"digits\"=17, \"scipen\"=0) \n",
    "cat(\"Valeur R\\n\")\n",
    "cat(seuil/sum(nombres))"
   ]
  },
  {
   "cell_type": "code",
   "execution_count": 2,
   "id": "dc4519de-b7f4-4afe-9f84-2cca7cd117b1",
   "metadata": {
    "execution": {
     "iopub.execute_input": "2024-06-27T09:50:22.448499Z",
     "iopub.status.busy": "2024-06-27T09:50:22.447985Z",
     "iopub.status.idle": "2024-06-27T09:50:23.042591Z",
     "shell.execute_reply": "2024-06-27T09:50:23.040620Z",
     "shell.execute_reply.started": "2024-06-27T09:50:22.448482Z"
    }
   },
   "outputs": [
    {
     "name": "stdout",
     "output_type": "stream",
     "text": [
      "Valeur R\n",
      "1.5055421686746988"
     ]
    }
   ],
   "source": [
    "!Rscript  prog.R\n",
    "!Rscript  prog.R > resultatR.txt\n",
    "!printf \"\\n--\\n\" >> resultatR.txt"
   ]
  },
  {
   "cell_type": "markdown",
   "id": "e9058e3c-4d84-4824-9037-fc5d49f6a1ec",
   "metadata": {},
   "source": [
    "# En Python ? (à la place de VBA ?)"
   ]
  },
  {
   "cell_type": "code",
   "execution_count": 3,
   "id": "f8ba4cc5-df22-45a1-b558-6e6c4dd655b3",
   "metadata": {
    "execution": {
     "iopub.execute_input": "2024-06-27T09:50:23.044945Z",
     "iopub.status.busy": "2024-06-27T09:50:23.044569Z",
     "iopub.status.idle": "2024-06-27T09:50:23.124827Z",
     "shell.execute_reply": "2024-06-27T09:50:23.124197Z",
     "shell.execute_reply.started": "2024-06-27T09:50:23.044910Z"
    }
   },
   "outputs": [
    {
     "name": "stdout",
     "output_type": "stream",
     "text": [
      "Valeur Python\n",
      "1.505542203604457\n"
     ]
    }
   ],
   "source": [
    "import numpy as np\n",
    "nombres=[0.7,1.25,0.3,1,0.3,0.3,0.3]\n",
    "seuil=np.float32(6.248)\n",
    "print(\"Valeur Python\")\n",
    "print(seuil/sum(nombres))\n",
    "with open('resultatPython.txt', 'w') as f:\n",
    "    print(\"Valeur Python\", file=f)\n",
    "    print(seuil/sum(nombres), file=f)\n",
    "    print(\"--\",file=f)"
   ]
  },
  {
   "cell_type": "markdown",
   "id": "6856052c-ae7b-4d1b-b4db-bb16ff0ada2f",
   "metadata": {},
   "source": [
    "# En Java ?"
   ]
  },
  {
   "cell_type": "code",
   "execution_count": 4,
   "id": "da5f7304-37b6-4e64-9334-5ba72c7d7333",
   "metadata": {
    "execution": {
     "iopub.execute_input": "2024-06-27T09:50:23.127913Z",
     "iopub.status.busy": "2024-06-27T09:50:23.126751Z",
     "iopub.status.idle": "2024-06-27T09:50:23.148803Z",
     "shell.execute_reply": "2024-06-27T09:50:23.148036Z",
     "shell.execute_reply.started": "2024-06-27T09:50:23.127886Z"
    }
   },
   "outputs": [
    {
     "name": "stdout",
     "output_type": "stream",
     "text": [
      "Overwriting Prog.java\n"
     ]
    }
   ],
   "source": [
    "%%writefile Prog.java\n",
    "import java.util.Arrays;\n",
    "public class Prog {\n",
    "    public static void main(String[] args) {\n",
    "    \tdouble[] nombres = {0.7f,1.25f,0.3f,1f,0.3f,0.3f,0.3f};\n",
    "        double seuil=6.248;\n",
    "        System.out.println(\"Valeur Java\");\n",
    "        System.out.print(seuil/Arrays.stream(nombres).sum());}}"
   ]
  },
  {
   "cell_type": "code",
   "execution_count": 12,
   "id": "ad65f2fa-8269-463c-a9a4-958c2458910e",
   "metadata": {
    "execution": {
     "iopub.execute_input": "2024-06-27T15:40:44.372182Z",
     "iopub.status.busy": "2024-06-27T15:40:44.371909Z",
     "iopub.status.idle": "2024-06-27T15:40:45.857825Z",
     "shell.execute_reply": "2024-06-27T15:40:45.855896Z",
     "shell.execute_reply.started": "2024-06-27T15:40:44.372161Z"
    }
   },
   "outputs": [
    {
     "name": "stdout",
     "output_type": "stream",
     "text": [
      "Valeur Java\n",
      "1.5055421686746988"
     ]
    }
   ],
   "source": [
    "!java Prog.java\n",
    "!java Prog.java > resultatJava.txt\n",
    "!printf \"\\n--\\n\" >> resultatJava.txt"
   ]
  },
  {
   "cell_type": "markdown",
   "id": "a7d10fa6-591b-4e9b-8453-8b0b2b770c20",
   "metadata": {},
   "source": [
    "# En C ?"
   ]
  },
  {
   "cell_type": "code",
   "execution_count": 6,
   "id": "fb8c1747-0ebc-4cae-ac7b-863fb617f09d",
   "metadata": {
    "execution": {
     "iopub.execute_input": "2024-06-27T09:50:24.579806Z",
     "iopub.status.busy": "2024-06-27T09:50:24.579364Z",
     "iopub.status.idle": "2024-06-27T09:50:24.601169Z",
     "shell.execute_reply": "2024-06-27T09:50:24.600374Z",
     "shell.execute_reply.started": "2024-06-27T09:50:24.579768Z"
    }
   },
   "outputs": [
    {
     "name": "stdout",
     "output_type": "stream",
     "text": [
      "Overwriting prog.c\n"
     ]
    }
   ],
   "source": [
    "%%writefile prog.c\n",
    "#include <stdio.h>\n",
    "int main() {\n",
    "    float nombres[]={0.7,1.25,0.3,1,0.3,0.3,0.3};\n",
    "    float seuil=6.248;\n",
    "    double somme=0;\n",
    "    for(int i=0;i<(sizeof(nombres)/sizeof(nombres[0]));i++) { somme +=nombres[i];}\n",
    "    printf(\"Valeur C\\n\");\n",
    "    printf(\"%.17f\",seuil/somme);\n",
    "    return 0;}"
   ]
  },
  {
   "cell_type": "code",
   "execution_count": 7,
   "id": "49ad699c-5a78-43f5-af60-f168d68be10b",
   "metadata": {
    "execution": {
     "iopub.execute_input": "2024-06-27T09:50:24.601871Z",
     "iopub.status.busy": "2024-06-27T09:50:24.601726Z",
     "iopub.status.idle": "2024-06-27T09:50:25.498949Z",
     "shell.execute_reply": "2024-06-27T09:50:25.497804Z",
     "shell.execute_reply.started": "2024-06-27T09:50:24.601859Z"
    }
   },
   "outputs": [
    {
     "name": "stdout",
     "output_type": "stream",
     "text": [
      "Valeur C\n",
      "1.50554219063038830"
     ]
    }
   ],
   "source": [
    "!gcc prog.c -o prog.e\n",
    "!./prog.e\n",
    "!./prog.e > resultatC.txt\n",
    "!printf \"\\n--\\n\" >> resultat.txt"
   ]
  },
  {
   "cell_type": "markdown",
   "id": "792609fd-5556-445a-938c-adb68436577d",
   "metadata": {},
   "source": [
    "# Récapitulatif\n",
    "\n",
    "Pour les 4 programmes précédents (chacun plausible, tous auraient pu être écrits dans plein d'autres langages (on doit pouvoir même prendre une permutation parmi les 4 langages de départ), on a les résultats suivants :"
   ]
  },
  {
   "cell_type": "code",
   "execution_count": 13,
   "id": "7ab6aead-d1fb-4985-8ccb-fe8981d0ba07",
   "metadata": {
    "execution": {
     "iopub.execute_input": "2024-06-27T15:40:47.988858Z",
     "iopub.status.busy": "2024-06-27T15:40:47.988485Z",
     "iopub.status.idle": "2024-06-27T15:40:48.149917Z",
     "shell.execute_reply": "2024-06-27T15:40:48.148764Z",
     "shell.execute_reply.started": "2024-06-27T15:40:47.988823Z"
    }
   },
   "outputs": [
    {
     "name": "stdout",
     "output_type": "stream",
     "text": [
      "Valeur C\n",
      "1.50554219063038830\n",
      "--\n",
      "Valeur Java\n",
      "1.5055421686746988\n",
      "--\n",
      "Valeur Python\n",
      "1.505542203604457\n",
      "--\n",
      "Valeur R\n",
      "1.5055421686746988\n",
      "--\n"
     ]
    }
   ],
   "source": [
    "cat resultat*.txt"
   ]
  },
  {
   "cell_type": "markdown",
   "id": "3c8f7a8b-91e7-4c26-8285-716082f2bebd",
   "metadata": {},
   "source": [
    "Remarques :  \n",
    "\n",
    "* ce n'est pas une question de langage, j'aurai pu faire avec n'importe quel langage,\n",
    "* ce qui fait la différence c'est l'alternance entre 32bits et 64bits\n",
    "* et, sauf si on est expert du langage, on peut provoquer ce genre de comportement sans s'en rendre compte et avoir des résultats imprévus\n",
    "* selon l'age de la bibliothèque, selon les objectifs \"fins\" de la librairie, etc. les experts fournissant les lib/bib peuvent avoir fait des choix (importants/valides) sur 32/64 bits pour écrire ces lib/bib (ou même ces langages)\n",
    "* (c'est un peu critique, si ces lib/bib ou langages ont été écrits par des stagiaires, je passe)\n",
    "* avec ces lib/bib/langage, l'utilisateur de base subit les conséquences des choix des experts (s'il regarde au dela de la 7e décimal),\n",
    "* mais pas toujours, s'il a un epsilon assez petit/gros, si les affichages sont réduits, l'utilisateur de base ne voit rien  \n",
    " \n",
    "*  **et c'est inévitable,**\n",
    "\n",
    "* l'utilisateur de base va utiliser les lib/bib/langages,\n",
    "* avant de devenir expert, il va écrire des codes sans faire attention aux détails (s'ils sont explicites, parfois, c'est un peu caché)\n",
    "* une fois devenu expert, il pourra faire attention et préciser (quand c'est possible) les paramètres (nombreux) pour ajuster ses calculs\n",
    "\n",
    "Pour information :  \n",
    "\n",
    "* pour les programmes que j'ai écrits, j'ai essayé de ne pas être trop brutal/explicite dans l'utilisation de 32/64,\n",
    "* j'ai essayé de le faire de manière implicite, cela peut même ne pas être (trop) visible et/ou/parfois utiliser/entraîner des programmes improbables (pour un expert),\n",
    "* pour un utilisateur naïf, ces programmes peuvent sembler normaux, et pourraient venir du web et être pris tels quels\n",
    "* il faut (à mon avis) un minimum d'expertise pour voir les détails importants de ces programmes qui entraînent les différences de calcul.\n",
    "* par exemple, en java, le détail qui fait la différence, c'est le \"f\" après les nombres dans double[] nombres = {0.7f,1.25f,0.3f,1f,0.3f,0.3f,0.3f}; dans le programme tous les calculs sont en 64 bits  (double), mais les entrées sont fournies en 32 bits seulement (float), c'est l'effet du petit \"f\" (float) dans la déclaration ; avec double[] nombres = {0.7,1.25,0.3,1,0.3,0.3,0.3}; les résultats auraient été les même que ceux de R (où tous les calculs sont faits en 64 bits)\n",
    "\n"
   ]
  },
  {
   "cell_type": "markdown",
   "id": "3caa9cd2-4072-4c52-9327-7babdb977f87",
   "metadata": {},
   "source": [
    "# Annexes\n",
    "\n",
    "Tout en python"
   ]
  },
  {
   "cell_type": "code",
   "execution_count": 9,
   "id": "7f17cc2e-b4fa-4ca3-82d1-885810a3f5c4",
   "metadata": {
    "execution": {
     "iopub.execute_input": "2024-06-27T09:54:16.184048Z",
     "iopub.status.busy": "2024-06-27T09:54:16.183706Z",
     "iopub.status.idle": "2024-06-27T09:54:16.189211Z",
     "shell.execute_reply": "2024-06-27T09:54:16.188652Z",
     "shell.execute_reply.started": "2024-06-27T09:54:16.184026Z"
    }
   },
   "outputs": [
    {
     "name": "stdout",
     "output_type": "stream",
     "text": [
      "64 bits :  [0.7, 1.25, 0.3, 1, 0.3, 0.3, 0.3]\n",
      "32 bits :  [0.699999988079071, 1.25, 0.30000001192092896, 1.0, 0.30000001192092896, 0.30000001192092896, 0.30000001192092896]\n",
      "Somme 64 bits tronqués à l'affichage : 4.15\n",
      "Somme 32 bits : 4.150000035762787\n",
      "Poids Col E, 64 bits : 6.248\n",
      "Poids Col E, 32 bits : 6.248000144958496\n",
      "R : 1.505542168674699\n",
      "VBA (~Python): 1.505542203604457\n",
      "Java :  1.5055421557006305\n",
      "Colonne K (~C)) : 1.5055421906303883\n"
     ]
    }
   ],
   "source": [
    "import sys\n",
    "import struct\n",
    "\n",
    "numbers=[0.7,1.25,0.3,1,0.3,0.3,0.3]\n",
    "numbers32=[struct.unpack('!f', struct.pack('!f', n))[0] for n in numbers]\n",
    "print(\"64 bits : \",numbers)\n",
    "print(\"32 bits : \",numbers32)\n",
    "print(\"Somme 64 bits tronqués à l'affichage :\",format(sum(numbers), '.7'))\n",
    "print(\"Somme 32 bits :\",sum(numbers32))\n",
    "Poids=6.248\n",
    "print(\"Poids Col E, 64 bits :\",Poids)\n",
    "Poids32=struct.unpack('!f', struct.pack('!f', Poids))[0]\n",
    "print(\"Poids Col E, 32 bits :\",Poids32)\n",
    "print(\"R :\",Poids/sum(numbers))\n",
    "print(\"VBA (~Python):\",Poids32/sum(numbers))\n",
    "print(\"Java : \",Poids/sum(numbers32))\n",
    "print(\"Colonne K (~C)) :\",Poids32/sum(numbers32))"
   ]
  },
  {
   "cell_type": "markdown",
   "id": "d1801bd5-635c-4b6a-bf14-a9b15fb05c14",
   "metadata": {},
   "source": [
    "et la même chose, sans rien voir (même calcul, mais affichage tronqué à 7 chiffres) :"
   ]
  },
  {
   "cell_type": "code",
   "execution_count": 10,
   "id": "9cb0c229-c252-4822-a919-d098c5b60855",
   "metadata": {
    "execution": {
     "iopub.execute_input": "2024-06-27T09:55:36.778939Z",
     "iopub.status.busy": "2024-06-27T09:55:36.778573Z",
     "iopub.status.idle": "2024-06-27T09:55:36.785464Z",
     "shell.execute_reply": "2024-06-27T09:55:36.784646Z",
     "shell.execute_reply.started": "2024-06-27T09:55:36.778912Z"
    }
   },
   "outputs": [
    {
     "name": "stdout",
     "output_type": "stream",
     "text": [
      "64 bits :  [0.7, 1.25, 0.3, 1, 0.3, 0.3, 0.3]\n",
      "32 bits :  [0.699999988079071, 1.25, 0.30000001192092896, 1.0, 0.30000001192092896, 0.30000001192092896, 0.30000001192092896]\n",
      "Somme 64 bits tronqués à l'affichage : 4.15\n",
      "Somme 32 bits tronqués à l'affichage : 4.15\n",
      "Poids Col E, 64 bits : 6.248\n",
      "Poids Col E, 32 bits tronqués à l'affichage : 6.248\n",
      "R tronqués à l'affichage : 1.505542\n",
      "VBA tronqués à l'affichage : 1.505542\n",
      "Java tronqués à l'affichage :  1.505542\n",
      "col k tronqués à l'affichage : 1.505542\n"
     ]
    }
   ],
   "source": [
    "import sys\n",
    "import struct\n",
    "\n",
    "numbers=[0.7,1.25,0.3,1,0.3,0.3,0.3]\n",
    "numbers32=[struct.unpack('!f', struct.pack('!f', n))[0] for n in numbers]\n",
    "print(\"64 bits : \",numbers)\n",
    "print(\"32 bits : \",numbers32)\n",
    "print(\"Somme 64 bits tronqués à l'affichage :\",format(sum(numbers), '.7'))\n",
    "print(\"Somme 32 bits tronqués à l'affichage :\",format(sum(numbers32), '.7'))\n",
    "Poids=6.248\n",
    "print(\"Poids Col E, 64 bits :\",Poids)\n",
    "Poids32=struct.unpack('!f', struct.pack('!f', Poids))[0]\n",
    "print(\"Poids Col E, 32 bits tronqués à l'affichage :\",format(Poids32, '.7'))\n",
    "print(\"R tronqués à l'affichage :\",format(Poids/sum(numbers), '.7'))\n",
    "print(\"VBA tronqués à l'affichage :\",format(Poids32/sum(numbers), '.7'))\n",
    "print(\"Java tronqués à l'affichage : \",format(Poids/sum(numbers32), '.7'))\n",
    "print(\"col k tronqués à l'affichage :\",format(Poids32/sum(numbers32), '.7'))"
   ]
  },
  {
   "cell_type": "markdown",
   "id": "2644321e-0131-46b5-95c9-25f52ccf336d",
   "metadata": {},
   "source": [
    "# Vrac "
   ]
  },
  {
   "cell_type": "code",
   "execution_count": 11,
   "id": "d5633bd3-cfeb-496e-b4c9-cd5226824140",
   "metadata": {
    "execution": {
     "iopub.execute_input": "2024-06-27T15:40:36.119986Z",
     "iopub.status.busy": "2024-06-27T15:40:36.117327Z",
     "iopub.status.idle": "2024-06-27T15:40:36.147517Z",
     "shell.execute_reply": "2024-06-27T15:40:36.146397Z",
     "shell.execute_reply.started": "2024-06-27T15:40:36.119897Z"
    }
   },
   "outputs": [
    {
     "name": "stdout",
     "output_type": "stream",
     "text": [
      "Overwriting Prog.java\n"
     ]
    }
   ],
   "source": [
    "%%writefile Prog.java\n",
    "import java.util.Arrays;\n",
    "public class Prog {\n",
    "    public static void main(String[] args) {\n",
    "    \tdouble[] nombres = {0.7,1.25,0.3,1,0.3,0.3,0.3};\n",
    "        double seuil=6.248;\n",
    "        System.out.println(\"Valeur Java\");\n",
    "        System.out.print(seuil/Arrays.stream(nombres).sum());}}"
   ]
  }
 ],
 "metadata": {
  "kernelspec": {
   "display_name": "Python 3 (ipykernel)",
   "language": "python",
   "name": "python3"
  },
  "language_info": {
   "codemirror_mode": {
    "name": "ipython",
    "version": 3
   },
   "file_extension": ".py",
   "mimetype": "text/x-python",
   "name": "python",
   "nbconvert_exporter": "python",
   "pygments_lexer": "ipython3",
   "version": "3.10.12"
  }
 },
 "nbformat": 4,
 "nbformat_minor": 5
}
