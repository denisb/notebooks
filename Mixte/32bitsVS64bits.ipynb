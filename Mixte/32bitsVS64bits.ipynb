{
 "cells": [
  {
   "cell_type": "markdown",
   "id": "3890b01c-3f07-4d37-9882-daed503b6452",
   "metadata": {},
   "source": [
    "# Objectif\n",
    "\n",
    "Faire la somme de quelques nombres (0.7,1.25,0.3,1,0.3,0.3,0.3) et les comparer à un seuil (6.248) : Seuil/Somme.\n",
    "\n",
    "On s'attend à une somme de 4.15 et un rapport Seuil/Somme de 1.5 (à peu près)"
   ]
  },
  {
   "cell_type": "markdown",
   "id": "c1c06209-f3ed-47bd-a3b5-a5bdbe8cc709",
   "metadata": {
    "execution": {
     "iopub.execute_input": "2024-06-27T07:29:11.961209Z",
     "iopub.status.busy": "2024-06-27T07:29:11.960889Z",
     "iopub.status.idle": "2024-06-27T07:29:11.965742Z",
     "shell.execute_reply": "2024-06-27T07:29:11.964964Z",
     "shell.execute_reply.started": "2024-06-27T07:29:11.961180Z"
    }
   },
   "source": [
    "# En R ?"
   ]
  },
  {
   "cell_type": "code",
   "execution_count": 27,
   "id": "71d2af66-9617-4930-884b-a3d3ce819ffd",
   "metadata": {
    "execution": {
     "iopub.execute_input": "2024-06-28T10:32:18.614706Z",
     "iopub.status.busy": "2024-06-28T10:32:18.613604Z",
     "iopub.status.idle": "2024-06-28T10:32:18.638593Z",
     "shell.execute_reply": "2024-06-28T10:32:18.637789Z",
     "shell.execute_reply.started": "2024-06-28T10:32:18.614670Z"
    }
   },
   "outputs": [
    {
     "name": "stdout",
     "output_type": "stream",
     "text": [
      "Overwriting prog.R\n"
     ]
    }
   ],
   "source": [
    "%%writefile prog.R\n",
    "\n",
    "nombres=c(0.7,1.25,0.3,1,0.3,0.3,0.3)\n",
    "seuil=6.248\n",
    "options( \"digits\"=17, \"scipen\"=0) \n",
    "cat(\"Valeur R\\n\")\n",
    "cat(seuil/sum(nombres))"
   ]
  },
  {
   "cell_type": "code",
   "execution_count": 28,
   "id": "dc4519de-b7f4-4afe-9f84-2cca7cd117b1",
   "metadata": {
    "execution": {
     "iopub.execute_input": "2024-06-28T10:32:20.089802Z",
     "iopub.status.busy": "2024-06-28T10:32:20.089429Z",
     "iopub.status.idle": "2024-06-28T10:32:20.229411Z",
     "shell.execute_reply": "2024-06-28T10:32:20.228779Z",
     "shell.execute_reply.started": "2024-06-28T10:32:20.089773Z"
    }
   },
   "outputs": [],
   "source": [
    "ResultatR=!Rscript  prog.R"
   ]
  },
  {
   "cell_type": "code",
   "execution_count": 29,
   "id": "e19f8446-f60a-4849-be33-aa637fb04559",
   "metadata": {
    "execution": {
     "iopub.execute_input": "2024-06-28T10:32:21.726020Z",
     "iopub.status.busy": "2024-06-28T10:32:21.725732Z",
     "iopub.status.idle": "2024-06-28T10:32:21.731062Z",
     "shell.execute_reply": "2024-06-28T10:32:21.730441Z",
     "shell.execute_reply.started": "2024-06-28T10:32:21.725999Z"
    }
   },
   "outputs": [
    {
     "data": {
      "text/plain": [
       "['Valeur R', '1.5055421686746988']"
      ]
     },
     "execution_count": 29,
     "metadata": {},
     "output_type": "execute_result"
    }
   ],
   "source": [
    "ResultatR"
   ]
  },
  {
   "cell_type": "markdown",
   "id": "e9058e3c-4d84-4824-9037-fc5d49f6a1ec",
   "metadata": {},
   "source": [
    "# En Python ? (à la place de VBA ?)"
   ]
  },
  {
   "cell_type": "code",
   "execution_count": 18,
   "id": "f8ba4cc5-df22-45a1-b558-6e6c4dd655b3",
   "metadata": {
    "execution": {
     "iopub.execute_input": "2024-06-28T10:28:13.860703Z",
     "iopub.status.busy": "2024-06-28T10:28:13.860278Z",
     "iopub.status.idle": "2024-06-28T10:28:13.867368Z",
     "shell.execute_reply": "2024-06-28T10:28:13.866671Z",
     "shell.execute_reply.started": "2024-06-28T10:28:13.860675Z"
    }
   },
   "outputs": [
    {
     "data": {
      "text/plain": [
       "['Valeur Python', '1.505542203604457']"
      ]
     },
     "execution_count": 18,
     "metadata": {},
     "output_type": "execute_result"
    }
   ],
   "source": [
    "import numpy as np\n",
    "nombres=[0.7,1.25,0.3,1,0.3,0.3,0.3]\n",
    "seuil=np.float32(6.248)\n",
    "ResultatPython=[\"Valeur Python\", str(seuil/sum(nombres))]\n",
    "ResultatPython"
   ]
  },
  {
   "cell_type": "markdown",
   "id": "6856052c-ae7b-4d1b-b4db-bb16ff0ada2f",
   "metadata": {},
   "source": [
    "# En Java ?"
   ]
  },
  {
   "cell_type": "code",
   "execution_count": 30,
   "id": "da5f7304-37b6-4e64-9334-5ba72c7d7333",
   "metadata": {
    "execution": {
     "iopub.execute_input": "2024-06-28T10:32:43.304987Z",
     "iopub.status.busy": "2024-06-28T10:32:43.304628Z",
     "iopub.status.idle": "2024-06-28T10:32:43.324969Z",
     "shell.execute_reply": "2024-06-28T10:32:43.324405Z",
     "shell.execute_reply.started": "2024-06-28T10:32:43.304958Z"
    }
   },
   "outputs": [
    {
     "name": "stdout",
     "output_type": "stream",
     "text": [
      "Overwriting Prog.java\n"
     ]
    }
   ],
   "source": [
    "%%writefile Prog.java\n",
    "import java.util.Arrays;\n",
    "public class Prog {\n",
    "    public static void main(String[] args) {\n",
    "    \tdouble[] nombres = {0.7f,1.25f,0.3f,1f,0.3f,0.3f,0.3f};\n",
    "        double seuil=6.248;\n",
    "        System.out.println(\"Valeur Java\");\n",
    "        System.out.print(seuil/Arrays.stream(nombres).sum());}}"
   ]
  },
  {
   "cell_type": "code",
   "execution_count": 33,
   "id": "ad65f2fa-8269-463c-a9a4-958c2458910e",
   "metadata": {
    "execution": {
     "iopub.execute_input": "2024-06-28T10:33:07.348837Z",
     "iopub.status.busy": "2024-06-28T10:33:07.348475Z",
     "iopub.status.idle": "2024-06-28T10:33:07.918826Z",
     "shell.execute_reply": "2024-06-28T10:33:07.918250Z",
     "shell.execute_reply.started": "2024-06-28T10:33:07.348810Z"
    }
   },
   "outputs": [],
   "source": [
    "ResultatJava=!java Prog.java"
   ]
  },
  {
   "cell_type": "code",
   "execution_count": 34,
   "id": "a5902fc4-6bd0-4a21-b988-add5aef91fdc",
   "metadata": {
    "execution": {
     "iopub.execute_input": "2024-06-28T10:33:09.875669Z",
     "iopub.status.busy": "2024-06-28T10:33:09.875152Z",
     "iopub.status.idle": "2024-06-28T10:33:09.881667Z",
     "shell.execute_reply": "2024-06-28T10:33:09.880519Z",
     "shell.execute_reply.started": "2024-06-28T10:33:09.875644Z"
    }
   },
   "outputs": [
    {
     "data": {
      "text/plain": [
       "['Valeur Java', '1.5055421557006305']"
      ]
     },
     "execution_count": 34,
     "metadata": {},
     "output_type": "execute_result"
    }
   ],
   "source": [
    "ResultatJava"
   ]
  },
  {
   "cell_type": "markdown",
   "id": "a7d10fa6-591b-4e9b-8453-8b0b2b770c20",
   "metadata": {},
   "source": [
    "# En C ?"
   ]
  },
  {
   "cell_type": "code",
   "execution_count": 8,
   "id": "fb8c1747-0ebc-4cae-ac7b-863fb617f09d",
   "metadata": {
    "execution": {
     "iopub.execute_input": "2024-06-28T10:24:26.643048Z",
     "iopub.status.busy": "2024-06-28T10:24:26.642876Z",
     "iopub.status.idle": "2024-06-28T10:24:26.668949Z",
     "shell.execute_reply": "2024-06-28T10:24:26.668221Z",
     "shell.execute_reply.started": "2024-06-28T10:24:26.643033Z"
    }
   },
   "outputs": [
    {
     "name": "stdout",
     "output_type": "stream",
     "text": [
      "Overwriting prog.c\n"
     ]
    }
   ],
   "source": [
    "%%writefile prog.c\n",
    "#include <stdio.h>\n",
    "int main() {\n",
    "    float nombres[]={0.7,1.25,0.3,1,0.3,0.3,0.3};\n",
    "    float seuil=6.248;\n",
    "    double somme=0;\n",
    "    for(int i=0;i<(sizeof(nombres)/sizeof(nombres[0]));i++) { somme +=nombres[i];}\n",
    "    printf(\"Valeur C\\n\");\n",
    "    printf(\"%.17f\",seuil/somme);\n",
    "    return 0;}"
   ]
  },
  {
   "cell_type": "code",
   "execution_count": 35,
   "id": "49ad699c-5a78-43f5-af60-f168d68be10b",
   "metadata": {
    "execution": {
     "iopub.execute_input": "2024-06-28T10:33:46.275307Z",
     "iopub.status.busy": "2024-06-28T10:33:46.274956Z",
     "iopub.status.idle": "2024-06-28T10:33:46.744666Z",
     "shell.execute_reply": "2024-06-28T10:33:46.742650Z",
     "shell.execute_reply.started": "2024-06-28T10:33:46.275279Z"
    }
   },
   "outputs": [],
   "source": [
    "!gcc prog.c -o prog.e\n",
    "ResultatC=!./prog.e"
   ]
  },
  {
   "cell_type": "code",
   "execution_count": 36,
   "id": "608b9f5f-1fdc-4055-88b5-879d882acb20",
   "metadata": {
    "execution": {
     "iopub.execute_input": "2024-06-28T10:33:48.565011Z",
     "iopub.status.busy": "2024-06-28T10:33:48.564690Z",
     "iopub.status.idle": "2024-06-28T10:33:48.571569Z",
     "shell.execute_reply": "2024-06-28T10:33:48.570672Z",
     "shell.execute_reply.started": "2024-06-28T10:33:48.564986Z"
    }
   },
   "outputs": [
    {
     "data": {
      "text/plain": [
       "['Valeur C', '1.50554219063038830']"
      ]
     },
     "execution_count": 36,
     "metadata": {},
     "output_type": "execute_result"
    }
   ],
   "source": [
    "ResultatC"
   ]
  },
  {
   "cell_type": "markdown",
   "id": "792609fd-5556-445a-938c-adb68436577d",
   "metadata": {},
   "source": [
    "# Récapitulatif\n",
    "\n",
    "Pour les 4 programmes précédents (chacun plausible, tous auraient pu être écrits dans plein d'autres langages (on doit pouvoir même prendre une permutation parmi les 4 langages de départ), on a les résultats suivants :"
   ]
  },
  {
   "cell_type": "code",
   "execution_count": 11,
   "id": "7ab6aead-d1fb-4985-8ccb-fe8981d0ba07",
   "metadata": {
    "execution": {
     "iopub.execute_input": "2024-06-28T10:24:27.281717Z",
     "iopub.status.busy": "2024-06-28T10:24:27.281551Z",
     "iopub.status.idle": "2024-06-28T10:24:27.293688Z",
     "shell.execute_reply": "2024-06-28T10:24:27.292962Z",
     "shell.execute_reply.started": "2024-06-28T10:24:27.281701Z"
    }
   },
   "outputs": [
    {
     "name": "stdout",
     "output_type": "stream",
     "text": [
      "['Valeur R', '1.5055421686746988']\n",
      "['Valeur Python', '1.505542203604457']\n",
      "['Valeur Java', '1.5055421557006305']\n",
      "['Valeur C', '1.50554219063038830']\n"
     ]
    }
   ],
   "source": [
    "print(ResultatR)\n",
    "print(ResultatPython)\n",
    "print(ResultatJava)\n",
    "print(ResultatC)"
   ]
  },
  {
   "cell_type": "markdown",
   "id": "3c8f7a8b-91e7-4c26-8285-716082f2bebd",
   "metadata": {},
   "source": [
    "Remarques :  \n",
    "\n",
    "* ce n'est pas une question de langage, j'aurai pu faire avec n'importe quel langage,\n",
    "* ce qui fait la différence c'est l'alternance entre 32bits et 64bits\n",
    "* et, sauf si on est expert du langage, on peut provoquer ce genre de comportement sans s'en rendre compte et avoir des résultats imprévus\n",
    "* selon l'age de la bibliothèque, selon les objectifs \"fins\" de la librairie, etc. les experts fournissant les lib/bib peuvent avoir fait des choix (importants/valides) sur 32/64 bits pour écrire ces lib/bib (ou même ces langages)\n",
    "* (c'est un peu critique, si ces lib/bib ou langages ont été écrits par des stagiaires, je passe)\n",
    "* avec ces lib/bib/langage, l'utilisateur de base subit les conséquences des choix des experts (s'il regarde au dela de la 7e décimal),\n",
    "* mais pas toujours, s'il a un epsilon assez petit/gros, si les affichages sont réduits, l'utilisateur de base ne voit rien  \n",
    " \n",
    "*  **et c'est inévitable,**\n",
    "\n",
    "* l'utilisateur de base va utiliser les lib/bib/langages,\n",
    "* avant de devenir expert, il va écrire des codes sans faire attention aux détails (s'ils sont explicites, parfois, c'est un peu caché)\n",
    "* une fois devenu expert, il pourra faire attention et préciser (quand c'est possible) les paramètres (nombreux) pour ajuster ses calculs\n",
    "\n",
    "Pour information :  \n",
    "\n",
    "* pour les programmes que j'ai écrits, j'ai essayé de ne pas être trop brutal/explicite dans l'utilisation de 32/64,\n",
    "* j'ai essayé de le faire de manière implicite, cela peut même ne pas être (trop) visible et/ou/parfois utiliser/entraîner des programmes improbables (pour un expert),\n",
    "* pour un utilisateur naïf, ces programmes peuvent sembler normaux, et pourraient venir du web et être pris tels quels\n",
    "* il faut (à mon avis) un minimum d'expertise pour voir les détails importants de ces programmes qui entraînent les différences de calcul.\n",
    "* par exemple, en java, le détail qui fait la différence, c'est le \"f\" après les nombres dans double[] nombres = {0.7f,1.25f,0.3f,1f,0.3f,0.3f,0.3f}; dans le programme tous les calculs sont en 64 bits  (double), mais les entrées sont fournies en 32 bits seulement (float), c'est l'effet du petit \"f\" (float) dans la déclaration ; avec double[] nombres = {0.7,1.25,0.3,1,0.3,0.3,0.3}; les résultats auraient été les même que ceux de R (où tous les calculs sont faits en 64 bits)\n",
    "\n"
   ]
  },
  {
   "cell_type": "markdown",
   "id": "3caa9cd2-4072-4c52-9327-7babdb977f87",
   "metadata": {},
   "source": [
    "# Annexes\n",
    "\n",
    "Tout en python"
   ]
  },
  {
   "cell_type": "code",
   "execution_count": 12,
   "id": "7f17cc2e-b4fa-4ca3-82d1-885810a3f5c4",
   "metadata": {
    "execution": {
     "iopub.execute_input": "2024-06-28T10:24:27.294809Z",
     "iopub.status.busy": "2024-06-28T10:24:27.294621Z",
     "iopub.status.idle": "2024-06-28T10:24:27.300111Z",
     "shell.execute_reply": "2024-06-28T10:24:27.299378Z",
     "shell.execute_reply.started": "2024-06-28T10:24:27.294794Z"
    }
   },
   "outputs": [
    {
     "name": "stdout",
     "output_type": "stream",
     "text": [
      "64 bits :  [0.7, 1.25, 0.3, 1, 0.3, 0.3, 0.3]\n",
      "32 bits :  [0.699999988079071, 1.25, 0.30000001192092896, 1.0, 0.30000001192092896, 0.30000001192092896, 0.30000001192092896]\n",
      "Somme 64 bits tronqués à l'affichage : 4.15\n",
      "Somme 32 bits : 4.150000035762787\n",
      "Poids Col E, 64 bits : 6.248\n",
      "Poids Col E, 32 bits : 6.248000144958496\n",
      "R : 1.505542168674699\n",
      "VBA (~Python): 1.505542203604457\n",
      "Java :  1.5055421557006305\n",
      "Colonne K (~C)) : 1.5055421906303883\n"
     ]
    }
   ],
   "source": [
    "import sys\n",
    "import struct\n",
    "\n",
    "numbers=[0.7,1.25,0.3,1,0.3,0.3,0.3]\n",
    "numbers32=[struct.unpack('!f', struct.pack('!f', n))[0] for n in numbers]\n",
    "print(\"64 bits : \",numbers)\n",
    "print(\"32 bits : \",numbers32)\n",
    "print(\"Somme 64 bits tronqués à l'affichage :\",format(sum(numbers), '.7'))\n",
    "print(\"Somme 32 bits :\",sum(numbers32))\n",
    "Poids=6.248\n",
    "print(\"Poids Col E, 64 bits :\",Poids)\n",
    "Poids32=struct.unpack('!f', struct.pack('!f', Poids))[0]\n",
    "print(\"Poids Col E, 32 bits :\",Poids32)\n",
    "print(\"R :\",Poids/sum(numbers))\n",
    "print(\"VBA (~Python):\",Poids32/sum(numbers))\n",
    "print(\"Java : \",Poids/sum(numbers32))\n",
    "print(\"Colonne K (~C)) :\",Poids32/sum(numbers32))"
   ]
  },
  {
   "cell_type": "markdown",
   "id": "d1801bd5-635c-4b6a-bf14-a9b15fb05c14",
   "metadata": {},
   "source": [
    "et la même chose, sans rien voir (même calcul, mais affichage tronqué à 7 chiffres) :"
   ]
  },
  {
   "cell_type": "code",
   "execution_count": 13,
   "id": "9cb0c229-c252-4822-a919-d098c5b60855",
   "metadata": {
    "execution": {
     "iopub.execute_input": "2024-06-28T10:24:27.300891Z",
     "iopub.status.busy": "2024-06-28T10:24:27.300677Z",
     "iopub.status.idle": "2024-06-28T10:24:27.306661Z",
     "shell.execute_reply": "2024-06-28T10:24:27.306048Z",
     "shell.execute_reply.started": "2024-06-28T10:24:27.300874Z"
    }
   },
   "outputs": [
    {
     "name": "stdout",
     "output_type": "stream",
     "text": [
      "64 bits :  [0.7, 1.25, 0.3, 1, 0.3, 0.3, 0.3]\n",
      "32 bits :  [0.699999988079071, 1.25, 0.30000001192092896, 1.0, 0.30000001192092896, 0.30000001192092896, 0.30000001192092896]\n",
      "Somme 64 bits tronqués à l'affichage : 4.15\n",
      "Somme 32 bits tronqués à l'affichage : 4.15\n",
      "Poids Col E, 64 bits : 6.248\n",
      "Poids Col E, 32 bits tronqués à l'affichage : 6.248\n",
      "R tronqués à l'affichage : 1.505542\n",
      "VBA tronqués à l'affichage : 1.505542\n",
      "Java tronqués à l'affichage :  1.505542\n",
      "col k tronqués à l'affichage : 1.505542\n"
     ]
    }
   ],
   "source": [
    "import sys\n",
    "import struct\n",
    "\n",
    "numbers=[0.7,1.25,0.3,1,0.3,0.3,0.3]\n",
    "numbers32=[struct.unpack('!f', struct.pack('!f', n))[0] for n in numbers]\n",
    "print(\"64 bits : \",numbers)\n",
    "print(\"32 bits : \",numbers32)\n",
    "print(\"Somme 64 bits tronqués à l'affichage :\",format(sum(numbers), '.7'))\n",
    "print(\"Somme 32 bits tronqués à l'affichage :\",format(sum(numbers32), '.7'))\n",
    "Poids=6.248\n",
    "print(\"Poids Col E, 64 bits :\",Poids)\n",
    "Poids32=struct.unpack('!f', struct.pack('!f', Poids))[0]\n",
    "print(\"Poids Col E, 32 bits tronqués à l'affichage :\",format(Poids32, '.7'))\n",
    "print(\"R tronqués à l'affichage :\",format(Poids/sum(numbers), '.7'))\n",
    "print(\"VBA tronqués à l'affichage :\",format(Poids32/sum(numbers), '.7'))\n",
    "print(\"Java tronqués à l'affichage : \",format(Poids/sum(numbers32), '.7'))\n",
    "print(\"col k tronqués à l'affichage :\",format(Poids32/sum(numbers32), '.7'))"
   ]
  },
  {
   "cell_type": "markdown",
   "id": "2644321e-0131-46b5-95c9-25f52ccf336d",
   "metadata": {},
   "source": [
    "# Vrac "
   ]
  },
  {
   "cell_type": "code",
   "execution_count": 14,
   "id": "d5633bd3-cfeb-496e-b4c9-cd5226824140",
   "metadata": {
    "execution": {
     "iopub.execute_input": "2024-06-28T10:24:27.307712Z",
     "iopub.status.busy": "2024-06-28T10:24:27.307532Z",
     "iopub.status.idle": "2024-06-28T10:24:27.327703Z",
     "shell.execute_reply": "2024-06-28T10:24:27.327020Z",
     "shell.execute_reply.started": "2024-06-28T10:24:27.307696Z"
    }
   },
   "outputs": [
    {
     "name": "stdout",
     "output_type": "stream",
     "text": [
      "Overwriting Prog.java\n"
     ]
    }
   ],
   "source": [
    "%%writefile Prog.java\n",
    "import java.util.Arrays;\n",
    "public class Prog {\n",
    "    public static void main(String[] args) {\n",
    "    \tdouble[] nombres = {0.7,1.25,0.3,1,0.3,0.3,0.3};\n",
    "        double seuil=6.248;\n",
    "        System.out.println(\"Valeur Java\");\n",
    "        System.out.print(seuil/Arrays.stream(nombres).sum());}}"
   ]
  }
 ],
 "metadata": {
  "kernelspec": {
   "display_name": "Python 3 (ipykernel)",
   "language": "python",
   "name": "python3"
  },
  "language_info": {
   "codemirror_mode": {
    "name": "ipython",
    "version": 3
   },
   "file_extension": ".py",
   "mimetype": "text/x-python",
   "name": "python",
   "nbconvert_exporter": "python",
   "pygments_lexer": "ipython3",
   "version": "3.10.12"
  }
 },
 "nbformat": 4,
 "nbformat_minor": 5
}
