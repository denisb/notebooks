{
 "cells": [
  {
   "cell_type": "markdown",
   "metadata": {},
   "source": [
    "# Multiplication (sur 8 bits)\n",
    "## par addition et décalage\n",
    "\n",
    "Principe : pour chaque ième bit de a à 1, ajouter b << i\n",
    "\n",
    "En C cela donnerait (pour 8 bits) :\n",
    "\n",
    "<pre>\n",
    "unsigned int mult (unsigned int a, unsigned int b) {\n",
    "   unsigned int resultat=0; \n",
    "   while (a != 0) {\n",
    "     if ((a & 1) != 0) {// ajouter b si a_0 == 1\n",
    "        resultat = resultat + b;}\n",
    "     b = b << 1; a = a >> 1;}  \n",
    "   return resultat&255; }\n",
    "</pre>\n",
    "\n",
    "En assembleur, cela donne (sur 8 bits) :   "
   ]
  },
  {
   "cell_type": "code",
   "execution_count": 34,
   "metadata": {
    "collapsed": false
   },
   "outputs": [],
   "source": [
    "   MOVS  R0, #11 @ a\n",
    "   MOVS  R1, #13 @ b\n",
    "   MOVS  R2, #0  @ resultat\n",
    "   MOVS  R3, #1 @cst 1\n",
    "   MOVS  R4, #0 @cst 0\n",
    "   MOVS  R5, #255 @cst 255 (masque pour 1 octet)\n",
    "   BAL   ct \n",
    "tq TST   R0, R3\n",
    "   BEQ   st\n",
    "   ADDS   R2, R2, R1  \n",
    "st LSLS   R1, R1, #1\n",
    "   LSRS   R0, R0, #1\n",
    "ct CMP   R0, R4\n",
    "   BNE   tq\n",
    "   ANDS   R2, R2, R5 @ masque sur 8 bits "
   ]
  },
  {
   "cell_type": "code",
   "execution_count": 36,
   "metadata": {
    "collapsed": false
   },
   "outputs": [
    {
     "name": "stdout",
     "output_type": "stream",
     "text": [
      "R2: 143\n"
     ]
    }
   ],
   "source": [
    "%run 1000\n",
    "%reg R2"
   ]
  },
  {
   "cell_type": "markdown",
   "metadata": {},
   "source": [
    "Avec R0=11 et R1=13 vous devriez obtenir R2=143\n",
    "\n",
    "Avec R0=245 et R1=13 vous devriez obtenir le produit de -11 par 13, car sur 8 bits 245=(256)-11, donc 245 c'est comme -11. Revenons au produit de -11 par 13 (ou 245 par 13), vous devriez obtenir R2=113, car 113=(256)-143, donc obtenir 113, c'est comme obtenir -143 (c'est à dire -11*13 !).\n"
   ]
  }
 ],
 "metadata": {
  "kernelspec": {
   "display_name": "IArm",
   "language": "ARM",
   "name": "iarm"
  },
  "language_info": {
   "file_extension": ".s",
   "mimetype": "text/x-asm",
   "name": "ARM Coretex M0+ Thumb Assembly"
  }
 },
 "nbformat": 4,
 "nbformat_minor": 2
}
