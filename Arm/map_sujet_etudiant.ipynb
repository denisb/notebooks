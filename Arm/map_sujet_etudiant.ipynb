{
 "cells": [
  {
   "cell_type": "markdown",
   "id": "69f0a023-7c4b-408b-b9b5-e65a31ad8a30",
   "metadata": {},
   "source": [
    "# MAP (programmation fonctionnelle en ARM)\n",
    "\n",
    "Comment faire de la programmation fonctionnelle en ARM ?\n",
    "\n",
    "Vous prendrez l'exemple de **map** :\n",
    "\n",
    "```\n",
    "map(t_in,n,t_out,f) :\n",
    "  pour i = 0..n-1 :\n",
    "    t_out[i] = f(t_in[i]) \n",
    "```\n",
    "\n",
    "Le passage des paramètres se fera avec la convention sur les registres :\n",
    "\n",
    "* R0 pour t_in\n",
    "* R1 pour n\n",
    "* R2 pour t_out\n",
    "* R3 pour f\n",
    "\n",
    "Pour f, la convention d'appel passera par :\n",
    "\n",
    "* R3 pour le paramètre\n",
    "* R4 pour le résultat\n",
    "\n",
    "## Traduction de Map\n",
    "\n",
    "( ** à compléter ** méthode de traduction, choix, justification ? )\n",
    "\n",
    "Trame à compléter :"
   ]
  },
  {
   "cell_type": "code",
   "execution_count": null,
   "id": "b15e9940-a7db-4151-8fc1-e5e3cd3d985b",
   "metadata": {},
   "outputs": [],
   "source": [
    "%%writefile map.s\n",
    "         .text\n",
    "         .global  map\n",
    "map:     \n",
    "    @@@@@@@@@@@@@@@@@\n",
    "    @@ à completer @@\n",
    "    @@@@@@@@@@@@@@@@@"
   ]
  },
  {
   "cell_type": "markdown",
   "id": "50f13c61-a023-483b-b4a0-d646ac00bba9",
   "metadata": {},
   "source": [
    "Pour compiler votre fichier :"
   ]
  },
  {
   "cell_type": "code",
   "execution_count": null,
   "id": "7a53adfc-fa83-49bd-a127-8af88103b21c",
   "metadata": {},
   "outputs": [],
   "source": [
    "%%sh\n",
    "arm-linux-gnueabi-gcc -static -c map.s"
   ]
  },
  {
   "cell_type": "markdown",
   "id": "9b4e41fc-1513-487e-95d3-0b923545575b",
   "metadata": {},
   "source": [
    "## Appel de Map\n",
    "\n",
    "Pour l'appel de Map, vous utiliserez le fichier essai-map.s.\n",
    "\n",
    "( ** à compléter ** analyse de essai-map, explication du travail à faire ? )\n",
    "\n",
    "Trame à compléter :"
   ]
  },
  {
   "cell_type": "code",
   "execution_count": null,
   "id": "b6408080-77ca-4d44-9f69-666d644e5550",
   "metadata": {},
   "outputs": [],
   "source": [
    "%%writefile essai-map.s\n",
    "         .data\n",
    "invite: .asciz   \"Saisir une sequence de 10 entiers\"\n",
    "resultat: .asciz   \"Résultat :\"\n",
    "tab1:    .skip    10           @ tableau de 10 octets\n",
    "tab2:    .skip    10           @ tableau de 10 octets\n",
    "         .text\n",
    "         .global  main\n",
    "main:    push {lr}               \n",
    "         ldr      r1, LD_invite1\n",
    "         bl       EcrChaine\n",
    "         ldr      r0, LD_tab1\n",
    "         mov      r1, 10\n",
    "         bl       saisir_tab\n",
    "    @ début de l'appel de la procedure map(tab1, NMAX, tab2, plus_un)\n",
    "    \n",
    "    @@@@@@@@@@@@@@@@@\n",
    "    @@ à compléter @@\n",
    "    @@@@@@@@@@@@@@@@@\n",
    "    \n",
    "    @ fin de l'appel de la procédure map\n",
    "         ldr      r1, LD_resultat\n",
    "         bl       EcrChaine\n",
    "         ldr      r0, LD_tab2\n",
    "         mov      r1, 10\n",
    "         bl       afficher_tab\n",
    "         pop      {lr}     \n",
    "         bx       lr       \n",
    "LD_invite:   .word    invite\n",
    "LD_resultat: .word    resultat\n",
    "LD_tab1:     .word    tab1\n",
    "LD_tab2:     .word    tab2\n",
    "LD_plus_un:  .word    plus_un"
   ]
  },
  {
   "cell_type": "markdown",
   "id": "6345f4c7-d620-473e-9bcc-865d063c4739",
   "metadata": {},
   "source": [
    "Pour compiler votre fichier :"
   ]
  },
  {
   "cell_type": "code",
   "execution_count": null,
   "id": "aa0029aa-a050-46af-919b-33554c48feca",
   "metadata": {},
   "outputs": [],
   "source": [
    "%%sh\n",
    "arm-linux-gnueabi-gcc -static -c essai-map.s"
   ]
  },
  {
   "cell_type": "markdown",
   "id": "865cb20c-013f-4214-98e4-465ac394e958",
   "metadata": {},
   "source": [
    "## Exécution (et test) de Map\n",
    "\n",
    "Quand les deux précédents programmes sont terminés et compilent sans erreurs, vous pouvez tester l'ensemble :"
   ]
  },
  {
   "cell_type": "code",
   "execution_count": null,
   "id": "f8920384-5113-4d61-a422-dd7950ae2e1d",
   "metadata": {},
   "outputs": [],
   "source": [
    "%%sh \n",
    "rm -f essai-map\n",
    "arm-linux-gnueabi-gcc -static -c map.s\n",
    "arm-linux-gnueabi-gcc -static -c fg.s\n",
    "arm-linux-gnueabi-gcc -static -c essai-map.s\n",
    "arm-linux-gnueabi-gcc -static -c gestion_tab.s\n",
    "arm-linux-gnueabi-gcc -static -c es.s\n",
    "arm-linux-gnueabi-gcc -static map.o fg.o essai-map.o gestion_tab.o es.o -o essai-map\n",
    "echo \"0 1 2 3 4 5 6 7 8 9\" | qemu-arm essai-map"
   ]
  },
  {
   "cell_type": "markdown",
   "id": "4646ed99-7f81-4a60-b3dc-96cfd585d20c",
   "metadata": {},
   "source": [
    "( ** à compléter ** Commentaires ? Utilisation ? Limites ? )"
   ]
  },
  {
   "cell_type": "markdown",
   "id": "047e6c40-ccaf-44a2-9c8e-85332874a51c",
   "metadata": {},
   "source": [
    "## Conclusion\n",
    "\n",
    "  ** à compléter **\n",
    "\n",
    "(temps passé, organisations/méthodes employées, difficultées rencontrées, que retenir ?)\n"
   ]
  }
 ],
 "metadata": {
  "kernelspec": {
   "display_name": "Python 3 (ipykernel)",
   "language": "python",
   "name": "python3"
  },
  "language_info": {
   "codemirror_mode": {
    "name": "ipython",
    "version": 3
   },
   "file_extension": ".py",
   "mimetype": "text/x-python",
   "name": "python",
   "nbconvert_exporter": "python",
   "pygments_lexer": "ipython3",
   "version": "3.7.12"
  }
 },
 "nbformat": 4,
 "nbformat_minor": 5
}
