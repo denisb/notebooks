{
 "cells": [
  {
   "cell_type": "markdown",
   "id": "156b98b6-b04a-4174-a9ff-e358f6f637b7",
   "metadata": {},
   "source": [
    "# MAP (programmation fonctionnelle en ARM)\n",
    "\n",
    "Comment faire de la programmation fonctionnelle en ARM ?\n",
    "\n",
    "Prenons l'exemple de map :\n",
    "\n",
    "```\n",
    "map(t_in,n,t_out,f) :\n",
    "  pour i = 0..n-1 :\n",
    "    t_out[i] = f(t_in[i])\n",
    "```\n",
    "\n",
    "Pour traduire la boucle, nous utiliserons le registre R6 :\n",
    "```\n",
    "init:    mov R6,#0\n",
    "boucle:  cmp R6, n? @1\n",
    "         beq fin\n",
    "         @ corps de la boucle\n",
    "         add R6, R6, #1\n",
    "         b boucle \n",
    "fin:\n",
    "```\n",
    "\n",
    "Pour obtenir n et traduire le corps de la boucle il faut utiliser les paramètres de map. \n",
    "\n",
    "La méthode utilisée pour le passage des paramètres est une convention de passage par registres avec le premier paramètre dans R0, puis R1, etc.  :\n",
    "* R0 pour t_in\n",
    "* R1 pour n\n",
    "* R2 pour t_out\n",
    "* R3 pour f\n",
    "\n",
    "Pour n (@1), on aura donc R1.\n",
    "\n",
    "Pour l'accès à t[i], comme le tableau est un tableau d'entiers codés sur 1 octet, les adresses seront R0+R6 (ou R2+R6).\n",
    "\n",
    "Pour l'appel à f, la convention d'appel utilise aussi les registres :\n",
    "* R3 pour le paramètre\n",
    "* R4 pour le résultat\n",
    "\n",
    "Il y a un conflit d'utilisation pour R3 (adresse de f pour map, et paramètre de f en même temps). Pour résoudre ce conflit, on choisit de recopier l'adresse de f dans R7 (dans map).\n",
    "\n",
    "Le corps de la boucle se traduit donc :\n",
    "```\n",
    "  @t_out[i] = f(t_in[i])\n",
    "  ldrb R3,[R0,R6]\n",
    "  blx R7\n",
    "  strb R4,[R2,R6]\n",
    "```\n",
    "\n",
    "Le code complet (avec les prologues/épilogues nécessaires pour conserver les registres temporaires et les adresses de retour, nécessaire car appel imbriqué)"
   ]
  },
  {
   "cell_type": "code",
   "execution_count": 25,
   "id": "2c8cb941-f5fa-4fe4-a2d0-e8885adf342c",
   "metadata": {},
   "outputs": [
    {
     "name": "stdout",
     "output_type": "stream",
     "text": [
      "Overwriting map.s\n"
     ]
    }
   ],
   "source": [
    "%%writefile map.s\n",
    "         .text\n",
    "         .global  map\n",
    "map:     push {lr}\n",
    "         push {R3,R4,R6,R7}\n",
    "         mov R7, R3\n",
    "init:    mov R6,#0\n",
    "boucle:  cmp R6, R1\n",
    "         beq fin\n",
    "         ldrb R3,[R0,R6]\n",
    "         blx R7\n",
    "         strb R4,[R2,R6]\n",
    "         add R6, R6, #1\n",
    "         b boucle \n",
    "fin:\n",
    "         pop {R3,R4,R6,R7}\n",
    "         pop {lr}\n",
    "         bx lr"
   ]
  },
  {
   "cell_type": "markdown",
   "id": "c0b42f2c-3725-4367-8454-d191b1e95fa1",
   "metadata": {},
   "source": [
    "On peut vérifier que cela compile, mais pas encore que cela s'exécute :"
   ]
  },
  {
   "cell_type": "code",
   "execution_count": 10,
   "id": "6db1669a-0e1e-4306-82ec-aa3b181a8069",
   "metadata": {},
   "outputs": [],
   "source": [
    "%%sh\n",
    "arm-linux-gnueabi-gcc -static -c map.s"
   ]
  },
  {
   "cell_type": "markdown",
   "id": "46684657-014d-460b-86a2-a72e09385088",
   "metadata": {},
   "source": [
    "Pour exécuter, il faut aussi traduire l'appel à map, avec une fonction.\n",
    "\n",
    "La fonction est donnée dans fg.s :"
   ]
  },
  {
   "cell_type": "code",
   "execution_count": 8,
   "id": "781119e8-a940-4617-b543-742064afca24",
   "metadata": {},
   "outputs": [
    {
     "name": "stdout",
     "output_type": "stream",
     "text": [
      "Overwriting fg.s\n"
     ]
    }
   ],
   "source": [
    "%%writefile fg.s\n",
    "         .global plus_un, fois_deux\n",
    "         .text\n",
    "plus_un: add      r4, r3, #1\n",
    "         bx lr\n",
    "fois_deux: mov      r4, r3, LSL #1\n",
    "         bx lr"
   ]
  },
  {
   "cell_type": "markdown",
   "id": "2e469ee5-43f7-4620-b7aa-534262eea83a",
   "metadata": {},
   "source": [
    "Pour l'appel :\n",
    "```\n",
    "  ldr R0,LD_t_in\n",
    "  mov R1,#10\n",
    "  ldr R2, lD_t_out\n",
    "  ldr R3, plus_un\n",
    "  bl map\n",
    "```\n",
    "\n",
    "On peut donc maintenant lancer la compilation complète et exécuter :"
   ]
  },
  {
   "cell_type": "code",
   "execution_count": 27,
   "id": "a6e471b7-0ff5-4a4a-87d8-407c654feba8",
   "metadata": {},
   "outputs": [
    {
     "name": "stdout",
     "output_type": "stream",
     "text": [
      "Saisir une sequence de 10 entiers :\n",
      " \n",
      "Sequence donnee S :\n",
      "0 1 2 3 4 5 6 7 8 9  \n",
      " \n",
      "map(S, plus_un) :\n",
      "1 2 3 4 5 6 7 8 9 10  \n"
     ]
    }
   ],
   "source": [
    "%%sh \n",
    "arm-linux-gnueabi-gcc -static -c map.s\n",
    "arm-linux-gnueabi-gcc -static -c fg.s\n",
    "arm-linux-gnueabi-gcc -static -c essai-map.s\n",
    "arm-linux-gnueabi-gcc -static -c gestion_tab.s\n",
    "arm-linux-gnueabi-gcc -static -c es.s\n",
    "arm-linux-gnueabi-gcc -static map.o fg.o essai-map.o gestion_tab.o es.o -o essai-map\n",
    "echo \"0 1 2 3 4 5 6 7 8 9\" | qemu-arm essai-map"
   ]
  }
 ],
 "metadata": {
  "kernelspec": {
   "display_name": "Python 3 (ipykernel)",
   "language": "python",
   "name": "python3"
  },
  "language_info": {
   "codemirror_mode": {
    "name": "ipython",
    "version": 3
   },
   "file_extension": ".py",
   "mimetype": "text/x-python",
   "name": "python",
   "nbconvert_exporter": "python",
   "pygments_lexer": "ipython3",
   "version": "3.7.12"
  }
 },
 "nbformat": 4,
 "nbformat_minor": 5
}
