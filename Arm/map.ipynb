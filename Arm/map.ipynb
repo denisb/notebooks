{
 "cells": [
  {
   "cell_type": "markdown",
   "id": "156b98b6-b04a-4174-a9ff-e358f6f637b7",
   "metadata": {},
   "source": [
    "# MAP (programmation fonctionnelle en ARM)\n",
    "\n",
    "Comment faire de la programmation fonctionnelle en ARM ?\n",
    "\n",
    "Prenons l'exemple de map :\n",
    "\n",
    "```\n",
    "map(t_in,n,t_out,f) :\n",
    "  pour i = 0..n-1 :\n",
    "    t_out[i] = f(t_in[i])\n",
    "```\n",
    "\n",
    "Pour traduire la boucle, nous utiliserons le registre R6 :\n",
    "```\n",
    "init:    mov R6,#0\n",
    "boucle:  cmp R6, n? @1\n",
    "         beq fin\n",
    "         @ corps de la boucle\n",
    "         add R6, R6, #1\n",
    "         b boucle \n",
    "fin:\n",
    "```\n",
    "\n",
    "Pour obtenir n et traduire le corps de la boucle il faut utiliser les paramètres de map. \n",
    "\n",
    "La méthode utilisée pour le passage des paramètres est une convention de passage par registres avec le premier paramètre dans R0, puis R1, etc.  :\n",
    "* R0 pour t_in\n",
    "* R1 pour n\n",
    "* R2 pour t_2\n",
    "* R3 pour f\n",
    "\n",
    "Pour n (@1), on aura donc R1.\n",
    "\n",
    "Pour l'accès à t[i], comme le tableau est un tableau d'entiers codés sur 1 octet, les adresses seront R0+R6 (ou R2+R6).\n",
    "\n",
    "Pour l'appel à f, la convention d'appel utilise aussi les registres :\n",
    "* R3 pour le paramètre\n",
    "* R4 pour le résultat\n",
    "\n",
    "Il y a un conflit d'utilisation pour R3 (adresse de f pour map, et paramètre de f en même temps). Pour résoudre ce conflit, on choisit de recopier l'adresse de f dans R7 (dans map).\n",
    "\n",
    "Le corps de la boucle se traduit donc :\n",
    "```\n",
    "  @t_out[i] = f(t_in[i])\n",
    "  ldr R3,[R0,R6]\n",
    "  blx R7\n",
    "  str R4,[R2,R6]\n",
    "```\n",
    "\n",
    "Le code complet (avec les prologues/épilogues nécessaires pour conserver les registres temporaires et les adresses de retour, nécessaire car appel imbriqué)"
   ]
  },
  {
   "cell_type": "code",
   "execution_count": null,
   "id": "2c8cb941-f5fa-4fe4-a2d0-e8885adf342c",
   "metadata": {},
   "outputs": [],
   "source": [
    "%%writefile \n"
   ]
  }
 ],
 "metadata": {
  "kernelspec": {
   "display_name": "Python 3 (ipykernel)",
   "language": "python",
   "name": "python3"
  },
  "language_info": {
   "codemirror_mode": {
    "name": "ipython",
    "version": 3
   },
   "file_extension": ".py",
   "mimetype": "text/x-python",
   "name": "python",
   "nbconvert_exporter": "python",
   "pygments_lexer": "ipython3",
   "version": "3.7.12"
  }
 },
 "nbformat": 4,
 "nbformat_minor": 5
}
