{
 "cells": [
  {
   "cell_type": "code",
   "execution_count": 3,
   "metadata": {},
   "outputs": [
    {
     "name": "stdout",
     "output_type": "stream",
     "text": [
      "Overwriting bonjour.s\n"
     ]
    }
   ],
   "source": [
    "%%writefile bonjour.s\n",
    "  .global main\n",
    "  .data\n",
    "msg: .asciz \"Bonjour Denis\"\n",
    "  .text\n",
    "main:\n",
    "    push {lr}\n",
    "    ldr R1,LD_msg\n",
    "    bl EcrChaine\n",
    "    pop {lr}\n",
    "    bx lr\n",
    "    \n",
    "LD_msg: .word msg"
   ]
  },
  {
   "cell_type": "code",
   "execution_count": 4,
   "metadata": {},
   "outputs": [
    {
     "name": "stdout",
     "output_type": "stream",
     "text": [
      "Bonjour Denis\n",
      "(version arm)\n"
     ]
    }
   ],
   "source": [
    "%%sh\n",
    "rm -f bonjour.e\n",
    "arm-linux-gnueabi-gcc -static -c es.s\n",
    "arm-linux-gnueabi-gcc -static -c bonjour.s\n",
    "arm-linux-gnueabi-gcc -static bonjour.o es.o -o bonjour.e\n",
    "qemu-arm  bonjour.e\n",
    "echo \"(version arm)\""
   ]
  },
  {
   "cell_type": "code",
   "execution_count": 21,
   "metadata": {},
   "outputs": [
    {
     "name": "stdout",
     "output_type": "stream",
     "text": [
      "Overwriting bonjour.s\n"
     ]
    }
   ],
   "source": [
    "%%writefile bonjour.s\n",
    "  .global main\n",
    "  .data\n",
    "msg: .asciz \"Bonjour le monde\"\n",
    "  .text\n",
    "main:\n",
    "    push {lr}\n",
    "    ldr R5, LD_msg\n",
    "    add R5, R5, #11\n",
    "    ldr R6, [R5]\n",
    "    sub R6, R6, #32\n",
    "    str R6, [R5]\n",
    "    ldr R1,LD_msg\n",
    "    bl EcrChaine\n",
    "    pop {lr}\n",
    "    bx lr\n",
    "    \n",
    "LD_msg: .word msg"
   ]
  },
  {
   "cell_type": "code",
   "execution_count": 22,
   "metadata": {},
   "outputs": [
    {
     "name": "stdout",
     "output_type": "stream",
     "text": [
      "Bonjour le Monde\n",
      "(fin)\n"
     ]
    }
   ],
   "source": [
    "%%sh\n",
    "rm -f bonjour.e\n",
    "arm-linux-gnueabi-gcc -static -c es.s\n",
    "arm-linux-gnueabi-gcc -static -c bonjour.s\n",
    "arm-linux-gnueabi-gcc -static bonjour.o es.o -o bonjour.e\n",
    "qemu-arm  bonjour.e\n",
    "echo \"(fin)\""
   ]
  },
  {
   "cell_type": "code",
   "execution_count": 19,
   "metadata": {},
   "outputs": [
    {
     "name": "stdout",
     "output_type": "stream",
     "text": [
      "Overwriting bonjour.s\n"
     ]
    }
   ],
   "source": [
    "%%writefile bonjour.s\n",
    "  .global main\n",
    "  .data\n",
    "msg: .asciz \"Bonjour le monde\"\n",
    "  .text\n",
    "main:\n",
    "    push {lr}\n",
    "    ldr R5, LD_msg\n",
    "    add R5, R5, #11\n",
    "    mov R6, #'M'\n",
    "    str R6, [R5]\n",
    "    ldr R1,LD_msg\n",
    "    bl EcrChaine\n",
    "    pop {lr}\n",
    "    bx lr\n",
    "    \n",
    "LD_msg: .word msg"
   ]
  },
  {
   "cell_type": "code",
   "execution_count": 20,
   "metadata": {},
   "outputs": [
    {
     "name": "stdout",
     "output_type": "stream",
     "text": [
      "Bonjour le M\n",
      "(fin)\n"
     ]
    }
   ],
   "source": [
    "%%sh\n",
    "rm -f bonjour.e\n",
    "arm-linux-gnueabi-gcc -static -c es.s\n",
    "arm-linux-gnueabi-gcc -static -c bonjour.s\n",
    "arm-linux-gnueabi-gcc -static bonjour.o es.o -o bonjour.e\n",
    "qemu-arm  bonjour.e\n",
    "echo \"(fin)\""
   ]
  }
 ],
 "metadata": {
  "kernelspec": {
   "display_name": "Python 3",
   "language": "python",
   "name": "python3"
  },
  "language_info": {
   "codemirror_mode": {
    "name": "ipython",
    "version": 3
   },
   "file_extension": ".py",
   "mimetype": "text/x-python",
   "name": "python",
   "nbconvert_exporter": "python",
   "pygments_lexer": "ipython3",
   "version": "3.8.10"
  }
 },
 "nbformat": 4,
 "nbformat_minor": 4
}
