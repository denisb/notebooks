{
 "metadata": {
  "name": "",
  "signature": "sha256:40533759a2150ae2667a3da7f24257bef12b5912cf4fe95735ee20a85265e065"
 },
 "nbformat": 3,
 "nbformat_minor": 0,
 "worksheets": [
  {
   "cells": [
    {
     "cell_type": "markdown",
     "metadata": {},
     "source": [
      "# Probl\u00e8mes classiques de la programmation parall\u00e8le (avec Erlang)\n",
      "\n",
      "## Probl\u00e8me d'exclusion mutuelle simple (incr\u00e9mentation)\n",
      "\n",
      "Lors d'une incr\u00e9mentation N = N+1, il y a en fait 3 \u00e9tapes : lecture de la valeur N, calcul de la valeur N+1 et \u00e9criture du r\u00e9sultat pour N. \n",
      "\n",
      "Si N est une donn\u00e9e partag\u00e9e par plusieurs processus, il faut \u00e9viter que 2 processus veuillent effectuer ces trois \u00e9tapes \"en m\u00eame temps\", le r\u00e9sultat risque d'\u00eatre indetermin\u00e9.\n",
      "\n",
      "En Erlang, \u00e0 priori, il n'y a pas de donn\u00e9es partag\u00e9e, donc le probl\u00e8me ne devrait pas exister, mais deux processus s'ex\u00e9cutant en parall\u00e8le pourraient avoir envie d'incr\u00e9menter une m\u00eame donn\u00e9e (attribu\u00e9e \u00e0 un troisi\u00e8me processus) \"en m\u00eame temps\", est-ce que cela va entrainer un r\u00e9sultat ind\u00e9termin\u00e9 ?\n",
      "\n",
      "Pour simuler la situation, on va donc cr\u00e9er 3 processus P1, P2 et PN. PN va avoir une donn\u00e9e (N), initialis\u00e9e \u00e0 0 (par exemple). P1 et P2 vont demander \u00e0 PN d'incr\u00e9menter cette valeur. On verra ce que cela donne."
     ]
    },
    {
     "cell_type": "code",
     "collapsed": false,
     "input": [
      "-module(inc).\n",
      "-compile(export_all).\n",
      "\n",
      "init() ->\n",
      "  io:format(\"~n *** Nouvelle session *** ~n~n\",[]),\n",
      "  PN=spawn(inc,initN,[0]),\n",
      "  _P1=spawn(inc,initP,[PN,1]),\n",
      "  _P2=spawn(inc,initP,[PN,2]).\n",
      "    \n",
      "initN(N)->\n",
      "  receive \n",
      "    [inc,P] -> \n",
      "      io:format(\"N:~p + P:~p => N:~p~n\",[N,P,N+P]),\n",
      "      initN(N+P)\n",
      "    end.\n",
      "\n",
      "initP(N,P) ->\n",
      "  N ! [inc,P]."
     ],
     "language": "python",
     "metadata": {},
     "outputs": [
      {
       "html": [
        "<pre>Successfully Compiled</pre>"
       ],
       "metadata": {},
       "output_type": "pyout",
       "prompt_number": 94,
       "text": [
        "Successfully Compiled"
       ]
      }
     ],
     "prompt_number": 94
    },
    {
     "cell_type": "code",
     "collapsed": false,
     "input": [
      "inc:init()."
     ],
     "language": "python",
     "metadata": {},
     "outputs": [
      {
       "html": [
        "<pre><0.97.0></pre>"
       ],
       "metadata": {},
       "output_type": "pyout",
       "prompt_number": 20,
       "text": [
        "<0.97.0>"
       ]
      }
     ],
     "prompt_number": 20
    },
    {
     "cell_type": "markdown",
     "metadata": {},
     "source": [
      "Pour rajouter un peu de hasard, on va prendre un temps ind\u00e9finis pour faire le calcul et pour faire les appels."
     ]
    },
    {
     "cell_type": "code",
     "collapsed": false,
     "input": [
      "-module(inc).\n",
      "-compile(export_all).\n",
      "\n",
      "init() ->\n",
      "  io:format(\"~n *** Nouvelle session *** ~n~n\",[]),\n",
      "  PN=spawn(inc,initN,[0]),\n",
      "  _P1=spawn(inc,initP,[PN,1]),\n",
      "  _P2=spawn(inc,initP,[PN,2]).\n",
      "    \n",
      "initN(N)->\n",
      "  receive \n",
      "    [inc,P] -> \n",
      "      io:format(\"N:~p + P:~p => N:?~n\",[N,P]),\n",
      "      timer:sleep(1000*random:uniform(3)),\n",
      "      io:format(\"N:~p + P:~p => N:~p~n\",[N,P,N+P]),\n",
      "      initN(N+P)\n",
      "    end.\n",
      "\n",
      "initP(N,P) ->\n",
      "  random:seed(now()),\n",
      "  timer:sleep(1000*random:uniform(4)),\n",
      "  io:format(\"N:? + P:~p => N:?~n\",[P]),\n",
      "  N ! [inc,P]."
     ],
     "language": "python",
     "metadata": {},
     "outputs": [
      {
       "html": [
        "<pre>Successfully Compiled</pre>"
       ],
       "metadata": {},
       "output_type": "pyout",
       "prompt_number": 206,
       "text": [
        "Successfully Compiled"
       ]
      }
     ],
     "prompt_number": 206
    },
    {
     "cell_type": "code",
     "collapsed": false,
     "input": [
      "inc:init()."
     ],
     "language": "python",
     "metadata": {},
     "outputs": [
      {
       "html": [
        "<pre><0.456.0></pre>"
       ],
       "metadata": {},
       "output_type": "pyout",
       "prompt_number": 210,
       "text": [
        "<0.456.0>"
       ]
      }
     ],
     "prompt_number": 210
    },
    {
     "cell_type": "markdown",
     "metadata": {},
     "source": [
      "**Variante : Affichage des valeurs par les processus.**\n",
      "\n",
      "Dans la premi\u00e8re version, P1 et P2 en savent pas la valeur finale. On peut ajouter un message de retour pour ces processus avec la valeur finale, ou ajouter un autre \u00e9change possible avec PN pour consulter la valeur.\n",
      "\n",
      "Avec message de retour :"
     ]
    },
    {
     "cell_type": "code",
     "collapsed": false,
     "input": [
      "-module(inc).\n",
      "-compile(export_all).\n",
      "\n",
      "init() ->\n",
      "  io:format(\"~n *** Nouvelle session *** ~n~n\",[]),\n",
      "  PN=spawn(inc,initN,[0]),\n",
      "  _P1=spawn(inc,initP,[PN,1]),\n",
      "  _P2=spawn(inc,initP,[PN,2]).\n",
      "    \n",
      "initN(ValN)->\n",
      "  receive \n",
      "    [inc,ValP,ProcP] -> \n",
      "      io:format(\"N:~p + P:~p => N:~p~n\",[ValN,ValP,ValN+ValP]),\n",
      "      ProcP ! [val,ValN+ValP],\n",
      "      initN(ValN+ValP)\n",
      "    end.\n",
      "\n",
      "initP(ProcN,ValP) ->\n",
      "  ProcN ! [inc,ValP,self()],\n",
      "  receive\n",
      "    [val,X] -> io:format(\"N:? + P:~p => N:~p~n\",[ValP,X])\n",
      "  end."
     ],
     "language": "python",
     "metadata": {},
     "outputs": [
      {
       "html": [
        "<pre>Successfully Compiled</pre>"
       ],
       "metadata": {},
       "output_type": "pyout",
       "prompt_number": 96,
       "text": [
        "Successfully Compiled"
       ]
      }
     ],
     "prompt_number": 96
    },
    {
     "cell_type": "code",
     "collapsed": false,
     "input": [
      "inc:init()."
     ],
     "language": "python",
     "metadata": {},
     "outputs": [
      {
       "html": [
        "<pre><0.181.0></pre>"
       ],
       "metadata": {},
       "output_type": "pyout",
       "prompt_number": 88,
       "text": [
        "<0.181.0>"
       ]
      }
     ],
     "prompt_number": 88
    },
    {
     "cell_type": "markdown",
     "metadata": {},
     "source": [
      "Avec \u00e9change pour consulter la valeur :"
     ]
    },
    {
     "cell_type": "code",
     "collapsed": false,
     "input": [
      "-module(inc).\n",
      "-compile(export_all).\n",
      "\n",
      "init() ->\n",
      "  io:format(\"~n *** Nouvelle session *** ~n~n\",[]),\n",
      "  PN=spawn(inc,initN,[0]),\n",
      "  _P1=spawn(inc,initP,[PN,1]),\n",
      "  _P2=spawn(inc,initP,[PN,2]).\n",
      "    \n",
      "initN(ValN)->\n",
      "  receive \n",
      "    [inc,ValP] -> \n",
      "      io:format(\"N:~p + P:~p => N:~p~n\",[ValN,ValP,ValN+ValP]),\n",
      "      initN(ValN+ValP);\n",
      "    [consult,ProcP] ->\n",
      "      ProcP ! [val,ValN],\n",
      "      initN(ValN)    \n",
      "    end.\n",
      "\n",
      "initP(ProcN,ValP) ->\n",
      "  ProcN ! [inc,ValP],\n",
      "  ProcN ! [consult,self()],\n",
      "  receive\n",
      "    [val,X] -> io:format(\"N:? + P:~p => N:~p~n\",[ValP,X])\n",
      "  end."
     ],
     "language": "python",
     "metadata": {},
     "outputs": [
      {
       "html": [
        "<pre>Successfully Compiled</pre>"
       ],
       "metadata": {},
       "output_type": "pyout",
       "prompt_number": 97,
       "text": [
        "Successfully Compiled"
       ]
      }
     ],
     "prompt_number": 97
    },
    {
     "cell_type": "code",
     "collapsed": false,
     "input": [
      "inc:init()."
     ],
     "language": "python",
     "metadata": {},
     "outputs": [
      {
       "html": [
        "<pre><0.208.0></pre>"
       ],
       "metadata": {},
       "output_type": "pyout",
       "prompt_number": 100,
       "text": [
        "<0.208.0>"
       ]
      }
     ],
     "prompt_number": 100
    },
    {
     "cell_type": "markdown",
     "metadata": {},
     "source": [
      "**Variante : calcul par les processus**\n",
      "\n",
      "Si les processus P1 et P2 peuvent demander la valeur (commune), ils pourraient aussi faire des calculs et  la modifier ... :"
     ]
    },
    {
     "cell_type": "code",
     "collapsed": false,
     "input": [
      "-module(inc).\n",
      "-compile(export_all).\n",
      "\n",
      "init() ->\n",
      "  io:format(\"~n *** Nouvelle session *** ~n~n\",[]),\n",
      "  PN=spawn(inc,initN,[0]),\n",
      "  _P1=spawn(inc,initP,[PN,1]),\n",
      "  _P2=spawn(inc,initP,[PN,2]).\n",
      "\n",
      "    \n",
      "initN(ValN)->\n",
      "  receive \n",
      "    [consult,ProcP] ->\n",
      "      ProcP ! [val,ValN],\n",
      "      initN(ValN);    \n",
      "    [set,ValP] ->\n",
      "      io:format(\" . . . => N:~p~n\",[ValP]),\n",
      "      initN(ValP)    \n",
      "    end.\n",
      "\n",
      "initP(ProcN,ValP) ->\n",
      "  ProcN ! [consult,self()],\n",
      "  receive\n",
      "    [val,ValN] -> io:format(\"N:~p + P:~p => N:~p~n\",[ValN,ValP,ValN+ValP])\n",
      "  end,\n",
      "  ProcN ! [set,ValN+ValP]."
     ],
     "language": "python",
     "metadata": {},
     "outputs": [
      {
       "html": [
        "<pre>Successfully Compiled</pre>"
       ],
       "metadata": {},
       "output_type": "pyout",
       "prompt_number": 128,
       "text": [
        "Successfully Compiled"
       ]
      }
     ],
     "prompt_number": 128
    },
    {
     "cell_type": "code",
     "collapsed": false,
     "input": [
      "inc:init()."
     ],
     "language": "python",
     "metadata": {},
     "outputs": [
      {
       "html": [
        "<pre><0.285.0></pre>"
       ],
       "metadata": {},
       "output_type": "pyout",
       "prompt_number": 129,
       "text": [
        "<0.285.0>"
       ]
      }
     ],
     "prompt_number": 129
    },
    {
     "cell_type": "markdown",
     "metadata": {},
     "source": [
      "et cela peut marcher (ou pas) selon l'ordre dans lequel les processus se sont ex\u00e9cut\u00e9s en parall\u00e8le. Pour le voir, il faut ajouter un peu d'attente al\u00e9atoire dans l'ex\u00e9cutions des diff\u00e9rents moments du programme :"
     ]
    },
    {
     "cell_type": "code",
     "collapsed": false,
     "input": [
      "-module(inc).\n",
      "-compile(export_all).\n",
      "\n",
      "init() ->\n",
      "  io:format(\"~n *** Nouvelle session *** ~n~n\",[]),\n",
      "  PN=spawn(inc,initN,[0]),\n",
      "  _P1=spawn(inc,initP,[PN,1]),\n",
      "  _P2=spawn(inc,initP,[PN,2]).\n",
      "    \n",
      "initN(ValN)->\n",
      "  random:seed(now()),\n",
      "  timer:sleep(1000*random:uniform(2)),\n",
      "  receive \n",
      "    [consult,ProcP] ->\n",
      "      ProcP ! [val,ValN],\n",
      "      initN(ValN);    \n",
      "    [set,ValP] ->\n",
      "      io:format(\" . . . => N:~p~n\",[ValP]),\n",
      "      initN(ValP)    \n",
      "    end.\n",
      "\n",
      "initP(ProcN,ValP) ->\n",
      "  random:seed(now()),\n",
      "  timer:sleep(1000*random:uniform(5)),\n",
      "  ProcN ! [consult,self()],\n",
      "  receive\n",
      "    [val,ValN] -> io:format(\"N:~p + P:~p => N:~p~n\",[ValN,ValP,ValN+ValP])\n",
      "  end,\n",
      "  ProcN ! [set,ValN+ValP]."
     ],
     "language": "python",
     "metadata": {},
     "outputs": [
      {
       "html": [
        "<pre>Successfully Compiled</pre>"
       ],
       "metadata": {},
       "output_type": "pyout",
       "prompt_number": 12,
       "text": [
        "Successfully Compiled"
       ]
      }
     ],
     "prompt_number": 12
    },
    {
     "cell_type": "code",
     "collapsed": false,
     "input": [
      "inc:init()."
     ],
     "language": "python",
     "metadata": {},
     "outputs": [
      {
       "html": [
        "<pre><0.477.0></pre>"
       ],
       "metadata": {},
       "output_type": "pyout",
       "prompt_number": 218,
       "text": [
        "<0.477.0>"
       ]
      }
     ],
     "prompt_number": 218
    },
    {
     "cell_type": "markdown",
     "metadata": {},
     "source": [
      "selon votre chance (ou le hasard), vous aurez \u00e0 la fin :\n",
      "* N=1\n",
      "* N=2\n",
      "* N=3\n",
      "\n",
      "**Conclusion : ** au d\u00e9but, il n'y avait pas de probl\u00e8me, maintenant il y en a ! (les m\u00eames probl\u00e8mes que ceux de la programmation concurrente), *moralit\u00e9* : il vaut mieux laisser PN faire les calculs et s'arranger pour que ces calculs ne soient pas trop couteux, o\u00f9 mettre en place un protocole (comme en programmation concurrente classique) pour \u00e9viter les \"*race condition*\" (condition de course, concurences critiques). Et cela peut marcher pour plus de 2 processus ..."
     ]
    },
    {
     "cell_type": "code",
     "collapsed": false,
     "input": [
      "-module(inc).\n",
      "-compile(export_all).\n",
      "\n",
      "init() ->\n",
      "  io:format(\"~n *** Nouvelle session *** ~n~n\",[]),\n",
      "  ProcN=spawn(inc,initN,[0]),\n",
      "  genereDesP(1000,ProcN).\n",
      "\n",
      "genereDesP(0,_ProcN) -> nop;\n",
      "genereDesP(ValP,ProcN) ->\n",
      "  spawn(inc,initP,[ProcN,ValP]),\n",
      "  genereDesP(ValP-1,ProcN).\n",
      "    \n",
      "initN(N)->\n",
      "  receive \n",
      "    [inc,P] -> \n",
      "      io:format(\"N:~p + P:~p => N:~p~n\",[N,P,N+P]),\n",
      "      initN(N+P)\n",
      "    end.\n",
      "\n",
      "initP(N,P) ->\n",
      "  N ! [inc,P]."
     ],
     "language": "python",
     "metadata": {},
     "outputs": [
      {
       "html": [
        "<pre>Successfully Compiled</pre>"
       ],
       "metadata": {},
       "output_type": "pyout",
       "prompt_number": 9,
       "text": [
        "Successfully Compiled"
       ]
      }
     ],
     "prompt_number": 9
    },
    {
     "cell_type": "code",
     "collapsed": false,
     "input": [
      "inc:init()."
     ],
     "language": "python",
     "metadata": {},
     "outputs": [
      {
       "html": [
        "<pre>nop</pre>"
       ],
       "metadata": {},
       "output_type": "pyout",
       "prompt_number": 11,
       "text": [
        "nop"
       ]
      }
     ],
     "prompt_number": 11
    },
    {
     "cell_type": "markdown",
     "metadata": {},
     "source": [
      "(et l\u00e0, comme il y a beaucoup de processus, l'ordre est vraiment quelconque d'une fois sur l'autre, mais le r\u00e9sultat est toujours le m\u00eame).\n"
     ]
    },
    {
     "cell_type": "markdown",
     "metadata": {},
     "source": [
      "## 3 tiers\n",
      "\n",
      "On veut 3 processus, le premier g\u00e9n\u00e8re des nombres et les envoie au second processus. Le second processus transforme ces nombres et les transmets au troisi\u00e8me processus. Le troisi\u00e8me processus fait la somme de ce qu'il re\u00e7oit.\n",
      "\n",
      "Classiquement, les probl\u00e8mes qui peuvent se poser sont des probl\u00e8mes de synchronisation, de communication, de perte d'information ...\n",
      "\n",
      "Pour v\u00e9rifier que tout est ok, on supposera que P1 produit les entiers de 1 \u00e0 N, que P2 les multiplie par 2. Quand P1 aura fini, il pourra envoyer un signal de fin (eventuellement 2 fois si on a peur qu'il se perde). P1 sera donc un producteur, P2 \u00e0 la fois consommateur et producteur, et P3 un consommateur."
     ]
    },
    {
     "cell_type": "code",
     "collapsed": false,
     "input": [
      "-module(trois_tiers).\n",
      "-compile(export_all).\n",
      "\n",
      "init() ->\n",
      "  io:format(\"~n *** Nouvelle session *** ~n~n\",[]),\n",
      "  PConsommateur=spawn(trois_tiers,initC,[0]),\n",
      "  PConsommateurProducteur=spawn(trois_tiers,initCP,[PConsommateur]),\n",
      "  _PProducteur=spawn(trois_tiers,initP,[PConsommateurProducteur,1000]).\n",
      "    \n",
      "initP(_PFoisDeux,0) -> \n",
      "  nop;\n",
      "initP(PFoisDeux,N) ->\n",
      "  PFoisDeux ! [foisDeux,N],\n",
      "  initP(PFoisDeux,N-1).\n",
      "\n",
      "initCP(PSomme) ->\n",
      "  receive\n",
      "    [foisDeux,N] ->\n",
      "      PSomme ! [somme,2*N],\n",
      "      initCP(PSomme)\n",
      "  end.\n",
      "    \n",
      "initC(N)->\n",
      "  receive \n",
      "    [somme,P] -> \n",
      "      io:format(\"N:~p + P:~p => N:~p~n\",[N,P,N+P]),\n",
      "      initC(N+P)\n",
      "    end.\n",
      "\n"
     ],
     "language": "python",
     "metadata": {},
     "outputs": [
      {
       "html": [
        "<pre>Successfully Compiled</pre>"
       ],
       "metadata": {},
       "output_type": "pyout",
       "prompt_number": 32,
       "text": [
        "Successfully Compiled"
       ]
      }
     ],
     "prompt_number": 32
    },
    {
     "cell_type": "code",
     "collapsed": false,
     "input": [
      "trois_tiers:init()."
     ],
     "language": "python",
     "metadata": {},
     "outputs": [
      {
       "html": [
        "<pre><0.127.0></pre>"
       ],
       "metadata": {},
       "output_type": "pyout",
       "prompt_number": 33,
       "text": [
        "<0.127.0>"
       ]
      }
     ],
     "prompt_number": 33
    }
   ],
   "metadata": {}
  }
 ]
}