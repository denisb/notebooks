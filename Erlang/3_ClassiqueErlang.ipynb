{
 "metadata": {
  "name": "",
  "signature": "sha256:fe54efcd5d4ecbce87fd154c507b9b3c75eee8bed4e6a76315f60e913e0b909d"
 },
 "nbformat": 3,
 "nbformat_minor": 0,
 "worksheets": [
  {
   "cells": [
    {
     "cell_type": "markdown",
     "metadata": {},
     "source": [
      "# Algorithmique classique en Erlang (Mini-cours 3/5)\n",
      "\n",
      "Dans un vision classique de l'algorithmique, il suffit de savoir faire :\n",
      "* des expressions\n",
      "* des structures de donn\u00e9es\n",
      "* des s\u00e9quences\n",
      "* des conditionnelles\n",
      "* des boucles\n",
      "\n",
      "et pour aller un peu plus loin (vers la programmation) :\n",
      "* des proc\u00e9dures et fonctions\n",
      "\n",
      "Au del\u00e0 il y aura du parall\u00e9lisme, et c'est la partie sp\u00e9cifique/importante d'Erlang, mais ce sera pour le prochain \u00e9pisode.\n",
      "\n",
      "\n",
      "## Expression\n",
      "\n",
      "Ici, si l'on ne rentre pas dans les d\u00e9tails, pas grand chose \u00e0 dire, le comportement d'Erlang corespond \u00e0 ce que l'on attend."
     ]
    },
    {
     "cell_type": "code",
     "collapsed": false,
     "input": [
      "1+2+(3*4)+5."
     ],
     "language": "python",
     "metadata": {},
     "outputs": [
      {
       "html": [
        "20"
       ],
       "metadata": {},
       "output_type": "pyout",
       "prompt_number": 2,
       "text": [
        "20"
       ]
      }
     ],
     "prompt_number": 2
    },
    {
     "cell_type": "markdown",
     "metadata": {},
     "source": [
      "## Structure de donn\u00e9es\n",
      "Sur les **variables**, rappel, elles s'\u00e9crivent avec une majuscule en premi\u00e8re lettre (et les constantes avec une minuscule) et sont \u00e0 \"affectation unique\", la port\u00e9e de cette affecttion est limit\u00e9 par le corps de la fonction o\u00f9 la variable apparait (hors fonction, cela en fait des variables globales \u00e0 affectation unique, ce n'est pas forc\u00e9ment pratique, attention).\n",
      "\n",
      "Tableau, couple, liste, file, pile, arbres, graphe, ... il y a plusieur fa\u00e7on de les d\u00e9finir en Erlang, pour ce mini-cours j'utiliserais surtout les **listes** [] et [PremierElement | FinDeListe]. \n",
      "\n",
      "Remarque : la culture Erlang utilise aussi beaucoup les tuples (\u00e0 arit\u00e9 connue a priori), par ex. pour 3 \u00e9l\u00e9ments : {PremierElement, SecondElement, Troisi\u00e8meElement}. L'une des principales diff\u00e9rences entre list et tuple tient dans ce que les listes sont pr\u00e9vues pour \u00eatre r\u00e9cursives et permettre d'avoir un nombre quelconque d'\u00e9l\u00e9ments, l'acc\u00e9s aux \u00e9l\u00e9ments d'une liste se fait par d\u00e9composition r\u00e9cursive [PremierElement | FinDeListe] ; les tuples sont pr\u00e9vus pour avoir une arit\u00e9 fixe et connue. (c'est au niveau de l'impl\u00e9mentation que les diff\u00e9rences doivent apparaitre [?], l'usage pr\u00e9vue pour list et tuple \u00e9tant donn\u00e9s, si l'utilisateur respecte ces usages, alors les optimisations seront productives)\n",
      "\n",
      "Avec des listes, on peut faire beaucoup de choses, ..."
     ]
    },
    {
     "cell_type": "code",
     "collapsed": false,
     "input": [
      "[1,2,3,4]."
     ],
     "language": "python",
     "metadata": {},
     "outputs": [
      {
       "html": [
        "[1, 2, 3, 4]"
       ],
       "metadata": {},
       "output_type": "pyout",
       "prompt_number": 3,
       "text": [
        "[1, 2, 3, 4]"
       ]
      }
     ],
     "prompt_number": 3
    },
    {
     "cell_type": "code",
     "collapsed": false,
     "input": [
      "-module(alg).\n",
      "-compile(export_all).\n",
      "\n",
      "\n",
      "ajoutDebut(E,L) ->\n",
      "  [E|L].\n",
      "\n",
      "premierElement([E|_L]) ->\n",
      "  E."
     ],
     "language": "python",
     "metadata": {},
     "outputs": [
      {
       "html": [
        "<pre>Successfully Compiled</pre>"
       ],
       "metadata": {},
       "output_type": "pyout",
       "prompt_number": 2,
       "text": [
        "Successfully Compiled"
       ]
      }
     ],
     "prompt_number": 2
    },
    {
     "cell_type": "code",
     "collapsed": false,
     "input": [
      "alg:ajoutDebut(3,[4,5,6])."
     ],
     "language": "python",
     "metadata": {},
     "outputs": [
      {
       "html": [
        "[3, 4, 5, 6]"
       ],
       "metadata": {},
       "output_type": "pyout",
       "prompt_number": 5,
       "text": [
        "[3, 4, 5, 6]"
       ]
      }
     ],
     "prompt_number": 5
    },
    {
     "cell_type": "code",
     "collapsed": false,
     "input": [
      "alg:premierElement([3,4,5])."
     ],
     "language": "python",
     "metadata": {},
     "outputs": [
      {
       "html": [
        "3"
       ],
       "metadata": {},
       "output_type": "pyout",
       "prompt_number": 3,
       "text": [
        "3"
       ]
      }
     ],
     "prompt_number": 3
    },
    {
     "cell_type": "markdown",
     "metadata": {},
     "source": [
      "## S\u00e9quence\n",
      "La s\u00e9quence classique s'exprime par la virgule \",\" qui exprime un \"et\", mais pour un langage fonctionnel, il y a une seconde s\u00e9quence possible \u00e0 l'aide de la composition des fonctions.\n",
      "\n",
      "Pour faciliter la s\u00e9quence (classique), parfois on pourra utiliser une affectation explicite en introduisant une variable pour l'occasion, ou en effectuant une unification pour d\u00e9composer le r\u00e9sultat."
     ]
    },
    {
     "cell_type": "code",
     "collapsed": false,
     "input": [
      "-module(alg).\n",
      "-compile(export_all).\n",
      "\n",
      "inc(N) ->\n",
      "  N+1.\n",
      "    \n",
      "incincSeq(N) ->\n",
      "  M=inc(N),\n",
      "  inc(M).\n",
      "\n",
      "incincComp(N) ->\n",
      "  inc(inc(N))."
     ],
     "language": "python",
     "metadata": {},
     "outputs": [
      {
       "html": [
        "<pre>Successfully Compiled</pre>"
       ],
       "metadata": {},
       "output_type": "pyout",
       "prompt_number": 5,
       "text": [
        "Successfully Compiled"
       ]
      }
     ],
     "prompt_number": 5
    },
    {
     "cell_type": "code",
     "collapsed": false,
     "input": [
      "alg:incincComp(0)."
     ],
     "language": "python",
     "metadata": {},
     "outputs": [
      {
       "html": [
        "2"
       ],
       "metadata": {},
       "output_type": "pyout",
       "prompt_number": 6,
       "text": [
        "2"
       ]
      }
     ],
     "prompt_number": 6
    },
    {
     "cell_type": "code",
     "collapsed": false,
     "input": [
      "alg:incincSeq(0)."
     ],
     "language": "python",
     "metadata": {},
     "outputs": [
      {
       "html": [
        "2"
       ],
       "metadata": {},
       "output_type": "pyout",
       "prompt_number": 7,
       "text": [
        "2"
       ]
      }
     ],
     "prompt_number": 7
    },
    {
     "cell_type": "markdown",
     "metadata": {},
     "source": [
      "## Conditionnelle\n",
      "Il y a bien des \"if\" et des \"case\" en Erlang, mais on peut les \u00e9viter en utilisant des d\u00e9finitions par cas. C'est probablement plus dans l'esprit de la programmation fonctionnelle et permet de ne pas retomber dans les erreurs de la programmation classique.\n",
      "\n",
      "La d\u00e9finition par cas peut se faire \u00e0 l'aide de motifs d'unifications, mais parfois cela ne suffit pas, il y a alors encore les gardes (mot cl\u00e9 \"when\").\n",
      "\n",
      "Dans tous les cas, attention \u00e0 l'ordre de d\u00e9finition des diff\u00e9rents cas : la premi\u00e8re d\u00e9finition qui convient est celle qui est utilis\u00e9e (et on oublie les autres)."
     ]
    },
    {
     "cell_type": "code",
     "collapsed": false,
     "input": [
      "-module(alg).\n",
      "-compile(export_all).\n",
      "\n",
      "nul(0) ->\n",
      "  nul;\n",
      "nul(E) ->\n",
      "  nonNul.\n",
      "    \n",
      "eq(A,A) ->\n",
      "  eq;\n",
      "eq(A,B) ->\n",
      "  dif."
     ],
     "language": "python",
     "metadata": {},
     "outputs": [
      {
       "html": [
        "<pre>alg.erl:6: Warning: variable 'E' is unused<br />alg.erl:11: Warning: variable 'A' is unused<br />alg.erl:11: Warning: variable 'B' is unused<br /></pre>"
       ],
       "metadata": {},
       "output_type": "pyout",
       "prompt_number": 8,
       "text": [
        "alg.erl:6: Warning: variable 'E' is unused\n",
        "alg.erl:11: Warning: variable 'A' is unused\n",
        "alg.erl:11: Warning: variable 'B' is unused\n"
       ]
      }
     ],
     "prompt_number": 8
    },
    {
     "cell_type": "code",
     "collapsed": false,
     "input": [
      "alg:nul(0)."
     ],
     "language": "python",
     "metadata": {},
     "outputs": [
      {
       "html": [
        "<pre>nul</pre>"
       ],
       "metadata": {},
       "output_type": "pyout",
       "prompt_number": 11,
       "text": [
        "nul"
       ]
      }
     ],
     "prompt_number": 11
    },
    {
     "cell_type": "code",
     "collapsed": false,
     "input": [
      "alg:nul(10)."
     ],
     "language": "python",
     "metadata": {},
     "outputs": [
      {
       "html": [
        "<pre>nonNul</pre>"
       ],
       "metadata": {},
       "output_type": "pyout",
       "prompt_number": 12,
       "text": [
        "nonNul"
       ]
      }
     ],
     "prompt_number": 12
    },
    {
     "cell_type": "code",
     "collapsed": false,
     "input": [
      "alg:eq(2,2)."
     ],
     "language": "python",
     "metadata": {},
     "outputs": [
      {
       "html": [
        "<pre>eq</pre>"
       ],
       "metadata": {},
       "output_type": "pyout",
       "prompt_number": 9,
       "text": [
        "eq"
       ]
      }
     ],
     "prompt_number": 9
    },
    {
     "cell_type": "code",
     "collapsed": false,
     "input": [
      "alg:nul([0])."
     ],
     "language": "python",
     "metadata": {},
     "outputs": [
      {
       "html": [
        "<pre>nonNul</pre>"
       ],
       "metadata": {},
       "output_type": "pyout",
       "prompt_number": 13,
       "text": [
        "nonNul"
       ]
      }
     ],
     "prompt_number": 13
    },
    {
     "cell_type": "code",
     "collapsed": false,
     "input": [
      "alg:eq(1,2)."
     ],
     "language": "python",
     "metadata": {},
     "outputs": [
      {
       "html": [
        "<pre>dif</pre>"
       ],
       "metadata": {},
       "output_type": "pyout",
       "prompt_number": 10,
       "text": [
        "dif"
       ]
      }
     ],
     "prompt_number": 10
    },
    {
     "cell_type": "code",
     "collapsed": false,
     "input": [
      "-module(alg).\n",
      "-compile(export_all).\n",
      "\n",
      "\n",
      "maximum(A,B) when A>B ->\n",
      "  {first,A};\n",
      "maximum(A,B) when B>A ->\n",
      "  {second,B};\n",
      "maximum(A,A) ->\n",
      "  {equal,A}."
     ],
     "language": "python",
     "metadata": {},
     "outputs": [
      {
       "html": [
        "<pre>Successfully Compiled</pre>"
       ],
       "metadata": {},
       "output_type": "pyout",
       "prompt_number": 14,
       "text": [
        "Successfully Compiled"
       ]
      }
     ],
     "prompt_number": 14
    },
    {
     "cell_type": "code",
     "collapsed": false,
     "input": [
      "alg:maximum(1,1)."
     ],
     "language": "python",
     "metadata": {},
     "outputs": [
      {
       "html": [
        "<pre>{equal,1}</pre>"
       ],
       "metadata": {},
       "output_type": "pyout",
       "prompt_number": 15,
       "text": [
        "{equal,1}"
       ]
      }
     ],
     "prompt_number": 15
    },
    {
     "cell_type": "code",
     "collapsed": false,
     "input": [
      "alg:maximum(1,2)."
     ],
     "language": "python",
     "metadata": {},
     "outputs": [
      {
       "html": [
        "<pre>{second,2}</pre>"
       ],
       "metadata": {},
       "output_type": "pyout",
       "prompt_number": 16,
       "text": [
        "{second,2}"
       ]
      }
     ],
     "prompt_number": 16
    },
    {
     "cell_type": "code",
     "collapsed": false,
     "input": [
      "alg:maximum(3,1)."
     ],
     "language": "python",
     "metadata": {},
     "outputs": [
      {
       "html": [
        "<pre>{first,3}</pre>"
       ],
       "metadata": {},
       "output_type": "pyout",
       "prompt_number": 17,
       "text": [
        "{first,3}"
       ]
      }
     ],
     "prompt_number": 17
    },
    {
     "cell_type": "markdown",
     "metadata": {},
     "source": [
      "## Boucle\n",
      "Erlang a peut \u00eatre un \"loop\", \"while\", \"...\" quelque part, mais c'est bien cach\u00e9 ! il va falloir utiliser la r\u00e9cursivit\u00e9 ! combin\u00e9 avec une d\u00e9finition par cas : un cas sans r\u00e9cursivit\u00e9 (au moins si on veut s'arr\u00e9ter), un cas avec r\u00e9cursivit\u00e9 (au moins si on veut une r\u00e9p\u00e9tition).\n",
      "\n",
      "Les cas usuels de r\u00e9cursivit\u00e9 :\n",
      "* r\u00e9cursivit\u00e9 sur les entiers : on s'arr\u00eate avec 0, ou 1, on fait un appel r\u00e9cursif sur N-1\n",
      "* r\u00e9cursivit\u00e9 sur les listes : on s'arr\u00eate avec [] ou [E], on fait un appel r\u00e9cursif sur FinDeListe\n",
      "\n",
      "Le mieux : s'arr\u00e9ter le plus tard possible (0, []) m\u00eame si ce que l'on fait avec 0 ou [] semble stupide (en g\u00e9n\u00e9ral il n'y a rien \u00e0 faire, au moins comme cela on risque de ne pas se tromper, et c'est plus simple)\n",
      "\n",
      "L'algorithmique se ram\u00e8ne donc souvent \u00e0 une affaire de r\u00e9cursivit\u00e9. Reste \u00e0 ma\u00eetriser la r\u00e9cursivit\u00e9 ! Ce n'est pas si compliqu\u00e9, il s'agit de choisir un param\u00e8tre et tenter une analyse r\u00e9cursive de ce param\u00e8tre (ne pas oublier que le r\u00e9sultat peut aussi servir de param\u00e8tre).\n",
      "\n",
      "Remarque : pour aller plus loin/plus vite, il faudra regarder une d\u00e9composition r\u00e9cursive peut-\u00eatre plus efficace (?), par exemple en passant de N \u00e0 N/2, ou d'une liste \u00e0 la moiti\u00e9 de la liste ... (principe dichotomique)."
     ]
    },
    {
     "cell_type": "code",
     "collapsed": false,
     "input": [
      "-module(alg).\n",
      "-compile(export_all).\n",
      "\n",
      "sommeEntiers(0) ->\n",
      "  0;\n",
      "sommeEntiers(N) ->\n",
      "  N+sommeEntiers(N-1)."
     ],
     "language": "python",
     "metadata": {},
     "outputs": [
      {
       "html": [
        "<pre>Successfully Compiled</pre>"
       ],
       "metadata": {},
       "output_type": "pyout",
       "prompt_number": 18,
       "text": [
        "Successfully Compiled"
       ]
      }
     ],
     "prompt_number": 18
    },
    {
     "cell_type": "code",
     "collapsed": false,
     "input": [
      " alg:sommeEntiers(10)."
     ],
     "language": "python",
     "metadata": {},
     "outputs": [
      {
       "html": [
        "55"
       ],
       "metadata": {},
       "output_type": "pyout",
       "prompt_number": 19,
       "text": [
        "55"
       ]
      }
     ],
     "prompt_number": 19
    },
    {
     "cell_type": "code",
     "collapsed": false,
     "input": [
      "-module(alg).\n",
      "-compile(export_all).\n",
      "\n",
      "\n",
      "ajoutFin(E,[]) ->\n",
      "  [E];\n",
      "ajoutFin(E,[PremierElement|FinDeListe]) ->\n",
      "  [PremierElement|ajoutFin(E,FinDeListe)].\n"
     ],
     "language": "python",
     "metadata": {},
     "outputs": [
      {
       "html": [
        "<pre>Successfully Compiled</pre>"
       ],
       "metadata": {},
       "output_type": "pyout",
       "prompt_number": 20,
       "text": [
        "Successfully Compiled"
       ]
      }
     ],
     "prompt_number": 20
    },
    {
     "cell_type": "code",
     "collapsed": false,
     "input": [
      "alg:ajoutFin(3,[])."
     ],
     "language": "python",
     "metadata": {},
     "outputs": [
      {
       "html": [
        "[3]"
       ],
       "metadata": {},
       "output_type": "pyout",
       "prompt_number": 21,
       "text": [
        "[3]"
       ]
      }
     ],
     "prompt_number": 21
    },
    {
     "cell_type": "code",
     "collapsed": false,
     "input": [
      "alg:ajoutFin(3,[1,2,4,5])."
     ],
     "language": "python",
     "metadata": {},
     "outputs": [
      {
       "html": [
        "[1, 2, 4, 5, 3]"
       ],
       "metadata": {},
       "output_type": "pyout",
       "prompt_number": 22,
       "text": [
        "[1, 2, 4, 5, 3]"
       ]
      }
     ],
     "prompt_number": 22
    },
    {
     "cell_type": "markdown",
     "metadata": {},
     "source": [
      "### Variabilit\u00e9 des r\u00e9cursivit\u00e9s\n",
      "\n",
      "Cas de base (sans r\u00e9cursivit\u00e9)\n",
      "* []\n",
      "* [E]\n",
      "* [E|L]\n",
      "* cas de base unique ou multiples\n",
      "\n",
      "Cas de propagation (avec r\u00e9cursivit\u00e9)\n",
      "* [E|L] et appel r\u00e9cursif sur L\n",
      "* [E,F|L] et appel r\u00e9cursif sur L, [E|L] ou [F|L]\n",
      "* L, extraction de SL \u00e0 partir de L ou s\u00e9paration de L en L1 et L2, puis appel r\u00e9cursif sur SL, L1 et/ou L2\n",
      "* cas de propagation unique ou multiple\n",
      "* appel r\u00e9cursif unique ou multiple\n",
      "\n",
      "Il y a une grande vari\u00e9t\u00e9 de r\u00e9cursivit\u00e9. \n",
      "( + il y a parfois ajout de variables suppl\u00e9mentaires \"locale\", \"accumulateur\", \"tmp\", ...)\n",
      "\n",
      "Au final, ce qui nous int\u00e9resse c'est d'\u00eatre s\u00fbr que notre algorithme :\n",
      "* termine (probl\u00e8me de la terminaison)\n",
      "* avec une proposition de r\u00e9sultat (probl\u00e8me de la compl\u00e9tude)\n",
      "* et que c'est une solution (probl\u00e8me de la correction)"
     ]
    },
    {
     "cell_type": "markdown",
     "metadata": {},
     "source": [
      "## Quelques exemples complets : tris (valeurs croissantes)\n",
      "\n",
      "Faisons un tri par insertion ...\n"
     ]
    },
    {
     "cell_type": "code",
     "collapsed": false,
     "input": [
      "-module(alg).\n",
      "-compile(export_all).\n",
      "\n",
      "insere(E,[]) ->\n",
      "  [E];\n",
      "insere(E,[PremierElementTrie|FinDeListeTriee]) when E > PremierElementTrie ->\n",
      "  [PremierElementTrie|insere(E,FinDeListeTriee)];\n",
      "insere(E,[PremierElementTrie|FinDeListeTriee]) ->\n",
      "  [E,PremierElementTrie|FinDeListeTriee].\n",
      "\n",
      "tri([]) ->\n",
      "  [];\n",
      "tri([E|L]) ->\n",
      "  insere(E,tri(L)).\n"
     ],
     "language": "python",
     "metadata": {},
     "outputs": [
      {
       "html": [
        "<pre>Successfully Compiled</pre>"
       ],
       "metadata": {},
       "output_type": "pyout",
       "prompt_number": 24,
       "text": [
        "Successfully Compiled"
       ]
      }
     ],
     "prompt_number": 24
    },
    {
     "cell_type": "code",
     "collapsed": false,
     "input": [
      "alg:tri([])."
     ],
     "language": "python",
     "metadata": {},
     "outputs": [
      {
       "html": [
        "[]"
       ],
       "metadata": {},
       "output_type": "pyout",
       "prompt_number": 25,
       "text": [
        "[]"
       ]
      }
     ],
     "prompt_number": 25
    },
    {
     "cell_type": "code",
     "collapsed": false,
     "input": [
      "alg:tri([3,2,5,5,3,2,1])."
     ],
     "language": "python",
     "metadata": {},
     "outputs": [
      {
       "html": [
        "[1, 2, 2, 3, 3, 5, 5]"
       ],
       "metadata": {},
       "output_type": "pyout",
       "prompt_number": 26,
       "text": [
        "[1, 2, 2, 3, 3, 5, 5]"
       ]
      }
     ],
     "prompt_number": 26
    },
    {
     "cell_type": "markdown",
     "metadata": {},
     "source": [
      "Pour un exemple plus complet, faison un tri fusion :"
     ]
    },
    {
     "cell_type": "code",
     "collapsed": false,
     "input": [
      "-module(alg).\n",
      "-compile(export_all).\n",
      "\n",
      "tri([]) -> \n",
      "  [];\n",
      "tri([E]) -> \n",
      "  [E];\n",
      "tri(L) ->\n",
      "  [L1,L2]=separe(L),\n",
      "  T1=tri(L1),\n",
      "  T2=tri(L2),\n",
      "  fusion(T1,T2).\n",
      "\n",
      "separe([])->\n",
      "  [[],[]];\n",
      "separe([E])->\n",
      "  [[E],[]];\n",
      "separe([E,F|L])->\n",
      "  [L1,L2]=separe(L),\n",
      "  [[E|L1],[F|L2]].\n",
      "\n",
      "fusion(T,[]) ->\n",
      "  T;\n",
      "fusion([],T) ->\n",
      "  T;\n",
      "fusion([E|TE],[F|TF]) when E < F ->\n",
      "  [E|fusion(TE,[F|TF])];\n",
      "fusion([E|TE],[F|TF]) ->\n",
      "  [F|fusion([E|TE],TF)]."
     ],
     "language": "python",
     "metadata": {},
     "outputs": [
      {
       "html": [
        "<pre>Successfully Compiled</pre>"
       ],
       "metadata": {},
       "output_type": "pyout",
       "prompt_number": 27,
       "text": [
        "Successfully Compiled"
       ]
      }
     ],
     "prompt_number": 27
    },
    {
     "cell_type": "code",
     "collapsed": false,
     "input": [
      "alg:tri([])."
     ],
     "language": "python",
     "metadata": {},
     "outputs": [
      {
       "html": [
        "[]"
       ],
       "metadata": {},
       "output_type": "pyout",
       "prompt_number": 28,
       "text": [
        "[]"
       ]
      }
     ],
     "prompt_number": 28
    },
    {
     "cell_type": "code",
     "collapsed": false,
     "input": [
      "alg:tri([2,4,3,1,34,3])."
     ],
     "language": "python",
     "metadata": {},
     "outputs": [
      {
       "html": [
        "[1, 2, 3, 3, 4, 34]"
       ],
       "metadata": {},
       "output_type": "pyout",
       "prompt_number": 29,
       "text": [
        "[1, 2, 3, 3, 4, 34]"
       ]
      }
     ],
     "prompt_number": 29
    }
   ],
   "metadata": {}
  }
 ]
}