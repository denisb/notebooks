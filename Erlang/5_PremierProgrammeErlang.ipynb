{
 "metadata": {
  "name": "",
  "signature": "sha256:72c76d27c36f5ff95f0d1399bb208167a6a02dd2060a07488b2a4ac5842569f1"
 },
 "nbformat": 3,
 "nbformat_minor": 0,
 "worksheets": [
  {
   "cells": [
    {
     "cell_type": "markdown",
     "metadata": {},
     "source": [
      "# Premier programme enregistr\u00e9 en Erlang\n",
      "## Le premier programme enregistr\u00e9 (Machine de Manchester, SSEM, 1948)\n",
      "\n",
      "\"Le premier programme enregistr\u00e9 consistait en 17 instructions, il fut \u00e9crit par Kilburn et fonctionna le 21 juin 194827. Il \u00e9tait con\u00e7u pour trouver le plus grand facteur propre de 2^18 (262 144) en essayant tous les entiers \u00e0 partir de 2^18\u22121 dans l'ordre d\u00e9croissant. Les divisions \u00e9taient r\u00e9alis\u00e9es par des soustractions it\u00e9r\u00e9es du diviseur. La SSEM prit 3,5 millions d'op\u00e9rations et 52 minutes pour trouver la solution (131 072).\" (d'apr\u00e8s wikip\u00e9dia)\n",
      "\n",
      "Le programme \u00e9tait ecrit en binaire (\u00e0 peine du langage machine, le concept n'existait pas encore !), il comportait un double boucle : \n",
      "* l'une pour \u00e9valuer les nombres 2^18\u22121, 2^18\u22122, 2^18\u22123, et savoir si l'un \u00e9tait un diviseur de 2^18... (ce sera la fonction principale : soustraction)\n",
      "* l'autre pour effectuer une division par soustractions it\u00e9r\u00e9es (ce sera la fonction annexe division)\n",
      "\n",
      "pour plus de d\u00e9tails : https://en.wikipedia.org/wiki/Talk:Manchester_Small-Scale_Experimental_Machine#First_program_source_code\n",
      "\n",
      "En Erlang, on peut imaginer le programme suivant (sous forme classique, en respectant le fait que la machine originale ne savait pas faire d'addition ! seulement des soustractions, pour le reste, il faut adapter, on ne va pas ecrire de l'assembleur, et on n'a pas de boucle ...) :"
     ]
    },
    {
     "cell_type": "code",
     "collapsed": false,
     "input": [
      "-module(pre).\n",
      "-compile(export_all).\n",
      "\n",
      "\n",
      "division(Acc,_B) when Acc < 0 -> Acc ;\n",
      "division(Acc,B) -> division(Acc - B, B).\n",
      "\n",
      "soustraction(_MinusA,_B,MinusB,Acc) when Acc >= 0 -> -(MinusB-1);\n",
      "soustraction(MinusA,B,MinusB,_Acc) ->\n",
      "  Rem = division(-MinusA,B)-MinusB,\n",
      "  ProchB = - MinusB -1,\n",
      "  ProchMinusB = - ProchB,\n",
      "  soustraction(MinusA,ProchB,ProchMinusB,-Rem)."
     ],
     "language": "python",
     "metadata": {},
     "outputs": [
      {
       "html": [
        "<pre>Successfully Compiled</pre>"
       ],
       "metadata": {},
       "output_type": "pyout",
       "prompt_number": 27,
       "text": [
        "Successfully Compiled"
       ]
      }
     ],
     "prompt_number": 27
    },
    {
     "cell_type": "code",
     "collapsed": false,
     "input": [
      "pre:division(100,99)."
     ],
     "language": "python",
     "metadata": {},
     "outputs": [
      {
       "html": [
        "-98"
       ],
       "metadata": {},
       "output_type": "pyout",
       "prompt_number": 12,
       "text": [
        "-98"
       ]
      }
     ],
     "prompt_number": 12
    },
    {
     "cell_type": "code",
     "collapsed": false,
     "input": [
      "pre:soustraction(-262144,262143,-262143,-1)."
     ],
     "language": "python",
     "metadata": {},
     "outputs": [
      {
       "html": [
        "131072"
       ],
       "metadata": {},
       "output_type": "pyout",
       "prompt_number": 28,
       "text": [
        "131072"
       ]
      }
     ],
     "prompt_number": 28
    },
    {
     "cell_type": "code",
     "collapsed": false,
     "input": [
      "pre:soustraction(-4294967296,4294967295,-4294967295,-1)."
     ],
     "language": "python",
     "metadata": {},
     "outputs": [
      {
       "html": [
        "2147483648"
       ],
       "metadata": {},
       "output_type": "pyout",
       "prompt_number": 30,
       "text": [
        "2147483648"
       ]
      }
     ],
     "prompt_number": 30
    },
    {
     "cell_type": "markdown",
     "metadata": {},
     "source": [
      "Le calcul original (avec 2^18) prends un instant, avec 2^32 il est un peu plus long (2 minutes), mais on peut essayer de faire mieux ... (le cpu n'est qu'\u00e0 20-25% d'utilisation !)\n",
      "\n",
      "## Travail collaboratif selon le mod\u00e8le des producteurs-consommateurs\n",
      "Quand beaucoup de calculs sont n\u00e9cessaires, et qu'une machine ne suffit plus (ou un coeur), il faut penser un peu diff\u00e9rement. Comment d\u00e9couper le travail pour que chacun puisse faire un bout.\n",
      "\n",
      "Erlang est con\u00e7u pour une utilisation parall\u00e8le selon un mod\u00e8le d'acteurs (c'est vague, cela laisse beaucoup de libert\u00e9).\n",
      "\n",
      "Le mod\u00e8le d'ex\u00e9cution en parall\u00e8le que je conseille est plut\u00f4t celui des producteurs-consommateurs (il y a eu une mode \"map-reduce\" qui pourrait servir aussi, \u00e0 explorer \u00e9ventuellement)\n",
      "\n",
      "Dans le mod\u00e8le producteurs-consommateurs, il faut identifier la/les entit\u00e9s qui pourraient produire des donn\u00e9es et celle/s qui pourraient les consommer (dans une organisation globale qui d\u00e9finit des flux de donn\u00e9es (dataflow) ou des flux de travaux (workflow), qui sont des organisations assez naturelles)\n",
      "\n",
      "Le sch\u00e9ma g\u00e9n\u00e9ral, peut donc \u00eatre le suivant (pour le cas d'un producteur unique et d'un consommateur unique), avec le consommateur charg\u00e9 de la mise en place du lien producteur-consommateur :"
     ]
    },
    {
     "cell_type": "code",
     "collapsed": false,
     "input": [
      "-module(pre).\n",
      "-compile(export_all).\n",
      "\n",
      "\n",
      "producteur(Donnees,Consommateur) -> \n",
      "  Resultat = Donnees*3,\n",
      "  Consommateur ! Resultat.\n",
      "\n",
      "consommateur(N) ->\n",
      "  spawn(pre,producteur,[N,self()]),\n",
      "  receive \n",
      "    Recu -> Resultat = Recu + 1,\n",
      "      Resultat\n",
      "  end.\n",
      "    "
     ],
     "language": "python",
     "metadata": {},
     "outputs": [
      {
       "html": [
        "<pre>Successfully Compiled</pre>"
       ],
       "metadata": {},
       "output_type": "pyout",
       "prompt_number": 31,
       "text": [
        "Successfully Compiled"
       ]
      }
     ],
     "prompt_number": 31
    },
    {
     "cell_type": "code",
     "collapsed": false,
     "input": [
      "pre:consommateur(2)."
     ],
     "language": "python",
     "metadata": {},
     "outputs": [
      {
       "html": [
        "7"
       ],
       "metadata": {},
       "output_type": "pyout",
       "prompt_number": 30,
       "text": [
        "7"
       ]
      }
     ],
     "prompt_number": 30
    },
    {
     "cell_type": "markdown",
     "metadata": {},
     "source": [
      "Ici, le gain ne peut pas \u00eatre tr\u00e9s important, la charge (de calcul) est au plus r\u00e9partie entre 2 entit\u00e9s. \n",
      "\n",
      "Pour \u00eatre plus efficace il faut imaginer plusieurs producteurs ou plusieurs consommateurs (et que chacun puisse travailler de son cot\u00e9 sans trop communiquer)\n",
      "\n",
      "## Cas du premier programme enregistr\u00e9\n",
      "\n",
      "Si l'on cherche o\u00f9 peuvent \u00eatre les producteurs et consommateurs, dans le cas du premier programme enregistr\u00e9, la division prends beaucoup de ressources, on peut essayer de paraliser son activit\u00e9, par exemple en temps que producteur (\u00e0 partir d'un entier produire le resultat de la division). Le consommateur peut donc demander \u00e0 plusieurs producteur des r\u00e9sultats de division, et le consommateur regardera si l'un de ces r\u00e9sultats est nul. Si chaque producteur n'effectue qu'une seule division, cela ne fait pas un gros travail, il y aura beaucoup de producteur \u00e0 lancer et le consommateur aura aussi beaucop de travail.\n",
      "\n",
      "Version avec un seul producteur (gain nul, c'est juste pour voir la modification) :"
     ]
    },
    {
     "cell_type": "code",
     "collapsed": false,
     "input": [
      "-module(pre).\n",
      "-compile(export_all).\n",
      "\n",
      "\n",
      "division(Acc,_B,Consommateur) when Acc < 0 -> Consommateur!Acc ;\n",
      "division(Acc,B,Consommateur) -> division(Acc - B, B, Consommateur).\n",
      "\n",
      "soustraction(_MinusA,_B,MinusB,Acc) when Acc >= 0 -> -(MinusB-1);\n",
      "soustraction(MinusA,B,MinusB,_Acc) ->\n",
      "  spawn(pre,division,[-MinusA,B,self()]),\n",
      "  receive \n",
      "    Resultat ->\n",
      "      Rem = Resultat-MinusB,\n",
      "      ProchB = - MinusB -1,\n",
      "      ProchMinusB = - ProchB,\n",
      "      soustraction(MinusA,ProchB,ProchMinusB,-Rem)\n",
      "  end."
     ],
     "language": "python",
     "metadata": {},
     "outputs": [
      {
       "html": [
        "<pre>Successfully Compiled</pre>"
       ],
       "metadata": {},
       "output_type": "pyout",
       "prompt_number": 6,
       "text": [
        "Successfully Compiled"
       ]
      }
     ],
     "prompt_number": 6
    },
    {
     "cell_type": "code",
     "collapsed": false,
     "input": [
      "pre:soustraction(-262144,262143,-262143,-1)."
     ],
     "language": "python",
     "metadata": {},
     "outputs": [
      {
       "html": [
        "131072"
       ],
       "metadata": {},
       "output_type": "pyout",
       "prompt_number": 7,
       "text": [
        "131072"
       ]
      }
     ],
     "prompt_number": 7
    },
    {
     "cell_type": "code",
     "collapsed": false,
     "input": [
      "pre:soustraction(-4294967296,4294967295,-4294967295,-1)."
     ],
     "language": "python",
     "metadata": {},
     "outputs": []
    },
    {
     "cell_type": "markdown",
     "metadata": {},
     "source": [
      "Le surco\u00fbt en terme de gestion de processus est effectivement important (l'ex\u00e9cution prends plus de 4 minutes !)\n",
      "\n",
      "Si l'on r\u00e9partie l'ensemble des nombres entre les nombres pairs et les nombres impairs (et plus tard entre plusieurs classes de nombres modulo K), et que l'on charge chaque producteur d'expertiser (division et soustraction), cela fait plus de travail (et moins de surco\u00fbt de gestion en proportion).\n",
      "\n",
      "Version avec une gestion s\u00e9par\u00e9e pair/impair (gain 2 au max) :\n"
     ]
    },
    {
     "cell_type": "code",
     "collapsed": false,
     "input": [
      "-module(pre).\n",
      "-compile(export_all).\n",
      "\n",
      "division(Acc,_B) when Acc < 0 -> Acc ;\n",
      "division(Acc,B) -> division(Acc - B, B).\n",
      "\n",
      "soustraction(_MinusA,_B,MinusB,Acc) when Acc >= 0 -> -(MinusB-2);\n",
      "soustraction(MinusA,B,MinusB,_Acc) when B >0 ->\n",
      "  Rem = division(-MinusA,B)-MinusB,\n",
      "  ProchB = - MinusB -2,\n",
      "  ProchMinusB = - ProchB,\n",
      "  soustraction(MinusA,ProchB,ProchMinusB,-Rem);\n",
      "soustraction(_MinusA,_B,_MinusB,_Acc) -> 0.\n",
      "\n",
      "producteur(MinusA,B,MinusB,_Acc,Consommateur) -> \n",
      "  Consommateur!soustraction(MinusA,B,MinusB,_Acc).\n",
      "\n",
      "consommateur(A) ->\n",
      "  P1=spawn(pre,producteur,[-A,A-1,-(A-1),-1,self()]),\n",
      "  P2=spawn(pre,producteur,[-A,A-2,-(A-2),-1,self()]),\n",
      "  receive \n",
      "    0 -> receive\n",
      "      Resultat2 -> Resultat2 end;\n",
      "    Resultat1 -> exit(P1,kill), exit(P2,kill), Resultat1\n",
      "  end."
     ],
     "language": "python",
     "metadata": {},
     "outputs": [
      {
       "html": [
        "<pre>Successfully Compiled</pre>"
       ],
       "metadata": {},
       "output_type": "pyout",
       "prompt_number": 1,
       "text": [
        "Successfully Compiled"
       ]
      }
     ],
     "prompt_number": 1
    },
    {
     "cell_type": "code",
     "collapsed": false,
     "input": [
      "pre:consommateur(262144)."
     ],
     "language": "python",
     "metadata": {},
     "outputs": [
      {
       "html": [
        "131072"
       ],
       "metadata": {},
       "output_type": "pyout",
       "prompt_number": 3,
       "text": [
        "131072"
       ]
      }
     ],
     "prompt_number": 3
    },
    {
     "cell_type": "code",
     "collapsed": false,
     "input": [
      "pre:consommateur(4294967296)."
     ],
     "language": "python",
     "metadata": {},
     "outputs": [
      {
       "html": [
        "2147483648"
       ],
       "metadata": {},
       "output_type": "pyout",
       "prompt_number": 4,
       "text": [
        "2147483648"
       ]
      }
     ],
     "prompt_number": 4
    },
    {
     "cell_type": "markdown",
     "metadata": {},
     "source": [
      "Le temps de calcul est bien divis\u00e9 par 2.\n",
      "\n",
      "On peut aller plus loin, en faisant un d\u00e9coupage en N (dynamique, en extrapolant ce qui pr\u00e9c\u00e8de [d\u00e9sol\u00e9, cela devient moins facile \u00e0 lire]) :"
     ]
    },
    {
     "cell_type": "code",
     "collapsed": false,
     "input": [
      "-module(pre).\n",
      "-compile(export_all).\n",
      "\n",
      "division(Acc,_B) when Acc < 0 -> Acc ;\n",
      "division(Acc,B) -> division(Acc - B, B).\n",
      "\n",
      "soustraction(_MinusA,N,_B,MinusB,Acc,Consommateur) when Acc >= 0 -> Consommateur!-(MinusB-N);\n",
      "soustraction(MinusA,N,B,MinusB,_Acc,Consommateur) ->\n",
      "  Rem = division(-MinusA,B)-MinusB,\n",
      "  ProchB = - MinusB -N,\n",
      "  ProchMinusB = - ProchB,\n",
      "  soustraction(MinusA,N,ProchB,ProchMinusB,-Rem,Consommateur).    \n",
      "\n",
      "genereProd(_A,_N,_B,Spawns,0) ->\n",
      "  Spawns;\n",
      "genereProd(A,N,B,Spawns,R) ->\n",
      "  P=spawn(pre,soustraction,[-A,N,B,-B,-1,self()]),\n",
      "  genereProd(A,N,B-1,[P|Spawns],R-1).\n",
      "\n",
      "gereConso() ->\n",
      "  receive\n",
      "    0 ->  gereConso();\n",
      "    Resultat -> Resultat end.\n",
      "\n",
      "reduitCharge([]) -> \n",
      "  ok;\n",
      "reduitCharge([P|Spawns]) -> \n",
      "  exit(P,kill),\n",
      "  reduitCharge(Spawns).\n",
      "\n",
      "init(A,N) ->\n",
      "  Spawns = genereProd(A,N,A-1,[],N),\n",
      "  Resultat = gereConso(),\n",
      "  reduitCharge(Spawns),\n",
      "  Resultat.\n"
     ],
     "language": "python",
     "metadata": {},
     "outputs": [
      {
       "html": [
        "<pre>Successfully Compiled</pre>"
       ],
       "metadata": {},
       "output_type": "pyout",
       "prompt_number": 1,
       "text": [
        "Successfully Compiled"
       ]
      }
     ],
     "prompt_number": 1
    },
    {
     "cell_type": "code",
     "collapsed": false,
     "input": [
      "pre:init(262144,4)."
     ],
     "language": "python",
     "metadata": {},
     "outputs": [
      {
       "html": [
        "131072"
       ],
       "metadata": {},
       "output_type": "pyout",
       "prompt_number": 4,
       "text": [
        "131072"
       ]
      }
     ],
     "prompt_number": 4
    },
    {
     "cell_type": "code",
     "collapsed": false,
     "input": [
      "pre:init(4294967296,1)."
     ],
     "language": "python",
     "metadata": {},
     "outputs": [
      {
       "html": [
        "2147483648"
       ],
       "metadata": {},
       "output_type": "pyout",
       "prompt_number": 7,
       "text": [
        "2147483648"
       ]
      }
     ],
     "prompt_number": 7
    },
    {
     "cell_type": "code",
     "collapsed": false,
     "input": [
      "pre:init(4294967296,2)."
     ],
     "language": "python",
     "metadata": {},
     "outputs": [
      {
       "html": [
        "2147483648"
       ],
       "metadata": {},
       "output_type": "pyout",
       "prompt_number": 8,
       "text": [
        "2147483648"
       ]
      }
     ],
     "prompt_number": 8
    },
    {
     "cell_type": "markdown",
     "metadata": {},
     "source": [
      "Reste \u00e0 savoir en combien il faut de producteurs, 4 (quad-core sur cette machine), 8 ?  plus ou moins ...\n",
      "\n",
      "Voila les temps (approximatifs) :\n",
      "* 1 producteur : 2 min 20 (140s)\n",
      "* 2 producteurs : 1 min 10 (70s)\n",
      "* 3 producteurs : 46 s (et 50% des ressources CPU seulement)\n",
      "* 4 producteurs : 40 s (et 70% des ressources CPU seulement)\n",
      "* 5 producteurs : 34 s (et 80% des ressources CPU seulement)\n",
      "* 6 producteurs : 33 s (et 94% des ressources CPU seulement)\n",
      "* 7 producteurs : 31 s (et 100% des ressources CPU)\n",
      "* 8 producteurs : 30 s (et 100% des ressources CPU)\n",
      "* ... (\u00e7a stagne \u00e0 30 s)\n",
      "\n",
      "et si on avait une grappe de pc (avec des interpr\u00e9teurs Erlang conciliants) on pourrait aller encore un peu plus loin. \n",
      "\n",
      "Pour autant cela restera une constante multiplicative, d\u00e9pendante lin\u00e9airement du nombre de pc disponible. \n",
      "\n",
      "Mais au moins, on n'aura pas un pc (ou une grappe de pc) exploit\u00e9 \u00e0 20% (resp. qlq %) seulement de ses capacit\u00e9s.\n"
     ]
    }
   ],
   "metadata": {}
  }
 ]
}