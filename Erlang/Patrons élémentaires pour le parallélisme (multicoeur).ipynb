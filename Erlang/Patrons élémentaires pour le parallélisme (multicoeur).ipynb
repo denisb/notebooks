{
 "metadata": {
  "name": "",
  "signature": "sha256:718b00005166b2e380ede8bb87cb96c15911d33e143f025e7c49b5879639b8e2"
 },
 "nbformat": 3,
 "nbformat_minor": 0,
 "worksheets": [
  {
   "cells": [
    {
     "cell_type": "markdown",
     "metadata": {},
     "source": [
      "![logo-nouvelle-uga](logo-nouvelle-uga.jpg)\n",
      "# Sch\u00e9mas \u00e9l\u00e9mentaires/simples pour le parall\u00e9lisme multicoeur en Erlang\n",
      "\n",
      "L'objectif de ce document est de donner quelques exemples de r\u00e9partition d'un calcul sur un processeur multicoeur en utilisant plusieurs processus fonctionnant en parall\u00e8le selon des sch\u00e9mas \u00e9l\u00e9mentaires d'organisation.\n",
      "\n",
      "Les points importants abord\u00e9s :\n",
      "* parall\u00e9lisme r\u00e9duit, \u00e0 taille humaine (quelques processus seulement pour processeur multicoeur d\u00e9but 21e si\u00e8cle, i.e. le nombre de coeur se compte en unit\u00e9, au maximum en dizaine)\n",
      "* sch\u00e9ma simple (sans boucle)\n",
      "\n",
      "\n",
      "Le langage Erlang a \u00e9t\u00e9 choisi pour les mises en oeuvre. \n",
      "\n",
      "## Sch\u00e9mas usuels (liste rapide non exhaustive)\n",
      "\n",
      "Rapidement, une liste des id\u00e9es pour programmer en parall\u00e8le :\n",
      "* mod\u00e8le map - reduce (et proches : replicate - reduce, split - merge)\n",
      "* mod\u00e8le dataflow programming (et proches : Data-driven programming, Flow-based programming, Worflow programming, Stream Processing, Pipes, Pipeline)\n",
      "\n",
      "plus loin\n",
      "* programmation vectorielle\n",
      "* syst\u00e8me multi-agents\n",
      "\n",
      "## Sch\u00e9ma de base : 1 Producteur - 1 Consommateur\n",
      "\n",
      "Le plus simple, le calcul est divis\u00e9 en 2 , d'un c\u00f4t\u00e9 un producteur de donn\u00e9es interm\u00e9diaires envoy\u00e9es de l'autre c\u00f4t\u00e9 \u00e0 un consommateur. \n",
      "\n",
      "![1P1C.png](1P1C.png)\n",
      "\n",
      "Gain vis\u00e9 :\n",
      "* 2\n",
      "* sous r\u00e9serve que :\n",
      "  * le temps de calcul du producteur soit proche du temps de calcul du consommateur\n",
      "  * le d\u00e9bit de production des donn\u00e9es interm\u00e9diaires soient proche du d\u00e9bit de consommation de ces donn\u00e9es interm\u00e9diaires \n",
      "  * la latence d'obtention des premi\u00e8res donn\u00e9es interm\u00e9diaire soir n\u00e9gligeable (ou raisonnable)\n",
      "  * le surco\u00f9t de la communication soit n\u00e9gligeable (ou raisonnable)\n",
      "  \n",
      "Un exemple :"
     ]
    },
    {
     "cell_type": "code",
     "collapsed": false,
     "input": [
      "-module(par).\n",
      "-compile(export_all).\n",
      "\n",
      "init1P1C(P) ->\n",
      "  io:format(\"~n *** 1 producteur - 1 consommateur *** ~n~n\",[]),\n",
      "  PrcsConso=spawn(par,processusConsommateur,[]),\n",
      "  _PrcsProcessusProd=spawn(par,processusProducteur,[PrcsConso,P]).\n",
      "    \n",
      "processusProducteur(_PConso,0) -> done;\n",
      "processusProducteur(PConso,P) ->\n",
      "  lin(P),\n",
      "  PConso ! P,\n",
      "  processusProducteur(PConso,P-1).\n",
      "    \n",
      "processusConsommateur() ->\n",
      "  receive C -> lin(C) end,\n",
      "  processusConsommateur().\n",
      "    \n",
      "lin(0) -> done;\n",
      "lin(N) -> lin(N-1)."
     ],
     "language": "python",
     "metadata": {},
     "outputs": [
      {
       "html": [
        "<pre>Successfully Compiled</pre>"
       ],
       "metadata": {},
       "output_type": "pyout",
       "prompt_number": 1,
       "text": [
        "Successfully Compiled"
       ]
      }
     ],
     "prompt_number": 1
    },
    {
     "cell_type": "code",
     "collapsed": false,
     "input": [
      "par:init1P1C(100000)."
     ],
     "language": "python",
     "metadata": {},
     "outputs": [
      {
       "html": [
        "<pre><0.44.0></pre>"
       ],
       "metadata": {},
       "output_type": "pyout",
       "prompt_number": 3,
       "text": [
        "<0.44.0>"
       ]
      }
     ],
     "prompt_number": 3
    },
    {
     "cell_type": "markdown",
     "metadata": {},
     "source": [
      "## Composition simple (motif 3 tiers) : 1 Producteur - 1 ConsommateurProducteur - 1 Consommateur\n",
      "\n",
      "En adoptant une d\u00e9composition en 3 tiers, le calcul est divis\u00e9 en 3 , d'un c\u00f4t\u00e9 un producteur d'une premi\u00e8re s\u00e9rie de donn\u00e9es interm\u00e9diaires envoy\u00e9es au centre \u00e0 un consommateur-producteur qui transforme cette premi\u00e8re s\u00e9rie de donn\u00e9es interm\u00e9diaires pour donner une seconde s\u00e9rie de donn\u00e9es interm\u00e9diaires envoy\u00e9es \u00e0 un consommateur final en bout de chaine.\n",
      "\n",
      "Gain vis\u00e9 :\n",
      "* 3\n",
      "* sous r\u00e9serve que :\n",
      "  * le temps de calcul du producteur soit proche du temps de calcul du consommateur - producteur et proche du temps de calcul du consommateur final \n",
      "  * le d\u00e9bit de production des donn\u00e9es interm\u00e9diaires soient proche du d\u00e9bit de consommation de ces donn\u00e9es interm\u00e9diaires\n",
      "  * la latence d'obtention des donn\u00e9es interm\u00e9diaire soir n\u00e9gligeable (ou raisonnable)\n",
      "  * le surco\u00f9t de la communication soit n\u00e9gligeable (ou raisonnable)\n",
      "\n",
      "Un exemple :"
     ]
    },
    {
     "cell_type": "code",
     "collapsed": false,
     "input": [
      "-module(par).\n",
      "-compile(export_all).\n",
      "\n",
      "init1P1CP1P(P) ->\n",
      "  io:format(\"~n *** 1 producteur - 1 consommateurProducteur - 1 consommateur *** ~n~n\",[]),\n",
      "  PrcsConso=spawn(par,processusConsommateur,[]),\n",
      "  PrcsConsoProd=spawn(par,processusConsommateurProducteur,[PrcsConso]),\n",
      "  _PrcsProcessusProd=spawn(par,processusProducteur,[PrcsConsoProd,P]).\n",
      "   \n",
      "processusProducteur(_PConso,0) -> done;\n",
      "processusProducteur(PConso,P) ->\n",
      "  lin(P),\n",
      "  PConso ! P,\n",
      "  processusProducteur(PConso,P-1).\n",
      "\n",
      "processusConsommateurProducteur(PConso) ->\n",
      "  receive C -> lin(C), PConso ! C end,\n",
      "  processusConsommateurProducteur(PConso).\n",
      "\n",
      "processusConsommateur() ->\n",
      "  receive C -> lin(C) end,\n",
      "  processusConsommateur().\n",
      "    \n",
      "lin(0) -> done;\n",
      "lin(N) -> lin(N-1)."
     ],
     "language": "python",
     "metadata": {},
     "outputs": [
      {
       "html": [
        "<pre>Successfully Compiled</pre>"
       ],
       "metadata": {},
       "output_type": "pyout",
       "prompt_number": 3,
       "text": [
        "Successfully Compiled"
       ]
      }
     ],
     "prompt_number": 3
    },
    {
     "cell_type": "code",
     "collapsed": false,
     "input": [
      "par:init1P1CP1P(100000)."
     ],
     "language": "python",
     "metadata": {},
     "outputs": [
      {
       "html": [
        "<pre><0.53.0></pre>"
       ],
       "metadata": {},
       "output_type": "pyout",
       "prompt_number": 6,
       "text": [
        "<0.53.0>"
       ]
      }
     ],
     "prompt_number": 6
    },
    {
     "cell_type": "markdown",
     "metadata": {},
     "source": [
      "## Variante : N Producteurs - 1 Consommateur\n",
      "\n",
      "Le calcul est divis\u00e9 en N+1, avec N producteurs de s\u00e9ries de donn\u00e9es interm\u00e9diaires envoy\u00e9es \u00e0 un consommateur.\n",
      "\n",
      "![NP1C.png](NP1C.png)\n",
      "\n",
      "Gain vis\u00e9 :\n",
      "* N+1\n",
      "* sous r\u00e9serve que :\n",
      "  * le temps de calcul des producteurs soit proche du temps de calcul du consommateur\n",
      "  * le d\u00e9bit de production des donn\u00e9es interm\u00e9diaires soient proche du d\u00e9bit de consommation de ces donn\u00e9es interm\u00e9diaires\n",
      "  * la latence d'obtention des donn\u00e9es interm\u00e9diaire soir n\u00e9gligeable (ou raisonnable)\n",
      "  * le surco\u00f9t de la communication soit n\u00e9gligeable (ou raisonnable)\n",
      "\n",
      "Un exemple :"
     ]
    },
    {
     "cell_type": "code",
     "collapsed": false,
     "input": [
      "-module(par).\n",
      "-compile(export_all).\n",
      "\n",
      "initNP1C(N,P) ->\n",
      "  io:format(\"~n *** N producteurs - 1 consommateur *** ~n~n\",[]),\n",
      "  PrcsConso=spawn(par,processusConsommateur,[N]),\n",
      "  processusNProducteurs(PrcsConso,N,P).\n",
      "\n",
      "processusNProducteurs(_PConso,0,_P) -> done;\n",
      "processusNProducteurs(PConso,N,P) ->\n",
      "  spawn(par,processusProducteur,[PConso,P]),\n",
      "  processusNProducteurs(PConso,N-1,P).\n",
      "\n",
      "processusProducteur(_PConso,0) -> done;\n",
      "processusProducteur(PConso,P) ->\n",
      "  lin(P),\n",
      "  PConso ! P,\n",
      "  processusProducteur(PConso,P-1).\n",
      "    \n",
      "processusConsommateur(N) ->\n",
      "  receive C -> lin(C div N) end,\n",
      "  processusConsommateur(N).\n",
      "    \n",
      "lin(0) -> done;\n",
      "lin(N) -> lin(N-1)."
     ],
     "language": "python",
     "metadata": {},
     "outputs": [
      {
       "html": [
        "<pre>Successfully Compiled</pre>"
       ],
       "metadata": {},
       "output_type": "pyout",
       "prompt_number": 1,
       "text": [
        "Successfully Compiled"
       ]
      }
     ],
     "prompt_number": 1
    },
    {
     "cell_type": "code",
     "collapsed": false,
     "input": [
      "par:initNP1C(10,100000)."
     ],
     "language": "python",
     "metadata": {},
     "outputs": [
      {
       "html": [
        "<pre>done</pre>"
       ],
       "metadata": {},
       "output_type": "pyout",
       "prompt_number": 5,
       "text": [
        "done"
       ]
      }
     ],
     "prompt_number": 5
    },
    {
     "cell_type": "markdown",
     "metadata": {},
     "source": [
      "## Variante : 1 Producteur - N Consommateurs\n",
      "\n",
      "Le calcul est divis\u00e9 en N+1, avec 1 producteurs d'une s\u00e9rie de donn\u00e9es interm\u00e9diaires envoy\u00e9es \u00e0 N consommateurs.\n",
      "\n",
      "![1PNC.png](1PNC.png)\n",
      "\n",
      "Gain vis\u00e9 :\n",
      "* N+1\n",
      "* sous r\u00e9serve que :\n",
      "  * le temps de calcul du producteurs soit proche du temps de calcul des consommateurs\n",
      "  * le d\u00e9bit de production des donn\u00e9es interm\u00e9diaires soient proche du d\u00e9bit de consommation de ces donn\u00e9es interm\u00e9diaires\n",
      "  * la latence d'obtention des donn\u00e9es interm\u00e9diaire soir n\u00e9gligeable (ou raisonnable)\n",
      "  * le surco\u00f9t de la communication soit n\u00e9gligeable (ou raisonnable)\n",
      "\n",
      "Un exemple :"
     ]
    },
    {
     "cell_type": "code",
     "collapsed": false,
     "input": [
      "-module(par).\n",
      "-compile(export_all).\n",
      "\n",
      "init1PNC(N,P) ->\n",
      "  io:format(\"~n *** 1 producteurs - N consommateurs *** ~n~n\",[]),\n",
      "  ListeConsommateurs=procConsommateurs(N),\n",
      "  _PrcsProcessusProd=spawn(par,processusProducteur,[ListeConsommateurs,ListeConsommateurs,P,N]).    \n",
      "    \n",
      "processusProducteur(_LConsos,_LC,0,_N) -> done;\n",
      "processusProducteur([],_LC,P,N) ->\n",
      " processusProducteur(_LC,_LC,P,N);\n",
      "processusProducteur([PConso|LConsos],_LC,P,N) ->\n",
      "  lin(P),\n",
      "  PConso ! (N*P),\n",
      "  processusProducteur(LConsos,_LC,P-1,N).\n",
      "\n",
      "procConsommateurs(0) -> [];\n",
      "procConsommateurs(N) -> \n",
      "  [spawn(par,processusConsommateur,[])|procConsommateurs(N-1)].\n",
      "  \n",
      "   \n",
      "processusConsommateur() ->\n",
      "  receive C -> lin(C) end,\n",
      "  processusConsommateur().\n",
      "    \n",
      "lin(0) -> done;\n",
      "lin(N) -> lin(N-1)."
     ],
     "language": "python",
     "metadata": {},
     "outputs": [
      {
       "html": [
        "<pre>Successfully Compiled</pre>"
       ],
       "metadata": {},
       "output_type": "pyout",
       "prompt_number": 4,
       "text": [
        "Successfully Compiled"
       ]
      }
     ],
     "prompt_number": 4
    },
    {
     "cell_type": "code",
     "collapsed": false,
     "input": [
      "par:init1PNC(100000,100000)."
     ],
     "language": "python",
     "metadata": {},
     "outputs": [
      {
       "html": [
        "<pre><0.1752.3></pre>"
       ],
       "metadata": {},
       "output_type": "pyout",
       "prompt_number": 7,
       "text": [
        "<0.1752.3>"
       ]
      }
     ],
     "prompt_number": 7
    }
   ],
   "metadata": {}
  }
 ]
}