{
 "metadata": {
  "name": "",
  "signature": "sha256:b20c060934f69496d984b57db6a00102c1f56ae141521d72d8065d8249bf8060"
 },
 "nbformat": 3,
 "nbformat_minor": 0,
 "worksheets": [
  {
   "cells": [
    {
     "cell_type": "markdown",
     "metadata": {},
     "source": [
      "# Moteur d'ex\u00e9cution de la machine Erlang\n",
      "## Ex\u00e9cution simple\n",
      "\n",
      "Pour l'essentiel, le moteur d'ex\u00e9cution d'Erlang est naturel et simple \u00e0 comprendre ; Erlang est un langage fonctionnel, \u00e0 l'appel d'une fonction, les param\u00e8tres sont \u00e9valu\u00e9s, si l'un ne peut \u00eatre \u00e9valu\u00e9 l'ex\u00e9cution \u00e9choue, sinon, une fois les param\u00e8tres \u00e9valu\u00e9s, le corps de la fonction est ex\u00e9cut\u00e9 en rempla\u00e7ant les param\u00e8tres par les valeurs calcul\u00e9es (passage par valeur).  \n",
      "\n",
      "De prime abord, la principale diff\u00e9rence avec les autres langages de programmation vient de ce que les variables sont \u00e0 affectation unique. Ainsi vous ne verrez paz de N = N+1, ou N++, une fois que N a pris une valeur, N ne change pas, pour avoir N+1 il faut \u00e9crire N+1 ou affecter cette valeur \u00e0 une autre variable M = N+1. \n",
      "\n",
      "L'affectation unique intervient en fait moins souvent lors d'affectation explicite que lors d'unification. Lors d'une unification entre deux expressions ou variables, on peut avoir un test d'\u00e9galit\u00e9 ou une affectation (mais jamais un changement de valeur par une \"seconde\" affectation). \n",
      "\n",
      "La port\u00e9e de l'affectation unique est limit\u00e9e par la port\u00e9e de la variable, ainsi une variable N d\u00e9finie comme param\u00e8tre d'une fonction pourra avoir plusieurs valeurs au cours de diff\u00e9rentes ex\u00e9cutions d'un programme, autant de valeur que d'appels diff\u00e9rents. Par contre, dans le corps de la d\u00e9finition, il ne pourra y avoir qu'une seule valeur pour cette variable, celle acquise par le param\u00e8tre \u00e0 l'appel. En particulier si la variable apparait dans plusieurs param\u00e8tres de la d\u00e9finition, l'appel ne sera possible que si ces diff\u00e9rents param\u00e8tres donnent la m\u00eame valeur \u00e0 cette variable. \n",
      "\n",
      "L'utilisation de plusieurs param\u00e8tres avec le m\u00e9me nom de variable lors d'un cas de d\u00e9finition permet de v\u00e9rifier que ces diff\u00e9rents param\u00e8tres sont \u00e9gaux, par contre, elle ne permet pas de donner une valeur \u00e0 une variable/expression donn\u00e9e \u00e0 l'appel (car lors de l'appel, chaque expression/variable d\u00e9finissant un param\u00e8tre doit \u00eatre \u00e9valuable pour que l'unification puisse \u00eatre \u00e9tudi\u00e9e [par ailleurs, ce serait contraire au principe que l'unification ne doit pas avoir d'effet de bord].)"
     ]
    },
    {
     "cell_type": "code",
     "collapsed": false,
     "input": [
      "-module(exe).\n",
      "-compile(export_all).\n",
      "\n",
      "inc(N) ->\n",
      "  N+1.\n",
      "    \n",
      "maFonction(A,B) ->\n",
      "  inc(A)+inc(B)."
     ],
     "language": "python",
     "metadata": {},
     "outputs": [
      {
       "html": [
        "<pre>Successfully Compiled</pre>"
       ],
       "metadata": {},
       "output_type": "pyout",
       "prompt_number": 13,
       "text": [
        "Successfully Compiled"
       ]
      }
     ],
     "prompt_number": 13
    },
    {
     "cell_type": "code",
     "collapsed": false,
     "input": [
      "exe:inc(E)."
     ],
     "language": "python",
     "metadata": {},
     "outputs": [
      {
       "html": [
        "5"
       ],
       "metadata": {},
       "output_type": "pyout",
       "prompt_number": 23,
       "text": [
        "5"
       ]
      }
     ],
     "prompt_number": 23
    },
    {
     "cell_type": "code",
     "collapsed": false,
     "input": [
      "exe:maFonction(exe:inc(1),2)."
     ],
     "language": "python",
     "metadata": {},
     "outputs": [
      {
       "html": [
        "6"
       ],
       "metadata": {},
       "output_type": "pyout",
       "prompt_number": 14,
       "text": [
        "6"
       ]
      }
     ],
     "prompt_number": 14
    },
    {
     "cell_type": "markdown",
     "metadata": {},
     "source": [
      "\n",
      "## Ex\u00e9cution d'une fonction d\u00e9finie par cas\n",
      "\n",
      "Lors d'une d\u00e9finition de fonction par cas, le moteur d'ex\u00e9cution regarde chaque cas de d\u00e9finition dans l'ordre d'\u00e9criture (dans le fichier) et d\u00e8s que l'un des cas peut s'unifier avec l'appel demand\u00e9, l'ex\u00e9cution est effectu\u00e9e avec ce cas, les autres cas ne seront pas \u00e9valu\u00e9s. Pour voir si un cas corepond \u00e0 l'appel demand\u00e9, une fois les param\u00e8tres de l'appel \u00e9valu\u00e9s, il y a recherche d'une unification entre les valeurs calcul\u00e9es et les param\u00e8tres de la fonction dans chaque cas. Lors de cette recherche d'unification, il ne peut y avoir d'effet de bord (l'algorithme d'unification n'est pas accessible au programmeur, la garantie d'absence d'effet de bord lors de l'unification revient donc \u00e0 l'interpr\u00e9teur Erlang)\n",
      "\n",
      "Les diff\u00e9rentes d\u00e9finitions d'une fonction servent donc \u00e0 d\u00e9finir les diff\u00e9rents cas pour lesquels une d\u00e9finition de la fonction existe ; ces d\u00e9finitions d\u00e9terminent donc la forme des donn\u00e9es acceptables en entr\u00e9e, par exemple si uen variable doit \u00eatre une liste, le programmeur peut pr\u00e9voir que cette liste sera la liste vide [], ou une liste avec un \u00e9l\u00e9ment [E|L] (E est l'\u00e9l\u00e9ment, L est la fin de la liste), ou deux \u00e9l\u00e9ments [E,F|L], ou plus ...\n",
      "\n",
      "Si un param\u00e8tre est donn\u00e9 dans une d\u00e9finition par cas par une variable X simple quelconque (et non pas par une forme/structure particuli\u00e8re), alors toute valeur pourra \u00eatre unifi\u00e9e avec X lors d'un appel ; un cas de d\u00e9finition ne comportant que des variables simples libres s'unifiera donc avec tous les appels, ce sera donc un cas par d\u00e9faut, il serait normal qu'il arrive en fin de liste de d\u00e9finition ; les cas de d\u00e9finition se trouvant apr\u00e8s lui ne pourront \u00eatre utilis\u00e9s.\n",
      "\n",
      "L'ordre des cas lors d'une d\u00e9finition par cas doit donc aller des cas les plus particuliers aux cas les plus g\u00e9n\u00e9raux (sachant que l'ordre n'est pas strict, il y a des cas qui ne se comparent pas), avec en dernier le cas par d\u00e9faut (avec seulement des variables simples) qui fonctionne toujours."
     ]
    },
    {
     "cell_type": "code",
     "collapsed": false,
     "input": [
      "-module(exe).\n",
      "-compile(export_all).\n",
      "\n",
      "maFonction(0,X) ->\n",
      "  X;\n",
      "maFonction(X,X) ->\n",
      "  2*X;\n",
      "maFonction(X,Y) ->\n",
      "  X*Y."
     ],
     "language": "python",
     "metadata": {},
     "outputs": [
      {
       "html": [
        "<pre>Successfully Compiled</pre>"
       ],
       "metadata": {},
       "output_type": "pyout",
       "prompt_number": 1,
       "text": [
        "Successfully Compiled"
       ]
      }
     ],
     "prompt_number": 1
    },
    {
     "cell_type": "code",
     "collapsed": false,
     "input": [
      "exe:maFonction(2,1)."
     ],
     "language": "python",
     "metadata": {},
     "outputs": [
      {
       "html": [
        "3"
       ],
       "metadata": {},
       "output_type": "pyout",
       "prompt_number": 6,
       "text": [
        "3"
       ]
      }
     ],
     "prompt_number": 6
    },
    {
     "cell_type": "markdown",
     "metadata": {},
     "source": [
      "\n",
      "## Utilisation de gardes\n",
      "\n",
      "En utilisant une constante (0), ou deux fois la m\u00eame variables pour la d\u00e9finition d'un cas, le programmeur peut tester l'\u00e9galit\u00e9 d'un param\u00e8tre (\u00e0 l'appel) avec la valeur 0, ou l'\u00e9galit\u00e9 entre deux param\u00e8tres, et par suite les cas suivants, s'ils sont test\u00e9s, signifieront que tel param\u00e8tre ne vaut pas 0 ou que que param\u00e8tres sont diff\u00e9rents. L'\u00e9galit\u00e9 ou la diff\u00e9rence entre param\u00e8tres/et ou valeur peut donc reposer sur l'unification, mais parfois la forme des param\u00e8tre n'est pas seulement relative \u00e0 une \u00e9galit\u00e9 ou diff\u00e9rence, parfois cela repose sur un type attendu, ou une relation ou une expression logique : l'unification ne peut pas tout faire.\n",
      "\n",
      "Pour g\u00e9rer des d\u00e9finitions par cas utilisant des conditions d'application autres que l'\u00e9galit\u00e9 (ou la diff\u00e9rence [obtenues par unification]) peuvent \u00eatre obtenues par de gardes (avec le mot cl\u00e9 when). Les gardes peuvent ainsi tester des propri\u00e9t\u00e9s relationnelles entre variables ( E > F ), ou des propri\u00e9t\u00e9s internes (is_integer(E), is_list(L), ...). \n",
      "\n",
      "La d\u00e9termination du cas de d\u00e9finition de la fonction \u00e0 appliquer devant se faire sans effet de bord, les gardes sont limit\u00e9es \u00e0 des op\u00e9rations qui ne font pas d'effets de bords (des comparaisons et quelques fonctions pr\u00e9d\u00e9finies par Erlang garanties sans effets de bord), en particulier, c'est bien dommage, l'utilisateur ne peut pas d\u00e9finir de fonction de garde ... (de peur que cela g\u00e9n\u00e8re un effet de bord ?)\n",
      "\n",
      "Les gardes peuvent \u00eatre associ\u00e9es par des virgules (\"et\") et point-virgule (\"ou\"), il n'y a pas de \"non\", pour obtenir un \"non\" une solution revient \u00e0 r\u00e9diger un cas de d\u00e9finition avec une garde qui fonctionne pour la propri\u00e9t\u00e9 positive, et si cette propri\u00e9t\u00e9 positive n'est pas v\u00e9rifi\u00e9e, les d\u00e9finitions suivantes seront associ\u00e9es \u00e0 la propri\u00e9t\u00e9 n\u00e9gative (c'est comme cela que l'on traduit la diff\u00e9rence, \u00e0 partir de l'\u00e9galit\u00e9, cf. plus haut) \n"
     ]
    },
    {
     "cell_type": "code",
     "collapsed": false,
     "input": [
      "-module(exe).\n",
      "-compile(export_all).\n",
      "\n",
      "maFact(1) ->\n",
      "  1;\n",
      "maFact(N) when is_integer(N), N > 1 ->\n",
      "  N*maFact(N-1);\n",
      "maFact(N) when is_integer(N) ->\n",
      "  [erreur_entier,fact,N];\n",
      "maFact(N) ->\n",
      "  [erreur,fact,N]."
     ],
     "language": "python",
     "metadata": {},
     "outputs": [
      {
       "html": [
        "<pre>Successfully Compiled</pre>"
       ],
       "metadata": {},
       "output_type": "pyout",
       "prompt_number": 3,
       "text": [
        "Successfully Compiled"
       ]
      }
     ],
     "prompt_number": 3
    },
    {
     "cell_type": "code",
     "collapsed": false,
     "input": [
      "exe:maFact(-2)."
     ],
     "language": "python",
     "metadata": {},
     "outputs": [
      {
       "html": [
        "['erreur_entier', 'fact', -2]"
       ],
       "metadata": {},
       "output_type": "pyout",
       "prompt_number": 5,
       "text": [
        "['erreur_entier', 'fact', -2]"
       ]
      }
     ],
     "prompt_number": 5
    }
   ],
   "metadata": {}
  }
 ]
}