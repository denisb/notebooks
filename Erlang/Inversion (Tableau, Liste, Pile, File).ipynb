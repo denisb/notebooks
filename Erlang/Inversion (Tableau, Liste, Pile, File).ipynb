{
 "metadata": {
  "name": "",
  "signature": "sha256:dd49e45114bf63abed3f08f9a11497ca8cb79d9c323faa5981f0b3f90db50f37"
 },
 "nbformat": 3,
 "nbformat_minor": 0,
 "worksheets": [
  {
   "cells": [
    {
     "cell_type": "markdown",
     "metadata": {},
     "source": [
      "##Inversion\n",
      "\n",
      "Mettre une liste \u00e0 l'envers (retourner la liste, inverser l'ordre des \u00e9l\u00e9ments, faire le sym\u00e9trique d'une liste, etc.) est un algorithme qui d\u00e9pend pas mal de la structure de donn\u00e9es\n",
      "* dans un tableau, cela peut reposer sur un parcours allant jusqu'\u00e0 la moiti\u00e9 du tableau et \u00e9changer chaque \u00e9l\u00e9ment avec son sym\u00e9trique\n",
      "* pour les listes cha\u00een\u00e9es cela fait travailler la notion de pointeur\n",
      "* avec une pile, c'est presque imm\u00e9diat, il suffit de vider une pile Avant dans une pile Apres pour obtenir le r\u00e9sultat ; et du coup, cela arrive parfois sans que l'on ne l'ai pr\u00e9vu\n",
      "* avec une file, ?\n",
      "\n",
      "En g\u00e9n\u00e9ral, c'est juste un petit exemple d'algorithme sur les listes.\n",
      "\n",
      "Mais quand on programme en ProLog, en Erlang, ou dans pas mal de langages reposant sur la r\u00e9ursivit\u00e9, c'est un algorithme qui peut \u00eatre n\u00e9cessaire souvent parce que [comme pr\u00e9cis\u00e9 pr\u00e9c\u00e9demment] il arrive que lors de calculs sur une liste, les r\u00e9sultats arrivent \u00e0 l'envers ! Et il faut donc remettre les r\u00e9sultats dans l'ordre. Pourquoi ? Comment ? et Est-ce normal ? Voici quelques r\u00e9ponses\n",
      "\n",
      "* **Pourquoi** ? les langages reposant sur la r\u00e9cursivit\u00e9 d\u00e9composent souvent les listes en  [ Tete | Queue ], c'est \u00e0 dire avec un point unique d'acc\u00e9s en ajout et en retrait aux \u00e9l\u00e9ments dans la liste, avec une structure sous-jacente de Dernier Mis = Premier Entr\u00e9 (LIFO), c'est \u00e0 dire avec une structure de pile. Hors, quand on prend un pile, si on la vide dans une autre pile, ce que l'on obtient, c'est une inversion ! (=> voil\u00e0 le **Comment**)\n",
      "\n",
      "Cela peut se voir avec le premier algorithme :"
     ]
    },
    {
     "cell_type": "code",
     "collapsed": false,
     "input": [
      "-module(inv).\n",
      "-compile(export_all).\n",
      "\n",
      "invPile([],R)-> \n",
      "  R;\n",
      "invPile([E|Q],R)->\n",
      "  invPile(Q,[E|R])."
     ],
     "language": "python",
     "metadata": {},
     "outputs": [
      {
       "html": [
        "<pre>Successfully Compiled</pre>"
       ],
       "metadata": {},
       "output_type": "pyout",
       "prompt_number": 8,
       "text": [
        "Successfully Compiled"
       ]
      }
     ],
     "prompt_number": 8
    },
    {
     "cell_type": "code",
     "collapsed": false,
     "input": [
      "inv:invPile([1,2,3,4,5,6],[])."
     ],
     "language": "python",
     "metadata": {},
     "outputs": [
      {
       "html": [
        "[6, 5, 4, 3, 2, 1]"
       ],
       "metadata": {},
       "output_type": "pyout",
       "prompt_number": 9,
       "text": [
        "[6, 5, 4, 3, 2, 1]"
       ]
      }
     ],
     "prompt_number": 9
    },
    {
     "cell_type": "markdown",
     "metadata": {},
     "source": [
      "* Est-ce **normal** ? Si c'est ce que l'on voulait faire, pourquoi pas, mais sinon, qu'est-ce qui cloche ? \n",
      "\n",
      "Il y a plusieurs choses qui peuvent choquer. La premi\u00e8re c'est que l'inversion devrait \u00eatre une fonction avec un seul param\u00e8tre (la liste \u00e0 inverser), la seconde chose, c'est que l'inversion de la liste vide [] devrait \u00eatre la liste vide [].\n",
      "\n",
      "On pourrait donc penser \u00e0 l'algorithme suivant :"
     ]
    },
    {
     "cell_type": "code",
     "collapsed": false,
     "input": [
      "-module(inv).\n",
      "-compile(export_all).\n",
      "\n",
      "invPileMono([])-> \n",
      "  [];\n",
      "invPileMono([E|Q])->\n",
      "  [E|invPileMono(Q)]."
     ],
     "language": "python",
     "metadata": {},
     "outputs": [
      {
       "html": [
        "<pre>Successfully Compiled</pre>"
       ],
       "metadata": {},
       "output_type": "pyout",
       "prompt_number": 10,
       "text": [
        "Successfully Compiled"
       ]
      }
     ],
     "prompt_number": 10
    },
    {
     "cell_type": "code",
     "collapsed": false,
     "input": [
      "inv:invPileMono([1,2,3,4,5,6])."
     ],
     "language": "python",
     "metadata": {},
     "outputs": [
      {
       "html": [
        "[1, 2, 3, 4, 5, 6]"
       ],
       "metadata": {},
       "output_type": "pyout",
       "prompt_number": 11,
       "text": [
        "[1, 2, 3, 4, 5, 6]"
       ]
      }
     ],
     "prompt_number": 11
    },
    {
     "cell_type": "markdown",
     "metadata": {},
     "source": [
      "Dommage, cela ne marche pas, ou alors cela marche mais pour ne rien faire. De mon point de vue, cela marche effectivement bien, et m\u00eame cela justifie l'utilisation des listes avec une d\u00e9composition [ E | Q ] qui peut faire penser \u00e0 une pile, mais dont les aspects g\u00e9nants (inverser les \u00e9l\u00e9ments), n'apparaissent pas toujours ... (ici, le traitement de la liste respecte la liste, c'est plut\u00f4t bien non ?)\n",
      "\n",
      "Mais pour inverser une liste, cela ne fonctionne pas, et faire une modification rapide comme la suivante ne convient pas :"
     ]
    },
    {
     "cell_type": "code",
     "collapsed": false,
     "input": [
      "-module(inv).\n",
      "-compile(export_all).\n",
      "\n",
      "invPileMono2([])-> \n",
      "  [];\n",
      "invPileMono2([E|Q])->\n",
      "  [invPileMono2(Q)|E]."
     ],
     "language": "python",
     "metadata": {},
     "outputs": [
      {
       "html": [
        "<pre>Successfully Compiled</pre>"
       ],
       "metadata": {},
       "output_type": "pyout",
       "prompt_number": 12,
       "text": [
        "Successfully Compiled"
       ]
      }
     ],
     "prompt_number": 12
    },
    {
     "cell_type": "code",
     "collapsed": false,
     "input": [
      "inv:invPileMono2([1,2,3,4,5,6])."
     ],
     "language": "python",
     "metadata": {},
     "outputs": [
      {
       "html": [
        "[[91, [[91, [[91, [[91, [[91, [[91, [[91, 93], 124, 54], 93], 124, 53], 93], 124, 52], 93], 124, 51], 93], 124, 50], 93], 124, 49], 93]]"
       ],
       "metadata": {},
       "output_type": "pyout",
       "prompt_number": 13,
       "text": [
        "[[91, [[91, [[91, [[91, [[91, [[91, [[91, 93], 124, 54], 93], 124, 53], 93], 124, 52], 93], 124, 51], 93], 124, 50], 93], 124, 49], 93]]"
       ]
      }
     ],
     "prompt_number": 13
    },
    {
     "cell_type": "markdown",
     "metadata": {},
     "source": [
      "Cela ne marche pas.\n",
      "\n",
      "Je vous laisse d\u00e9crypter le r\u00e9sultat. (indice : en ascii le code du 1 et 49, 2 : 50, ..., la virgule 124, les crochets carr\u00e9s 91 et 93)\n",
      "\n",
      "Et cela donne un r\u00e9sultat assez illisible, car la barre verticale |, dans la d\u00e9composition/recomposition des listes, n'est pas un op\u00e9rateur simple, \u00e0 sa droite il veut une liste, absoluement, et si on lui donne des nombres (E) comme dans [inv...(Q)|E] il se d\u00e9brouille (mal ?)\n",
      "\n",
      "Cela n'aurait pas \u00e9t\u00e9 beaucoup mieux de mettre [inv...(Q]|[E]] pour avoir une liste \u00e0 droite de la barre verticale (juste plus lisible):"
     ]
    },
    {
     "cell_type": "code",
     "collapsed": false,
     "input": [
      "-module(inv).\n",
      "-compile(export_all).\n",
      "\n",
      "invPileMono3([])-> \n",
      "  [];\n",
      "invPileMono3([E|Q])->\n",
      "  [invPileMono3(Q)|[E]]."
     ],
     "language": "python",
     "metadata": {},
     "outputs": [
      {
       "html": [
        "<pre>Successfully Compiled</pre>"
       ],
       "metadata": {},
       "output_type": "pyout",
       "prompt_number": 14,
       "text": [
        "Successfully Compiled"
       ]
      }
     ],
     "prompt_number": 14
    },
    {
     "cell_type": "code",
     "collapsed": false,
     "input": [
      "inv:invPileMono3([1,2,3,4,5,6])."
     ],
     "language": "python",
     "metadata": {},
     "outputs": [
      {
       "html": [
        "[[[[[[[], 6], 5], 4], 3], 2], 1]"
       ],
       "metadata": {},
       "output_type": "pyout",
       "prompt_number": 15,
       "text": [
        "[[[[[[[], 6], 5], 4], 3], 2], 1]"
       ]
      }
     ],
     "prompt_number": 15
    },
    {
     "cell_type": "markdown",
     "metadata": {},
     "source": [
      "En fait il aurait fallu faire :"
     ]
    },
    {
     "cell_type": "code",
     "collapsed": false,
     "input": [
      "-module(inv).\n",
      "-compile(export_all).\n",
      "\n",
      "invPileMonoQuad([])-> \n",
      "  [];\n",
      "invPileMonoQuad([E|Q])->\n",
      "  ajoutEnFin(E,invPileMonoQuad(Q)).\n",
      "    \n",
      "ajoutEnFin(E,[]) ->\n",
      "  [E];\n",
      "ajoutEnFin(E,[F|Q]) ->    \n",
      "  [F|ajoutEnFin(E,Q)]."
     ],
     "language": "python",
     "metadata": {},
     "outputs": [
      {
       "html": [
        "<pre>Successfully Compiled</pre>"
       ],
       "metadata": {},
       "output_type": "pyout",
       "prompt_number": 16,
       "text": [
        "Successfully Compiled"
       ]
      }
     ],
     "prompt_number": 16
    },
    {
     "cell_type": "code",
     "collapsed": false,
     "input": [
      "inv:invPileMonoQuad([1,2,3,4,5,6])."
     ],
     "language": "python",
     "metadata": {},
     "outputs": [
      {
       "html": [
        "[6, 5, 4, 3, 2, 1]"
       ],
       "metadata": {},
       "output_type": "pyout",
       "prompt_number": 17,
       "text": [
        "[6, 5, 4, 3, 2, 1]"
       ]
      }
     ],
     "prompt_number": 17
    },
    {
     "cell_type": "markdown",
     "metadata": {},
     "source": [
      "Ici, \u00e7a marche, mais c'est lent. Plus exactement,, c'est plus lent que ce que l'on voudrait. Inverser une liste, cela devrait pouvoir s'effectuer en un temps lin\u00e9aire, et l\u00e0, cela prend un temps quadratique. Sur une dizaine d'\u00e9l\u00e9ment, cela ne se voit pas (sauf si on veut le voir), mais sur quelques millions d'\u00e9l\u00e9ments, cela devient visible (m\u00eame si on essaie de le cacher) ...\n",
      "\n",
      "Comment le voir sur une dizaine d'\u00e9l\u00e9ment : ajouter un petit affichage \u00e0 chaque pas de calcul (regarder dans la console)."
     ]
    },
    {
     "cell_type": "code",
     "collapsed": false,
     "input": [
      "-module(inv).\n",
      "-compile(export_all).\n",
      "\n",
      "\n",
      "invPileLinAff([],R)-> \n",
      "  io:fwrite(\".\",[]),\n",
      "  R;\n",
      "invPileLinAff([E|Q],R)->\n",
      "  io:fwrite(\".\",[]),\n",
      "  invPileLinAff(Q,[E|R]).\n",
      "    \n",
      "invPileMonoQuadAff([])-> \n",
      "  io:fwrite(\".\",[]),\n",
      "  [];\n",
      "invPileMonoQuadAff([E|Q])->\n",
      "  io:fwrite(\".\",[]),\n",
      "  ajoutEnFinAff(E,invPileMonoQuadAff(Q)).\n",
      "    \n",
      "ajoutEnFinAff(E,[]) ->\n",
      "  io:fwrite(\".\",[]),\n",
      "  [E];\n",
      "ajoutEnFinAff(E,[F|Q]) ->   \n",
      "  io:fwrite(\".\",[]),\n",
      "  [F|ajoutEnFinAff(E,Q)]."
     ],
     "language": "python",
     "metadata": {},
     "outputs": [
      {
       "html": [
        "<pre>Successfully Compiled</pre>"
       ],
       "metadata": {},
       "output_type": "pyout",
       "prompt_number": 18,
       "text": [
        "Successfully Compiled"
       ]
      }
     ],
     "prompt_number": 18
    },
    {
     "cell_type": "code",
     "collapsed": false,
     "input": [
      "inv:invPileLinAff([0,1,2,3,4,5,6,7,8,9],[])."
     ],
     "language": "python",
     "metadata": {},
     "outputs": [
      {
       "html": [
        "[9, 8, 7, 6, 5, 4, 3, 2, 1, 0]"
       ],
       "metadata": {},
       "output_type": "pyout",
       "prompt_number": 19,
       "text": [
        "[9, 8, 7, 6, 5, 4, 3, 2, 1, 0]"
       ]
      }
     ],
     "prompt_number": 19
    },
    {
     "cell_type": "code",
     "collapsed": false,
     "input": [
      "inv:invPileMonoQuadAff([0,1,2,3,4,5,6,7,8,9])."
     ],
     "language": "python",
     "metadata": {},
     "outputs": [
      {
       "html": [
        "[9, 8, 7, 6, 5, 4, 3, 2, 1, 0]"
       ],
       "metadata": {},
       "output_type": "pyout",
       "prompt_number": 20,
       "text": [
        "[9, 8, 7, 6, 5, 4, 3, 2, 1, 0]"
       ]
      }
     ],
     "prompt_number": 20
    },
    {
     "cell_type": "markdown",
     "metadata": {},
     "source": [
      "Et alors ? comment faire ?\n",
      "\n",
      "Malheureusement, ce n'est pas simple. La solution initiale, n'est pas jolie pour tout le monde (en tout cas pour moi), mais au moins elle est lin\u00e9aire et on la comprend (c'est donc pas si mal ! et entre une solution qui n'est pas jolie et une solution qui est trop lente, chacun d\u00e9cidera laquelle il pr\u00e9f\u00e8re).\n",
      "\n",
      "Bref, en cherchant un peu on peut arriver tout de m\u00eame \u00e0 une solution lin\u00e9aire (et jolie ?), par contre un poil compliqu\u00e9e, car elle utilise la notion de cloture qui n'est pas habituelle pour beaucoup de paradigme de programmation pour impl\u00e9menter un ajout en queue en temps constant."
     ]
    },
    {
     "cell_type": "code",
     "collapsed": false,
     "input": [
      "-module(inv).\n",
      "-compile(export_all).\n",
      "\n",
      "invPileMonoLin([],F)-> \n",
      "  F([]);\n",
      "invPileMonoLin([E|Q],F)->\n",
      "  invPileMonoLin(Q,fun (Z) -> [E|F(Z)] end).\n"
     ],
     "language": "python",
     "metadata": {},
     "outputs": [
      {
       "html": [
        "<pre>Successfully Compiled</pre>"
       ],
       "metadata": {},
       "output_type": "pyout",
       "prompt_number": 22,
       "text": [
        "Successfully Compiled"
       ]
      }
     ],
     "prompt_number": 22
    },
    {
     "cell_type": "code",
     "collapsed": false,
     "input": [
      "inv:invPileMonoLin([1,2,3,4,5,6],fun(Z)->Z end)."
     ],
     "language": "python",
     "metadata": {},
     "outputs": [
      {
       "html": [
        "[6, 5, 4, 3, 2, 1]"
       ],
       "metadata": {},
       "output_type": "pyout",
       "prompt_number": 23,
       "text": [
        "[6, 5, 4, 3, 2, 1]"
       ]
      }
     ],
     "prompt_number": 23
    },
    {
     "cell_type": "markdown",
     "metadata": {},
     "source": [
      "La preuve que c'est lin\u00e9aire (\u00e0 voir dans la console)"
     ]
    },
    {
     "cell_type": "code",
     "collapsed": false,
     "input": [
      "-module(inv).\n",
      "-compile(export_all).\n",
      "\n",
      "invPileMonoLinAff([],F)-> \n",
      "  io:fwrite(\".\",[]),\n",
      "  F([]);\n",
      "invPileMonoLinAff([E|Q],F)->\n",
      "  io:fwrite(\".\",[]),\n",
      "  invPileMonoLinAff(Q,fun (Z) -> [E|F(Z)] end).\n"
     ],
     "language": "python",
     "metadata": {},
     "outputs": [
      {
       "html": [
        "<pre>Successfully Compiled</pre>"
       ],
       "metadata": {},
       "output_type": "pyout",
       "prompt_number": 24,
       "text": [
        "Successfully Compiled"
       ]
      }
     ],
     "prompt_number": 24
    },
    {
     "cell_type": "code",
     "collapsed": false,
     "input": [
      "inv:invPileMonoLinAff([0,1,2,3,4,5,6,7,8,9],fun(Z)->Z end)."
     ],
     "language": "python",
     "metadata": {},
     "outputs": [
      {
       "html": [
        "[9, 8, 7, 6, 5, 4, 3, 2, 1, 0]"
       ],
       "metadata": {},
       "output_type": "pyout",
       "prompt_number": 25,
       "text": [
        "[9, 8, 7, 6, 5, 4, 3, 2, 1, 0]"
       ]
      }
     ],
     "prompt_number": 25
    },
    {
     "cell_type": "markdown",
     "metadata": {},
     "source": [
      "Remarque finale, avec une file, on aurrait pu arriver \u00e0 un r\u00e9sultat similaire, malheureusement, en Erlang les files propos\u00e9es ne sont pas tout \u00e0 fait en temps lin\u00e9aire, elles sont d\u00e9finies assez simplement avec 2 piles et sont seulement en temps lin\u00e9aire amorti ... (juste un d\u00e9tail, mais un d\u00e9tail qui peut compter). \n",
      "\n",
      "Ici, avec l'ajout en queue en temps constant propos\u00e9, on pourrait faire des files en temps lin\u00e9aire (vraiment), mais c'est une autre histoire."
     ]
    },
    {
     "cell_type": "markdown",
     "metadata": {},
     "source": [
      "## Autre exemple avec la concat\u00e9nation\n",
      "\n",
      "### Premi\u00e8re version\n",
      "\n",
      "Version sans recherche de r\u00e9cursivit\u00e9 terminale."
     ]
    },
    {
     "cell_type": "code",
     "collapsed": false,
     "input": [
      "-module(cnct).\n",
      "-compile(export_all).\n",
      "\n",
      "c1([],F)->F;\n",
      "c1([E|L],F)->[E|c1(L,F)]."
     ],
     "language": "python",
     "metadata": {},
     "outputs": [
      {
       "html": [
        "<pre>Successfully Compiled</pre>"
       ],
       "metadata": {},
       "output_type": "pyout",
       "prompt_number": 2,
       "text": [
        "Successfully Compiled"
       ]
      }
     ],
     "prompt_number": 2
    },
    {
     "cell_type": "code",
     "collapsed": false,
     "input": [
      "cnct:c1([1,2,3,4],[5,6,7])."
     ],
     "language": "python",
     "metadata": {},
     "outputs": [
      {
       "html": [
        "[1, 2, 3, 4, 5, 6, 7]"
       ],
       "metadata": {},
       "output_type": "pyout",
       "prompt_number": 3,
       "text": [
        "[1, 2, 3, 4, 5, 6, 7]"
       ]
      }
     ],
     "prompt_number": 3
    },
    {
     "cell_type": "markdown",
     "metadata": {},
     "source": [
      "### Seconde version\n",
      "\n",
      "Recherche de r\u00e9cursivit\u00e9 terminale (en oubliant qlq d\u00e9tails ...) => erreur"
     ]
    },
    {
     "cell_type": "code",
     "collapsed": false,
     "input": [
      "-module(cnct).\n",
      "-compile(export_all).\n",
      "\n",
      "c2a(D,F)->c2arte(D,F,[]).\n",
      "\n",
      "c2arte([],F,G)->[G|F];\n",
      "c2arte([E|L],F,R)->c2arte(L,F,[E|R])."
     ],
     "language": "python",
     "metadata": {},
     "outputs": [
      {
       "html": [
        "<pre>Successfully Compiled</pre>"
       ],
       "metadata": {},
       "output_type": "pyout",
       "prompt_number": 4,
       "text": [
        "Successfully Compiled"
       ]
      }
     ],
     "prompt_number": 4
    },
    {
     "cell_type": "code",
     "collapsed": false,
     "input": [
      "cnct:c2a([1,2,3,4],[5,6,7])."
     ],
     "language": "python",
     "metadata": {},
     "outputs": [
      {
       "html": [
        "[[4, 3, 2, 1], 5, 6, 7]"
       ],
       "metadata": {},
       "output_type": "pyout",
       "prompt_number": 7,
       "text": [
        "[[4, 3, 2, 1], 5, 6, 7]"
       ]
      }
     ],
     "prompt_number": 7
    },
    {
     "cell_type": "markdown",
     "metadata": {},
     "source": [
      "il y a 2 pb, \n",
      "* \u00e0 la fin le r\u00e9sultat n'est pas une liste, mais une liste avec comme premier element une autre liste\n",
      "* en prenant les \u00e9l\u00e9ments (sans imbrication), les premiers sont dans l'ordre inverse ...\n",
      "\n",
      "Correction (au moins pour avoir le bon r\u00e9sultat) :"
     ]
    },
    {
     "cell_type": "code",
     "collapsed": false,
     "input": [
      "-module(cnct).\n",
      "-compile(export_all).\n",
      "\n",
      "c2b(D,F)->c2brt(D,F,[]).\n",
      "\n",
      "inv2([],R)->R;\n",
      "inv2([E|L],R)->inv2(L,[E|R]).\n",
      "\n",
      "c2brt([],F,G)->inv2(G,F);\n",
      "c2brt([E|L],F,R)->c2brt(L,F,[E|R])."
     ],
     "language": "python",
     "metadata": {},
     "outputs": [
      {
       "html": [
        "<pre>Successfully Compiled</pre>"
       ],
       "metadata": {},
       "output_type": "pyout",
       "prompt_number": 1,
       "text": [
        "Successfully Compiled"
       ]
      }
     ],
     "prompt_number": 1
    },
    {
     "cell_type": "code",
     "collapsed": false,
     "input": [
      "cnct:c2b([1,2,3,4],[5,6,7])."
     ],
     "language": "python",
     "metadata": {},
     "outputs": [
      {
       "html": [
        "[1, 2, 3, 4, 5, 6, 7]"
       ],
       "metadata": {},
       "output_type": "pyout",
       "prompt_number": 2,
       "text": [
        "[1, 2, 3, 4, 5, 6, 7]"
       ]
      }
     ],
     "prompt_number": 2
    },
    {
     "cell_type": "markdown",
     "metadata": {},
     "source": [
      "### Troisi\u00e8me version \n",
      "\n",
      "En cherchant une r\u00e9cursivit\u00e9 terminale et un ajout en queue via une fonction"
     ]
    },
    {
     "cell_type": "code",
     "collapsed": false,
     "input": [
      "-module(cnct).\n",
      "-compile(export_all).\n",
      "\n",
      "c3(D,F)->c3rtf(D,F,fun (Z)->Z end).\n",
      "\n",
      "c3rtf([],F,Z)->Z(F);\n",
      "c3rtf([E|L],F,Z)->c3rtf(L,F,fun (X)->Z([E|X]) end)."
     ],
     "language": "python",
     "metadata": {},
     "outputs": [
      {
       "html": [
        "<pre>Successfully Compiled</pre>"
       ],
       "metadata": {},
       "output_type": "pyout",
       "prompt_number": 6,
       "text": [
        "Successfully Compiled"
       ]
      }
     ],
     "prompt_number": 6
    },
    {
     "cell_type": "code",
     "collapsed": false,
     "input": [
      "cnct:c3([1,2,3,4],[5,6,7])."
     ],
     "language": "python",
     "metadata": {},
     "outputs": [
      {
       "html": [
        "[1, 2, 3, 4, 5, 6, 7]"
       ],
       "metadata": {},
       "output_type": "pyout",
       "prompt_number": 7,
       "text": [
        "[1, 2, 3, 4, 5, 6, 7]"
       ]
      }
     ],
     "prompt_number": 7
    }
   ],
   "metadata": {}
  }
 ]
}