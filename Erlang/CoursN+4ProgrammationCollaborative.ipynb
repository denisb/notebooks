{
 "cells": [
  {
   "cell_type": "markdown",
   "id": "2b01103b-91d5-488c-9723-7ca06a125f03",
   "metadata": {
    "editable": true,
    "execution": {
     "iopub.execute_input": "2024-01-12T08:55:53.447632Z",
     "iopub.status.busy": "2024-01-12T08:55:53.447304Z",
     "iopub.status.idle": "2024-01-12T08:55:53.452035Z",
     "shell.execute_reply": "2024-01-12T08:55:53.451385Z",
     "shell.execute_reply.started": "2024-01-12T08:55:53.447608Z"
    },
    "slideshow": {
     "slide_type": "slide"
    },
    "tags": []
   },
   "source": [
    "<img src=\"logoUGA.png\"></img>\n",
    "\n",
    "Séance 11 (S+4) ; Cours N+4 : Programmation collaborative\n"
   ]
  },
  {
   "cell_type": "markdown",
   "id": "953c5d1f-1dbb-46f9-899c-22fbea6afa85",
   "metadata": {
    "editable": true,
    "slideshow": {
     "slide_type": "slide"
    },
    "tags": []
   },
   "source": [
    "1) Introduction : Programmation collaborative (par patron/schéma élémentaire)\n",
    "2) 1 prod - 1 conso\n",
    "3) 3 tiers ( 1 prod - 1 consoProd - 1 conso et retour ?)\n",
    "5) N prod - 1 conso\n",
    "6) 1 prod - N conso\n",
    "7) Autres\n",
    "   * N prod - M conso ?\n",
    "   * map-reduce en parallèle\n",
    "   * mise en place des réseaux de communication (anneau, 4-complet, etc.)"
   ]
  },
  {
   "cell_type": "markdown",
   "id": "b4d97bf1-7705-404d-9c19-3bff986a03fb",
   "metadata": {
    "editable": true,
    "slideshow": {
     "slide_type": "notes"
    },
    "tags": []
   },
   "source": [
    "# Introduction\n",
    "\n",
    "Quelques exemples de répartition d'un calcul sur un processeur multicoeur en utilisant plusieurs processus fonctionnant en parallèle selon des schémas élémentaires d'organisation.\n",
    "\n",
    "Les points importants abordés :\n",
    "\n",
    "* parallélisme réduit, à taille humaine (quelques processus seulement pour processeur multicoeur début 21e siècle, i.e. le nombre de coeur se compte en unité, au maximum en dizaine)\n",
    "* schéma simple (sans boucle de communication, type dataDriven, dataFlow)\n",
    "\n",
    "## Schémas usuels (liste rapide non exhaustive)\n",
    "\n",
    "Rapidement, une liste des idées pour programmer en parallèle :\n",
    "\n",
    "* modèle map - reduce (et proches : replicate - reduce, split - merge)\n",
    "* modèle en tiers : 3-tiers, N-tiers\n",
    "* modèle dataflow programming (et proches : Data-driven programming, Flow-based programming, Worflow programming, Stream Processing, Pipes, Pipeline)\n",
    "\n",
    "plus loin (au delà de ce document)\n",
    "\n",
    "* programmation vectorielle\n",
    "* réseaux d'automates\n",
    "* système multi-agents\n",
    "\n",
    "Pour la suite, une démarche \"design pattern\" (patron de conception / schémas élémentaire de programmation) sera adoptée. Ce qui signifie l'introduction d'un vocabulaire (ex. prod-conso), des dessins pour visualiser et des schémas de programmations (un peu) abstraits. Pour les mises en oeuvres pratiques, il faudra adapter.\n",
    "\n",
    "En commentaire, sera donnée une indication des gains en temps de calcul espérés, avec une explicitation des limites du gain ; dans tous les cas, attention :\n",
    "\n",
    "* la loi de Amdahl : https://fr.wikipedia.org/wiki/Loi_d%27Amdahl (peu de processeur, peu de gain sur temps global)\n",
    "* la loi de Gustafson https://fr.wikipedia.org/wiki/Loi_de_Gustafson (plus de données, plus de gain sur temps moyen par donnée)"
   ]
  },
  {
   "cell_type": "markdown",
   "id": "a7077913-b8d6-4b85-a639-938d225e7ff1",
   "metadata": {
    "editable": true,
    "slideshow": {
     "slide_type": "slide"
    },
    "tags": []
   },
   "source": [
    "# Schéma de base : 1 Producteur - 1 Consommateur\n",
    "\n",
    "Le plus simple, le calcul est divisé en 2 , d'un côté un producteur de données intermédiaires envoyées de l'autre côté à un consommateur. \n",
    "\n",
    "![1P1C.png](1P1C.png)"
   ]
  },
  {
   "cell_type": "markdown",
   "id": "fd16920e-700f-46d8-99ea-91ef6f6c6cd6",
   "metadata": {
    "editable": true,
    "slideshow": {
     "slide_type": "notes"
    },
    "tags": []
   },
   "source": [
    "Gain visé :\n",
    "\n",
    "* 2\n",
    "* sous réserve que :\n",
    "  * le temps de calcul du producteur soit proche du temps de calcul du consommateur\n",
    "  * le débit de production des données intermédiaires soient proche du débit de consommation de ces données intermédiaires \n",
    "  * la latence d'obtention des premières données intermédiaire soir négligeable (ou raisonnable)\n",
    "  * le surcoùt de la communication soit négligeable (ou raisonnable)\n",
    "  \n",
    "Un exemple :\n",
    "\n",
    "* un processeur crée des données, cela lui prend un certains temps (lg)\n",
    "* un consommateur utilise ces données, cela lui prend aussi du temps (lg)"
   ]
  },
  {
   "cell_type": "code",
   "execution_count": 75,
   "id": "5ab579c5-6da6-475a-bc84-9146b7578d3c",
   "metadata": {
    "editable": true,
    "execution": {
     "iopub.execute_input": "2024-03-01T12:53:47.777999Z",
     "iopub.status.busy": "2024-03-01T12:53:47.777787Z",
     "iopub.status.idle": "2024-03-01T12:53:47.796395Z",
     "shell.execute_reply": "2024-03-01T12:53:47.795793Z",
     "shell.execute_reply.started": "2024-03-01T12:53:47.777985Z"
    },
    "slideshow": {
     "slide_type": "notes"
    },
    "tags": []
   },
   "outputs": [
    {
     "name": "stdout",
     "output_type": "stream",
     "text": [
      "Overwriting prog.erl\n"
     ]
    }
   ],
   "source": [
    "%%writefile prog.erl\n",
    "-module(prog).\n",
    "-compile([export_all,nowarn_export_all]).\n",
    "    \n",
    "processusProducteur(PConso,0) -> PConso ! fin;\n",
    "processusProducteur(PConso,P) ->\n",
    "  lg(P),\n",
    "  PConso ! P,\n",
    "  processusProducteur(PConso,P-1).\n",
    "    \n",
    "processusConsommateur() ->\n",
    "  receive C when is_integer(C) -> lg(C), processusConsommateur();\n",
    "  fin -> io:format(\"Consommateur> fin. ~n\",[]) end.\n",
    "    \n",
    "lg(0) -> done;\n",
    "lg(N) -> lg(N div 2).\n",
    "\n",
    "main([]) -> \n",
    "  compile:file(prog),\n",
    "  {ok, X} = io:read(\"Donne un nombre : \"),\n",
    "  io:format(\"~n *** 1 producteur - 1 consommateur *** ~n~n\",[]),\n",
    "  PrcsConso=spawn(prog,processusConsommateur,[]),\n",
    "  _PrcsProcessusProd=spawn(prog,processusProducteur,[PrcsConso,X]),\n",
    "  timer:sleep(5000)."
   ]
  },
  {
   "cell_type": "code",
   "execution_count": 77,
   "id": "83701eef-e3ad-42aa-b516-e0e2797a58e9",
   "metadata": {
    "editable": true,
    "execution": {
     "iopub.execute_input": "2024-03-01T12:53:57.056323Z",
     "iopub.status.busy": "2024-03-01T12:53:57.055989Z",
     "iopub.status.idle": "2024-03-01T12:54:02.605056Z",
     "shell.execute_reply": "2024-03-01T12:54:02.602021Z",
     "shell.execute_reply.started": "2024-03-01T12:53:57.056300Z"
    },
    "slideshow": {
     "slide_type": "notes"
    },
    "tags": []
   },
   "outputs": [
    {
     "name": "stdout",
     "output_type": "stream",
     "text": [
      "Donne un nombre : \n",
      " *** 1 producteur - 1 consommateur *** \n",
      "\n",
      "Consommateur> fin. \n"
     ]
    }
   ],
   "source": [
    "!echo \"1000.\" | escript prog.erl"
   ]
  },
  {
   "cell_type": "markdown",
   "id": "a9df531c-b2e7-428f-8c2c-261619fe8f91",
   "metadata": {
    "editable": true,
    "slideshow": {
     "slide_type": "notes"
    },
    "tags": []
   },
   "source": [
    "## Composition simple (motif 3 tiers) : 1 Producteur - 1 ConsommateurProducteur - 1 Consommateur\n",
    "\n",
    "En adoptant une décomposition en 3 tiers, le calcul est divisé en 3 , d'un côté un producteur d'une première série de données intermédiaires envoyées au centre à un consommateur-producteur qui transforme cette première série de données intermédiaires pour donner une seconde série de données intermédiaires envoyées à un consommateur final en bout de chaine.\n",
    "\n",
    "Gain visé :\n",
    "\n",
    "* 3\n",
    "* sous réserve que :\n",
    "  * le temps de calcul du producteur soit proche du temps de calcul du consommateur - producteur et proche du temps de calcul du consommateur final \n",
    "  * le débit de production des données intermédiaires soient proche du débit de consommation de ces données intermédiaires\n",
    "  * la latence d'obtention des données intermédiaire soir négligeable (ou raisonnable)\n",
    "  * le surcoùt de la communication soit négligeable (ou raisonnable)\n",
    "\n",
    "Un exemple :"
   ]
  },
  {
   "cell_type": "code",
   "execution_count": 139,
   "id": "2f77af29-120a-4b30-bab4-b7c3723a250e",
   "metadata": {
    "editable": true,
    "execution": {
     "iopub.execute_input": "2024-03-01T13:22:29.813708Z",
     "iopub.status.busy": "2024-03-01T13:22:29.812846Z",
     "iopub.status.idle": "2024-03-01T13:22:29.834048Z",
     "shell.execute_reply": "2024-03-01T13:22:29.833432Z",
     "shell.execute_reply.started": "2024-03-01T13:22:29.813676Z"
    },
    "slideshow": {
     "slide_type": "notes"
    },
    "tags": []
   },
   "outputs": [
    {
     "name": "stdout",
     "output_type": "stream",
     "text": [
      "Overwriting prog.erl\n"
     ]
    }
   ],
   "source": [
    "%%writefile prog.erl\n",
    "-module(prog).\n",
    "-compile([export_all,nowarn_export_all]).\n",
    "     \n",
    "processusProducteur(PConsoProd,0) -> PConsoProd ! fin;\n",
    "processusProducteur(PConsoProd,P) ->\n",
    "  lg(P),\n",
    "  PConsoProd ! P,\n",
    "  processusProducteur(PConsoProd,P-1).\n",
    "\n",
    "processusConsommateurProducteur(PConso) ->\n",
    "  receive C when is_integer(C) -> lg(C), PConso ! C, processusConsommateurProducteur(PConso);\n",
    "  fin -> PConso ! fin end.\n",
    "\n",
    "processusConsommateur() ->\n",
    "  receive C when is_integer(C) -> lg(C), processusConsommateur();\n",
    "  fin -> io:format(\"Consommateur> fin. ~n\",[]) end.\n",
    "    \n",
    "lg(0) -> done;\n",
    "lg(N) -> lg(N div 2).\n",
    "\n",
    "\n",
    "main([]) ->\n",
    "  compile:file(prog),\n",
    "  {ok, X} = io:read(\"Donne un nombre : \"),\n",
    "  io:format(\"~n *** 1 producteur - 1 consommateurProducteur - 1 consommateur *** ~n~n\",[]),\n",
    "  PrcsConso=spawn(prog,processusConsommateur,[]),\n",
    "  PrcsConsoProd=spawn(prog,processusConsommateurProducteur,[PrcsConso]),\n",
    "  _PrcsProcessusProd=spawn(prog,processusProducteur,[PrcsConsoProd,X]),\n",
    "  timer:sleep(5000)."
   ]
  },
  {
   "cell_type": "code",
   "execution_count": 11,
   "id": "fab1f6e4-fbeb-4e6d-ba0a-ed2f44261c6d",
   "metadata": {
    "editable": true,
    "execution": {
     "iopub.execute_input": "2024-03-04T13:38:37.704028Z",
     "iopub.status.busy": "2024-03-04T13:38:37.703743Z",
     "iopub.status.idle": "2024-03-04T13:38:38.078372Z",
     "shell.execute_reply": "2024-03-04T13:38:38.077768Z",
     "shell.execute_reply.started": "2024-03-04T13:38:37.704013Z"
    },
    "slideshow": {
     "slide_type": "notes"
    },
    "tags": []
   },
   "outputs": [
    {
     "name": "stdout",
     "output_type": "stream",
     "text": [
      "Donne un nombre de producteurs : Donne un nombre de donnees : escript: exception error: no match of right hand side value eof\n",
      "  in function  erl_eval:expr/5 (erl_eval.erl, line 450)\n",
      "  in call from escript:eval_exprs/5 (escript.erl, line 869)\n",
      "  in call from erl_eval:local_func/6 (erl_eval.erl, line 572)\n",
      "  in call from escript:interpret/4 (escript.erl, line 780)\n",
      "  in call from escript:start/1 (escript.erl, line 277)\n",
      "  in call from init:start_em/1 \n",
      "  in call from init:do_boot/3 \n"
     ]
    }
   ],
   "source": [
    "!echo \"1000000.\" | escript prog.erl"
   ]
  },
  {
   "cell_type": "markdown",
   "id": "e6df49cf-cd04-4d09-a036-660d19538c08",
   "metadata": {
    "editable": true,
    "execution": {
     "iopub.execute_input": "2024-03-01T13:47:39.801352Z",
     "iopub.status.busy": "2024-03-01T13:47:39.800988Z",
     "iopub.status.idle": "2024-03-01T13:47:39.811315Z",
     "shell.execute_reply": "2024-03-01T13:47:39.810462Z",
     "shell.execute_reply.started": "2024-03-01T13:47:39.801325Z"
    },
    "slideshow": {
     "slide_type": "slide"
    },
    "tags": []
   },
   "source": [
    "## N Producteurs - 1 Consommateur\n",
    "\n",
    "Le calcul est divisé en N+1, avec N producteurs de séries de données intermédiaires envoyées à un consommateur.\n",
    "\n",
    "![NP1C.png](NP1C.png)"
   ]
  },
  {
   "cell_type": "markdown",
   "id": "7af82615-1279-4119-b425-d8b3ee38f9b9",
   "metadata": {
    "editable": true,
    "execution": {
     "iopub.execute_input": "2024-03-01T13:47:39.801352Z",
     "iopub.status.busy": "2024-03-01T13:47:39.800988Z",
     "iopub.status.idle": "2024-03-01T13:47:39.811315Z",
     "shell.execute_reply": "2024-03-01T13:47:39.810462Z",
     "shell.execute_reply.started": "2024-03-01T13:47:39.801325Z"
    },
    "slideshow": {
     "slide_type": "notes"
    },
    "tags": []
   },
   "source": [
    "Gain visé :\n",
    "\n",
    "* N+1\n",
    "* sous réserve que :\n",
    "  * le temps de calcul des producteurs soit proche du temps de calcul du consommateur\n",
    "  * le débit de production des données intermédiaires soient proche du débit de consommation de ces données intermédiaires\n",
    "  * la latence d'obtention des données intermédiaire soir négligeable (ou raisonnable)\n",
    "  * le surcoùt de la communication soit négligeable (ou raisonnable)\n",
    "\n",
    "Un exemple :"
   ]
  },
  {
   "cell_type": "code",
   "execution_count": 90,
   "id": "ae8da525-44f3-494c-923e-c10ee7712969",
   "metadata": {
    "editable": true,
    "execution": {
     "iopub.execute_input": "2024-03-04T14:31:37.964507Z",
     "iopub.status.busy": "2024-03-04T14:31:37.964174Z",
     "iopub.status.idle": "2024-03-04T14:31:37.982139Z",
     "shell.execute_reply": "2024-03-04T14:31:37.981277Z",
     "shell.execute_reply.started": "2024-03-04T14:31:37.964492Z"
    },
    "slideshow": {
     "slide_type": "notes"
    },
    "tags": []
   },
   "outputs": [
    {
     "name": "stdout",
     "output_type": "stream",
     "text": [
      "Overwriting prog.erl\n"
     ]
    }
   ],
   "source": [
    "%%writefile prog.erl\n",
    "-module(prog).\n",
    "-compile([export_all,nowarn_export_all]).\n",
    "     \n",
    "processusNProducteurs(_PConso,0,_P) -> done;\n",
    "processusNProducteurs(PConso,N,D) ->\n",
    "  spawn(prog,processusProducteur,[PConso,D]),\n",
    "  processusNProducteurs(PConso,N-1,D).\n",
    "\n",
    "processusProducteur(_PConso,0) -> io:format(\"Producteur> fin. ~n\",[]);\n",
    "processusProducteur(PConso,D) ->\n",
    "  lg(D),\n",
    "  PConso ! D,\n",
    "  processusProducteur(PConso,D-1).\n",
    "\n",
    "processusConsommateur(N,D) when D < N -> io:format(\"Consommateur> fin. ~n\",[]);\n",
    "processusConsommateur(N,D) ->\n",
    "  receive C -> lg(C), processusConsommateur(N,D-1) end.\n",
    "    \n",
    "lg(0) -> done;\n",
    "lg(Z) -> lg(Z div 2).\n",
    "\n",
    "\n",
    "main([]) ->\n",
    "  compile:file(prog),\n",
    "  {ok, N} = io:read(\"Donne un nombre de producteurs : \"),\n",
    "  {ok, D} = io:read(\"Donne un nombre de donnees : \"),\n",
    "  io:format(\"~n *** ~p producteurs - 1 consommateur (~p donnees)*** ~n~n\",[N,D]),\n",
    "  PrcsConso=spawn(prog,processusConsommateur,[N,D]),\n",
    "  processusNProducteurs(PrcsConso,N,D div N),\n",
    "  timer:sleep(9000)."
   ]
  },
  {
   "cell_type": "code",
   "execution_count": 95,
   "id": "d627ac10-ee50-4c44-b57c-dc9794f9ea88",
   "metadata": {
    "editable": true,
    "execution": {
     "iopub.execute_input": "2024-03-04T14:32:29.208446Z",
     "iopub.status.busy": "2024-03-04T14:32:29.207904Z",
     "iopub.status.idle": "2024-03-04T14:32:38.561053Z",
     "shell.execute_reply": "2024-03-04T14:32:38.559112Z",
     "shell.execute_reply.started": "2024-03-04T14:32:29.208428Z"
    },
    "slideshow": {
     "slide_type": "notes"
    },
    "tags": []
   },
   "outputs": [
    {
     "name": "stdout",
     "output_type": "stream",
     "text": [
      "Donne un nombre de producteurs : Donne un nombre de donnees : \n",
      " *** 6 producteurs - 1 consommateur (1000000 donnees)*** \n",
      "\n",
      "Producteur> fin. \n",
      "Producteur> fin. \n",
      "Producteur> fin. \n",
      "Producteur> fin. \n",
      "Producteur> fin. \n",
      "Producteur> fin. \n",
      "Consommateur> fin. \n"
     ]
    }
   ],
   "source": [
    "!echo -e \"6.\\n1000000.\" | escript prog.erl"
   ]
  },
  {
   "cell_type": "markdown",
   "id": "0b7ffe6a-e3f9-4697-917c-c0129f2693da",
   "metadata": {
    "editable": true,
    "slideshow": {
     "slide_type": "notes"
    },
    "tags": []
   },
   "source": [
    "Rem. pour N prod => 1 Conso, la fin est (presque) facile à observer (il n'y a qu'un seul consommateur, donc une seule fin globale), on peut travailler à une meilleure forme de programme et de mesure du temps avec time : "
   ]
  },
  {
   "cell_type": "code",
   "execution_count": 12,
   "id": "804218aa-7ab5-4b53-919a-3a0b5571b412",
   "metadata": {
    "editable": true,
    "execution": {
     "iopub.execute_input": "2024-03-04T16:25:32.924110Z",
     "iopub.status.busy": "2024-03-04T16:25:32.923543Z",
     "iopub.status.idle": "2024-03-04T16:25:32.944967Z",
     "shell.execute_reply": "2024-03-04T16:25:32.943714Z",
     "shell.execute_reply.started": "2024-03-04T16:25:32.924079Z"
    },
    "slideshow": {
     "slide_type": "slide"
    },
    "tags": []
   },
   "outputs": [
    {
     "name": "stdout",
     "output_type": "stream",
     "text": [
      "Overwriting prog.erl\n"
     ]
    }
   ],
   "source": [
    "%%writefile prog.erl\n",
    "-module(prog).\n",
    "-compile([export_all,nowarn_export_all]).\n",
    "\n",
    "processusNProducteurs(_PConso,0,_P) -> done;\n",
    "processusNProducteurs(PConso,N,D) ->\n",
    "  spawn(prog,processusProducteur,[PConso,D]),\n",
    "  processusNProducteurs(PConso,N-1,D).\n",
    "\n",
    "processusProducteur(_PConso,0) -> io:format(\"Producteur> fin. ~n\",[]);\n",
    "processusProducteur(PConso,D) ->\n",
    "  lin(D),  %%version avec bcp de calcul pour les producteurs\n",
    "  PConso ! D,\n",
    "  processusProducteur(PConso,D-1).\n",
    "\n",
    "processusConsommateur(N,D,M) when D < N -> io:format(\"Consommateur> fin. ~n\",[]), M ! fin;\n",
    "processusConsommateur(N,D,M) ->\n",
    "  receive C -> lg(C), processusConsommateur(N,D-1,M) end. %%version avec peu de calcul pour le consommateur\n",
    "    \n",
    "lg(0) -> done;\n",
    "lg(Z) -> lg(Z div 2).  %%version avec peu de calcul bcp de communication\n",
    "\n",
    "lin(0) -> done;\n",
    "lin(Z) -> lin(Z-1).    %%version avec bcp de calcul, peu de communication\n",
    "\n",
    "\n",
    "main([]) ->\n",
    "  compile:file(prog),\n",
    "  {ok, N} = io:read(\"Donne un nombre de producteurs : \"),\n",
    "  {ok, D} = io:read(\"Donne un nombre de donnees : \"),\n",
    "  io:format(\"~n *** ~p producteurs - 1 consommateur (~p donnees)*** ~n~n\",[N,D]),\n",
    "  PrcsConso=spawn(prog,processusConsommateur,[N,D,self()]),\n",
    "  processusNProducteurs(PrcsConso,N,D div N),\n",
    "  receive _X -> done end."
   ]
  },
  {
   "cell_type": "code",
   "execution_count": null,
   "id": "b40d1af2-2416-432f-a519-95fcf87e8c8c",
   "metadata": {
    "editable": true,
    "slideshow": {
     "slide_type": "slide"
    },
    "tags": []
   },
   "outputs": [],
   "source": [
    "%%writefile prog.erl\n",
    "-module(prog).\n",
    "-compile([export_all,nowarn_export_all]).\n",
    "processusNProducteurs(_PConso,0,_P) -> done;\n",
    "processusNProducteurs(PConso,N,D) ->\n",
    "  spawn(prog,processusProducteur,[PConso,D]),\n",
    "  processusNProducteurs(PConso,N-1,D).\n",
    "processusProducteur(_PConso,0) -> io:format(\"Producteur> fin. ~n\",[]);\n",
    "processusProducteur(PConso,D) ->\n",
    "  lin(D),  %%version avec bcp de calcul pour les producteurs\n",
    "  PConso ! D,\n",
    "  processusProducteur(PConso,D-1).\n",
    "processusConsommateur(N,D,M) when D < N -> io:format(\"Consommateur> fin. ~n\",[]), M ! fin;\n",
    "processusConsommateur(N,D,M) ->\n",
    "  receive C -> lg(C), processusConsommateur(N,D-1,M) end. %%version avec peu de calcul pour le consommateur\n",
    "lg(0) -> done;\n",
    "lg(Z) -> lg(Z div 2).  %%version avec peu de calcul bcp de communication\n",
    "lin(0) -> done;\n",
    "lin(Z) -> lin(Z-1).    %%version avec bcp de calcul, peu de communication\n",
    "main([]) ->\n",
    "  compile:file(prog),\n",
    "  {ok, N} = io:read(\"Donne un nombre de producteurs : \"),\n",
    "  {ok, D} = io:read(\"Donne un nombre de donnees : \"),\n",
    "  io:format(\"~n *** ~p producteurs - 1 consommateur (~p donnees)*** ~n~n\",[N,D]),\n",
    "  PrcsConso=spawn(prog,processusConsommateur,[N,D,self()]),\n",
    "  processusNProducteurs(PrcsConso,N,D div N),\n",
    "  receive _X -> done end."
   ]
  },
  {
   "cell_type": "code",
   "execution_count": 29,
   "id": "a5c23aab-873c-4291-a4e4-c4a27a2f99b8",
   "metadata": {
    "editable": true,
    "execution": {
     "iopub.execute_input": "2024-03-04T16:31:10.650315Z",
     "iopub.status.busy": "2024-03-04T16:31:10.650097Z",
     "iopub.status.idle": "2024-03-04T16:32:29.384749Z",
     "shell.execute_reply": "2024-03-04T16:32:29.383453Z",
     "shell.execute_reply.started": "2024-03-04T16:31:10.650300Z"
    },
    "slideshow": {
     "slide_type": "fragment"
    },
    "tags": []
   },
   "outputs": [
    {
     "name": "stdout",
     "output_type": "stream",
     "text": [
      "Donne un nombre de producteurs : Donne un nombre de donnees : \n",
      " *** 10 producteurs - 1 consommateur (4000000 donnees)*** \n",
      "\n",
      "^C\n"
     ]
    }
   ],
   "source": [
    "!time echo -e \"10.\\n4000000.\" | escript prog.erl"
   ]
  },
  {
   "cell_type": "markdown",
   "id": "4388049e-b3ae-4796-8f59-2a277e2548bb",
   "metadata": {
    "editable": true,
    "slideshow": {
     "slide_type": "notes"
    },
    "tags": []
   },
   "source": [
    "## 1 Producteur - N Consommateurs\n",
    "\n",
    "Le calcul est divisé en N+1, avec 1 producteurs d'une série de données intermédiaires envoyées à N consommateurs.\n",
    "\n",
    "![1PNC.png](1PNC.png)\n",
    "\n",
    "Gain visé :\n",
    "\n",
    "* N+1\n",
    "* sous réserve que :\n",
    "  * le temps de calcul du producteurs soit proche du temps de calcul des consommateurs\n",
    "  * le débit de production des données intermédiaires soient proche du débit de consommation de ces données intermédiaires\n",
    "  * la latence d'obtention des données intermédiaire soir négligeable (ou raisonnable)\n",
    "  * le surcoùt de la communication soit négligeable (ou raisonnable)\n",
    "\n",
    "Un exemple :"
   ]
  },
  {
   "cell_type": "code",
   "execution_count": 111,
   "id": "3619febe-d611-4173-a9e0-7e8e584d40c1",
   "metadata": {
    "editable": true,
    "execution": {
     "iopub.execute_input": "2024-03-04T14:35:56.319862Z",
     "iopub.status.busy": "2024-03-04T14:35:56.318798Z",
     "iopub.status.idle": "2024-03-04T14:35:56.337804Z",
     "shell.execute_reply": "2024-03-04T14:35:56.337159Z",
     "shell.execute_reply.started": "2024-03-04T14:35:56.319842Z"
    },
    "slideshow": {
     "slide_type": "notes"
    },
    "tags": []
   },
   "outputs": [
    {
     "name": "stdout",
     "output_type": "stream",
     "text": [
      "Overwriting prog.erl\n"
     ]
    }
   ],
   "source": [
    "%%writefile prog.erl\n",
    "-module(prog).\n",
    "-compile([export_all,nowarn_export_all]).\n",
    "  \n",
    "processusProducteur(_LConsos,_LC,0) -> io:format(\"Producteur> fin. ~n\",[]);\n",
    "processusProducteur([],_LC,D) ->\n",
    " processusProducteur(_LC,_LC,D);\n",
    "processusProducteur([PConso|LConsos],_LC,D) ->\n",
    "  lg(D),\n",
    "  PConso ! D,\n",
    "  processusProducteur(LConsos,_LC,D-1).\n",
    "\n",
    "procConsommateurs(0,_N) -> [];\n",
    "procConsommateurs(N,NN) -> \n",
    "  [spawn(prog,processusConsommateur,[NN])|procConsommateurs(N-1,NN)].\n",
    "  \n",
    "processusConsommateur(N) ->\n",
    "  receive C when C =< N -> io:format(\"Consommateur> fin. ~n\",[]);\n",
    "          C -> lg(C), processusConsommateur(N) end.\n",
    "   \n",
    "lg(0) -> done;\n",
    "lg(Z) -> lg(Z div 2).\n",
    "\n",
    "main([]) ->\n",
    "  compile:file(prog),\n",
    "  {ok, N} = io:read(\"Donne un nombre de consommateur : \"),\n",
    "  {ok, D} = io:read(\"Donne un nombre de donnees : \"),\n",
    "  io:format(\"~n *** 1 producteurs - ~p consommateur (~p donnees)*** ~n~n\",[N,D]),  \n",
    "  ListeConsommateurs=procConsommateurs(N,N),\n",
    "  _PrcsProcessusProd=spawn(prog,processusProducteur,[ListeConsommateurs,ListeConsommateurs,D]),\n",
    "  timer:sleep(9000).    \n"
   ]
  },
  {
   "cell_type": "code",
   "execution_count": 113,
   "id": "8073c339-b7c2-4977-b869-6ce8045a3fd8",
   "metadata": {
    "editable": true,
    "execution": {
     "iopub.execute_input": "2024-03-04T14:36:07.949913Z",
     "iopub.status.busy": "2024-03-04T14:36:07.949478Z",
     "iopub.status.idle": "2024-03-04T14:36:17.303686Z",
     "shell.execute_reply": "2024-03-04T14:36:17.302894Z",
     "shell.execute_reply.started": "2024-03-04T14:36:07.949880Z"
    },
    "slideshow": {
     "slide_type": "notes"
    },
    "tags": []
   },
   "outputs": [
    {
     "name": "stdout",
     "output_type": "stream",
     "text": [
      "Donne un nombre de consommateur : Donne un nombre de donnees : \n",
      " *** 1 producteurs - 6 consommateur (1000000 donnees)*** \n",
      "\n",
      "Producteur> fin. \n",
      "Consommateur> fin. \n",
      "Consommateur> fin. \n",
      "Consommateur> fin. \n",
      "Consommateur> fin. \n",
      "Consommateur> fin. \n",
      "Consommateur> fin. \n"
     ]
    }
   ],
   "source": [
    "!echo -e \"6.\\n1000000.\" | escript prog.erl"
   ]
  },
  {
   "cell_type": "markdown",
   "id": "055c4d08-b7d1-4d7e-89cd-8689a9651e4f",
   "metadata": {
    "editable": true,
    "execution": {
     "iopub.execute_input": "2024-03-01T13:48:57.093240Z",
     "iopub.status.busy": "2024-03-01T13:48:57.092961Z",
     "iopub.status.idle": "2024-03-01T13:48:57.275442Z",
     "shell.execute_reply": "2024-03-01T13:48:57.274472Z",
     "shell.execute_reply.started": "2024-03-01T13:48:57.093223Z"
    },
    "slideshow": {
     "slide_type": "notes"
    },
    "tags": []
   },
   "source": [
    "# Autres\n",
    "   \n",
    "D'autres ?\n",
    "\n",
    "* N prod - M conso ? (est-ce utile ?)\n",
    "* map-reduce en parallèle **AFAIRE**\n",
    "* mise en place des réseaux de communication\n",
    "  * anneau **AFAIRE**\n",
    "  * 4-complet **AFAIRE**"
   ]
  }
 ],
 "metadata": {
  "kernelspec": {
   "display_name": "Python 3 (ipykernel)",
   "language": "python",
   "name": "python3"
  },
  "language_info": {
   "codemirror_mode": {
    "name": "ipython",
    "version": 3
   },
   "file_extension": ".py",
   "mimetype": "text/x-python",
   "name": "python",
   "nbconvert_exporter": "python",
   "pygments_lexer": "ipython3",
   "version": "3.10.12"
  },
  "rise": {
   "scroll": true
  },
  "title": "Cours 4 : Programmation collaborative"
 },
 "nbformat": 4,
 "nbformat_minor": 5
}
