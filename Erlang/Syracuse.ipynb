{
 "metadata": {
  "name": "",
  "signature": "sha256:4deef4d659f372baeec1f59bed07d995bc81163a1f09f614de557329e0870df1"
 },
 "nbformat": 3,
 "nbformat_minor": 0,
 "worksheets": [
  {
   "cells": [
    {
     "cell_type": "markdown",
     "metadata": {},
     "source": [
      "# Calcul de la longueur max des suites de Syracuse en parall\u00e8le\n",
      "\n",
      "(d\u00e9mo faite en cours, \u00e0 partir de rien en 2017, transf\u00e9r\u00e9e et format\u00e9e \u00e0 minima sur un notebook Erlang en 2019)\n",
      "\n",
      "## Pr\u00e9paration \n",
      "\n",
      "Reflexions sur le calcul de longueur max des suites de Syracuse en parall\u00e8le :\n",
      "* calcul d'une longueur\n",
      "* r\u00e9partition de plusieurs calculs sur plusieurs producteur/map (vs consommateur/reduce \u00e0 suivre)\n",
      "* concentration des r\u00e9sultats et calcul du max sur un consommateur/reduce\n",
      "\n",
      "## Calcul de la longueur d'une suite de Syracuse"
     ]
    },
    {
     "cell_type": "code",
     "collapsed": false,
     "input": [
      "-module(syr).\n",
      "-compile(export_all).\n",
      "\n",
      "lgSyr(1)-> 0 ;\n",
      "lgSyr(N) when N rem 2 =:= 0 -> 1 + lgSyr(N div 2) ;\n",
      "lgSyr(N) -> 1+lgSyr(3*N+1)."
     ],
     "language": "python",
     "metadata": {},
     "outputs": [
      {
       "html": [
        "<pre>Successfully Compiled</pre>"
       ],
       "metadata": {},
       "output_type": "pyout",
       "prompt_number": 17,
       "text": [
        "Successfully Compiled"
       ]
      }
     ],
     "prompt_number": 17
    },
    {
     "cell_type": "code",
     "collapsed": false,
     "input": [
      "syr:lgSyr(3)."
     ],
     "language": "python",
     "metadata": {},
     "outputs": [
      {
       "html": [
        "7"
       ],
       "metadata": {},
       "output_type": "pyout",
       "prompt_number": 4,
       "text": [
        "7"
       ]
      }
     ],
     "prompt_number": 4
    },
    {
     "cell_type": "markdown",
     "metadata": {},
     "source": [
      "## R\u00e9partition de plusieurs calculs "
     ]
    },
    {
     "cell_type": "code",
     "collapsed": false,
     "input": [
      "-module(syr).\n",
      "-compile(export_all).\n",
      "\n",
      "creerMapLgSyr(0,_) -> ok;\n",
      "creerMapLgSyr(N,Pid)->\n",
      "  spawn(syr,lgSyrInit,[N,Pid]), \n",
      "  creerMapLgSyr(N-1,Pid).\n",
      "\n",
      "lgSyrInit(N,Pid)->\n",
      "  R=lgSyr(N),\n",
      "  Pid ! R.\n",
      "  \n",
      "lgSyr(1)-> 0 ;\n",
      "lgSyr(N) when N rem 2 =:= 0 -> 1 + lgSyr(N div 2) ;\n",
      "lgSyr(N) -> 1+lgSyr(3*N+1)."
     ],
     "language": "python",
     "metadata": {},
     "outputs": [
      {
       "html": [
        "<pre>Successfully Compiled</pre>"
       ],
       "metadata": {},
       "output_type": "pyout",
       "prompt_number": 7,
       "text": [
        "Successfully Compiled"
       ]
      }
     ],
     "prompt_number": 7
    },
    {
     "cell_type": "markdown",
     "metadata": {},
     "source": [
      "## Concentration des r\u00e9sultats et calcul du max"
     ]
    },
    {
     "cell_type": "code",
     "collapsed": false,
     "input": [
      "-module(syr).\n",
      "-compile(export_all).\n",
      "  \n",
      "\n",
      "redMax(0,M) ->\n",
      "  io:format('~p ~n',[M]);  \n",
      "redMax(N,M) ->\n",
      "  receive L when L > M -> redMax(N-1,L);\n",
      "     _ -> redMax(N-1,M) end."
     ],
     "language": "python",
     "metadata": {},
     "outputs": [
      {
       "html": [
        "<pre>Successfully Compiled</pre>"
       ],
       "metadata": {},
       "output_type": "pyout",
       "prompt_number": 8,
       "text": [
        "Successfully Compiled"
       ]
      }
     ],
     "prompt_number": 8
    },
    {
     "cell_type": "markdown",
     "metadata": {},
     "source": [
      "## Assemblage"
     ]
    },
    {
     "cell_type": "code",
     "collapsed": false,
     "input": [
      "-module(syr).\n",
      "-compile(export_all).\n",
      "  \n",
      "init(N) ->\n",
      "  Pid = spawn(bio,redMax,[N,-1]),\n",
      "  creerMapLgSyr(N,Pid).\n",
      "\n",
      "creerMapLgSyr(0,_) -> ok;\n",
      "creerMapLgSyr(N,Pid)->\n",
      "  spawn(syr,lgSyrInit,[N,Pid]), \n",
      "  creerMapLgSyr(N-1,Pid).\n",
      "\n",
      "lgSyrInit(N,Pid)->\n",
      "  R=lgSyr(N),\n",
      "  Pid ! R.\n",
      "  \n",
      "lgSyr(1)-> 0 ;\n",
      "lgSyr(N) when N rem 2 =:= 0 -> 1 + lgSyr(N div 2) ;\n",
      "lgSyr(N) -> 1+lgSyr(3*N+1).\n",
      "\n",
      "redMax(0,M) ->\n",
      "  io:format('~p ~n',[M]);  \n",
      "redMax(N,M) ->\n",
      "  receive L when L > M -> redMax(N-1,L);\n",
      "     _ -> redMax(N-1,M) end."
     ],
     "language": "python",
     "metadata": {},
     "outputs": [
      {
       "html": [
        "<pre>Successfully Compiled</pre>"
       ],
       "metadata": {},
       "output_type": "pyout",
       "prompt_number": 13,
       "text": [
        "Successfully Compiled"
       ]
      }
     ],
     "prompt_number": 13
    },
    {
     "cell_type": "markdown",
     "metadata": {},
     "source": [
      "## Tests \n",
      "\n",
      "Regardez les r\u00e9sultats dans la console :"
     ]
    },
    {
     "cell_type": "code",
     "collapsed": false,
     "input": [
      "syr:init(100)."
     ],
     "language": "python",
     "metadata": {},
     "outputs": [
      {
       "html": [
        "<pre>ok</pre>"
       ],
       "metadata": {},
       "output_type": "pyout",
       "prompt_number": 16,
       "text": [
        "ok"
       ]
      }
     ],
     "prompt_number": 16
    }
   ],
   "metadata": {}
  }
 ]
}