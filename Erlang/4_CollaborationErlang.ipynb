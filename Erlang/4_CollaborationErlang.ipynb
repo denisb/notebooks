{
 "metadata": {
  "name": "",
  "signature": "sha256:f1ca77f9c92644a034554f9d8cec1e0a874add3d1151c0e07f53a33c44d5a76a"
 },
 "nbformat": 3,
 "nbformat_minor": 0,
 "worksheets": [
  {
   "cells": [
    {
     "cell_type": "markdown",
     "metadata": {},
     "source": [
      "# Programmation collaborative en Erlang\n",
      "\n",
      "Enfin la partie collaborative, celle qui nous fait pr\u00e9f\u00e9rer Erlang \u00e0 d'autres langages ... :\n",
      "* d'autres langages qui ne comportent pas de volet \"parall\u00e9lisme\" ou \"collaboratif\" (ou alors ce n'est pas imm\u00e9diat) \n",
      "* d'autres langages qui comportent un volet \"parall\u00e9lisme\" ou \"collaboratif\" mais pour lesquels, rien n'est simple (d\u00e9j\u00e0 !) et en plus pour lesquels le \"collaboratif\" est surtout source de nombreux pi\u00e8ges (famine, interbloccage, ...) !\n",
      "\n",
      "Il y a deux temps dans la programmation collaborative :\n",
      "* pouvoir faire travailler en parall\u00e8le plusieurs processus,\n",
      "* les faire communiquer.\n",
      "\n",
      "## Plusieurs processus en parall\u00e8le\n",
      "\n",
      "Oubliez le fork C (c'est pourtant joli ; mais au d\u00e9part, c'est un peu compliqu\u00e9 \u00e0 prendre en main). \n",
      "\n",
      "En Erlang, c'est simple, on demande juste \u00e0 faire naitre un processus pour ex\u00e9cuter une t\u00e2che, et une fois la demande effect\u00e9e, celui qui a effectu\u00e9 la demande reprends le cours de son ex\u00e9cution normal (que le processus en parall\u00e8le ait r\u00e9ussi \u00e0 se lancer et s'ex\u00e9cuter ou pas). \n",
      "\n",
      "Le mot cl\u00e9 :\n",
      "* spawn"
     ]
    },
    {
     "cell_type": "code",
     "collapsed": false,
     "input": [
      "-module(col).\n",
      "-compile(export_all).\n",
      "\n",
      "\n",
      "hello(W) ->\n",
      "  io:format(\"Hi ~p~n\",[W])."
     ],
     "language": "python",
     "metadata": {},
     "outputs": [
      {
       "html": [
        "<pre>Successfully Compiled</pre>"
       ],
       "metadata": {},
       "output_type": "pyout",
       "prompt_number": 3,
       "text": [
        "Successfully Compiled"
       ]
      }
     ],
     "prompt_number": 3
    },
    {
     "cell_type": "code",
     "collapsed": false,
     "input": [
      "col:hello(\"Denis (1)\")."
     ],
     "language": "python",
     "metadata": {},
     "outputs": [
      {
       "html": [
        "<pre>ok</pre>"
       ],
       "metadata": {},
       "output_type": "pyout",
       "prompt_number": 8,
       "text": [
        "ok"
       ]
      }
     ],
     "prompt_number": 8
    },
    {
     "cell_type": "code",
     "collapsed": false,
     "input": [
      "spawn(col,hello,[\"Denis (2)\"])."
     ],
     "language": "python",
     "metadata": {},
     "outputs": [
      {
       "html": [
        "<pre><0.45.0></pre>"
       ],
       "metadata": {},
       "output_type": "pyout",
       "prompt_number": 7,
       "text": [
        "<0.45.0>"
       ]
      }
     ],
     "prompt_number": 7
    },
    {
     "cell_type": "markdown",
     "metadata": {},
     "source": [
      "## La communication\n",
      "Pour la communication, c'est aussi tr\u00e8s simple, il y a une primitive du langage pour envoyer un message, et une primitive pour recevoir. Entre l'envoi et la r\u00e9ception, c'est le syst\u00e8me Erlang qui g\u00e8re les messages.\n",
      "\n",
      "Remarque, pour savoir \u00e0 qui envoyer un message, il faut avoir rep\u00e9rer ses interlocuteurs avant, et pour que la personne puisse vous r\u00e9pondre, il vaut mieux aussi lui donner son nom. Typiquement, pour savoir qui on est il suffit de demander self(), et pour savoir \u00e0 qui envoyer un message, soit on vous a donner son nom, soit vous avez cr\u00e9er ce processus par un spawn(), dans ce cas, il faut r\u00e9cup\u00e9rer au passage son nom.\n",
      "\n",
      "Les mots cl\u00e9s :\n",
      "* ! (pour envoyer ProcessusAQuiOnEnvoie!MessageEnvoy\u00e9)\n",
      "* receive ... end\n"
     ]
    },
    {
     "cell_type": "code",
     "collapsed": false,
     "input": [
      "-module(col).\n",
      "-compile(export_all).\n",
      "\n",
      "pong(W) ->\n",
      "  receive \n",
      "    1 -> W!2\n",
      "  end.\n",
      "    \n",
      "ping() ->\n",
      "  Ping = self(),\n",
      "  Pong = spawn(col,pong,[Ping]),\n",
      "  Pong ! 1,\n",
      "  receive \n",
      "    2 -> oui\n",
      "  end."
     ],
     "language": "python",
     "metadata": {},
     "outputs": []
    },
    {
     "cell_type": "code",
     "collapsed": false,
     "input": [
      "-module(col).\n",
      "-compile(export_all).\n",
      "\n",
      "pong(W) ->\n",
      "  io:format(\"pong (1)~n\",[]),\n",
      "  receive \n",
      "    1 -> io:format(\"pong (2)~n\",[]), W!2\n",
      "  end,\n",
      "    io:format(\"pong (3)~n\",[]).\n",
      "    \n",
      "ping() ->\n",
      "  io:format(\"ping (1)~n\",[]),\n",
      "  Ping = self(),\n",
      "  io:format(\"ping (2)~n\",[]),\n",
      "  Pong = spawn(col,pong,[Ping]),\n",
      "  io:format(\"ping (3)~n\",[]),\n",
      "  Pong ! 1,\n",
      "  io:format(\"ping (4)~n\",[]),\n",
      "  receive \n",
      "    2 -> oui,  io:format(\"ping (5)~n\",[])\n",
      "  end,\n",
      "  io:format(\"ping (6)~n\",[])."
     ],
     "language": "python",
     "metadata": {},
     "outputs": [
      {
       "html": [
        "<pre>Successfully Compiled</pre>"
       ],
       "metadata": {},
       "output_type": "pyout",
       "prompt_number": 6,
       "text": [
        "Successfully Compiled"
       ]
      }
     ],
     "prompt_number": 6
    },
    {
     "cell_type": "code",
     "collapsed": false,
     "input": [
      "col:ping()."
     ],
     "language": "python",
     "metadata": {},
     "outputs": [
      {
       "html": [
        "<pre>ok</pre>"
       ],
       "metadata": {},
       "output_type": "pyout",
       "prompt_number": 22,
       "text": [
        "ok"
       ]
      }
     ],
     "prompt_number": 22
    },
    {
     "cell_type": "markdown",
     "metadata": {},
     "source": [
      "## Plus de spawn, de ! et de receive ?\n",
      "\n",
      "On peut faire \n",
      "* plus de spawn (dans un boucle)\n",
      "* plus de ! (dans un boucle)\n",
      "* plus de receive dans une boucle, et autrement ?\n",
      "\n",
      "Dans le receive il peut y avoir une gestion des messages en fonction de ces messages (on retrouve une d\u00e9finition par cas, comme pour la d\u00e9finition d'une fonction (\u00e0 l'aide de la fl\u00e8che \"->\") \u00e0 l'aide du point virgule \";\" et comme pour la fl\u00e8che de d\u00e9finition des fonctions, on peut ajouter des gardes (avec \"when\") en suivant la m\u00eame syntaxe (pour les m\u00eames raisons que pr\u00e9c\u00e9dement : aller au del\u00e0 des limitations de l'unification)\n",
      "\n"
     ]
    },
    {
     "cell_type": "code",
     "collapsed": false,
     "input": [
      "-module(col).\n",
      "-compile(export_all).\n",
      "\n",
      "pong(W) ->\n",
      "  receive \n",
      "    denis -> W!oui;\n",
      "    sined -> W!non;\n",
      "    Z -> W!bof    \n",
      "  end.\n",
      "    \n",
      "ping(What) ->\n",
      "  Ping = self(),\n",
      "  Pong = spawn(col,pong,[Ping]),\n",
      "  Pong ! What,\n",
      "  receive \n",
      "    Msg -> Msg\n",
      "  end."
     ],
     "language": "python",
     "metadata": {},
     "outputs": [
      {
       "html": [
        "<pre>col.erl:8: Warning: variable 'Z' is unused<br /></pre>"
       ],
       "metadata": {},
       "output_type": "pyout",
       "prompt_number": 1,
       "text": [
        "col.erl:8: Warning: variable 'Z' is unused\n"
       ]
      }
     ],
     "prompt_number": 1
    },
    {
     "cell_type": "code",
     "collapsed": false,
     "input": [
      "col:ping(sine)."
     ],
     "language": "python",
     "metadata": {},
     "outputs": [
      {
       "html": [
        "<pre>bof</pre>"
       ],
       "metadata": {},
       "output_type": "pyout",
       "prompt_number": 4,
       "text": [
        "bof"
       ]
      }
     ],
     "prompt_number": 4
    },
    {
     "cell_type": "code",
     "collapsed": false,
     "input": [
      "-module(col).\n",
      "-compile(export_all).\n",
      "\n",
      "pong(W) ->\n",
      "  receive \n",
      "    X when X >0 -> W!pos;\n",
      "    X when X < 0 -> W!neg;\n",
      "    Z -> W!nul    \n",
      "  end.\n",
      "    \n",
      "ping(What) ->\n",
      "  Ping = self(),\n",
      "  Pong = spawn(col,pong,[Ping]),\n",
      "  Pong ! What,\n",
      "  receive \n",
      "    Msg -> Msg\n",
      "  end."
     ],
     "language": "python",
     "metadata": {},
     "outputs": [
      {
       "html": [
        "<pre>col.erl:8: Warning: variable 'Z' is unused<br /></pre>"
       ],
       "metadata": {},
       "output_type": "pyout",
       "prompt_number": 5,
       "text": [
        "col.erl:8: Warning: variable 'Z' is unused\n"
       ]
      }
     ],
     "prompt_number": 5
    },
    {
     "cell_type": "code",
     "collapsed": false,
     "input": [
      "col:ping(0)."
     ],
     "language": "python",
     "metadata": {},
     "outputs": [
      {
       "html": [
        "<pre>nul</pre>"
       ],
       "metadata": {},
       "output_type": "pyout",
       "prompt_number": 8,
       "text": [
        "nul"
       ]
      }
     ],
     "prompt_number": 8
    }
   ],
   "metadata": {}
  }
 ]
}