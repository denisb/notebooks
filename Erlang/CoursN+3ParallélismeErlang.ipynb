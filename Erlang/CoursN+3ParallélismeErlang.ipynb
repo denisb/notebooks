{
 "cells": [
  {
   "cell_type": "markdown",
   "id": "2b01103b-91d5-488c-9723-7ca06a125f03",
   "metadata": {
    "editable": true,
    "execution": {
     "iopub.execute_input": "2024-01-12T08:55:53.447632Z",
     "iopub.status.busy": "2024-01-12T08:55:53.447304Z",
     "iopub.status.idle": "2024-01-12T08:55:53.452035Z",
     "shell.execute_reply": "2024-01-12T08:55:53.451385Z",
     "shell.execute_reply.started": "2024-01-12T08:55:53.447608Z"
    },
    "slideshow": {
     "slide_type": "slide"
    },
    "tags": []
   },
   "source": [
    "<img src=\"logoUGA.png\"></img>\n",
    "\n",
    "Séance 10 (S+3) ; Cours N+3 : Parallélisme en Erlang\n"
   ]
  },
  {
   "cell_type": "markdown",
   "id": "953c5d1f-1dbb-46f9-899c-22fbea6afa85",
   "metadata": {
    "editable": true,
    "slideshow": {
     "slide_type": "skip"
    },
    "tags": []
   },
   "source": [
    "0) Introduction au parallélisme\n",
    "2) Proposition Erlang\n",
    "3) Processus\n",
    "4) Communication\n",
    "6) Exemples de programme"
   ]
  },
  {
   "cell_type": "markdown",
   "id": "87dbab5b-dff9-4df3-a374-619a8b15b4f8",
   "metadata": {
    "editable": true,
    "slideshow": {
     "slide_type": "slide"
    },
    "tags": []
   },
   "source": [
    "# Introduction au parallélisme\n",
    "\n",
    "\n",
    "## Histoire (depuis les origines de l'informatique il y a du parallélisme !)\n",
    "\n",
    "* circuits logiques (calculs tout le temps : en parallèles, synchrone ou asynchrone)\n",
    "* Système temps partagé \n",
    "* Pseudo-parallélisme (programmation concurrente)\n",
    "* Algorithmique répartie ou distribuée (internet, synchrone ou asynchrone avec transaction ou algorithme/automate de poignée de main)\n",
    "* Architecture multi-cœur (processeur et/ou carte graphiques), algorithmique collaborative\n",
    "\n",
    "Parmi les langages récents :\n",
    "\n",
    "* Rust (2006), peut faire du prallélisme, c'est l'un des objectifs principaux du langage, mais dans les livres et sur internet, cela n'apparait pas tout de suite ! (quand cela apparait, il faut parfois attendre les derniers chapitres). Et attention, Rust n'est pas un langage simple ! Pour le parallélisme, idem.\n",
    "* Golang (2009), peut faire du prallélisme, c'est l'un des objectifs principaux du langage, mais dans les livres et sur internet, cela n'apparait pas tout de suite ! (quand cela apparait, il faut parfois attendre les derniers chapitres). Cela utilise des \"goroutine\" facile d'utilisation (la facilité d'utilisation est l'un des autres objectifs du langage) mais beaucoup de choses doivent être faites \"à la main\" (mutex, synchronisation, etc.)\n",
    "* Kotlin (2011), peut faire du parallélisme, ce n'est pas l'objectif principal de Kotlin, cela utilise de la mémoire partagée et c'est à base de coroutine et channels (stream)\n",
    "\n",
    "\n",
    "## Taxonomie de Flynn (1966)\n",
    "\n",
    "En matière d'ordinateur, Flynn a proposé en 1966 cette classification de différentes formes de parallélisme (cf. https://fr.wikipedia.org/wiki/Taxonomie_de_Flynn) :\n",
    "\n",
    "* SISD : architecture de von Neumann (single thread)\n",
    "* SIMD : un même programme (synchrone) pour plusieurs données, ex. : les processeurs vectoriels\n",
    "* MISD : plusieurs programmes partageant une seule données (implémentations plutôt rare, ex. : traitement de données)\n",
    "* MIMD : avec des variantes selon qu'il y a des mémoires partagées ou pas (modèles des machines actuelles)\n",
    "\n",
    "## Topologie\n",
    "\n",
    "Et il ne faudrait pas réduire l'informatique au flux de contrôle des instructions (en ajoutant un opérateur de calcul en parallèle), l'informatique c'est aussi des données. Pour le parallélisme, il y a au niveau des données, de l'information, une question qui s'ajoute : la question de la **communication** entre processus.  \n",
    "Dans ce domaine, on peut réfléchir aux topologies de communication :\n",
    "\n",
    "* DataFlow (ad'hoc pour un algo, orienté données)\n",
    "* Ligne, Bus, Anneau, grille 2D, grille 3D, treillis, hypercube, complet\n",
    "* Etoiles, flocon, Constellation\n",
    "* Maître-esclave, Arbre, 3 tiers, N tiers, en couche\n",
    "\n",
    "## Surtout : le parallélisme c'est compliqué ! Problèmes et vocabulaire\n",
    "\n",
    "L'algorithmique classique séquentielle ressemble assez à la façon de penser nos actions individuelles basée sur l'organisation selon une ligne de temps claire des actions à faire. La récursivité déstabilise déjà cette façon de penser d'une certaine manière (par emboîtement de différentes lignes de temps). Pour le parallélisme, il faut penser aux actions d'un groupe, voire d'une communauté. Il y a une complexité qui augmente encore et une intuition à mobiliser différente, peut-être moins riche, moins entraînée (à penser à la place des autres).\n",
    "\n",
    "Pour autant, le parallélisme est complètement naturel et courant.\n",
    "\n",
    "\n",
    "Il est donc permis d'espérer trouver des manières de programmer en parallèle.\n",
    "\n",
    "En attendant, preuves de cette difficulté de la programmation parallèle, voici quelques exemples (et du vocabulaire pour en parler) :\n",
    "\n",
    "* Race condition (situation de compétition, ou conditions de courses) : 2 processus exécutent le même programme simple (N<-N+1) sur la même donnée N initialement à 0, quel est le résultat finale ? N=1, N+2 ? Et s'il y en avait 10 processus ?\n",
    "* Interblocage (deadlock) : 2 processus veulent accéder à 2 ressources (imprimante, données), chacun bloque la première ressource qu'il obtient et attend que l'autre se libère ! Il faudrait un algo d'allocation de ressources sûres (algo du banquier)\n",
    "* Famine (starvation) : quand les interblocages et race condition ont été évités, par des algorithmes d'exclusions mutuelles (mutex, sections critiques (synchronized), verrou, sémaphore, moniteur ou des protocoles spécifiques) et une hiérarchie de droit (Maitre-esclave), alors certains processus peuvent s'en sortir et d'autres souffrir ou dépérir ou ne pas pouvoir travailler (c'est dommage). Ex. un producteur produit des données dans un buffer de taille N, mais N+1 processus cherchent à consommer ces données. En moyenne il y aura toujours un processus inactif, au pire c'est toujours le même, il ne faudrait pas que cela soit un processus spécifique, unique et essentiel.\n",
    "* Au final, quand tous les problèmes (majeurs) sont réglés, on peut réfléchir encore aux algos et améliorer ou garantir :\n",
    "  \n",
    "  * équité\n",
    "  * vivacité\n",
    "  * sureté\n",
    "\n",
    "Pour votre sagacité, quelques problèmes de la vie courante (?) sur le parallélisme :\n",
    "\n",
    "* le repas des philosophes chinois (sur le partage de ressources, où l'aléatoire peut aider ! le parallélisme est un domaine, comme l'algorithmique réseau ou les programmes avec un peu d'aléatoire peuvent obtenir de meilleurs résultats que les algorithmes purement déterministes)\n",
    "* le problème des horloges (comment (r)établir une chronologie d'évènements entre des lieux avec des horloges farfelues)\n",
    "* le problème des généraux byzantins (comment décider du début des activités quand les communications sont incertaines)\n",
    "\n",
    "## Limites du parallélisme\n",
    "\n",
    "Souvent, on utilise le parallélisme pour améliorer des algos séquentiels, cela a des limites :\n",
    "\n",
    "* le nombre de ressources/processus disponibles (on ne pourra jamais aller 10 fois plus vite si on a seulement 2 processus disponibles)\n",
    "* la part séquentielle des algos\n",
    "* ce qui donne la loi de Amdahl : https://fr.wikipedia.org/wiki/Loi_d%27Amdahl (peu de processeur, peu de gain sur temps global, et limité par temps séquentiel) ou la loi de Gustafson https://fr.wikipedia.org/wiki/Loi_de_Gustafson (plus de données, plus de gain sur temps moyen par donnée)\n",
    "  "
   ]
  },
  {
   "cell_type": "markdown",
   "id": "f796e8ed-5411-4f88-b032-079397c02ab7",
   "metadata": {},
   "source": [
    "# Proposition Erlang\n",
    "\n",
    "Pour essayer de résoudre par construction, en proposant des primitives dans le langage qui soient \"bonnes\" :\n",
    "\n",
    "* Erlang ne permet pas le partage de mémoire/données (c'est cohérent avec la gestion des variables, l'instanciation unique, le passage de paramètre, la programmation fonctionnelle pure), les processus/fonctions ne peuvent s'échanger que des valeurs (constantes, connues)\n",
    "* Les primitives Erlang ne bloquent pas ! Elles peuvent échouer, mais sans blocage. (c'est doit être cohérent avec la gestion des erreurs qui n'alourdit pas l'écriture des programmes avec une gestion des erreurs dans les algos, mais demande à ce qu'elle soit séparée)"
   ]
  },
  {
   "cell_type": "markdown",
   "id": "86112327-43b8-4b97-8096-00f912cbf8bf",
   "metadata": {
    "editable": true,
    "slideshow": {
     "slide_type": "slide"
    },
    "tags": []
   },
   "source": [
    "## Eléments de  base de la proposition Erlang\n",
    "\n",
    "Partie parallèle/collaborative, celle qui nous fait préférer Erlang à d'autres langages ... :\n",
    "\n",
    "* d'autres langages qui ne comportent pas de volet \"parallélisme\" ou \"collaboratif\" (ou alors ce n'est pas immédiat) \n",
    "* d'autres langages qui comportent un volet \"parallélisme\" ou \"collaboratif\" mais pour lesquels, rien n'est simple (déjà !) et en plus pour lesquels le \"collaboratif\" est surtout source de nombreux pièges (famine, interbloccage, ...) !\n",
    "\n",
    "Il y a deux temps dans la programmation collaborative :\n",
    "\n",
    "* pouvoir faire travailler en parallèle plusieurs processus,\n",
    "* les faire communiquer.\n",
    "\n",
    "## Plusieurs processus en parallèle\n",
    "\n",
    "Oubliez le fork C (c'est pourtant joli ; mais au départ, c'est un peu compliqué à prendre en main). Oubliez les pipes (pourtant c'est bien aussi ! et il y a des organisations modernes en stream qui ont repris le concept pour améliorer la fusion entre programmation classique séquentielle et parallèlisme).\n",
    "\n",
    "En Erlang, c'est simple, on demande juste à faire naitre un processus pour exécuter une tâche, et une fois la demande effectée, celui qui a effectué la demande reprends le cours de son exécution normal (que le processus en parallèle ait réussi à se lancer et s'exécuter ou pas). \n",
    "\n",
    "Le mot clé :\n",
    "\n",
    "* spawn qui renvoie (une erreur ou) le nom du processus pour pouvoir communiquer avec lui\n",
    "\n",
    "et pour utilisation pratique, le mot clé :\n",
    "\n",
    "* self() (pour connaître et donner son propre nom de processus)\n",
    "\n",
    "## La communication\n",
    "Pour la communication, c'est aussi très simple, il y a une primitive du langage pour envoyer un message, et une primitive pour recevoir. Entre l'envoi et la réception, c'est le système Erlang qui gère les messages (en particulier, avec des files d'attentes pour ne pas perdre de message ou rendre les communications bloquantes). C'est à l'image de la communication par courriel (ou sms).\n",
    "\n",
    "Remarque, pour savoir à qui envoyer un message, il faut avoir repérer ses interlocuteurs avant, et pour que la personne puisse vous répondre, il vaut mieux aussi lui donner son nom. Typiquement, pour savoir qui on est il suffit de demander self(), et pour savoir à qui envoyer un message, soit on vous a donner son nom, soit vous avez créer ce processus par un spawn(), dans ce cas, il faut récupérer au passage son nom.\n",
    "\n",
    "Les mots clés :\n",
    "\n",
    "* ! (pour envoyer ProcessusAQuiOnEnvoie!MessageEnvoyé)\n",
    "* receive ... end (et aussi after)"
   ]
  },
  {
   "cell_type": "markdown",
   "id": "af0a5b7c-d6e5-470c-8a3d-74a19e6b0898",
   "metadata": {
    "editable": true,
    "slideshow": {
     "slide_type": "slide"
    },
    "tags": []
   },
   "source": [
    "# Les Processus (détails et premiers programmes)\n",
    "\n",
    "Prenons un exemple classique (sans création de processus) :"
   ]
  },
  {
   "cell_type": "code",
   "execution_count": 79,
   "id": "5ab579c5-6da6-475a-bc84-9146b7578d3c",
   "metadata": {
    "editable": true,
    "execution": {
     "iopub.execute_input": "2024-02-29T17:47:34.884977Z",
     "iopub.status.busy": "2024-02-29T17:47:34.884656Z",
     "iopub.status.idle": "2024-02-29T17:47:34.902068Z",
     "shell.execute_reply": "2024-02-29T17:47:34.901555Z",
     "shell.execute_reply.started": "2024-02-29T17:47:34.884955Z"
    },
    "slideshow": {
     "slide_type": "notes"
    },
    "tags": []
   },
   "outputs": [
    {
     "name": "stdout",
     "output_type": "stream",
     "text": [
      "Overwriting prog.erl\n"
     ]
    }
   ],
   "source": [
    "%%writefile prog.erl\n",
    "-module(prog).\n",
    "-compile([export_all,nowarn_export_all]).\n",
    "\n",
    "\n",
    "hello(W) ->\n",
    "  io:format(\"Bonjour ~p~n\",[W]).\n",
    "\n",
    "main([]) -> \n",
    "  hello(\"L3Miage\")."
   ]
  },
  {
   "cell_type": "code",
   "execution_count": 80,
   "id": "83701eef-e3ad-42aa-b516-e0e2797a58e9",
   "metadata": {
    "editable": true,
    "execution": {
     "iopub.execute_input": "2024-02-29T17:47:36.770933Z",
     "iopub.status.busy": "2024-02-29T17:47:36.770691Z",
     "iopub.status.idle": "2024-02-29T17:47:37.023277Z",
     "shell.execute_reply": "2024-02-29T17:47:37.022630Z",
     "shell.execute_reply.started": "2024-02-29T17:47:36.770918Z"
    },
    "slideshow": {
     "slide_type": "notes"
    },
    "tags": []
   },
   "outputs": [
    {
     "name": "stdout",
     "output_type": "stream",
     "text": [
      "Bonjour \"L3Miage\"\n"
     ]
    }
   ],
   "source": [
    "!escript prog.erl"
   ]
  },
  {
   "cell_type": "markdown",
   "id": "0c50c10e-82bc-41cd-8b1f-7d02f3c93748",
   "metadata": {},
   "source": [
    "En ajoutant la création d'un processus :"
   ]
  },
  {
   "cell_type": "code",
   "execution_count": 235,
   "id": "d6b6ceac-6356-427f-ac2b-ac81f3b49ec0",
   "metadata": {
    "execution": {
     "iopub.execute_input": "2024-03-01T10:43:09.022480Z",
     "iopub.status.busy": "2024-03-01T10:43:09.022142Z",
     "iopub.status.idle": "2024-03-01T10:43:09.043317Z",
     "shell.execute_reply": "2024-03-01T10:43:09.042424Z",
     "shell.execute_reply.started": "2024-03-01T10:43:09.022457Z"
    }
   },
   "outputs": [
    {
     "name": "stdout",
     "output_type": "stream",
     "text": [
      "Overwriting prog.erl\n"
     ]
    }
   ],
   "source": [
    "%%writefile prog.erl\n",
    "-module(prog).\n",
    "-compile([export_all,nowarn_export_all]).\n",
    "\n",
    "\n",
    "hello(W) ->\n",
    "  io:format(\"Bonjour ~p~n\",[W]).\n",
    "\n",
    "main([]) ->\n",
    "  spawn(prog, hello, [\"L3Miage\"])."
   ]
  },
  {
   "cell_type": "code",
   "execution_count": 238,
   "id": "db28be0c-ea8c-40af-8d6d-3dd519766323",
   "metadata": {
    "execution": {
     "iopub.execute_input": "2024-03-01T10:43:46.700434Z",
     "iopub.status.busy": "2024-03-01T10:43:46.699884Z",
     "iopub.status.idle": "2024-03-01T10:43:46.962905Z",
     "shell.execute_reply": "2024-03-01T10:43:46.962105Z",
     "shell.execute_reply.started": "2024-03-01T10:43:46.700417Z"
    }
   },
   "outputs": [],
   "source": [
    "!escript prog.erl"
   ]
  },
  {
   "cell_type": "markdown",
   "id": "1d633381-96a8-47aa-86cb-ecbb477562fc",
   "metadata": {},
   "source": [
    "On ne voit pas grande chose, ou des erreurs ?  \n",
    "Il y a 2 problèmes :\n",
    "\n",
    "* Pour utiliser des processus (fonction indiquée dans un module), il faut compiler le module. Soit sur la ligne de commande (cf. commande ci-dessous), soit dans le code lui-même (code après la commande)\n",
    "* Le programme principal va probablement se terminer en premier, et avec, le terminal e/s va être fermé, le processus fils affichera son résultat nulle part !"
   ]
  },
  {
   "cell_type": "code",
   "execution_count": 239,
   "id": "80b9436f-9916-422e-ba61-a8494965cbfb",
   "metadata": {
    "execution": {
     "iopub.execute_input": "2024-03-01T10:46:57.531178Z",
     "iopub.status.busy": "2024-03-01T10:46:57.530893Z",
     "iopub.status.idle": "2024-03-01T10:46:57.928278Z",
     "shell.execute_reply": "2024-03-01T10:46:57.926042Z",
     "shell.execute_reply.started": "2024-03-01T10:46:57.531160Z"
    }
   },
   "outputs": [],
   "source": [
    "!erlc prog.erl; escript prog.erl"
   ]
  },
  {
   "cell_type": "markdown",
   "id": "498848d9-8210-4f63-96f7-8b860664e030",
   "metadata": {},
   "source": [
    "mais cela ne change (presque) rien, à cause du second problème, sauf à ajouter un affichage tardif."
   ]
  },
  {
   "cell_type": "code",
   "execution_count": 240,
   "id": "0c33e376-aa02-4c7a-ad97-292bec75d877",
   "metadata": {
    "execution": {
     "iopub.execute_input": "2024-03-01T10:48:00.186930Z",
     "iopub.status.busy": "2024-03-01T10:48:00.186645Z",
     "iopub.status.idle": "2024-03-01T10:48:00.208049Z",
     "shell.execute_reply": "2024-03-01T10:48:00.207166Z",
     "shell.execute_reply.started": "2024-03-01T10:48:00.186911Z"
    }
   },
   "outputs": [
    {
     "name": "stdout",
     "output_type": "stream",
     "text": [
      "Overwriting prog.erl\n"
     ]
    }
   ],
   "source": [
    "%%writefile prog.erl\n",
    "-module(prog).\n",
    "-compile([export_all,nowarn_export_all]).\n",
    "\n",
    "\n",
    "hello(W) ->\n",
    "  io:format(\"Bonjour ~p~n\",[W]).\n",
    "\n",
    "main([]) ->\n",
    "  spawn(prog, hello, [\"L3Miage\"]),\n",
    "  io:format(\"\"),io:put_chars(<<>>)."
   ]
  },
  {
   "cell_type": "code",
   "execution_count": 243,
   "id": "9f185455-24dd-45a3-adc0-510379b4aca7",
   "metadata": {
    "execution": {
     "iopub.execute_input": "2024-03-01T10:48:26.923808Z",
     "iopub.status.busy": "2024-03-01T10:48:26.923576Z",
     "iopub.status.idle": "2024-03-01T10:48:27.343006Z",
     "shell.execute_reply": "2024-03-01T10:48:27.341170Z",
     "shell.execute_reply.started": "2024-03-01T10:48:26.923793Z"
    }
   },
   "outputs": [
    {
     "name": "stdout",
     "output_type": "stream",
     "text": [
      "Bonjour \"L3Miage\"\n"
     ]
    }
   ],
   "source": [
    "!erlc prog.erl ; escript prog.erl"
   ]
  },
  {
   "cell_type": "markdown",
   "id": "9ab6297d-9b18-4e57-af06-9a0cd2533ec4",
   "metadata": {},
   "source": [
    "Meilleure solution :\n",
    "\n",
    "* avec compilation dans le code\n",
    "* et petite attente en fin de programme principal"
   ]
  },
  {
   "cell_type": "code",
   "execution_count": 244,
   "id": "3a5ea5aa-91a1-4eb9-9151-f9cced6ca238",
   "metadata": {
    "execution": {
     "iopub.execute_input": "2024-03-01T10:50:38.619749Z",
     "iopub.status.busy": "2024-03-01T10:50:38.619335Z",
     "iopub.status.idle": "2024-03-01T10:50:38.640907Z",
     "shell.execute_reply": "2024-03-01T10:50:38.639949Z",
     "shell.execute_reply.started": "2024-03-01T10:50:38.619724Z"
    }
   },
   "outputs": [
    {
     "name": "stdout",
     "output_type": "stream",
     "text": [
      "Overwriting prog.erl\n"
     ]
    }
   ],
   "source": [
    "%%writefile prog.erl\n",
    "-module(prog).\n",
    "-compile([export_all,nowarn_export_all]).\n",
    "\n",
    "\n",
    "hello(W) ->\n",
    "  io:format(\"Bonjour ~p~n\",[W]).\n",
    "\n",
    "main([]) ->\n",
    "  compile:file(prog),\n",
    "  spawn(prog, hello, [\"L3Miage\"]),\n",
    "  timer:sleep(1000)."
   ]
  },
  {
   "cell_type": "code",
   "execution_count": 245,
   "id": "f335801c-7fae-4d33-a05a-33d9c3d8ec81",
   "metadata": {
    "execution": {
     "iopub.execute_input": "2024-03-01T10:50:56.541255Z",
     "iopub.status.busy": "2024-03-01T10:50:56.540933Z",
     "iopub.status.idle": "2024-03-01T10:50:57.917292Z",
     "shell.execute_reply": "2024-03-01T10:50:57.916033Z",
     "shell.execute_reply.started": "2024-03-01T10:50:56.541231Z"
    }
   },
   "outputs": [
    {
     "name": "stdout",
     "output_type": "stream",
     "text": [
      "Bonjour \"L3Miage\"\n"
     ]
    }
   ],
   "source": [
    "!escript prog.erl"
   ]
  },
  {
   "cell_type": "markdown",
   "id": "caca4361-27dd-45bc-99d9-55ced55cc0e8",
   "metadata": {},
   "source": [
    "Avec plusieurs processus :"
   ]
  },
  {
   "cell_type": "code",
   "execution_count": 246,
   "id": "0722b825-f57a-423d-bb6c-a1f0663d7a01",
   "metadata": {
    "execution": {
     "iopub.execute_input": "2024-03-01T10:51:22.439098Z",
     "iopub.status.busy": "2024-03-01T10:51:22.438381Z",
     "iopub.status.idle": "2024-03-01T10:51:22.459438Z",
     "shell.execute_reply": "2024-03-01T10:51:22.458820Z",
     "shell.execute_reply.started": "2024-03-01T10:51:22.439062Z"
    }
   },
   "outputs": [
    {
     "name": "stdout",
     "output_type": "stream",
     "text": [
      "Overwriting prog.erl\n"
     ]
    }
   ],
   "source": [
    "%%writefile prog.erl\n",
    "-module(prog).\n",
    "-compile([export_all,nowarn_export_all]).\n",
    "\n",
    "\n",
    "hello(W) ->\n",
    "  io:format(\"Bonjour ~p~n\",[W]).\n",
    "\n",
    "main([]) ->\n",
    "  compile:file(prog),\n",
    "  spawn(prog, hello, [\"L3Miage\"]),\n",
    "  spawn(prog, hello, [\"M1mIAGE\"]),\n",
    "  spawn(prog, hello, [\"m2EtBoulot\"]),\n",
    "  timer:sleep(1000)."
   ]
  },
  {
   "cell_type": "code",
   "execution_count": 251,
   "id": "3519ac78-a74f-46fe-8ecc-419cd8074090",
   "metadata": {
    "execution": {
     "iopub.execute_input": "2024-03-01T10:51:31.274291Z",
     "iopub.status.busy": "2024-03-01T10:51:31.273921Z",
     "iopub.status.idle": "2024-03-01T10:51:32.620427Z",
     "shell.execute_reply": "2024-03-01T10:51:32.618615Z",
     "shell.execute_reply.started": "2024-03-01T10:51:31.274258Z"
    }
   },
   "outputs": [
    {
     "name": "stdout",
     "output_type": "stream",
     "text": [
      "Bonjour \"L3Miage\"\n",
      "Bonjour \"M1mIAGE\"\n",
      "Bonjour \"m2EtBoulot\"\n"
     ]
    }
   ],
   "source": [
    "!escript prog.erl"
   ]
  },
  {
   "cell_type": "markdown",
   "id": "80816418-c8d0-499a-8b4e-8f85b7326aa6",
   "metadata": {},
   "source": [
    "Pour simuler un peu d'aléatoire on peut ajouter un petit temps d'attente avant affichage ?"
   ]
  },
  {
   "cell_type": "code",
   "execution_count": 299,
   "id": "30ccf297-49ba-4cb2-8b11-3c365b68c312",
   "metadata": {
    "execution": {
     "iopub.execute_input": "2024-03-01T11:17:40.722674Z",
     "iopub.status.busy": "2024-03-01T11:17:40.722273Z",
     "iopub.status.idle": "2024-03-01T11:17:40.741867Z",
     "shell.execute_reply": "2024-03-01T11:17:40.740981Z",
     "shell.execute_reply.started": "2024-03-01T11:17:40.722633Z"
    }
   },
   "outputs": [
    {
     "name": "stdout",
     "output_type": "stream",
     "text": [
      "Overwriting prog.erl\n"
     ]
    }
   ],
   "source": [
    "%%writefile prog.erl\n",
    "-module(prog).\n",
    "-compile([export_all,nowarn_export_all]).\n",
    "\n",
    "\n",
    "hello(W) ->\n",
    "  timer:sleep(round(timer:seconds(rand:uniform()))),\n",
    "  io:format(\"Bonjour ~p~n\",[W]).\n",
    "\n",
    "main([]) ->\n",
    "  compile:file(prog),\n",
    "  spawn(prog, hello, [\"L3Miage\"]),\n",
    "  spawn(prog, hello, [\"M1mIAGE\"]),\n",
    "  spawn(prog, hello, [\"m2EtBoulot\"]),\n",
    "  timer:sleep(1100)."
   ]
  },
  {
   "cell_type": "code",
   "execution_count": 300,
   "id": "89e41295-ed65-428e-a4cd-5f96331c01ee",
   "metadata": {
    "execution": {
     "iopub.execute_input": "2024-03-01T11:17:42.650385Z",
     "iopub.status.busy": "2024-03-01T11:17:42.650068Z",
     "iopub.status.idle": "2024-03-01T11:17:44.147349Z",
     "shell.execute_reply": "2024-03-01T11:17:44.145035Z",
     "shell.execute_reply.started": "2024-03-01T11:17:42.650362Z"
    }
   },
   "outputs": [
    {
     "name": "stdout",
     "output_type": "stream",
     "text": [
      "Bonjour \"m2EtBoulot\"\n",
      "Bonjour \"L3Miage\"\n",
      "Bonjour \"M1mIAGE\"\n"
     ]
    }
   ],
   "source": [
    "!escript prog.erl"
   ]
  },
  {
   "cell_type": "markdown",
   "id": "5c33dd95-d17e-4b60-8674-303d59970ff3",
   "metadata": {},
   "source": [
    "Remarques : \n",
    "\n",
    "* les affichages ne se mélangent pas complètement (heuresement), chaque ligne commencée est finie avant de passer à une autre.  \n",
    "* s'il y a plusieurs affichages, sur plusieurs lignes, avec un peu de temps aléatoire entre chaque affichage, même si cela appartient à la même section séquentielle ..."
   ]
  },
  {
   "cell_type": "code",
   "execution_count": 274,
   "id": "522627d0-7c93-4dcd-af35-2986868a3f9e",
   "metadata": {
    "execution": {
     "iopub.execute_input": "2024-03-01T10:56:37.731180Z",
     "iopub.status.busy": "2024-03-01T10:56:37.730952Z",
     "iopub.status.idle": "2024-03-01T10:56:37.755182Z",
     "shell.execute_reply": "2024-03-01T10:56:37.753164Z",
     "shell.execute_reply.started": "2024-03-01T10:56:37.731161Z"
    }
   },
   "outputs": [
    {
     "name": "stdout",
     "output_type": "stream",
     "text": [
      "Overwriting prog.erl\n"
     ]
    }
   ],
   "source": [
    "%%writefile prog.erl\n",
    "-module(prog).\n",
    "-compile([export_all,nowarn_export_all]).\n",
    "\n",
    "\n",
    "hello(W) ->\n",
    "  timer:sleep(round(timer:seconds(rand:uniform()))),\n",
    "  io:format(\"Bonjour ~p~n\",[W]),\n",
    "  timer:sleep(round(timer:seconds(rand:uniform()))),\n",
    "  io:format(\"Au revoir ~p~n\",[W]).\n",
    "\n",
    "main([]) ->\n",
    "  compile:file(prog),\n",
    "  spawn(prog, hello, [\"L3Miage\"]),\n",
    "  spawn(prog, hello, [\"M1mIAGE\"]),\n",
    "  spawn(prog, hello, [\"m2EtBoulot\"]),\n",
    "  timer:sleep(2100).io:format(\"Au revoir ~p~n\",[W])."
   ]
  },
  {
   "cell_type": "code",
   "execution_count": 275,
   "id": "d8274bd0-e9b4-490e-acc9-d389241c1058",
   "metadata": {
    "execution": {
     "iopub.execute_input": "2024-03-01T10:56:40.136198Z",
     "iopub.status.busy": "2024-03-01T10:56:40.135779Z",
     "iopub.status.idle": "2024-03-01T10:56:42.630058Z",
     "shell.execute_reply": "2024-03-01T10:56:42.628122Z",
     "shell.execute_reply.started": "2024-03-01T10:56:40.136169Z"
    }
   },
   "outputs": [
    {
     "name": "stdout",
     "output_type": "stream",
     "text": [
      "Bonjour \"L3Miage\"\n",
      "Bonjour \"M1mIAGE\"\n",
      "Au revoir \"M1mIAGE\"\n",
      "Au revoir \"L3Miage\"\n",
      "Bonjour \"m2EtBoulot\"\n",
      "Au revoir \"m2EtBoulot\"\n"
     ]
    }
   ],
   "source": [
    "!escript prog.erl"
   ]
  },
  {
   "cell_type": "markdown",
   "id": "edac0d7b-5c15-4fac-83a3-728e15403f03",
   "metadata": {},
   "source": [
    "Remarques :\n",
    "\n",
    "* la création de processus est rapide\n",
    "* la fonction exécutée est définie par l'appelant\n",
    "* les paramètres sont donnés par l'appelant\n",
    "* spawn renvoie le nom du processus (sera utile pour communiquer ou pour tuer le processus)\n",
    "* le nom du processus courant est donné par self() "
   ]
  },
  {
   "cell_type": "markdown",
   "id": "6f51ebfb-7249-4a99-9114-6feeb4a54502",
   "metadata": {},
   "source": [
    "# La communication (détails et premiers programmes)\n",
    "\n",
    "Pour communiquer il faut être 2 (ou plus). Les programmes à suivre auront donc tous une partie de générations de processus avant les communications proprement dites.\n",
    "\n",
    "Pour communiquer il faut savoir à qui parler. Les programmes à suivre auront donc tous une partie qui permet aux processus tardifs de connatre au moins le nom des processus précoces (pour engager la discussion).  \n",
    "La problématique du carnet d'adresse (avoir des noms de processus avec qui communiquer) sera vu plus tard."
   ]
  },
  {
   "cell_type": "code",
   "execution_count": 292,
   "id": "8d380bc3-d23c-4b67-88ae-d93ca9065b74",
   "metadata": {
    "execution": {
     "iopub.execute_input": "2024-03-01T11:11:55.251301Z",
     "iopub.status.busy": "2024-03-01T11:11:55.249233Z",
     "iopub.status.idle": "2024-03-01T11:11:55.278205Z",
     "shell.execute_reply": "2024-03-01T11:11:55.277130Z",
     "shell.execute_reply.started": "2024-03-01T11:11:55.251240Z"
    }
   },
   "outputs": [
    {
     "name": "stdout",
     "output_type": "stream",
     "text": [
      "Overwriting prog.erl\n"
     ]
    }
   ],
   "source": [
    "%%writefile prog.erl\n",
    "-module(prog).\n",
    "-compile([export_all,nowarn_export_all]).\n",
    "\n",
    "ping(IdProc) ->\n",
    "  IdProc ! \"Bonjour, moi c'est ping\".\n",
    "\n",
    "pong() ->\n",
    "  receive\n",
    "    X ->\n",
    "      io:format(\"Bonjour ~p~n\",[X]) end.\n",
    "\n",
    "main([]) ->\n",
    "  compile:file(prog),\n",
    "  IdPong = spawn(prog, pong, []),\n",
    "  _IdPing = spawn(prog, ping, [IdPong]),\n",
    "  timer:sleep(100)."
   ]
  },
  {
   "cell_type": "code",
   "execution_count": 293,
   "id": "e93577fd-b9e3-432e-8a3b-68f597277232",
   "metadata": {
    "execution": {
     "iopub.execute_input": "2024-03-01T11:11:57.399616Z",
     "iopub.status.busy": "2024-03-01T11:11:57.399301Z",
     "iopub.status.idle": "2024-03-01T11:11:57.867140Z",
     "shell.execute_reply": "2024-03-01T11:11:57.865467Z",
     "shell.execute_reply.started": "2024-03-01T11:11:57.399593Z"
    }
   },
   "outputs": [
    {
     "name": "stdout",
     "output_type": "stream",
     "text": [
      "Bonjour \"Bonjour, moi c'est ping\"\n"
     ]
    }
   ],
   "source": [
    "!escript prog.erl"
   ]
  },
  {
   "cell_type": "markdown",
   "id": "9fbe018c-db3e-4269-8e4b-b26e38932d6f",
   "metadata": {},
   "source": [
    "Pour que pong puisse répondre, il faudrait que ping lui ait donner son vrai nom (ou que le programme principal ait donner tous les noms à tout le monde, mais c'est une autre histoire.)"
   ]
  },
  {
   "cell_type": "code",
   "execution_count": 291,
   "id": "63c6c0ea-853a-429e-b766-57e2d635637c",
   "metadata": {
    "execution": {
     "iopub.execute_input": "2024-03-01T11:11:49.126575Z",
     "iopub.status.busy": "2024-03-01T11:11:49.126334Z",
     "iopub.status.idle": "2024-03-01T11:11:49.146614Z",
     "shell.execute_reply": "2024-03-01T11:11:49.146016Z",
     "shell.execute_reply.started": "2024-03-01T11:11:49.126558Z"
    }
   },
   "outputs": [
    {
     "name": "stdout",
     "output_type": "stream",
     "text": [
      "Overwriting prog.erl\n"
     ]
    }
   ],
   "source": [
    "%%writefile prog.erl\n",
    "-module(prog).\n",
    "-compile([export_all,nowarn_export_all]).\n",
    "\n",
    "ping(IdProc) ->\n",
    "  IdProc ! [\"Bonjour, moi c'est \",self()].\n",
    "\n",
    "pong() ->\n",
    "  receive\n",
    "    [_Msg,IdProc] ->\n",
    "      io:format(\"pong> Bonjour ~p~n\",[IdProc]) end.\n",
    "\n",
    "main([]) ->\n",
    "  compile:file(prog),\n",
    "  IdPong = spawn(prog, pong, []),\n",
    "  _IdPing = spawn(prog, ping, [IdPong]),\n",
    "  timer:sleep(100)."
   ]
  },
  {
   "cell_type": "code",
   "execution_count": 294,
   "id": "1b2e4a41-3f18-4c68-bb7c-4ba5c98e354d",
   "metadata": {
    "execution": {
     "iopub.execute_input": "2024-03-01T11:12:01.497072Z",
     "iopub.status.busy": "2024-03-01T11:12:01.496405Z",
     "iopub.status.idle": "2024-03-01T11:12:01.960104Z",
     "shell.execute_reply": "2024-03-01T11:12:01.958226Z",
     "shell.execute_reply.started": "2024-03-01T11:12:01.497044Z"
    }
   },
   "outputs": [
    {
     "name": "stdout",
     "output_type": "stream",
     "text": [
      "Bonjour \"Bonjour, moi c'est ping\"\n"
     ]
    }
   ],
   "source": [
    "!escript prog.erl"
   ]
  },
  {
   "cell_type": "markdown",
   "id": "d7ef5867-41cd-4d5c-87c1-8382b6be77b5",
   "metadata": {
    "execution": {
     "iopub.execute_input": "2024-03-01T11:12:19.218925Z",
     "iopub.status.busy": "2024-03-01T11:12:19.218521Z",
     "iopub.status.idle": "2024-03-01T11:12:19.235368Z",
     "shell.execute_reply": "2024-03-01T11:12:19.234312Z",
     "shell.execute_reply.started": "2024-03-01T11:12:19.218896Z"
    }
   },
   "source": [
    "Maintenant, ping et pong peuvent communiquer :"
   ]
  },
  {
   "cell_type": "code",
   "execution_count": 298,
   "id": "c47032a1-1144-42d1-82ed-c06d184e0736",
   "metadata": {
    "execution": {
     "iopub.execute_input": "2024-03-01T11:16:28.592356Z",
     "iopub.status.busy": "2024-03-01T11:16:28.591983Z",
     "iopub.status.idle": "2024-03-01T11:16:28.608006Z",
     "shell.execute_reply": "2024-03-01T11:16:28.607107Z",
     "shell.execute_reply.started": "2024-03-01T11:16:28.592329Z"
    }
   },
   "outputs": [
    {
     "name": "stdout",
     "output_type": "stream",
     "text": [
      "Overwriting prog.erl\n"
     ]
    }
   ],
   "source": [
    "%%writefile prog.erl\n",
    "-module(prog).\n",
    "-compile([export_all,nowarn_export_all]).\n",
    "\n",
    "ping(IdProc) ->\n",
    "  IdProc ! [\"Bonjour, moi c'est \",self()],\n",
    "  receive _Msg -> \n",
    "    io:format(\"ping> cool!~n\",[]) end.\n",
    "\n",
    "pong() ->\n",
    "  receive [_Msg,IdProc] ->\n",
    "    io:format(\"pong> Bonjour ~p~n\",[IdProc]),\n",
    "    IdProc !  \"Comment ca va ?\" end.\n",
    "\n",
    "main([]) ->\n",
    "  compile:file(prog),\n",
    "  IdPong = spawn(prog, pong, []),\n",
    "  _IdPing = spawn(prog, ping, [IdPong]),\n",
    "  timer:sleep(100)."
   ]
  },
  {
   "cell_type": "code",
   "execution_count": 297,
   "id": "cb5f3959-9d4f-42da-b48d-6e3632af52a9",
   "metadata": {
    "execution": {
     "iopub.execute_input": "2024-03-01T11:15:48.382305Z",
     "iopub.status.busy": "2024-03-01T11:15:48.382094Z",
     "iopub.status.idle": "2024-03-01T11:15:48.862878Z",
     "shell.execute_reply": "2024-03-01T11:15:48.860737Z",
     "shell.execute_reply.started": "2024-03-01T11:15:48.382289Z"
    }
   },
   "outputs": [
    {
     "name": "stdout",
     "output_type": "stream",
     "text": [
      "pong> Bonjour <0.83.0>\n",
      "ping> cool!\n"
     ]
    }
   ],
   "source": [
    "!escript prog.erl"
   ]
  },
  {
   "cell_type": "markdown",
   "id": "f05d9442-e0ec-4c0c-8b2a-854b447dfaff",
   "metadata": {},
   "source": [
    "Remarques :\n",
    "\n",
    "* receive peut être bloquant s'il n'y a pas de message reçu ou à recevoir (sauf si ajout d'un timeout)\n",
    "* après receive, la syntaxe a des ressemblance avec la définition d'une nouvelle fonction :\n",
    "  * on peut avoir plusieurs cas (raisonnement par cas)\n",
    "  * chaque cas peut recevoir des gardes\n",
    "  * on peut ajouter des cas spéciaux avec timeout (after 100 -> )\n",
    "* la file des messages peut être vidée (si nécessaire)\n",
    "* receive ne consomme qu'un seul message (s'il y en a un disponible et remplissant les conditions de garde, éventuellement en attendant un peu qu'un tel message arrive), pour consommer plusieurs messages il faut faire/prévoir plusieurs receive, c'est possible en bouclant (récursivement) sur l'appel du receive.\n",
    "\n",
    "Exemple où pong serait un automate qui calcul des valeurs absolues :"
   ]
  },
  {
   "cell_type": "code",
   "execution_count": 319,
   "id": "ea4bbc1f-a552-4adb-97c2-96d8a4677d1d",
   "metadata": {
    "execution": {
     "iopub.execute_input": "2024-03-01T12:38:21.563339Z",
     "iopub.status.busy": "2024-03-01T12:38:21.562291Z",
     "iopub.status.idle": "2024-03-01T12:38:21.586895Z",
     "shell.execute_reply": "2024-03-01T12:38:21.586234Z",
     "shell.execute_reply.started": "2024-03-01T12:38:21.563292Z"
    }
   },
   "outputs": [
    {
     "name": "stdout",
     "output_type": "stream",
     "text": [
      "Overwriting prog.erl\n"
     ]
    }
   ],
   "source": [
    "\n",
    "\n",
    "%%writefile prog.erl\n",
    "-module(prog).\n",
    "-compile([export_all,nowarn_export_all]).\n",
    "\n",
    "ping(IdProc) ->\n",
    "  {ok, X} = io:read(\"Donne un nombre : \"),\n",
    "  IdProc ! [X,self()],\n",
    "  receive \n",
    "    Msg -> io:format(\"ping> Resultat ~p~n\",[Msg])\n",
    "  end.\n",
    "\n",
    "pong() ->\n",
    "  receive \n",
    "    [X,W] when X < 0 -> W!(-X);\n",
    "    [X,W] -> W!X\n",
    "    after 100 -> done end.\n",
    "\n",
    "main([]) ->\n",
    "  compile:file(prog),\n",
    "  IdPong = spawn(prog, pong, []),\n",
    "  _IdPing = spawn(prog, ping, [IdPong]),\n",
    "  timer:sleep(100)."
   ]
  },
  {
   "cell_type": "code",
   "execution_count": 323,
   "id": "4d99130e-8166-49c3-b780-7270220a0848",
   "metadata": {
    "execution": {
     "iopub.execute_input": "2024-03-01T12:38:45.483643Z",
     "iopub.status.busy": "2024-03-01T12:38:45.483292Z",
     "iopub.status.idle": "2024-03-01T12:38:46.014430Z",
     "shell.execute_reply": "2024-03-01T12:38:46.013180Z",
     "shell.execute_reply.started": "2024-03-01T12:38:45.483617Z"
    }
   },
   "outputs": [
    {
     "name": "stdout",
     "output_type": "stream",
     "text": [
      "Donne un nombre : ping> Resultat 42\n"
     ]
    }
   ],
   "source": [
    "!echo \"-42.\" | escript prog.erl"
   ]
  },
  {
   "cell_type": "markdown",
   "id": "df8813fe-1292-40ef-bc21-fe9a6af36063",
   "metadata": {},
   "source": [
    "Pong est un processus \"one shot\", on peut imaginer qu'il s'exécute en boucle (tant qu'il y a des demandes) : après envoie de la réponse, il peut récursivement être ré-appelé."
   ]
  }
 ],
 "metadata": {
  "kernelspec": {
   "display_name": "Python 3 (ipykernel)",
   "language": "python",
   "name": "python3"
  },
  "language_info": {
   "codemirror_mode": {
    "name": "ipython",
    "version": 3
   },
   "file_extension": ".py",
   "mimetype": "text/x-python",
   "name": "python",
   "nbconvert_exporter": "python",
   "pygments_lexer": "ipython3",
   "version": "3.10.12"
  },
  "rise": {
   "scroll": true
  },
  "title": "Cours 3 : Parallélisme (Erlang)"
 },
 "nbformat": 4,
 "nbformat_minor": 5
}
