{
 "cells": [
  {
   "cell_type": "markdown",
   "id": "2b01103b-91d5-488c-9723-7ca06a125f03",
   "metadata": {
    "editable": true,
    "execution": {
     "iopub.execute_input": "2024-01-12T08:55:53.447632Z",
     "iopub.status.busy": "2024-01-12T08:55:53.447304Z",
     "iopub.status.idle": "2024-01-12T08:55:53.452035Z",
     "shell.execute_reply": "2024-01-12T08:55:53.451385Z",
     "shell.execute_reply.started": "2024-01-12T08:55:53.447608Z"
    },
    "slideshow": {
     "slide_type": "slide"
    },
    "tags": []
   },
   "source": [
    "<img src=\"logoUGA.png\"></img>\n",
    "\n",
    "Séance 9 (S+2) ; Cours N+2 : Programmation fonctionnelle en Erlang\n"
   ]
  },
  {
   "cell_type": "markdown",
   "id": "953c5d1f-1dbb-46f9-899c-22fbea6afa85",
   "metadata": {
    "editable": true,
    "slideshow": {
     "slide_type": "skip"
    },
    "tags": []
   },
   "source": [
    "1) Fonctions simples (rappels)\n",
    "   * exemple (longueur, concaténation)\n",
    "   * moteur d'exécution (rappels)\n",
    "   * raisonnement par cas et garde (rappels)\n",
    "   * récursivité et propriétés algos (rappels)\n",
    "2) Fonctions simples (suite)\n",
    "   * fonction avec plusieurs résultats\n",
    "   * récursivité terminale\n",
    "   * accumulateur\n",
    "3) Fonctions d'ordre supérieur : Fun => Fun\n",
    "   * Générateur de fonctions\n",
    "   * Cloture (paramètres privés/publics)\n",
    "4) Fonction d'ordre supérieur : Fun(Fun)\n",
    "   * fonction auxiliaire (ex. comparaison() pour tri(), tri(comparaison))\n",
    "   * map, reduce et autres\n",
    "6) Autres utilisations\n",
    "   * Evaluation paresseuse\n",
    "   * Structure incomplète"
   ]
  },
  {
   "cell_type": "markdown",
   "id": "4921eb6f-d696-4c61-9344-320c30a51784",
   "metadata": {
    "editable": true,
    "slideshow": {
     "slide_type": "slide"
    },
    "tags": []
   },
   "source": [
    "# Fonctions simples (rappels)\n",
    "\n",
    "## Exemples (longueur, concaténation)"
   ]
  },
  {
   "cell_type": "code",
   "execution_count": 12,
   "id": "6be596a9-6bc3-4513-8ae6-bb5c8ae5baa0",
   "metadata": {
    "editable": true,
    "execution": {
     "iopub.execute_input": "2024-02-28T17:02:04.209755Z",
     "iopub.status.busy": "2024-02-28T17:02:04.209380Z",
     "iopub.status.idle": "2024-02-28T17:02:04.240168Z",
     "shell.execute_reply": "2024-02-28T17:02:04.238110Z",
     "shell.execute_reply.started": "2024-02-28T17:02:04.209728Z"
    },
    "slideshow": {
     "slide_type": ""
    },
    "tags": []
   },
   "outputs": [
    {
     "name": "stdout",
     "output_type": "stream",
     "text": [
      "Overwriting prog.erl\n"
     ]
    }
   ],
   "source": [
    "%%writefile prog.erl\n",
    "-module(prog).\n",
    "-compile([export_all,nowarn_export_all]).\n",
    "\n",
    "longueur([])->0;\n",
    "longueur([_E|L])->1+longueur(L).\n",
    "\n",
    "concatener([],B)->B;\n",
    "concatener([E|L],B)->[E|concatener(L,B)].\n",
    "\n",
    "main([]) -> \n",
    "  io:format('~nResultat : ~p ~n',[longueur([1,2,3,4,5])]),\n",
    "  io:format('~nResultat : ~p ~n',[concatener([1,2],[3,4,5])])."
   ]
  },
  {
   "cell_type": "code",
   "execution_count": 13,
   "id": "42c7350e-310c-4143-9d3f-1aac2969071f",
   "metadata": {
    "editable": true,
    "execution": {
     "iopub.execute_input": "2024-02-28T17:02:06.297747Z",
     "iopub.status.busy": "2024-02-28T17:02:06.297240Z",
     "iopub.status.idle": "2024-02-28T17:02:06.718518Z",
     "shell.execute_reply": "2024-02-28T17:02:06.716013Z",
     "shell.execute_reply.started": "2024-02-28T17:02:06.297724Z"
    },
    "slideshow": {
     "slide_type": ""
    },
    "tags": []
   },
   "outputs": [
    {
     "name": "stdout",
     "output_type": "stream",
     "text": [
      "\n",
      "Resultat : 5 \n",
      "\n",
      "Resultat : [1,2,3,4,5] \n"
     ]
    }
   ],
   "source": [
    "!escript prog.erl"
   ]
  },
  {
   "cell_type": "markdown",
   "id": "1ebeb304-7b4d-448b-8461-109a176ee219",
   "metadata": {
    "editable": true,
    "slideshow": {
     "slide_type": "slide"
    },
    "tags": []
   },
   "source": [
    "## Moteur d'exécution (rappels)\n",
    "\n",
    "L'exécution se déroule en 2 temps :\n",
    "\n",
    "* Evaluation des paramètres et/ou arguments des expressions\n",
    "* Evaluation de la fonction elle-même\n",
    "\n",
    "D'autres langages fonctionnelles font autrement, avec une évaluation dite \"paresseuse\" des paramètres, au besoin, seulement si c'est nécessaire. Cette évaluation passe donc en second par rapport à l'évaluation de la fonction.\n",
    "\n",
    "On peut donner un exemple de trace d'exécution :\n",
    "\n",
    "?> longueur(concaténation([1],[2]))  \n",
    "  -->> longueur([1,2])  \n",
    "  -->> 1 + longueur([2])  \n",
    "  -->> 1 + 1 + longueur([])  \n",
    "  -->> 1 + 1 + 0  \n",
    "  -->> 2"
   ]
  },
  {
   "cell_type": "markdown",
   "id": "4293a265-3d16-470b-9cfa-ccf12d75c152",
   "metadata": {
    "editable": true,
    "slideshow": {
     "slide_type": "slide"
    },
    "tags": []
   },
   "source": [
    "## Raisonnement par cas et garde (rappels)\n",
    "\n",
    "(Presque) rien de nouveau ici, juste un exemple et qlq détails sur les gardes."
   ]
  },
  {
   "cell_type": "code",
   "execution_count": 18,
   "id": "1fc56715-5928-4a21-a61b-c8fb3eedbc60",
   "metadata": {
    "execution": {
     "iopub.execute_input": "2024-02-28T17:06:03.360232Z",
     "iopub.status.busy": "2024-02-28T17:06:03.357975Z",
     "iopub.status.idle": "2024-02-28T17:06:03.392232Z",
     "shell.execute_reply": "2024-02-28T17:06:03.390313Z",
     "shell.execute_reply.started": "2024-02-28T17:06:03.360158Z"
    }
   },
   "outputs": [
    {
     "name": "stdout",
     "output_type": "stream",
     "text": [
      "Overwriting prog.erl\n"
     ]
    }
   ],
   "source": [
    "%%writefile prog.erl\n",
    "-module(prog).\n",
    "-compile([export_all,nowarn_export_all]).\n",
    "\n",
    "valeurAbsolue(A) when A > 0 -> A;\n",
    "valeurAbsolue(A) -> -A.\n",
    "\n",
    "main([]) -> \n",
    "  io:format('~nResultat : ~p ~n',[valeurAbsolue(2)]),\n",
    "  io:format('~nResultat : ~p ~n',[valeurAbsolue(-3)])."
   ]
  },
  {
   "cell_type": "code",
   "execution_count": 19,
   "id": "483fc4eb-b3d6-43e9-b3fc-31d22fa4748f",
   "metadata": {
    "execution": {
     "iopub.execute_input": "2024-02-28T17:06:05.409209Z",
     "iopub.status.busy": "2024-02-28T17:06:05.408347Z",
     "iopub.status.idle": "2024-02-28T17:06:05.796054Z",
     "shell.execute_reply": "2024-02-28T17:06:05.793783Z",
     "shell.execute_reply.started": "2024-02-28T17:06:05.409175Z"
    }
   },
   "outputs": [
    {
     "name": "stdout",
     "output_type": "stream",
     "text": [
      "\n",
      "Resultat : 2 \n",
      "\n",
      "Resultat : 3 \n"
     ]
    }
   ],
   "source": [
    "!escript prog.erl"
   ]
  },
  {
   "cell_type": "markdown",
   "id": "6c6b3011-e333-4959-9622-557c2cc2116d",
   "metadata": {
    "execution": {
     "iopub.execute_input": "2024-02-28T17:10:43.501179Z",
     "iopub.status.busy": "2024-02-28T17:10:43.500482Z",
     "iopub.status.idle": "2024-02-28T17:10:43.511371Z",
     "shell.execute_reply": "2024-02-28T17:10:43.509868Z",
     "shell.execute_reply.started": "2024-02-28T17:10:43.501137Z"
    }
   },
   "source": [
    "Les expressions et fonctions autorisées dans les gardes sont (limitées) :\n",
    "\n",
    "* expressions arithmétiques et relationnelles simples (+, -, /, div, rem, >, ==, /=, etc.)\n",
    "* fonction prédéfinies autorisées (BIF) : \n",
    "  * is_integer, is_list, is_atom\n",
    "  * abs, hd, tl, length, self\n",
    "\n",
    "(plus de détail dans la doc erlang)"
   ]
  },
  {
   "cell_type": "markdown",
   "id": "c4e92593-53dd-4332-aa3a-0a25d2f5cf93",
   "metadata": {
    "editable": true,
    "slideshow": {
     "slide_type": "slide"
    },
    "tags": []
   },
   "source": [
    "## Récursivité et propriétés algos  (rappels)\n",
    "\n",
    "Rien de nouveau ici.\n",
    "\n",
    "Récursivite et raisonnement par cas : structures de contrôle complémentaires, permet d'écrire boucles et conditionnelles.\n",
    "\n",
    "Ne pas oublier de vérifier :\n",
    "\n",
    "* la terminaison des récursivités,\n",
    "* la complétude des raisonnements par cas,\n",
    "* (et toujours) la correction de vos programmes. "
   ]
  },
  {
   "cell_type": "markdown",
   "id": "f796e8ed-5411-4f88-b032-079397c02ab7",
   "metadata": {},
   "source": [
    "# Fonctions simples (suite)\n",
    "\n",
    "\n",
    "Quelques détails supplémentaires sur les fonctions.\n",
    "\n",
    "(il restera encore plein de détails à donner, on verra plus tard)\n",
    "\n",
    "## Fonction avec plusieurs résultats\n",
    "\n",
    "En Pascal, en C, en ProLog, on peut mettre autant de paramètres résultats que l'on veut (en C en faisant un passage par adresse).\n",
    "\n",
    "En Erlang, le résultat est unique, mais comme en Python, on peut \"à la volée\" construire une liste de plusieurs résultats.\n",
    "\n",
    "Ex. rechercheEtSupprimeMin(Liste) -> \\[Min,ListeSansMin]\n",
    "(à faire en exercice)\n",
    "\n",
    "Attention, pour la récurrence, il est souvent nécessaire d'expliciter les résultats des appels imbriqués.  \n",
    "```\n",
    "rechercheEtSupprimeMin([E|L])->\n",
    "  [X,LX] = rechercheEtSupprimeMin(L),\n",
    "   ... travail sur E, L, X et LX pour produire le résultat final\n",
    "  [R|LR].\n",
    "```\n",
    " \n",
    "## Récursivité terminale\n",
    "\n",
    "Dans l'exemple précédent, ```longueur(concaténation([1],[2]))```, l'organisation de la récursivité n'est pas terminale : l'appel récursif de longueur n'est pas la dernière action à faire, (il reste à faire une addition), cela peut nécessiter d'empiler les additions (si le compilateur ne trouve pas comment optimiser).\n",
    "\n",
    "Pour aider le compilateur, il est parfois nécessaire de modifier l'organisation du code, par exemple en ajoutant un accumulateur (cf. la suite)\n",
    "\n",
    "Selon les compilateur Erlang, les optimisations sont bien faites, il n'est pas nécessaire de chercher les récursivités terminales.\n",
    "\n",
    "## Accumulateur (et inversion)\n",
    "\n",
    "Le calcul ce longueur avec accumulateur :\n"
   ]
  },
  {
   "cell_type": "code",
   "execution_count": 34,
   "id": "cc415fca-79ad-4562-9716-966229ae91f7",
   "metadata": {
    "execution": {
     "iopub.execute_input": "2024-02-28T17:45:07.243685Z",
     "iopub.status.busy": "2024-02-28T17:45:07.242905Z",
     "iopub.status.idle": "2024-02-28T17:45:07.282042Z",
     "shell.execute_reply": "2024-02-28T17:45:07.279160Z",
     "shell.execute_reply.started": "2024-02-28T17:45:07.243584Z"
    }
   },
   "outputs": [
    {
     "name": "stdout",
     "output_type": "stream",
     "text": [
      "Overwriting prog.erl\n"
     ]
    }
   ],
   "source": [
    "%%writefile prog.erl\n",
    "-module(prog).\n",
    "-compile([export_all,nowarn_export_all]).\n",
    "\n",
    "longueur2(L) ->  %% introduction d'un accumulateur à 0\n",
    "  longueurAvecAccumulateur(L,0). \n",
    "\n",
    "longueurAvecAccumulateur([],Accumulateur)->Accumulateur;  %% retour de la valeur finale obtenue grace à l'accumulateur\n",
    "longueurAvecAccumulateur([_E|L],Accumulateur)->longueurAvecAccumulateur(L,1+Accumulateur).\n",
    "\n",
    "\n",
    "main([]) -> \n",
    "  io:format('~nResultat : ~p ~n',[longueur2([1,2,3])])."
   ]
  },
  {
   "cell_type": "code",
   "execution_count": 33,
   "id": "68959202-0f7c-4674-a6a3-35580710c774",
   "metadata": {
    "execution": {
     "iopub.execute_input": "2024-02-28T17:37:43.892932Z",
     "iopub.status.busy": "2024-02-28T17:37:43.892506Z",
     "iopub.status.idle": "2024-02-28T17:37:44.273448Z",
     "shell.execute_reply": "2024-02-28T17:37:44.271008Z",
     "shell.execute_reply.started": "2024-02-28T17:37:43.892909Z"
    }
   },
   "outputs": [
    {
     "name": "stdout",
     "output_type": "stream",
     "text": [
      "\n",
      "Resultat : 3 \n"
     ]
    }
   ],
   "source": [
    "!escript prog.erl"
   ]
  },
  {
   "cell_type": "markdown",
   "id": "e948d0e7-f38b-4bfc-916c-633f3908d710",
   "metadata": {},
   "source": [
    "Ainsi, l'évaluation de l'addition est faite dés le début de chaque instant d'évaluation de la longueur (sur les longueurs connues du début de la liste), au moment de l'évaluation des paramètres (1+Accumulateur).  \n",
    "\n",
    "L'évaluation de la fonction correspond à l'appel récursif, il n'est suivi d'aucune autre évaluation, il n'est pas nécessaire d'empiler un état pour la pile d'appel, ou d'augmenter la taille de l'expression finale à évaluer, le compilateur optimise cet appel (et l'expresssion) et la pile d'appel (et l'expression) n'augmente pas de taille.\n",
    "\n",
    "**Attention**, les programmes avec accumulateurs peuvent avoir des comportements inverses de ceux sans accumulateurs (et des résultats inverses).\n",
    "\n",
    "Exemple, une mauvaise concaténation obtenue à cause d'une utilisation erronée d'un accumulateur :"
   ]
  },
  {
   "cell_type": "code",
   "execution_count": 39,
   "id": "e826bc85-6ad6-48b2-91ce-5315d26c24ca",
   "metadata": {
    "execution": {
     "iopub.execute_input": "2024-02-28T17:50:41.101882Z",
     "iopub.status.busy": "2024-02-28T17:50:41.100601Z",
     "iopub.status.idle": "2024-02-28T17:50:41.123169Z",
     "shell.execute_reply": "2024-02-28T17:50:41.121856Z",
     "shell.execute_reply.started": "2024-02-28T17:50:41.101836Z"
    }
   },
   "outputs": [
    {
     "name": "stdout",
     "output_type": "stream",
     "text": [
      "Overwriting prog.erl\n"
     ]
    }
   ],
   "source": [
    "%%writefile prog.erl\n",
    "-module(prog).\n",
    "-compile([export_all,nowarn_export_all]).\n",
    "\n",
    "concatener2(D,F) ->\n",
    "  concatenerAvecAccumulateur(D,F,[]). %% introduction d'un accumulateur à []\n",
    "\n",
    "concatenerAvecAccumulateur([],B,Acc)->[B|Acc];\n",
    "concatenerAvecAccumulateur([E|L],B,Acc)->concatenerAvecAccumulateur(L,B,[E|Acc]).\n",
    "\n",
    "main([]) -> \n",
    "  io:format('~nResultat : ~p ~n',[concatener2([1,2],[3,4,5])])."
   ]
  },
  {
   "cell_type": "code",
   "execution_count": 40,
   "id": "dbee8732-5d1b-4471-979b-70f4521ca763",
   "metadata": {
    "execution": {
     "iopub.execute_input": "2024-02-28T17:50:43.241481Z",
     "iopub.status.busy": "2024-02-28T17:50:43.241042Z",
     "iopub.status.idle": "2024-02-28T17:50:43.624042Z",
     "shell.execute_reply": "2024-02-28T17:50:43.622003Z",
     "shell.execute_reply.started": "2024-02-28T17:50:43.241457Z"
    }
   },
   "outputs": [
    {
     "name": "stdout",
     "output_type": "stream",
     "text": [
      "\n",
      "Resultat : [[3,4,5],2,1] \n"
     ]
    }
   ],
   "source": [
    "!escript prog.erl"
   ]
  },
  {
   "cell_type": "markdown",
   "id": "a75439ef-b19a-4f14-a048-675dd6957932",
   "metadata": {},
   "source": [
    "Autre essai"
   ]
  },
  {
   "cell_type": "code",
   "execution_count": 42,
   "id": "4c15a74c-b5bb-4ae1-a1f7-70adaaa469a5",
   "metadata": {
    "execution": {
     "iopub.execute_input": "2024-02-28T17:51:47.432996Z",
     "iopub.status.busy": "2024-02-28T17:51:47.431097Z",
     "iopub.status.idle": "2024-02-28T17:51:47.467693Z",
     "shell.execute_reply": "2024-02-28T17:51:47.465489Z",
     "shell.execute_reply.started": "2024-02-28T17:51:47.432869Z"
    }
   },
   "outputs": [
    {
     "name": "stdout",
     "output_type": "stream",
     "text": [
      "Overwriting prog.erl\n"
     ]
    }
   ],
   "source": [
    "%%writefile prog.erl\n",
    "-module(prog).\n",
    "-compile([export_all,nowarn_export_all]).\n",
    "\n",
    "concatener2(D,F) ->\n",
    "  concatenerAvecAccumulateur(D,F,[]). %% introduction d'un accumulateur à []\n",
    "\n",
    "concatenerAvecAccumulateur([],B,Acc)->[Acc|B];\n",
    "concatenerAvecAccumulateur([E|L],B,Acc)->concatenerAvecAccumulateur(L,B,[E|Acc]).\n",
    "\n",
    "main([]) -> \n",
    "  io:format('~nResultat : ~p ~n',[concatener2([1,2],[3,4,5])])."
   ]
  },
  {
   "cell_type": "code",
   "execution_count": 43,
   "id": "3b20a978-aad1-47a5-a0a4-ff850f232c0a",
   "metadata": {
    "execution": {
     "iopub.execute_input": "2024-02-28T17:51:53.833710Z",
     "iopub.status.busy": "2024-02-28T17:51:53.832979Z",
     "iopub.status.idle": "2024-02-28T17:51:54.232091Z",
     "shell.execute_reply": "2024-02-28T17:51:54.229558Z",
     "shell.execute_reply.started": "2024-02-28T17:51:53.833683Z"
    }
   },
   "outputs": [
    {
     "name": "stdout",
     "output_type": "stream",
     "text": [
      "\n",
      "Resultat : [[2,1],3,4,5] \n"
     ]
    }
   ],
   "source": [
    "!escript prog.erl"
   ]
  },
  {
   "cell_type": "markdown",
   "id": "6c19d712-1e48-45b0-ae4c-2db75cdd8d89",
   "metadata": {},
   "source": [
    "Dans les 2 cas, \"1,2\" est inversé, et le résultat n'est plus une liste simple.\n",
    "\n",
    "Conclusion : attention aux accumulateurs, ils sont souvent utilisés pour faire comme en programmation classique (non récursive) et éviter la récursivité ou pour optimiser un code (cf. prec.). Mais même avec des Accumulateurs il faut comprendre la récursivité pour les utiliser, et quand on comprend la récursivité, ils deviennent souvent inutiles. Et pour les optimisations, Erlang dit que ce n'est pas nécessaire (que le compilateur sait optimiser).  \n",
    "Bref, à utiliser avec précaution."
   ]
  },
  {
   "cell_type": "markdown",
   "id": "35580a75-83de-451d-adff-82fca2ef680f",
   "metadata": {
    "editable": true,
    "slideshow": {
     "slide_type": "slide"
    },
    "tags": []
   },
   "source": [
    "# Fonctions d'ordre supérieur : Fun => Fun\n",
    "\n",
    "## Générateur de fonctions\n",
    "\n",
    "Exemple, un incrémenteur universel ?\n",
    "\n",
    "Pour faire un incrémenteur, une fonction simple suffit :\n",
    "```\n",
    "incrementeur(X)->X+1.\n",
    "```\n",
    "\n",
    "Idem si on veut un incrémenteur qui avance de 2, de 3, de 42 etc.\n",
    "\n",
    "Mais cela demande autant de fonction et de code pour les écrire que d'incrémenteur, alors qu'ils seront tous définis presque pareil.\n",
    "\n",
    "Pour améliorer cela, on peut faire une fabrique d'incrémenteur, et générer les incrémenteurs à la demande :"
   ]
  },
  {
   "cell_type": "code",
   "execution_count": 47,
   "id": "4e581c4d-5649-4d38-884a-35c1f64541d8",
   "metadata": {
    "execution": {
     "iopub.execute_input": "2024-02-28T18:13:41.425610Z",
     "iopub.status.busy": "2024-02-28T18:13:41.425014Z",
     "iopub.status.idle": "2024-02-28T18:13:41.452791Z",
     "shell.execute_reply": "2024-02-28T18:13:41.451408Z",
     "shell.execute_reply.started": "2024-02-28T18:13:41.425567Z"
    }
   },
   "outputs": [
    {
     "name": "stdout",
     "output_type": "stream",
     "text": [
      "Overwriting prog.erl\n"
     ]
    }
   ],
   "source": [
    "%%writefile prog.erl\n",
    "-module(prog).\n",
    "-compile([export_all,nowarn_export_all]).\n",
    "\n",
    "fabriqueIncrementeur(Increment) ->\n",
    "  fun (X) -> X+Increment end.\n",
    "\n",
    "main([]) -> \n",
    "  IncrementeurNormal = fabriqueIncrementeur(1),\n",
    "  IncrementeurDe5en5 = fabriqueIncrementeur(5),\n",
    "  io:format('~nResultat : ~p ~n',[IncrementeurNormal(42)]),\n",
    "  io:format('~nResultat : ~p ~n',[IncrementeurDe5en5(42)])."
   ]
  },
  {
   "cell_type": "code",
   "execution_count": 48,
   "id": "91d4f72c-cd5b-4353-85e0-d66261aa0482",
   "metadata": {
    "execution": {
     "iopub.execute_input": "2024-02-28T18:13:43.538345Z",
     "iopub.status.busy": "2024-02-28T18:13:43.537991Z",
     "iopub.status.idle": "2024-02-28T18:13:43.909109Z",
     "shell.execute_reply": "2024-02-28T18:13:43.907184Z",
     "shell.execute_reply.started": "2024-02-28T18:13:43.538323Z"
    }
   },
   "outputs": [
    {
     "name": "stdout",
     "output_type": "stream",
     "text": [
      "\n",
      "Resultat : 43 \n",
      "\n",
      "Resultat : 47 \n"
     ]
    }
   ],
   "source": [
    "!escript prog.erl"
   ]
  },
  {
   "cell_type": "markdown",
   "id": "48445332-c8d2-4e3f-8946-55dca78d9df0",
   "metadata": {
    "editable": true,
    "slideshow": {
     "slide_type": ""
    },
    "tags": []
   },
   "source": [
    "À noter au passage :\n",
    "\n",
    "* la définition d'une fonction à la volée, fonction anonyme avec 1 paramètre ```fun (X) -> ... end```\n",
    "* ne pas oublier le ```end``` à la fin de la définition de la fonction (rem. : le point n'est pas associé au end de la fonction définie à la volée mais à la fin de la fonction fabriqueIncrementeur)\n",
    "* des **V**ariables avec pour valeur des fonctions\n",
    "* pour faire des fonction récursives, il faut des fonctions qui ne soient pas anonymes, c'est possible il suffit de nommer la fonction définie à la volée  ```fun maFonction(X) -> ... end```"
   ]
  },
  {
   "cell_type": "markdown",
   "id": "2593c6b4-7f20-482a-b73a-5d7937847b18",
   "metadata": {
    "editable": true,
    "slideshow": {
     "slide_type": "slide"
    },
    "tags": []
   },
   "source": [
    "## Cloture (paramètres privés/publics)\n",
    "\n",
    "  Dans l'exemple précédent, l'incrément est un variable capturée par le fonction à la volée. Elle devient un paramètre privé de cette fonction. On dit qu'elle appartient à la cloture de la définition."
   ]
  },
  {
   "cell_type": "markdown",
   "id": "21a2d04e-e4b5-403e-8535-ac37cdb53359",
   "metadata": {},
   "source": [
    "#  Fonction d'ordre supérieur : Fun(Fun)\n",
    "\n",
    "## Fonction auxiliaire\n",
    "\n",
    "Il y a des cas simples où les fonctions sont des paramètres (d'autres fonctions). \n",
    "\n",
    "Par exemple, dans le cas d'un tri que l'on veut indépendant de la structure de données. Pour faire le lien avec la structure de données, il faut tout de même pouvoir comparer les éléments. Cette fonction de comparaison peut être un paramètre du tri. C'est une fonction auxiliaire."
   ]
  },
  {
   "cell_type": "markdown",
   "id": "acdff82f-7d6e-4ea4-b09d-4cae595cecbb",
   "metadata": {
    "editable": true,
    "slideshow": {
     "slide_type": "slide"
    },
    "tags": []
   },
   "source": [
    "## Continuations (fonction de rappel, post-traitement, futur, promesse, delai)\n",
    "\n",
    "L'ordre supérieur a été beaucoup (vraiment beaucoup) utilisé pour gérer les traitements asynchrones, paralèlles ou pas, par exemple dans la programmation évènementielle. Ex. les fonctions de callback dans les xmlHttpRequest de Javascript.\n",
    "\n",
    "Pour donner une exemple, on va simuler une fonction d'E/S avec analyse de la réponse (en fonction de rappel). \n",
    "\n",
    "Intérêt : séparer les E/S et les analyses. Ici pour faire une E/S avec une analyse disjointe. \n",
    " \n",
    "Rem. dans l'exemple, comme souvent, la priorité semble donnée à la première fonction exécuté (la suite se trouve dans sa fonction de rappel de cette première fonction exécutes, l'appel général est l'appel de cette première fonction exécutée, etc.). On pourrait avoir une construction plus abstraite qui enchaine des fonctions arbitraires, sans donner l'illusion qu'il y a une priorité à la première fonction exécutée (suite)."
   ]
  },
  {
   "cell_type": "code",
   "execution_count": 116,
   "id": "789f058f-7fea-4a1e-8f63-6d1f8c247977",
   "metadata": {
    "execution": {
     "iopub.execute_input": "2024-02-29T16:13:27.400379Z",
     "iopub.status.busy": "2024-02-29T16:13:27.399689Z",
     "iopub.status.idle": "2024-02-29T16:13:27.415265Z",
     "shell.execute_reply": "2024-02-29T16:13:27.414687Z",
     "shell.execute_reply.started": "2024-02-29T16:13:27.400357Z"
    }
   },
   "outputs": [
    {
     "name": "stdout",
     "output_type": "stream",
     "text": [
      "Overwriting prog.erl\n"
     ]
    }
   ],
   "source": [
    "%%writefile prog.erl\n",
    "-module(prog).\n",
    "-compile([export_all,nowarn_export_all]).\n",
    "\n",
    "analyseReponseALaGrandeQuestion(42) -> cEstLaSolution;\n",
    "analyseReponseALaGrandeQuestion(N) when N < 42 -> peutEtrePlusGrand;\n",
    "analyseReponseALaGrandeQuestion(_N) -> peutEtrePlusPetit.\n",
    "\n",
    "sansLeSigne(N) when N < 0 -> -N;\n",
    "sansLeSigne(N) -> N.\n",
    "\n",
    "questionEtAnalyse(Analyse) ->\n",
    "  {ok, Term} = io:read(\"Donne un nombre : \"),\n",
    "  Analyse(Term).\n",
    "\n",
    "\n",
    "main([]) -> \n",
    "  io:format('~nResultat : ~p ~n',[questionEtAnalyse(fun (X) -> analyseReponseALaGrandeQuestion(X) end)]),\n",
    "  io:format('~nResultat : ~p ~n',[questionEtAnalyse(fun (X) -> sansLeSigne(X) end)])."
   ]
  },
  {
   "cell_type": "code",
   "execution_count": 117,
   "id": "f59c7eaf-1ac1-4552-bf76-87bc57c479c3",
   "metadata": {
    "execution": {
     "iopub.execute_input": "2024-02-29T16:13:30.216047Z",
     "iopub.status.busy": "2024-02-29T16:13:30.215707Z",
     "iopub.status.idle": "2024-02-29T16:13:30.475802Z",
     "shell.execute_reply": "2024-02-29T16:13:30.475026Z",
     "shell.execute_reply.started": "2024-02-29T16:13:30.216025Z"
    }
   },
   "outputs": [
    {
     "name": "stdout",
     "output_type": "stream",
     "text": [
      "Donne un nombre : \n",
      "Resultat : cEstLaSolution \n",
      "Donne un nombre : \n",
      "Resultat : 42 \n"
     ]
    }
   ],
   "source": [
    "!echo -e \" 42.\\n42.\" | escript prog.erl"
   ]
  },
  {
   "cell_type": "markdown",
   "id": "fb823251-2a6c-434c-b21b-6b2debb8f746",
   "metadata": {},
   "source": [
    "version plus abstraite (la première fonction, n'est pas la fonction globalement appelée, il y a une autre fonction générale appelée)"
   ]
  },
  {
   "cell_type": "code",
   "execution_count": 171,
   "id": "d08cbff3-3014-47c0-9587-0ea737988dcf",
   "metadata": {
    "execution": {
     "iopub.execute_input": "2024-02-29T16:29:10.536662Z",
     "iopub.status.busy": "2024-02-29T16:29:10.536054Z",
     "iopub.status.idle": "2024-02-29T16:29:10.554751Z",
     "shell.execute_reply": "2024-02-29T16:29:10.554261Z",
     "shell.execute_reply.started": "2024-02-29T16:29:10.536639Z"
    }
   },
   "outputs": [
    {
     "name": "stdout",
     "output_type": "stream",
     "text": [
      "Overwriting prog.erl\n"
     ]
    }
   ],
   "source": [
    "%%writefile prog.erl\n",
    "-module(prog).\n",
    "-compile([export_all,nowarn_export_all]).\n",
    "\n",
    "analyseReponseALaGrandeQuestion(42) -> cEstLaSolution;\n",
    "analyseReponseALaGrandeQuestion(N) when N < 42 -> peutEtrePlusGrand;\n",
    "analyseReponseALaGrandeQuestion(_N) -> peutEtrePlusPetit.\n",
    "\n",
    "question() ->\n",
    "  {ok, Term} = io:read(\"Donne un nombre : \"),\n",
    "  Term.\n",
    "        \n",
    "enchaine(A,B) ->\n",
    "  B(A()).\n",
    "\n",
    "\n",
    "main([]) -> \n",
    "  io:format('~nResultat : ~p ~n',[enchaine(fun () -> question() end, fun (Y) -> analyseReponseALaGrandeQuestion(Y) end)])."
   ]
  },
  {
   "cell_type": "code",
   "execution_count": 172,
   "id": "68e190c8-694a-4f0c-bc3f-94134af80b8d",
   "metadata": {
    "execution": {
     "iopub.execute_input": "2024-02-29T16:29:16.781539Z",
     "iopub.status.busy": "2024-02-29T16:29:16.781196Z",
     "iopub.status.idle": "2024-02-29T16:29:17.034727Z",
     "shell.execute_reply": "2024-02-29T16:29:17.033539Z",
     "shell.execute_reply.started": "2024-02-29T16:29:16.781517Z"
    }
   },
   "outputs": [
    {
     "name": "stdout",
     "output_type": "stream",
     "text": [
      "Donne un nombre : \n",
      "Resultat : cEstLaSolution \n"
     ]
    }
   ],
   "source": [
    "!echo \"42.\" | escript prog.erl"
   ]
  },
  {
   "cell_type": "markdown",
   "id": "233929ec-e7d6-4363-9dab-a2770d67753f",
   "metadata": {},
   "source": [
    "Version plus compacte, en compilant le fichiers, ce qui permet de nommer les fonctions (au lieu de les utiliser le biais de fonctions anonyme qui lie les fonctions locales par cloture)"
   ]
  },
  {
   "cell_type": "code",
   "execution_count": 168,
   "id": "79fc5fc7-f662-4d09-8daa-ea8bb4add34f",
   "metadata": {
    "execution": {
     "iopub.execute_input": "2024-02-29T16:29:00.305781Z",
     "iopub.status.busy": "2024-02-29T16:29:00.305517Z",
     "iopub.status.idle": "2024-02-29T16:29:00.325326Z",
     "shell.execute_reply": "2024-02-29T16:29:00.324202Z",
     "shell.execute_reply.started": "2024-02-29T16:29:00.305761Z"
    }
   },
   "outputs": [
    {
     "name": "stdout",
     "output_type": "stream",
     "text": [
      "Overwriting prog.erl\n"
     ]
    }
   ],
   "source": [
    "%%writefile prog.erl\n",
    "-module(prog).\n",
    "-compile([export_all,nowarn_export_all]).\n",
    "\n",
    "analyseReponseALaGrandeQuestion(42) -> cEstLaSolution;\n",
    "analyseReponseALaGrandeQuestion(N) when N < 42 -> peutEtrePlusGrand;\n",
    "analyseReponseALaGrandeQuestion(_N) -> peutEtrePlusPetit.\n",
    "\n",
    "question() ->\n",
    "  {ok, Term} = io:read(\"Donne un nombre : \"),\n",
    "  Term.\n",
    "        \n",
    "enchaine(A,B) ->\n",
    "  B(A()).\n",
    "\n",
    "\n",
    "main([]) -> \n",
    "  io:format('~nResultat : ~p ~n',[enchaine(fun prog:question/0, fun prog:analyseReponseALaGrandeQuestion/1)])."
   ]
  },
  {
   "cell_type": "code",
   "execution_count": 170,
   "id": "a802897a-d456-4856-bb3d-329b8eb50ec4",
   "metadata": {
    "execution": {
     "iopub.execute_input": "2024-02-29T16:29:07.309943Z",
     "iopub.status.busy": "2024-02-29T16:29:07.309618Z",
     "iopub.status.idle": "2024-02-29T16:29:07.729626Z",
     "shell.execute_reply": "2024-02-29T16:29:07.728838Z",
     "shell.execute_reply.started": "2024-02-29T16:29:07.309919Z"
    }
   },
   "outputs": [
    {
     "name": "stdout",
     "output_type": "stream",
     "text": [
      "Donne un nombre : \n",
      "Resultat : cEstLaSolution \n"
     ]
    }
   ],
   "source": [
    "!erlc prog.erl ; echo -e \"42.\" | escript prog.erl"
   ]
  },
  {
   "cell_type": "markdown",
   "id": "301130d0-9e11-4b06-82ee-7c6e2e8763b2",
   "metadata": {
    "editable": true,
    "slideshow": {
     "slide_type": ""
    },
    "tags": []
   },
   "source": [
    "## Map-Reduce et autres foldl, filter\n",
    "\n",
    "La programmation fonctionnelle moderne retrouve La structure de données de ses origines (les listes de lisp).\n",
    "\n",
    "Le retour des parcours sur les listes.\n",
    "\n",
    "Plusieurs fonctions d'ordre supérieur associent concernent les listes :\n",
    "\n",
    "* map(F,L)->L : application d'une fonction à tous les éléments d'une liste\n",
    "* foldl(F,Acc,L)->Acc (ou foldr ou reduce) : réduction d'une liste à un élement par accumulation d'exécutions succéssives sur chaque éléments d'une liste (en commençant au début/à gauche pour foldl, ou par la fin/à droite pour foldr)\n",
    "* filter(P,L)->L : qui réduit une liste aux éléments respectant un certains prédicat\n",
    "* all(P,L)->Bool (ou any) : qui évalue une propriété booléenne sur tous les éléments d'une liste et revoie la conjonction (ou la disjonction) des réponses\n",
    "* etc."
   ]
  },
  {
   "cell_type": "code",
   "execution_count": 191,
   "id": "32e600d5-95b3-49b8-b9b4-2ba74b1105ad",
   "metadata": {
    "execution": {
     "iopub.execute_input": "2024-03-14T07:10:22.916549Z",
     "iopub.status.busy": "2024-03-14T07:10:22.916138Z",
     "iopub.status.idle": "2024-03-14T07:10:22.945392Z",
     "shell.execute_reply": "2024-03-14T07:10:22.944633Z",
     "shell.execute_reply.started": "2024-03-14T07:10:22.916532Z"
    }
   },
   "outputs": [
    {
     "name": "stdout",
     "output_type": "stream",
     "text": [
      "Overwriting prog.erl\n"
     ]
    }
   ],
   "source": [
    "%%writefile prog.erl\n",
    "-module(prog).\n",
    "-compile([export_all,nowarn_export_all]).\n",
    "\n",
    "map(_F,[]) -> [];\n",
    "map(F,[E|L]) -> [F(E)|map(F,L)].\n",
    "\n",
    "foldl(_F,Acc,[]) -> Acc;\n",
    "foldl(F,Acc,[E|L]) -> foldl(F,F(E,Acc),L).\n",
    "\n",
    "filter(_P,[])->[];\n",
    "filter(P,[E|L])->\n",
    "  suiteFilter(P,P(E),[E|L]).\n",
    "    \n",
    "suiteFilter(P,true,[E|L]) -> [E|filter(P,L)];\n",
    "suiteFilter(P,_,[_E|L]) -> filter(P,L).\n",
    "\n",
    "main([]) -> \n",
    "  io:format('~nResultat : ~p ~n',[map(fun (X) -> 10*X end, [1,2,3,4])]),\n",
    "  io:format('~nResultat : ~p ~n',[foldl(fun (X,Acc) -> X+Acc end, 0, [1,2,3,4])]),\n",
    "  io:format('~nResultat : ~p ~n',[filter(fun (X) -> (X rem 2) == 0 end, [1,2,3,4])]),\n",
    "  io:format('~nResultat : ~p ~n',[foldl(fun (X,Acc) when X<Acc -> X; (_X,Acc) -> Acc end, 999, [3,1,4,1,5])])."
   ]
  },
  {
   "cell_type": "code",
   "execution_count": 192,
   "id": "97f0ad9e-5ec1-430f-945d-e47c797169f5",
   "metadata": {
    "execution": {
     "iopub.execute_input": "2024-03-14T07:10:24.930613Z",
     "iopub.status.busy": "2024-03-14T07:10:24.930386Z",
     "iopub.status.idle": "2024-03-14T07:10:25.187372Z",
     "shell.execute_reply": "2024-03-14T07:10:25.186662Z",
     "shell.execute_reply.started": "2024-03-14T07:10:24.930599Z"
    }
   },
   "outputs": [
    {
     "name": "stdout",
     "output_type": "stream",
     "text": [
      "\n",
      "Resultat : [10,20,30,40] \n",
      "\n",
      "Resultat : 10 \n",
      "\n",
      "Resultat : [2,4] \n",
      "\n",
      "Resultat : 1 \n"
     ]
    }
   ],
   "source": [
    "!escript prog.erl"
   ]
  },
  {
   "cell_type": "markdown",
   "id": "6eb2508e-b1e1-4c23-b939-47f3a2e3fc2b",
   "metadata": {},
   "source": [
    "# Autres utilisations\n",
    "\n",
    "C'est plus exotique, mais il y a d'autres utilisations des listes qui permettent de simuler une évaluation paresseuse (à la Haskell) ou des structures incomplètes (à la ProLog)."
   ]
  },
  {
   "cell_type": "markdown",
   "id": "4b59f977-7f1c-4d33-9b23-9c60125f4e5e",
   "metadata": {},
   "source": [
    "## Structure incomplète\n",
    "\n",
    "Précédement, on a fait une concaténation terminale avec accumulateur \"fausse\" (elle produisait des listes qui n'étaient plus simples et dont certaines parties étaient mises à l'envers). Pour résoudre les 2 problèmes, il fallait ajouter les éléments en queue de liste et non pas en début de liste comme c'était proposé (et comme c'est le plus simple). Pour ajouter en fin de liste, on peut faire un algo linéaire de parcours de la liste et ajout en fin, mais il faudrait trouver mieux, ajouter en fin de liste en temps constant. C'est possible.  \n",
    "Pour ajouter en fin, dans une liste, c'est pratique si on a déjà un pointeur sur la fin. En Erlang, il n'y a pas de pointeur, mais il y a des fonctions. Si, au lieu d'ajouter dans une liste, on opère avec une fonction qui renvoie une liste avec un paramètre de fonction qui pointe sur la fin, cela donne le même résultat.\n",
    "\n",
    "On a ainsi, un ajout en fin, en temps constant :\n",
    "```\n",
    "ajoutPourListeAvecFonctionQueue(E,F)->F([E]).\n",
    "```\n",
    "\n",
    "il faut \"juste\" fournir en entrée une liste avec fonction/pointeur de queue.\n",
    "```\n",
    "ajoutPourListeAvecFonctionQueue(4,fun (Z) -> [1,2,3|Z] end).\n",
    "```\n",
    "\n",
    "et si on conserve la structure de listeAvecFonctionQueue, on peut enchainer les ajouts en fin \n",
    "```\n",
    "ajoutPourListeAvecFonctionQueue(E,F)->fun (Z) -> F([E|Z]) end.\n",
    "```\n",
    "\n",
    "par contre, à la fin, si on a conservé la structure de liste avec fonction/pointeur de queue, on a une fonction au lieu d'une liste, pour retrouver la liste il faut applique le fonction sur qlq chose, par exemple sur la liste vide (ce qui semble le plus naturel si on pense que la liste est finie).\n",
    "```\n",
    "L([]).\n",
    "```\n",
    "\n",
    "et on peut donc même obtenir une concaténation terminale avec accumulateur, l'appel initial prend un accumulateur vide, et à la fin si on veut le liste on peut rompre la structure de listeAvecFonctionQueue an appliquant la fonction de queue sans re-créer une nouvelle fonction de queue :"
   ]
  },
  {
   "cell_type": "code",
   "execution_count": 75,
   "id": "52b17252-2c73-44f1-83fc-01ee3e7e989a",
   "metadata": {
    "execution": {
     "iopub.execute_input": "2024-02-29T15:33:34.367039Z",
     "iopub.status.busy": "2024-02-29T15:33:34.366351Z",
     "iopub.status.idle": "2024-02-29T15:33:34.381962Z",
     "shell.execute_reply": "2024-02-29T15:33:34.381452Z",
     "shell.execute_reply.started": "2024-02-29T15:33:34.366965Z"
    }
   },
   "outputs": [
    {
     "name": "stdout",
     "output_type": "stream",
     "text": [
      "Overwriting prog.erl\n"
     ]
    }
   ],
   "source": [
    "%%writefile prog.erl\n",
    "-module(prog).\n",
    "-compile([export_all,nowarn_export_all]).\n",
    "\n",
    "\n",
    "ajoutPourListeAvecFonctionQueue(E,F)->fun (Z) -> F([E|Z]) end.\n",
    "\n",
    "concatenerPourListeAvecFonctionQueue([],B,F)->F(B);\n",
    "concatenerPourListeAvecFonctionQueue([E|L],B,F)->\n",
    "  NF = ajoutPourListeAvecFonctionQueue(E,F),\n",
    "  concatenerPourListeAvecFonctionQueue(L,B,NF).\n",
    "\n",
    "main([]) -> \n",
    "  io:format('~nResultat : ~p ~n',[concatenerPourListeAvecFonctionQueue([1,2],[3,4,5,6],fun (Z) -> Z end)]). "
   ]
  },
  {
   "cell_type": "code",
   "execution_count": 76,
   "id": "4297c4e2-3720-4ac4-a1df-09a0114aab14",
   "metadata": {
    "execution": {
     "iopub.execute_input": "2024-02-29T15:33:46.915377Z",
     "iopub.status.busy": "2024-02-29T15:33:46.915058Z",
     "iopub.status.idle": "2024-02-29T15:33:47.197150Z",
     "shell.execute_reply": "2024-02-29T15:33:47.196373Z",
     "shell.execute_reply.started": "2024-02-29T15:33:46.915354Z"
    }
   },
   "outputs": [
    {
     "name": "stdout",
     "output_type": "stream",
     "text": [
      "\n",
      "Resultat : [1,2,3,4,5,6] \n"
     ]
    }
   ],
   "source": [
    "!escript prog.erl"
   ]
  },
  {
   "cell_type": "markdown",
   "id": "a82b7fed-439e-4e60-b2e6-e605b63a5712",
   "metadata": {},
   "source": [
    "ou plus compact :"
   ]
  },
  {
   "cell_type": "code",
   "execution_count": 77,
   "id": "1b5345b4-849e-4ede-8771-24938e344efa",
   "metadata": {
    "execution": {
     "iopub.execute_input": "2024-02-29T15:35:31.394362Z",
     "iopub.status.busy": "2024-02-29T15:35:31.394119Z",
     "iopub.status.idle": "2024-02-29T15:35:31.412682Z",
     "shell.execute_reply": "2024-02-29T15:35:31.411965Z",
     "shell.execute_reply.started": "2024-02-29T15:35:31.394335Z"
    }
   },
   "outputs": [
    {
     "name": "stdout",
     "output_type": "stream",
     "text": [
      "Overwriting prog.erl\n"
     ]
    }
   ],
   "source": [
    "%%writefile prog.erl\n",
    "-module(prog).\n",
    "-compile([export_all,nowarn_export_all]).\n",
    "\n",
    "\n",
    "concatenerQ([],B,F)->F(B);\n",
    "concatenerQ([E|L],B,F)->concatenerQ(L,B,fun (Z) -> F([E|Z]) end).\n",
    "                                    \n",
    "main([]) -> \n",
    "  io:format('~nResultat : ~p ~n',[concatenerQ([1,2],[3,4,5,6],fun (Z) -> Z end)]). \n"
   ]
  },
  {
   "cell_type": "code",
   "execution_count": 78,
   "id": "021977d6-beef-497e-9ac7-964d3ee9c5ff",
   "metadata": {
    "execution": {
     "iopub.execute_input": "2024-02-29T15:35:40.329780Z",
     "iopub.status.busy": "2024-02-29T15:35:40.329520Z",
     "iopub.status.idle": "2024-02-29T15:35:40.607334Z",
     "shell.execute_reply": "2024-02-29T15:35:40.606604Z",
     "shell.execute_reply.started": "2024-02-29T15:35:40.329761Z"
    }
   },
   "outputs": [
    {
     "name": "stdout",
     "output_type": "stream",
     "text": [
      "\n",
      "Resultat : [1,2,3,4,5,6] \n"
     ]
    }
   ],
   "source": [
    "!escript prog.erl"
   ]
  },
  {
   "cell_type": "markdown",
   "id": "5d8a4805-f711-4578-b05b-7d9bfaec1d8b",
   "metadata": {},
   "source": [
    "ou, mieux, en masquant le mécanisme interne :"
   ]
  },
  {
   "cell_type": "code",
   "execution_count": 173,
   "id": "9f9c3e21-e981-44d8-97c9-e72a8c7b7350",
   "metadata": {
    "editable": true,
    "execution": {
     "iopub.execute_input": "2024-02-29T16:34:00.442474Z",
     "iopub.status.busy": "2024-02-29T16:34:00.441897Z",
     "iopub.status.idle": "2024-02-29T16:34:00.460560Z",
     "shell.execute_reply": "2024-02-29T16:34:00.460033Z",
     "shell.execute_reply.started": "2024-02-29T16:34:00.442444Z"
    },
    "slideshow": {
     "slide_type": ""
    },
    "tags": []
   },
   "outputs": [
    {
     "name": "stdout",
     "output_type": "stream",
     "text": [
      "Overwriting prog.erl\n"
     ]
    }
   ],
   "source": [
    "%%writefile prog.erl\n",
    "-module(prog).\n",
    "-compile([export_all,nowarn_export_all]).\n",
    "\n",
    "concatener(A,B) ->\n",
    "  concatenerQ(A,B,fun (Z) -> Z end).\n",
    "\n",
    "concatenerQ([],B,F)->F(B);\n",
    "concatenerQ([E|L],B,F)->concatenerQ(L,B,fun (Z) -> F([E|Z]) end).\n",
    "                                    \n",
    "main([]) -> \n",
    "  io:format('~nResultat : ~p ~n',[concatener([1,2],[3,4,5,6])]). "
   ]
  },
  {
   "cell_type": "code",
   "execution_count": 174,
   "id": "e2dd5c98-8d0a-401b-89f0-12a8766b7f33",
   "metadata": {
    "execution": {
     "iopub.execute_input": "2024-02-29T16:34:07.787827Z",
     "iopub.status.busy": "2024-02-29T16:34:07.786876Z",
     "iopub.status.idle": "2024-02-29T16:34:08.037465Z",
     "shell.execute_reply": "2024-02-29T16:34:08.036268Z",
     "shell.execute_reply.started": "2024-02-29T16:34:07.787802Z"
    }
   },
   "outputs": [
    {
     "name": "stdout",
     "output_type": "stream",
     "text": [
      "\n",
      "Resultat : [1,2,3,4,5,6] \n"
     ]
    }
   ],
   "source": [
    "!escript prog.erl"
   ]
  },
  {
   "cell_type": "markdown",
   "id": "1dd949f0-0438-4bd3-a733-6c4a4fd3847c",
   "metadata": {},
   "source": [
    "## Evaluation paresseuse\n",
    "\n",
    "Certains langages ont une évaluation paresseuse des parresseuses (à la demande seulement si c'est nécessaire), mais erlang a une évaluation des arguments en premier (avant évaluation du corps des fonctions). Mais avec les fonctions, on peut simuler une évaluation paresseuse (des paramètres). Cela permet, par exemple, d'optimiser certains calculs (ne seront faits que les calculs nécessaires) et même d'utiliser des objets (potentiellement) \"infinis\".\n",
    "\n",
    "Exemple, pour créer des Suites infinies"
   ]
  },
  {
   "cell_type": "code",
   "execution_count": 66,
   "id": "c63e08a5-fa8a-4f24-bf7e-fa8d0391eaa6",
   "metadata": {
    "execution": {
     "iopub.execute_input": "2024-02-29T15:15:01.673575Z",
     "iopub.status.busy": "2024-02-29T15:15:01.673318Z",
     "iopub.status.idle": "2024-02-29T15:15:01.692484Z",
     "shell.execute_reply": "2024-02-29T15:15:01.691662Z",
     "shell.execute_reply.started": "2024-02-29T15:15:01.673554Z"
    }
   },
   "outputs": [
    {
     "name": "stdout",
     "output_type": "stream",
     "text": [
      "Overwriting prog.erl\n"
     ]
    }
   ],
   "source": [
    "%%writefile prog.erl\n",
    "-module(prog).\n",
    "-compile([export_all,nowarn_export_all]).\n",
    "\n",
    "\n",
    "listeAPartirDe(N) ->\n",
    "    fun() ->\n",
    "            [N|listeAPartirDe(N+1)]\n",
    "    end.\n",
    "\n",
    "main([]) -> \n",
    "  L0 = listeAPartirDe(0),\n",
    "  io:format('~nResultat : ~p ~n',[L0()]).  %%une application, un élement (et la suite) !"
   ]
  },
  {
   "cell_type": "code",
   "execution_count": 67,
   "id": "d5d1d21a-22ff-4261-ba54-95900718a638",
   "metadata": {
    "execution": {
     "iopub.execute_input": "2024-02-29T15:15:03.761955Z",
     "iopub.status.busy": "2024-02-29T15:15:03.761734Z",
     "iopub.status.idle": "2024-02-29T15:15:04.038752Z",
     "shell.execute_reply": "2024-02-29T15:15:04.037070Z",
     "shell.execute_reply.started": "2024-02-29T15:15:03.761940Z"
    }
   },
   "outputs": [
    {
     "name": "stdout",
     "output_type": "stream",
     "text": [
      "\n",
      "Resultat : [0|#Fun<erl_eval.45.65746770>] \n"
     ]
    }
   ],
   "source": [
    "!escript prog.erl"
   ]
  },
  {
   "cell_type": "code",
   "execution_count": 73,
   "id": "dd48cb5a-68ae-482e-ab49-39011c4a1c7c",
   "metadata": {
    "execution": {
     "iopub.execute_input": "2024-02-29T15:19:11.616361Z",
     "iopub.status.busy": "2024-02-29T15:19:11.616038Z",
     "iopub.status.idle": "2024-02-29T15:19:11.634009Z",
     "shell.execute_reply": "2024-02-29T15:19:11.633080Z",
     "shell.execute_reply.started": "2024-02-29T15:19:11.616344Z"
    }
   },
   "outputs": [
    {
     "name": "stdout",
     "output_type": "stream",
     "text": [
      "Overwriting prog.erl\n"
     ]
    }
   ],
   "source": [
    "%%writefile prog.erl\n",
    "-module(prog).\n",
    "-compile([export_all,nowarn_export_all]).\n",
    "\n",
    "\n",
    "listeAPartirDe(N) ->\n",
    "    fun() ->\n",
    "            [N|listeAPartirDe(N+1)]\n",
    "    end.\n",
    "\n",
    "main([]) -> \n",
    "  L0 = listeAPartirDe(0),\n",
    "  [E0|L1]=L0(),    %% plusieurs application, à chaque fois, un élément et la suite ...\n",
    "  [E1|L2]=L1(),\n",
    "  io:format('~nResultat : ~p ~n',[[E0,E1|L2()]])."
   ]
  },
  {
   "cell_type": "code",
   "execution_count": 74,
   "id": "6eb28806-ccd3-4e14-9d27-2f6527075d53",
   "metadata": {
    "execution": {
     "iopub.execute_input": "2024-02-29T15:19:14.118621Z",
     "iopub.status.busy": "2024-02-29T15:19:14.118289Z",
     "iopub.status.idle": "2024-02-29T15:19:14.369417Z",
     "shell.execute_reply": "2024-02-29T15:19:14.368780Z",
     "shell.execute_reply.started": "2024-02-29T15:19:14.118597Z"
    }
   },
   "outputs": [
    {
     "name": "stdout",
     "output_type": "stream",
     "text": [
      "\n",
      "Resultat : [0,1,2|#Fun<erl_eval.45.65746770>] \n"
     ]
    }
   ],
   "source": [
    "!escript prog.erl"
   ]
  },
  {
   "cell_type": "markdown",
   "id": "4c89ed5a-c0e8-4836-9042-d812d50c7897",
   "metadata": {},
   "source": [
    "et ainsi de suite...  \n",
    "(pour avoir les valeurs il faut évaluer explicitement, c'est contraignant d'un côté, mais en même temps, si l'évaluation était automatique, comme la suite est infinie, cela ne serait pas une bonne solution)"
   ]
  }
 ],
 "metadata": {
  "kernelspec": {
   "display_name": "Python 3 (ipykernel)",
   "language": "python",
   "name": "python3"
  },
  "language_info": {
   "codemirror_mode": {
    "name": "ipython",
    "version": 3
   },
   "file_extension": ".py",
   "mimetype": "text/x-python",
   "name": "python",
   "nbconvert_exporter": "python",
   "pygments_lexer": "ipython3",
   "version": "3.10.12"
  },
  "rise": {
   "scroll": true
  },
  "title": "Cours N+2 : Programmation Fonctionnelle en Erlang"
 },
 "nbformat": 4,
 "nbformat_minor": 5
}
