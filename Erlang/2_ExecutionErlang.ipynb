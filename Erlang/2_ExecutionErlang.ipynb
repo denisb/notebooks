{
 "metadata": {
  "name": "",
  "signature": "sha256:2c8a9d329998571c67cea82aeb179aa47c94a70f367fedc638105d699fc9a73d"
 },
 "nbformat": 3,
 "nbformat_minor": 0,
 "worksheets": [
  {
   "cells": [
    {
     "cell_type": "markdown",
     "metadata": {},
     "source": [
      "# Moteur d'ex\u00e9cution de la machine Erlang\n",
      "## Ex\u00e9cution simple\n",
      "\n",
      "Pour l'essentiel, le moteur d'ex\u00e9cution d'Erlang est naturel et *simple* \u00e0 comprendre ; Erlang est un langage fonctionnel, \u00e0 l'appel d'une fonction, les param\u00e8tres sont \u00e9valu\u00e9s, si l'un ne peut \u00eatre \u00e9valu\u00e9 l'ex\u00e9cution \u00e9choue, sinon, une fois les param\u00e8tres \u00e9valu\u00e9s, le corps de la fonction est ex\u00e9cut\u00e9 en rempla\u00e7ant les param\u00e8tres par les valeurs calcul\u00e9es (passage par valeur).  \n",
      "\n",
      "De prime abord, la principale diff\u00e9rence avec les autres langages de programmation vient de ce que les variables sont \u00e0 **affectation unique**. Ainsi vous ne verrez paz de N = N+1, ou N++, une fois que N a pris une valeur, N ne change pas, pour avoir N+1 il faut \u00e9crire N+1 ou affecter cette valeur \u00e0 une autre variable M = N+1. \n",
      "\n",
      "L'affectation unique intervient en fait moins souvent lors d'affectation explicite que lors d'**unification**. Lors d'une unification entre deux expressions ou variables, on peut avoir un test d'\u00e9galit\u00e9 ou une affectation (mais jamais un changement de valeur par une \"seconde\" affectation). \n",
      "\n",
      "La port\u00e9e de l'affectation unique est limit\u00e9e par la **port\u00e9e de la variable**, ainsi une variable N d\u00e9finie comme param\u00e8tre d'une fonction pourra avoir plusieurs valeurs au cours de diff\u00e9rentes ex\u00e9cutions d'un programme, autant de valeur que d'appels diff\u00e9rents. Par contre, dans le corps de la d\u00e9finition, il ne pourra y avoir qu'une seule valeur pour cette variable, celle acquise par le param\u00e8tre \u00e0 l'appel. En particulier si la variable apparait dans plusieurs param\u00e8tres de la d\u00e9finition, l'appel ne sera possible que si ces diff\u00e9rents param\u00e8tres donnent la m\u00eame valeur \u00e0 cette variable. \n",
      "\n",
      "L'utilisation de plusieurs param\u00e8tres avec le m\u00eame nom de variable lors d'un cas de d\u00e9finition permet de v\u00e9rifier que ces diff\u00e9rents param\u00e8tres sont \u00e9gaux, cela constitue un **test d'\u00e9galit\u00e9**, par contre, elle ne permet pas de donner une valeur \u00e0 une variable/expression donn\u00e9e \u00e0 l'appel (car lors de l'appel, chaque expression/variable d\u00e9finissant un param\u00e8tre doit \u00eatre \u00e9valuable pour que l'unification puisse \u00eatre \u00e9tudi\u00e9e [par ailleurs, ce serait contraire au principe que l'unification ne doit pas avoir d'effet de bord].)"
     ]
    },
    {
     "cell_type": "code",
     "collapsed": false,
     "input": [
      "-module(exe).\n",
      "-compile(export_all).\n",
      "\n",
      "inc(N) ->\n",
      "  N+1.\n",
      "    \n",
      "maFonction(A,B) ->\n",
      "  inc(A)+inc(B)."
     ],
     "language": "python",
     "metadata": {},
     "outputs": [
      {
       "html": [
        "<pre>Successfully Compiled</pre>"
       ],
       "metadata": {},
       "output_type": "pyout",
       "prompt_number": 1,
       "text": [
        "Successfully Compiled"
       ]
      }
     ],
     "prompt_number": 1
    },
    {
     "cell_type": "code",
     "collapsed": false,
     "input": [
      "exe:inc(0)."
     ],
     "language": "python",
     "metadata": {},
     "outputs": [
      {
       "html": [
        "1"
       ],
       "metadata": {},
       "output_type": "pyout",
       "prompt_number": 32,
       "text": [
        "1"
       ]
      }
     ],
     "prompt_number": 32
    },
    {
     "cell_type": "code",
     "collapsed": false,
     "input": [
      "exe:inc(1+1000)."
     ],
     "language": "python",
     "metadata": {},
     "outputs": [
      {
       "html": [
        "1002"
       ],
       "metadata": {},
       "output_type": "pyout",
       "prompt_number": 33,
       "text": [
        "1002"
       ]
      }
     ],
     "prompt_number": 33
    },
    {
     "cell_type": "code",
     "collapsed": false,
     "input": [
      "exe:inc(E+1)."
     ],
     "language": "python",
     "metadata": {},
     "outputs": [
      {
       "html": [
        "<pre>{unbound_var,'E'}</pre>"
       ],
       "metadata": {},
       "output_type": "pyout",
       "prompt_number": 2,
       "text": [
        "{unbound_var,'E'}"
       ]
      }
     ]
    },
    {
     "cell_type": "code",
     "collapsed": false,
     "input": [
      "E=4."
     ],
     "language": "python",
     "metadata": {},
     "outputs": [
      {
       "html": [
        "4"
       ],
       "metadata": {},
       "output_type": "pyout",
       "prompt_number": 3,
       "text": [
        "4"
       ]
      }
     ],
     "prompt_number": 3
    },
    {
     "cell_type": "code",
     "collapsed": false,
     "input": [
      "exe:inc(E)."
     ],
     "language": "python",
     "metadata": {},
     "outputs": [
      {
       "html": [
        "5"
       ],
       "metadata": {},
       "output_type": "pyout",
       "prompt_number": 4,
       "text": [
        "5"
       ]
      }
     ],
     "prompt_number": 4
    },
    {
     "cell_type": "code",
     "collapsed": false,
     "input": [
      "E=7."
     ],
     "language": "python",
     "metadata": {},
     "outputs": [
      {
       "html": [
        "<pre>{badmatch,7}</pre>"
       ],
       "metadata": {},
       "output_type": "pyout",
       "prompt_number": 5,
       "text": [
        "{badmatch,7}"
       ]
      }
     ]
    },
    {
     "cell_type": "code",
     "collapsed": false,
     "input": [
      "exe:maFonction(exe:inc(1),0)."
     ],
     "language": "python",
     "metadata": {},
     "outputs": [
      {
       "html": [
        "4"
       ],
       "metadata": {},
       "output_type": "pyout",
       "prompt_number": 6,
       "text": [
        "4"
       ]
      }
     ],
     "prompt_number": 6
    },
    {
     "cell_type": "code",
     "collapsed": false,
     "input": [
      "exe:maFonction(2,0)."
     ],
     "language": "python",
     "metadata": {},
     "outputs": [
      {
       "html": [
        "4"
       ],
       "metadata": {},
       "output_type": "pyout",
       "prompt_number": 7,
       "text": [
        "4"
       ]
      }
     ],
     "prompt_number": 7
    },
    {
     "cell_type": "code",
     "collapsed": false,
     "input": [
      "exe:maFonction(0,0)."
     ],
     "language": "python",
     "metadata": {},
     "outputs": [
      {
       "html": [
        "2"
       ],
       "metadata": {},
       "output_type": "pyout",
       "prompt_number": 8,
       "text": [
        "2"
       ]
      }
     ],
     "prompt_number": 8
    },
    {
     "cell_type": "code",
     "collapsed": false,
     "input": [
      "-module(exe).\n",
      "-compile(export_all).\n",
      "\n",
      "inc(N) ->\n",
      "  N+1.\n",
      "    \n",
      "maFonction(A,[B,_C]) ->\n",
      "  inc(A)+inc(B)."
     ],
     "language": "python",
     "metadata": {},
     "outputs": [
      {
       "html": [
        "<pre>Successfully Compiled</pre>"
       ],
       "metadata": {},
       "output_type": "pyout",
       "prompt_number": 12,
       "text": [
        "Successfully Compiled"
       ]
      }
     ],
     "prompt_number": 12
    },
    {
     "cell_type": "code",
     "collapsed": false,
     "input": [
      "exe:maFonction(0,[0,0])."
     ],
     "language": "python",
     "metadata": {},
     "outputs": [
      {
       "html": [
        "2"
       ],
       "metadata": {},
       "output_type": "pyout",
       "prompt_number": 11,
       "text": [
        "2"
       ]
      }
     ],
     "prompt_number": 11
    },
    {
     "cell_type": "code",
     "collapsed": false,
     "input": [
      "-module(exe).\n",
      "-compile(export_all).\n",
      "\n",
      "inc(N) ->\n",
      "  N+1.\n",
      "    \n",
      "maFonction(A,[A,B]) ->\n",
      "  inc(A)+inc(B)."
     ],
     "language": "python",
     "metadata": {},
     "outputs": [
      {
       "html": [
        "<pre>Successfully Compiled</pre>"
       ],
       "metadata": {},
       "output_type": "pyout",
       "prompt_number": 15,
       "text": [
        "Successfully Compiled"
       ]
      }
     ],
     "prompt_number": 15
    },
    {
     "cell_type": "code",
     "collapsed": false,
     "input": [
      "exe:maFonction(10,[10,1000])."
     ],
     "language": "python",
     "metadata": {},
     "outputs": [
      {
       "html": [
        "1012"
       ],
       "metadata": {},
       "output_type": "pyout",
       "prompt_number": 18,
       "text": [
        "1012"
       ]
      }
     ],
     "prompt_number": 18
    },
    {
     "cell_type": "code",
     "collapsed": false,
     "input": [
      "exe:maFonction(10,[11,1000])."
     ],
     "language": "python",
     "metadata": {},
     "outputs": [
      {
       "html": [
        "<pre>function_clause</pre>"
       ],
       "metadata": {},
       "output_type": "pyout",
       "prompt_number": 19,
       "text": [
        "function_clause"
       ]
      }
     ]
    },
    {
     "cell_type": "code",
     "collapsed": false,
     "input": [
      "-module(exe).\n",
      "-compile(export_all).\n",
      "\n",
      "inc(N) ->\n",
      "  N+1.\n",
      "    \n",
      "maFonction(A,A) ->\n",
      "  inc(A)+inc(A)."
     ],
     "language": "python",
     "metadata": {},
     "outputs": [
      {
       "html": [
        "<pre>Successfully Compiled</pre>"
       ],
       "metadata": {},
       "output_type": "pyout",
       "prompt_number": 20,
       "text": [
        "Successfully Compiled"
       ]
      }
     ],
     "prompt_number": 20
    },
    {
     "cell_type": "code",
     "collapsed": false,
     "input": [
      "exe:maFonction(1,0)."
     ],
     "language": "python",
     "metadata": {},
     "outputs": [
      {
       "html": [
        "<pre>function_clause</pre>"
       ],
       "metadata": {},
       "output_type": "pyout",
       "prompt_number": 21,
       "text": [
        "function_clause"
       ]
      }
     ]
    },
    {
     "cell_type": "code",
     "collapsed": false,
     "input": [
      "exe:maFonction(5,5)."
     ],
     "language": "python",
     "metadata": {},
     "outputs": [
      {
       "html": [
        "12"
       ],
       "metadata": {},
       "output_type": "pyout",
       "prompt_number": 23,
       "text": [
        "12"
       ]
      }
     ],
     "prompt_number": 23
    },
    {
     "cell_type": "markdown",
     "metadata": {},
     "source": [
      "\n",
      "## Ex\u00e9cution d'une fonction d\u00e9finie par cas\n",
      "\n",
      "Lors d'une d\u00e9finition de fonction par cas, le moteur d'ex\u00e9cution regarde chaque cas de d\u00e9finition dans l'ordre d'\u00e9criture (dans le fichier) et d\u00e8s que l'un des cas peut s'unifier avec l'appel demand\u00e9, l'ex\u00e9cution est effectu\u00e9e avec ce cas, les autres cas ne seront pas \u00e9valu\u00e9s. Pour voir si un cas corepond \u00e0 l'appel demand\u00e9, une fois les param\u00e8tres de l'appel \u00e9valu\u00e9s, il y a recherche d'une unification entre les valeurs calcul\u00e9es et les param\u00e8tres de la fonction dans chaque cas. Lors de cette recherche d'unification, il ne peut y avoir d'effet de bord (l'algorithme d'unification n'est pas accessible au programmeur, la garantie d'absence d'effet de bord lors de l'unification revient donc \u00e0 l'interpr\u00e9teur Erlang)\n",
      "\n",
      "Les diff\u00e9rentes d\u00e9finitions d'une fonction servent donc \u00e0 d\u00e9finir les diff\u00e9rents cas pour lesquels une d\u00e9finition de la fonction existe ; ces d\u00e9finitions d\u00e9terminent donc la forme des donn\u00e9es acceptables en entr\u00e9e, par exemple si une variable doit \u00eatre une liste, le programmeur peut pr\u00e9voir que cette liste sera la liste vide [], ou une liste avec un \u00e9l\u00e9ment [E|L] (E est l'\u00e9l\u00e9ment, L est la fin de la liste), ou deux \u00e9l\u00e9ments [E,F|L], ou plus ...\n",
      "\n",
      "Si un param\u00e8tre est donn\u00e9 dans une d\u00e9finition par cas par une variable X simple quelconque (et non pas par une forme/structure particuli\u00e8re), alors toute valeur pourra \u00eatre unifi\u00e9e avec X lors d'un appel, cela peut constituer un cas g\u00e9n\u00e9ral, ou cas **par d\u00e9faut**, en effet un cas de d\u00e9finition ne comportant que des variables simples libres s'unifiera donc avec tous les appels, ce sera donc un cas par d\u00e9faut, il serait normal qu'il arrive en fin de liste de d\u00e9finition ; attention, les cas de d\u00e9finition se trouvant apr\u00e8s lui ne pourront \u00eatre utilis\u00e9s.\n",
      "\n",
      "L'**ordre des cas** lors d'une d\u00e9finition par cas doit donc aller des cas les plus particuliers aux cas les plus g\u00e9n\u00e9raux (sachant que l'ordre n'est pas strict, il y a des cas qui ne se comparent pas), avec en dernier le cas par d\u00e9faut (avec seulement des variables simples quelconques) qui fonctionne toujours. \n",
      "\n",
      "Une utilisation courante de l'ordre des tests permet de d\u00e9finir un **test d'in\u00e9galit\u00e9**, dans la mesure o\u00f9 il arrive apr\u00e8s un test d'\u00e9galit\u00e9 [encore faut-il qu'il y en ait un], simplement par le fait qu'apr\u00e8s un test d'\u00e9galit\u00e9 qui ne s'unifie pas, les variables en question si elles ne peuvent \u00eatre \u00e9gales, sont forc\u00e9ment diff\u00e9rentes.\n",
      "\n",
      "Exemples :"
     ]
    },
    {
     "cell_type": "code",
     "collapsed": false,
     "input": [
      "-module(exe).\n",
      "-compile(export_all).\n",
      "\n",
      "maFonction(0,X) ->\n",
      "  X+4;\n",
      "maFonction(X,X) ->\n",
      "  2*X;\n",
      "maFonction([X],Y) ->\n",
      "  X+Y+1000;\n",
      "maFonction(X,Y) ->\n",
      "  X*Y."
     ],
     "language": "python",
     "metadata": {},
     "outputs": [
      {
       "html": [
        "<pre>Successfully Compiled</pre>"
       ],
       "metadata": {},
       "output_type": "pyout",
       "prompt_number": 24,
       "text": [
        "Successfully Compiled"
       ]
      }
     ],
     "prompt_number": 24
    },
    {
     "cell_type": "code",
     "collapsed": false,
     "input": [
      "exe:maFonction(0,0)."
     ],
     "language": "python",
     "metadata": {},
     "outputs": [
      {
       "html": [
        "4"
       ],
       "metadata": {},
       "output_type": "pyout",
       "prompt_number": 27,
       "text": [
        "4"
       ]
      }
     ],
     "prompt_number": 27
    },
    {
     "cell_type": "code",
     "collapsed": false,
     "input": [
      "exe:maFonction(1,1)."
     ],
     "language": "python",
     "metadata": {},
     "outputs": [
      {
       "html": [
        "2"
       ],
       "metadata": {},
       "output_type": "pyout",
       "prompt_number": 28,
       "text": [
        "2"
       ]
      }
     ],
     "prompt_number": 28
    },
    {
     "cell_type": "code",
     "collapsed": false,
     "input": [
      "exe:maFonction([2],1)."
     ],
     "language": "python",
     "metadata": {},
     "outputs": [
      {
       "html": [
        "1003"
       ],
       "metadata": {},
       "output_type": "pyout",
       "prompt_number": 35,
       "text": [
        "1003"
       ]
      }
     ],
     "prompt_number": 35
    },
    {
     "cell_type": "code",
     "collapsed": false,
     "input": [
      "exe:maFonction([1,2],1)."
     ],
     "language": "python",
     "metadata": {},
     "outputs": [
      {
       "html": [
        "<pre>badarith</pre>"
       ],
       "metadata": {},
       "output_type": "pyout",
       "prompt_number": 32,
       "text": [
        "badarith"
       ]
      }
     ]
    },
    {
     "cell_type": "code",
     "collapsed": false,
     "input": [
      "exe:maFonction(2,4)."
     ],
     "language": "python",
     "metadata": {},
     "outputs": [
      {
       "html": [
        "8"
       ],
       "metadata": {},
       "output_type": "pyout",
       "prompt_number": 34,
       "text": [
        "8"
       ]
      }
     ],
     "prompt_number": 34
    },
    {
     "cell_type": "markdown",
     "metadata": {},
     "source": [
      "\n",
      "## Utilisation de gardes\n",
      "\n",
      "En utilisant une constante (0), ou deux fois la m\u00eame variables pour la d\u00e9finition d'un cas, le programmeur peut tester l'\u00e9galit\u00e9 d'un param\u00e8tre (\u00e0 l'appel) avec la valeur 0, ou l'\u00e9galit\u00e9 entre deux param\u00e8tres, et par suite les cas suivants, s'ils sont test\u00e9s, signifieront que tel param\u00e8tre ne vaut pas 0 ou que que param\u00e8tres sont diff\u00e9rents. L'\u00e9galit\u00e9 ou la diff\u00e9rence entre param\u00e8tres/et ou valeur peut donc reposer sur l'unification, mais parfois la forme des param\u00e8tre n'est pas seulement relative \u00e0 une \u00e9galit\u00e9 ou diff\u00e9rence, parfois cela repose sur un type attendu, ou une relation ou une expression logique : l'unification ne peut pas tout faire.\n",
      "\n",
      "Pour g\u00e9rer des d\u00e9finitions par cas utilisant des conditions d'application autres que l'\u00e9galit\u00e9 (ou la diff\u00e9rence [obtenues par unification]) peuvent \u00eatre obtenues par des **gardes** (avec le mot cl\u00e9 when). Les gardes peuvent ainsi tester des propri\u00e9t\u00e9s relationnelles entre variables ( E > F ), ou des propri\u00e9t\u00e9s internes (is_integer(E), is_list(L), ...), elles peuvent m\u00eame tester l'\u00e9galit\u00e9 ou l'in\u00e9galit\u00e9 entre variables (E == F et E /= F, [et pour les nombres, si vous voulez aussi tester le type entier/flottant E =:= F et E =/= F]). \n",
      "\n",
      "La d\u00e9termination du cas de d\u00e9finition de la fonction \u00e0 appliquer devant se faire sans effet de bord, les gardes sont limit\u00e9es \u00e0 des op\u00e9rations qui ne font pas d'effets de bords (des comparaisons et quelques fonctions pr\u00e9d\u00e9finies par Erlang garanties sans effets de bord), en particulier, c'est bien dommage, l'utilisateur ne peut pas d\u00e9finir de fonction de garde ... (de peur que cela g\u00e9n\u00e8re un effet de bord ?)\n",
      "\n",
      "Les gardes peuvent \u00eatre associ\u00e9es par des virgules (\"et\") et point-virgule (\"ou\"), il n'y a pas de \"non\", pour obtenir un \"non\" une solution revient \u00e0 r\u00e9diger un cas de d\u00e9finition avec une garde qui fonctionne pour la propri\u00e9t\u00e9 positive, et si cette propri\u00e9t\u00e9 positive n'est pas v\u00e9rifi\u00e9e, les d\u00e9finitions suivantes seront associ\u00e9es \u00e0 la propri\u00e9t\u00e9 n\u00e9gative (c'est comme cela que l'on traduit la diff\u00e9rence, \u00e0 partir de l'\u00e9galit\u00e9, cf. plus haut) \n"
     ]
    },
    {
     "cell_type": "code",
     "collapsed": false,
     "input": [
      "-module(exe).\n",
      "-compile(export_all).\n",
      "\n",
      "maFact(1) ->\n",
      "  1;\n",
      "maFact(N) when is_integer(N), N > 1 ->\n",
      "  N*maFact(N-1);\n",
      "maFact(N) when is_integer(N) ->\n",
      "  [erreur_entier,fact,N];\n",
      "maFact(N) ->\n",
      "  [erreur_type,fact,N]."
     ],
     "language": "python",
     "metadata": {},
     "outputs": [
      {
       "html": [
        "<pre>Successfully Compiled</pre>"
       ],
       "metadata": {},
       "output_type": "pyout",
       "prompt_number": 36,
       "text": [
        "Successfully Compiled"
       ]
      }
     ],
     "prompt_number": 36
    },
    {
     "cell_type": "code",
     "collapsed": false,
     "input": [
      "exe:maFact(10)."
     ],
     "language": "python",
     "metadata": {},
     "outputs": [
      {
       "html": [
        "3628800"
       ],
       "metadata": {},
       "output_type": "pyout",
       "prompt_number": 40,
       "text": [
        "3628800"
       ]
      }
     ],
     "prompt_number": 40
    },
    {
     "cell_type": "code",
     "collapsed": false,
     "input": [
      "exe:maFact(-10)."
     ],
     "language": "python",
     "metadata": {},
     "outputs": [
      {
       "html": [
        "['erreur_entier', 'fact', -10]"
       ],
       "metadata": {},
       "output_type": "pyout",
       "prompt_number": 41,
       "text": [
        "['erreur_entier', 'fact', -10]"
       ]
      }
     ],
     "prompt_number": 41
    },
    {
     "cell_type": "code",
     "collapsed": false,
     "input": [
      "exe:maFact([10,1,3])."
     ],
     "language": "python",
     "metadata": {},
     "outputs": [
      {
       "html": [
        "['erreur_type', 'fact', [10, 1, 3]]"
       ],
       "metadata": {},
       "output_type": "pyout",
       "prompt_number": 43,
       "text": [
        "['erreur_type', 'fact', [10, 1, 3]]"
       ]
      }
     ],
     "prompt_number": 43
    },
    {
     "cell_type": "code",
     "collapsed": false,
     "input": [
      "-module(exe).\n",
      "-compile(export_all).\n",
      "\n",
      "maFact(N) when N==1 ->\n",
      "  1;\n",
      "maFact(N) when is_integer(N), N > 1 ->\n",
      "  N*maFact(N-1);\n",
      "maFact(N) when is_integer(N) ->\n",
      "  [erreur_entier,fact,N];\n",
      "maFact(N) ->\n",
      "  [erreur_type,fact,N]."
     ],
     "language": "python",
     "metadata": {},
     "outputs": [
      {
       "html": [
        "<pre>Successfully Compiled</pre>"
       ],
       "metadata": {},
       "output_type": "pyout",
       "prompt_number": 44,
       "text": [
        "Successfully Compiled"
       ]
      }
     ],
     "prompt_number": 44
    },
    {
     "cell_type": "code",
     "collapsed": false,
     "input": [
      "exe:maFact(10)."
     ],
     "language": "python",
     "metadata": {},
     "outputs": [
      {
       "html": [
        "3628800"
       ],
       "metadata": {},
       "output_type": "pyout",
       "prompt_number": 45,
       "text": [
        "3628800"
       ]
      }
     ],
     "prompt_number": 45
    },
    {
     "cell_type": "markdown",
     "metadata": {},
     "source": [
      "## R\u00e9cursivit\u00e9 terminale\n",
      "\n",
      "Avec la r\u00e9cursivit\u00e9 vient une notion particuli\u00e8re li\u00e9 au mod\u00e8le d'ex\u00e9cution (cela n'est pas sp\u00e9cifique \u00e0 Erlang, on en parle aussi pour ProLog, Javascript, C, ...) qui \u00e0 trait \u00e0 l'impl\u00e9mentation des appels r\u00e9cursifs pour optimiser les performances.\n",
      "\n",
      "En Erlang, le compilateur fait encore mieux que la r\u00e9cursivit\u00e9 terminale [et donc, la recherche d'une r\u00e9cursivit\u00e9 terminale n'est pas obligatoire, (en tout cas, dans un premier temps), mais passons ...]\n",
      "\n",
      "La r\u00e9cursivit\u00e9 terminale vient du co\u00fbt important des appels de fonctions (qu'ils soient r\u00e9cursifs ou non), c'est un co\u00fbt important en temps de calcul, (car cela n\u00e9cessite  de nombreux acc\u00e8s \u00e0 la m\u00e9moire), et en occupation m\u00e9moire. Cependant, ce co\u00fbt peut \u00eatre r\u00e9duit (voir annul\u00e9), dans le cas d'appel de fonctions *feuilles* (fonctions qui n'en appelle pas d'autres [ce n'est pas le cas des fonctions r\u00e9cursives]) ou quand l'appel dans une fonction r\u00e9cursive de la fonction r\u00e9cursive s'effectue \u00e0 la fin (stricte) du corps de la fonction. Alors dans ce cas, on peut remplacer l'appel de la fonction par une re-ex\u00e9cution de la fonction (comme une boucle, ou un goto).\n",
      "\n",
      "Exemple :"
     ]
    },
    {
     "cell_type": "code",
     "collapsed": false,
     "input": [
      "-module(exe).\n",
      "-compile(export_all).\n",
      "\n",
      "longueurClassique([]) ->\n",
      "  0;\n",
      "longueurClassique([_E|L]) ->\n",
      "  longueurClassique(L)+1."
     ],
     "language": "python",
     "metadata": {},
     "outputs": [
      {
       "html": [
        "<pre>Successfully Compiled</pre>"
       ],
       "metadata": {},
       "output_type": "pyout",
       "prompt_number": 46,
       "text": [
        "Successfully Compiled"
       ]
      }
     ],
     "prompt_number": 46
    },
    {
     "cell_type": "code",
     "collapsed": false,
     "input": [
      "exe:longueurClassique([1,2,1,2])."
     ],
     "language": "python",
     "metadata": {},
     "outputs": [
      {
       "html": [
        "4"
       ],
       "metadata": {},
       "output_type": "pyout",
       "prompt_number": 49,
       "text": [
        "4"
       ]
      }
     ],
     "prompt_number": 49
    },
    {
     "cell_type": "markdown",
     "metadata": {},
     "source": [
      "avec cette d\u00e9finition, les additions (+1) doivent attendre la fin des appels r\u00e9cursifs, cette attente n\u00e9cessite une sauvegarde des op\u00e9rations \u00e0 faire et contextes d'ex\u00e9cution.\n",
      "\n",
      "Dans la d\u00e9finition suivante (avec accumulateur), dite terminale, les appels r\u00e9cursifs sont \u00e0 la fin des corps de d\u00e9finition et ne demandent pas de sauvegarder le contexte d'ex\u00e9cution, tout les calculs (+1) de longueurAvecAccumulateur sont fait d\u00e9s l'appel (dans l'accumulateur)."
     ]
    },
    {
     "cell_type": "code",
     "collapsed": false,
     "input": [
      "-module(exe).\n",
      "-compile(export_all).\n",
      "\n",
      "longueurTerminale(L) ->\n",
      "  longueurAvecAccumulateur(L,0).\n",
      "    \n",
      "longueurAvecAccumulateur([],Acc) ->\n",
      "  Acc;\n",
      "longueurAvecAccumulateur([_E|L],Acc) ->\n",
      "  longueurAvecAccumulateur(L,Acc+1)."
     ],
     "language": "python",
     "metadata": {},
     "outputs": [
      {
       "html": [
        "<pre>Successfully Compiled</pre>"
       ],
       "metadata": {},
       "output_type": "pyout",
       "prompt_number": 51,
       "text": [
        "Successfully Compiled"
       ]
      }
     ],
     "prompt_number": 51
    },
    {
     "cell_type": "code",
     "collapsed": false,
     "input": [
      "exe:longueurTerminale([1,2,1,4,6,5])."
     ],
     "language": "python",
     "metadata": {},
     "outputs": [
      {
       "html": [
        "6"
       ],
       "metadata": {},
       "output_type": "pyout",
       "prompt_number": 54,
       "text": [
        "6"
       ]
      }
     ],
     "prompt_number": 54
    },
    {
     "cell_type": "markdown",
     "metadata": {},
     "source": [
      "On ne voit pas forc\u00e9ment la diff\u00e9rence, (et en Erlang, si le compilateur a fait de bonnes optimisations sur longueurClassique il n'y a effectivement pas de diff\u00e9rence), mais c'est plus rapide et consomme moins de m\u00e9moire. \n",
      "\n",
      "En C, il arrive que cela permette de faire tourner un programme qui, autrement, aurait \u00e9chou\u00e9 en faisant exploser la pile !"
     ]
    }
   ],
   "metadata": {}
  }
 ]
}