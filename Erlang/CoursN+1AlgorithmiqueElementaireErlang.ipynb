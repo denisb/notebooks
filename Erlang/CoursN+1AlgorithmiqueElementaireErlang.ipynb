{
 "cells": [
  {
   "cell_type": "markdown",
   "id": "2b01103b-91d5-488c-9723-7ca06a125f03",
   "metadata": {
    "editable": true,
    "execution": {
     "iopub.execute_input": "2024-01-12T08:55:53.447632Z",
     "iopub.status.busy": "2024-01-12T08:55:53.447304Z",
     "iopub.status.idle": "2024-01-12T08:55:53.452035Z",
     "shell.execute_reply": "2024-01-12T08:55:53.451385Z",
     "shell.execute_reply.started": "2024-01-12T08:55:53.447608Z"
    },
    "slideshow": {
     "slide_type": ""
    },
    "tags": []
   },
   "source": [
    "<img src=\"logoUGA.png\"></img>\n",
    "\n",
    "Séance 8 (S+1) ; Cours N+1 : Algorithmique élémentaire (en Erlang)\n"
   ]
  },
  {
   "cell_type": "markdown",
   "id": "953c5d1f-1dbb-46f9-899c-22fbea6afa85",
   "metadata": {
    "editable": true,
    "slideshow": {
     "slide_type": "skip"
    },
    "tags": []
   },
   "source": [
    "0) Introduction\n",
    "   * Histoire de Erlang (et de qlq langages de programmation),\n",
    "   * Objectifs de Erlang\n",
    "   * Réflexions sur les sources de bug (et gestion des bugs dans Erlang)\n",
    "   * Solution\n",
    "   * Utilisation de Erlang\n",
    "1) Eléments de  base Erlang séquentiel (syntaxe)\n",
    "   * Structures de données (cst, Var, fonction, liste)\n",
    "   * Structures de contrôle (séquence \",\" , raisonnement par cas \";\" , récursivité)\n",
    "   * Fonctions et gardes (when)\n",
    "2) Sémantique (opérationnelle) : Modèle d'exécution\n",
    "   * arithmétique\n",
    "   * biff dans garde\n",
    "   * unification asymétrique (pas de réversibilité) Motif = Expression (connue à l'exécution)\n",
    "   * exécution (sans backtrack, pas de non-déterminisme)\n",
    "3) Erlang vs Prolog\n",
    "   * Propriétés algorithmiques classiques (Correction, Complétude, Terminaison (+Complexité))\n",
    "   * Déclarativité ? (Réversibilité, Non-Déterminisme)\n",
    "   * Conclusion : Prolog était simple, correct, déclaratif mais pas efficace ; erlang sera ++ simple, correct (?), ++ efficace, et parallèle (...)"
   ]
  },
  {
   "cell_type": "markdown",
   "id": "87dbab5b-dff9-4df3-a374-619a8b15b4f8",
   "metadata": {
    "editable": true,
    "slideshow": {
     "slide_type": "slide"
    },
    "tags": []
   },
   "source": [
    "# Introduction\n",
    "\n",
    "## Aspects Historiques\n",
    "\n",
    "Développements, par Joe Armstrong et son équipe chez Ericson, suite à la demande d'un évolution du logiciel des standards téléphoniques\n",
    "\n",
    "* 1983, première réflexion, extension de ProLog pour la programmation concurrente dans les télécoms, évaluations de la gestion du parallélisme dans les langages de programmation\n",
    "* 1986, première définition d'Erlang, emprunte aux langages fonctionnels (ML, CAML, etc.), à ProLog, et qlq autres (Pascal, Modula, Miranda), mais pas à la vague naissante des langages OO ;  1er interpréteur en ProLog, interpréteur suivant en C\n",
    "* 1996, prototype d'une machine Erlang en FGPA\n",
    "* 1998, abandon par Ericson, accord pour une version Open Source\n",
    "\n",
    "En même temps, l'histoire des langages et des machines évolue vers l'objet et le parallélisme\n",
    "\n",
    "* ~1970, Pascal, Prolog\n",
    "* ~1980, Ada, C++\n",
    "* ~1990, Python, Delphi\n",
    "* ~2000, Processeurs grand public multicoeurs (Intel 2005, dual core)\n",
    "\n",
    "## Objectifs du langage\n",
    "\n",
    "* Produire un (**gros**, 100 000 lignes ?) logiciel de **qualité** (industrielle, 99.999% de Hte Disponibilité, MAJ à chaud) pour le **parallélisme** (10..0 opérations simultanées) dans les télécommunications (bas/haut niveau)\n",
    "\n",
    "  \n",
    "## Analyse des sources de bug\n",
    "\n",
    "* parallélisme (synchrone ?? vs asynchrone)\n",
    "* gestion des pointeurs ?? (pointeur null, arithmétique)\n",
    "* complexité des gros programmes (programmation spaghetti ??, structures imbriquées ??, trop long à lire/écrire, typage statique ?? vs dynamique)\n",
    "* effets de bords ?? (variables globales, mémoire partagée) vs principe de localité\n",
    "* objets dynamiques ?? héritage ?? POO ?? vs Design Pattern (modèle/patron de conception) \n",
    "* et Gestion des erreurs ! (capturer ?? vs laisser faire)\n",
    "\n",
    "## Solution Erlang\n",
    "\n",
    "* Pas d'objet (ni héritage, ni dynamique), mais des modèles de conception\n",
    "* Typage dynamique (et écriture fonctionnelle) pour améliorer la productivité (et la qualité) du code (fonctionnel à titre secondaire, car d'usage naturel)\n",
    "* Programmation déclarative (raisonnement par cas, unification (expressive), récursivité), pas de mémoire partagée\n",
    "* Langage orienté concurrence (à la base du langage) à base de processus légers asynchrones communicant par envoie de message\n",
    "* Gestion des erreurs à part\n",
    "\n",
    "## Utilisation de Erlang\n",
    "\n",
    "* Whatsapp\n",
    "* github (erlang+python)\n",
    "* gaming (chat : league of legends, call of duty)\n",
    "* bd (couchDB, Amazon simpleDB)"
   ]
  },
  {
   "cell_type": "markdown",
   "id": "177e330c-2c8a-4027-940a-dd15af68f070",
   "metadata": {
    "editable": true,
    "slideshow": {
     "slide_type": ""
    },
    "tags": []
   },
   "source": [
    "# Eléments de  base Erlang séquentiel (syntaxe)\n",
    "\n",
    "\n",
    "Rappels (pour quelques détails de plus, voir le mini-cours Erlang en 5 épisodes, sur youtube, [chaine (EDenisBA)](https://www.youtube.com/user/EDenisBA) ou [github](https://github.com/denisb/notebooks/tree/master/Erlang) en particulier les trois premiers cours sur la syntaxe, le modèle d'exécution et l'algorithmique classique) \n",
    "\n",
    "## Structures de données\n",
    "\n",
    "* Variables (ex. V, _MaVariable, ZXY), constantes (10, \"Bonjour\", faux),\n",
    "* Unification unique (pas de N=N+1 !)\n",
    "* Listes (vide \\[ ], en extension \\[1,2,3], par premier élément et fin de liste, \\[E | L ])\n",
    "* Nouveauté (par rapport à ProLog), il y a aussi des fonctions (elles remplacent les prédicats), non seulement pour définir du code (voir la suite), mais aussi comme structure de données : une variable peut référencer une liste (V = fun () .. end), un entier ou une fonction (voir le cours sur la programmation fonctionnelle pour en savoir plus)\n",
    "\n",
    "## Structures de contrôle\n",
    "\n",
    "* unification (matching) : attention, l'unification est asymétrique, la partie *droite* doit être connue, ou doit pouvoir être évaluée et donner un résultat connu, i.e. : elle ne doit pas contenir de variable après évaluation (la partie droite de X=Expr, ou les paramètres lors d'appels de fonction f(Exp) lorsqu'ils doivent s'unifier avec une définition de fonction f(X) -> ...).  \n",
    "Par suite, il n'y aura **pas de réversibilité en Erlang** (sauf à l'introduire et à le gérer explicitement/\"à la main\"/par programme).\n",
    "* raisonnement par cas (permet de simuler les conditionnelles de l'algorithmique classique)\n",
    "  * séparés par des point virgules \";\" (au lieu du point Prolog) mais le dernier cas terminé par un point \".\" (comme en Prolog)\n",
    "  * avec des conditions d'application (des **gardes**) introduites par le mot clé \"when\" (entre la tête de la fonction et la flèche)\n",
    "  * parmi les expressions autorisées dans les gardes, certaines BIF (builtin function) et des expressions : voir [doc erlang](https://www.erlang.org/doc/reference_manual/expressions#guard-expressions) (qlq ex. : is_integer(X), abs(X), hd(L), tl(L))\n",
    "  * exemple :  ```maximum(A,B) when A>B -> A; ...```\n",
    "* récursivité (permet de simuler les boucles de l'algorithmique classique ; dans les détails, on peut ajouter la récursivité terminale, la notion d'accumulateur, mais attention à ne pas vouloir à tout pris revenir à l'algorithmique classique, on risque d'y perdre le sens des programmations déclaratives)\n",
    "* décomposition de problèmes en sous-problèmes (s'ils sont isomorphes au problème initial, cela correspond à une récursivité ; sinon, cela nécessite d'introduire des fonctions supplémentaires/annexes (pour résoudre ces sous-problèmes, que l'on espère/souhaite plus petits et plus faciles à résoudre)\n",
    "\n",
    "Exemples en fin de document\n",
    "\n",
    "## Programmes = Fonctions\n",
    "\n",
    "En Erlang, les programmes sont des fonctions.\n",
    "\n",
    "En prolog, c'était des prédicats, ils étaient vrais et s'exécutait avec succès (ou échouaient), mais ne donnaient pas vraiment de résultat (leur exécution avec succès était une forme de résultat positif, leur exécution avec échec, une forme de résultat négatif, mais globalement, ce n'était pas un résultat au sens des fonctions)\n",
    "\n",
    "En Erlang, les fonctions s'exécutent (sans erreur, si possible), et donnent un résultat (résultat de la fonction)."
   ]
  },
  {
   "cell_type": "markdown",
   "id": "e3c3bfd0-1615-4182-9273-97cbe02020da",
   "metadata": {},
   "source": [
    "# Sémantique (opérationnelle) : Modèle d'exécution\n",
    "\n",
    "* Evaluation des paramètres des expressions et fonctions en 1er\n",
    "* Evaluation du corps des fonctions ensuite\n",
    "* Pas de Backtrack (pas de point de choix) : le premier cas qui s'unifie avec l'appel demandé, dans l'ordre d'écriture dans le fichier, est utilisé, c'est le seul cas qui sera utilisé.  \n",
    "Par suite, il n'y aura **pas de non-déterminisme en Erlang** (sauf à l'introduire et à le gérer explicitement/\"à la main\"/par programme) "
   ]
  },
  {
   "cell_type": "markdown",
   "id": "ac8787a7-27ce-4e3d-b83d-0ae32e494d6f",
   "metadata": {},
   "source": [
    "# Erlang vs Prolog\n",
    "\n",
    "## Propriétés algorithmiques classiques\n",
    "\n",
    "* Correction : preuve plus compliquée car le choix d'un cas à appliquer dépend des contraintes sur les cas précédents non applicable, les pré-conditions dépendent donc d'une analyse du programme complet (ce n'est plus une preuve locale !)\n",
    "* Complétude : plus facile à obtenir  (trop facile), il suffit d'un cas final sans condition. Autre façon de le dire : avec un cas final non contraint, la complétude est acquise (trop facilement, attention à la correction pour des cas où le programme ne devraient pas fournir de solution à tout prix)\n",
    "* Terminaison : idem ProLog (même technique, même difficulté)\n",
    "  \n",
    "## Déclarativité ? \n",
    "\n",
    "* Réversibilité : Erlang ne prévoit pas cela à la base, si c'est nécessaire, c'est à ajouter \"à la main\"/par programme\n",
    "* Non-Déterminisme : Erlang ne prévoit pas cela à la base, si c'est nécessaire, c'est à ajouter \"à la main\"/par programme\n",
    "  \n",
    "## Conclusion \n",
    "\n",
    "Prolog était simple, correct, déclaratif mais pas efficace ;   \n",
    "Erlang sera simple++, correct (?), efficace++, et parallèle (...)\n",
    "\n",
    "Plus de détails dans la suite du cours."
   ]
  },
  {
   "cell_type": "markdown",
   "id": "290f635e-9844-4786-8b61-33e0fce5ecd6",
   "metadata": {
    "editable": true,
    "slideshow": {
     "slide_type": ""
    },
    "tags": []
   },
   "source": [
    "# Exemples\n",
    "\n",
    "Pour rappel, en ProLog, la concaténation est donnée par (par exemple) :\n",
    "```Prolog\n",
    "/* concatene(D,F,L) est vrai ssi la concaténation des listes D et F corespond à la liste L. */\n",
    "concatene([],F,F).\n",
    "concatene([E|L],F,[E|R]):-concatene(L,F,R).\n",
    "```\n",
    "\n",
    "En Erlang (avec la longueur et le maximum de deux nombres en prime) :"
   ]
  },
  {
   "cell_type": "code",
   "execution_count": 20,
   "id": "17dcacfb-6e16-44b2-8924-d70786547eab",
   "metadata": {
    "editable": true,
    "execution": {
     "iopub.execute_input": "2024-03-14T08:02:58.028605Z",
     "iopub.status.busy": "2024-03-14T08:02:58.028117Z",
     "iopub.status.idle": "2024-03-14T08:02:58.047247Z",
     "shell.execute_reply": "2024-03-14T08:02:58.046542Z",
     "shell.execute_reply.started": "2024-03-14T08:02:58.028586Z"
    },
    "slideshow": {
     "slide_type": ""
    },
    "tags": []
   },
   "outputs": [
    {
     "name": "stdout",
     "output_type": "stream",
     "text": [
      "Overwriting prog.erl\n"
     ]
    }
   ],
   "source": [
    "%%writefile prog.erl\n",
    "-module(prog).\n",
    "-compile([export_all,nowarn_export_all]).\n",
    "\n",
    "%% maximum(A,B:entiers) -> M:entier, où M est le plus grand entre A et B\n",
    "maximum(A,B) when A>B -> A;\n",
    "maximum(_A,B) -> B.\n",
    "        \n",
    "%% longueur(L:liste) -> N:entier, où N est la longueur de L\n",
    "longueur([])->0;\n",
    "longueur([_E|L])->1+longueur(L).\n",
    "\n",
    "%% concatener(A,B:listes) -> R:liste, où R est le résultat de la concatenation de A et de B.\n",
    "concatener([],B)->B;\n",
    "concatener([E|L],B)->[E|concatener(L,B)].\n",
    "\n",
    "main([]) -> \n",
    "  io:format('~nResultat : ~p ~n',[maximum(3,1)]),\n",
    "  io:format('~nResultat : ~p ~n',[longueur([1,2,3,4,5])]),\n",
    "  io:format('~nResultat : ~p ~n',[concatener([1,2],[3,4,5])])."
   ]
  },
  {
   "cell_type": "code",
   "execution_count": 19,
   "id": "6eed9b2e-b90d-4d46-88ba-0cc3f3734e51",
   "metadata": {
    "editable": true,
    "execution": {
     "iopub.execute_input": "2024-03-14T08:02:54.196846Z",
     "iopub.status.busy": "2024-03-14T08:02:54.196545Z",
     "iopub.status.idle": "2024-03-14T08:02:54.450548Z",
     "shell.execute_reply": "2024-03-14T08:02:54.449914Z",
     "shell.execute_reply.started": "2024-03-14T08:02:54.196825Z"
    },
    "slideshow": {
     "slide_type": ""
    },
    "tags": []
   },
   "outputs": [
    {
     "name": "stdout",
     "output_type": "stream",
     "text": [
      "\n",
      "Resultat : 10 \n",
      "\n",
      "Resultat : 5 \n",
      "\n",
      "Resultat : [1,2,3,4,5] \n"
     ]
    }
   ],
   "source": [
    "!escript prog.erl"
   ]
  }
 ],
 "metadata": {
  "jpcodetoc-autonumbering": false,
  "jpcodetoc-showcode": false,
  "jpcodetoc-showmarkdowntxt": false,
  "jpcodetoc-showtags": true,
  "kernelspec": {
   "display_name": "Python 3 (ipykernel)",
   "language": "python",
   "name": "python3"
  },
  "language_info": {
   "codemirror_mode": {
    "name": "ipython",
    "version": 3
   },
   "file_extension": ".py",
   "mimetype": "text/x-python",
   "name": "python",
   "nbconvert_exporter": "python",
   "pygments_lexer": "ipython3",
   "version": "3.10.12"
  },
  "rise": {
   "scroll": true
  },
  "title": "Cours N+1 : Algorithmique élémentaire (en Erlang)"
 },
 "nbformat": 4,
 "nbformat_minor": 5
}
