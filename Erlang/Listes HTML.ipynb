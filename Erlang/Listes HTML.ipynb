{
 "metadata": {
  "name": "",
  "signature": "sha256:18b2c15b436f4188b0d1b9cf1f444d7d6f8a48e326e209b021b8ada26ae8ea1e"
 },
 "nbformat": 3,
 "nbformat_minor": 0,
 "worksheets": [
  {
   "cells": [
    {
     "cell_type": "markdown",
     "metadata": {},
     "source": [
      "# Lecture des listes HTML\n",
      "\n",
      "Pour simplifier, on utilisera la grammaire suivante pour repr\u00e9senter les listes HTML :\n",
      "\n",
      "* S -->> ul LI lu\n",
      "* LI -->> li E il LI\n",
      "* LI -->> (rien)\n",
      "* E -->> blabla\n",
      "* E -->> S\n",
      "\n",
      "# Lecture simple\n",
      "\n",
      "Traduisons directement la grammaire en programme :"
     ]
    },
    {
     "cell_type": "code",
     "collapsed": false,
     "input": [
      "-module(gra).\n",
      "-compile(export_all).\n",
      "\n",
      "lire(T) ->\n",
      "  [] == lireS(T).\n",
      "\n",
      "lireS([ul|T]) ->\n",
      "  R=lireLI(T),\n",
      "  lirelu(R).\n",
      "\n",
      "lireLI([li|T]) ->\n",
      "  R=lireE(T),\n",
      "  S=lireil(R),\n",
      "  lireLI(S);\n",
      "lireLI(T) ->\n",
      "  T.\n",
      "\n",
      "lireE([blabla|T]) ->\n",
      "  T;\n",
      "lireE(T) ->\n",
      "  lireS(T).\n",
      "\n",
      "lirelu([lu|T])->\n",
      "  T.\n",
      "lireil([il|T]) ->\n",
      "  T."
     ],
     "language": "python",
     "metadata": {},
     "outputs": [
      {
       "html": [
        "<pre>Successfully Compiled</pre>"
       ],
       "metadata": {},
       "output_type": "pyout",
       "prompt_number": 12,
       "text": [
        "Successfully Compiled"
       ]
      }
     ],
     "prompt_number": 12
    },
    {
     "cell_type": "markdown",
     "metadata": {},
     "source": [
      "Variante, en rempla\u00e7ant les Y=A(X),B(Y) par B(A(X)) (la s\u00e9quence en fonctionnelle est une composition (BoA), en logique, c'est un \"et\" ou \"et puis\")\n",
      "\n",
      "Je ne sais pas si c'est plus lisible ..."
     ]
    },
    {
     "cell_type": "code",
     "collapsed": false,
     "input": [
      "-module(gra).\n",
      "-compile(export_all).\n",
      "\n",
      "lire(T) ->\n",
      "  [] == lireS(T).\n",
      "\n",
      "lireS([ul|T]) ->\n",
      "  lirelu(lireLI(T)).\n",
      "\n",
      "lireLI([li|T]) ->\n",
      "  lireLI(lireil(lireE(T)));\n",
      "lireLI(T) ->\n",
      "  T.\n",
      "\n",
      "lireE([blabla|T]) ->\n",
      "  T;\n",
      "lireE(T) ->\n",
      "  lireS(T).\n",
      "\n",
      "lirelu([lu|T])->\n",
      "  T.\n",
      "lireil([il|T]) ->\n",
      "  T."
     ],
     "language": "python",
     "metadata": {},
     "outputs": []
    },
    {
     "cell_type": "code",
     "collapsed": false,
     "input": [
      "gra:lire([ul,li,blabla,il,lu])."
     ],
     "language": "python",
     "metadata": {},
     "outputs": [
      {
       "html": [
        "<pre>true</pre>"
       ],
       "metadata": {},
       "output_type": "pyout",
       "prompt_number": 6,
       "text": [
        "true"
       ]
      }
     ],
     "prompt_number": 6
    },
    {
     "cell_type": "code",
     "collapsed": false,
     "input": [
      "gra:lire([ul,li,blabla,il,li,blabla,il,lu])."
     ],
     "language": "python",
     "metadata": {},
     "outputs": [
      {
       "html": [
        "<pre>true</pre>"
       ],
       "metadata": {},
       "output_type": "pyout",
       "prompt_number": 13,
       "text": [
        "true"
       ]
      }
     ],
     "prompt_number": 13
    },
    {
     "cell_type": "code",
     "collapsed": false,
     "input": [
      "gra:lire([ul,li,blabla,il,li,blabla,il,li,ul,li,blabla,il,li,blabla,il,lu,il,lu])."
     ],
     "language": "python",
     "metadata": {},
     "outputs": [
      {
       "html": [
        "<pre>true</pre>"
       ],
       "metadata": {},
       "output_type": "pyout",
       "prompt_number": 16,
       "text": [
        "true"
       ]
      }
     ],
     "prompt_number": 16
    },
    {
     "cell_type": "code",
     "collapsed": false,
     "input": [
      "gra:lire([ul,li,blabla,il])."
     ],
     "language": "python",
     "metadata": {},
     "outputs": [
      {
       "html": [
        "<pre>function_clause</pre>"
       ],
       "metadata": {},
       "output_type": "pyout",
       "prompt_number": 14,
       "text": [
        "function_clause"
       ]
      }
     ]
    },
    {
     "cell_type": "code",
     "collapsed": false,
     "input": [
      "gra:lire([ul,li,blabla,il,lu,blabla])."
     ],
     "language": "python",
     "metadata": {},
     "outputs": [
      {
       "html": [
        "<pre>false</pre>"
       ],
       "metadata": {},
       "output_type": "pyout",
       "prompt_number": 15,
       "text": [
        "false"
       ]
      }
     ],
     "prompt_number": 15
    },
    {
     "cell_type": "markdown",
     "metadata": {},
     "source": [
      "## Lecture et production de la liste des blabla (imbriqu\u00e9s)\n",
      "\n",
      "En suivant le m\u00eame sch\u00e9ma d'analyse, on va en plus fournir les blabla :"
     ]
    },
    {
     "cell_type": "code",
     "collapsed": false,
     "input": [
      "-module(gra).\n",
      "-compile(export_all).\n",
      "\n",
      "analyse(T) ->\n",
      "  analyseS(T).\n",
      "\n",
      "analyseS([ul|T]) ->\n",
      "  [R,B]=analyseLI(T),\n",
      "  [lirelu(R),B].\n",
      "\n",
      "analyseLI([li|T]) ->\n",
      "  [R,B]=analyseE(T),\n",
      "  S=lireil(R),\n",
      "  [U,C]=analyseLI(S),\n",
      "  [U,[B|C]];\n",
      "analyseLI(T) ->\n",
      "  [T,[]].\n",
      "\n",
      "analyseE([blabla|T]) ->\n",
      "  [T,blabla];\n",
      "analyseE(T) ->\n",
      "  analyseS(T).\n",
      "\n",
      "lirelu([lu|T])->\n",
      "  T.\n",
      "lireil([il|T]) ->\n",
      "  T."
     ],
     "language": "python",
     "metadata": {},
     "outputs": [
      {
       "html": [
        "<pre>Successfully Compiled</pre>"
       ],
       "metadata": {},
       "output_type": "pyout",
       "prompt_number": 26,
       "text": [
        "Successfully Compiled"
       ]
      }
     ],
     "prompt_number": 26
    },
    {
     "cell_type": "code",
     "collapsed": false,
     "input": [
      "gra:analyse([ul,li,blabla,il,lu])."
     ],
     "language": "python",
     "metadata": {},
     "outputs": [
      {
       "html": [
        "[[], ['blabla']]"
       ],
       "metadata": {},
       "output_type": "pyout",
       "prompt_number": 24,
       "text": [
        "[[], ['blabla']]"
       ]
      }
     ],
     "prompt_number": 24
    },
    {
     "cell_type": "code",
     "collapsed": false,
     "input": [
      "gra:analyse([ul,li,blabla,il,li,blabla,il,lu])."
     ],
     "language": "python",
     "metadata": {},
     "outputs": [
      {
       "html": [
        "[[], ['blabla', 'blabla']]"
       ],
       "metadata": {},
       "output_type": "pyout",
       "prompt_number": 27,
       "text": [
        "[[], ['blabla', 'blabla']]"
       ]
      }
     ],
     "prompt_number": 27
    },
    {
     "cell_type": "code",
     "collapsed": false,
     "input": [
      "gra:analyse([ul,li,blabla,il,li,blabla,il,li,ul,li,blabla,il,li,blabla,il,lu,il,lu])."
     ],
     "language": "python",
     "metadata": {},
     "outputs": [
      {
       "html": [
        "[[], ['blabla', 'blabla', ['blabla', 'blabla']]]"
       ],
       "metadata": {},
       "output_type": "pyout",
       "prompt_number": 29,
       "text": [
        "[[], ['blabla', 'blabla', ['blabla', 'blabla']]]"
       ]
      }
     ],
     "prompt_number": 29
    }
   ],
   "metadata": {}
  }
 ]
}