{
 "metadata": {
  "name": "",
  "signature": "sha256:884f8faedd787ab5ca66f34bb80bfb9eaabc2017bbdb8aa45136418db1674694"
 },
 "nbformat": 3,
 "nbformat_minor": 0,
 "worksheets": [
  {
   "cells": [
    {
     "cell_type": "markdown",
     "metadata": {},
     "source": [
      "# Map Reduce en Erlang\n",
      "\n",
      "\u00c0 faire : le calcul de la somme des carr\u00e9s d'une liste d'entiers donn\u00e9e.\n",
      "\n",
      "Exemple : [1,2,3] => 1 + 4 + 9 => 14\n",
      "\n",
      "#### Variantes (lentes)\n",
      "pour faire la somme et les carr\u00e9s, on peut ralentir le calcul (simulation d'un calcul en temps n ou n^2 ou n^3)"
     ]
    },
    {
     "cell_type": "code",
     "collapsed": false,
     "input": [
      "-module(lent).\n",
      "-compile(export_all).\n",
      "\n",
      "plusLent(0,0) -> 0;\n",
      "plusLent(0,M) when M>0 -> 1+plusLent(0,M-1);\n",
      "plusLent(N,M) when N>0 -> 1+plusLent(N-1,M).\n",
      "\n",
      "foisLent(0,_M) -> 0;\n",
      "foisLent(N,M) when N>0 -> plusLent(M,foisLent(N-1,M)).\n",
      "\n",
      "carreLent(N) -> foisLent(N,N)."
     ],
     "language": "python",
     "metadata": {},
     "outputs": [
      {
       "html": [
        "<pre>Successfully Compiled</pre>"
       ],
       "metadata": {},
       "output_type": "pyout",
       "prompt_number": 1,
       "text": [
        "Successfully Compiled"
       ]
      }
     ],
     "prompt_number": 1
    },
    {
     "cell_type": "code",
     "collapsed": false,
     "input": [
      "lent:plusLent(34,56)."
     ],
     "language": "python",
     "metadata": {},
     "outputs": [
      {
       "html": [
        "90"
       ],
       "metadata": {},
       "output_type": "pyout",
       "prompt_number": 2,
       "text": [
        "90"
       ]
      }
     ],
     "prompt_number": 2
    },
    {
     "cell_type": "code",
     "collapsed": false,
     "input": [
      "lent:carreLent(9)."
     ],
     "language": "python",
     "metadata": {},
     "outputs": [
      {
       "html": [
        "81"
       ],
       "metadata": {},
       "output_type": "pyout",
       "prompt_number": 2,
       "text": [
        "81"
       ]
      }
     ],
     "prompt_number": 2
    },
    {
     "cell_type": "markdown",
     "metadata": {},
     "source": [
      "## Version classique (sans parall\u00e9lisme)"
     ]
    },
    {
     "cell_type": "code",
     "collapsed": false,
     "input": [
      "-module(mr).\n",
      "-compile(export_all).\n",
      "\n",
      "sommeCarre(L)-> reduceSomme(mapCarre(L)).\n",
      "    \n",
      "mapCarre([])-> [];\n",
      "mapCarre([E|L])-> [carre(E)|mapCarre(L)].\n",
      "\n",
      "carre(N)-> N*N.\n",
      "\n",
      "reduceSomme([])-> 0;\n",
      "reduceSomme([E|L])->E+reduceSomme(L)."
     ],
     "language": "python",
     "metadata": {},
     "outputs": [
      {
       "html": [
        "<pre>Successfully Compiled</pre>"
       ],
       "metadata": {},
       "output_type": "pyout",
       "prompt_number": 12,
       "text": [
        "Successfully Compiled"
       ]
      }
     ],
     "prompt_number": 12
    },
    {
     "cell_type": "code",
     "collapsed": false,
     "input": [
      "mr:sommeCarre([1,2,3,4])."
     ],
     "language": "python",
     "metadata": {},
     "outputs": [
      {
       "html": [
        "30"
       ],
       "metadata": {},
       "output_type": "pyout",
       "prompt_number": 70,
       "text": [
        "30"
       ]
      }
     ],
     "prompt_number": 70
    },
    {
     "cell_type": "code",
     "collapsed": false,
     "input": [
      "mr:sommeCarre(lists:seq(1,1000000))."
     ],
     "language": "python",
     "metadata": {},
     "outputs": [
      {
       "html": [
        "333333833333500000"
       ],
       "metadata": {},
       "output_type": "pyout",
       "prompt_number": 14,
       "text": [
        "333333833333500000"
       ]
      }
     ],
     "prompt_number": 14
    },
    {
     "cell_type": "markdown",
     "metadata": {},
     "source": [
      "#### Variante (lente)"
     ]
    },
    {
     "cell_type": "code",
     "collapsed": false,
     "input": [
      "-module(mrlent).\n",
      "-compile(export_all).\n",
      "\n",
      "sommeCarre(L)-> reduceSomme(mapCarre(L)).\n",
      "    \n",
      "mapCarre([])-> [];\n",
      "mapCarre([E|L])-> [lent:carreLent(E)|mapCarre(L)].\n",
      "\n",
      "reduceSomme([])-> 0;\n",
      "reduceSomme([E|L])->lent:plusLent(E,reduceSomme(L))."
     ],
     "language": "python",
     "metadata": {},
     "outputs": [
      {
       "html": [
        "<pre>Successfully Compiled</pre>"
       ],
       "metadata": {},
       "output_type": "pyout",
       "prompt_number": 6,
       "text": [
        "Successfully Compiled"
       ]
      }
     ],
     "prompt_number": 6
    },
    {
     "cell_type": "code",
     "collapsed": false,
     "input": [
      "mrlent:sommeCarre([1,2,3,4])."
     ],
     "language": "python",
     "metadata": {},
     "outputs": [
      {
       "html": [
        "30"
       ],
       "metadata": {},
       "output_type": "pyout",
       "prompt_number": 2,
       "text": [
        "30"
       ]
      }
     ],
     "prompt_number": 2
    },
    {
     "cell_type": "code",
     "collapsed": false,
     "input": [
      "mrlent:sommeCarre(lists:seq(1,200))."
     ],
     "language": "python",
     "metadata": {},
     "outputs": [
      {
       "html": [
        "2686700"
       ],
       "metadata": {},
       "output_type": "pyout",
       "prompt_number": 7,
       "text": [
        "2686700"
       ]
      }
     ],
     "prompt_number": 7
    },
    {
     "cell_type": "markdown",
     "metadata": {},
     "source": [
      "#### Variante (carr\u00e9 lent)"
     ]
    },
    {
     "cell_type": "code",
     "collapsed": false,
     "input": [
      "-module(mrcarrelent).\n",
      "-compile(export_all).\n",
      "\n",
      "sommeCarre(L)-> reduceSomme(mapCarre(L)).\n",
      "    \n",
      "mapCarre([])-> [];\n",
      "mapCarre([E|L])-> [lent:carreLent(E)|mapCarre(L)].\n",
      "\n",
      "reduceSomme([])-> 0;\n",
      "reduceSomme([E|L])->E+reduceSomme(L)."
     ],
     "language": "python",
     "metadata": {},
     "outputs": [
      {
       "html": [
        "<pre>Successfully Compiled</pre>"
       ],
       "metadata": {},
       "output_type": "pyout",
       "prompt_number": 18,
       "text": [
        "Successfully Compiled"
       ]
      }
     ],
     "prompt_number": 18
    },
    {
     "cell_type": "code",
     "collapsed": false,
     "input": [
      "mrcarrelent:sommeCarre([1,2,3,4])."
     ],
     "language": "python",
     "metadata": {},
     "outputs": [
      {
       "html": [
        "30"
       ],
       "metadata": {},
       "output_type": "pyout",
       "prompt_number": 2,
       "text": [
        "30"
       ]
      }
     ],
     "prompt_number": 2
    },
    {
     "cell_type": "code",
     "collapsed": false,
     "input": [
      "mrcarrelent:sommeCarre(lists:seq(1,200))."
     ],
     "language": "python",
     "metadata": {},
     "outputs": [
      {
       "html": [
        "2686700"
       ],
       "metadata": {},
       "output_type": "pyout",
       "prompt_number": 21,
       "text": [
        "2686700"
       ]
      }
     ],
     "prompt_number": 21
    },
    {
     "cell_type": "markdown",
     "metadata": {},
     "source": [
      "pour 1..300, cela prends 15s, le processeur est \u00e0 22%"
     ]
    },
    {
     "cell_type": "markdown",
     "metadata": {},
     "source": [
      "## Version standard (parall\u00e8le)\n",
      "\n",
      "(pour le probl\u00e8me sp\u00e9cifique de la somme de carr\u00e9s)"
     ]
    },
    {
     "cell_type": "code",
     "collapsed": false,
     "input": [
      "-module(mr).\n",
      "-compile(export_all).\n",
      "\n",
      "sommeCarre(L)->\n",
      "    M = self(),\n",
      "    RedC = spawn(mr,reduceSomme, [L,M]),\n",
      "    mapCarre(L,RedC),\n",
      "    receive S -> S end.\n",
      "    \n",
      "mapCarre([],_R)->done;\n",
      "mapCarre([E|L],R)->\n",
      "    spawn(mr,carre,[E,R]),\n",
      "    mapCarre(L,R).\n",
      "\n",
      "carre(N,R)->\n",
      "    R ! N*N.\n",
      "\n",
      "reduceSomme(L,M)->\n",
      "  M!reduceSomme(L).\n",
      "    \n",
      "reduceSomme([])-> 0;\n",
      "reduceSomme([_E|L])->\n",
      "    receive C -> C+reduceSomme(L) end."
     ],
     "language": "python",
     "metadata": {},
     "outputs": [
      {
       "html": [
        "<pre>Successfully Compiled</pre>"
       ],
       "metadata": {},
       "output_type": "pyout",
       "prompt_number": 9,
       "text": [
        "Successfully Compiled"
       ]
      }
     ],
     "prompt_number": 9
    },
    {
     "cell_type": "code",
     "collapsed": false,
     "input": [
      "mr:sommeCarre([1,2,3,4])."
     ],
     "language": "python",
     "metadata": {},
     "outputs": [
      {
       "html": [
        "30"
       ],
       "metadata": {},
       "output_type": "pyout",
       "prompt_number": 62,
       "text": [
        "30"
       ]
      }
     ],
     "prompt_number": 62
    },
    {
     "cell_type": "code",
     "collapsed": false,
     "input": [
      "mr:sommeCarre(lists:seq(1,1000000))."
     ],
     "language": "python",
     "metadata": {},
     "outputs": [
      {
       "html": [
        "333333833333500000"
       ],
       "metadata": {},
       "output_type": "pyout",
       "prompt_number": 11,
       "text": [
        "333333833333500000"
       ]
      }
     ],
     "prompt_number": 11
    },
    {
     "cell_type": "markdown",
     "metadata": {},
     "source": [
      "#### Variante (lente)"
     ]
    },
    {
     "cell_type": "code",
     "collapsed": false,
     "input": [
      "-module(mrlent).\n",
      "-compile(export_all).\n",
      "\n",
      "sommeCarre(L)->\n",
      "    M = self(),\n",
      "    RedC = spawn(mrlent,reduceSomme, [L,M]),\n",
      "    mapCarre(L,RedC),\n",
      "    receive S -> S end.\n",
      "    \n",
      "mapCarre([],_R)->done;\n",
      "mapCarre([E|L],R)->\n",
      "    spawn(mrlent,carre,[E,R]),\n",
      "    mapCarre(L,R).\n",
      "\n",
      "carre(N,R)->\n",
      "    R ! lent:carreLent(N).\n",
      "\n",
      "reduceSomme(L,M)->\n",
      "  M!reduceSomme(L).\n",
      "    \n",
      "reduceSomme([])-> 0;\n",
      "reduceSomme([_E|L])->\n",
      "    receive C -> lent:plusLent(C,reduceSomme(L)) end."
     ],
     "language": "python",
     "metadata": {},
     "outputs": [
      {
       "html": [
        "<pre>Successfully Compiled</pre>"
       ],
       "metadata": {},
       "output_type": "pyout",
       "prompt_number": 4,
       "text": [
        "Successfully Compiled"
       ]
      }
     ],
     "prompt_number": 4
    },
    {
     "cell_type": "code",
     "collapsed": false,
     "input": [
      "mrlent:sommeCarre([1,2,3,4])."
     ],
     "language": "python",
     "metadata": {},
     "outputs": [
      {
       "html": [
        "30"
       ],
       "metadata": {},
       "output_type": "pyout",
       "prompt_number": 2,
       "text": [
        "30"
       ]
      }
     ],
     "prompt_number": 2
    },
    {
     "cell_type": "code",
     "collapsed": false,
     "input": [
      "mrlent:sommeCarre(lists:seq(1,200))."
     ],
     "language": "python",
     "metadata": {},
     "outputs": [
      {
       "html": [
        "9045050"
       ],
       "metadata": {},
       "output_type": "pyout",
       "prompt_number": 5,
       "text": [
        "9045050"
       ]
      }
     ],
     "prompt_number": 5
    },
    {
     "cell_type": "markdown",
     "metadata": {},
     "source": [
      "#### Variante (carr\u00e9 lent)"
     ]
    },
    {
     "cell_type": "code",
     "collapsed": false,
     "input": [
      "-module(mrcarrelent).\n",
      "-compile(export_all).\n",
      "\n",
      "sommeCarre(L)->\n",
      "    M = self(),\n",
      "    RedC = spawn(mrcarrelent,reduceSomme, [L,M]),\n",
      "    mapCarre(L,RedC),\n",
      "    receive S -> S end.\n",
      "    \n",
      "mapCarre([],_R)->done;\n",
      "mapCarre([E|L],R)->\n",
      "    spawn(mrcarrelent,carre,[E,R]),\n",
      "    mapCarre(L,R).\n",
      "\n",
      "carre(N,R)->\n",
      "    R ! lent:carreLent(N).\n",
      "\n",
      "reduceSomme(L,M)->\n",
      "  M!reduceSomme(L).\n",
      "    \n",
      "reduceSomme([])-> 0;\n",
      "reduceSomme([_E|L])->\n",
      "    receive C -> C+reduceSomme(L) end."
     ],
     "language": "python",
     "metadata": {},
     "outputs": [
      {
       "html": [
        "<pre>Successfully Compiled</pre>"
       ],
       "metadata": {},
       "output_type": "pyout",
       "prompt_number": 23,
       "text": [
        "Successfully Compiled"
       ]
      }
     ],
     "prompt_number": 23
    },
    {
     "cell_type": "code",
     "collapsed": false,
     "input": [
      "mrcarrelent:sommeCarre([1,2,3,4])."
     ],
     "language": "python",
     "metadata": {},
     "outputs": [
      {
       "html": [
        "30"
       ],
       "metadata": {},
       "output_type": "pyout",
       "prompt_number": 9,
       "text": [
        "30"
       ]
      }
     ],
     "prompt_number": 9
    },
    {
     "cell_type": "code",
     "collapsed": false,
     "input": [
      "mrcarrelent:sommeCarre(lists:seq(1,200))."
     ],
     "language": "python",
     "metadata": {},
     "outputs": [
      {
       "html": [
        "2686700"
       ],
       "metadata": {},
       "output_type": "pyout",
       "prompt_number": 26,
       "text": [
        "2686700"
       ]
      }
     ],
     "prompt_number": 26
    },
    {
     "cell_type": "markdown",
     "metadata": {},
     "source": [
      "pour 1..300 cela prends 3 s, le processeur est \u00e0 100%"
     ]
    },
    {
     "cell_type": "markdown",
     "metadata": {},
     "source": [
      "## Version g\u00e9n\u00e9rique"
     ]
    },
    {
     "cell_type": "code",
     "collapsed": false,
     "input": [
      "-module(mr).\n",
      "-compile(export_all).\n",
      "\n",
      "sommeCarre(L)->\n",
      "    PourMapCarre = fun (X) -> X*X end,\n",
      "    PourReduceSomme = fun (E,S) -> E+S end,\n",
      "    RedC=spawn(mr,mon_reduce,[L,PourReduceSomme,self()]),\n",
      "    mon_map(L,PourMapCarre,RedC),\n",
      "    receive S -> S end.\n",
      "    \n",
      "mon_reduce(L,F,M) ->\n",
      "  M!mon_reduce_(L,F).\n",
      "    \n",
      "mon_reduce_([],_F)-> 0;\n",
      "mon_reduce_([_E|L],F)->\n",
      "    receive C -> F(mon_reduce_(L,F),C) end.\n",
      "\n",
      "mon_faire(R,F,E)->\n",
      "  R!F(E).\n",
      "    \n",
      "mon_map([],_F,_R)-> done;\n",
      "mon_map([E|L],F,R)->\n",
      "    spawn(mr,mon_faire,[R,F,E]),\n",
      "    mon_map(L,F,R)."
     ],
     "language": "python",
     "metadata": {},
     "outputs": [
      {
       "html": [
        "<pre>Successfully Compiled</pre>"
       ],
       "metadata": {},
       "output_type": "pyout",
       "prompt_number": 1,
       "text": [
        "Successfully Compiled"
       ]
      }
     ],
     "prompt_number": 1
    },
    {
     "cell_type": "code",
     "collapsed": false,
     "input": [
      "mr:sommeCarre([1,2,3,4])."
     ],
     "language": "python",
     "metadata": {},
     "outputs": [
      {
       "html": [
        "30"
       ],
       "metadata": {},
       "output_type": "pyout",
       "prompt_number": 64,
       "text": [
        "30"
       ]
      }
     ],
     "prompt_number": 64
    },
    {
     "cell_type": "code",
     "collapsed": false,
     "input": [
      "mr:sommeCarre(lists:seq(1,10000000))."
     ],
     "language": "python",
     "metadata": {},
     "outputs": [
      {
       "html": [
        "333333383333335000000"
       ],
       "metadata": {},
       "output_type": "pyout",
       "prompt_number": 10,
       "text": [
        "333333383333335000000"
       ]
      }
     ],
     "prompt_number": 10
    },
    {
     "cell_type": "markdown",
     "metadata": {},
     "source": [
      "## Version avec contr\u00f4le des ressources\n",
      "\n",
      "Ma machine n'a pas un million de coeurs, mais seulement 4 (physique), cr\u00e9er beaucoup de processus peut \u00eatre p\u00e9nalisant pour le temps de calcul (quand il y a autant ou plus de processus que de calculs)"
     ]
    },
    {
     "cell_type": "code",
     "collapsed": false,
     "input": [
      "-module(mr).\n",
      "-compile(export_all).\n",
      "\n",
      "sommeCarre(L,N)->\n",
      "    M = self(),\n",
      "    NC = length(L) div N,\n",
      "    RedC = spawn(mr,reduceSomme, [M,N]),\n",
      "    mapCarre(L,RedC,NC),\n",
      "    receive S -> S end.\n",
      "    \n",
      "mapCarre([],_R,_NC)->done;\n",
      "mapCarre(L,R,NC)->\n",
      "    [D,F] = separe(L,NC),\n",
      "    spawn(mr,mapReduceCarreClassique,[D,R]),\n",
      "    mapCarre(F,R,NC).\n",
      "\n",
      "separe(L,NC) ->\n",
      "  {D,F} = lists:split(NC,L),\n",
      "  [D,F].\n",
      "    \n",
      "mapReduceCarreClassique(D,R) ->\n",
      "    R ! mapReduceCarreClassique(D).\n",
      "\n",
      "mapReduceCarreClassique([])-> 0;\n",
      "mapReduceCarreClassique([E|L])-> carre(E)+mapReduceCarreClassique(L).\n",
      "\n",
      "carre(N)-> N*N.\n",
      "\n",
      "reduceSomme(M,N)->\n",
      "  M!reduceSomme(N).\n",
      "    \n",
      "reduceSomme(0)-> 0;\n",
      "reduceSomme(N)->\n",
      "    receive C -> C+reduceSomme(N-1) end."
     ],
     "language": "python",
     "metadata": {},
     "outputs": [
      {
       "html": [
        "<pre>Successfully Compiled</pre>"
       ],
       "metadata": {},
       "output_type": "pyout",
       "prompt_number": 5,
       "text": [
        "Successfully Compiled"
       ]
      }
     ],
     "prompt_number": 5
    },
    {
     "cell_type": "code",
     "collapsed": false,
     "input": [
      "mr:sommeCarre([1,2,3,4],2)."
     ],
     "language": "python",
     "metadata": {},
     "outputs": [
      {
       "html": [
        "30"
       ],
       "metadata": {},
       "output_type": "pyout",
       "prompt_number": 3,
       "text": [
        "30"
       ]
      }
     ],
     "prompt_number": 3
    },
    {
     "cell_type": "code",
     "collapsed": false,
     "input": [
      "mr:sommeCarre(lists:seq(1,10000000),10)."
     ],
     "language": "python",
     "metadata": {},
     "outputs": [
      {
       "html": [
        "333333383333335000000"
       ],
       "metadata": {},
       "output_type": "pyout",
       "prompt_number": 20,
       "text": [
        "333333383333335000000"
       ]
      }
     ],
     "prompt_number": 20
    },
    {
     "cell_type": "markdown",
     "metadata": {},
     "source": [
      "#### Variante (lente)"
     ]
    },
    {
     "cell_type": "code",
     "collapsed": false,
     "input": [
      "-module(mrlent).\n",
      "-compile(export_all).\n",
      "\n",
      "sommeCarre(L,N)->\n",
      "    M = self(),\n",
      "    NC = length(L) div N,\n",
      "    RedC = spawn(mrlent,reduceSomme, [M,N]),\n",
      "    mapCarre(L,RedC,NC),\n",
      "    receive S -> S end.\n",
      "    \n",
      "mapCarre([],_R,_NC)->done;\n",
      "mapCarre(L,R,NC)->\n",
      "    [D,F] = separe(L,NC),\n",
      "    spawn(mrlent,mapReduceCarreClassique,[D,R]),\n",
      "    mapCarre(F,R,NC).\n",
      "\n",
      "separe(L,NC) ->\n",
      "  {D,F} = lists:split(NC,L),\n",
      "  [D,F].\n",
      "    \n",
      "mapReduceCarreClassique(D,R) ->\n",
      "    R ! mapReduceCarreClassique(D).\n",
      "\n",
      "mapReduceCarreClassique([])-> 0;\n",
      "mapReduceCarreClassique([E|L])-> lent:plusLent(lent:carreLent(E),mapReduceCarreClassique(L)).\n",
      "\n",
      "\n",
      "reduceSomme(M,N)->\n",
      "  M!reduceSomme(N).\n",
      "    \n",
      "reduceSomme(0)-> 0;\n",
      "reduceSomme(N)->\n",
      "    receive C -> lent:plusLent(C,reduceSomme(N-1)) end."
     ],
     "language": "python",
     "metadata": {},
     "outputs": [
      {
       "html": [
        "<pre>Successfully Compiled</pre>"
       ],
       "metadata": {},
       "output_type": "pyout",
       "prompt_number": 6,
       "text": [
        "Successfully Compiled"
       ]
      }
     ],
     "prompt_number": 6
    },
    {
     "cell_type": "code",
     "collapsed": false,
     "input": [
      "mrlent:sommeCarre([1,2,3,4,5,6,7,8],4)."
     ],
     "language": "python",
     "metadata": {},
     "outputs": [
      {
       "html": [
        "204"
       ],
       "metadata": {},
       "output_type": "pyout",
       "prompt_number": 3,
       "text": [
        "204"
       ]
      }
     ],
     "prompt_number": 3
    },
    {
     "cell_type": "code",
     "collapsed": false,
     "input": [
      "mrlent:sommeCarre(lists:seq(1,200),10)."
     ],
     "language": "python",
     "metadata": {},
     "outputs": [
      {
       "html": [
        "2686700"
       ],
       "metadata": {},
       "output_type": "pyout",
       "prompt_number": 13,
       "text": [
        "2686700"
       ]
      }
     ],
     "prompt_number": 13
    },
    {
     "cell_type": "code",
     "collapsed": false,
     "input": [
      "mrlent:sommeCarre(lists:seq(1,300),30)."
     ],
     "language": "python",
     "metadata": {},
     "outputs": [
      {
       "html": [
        "9045050"
       ],
       "metadata": {},
       "output_type": "pyout",
       "prompt_number": 8,
       "text": [
        "9045050"
       ]
      }
     ],
     "prompt_number": 8
    },
    {
     "cell_type": "markdown",
     "metadata": {},
     "source": [
      "#### Variante (carr\u00e9 lent)"
     ]
    },
    {
     "cell_type": "code",
     "collapsed": false,
     "input": [
      "-module(mrcarrelent).\n",
      "-compile(export_all).\n",
      "\n",
      "sommeCarre(L,N)->\n",
      "    M = self(),\n",
      "    NC = length(L) div N,\n",
      "    RedC = spawn(mrcarrelent,reduceSomme, [M,N]),\n",
      "    mapCarre(L,RedC,NC),\n",
      "    receive S -> S end.\n",
      "    \n",
      "mapCarre([],_R,_NC)->done;\n",
      "mapCarre(L,R,NC)->\n",
      "    [D,F] = separe(L,NC),\n",
      "    spawn(mrcarrelent,mapReduceCarreClassique,[D,R]),\n",
      "    mapCarre(F,R,NC).\n",
      "\n",
      "separe(L,NC) ->\n",
      "  {D,F} = lists:split(NC,L),\n",
      "  [D,F].\n",
      "    \n",
      "mapReduceCarreClassique(D,R) ->\n",
      "    R ! mapReduceCarreClassique(D).\n",
      "\n",
      "mapReduceCarreClassique([])-> 0;\n",
      "mapReduceCarreClassique([E|L])-> lent:carreLent(E)+mapReduceCarreClassique(L).\n",
      "\n",
      "\n",
      "reduceSomme(M,N)->\n",
      "  M!reduceSomme(N).\n",
      "    \n",
      "reduceSomme(0)-> 0;\n",
      "reduceSomme(N)->\n",
      "    receive C -> C+reduceSomme(N-1) end."
     ],
     "language": "python",
     "metadata": {},
     "outputs": [
      {
       "html": [
        "<pre>Successfully Compiled</pre>"
       ],
       "metadata": {},
       "output_type": "pyout",
       "prompt_number": 1,
       "text": [
        "Successfully Compiled"
       ]
      }
     ],
     "prompt_number": 1
    },
    {
     "cell_type": "code",
     "collapsed": false,
     "input": [
      "mrcarrelent:sommeCarre([1,2,3,4,5,6,7,8],4)."
     ],
     "language": "python",
     "metadata": {},
     "outputs": [
      {
       "html": [
        "204"
       ],
       "metadata": {},
       "output_type": "pyout",
       "prompt_number": 13,
       "text": [
        "204"
       ]
      }
     ],
     "prompt_number": 13
    },
    {
     "cell_type": "code",
     "collapsed": false,
     "input": [
      "mrcarrelent:sommeCarre(lists:seq(1,200),10)."
     ],
     "language": "python",
     "metadata": {},
     "outputs": [
      {
       "html": [
        "2686700"
       ],
       "metadata": {},
       "output_type": "pyout",
       "prompt_number": 15,
       "text": [
        "2686700"
       ]
      }
     ],
     "prompt_number": 15
    },
    {
     "cell_type": "markdown",
     "metadata": {},
     "source": [
      "pour 1 .. 300 avec 30 noeuds (idem avec 20 noeuds, ou 100 noeuds, mais en dessous de 10 noeuds, les performances se d\u00e9gradent) cela prends 3s le processeur est \u00e0 100%"
     ]
    },
    {
     "cell_type": "code",
     "collapsed": false,
     "input": [
      "mrcarrelent:sommeCarre(lists:seq(1,400),8)."
     ],
     "language": "python",
     "metadata": {},
     "outputs": [
      {
       "html": [
        "21413400"
       ],
       "metadata": {},
       "output_type": "pyout",
       "prompt_number": 38,
       "text": [
        "21413400"
       ]
      }
     ],
     "prompt_number": 38
    },
    {
     "cell_type": "markdown",
     "metadata": {},
     "source": [
      "pour 1 .. 400 avec 8 noeud (ou 10 ou 4), cela prends un peu plus de temps, mais le processeur n'est jamais (ou presque) \u00e0 100% avec un profil en escalier (80% court, 60% plus long, 40% long, 20% plus long)"
     ]
    },
    {
     "cell_type": "code",
     "collapsed": false,
     "input": [
      "mrcarrelent:sommeCarre(lists:seq(1,400,2)++lists:seq(2,400,2),8)."
     ],
     "language": "python",
     "metadata": {},
     "outputs": [
      {
       "html": [
        "21413400"
       ],
       "metadata": {},
       "output_type": "pyout",
       "prompt_number": 39,
       "text": [
        "21413400"
       ]
      }
     ],
     "prompt_number": 39
    },
    {
     "cell_type": "code",
     "collapsed": false,
     "input": [
      "mrcarrelent:sommeCarre(lists:seq(1,400,4)++lists:seq(2,400,4)++lists:seq(3,400,4)++lists:seq(4,400,4),4)."
     ],
     "language": "python",
     "metadata": {},
     "outputs": [
      {
       "html": [
        "21413400"
       ],
       "metadata": {},
       "output_type": "pyout",
       "prompt_number": 2,
       "text": [
        "21413400"
       ]
      }
     ],
     "prompt_number": 2
    },
    {
     "cell_type": "markdown",
     "metadata": {},
     "source": [
      "en coupant en 4 noeuds et en associants les entiers judicieusement, on arrive \u00e0 obtenir un plateau \u00e0 66% de cpu"
     ]
    },
    {
     "cell_type": "code",
     "collapsed": false,
     "input": [
      "mrcarrelent:sommeCarre(lists:seq(1,402,6)++lists:seq(2,402,6)++lists:seq(3,402,6)++lists:seq(4,402,6)++lists:seq(5,402,6)++lists:seq(6,402,6),6)."
     ],
     "language": "python",
     "metadata": {},
     "outputs": [
      {
       "html": [
        "21735805"
       ],
       "metadata": {},
       "output_type": "pyout",
       "prompt_number": 4,
       "text": [
        "21735805"
       ]
      }
     ],
     "prompt_number": 4
    },
    {
     "cell_type": "markdown",
     "metadata": {},
     "source": [
      "en coupant en 6 noeuds et en associants les entiers judicieusement, on arrive \u00e0 obtenir un plateau \u00e0 95% de cpu"
     ]
    },
    {
     "cell_type": "code",
     "collapsed": false,
     "input": [
      "mrcarrelent:sommeCarre(lists:seq(1,504,6)++lists:seq(2,504,6)++lists:seq(3,504,6)++lists:seq(4,504,6)++lists:seq(5,504,6)++lists:seq(6,504,6),6)."
     ],
     "language": "python",
     "metadata": {},
     "outputs": [
      {
       "html": [
        "42801780"
       ],
       "metadata": {},
       "output_type": "pyout",
       "prompt_number": 6,
       "text": [
        "42801780"
       ]
      }
     ],
     "prompt_number": 6
    }
   ],
   "metadata": {}
  }
 ]
}