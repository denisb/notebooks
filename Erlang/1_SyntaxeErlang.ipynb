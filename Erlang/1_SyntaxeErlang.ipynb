{
 "metadata": {
  "name": "",
  "signature": "sha256:996d9166a323b0f3f51a005386ad2bcc049760c70cc9f9d9db4f06cc6b615ec5"
 },
 "nbformat": 3,
 "nbformat_minor": 0,
 "worksheets": [
  {
   "cells": [
    {
     "cell_type": "markdown",
     "metadata": {},
     "source": [
      "# Syntaxe d'Erlang (mini-cours 1/5)\n",
      "## Constantes et Variables\n",
      "Erlang comporte constantes et Variables :\n",
      "* constantes : 10, \"Bien le bonjour\", identifierCommencantParUneMinuscule\n",
      "* Variables : IdentifierCommencantParUneMAJUSCULE, X, AutreVariable\n",
      "\n",
      "Une constante n'est \u00e9gale qu'\u00e0 elle m\u00eame, si elle repr\u00e9sente une valeur, la valeur c'est elle m\u00eame, et elle ne change pas. \n",
      "\n",
      "Une Variable peut prendre n'importe quelle valeur, cela se fait \u00e0 l'aide d'une affectation ou instanciation (implicite, par unification [parfois dit filtrage par motif ou pattern matching] cf. plus loin) ou explicite (affectation rare mais possible) mais une fois que cette instanciation  a \u00e9t\u00e9 faite, cette valeur est fig\u00e9e. Pour changer la valeur associ\u00e9e \u00e0 une Variable, il faut effacer cette valeur explicitement (rare). Erlang appartient \u00e0 cette famille de langages fonctionnels purs dont les Variables sont des Variables \u00e0 instanciation unique.\n",
      "\n",
      "Variables et constantes se diff\u00e9rencient en fonction de leur initiale :\n",
      "* les constantes (symboliques, repr\u00e9sent\u00e9es par un identifier) commencent par une muniscule\n",
      "* les Variables commentent par une majuscule\n"
     ]
    },
    {
     "cell_type": "code",
     "collapsed": false,
     "input": [
      "10."
     ],
     "language": "python",
     "metadata": {},
     "outputs": [
      {
       "html": [
        "10"
       ],
       "metadata": {},
       "output_type": "pyout",
       "prompt_number": 3,
       "text": [
        "10"
       ]
      }
     ],
     "prompt_number": 3
    },
    {
     "cell_type": "code",
     "collapsed": false,
     "input": [
      "\"Bien le bonjour\"."
     ],
     "language": "python",
     "metadata": {},
     "outputs": [
      {
       "html": [
        "<pre>Bien le bonjour</pre>"
       ],
       "metadata": {},
       "output_type": "pyout",
       "prompt_number": 4,
       "text": [
        "Bien le bonjour"
       ]
      }
     ],
     "prompt_number": 4
    },
    {
     "cell_type": "code",
     "collapsed": false,
     "input": [
      "Variable."
     ],
     "language": "python",
     "metadata": {},
     "outputs": [
      {
       "html": [
        "<pre>{unbound_var,'Variable'}</pre>"
       ],
       "metadata": {},
       "output_type": "pyout",
       "prompt_number": 5,
       "text": [
        "{unbound_var,'Variable'}"
       ]
      }
     ]
    },
    {
     "cell_type": "code",
     "collapsed": false,
     "input": [
      "V = 4."
     ],
     "language": "python",
     "metadata": {},
     "outputs": [
      {
       "html": [
        "4"
       ],
       "metadata": {},
       "output_type": "pyout",
       "prompt_number": 6,
       "text": [
        "4"
       ]
      }
     ],
     "prompt_number": 6
    },
    {
     "cell_type": "code",
     "collapsed": false,
     "input": [
      "V."
     ],
     "language": "python",
     "metadata": {},
     "outputs": [
      {
       "html": [
        "4"
       ],
       "metadata": {},
       "output_type": "pyout",
       "prompt_number": 7,
       "text": [
        "4"
       ]
      }
     ],
     "prompt_number": 7
    },
    {
     "cell_type": "code",
     "collapsed": false,
     "input": [
      "V=5."
     ],
     "language": "python",
     "metadata": {},
     "outputs": [
      {
       "html": [
        "<pre>{badmatch,5}</pre>"
       ],
       "metadata": {},
       "output_type": "pyout",
       "prompt_number": 8,
       "text": [
        "{badmatch,5}"
       ]
      }
     ]
    },
    {
     "cell_type": "markdown",
     "metadata": {},
     "source": [
      "## Expressions et listes\n",
      "A partir des Variables et constantes, on peut construire des expressions (usuelles avec +, -, *, ...),  des listes avec deux constructeurs ( [PremierElement|FinDeListe] et []) et plein d'autres choses ...\n",
      "\n",
      "Pour les listes, il y a aussi des formes simplifi\u00e9es avec des crochets et des virgules (ex. : [1,2,3])\n",
      "\n",
      "A l'\u00e9valuation, les expressions sont calcul\u00e9es (si possibles)."
     ]
    },
    {
     "cell_type": "code",
     "collapsed": false,
     "input": [
      "(10+5) div 4."
     ],
     "language": "python",
     "metadata": {},
     "outputs": [
      {
       "html": [
        "3"
       ],
       "metadata": {},
       "output_type": "pyout",
       "prompt_number": 9,
       "text": [
        "3"
       ]
      }
     ],
     "prompt_number": 9
    },
    {
     "cell_type": "code",
     "collapsed": false,
     "input": [
      "L=[1,2,5]."
     ],
     "language": "python",
     "metadata": {},
     "outputs": [
      {
       "html": [
        "[1, 2, 5]"
       ],
       "metadata": {},
       "output_type": "pyout",
       "prompt_number": 10,
       "text": [
        "[1, 2, 5]"
       ]
      }
     ],
     "prompt_number": 10
    },
    {
     "cell_type": "code",
     "collapsed": false,
     "input": [
      "[E|Reste]=L."
     ],
     "language": "python",
     "metadata": {},
     "outputs": [
      {
       "html": [
        "[1, 2, 5]"
       ],
       "metadata": {},
       "output_type": "pyout",
       "prompt_number": 11,
       "text": [
        "[1, 2, 5]"
       ]
      }
     ],
     "prompt_number": 11
    },
    {
     "cell_type": "code",
     "collapsed": false,
     "input": [
      "E."
     ],
     "language": "python",
     "metadata": {},
     "outputs": [
      {
       "html": [
        "1"
       ],
       "metadata": {},
       "output_type": "pyout",
       "prompt_number": 12,
       "text": [
        "1"
       ]
      }
     ],
     "prompt_number": 12
    },
    {
     "cell_type": "code",
     "collapsed": false,
     "input": [
      "Reste."
     ],
     "language": "python",
     "metadata": {},
     "outputs": [
      {
       "html": [
        "[2, 5]"
       ],
       "metadata": {},
       "output_type": "pyout",
       "prompt_number": 13,
       "text": [
        "[2, 5]"
       ]
      }
     ],
     "prompt_number": 13
    },
    {
     "cell_type": "code",
     "collapsed": false,
     "input": [
      "[E,[E]|[E+E|[]]]."
     ],
     "language": "python",
     "metadata": {},
     "outputs": [
      {
       "html": [
        "[1, [1], 2]"
       ],
       "metadata": {},
       "output_type": "pyout",
       "prompt_number": 14,
       "text": [
        "[1, [1], 2]"
       ]
      }
     ],
     "prompt_number": 14
    },
    {
     "cell_type": "code",
     "collapsed": false,
     "input": [
      "[E|Z]."
     ],
     "language": "python",
     "metadata": {},
     "outputs": [
      {
       "html": [
        "<pre>{unbound_var,'Z'}</pre>"
       ],
       "metadata": {},
       "output_type": "pyout",
       "prompt_number": 15,
       "text": [
        "{unbound_var,'Z'}"
       ]
      }
     ]
    },
    {
     "cell_type": "code",
     "collapsed": false,
     "input": [
      "1+Z."
     ],
     "language": "python",
     "metadata": {},
     "outputs": [
      {
       "html": [
        "<pre>{unbound_var,'Z'}</pre>"
       ],
       "metadata": {},
       "output_type": "pyout",
       "prompt_number": 16,
       "text": [
        "{unbound_var,'Z'}"
       ]
      }
     ]
    },
    {
     "cell_type": "markdown",
     "metadata": {},
     "source": [
      "## Fonctions\n",
      "Enfin, on peut contruire des fonctions, en utilisant : *unification*, *raisonnement par cas* (avec garde) et *r\u00e9cursivit\u00e9*. Pour le nom des fonctions, choisir une constante (un nom commen\u00e7ant par une minuscule).\n",
      "\n",
      "Pour l'**unification** (parfois d\u00e9nom\u00e9e filtrage par motif, ou pattern matching), cela concerne la d\u00e9finition de la forme ou de la valeur attendue des param\u00e8tres :"
     ]
    },
    {
     "cell_type": "code",
     "collapsed": false,
     "input": [
      "-module(syn).\n",
      "-compile(export_all).\n",
      "\n",
      "maFonction(1,X,[A|_L])-> X+A."
     ],
     "language": "python",
     "metadata": {},
     "outputs": [
      {
       "html": [
        "<pre>Successfully Compiled</pre>"
       ],
       "metadata": {},
       "output_type": "pyout",
       "prompt_number": 17,
       "text": [
        "Successfully Compiled"
       ]
      }
     ],
     "prompt_number": 17
    },
    {
     "cell_type": "markdown",
     "metadata": {},
     "source": [
      "ici, le premier param\u00e8tre doit valoir 1 pour que la fonction s'applique, le second param\u00e8tre peut \u00eatre quelconque (mais comme ensuite il faudra faire une addition, il vaut mieux mettre un nombre). Le dernier param\u00e8tre doit \u00eatre une liste avec au moins 1 \u00e9l\u00e9ments A (L peut \u00eatre vide, \u00e0 part le fait que L doit \u00eatre une liste, sinon la forme [...|.] n'a pas beaucoup de sens, L peut \u00eatre quelconque)."
     ]
    },
    {
     "cell_type": "code",
     "collapsed": false,
     "input": [
      "syn:maFonction(1,2,[3])."
     ],
     "language": "python",
     "metadata": {},
     "outputs": [
      {
       "html": [
        "5"
       ],
       "metadata": {},
       "output_type": "pyout",
       "prompt_number": 18,
       "text": [
        "5"
       ]
      }
     ],
     "prompt_number": 18
    },
    {
     "cell_type": "code",
     "collapsed": false,
     "input": [
      "syn:maFonction(1,2,[3,4])."
     ],
     "language": "python",
     "metadata": {},
     "outputs": [
      {
       "html": [
        "5"
       ],
       "metadata": {},
       "output_type": "pyout",
       "prompt_number": 19,
       "text": [
        "5"
       ]
      }
     ],
     "prompt_number": 19
    },
    {
     "cell_type": "code",
     "collapsed": false,
     "input": [
      "syn:maFonction(2,2,[3,4])."
     ],
     "language": "python",
     "metadata": {},
     "outputs": [
      {
       "html": [
        "<pre>function_clause</pre>"
       ],
       "metadata": {},
       "output_type": "pyout",
       "prompt_number": 20,
       "text": [
        "function_clause"
       ]
      }
     ]
    },
    {
     "cell_type": "code",
     "collapsed": false,
     "input": [
      "syn:maFonction(1,2,[])."
     ],
     "language": "python",
     "metadata": {},
     "outputs": [
      {
       "html": [
        "<pre>function_clause</pre>"
       ],
       "metadata": {},
       "output_type": "pyout",
       "prompt_number": 21,
       "text": [
        "function_clause"
       ]
      }
     ]
    },
    {
     "cell_type": "markdown",
     "metadata": {},
     "source": [
      "La **d\u00e9finition par cas** se fait en ajoutant plusieurs r\u00e8gles d'application s\u00e9par\u00e9es par des point-virgules (\u00e0 la fin on garde un point)."
     ]
    },
    {
     "cell_type": "code",
     "collapsed": false,
     "input": [
      "-module(syn).\n",
      "-compile(export_all).\n",
      "\n",
      "maFonction(1,X,[A|_L])-> X+A;\n",
      "maFonction(2,X,[A,B|_L])-> X+A+B."
     ],
     "language": "python",
     "metadata": {},
     "outputs": [
      {
       "html": [
        "<pre>Successfully Compiled</pre>"
       ],
       "metadata": {},
       "output_type": "pyout",
       "prompt_number": 30,
       "text": [
        "Successfully Compiled"
       ]
      }
     ],
     "prompt_number": 30
    },
    {
     "cell_type": "code",
     "collapsed": false,
     "input": [
      "syn:maFonction(1,2,[3])."
     ],
     "language": "python",
     "metadata": {},
     "outputs": [
      {
       "html": [
        "5"
       ],
       "metadata": {},
       "output_type": "pyout",
       "prompt_number": 32,
       "text": [
        "5"
       ]
      }
     ],
     "prompt_number": 32
    },
    {
     "cell_type": "code",
     "collapsed": false,
     "input": [
      "syn:maFonction(2,2,[3,4])."
     ],
     "language": "python",
     "metadata": {},
     "outputs": [
      {
       "html": [
        "9"
       ],
       "metadata": {},
       "output_type": "pyout",
       "prompt_number": 35,
       "text": [
        "9"
       ]
      }
     ],
     "prompt_number": 35
    },
    {
     "cell_type": "code",
     "collapsed": false,
     "input": [
      "syn:maFonction(-1,2,[3])."
     ],
     "language": "python",
     "metadata": {},
     "outputs": [
      {
       "html": [
        "<pre>function_clause</pre>"
       ],
       "metadata": {},
       "output_type": "pyout",
       "prompt_number": 36,
       "text": [
        "function_clause"
       ]
      }
     ]
    },
    {
     "cell_type": "markdown",
     "metadata": {},
     "source": [
      "Enfin, la **r\u00e9cursivit\u00e9** ..."
     ]
    },
    {
     "cell_type": "code",
     "collapsed": false,
     "input": [
      "-module(syn).\n",
      "-compile(export_all).\n",
      "\n",
      "maFonction(0,X,_L)-> X;\n",
      "maFonction(N,X,[A|L])-> A+maFonction(N-1,X,L)."
     ],
     "language": "python",
     "metadata": {},
     "outputs": [
      {
       "html": [
        "<pre>Successfully Compiled</pre>"
       ],
       "metadata": {},
       "output_type": "pyout",
       "prompt_number": 1,
       "text": [
        "Successfully Compiled"
       ]
      }
     ],
     "prompt_number": 1
    },
    {
     "cell_type": "code",
     "collapsed": false,
     "input": [
      "syn:maFonction(1,2,[3,4,5])."
     ],
     "language": "python",
     "metadata": {},
     "outputs": [
      {
       "html": [
        "5"
       ],
       "metadata": {},
       "output_type": "pyout",
       "prompt_number": 38,
       "text": [
        "5"
       ]
      }
     ],
     "prompt_number": 38
    },
    {
     "cell_type": "code",
     "collapsed": false,
     "input": [
      "syn:maFonction(3,2,[3,4,5,6])."
     ],
     "language": "python",
     "metadata": {},
     "outputs": [
      {
       "html": [
        "14"
       ],
       "metadata": {},
       "output_type": "pyout",
       "prompt_number": 39,
       "text": [
        "14"
       ]
      }
     ],
     "prompt_number": 39
    },
    {
     "cell_type": "code",
     "collapsed": false,
     "input": [
      "syn:maFonction(6,2,[3,4,5,6])."
     ],
     "language": "python",
     "metadata": {},
     "outputs": []
    },
    {
     "cell_type": "markdown",
     "metadata": {},
     "source": [
      "### Divers\n",
      "Pour la d\u00e9finition par cas, on peut ajouter des **gardes** pour que les r\u00e8gles ne s'appliquent que dans certaines conditions, cela apparait avec le mot cl\u00e9 \"when\" :"
     ]
    },
    {
     "cell_type": "code",
     "collapsed": false,
     "input": [
      "-module(syn).\n",
      "-compile(export_all).\n",
      "\n",
      "maFonction(0,X,_L)-> X;\n",
      "maFonction(N,X,[A|L]) when N>0 -> A+maFonction(N-1,X,L)."
     ],
     "language": "python",
     "metadata": {},
     "outputs": [
      {
       "html": [
        "<pre>Successfully Compiled</pre>"
       ],
       "metadata": {},
       "output_type": "pyout",
       "prompt_number": 8,
       "text": [
        "Successfully Compiled"
       ]
      }
     ],
     "prompt_number": 8
    },
    {
     "cell_type": "code",
     "collapsed": false,
     "input": [
      "syn:maFonction(-1,2,[3,4,5,6])."
     ],
     "language": "python",
     "metadata": {},
     "outputs": [
      {
       "html": [
        "<pre>function_clause</pre>"
       ],
       "metadata": {},
       "output_type": "pyout",
       "prompt_number": 9,
       "text": [
        "function_clause"
       ]
      }
     ]
    },
    {
     "cell_type": "code",
     "collapsed": false,
     "input": [
      "syn:maFonction(4,2,[3,4,5,6])."
     ],
     "language": "python",
     "metadata": {},
     "outputs": [
      {
       "html": [
        "20"
       ],
       "metadata": {},
       "output_type": "pyout",
       "prompt_number": 10,
       "text": [
        "20"
       ]
      }
     ],
     "prompt_number": 10
    },
    {
     "cell_type": "code",
     "collapsed": false,
     "input": [
      "syn:maFonction(5,2,[3,4,5,6])."
     ],
     "language": "python",
     "metadata": {},
     "outputs": [
      {
       "html": [
        "<pre>function_clause</pre>"
       ],
       "metadata": {},
       "output_type": "pyout",
       "prompt_number": 11,
       "text": [
        "function_clause"
       ]
      }
     ]
    },
    {
     "cell_type": "markdown",
     "metadata": {},
     "source": [
      "Enfin, en plus du point virgule qui signifie plus ou moins 'ou', il y a la virgule qui signifie 'et' :"
     ]
    },
    {
     "cell_type": "code",
     "collapsed": false,
     "input": [
      "-module(syn).\n",
      "-compile(export_all).\n",
      "\n",
      "maFonction(0,X,_L)-> X;\n",
      "maFonction(N,X,[A|L]) when N>0 , A > 10 -> \n",
      "  Tmp=1+A,\n",
      "  Tmp+maFonction(N-1,X,L)."
     ],
     "language": "python",
     "metadata": {},
     "outputs": [
      {
       "html": [
        "<pre>Successfully Compiled</pre>"
       ],
       "metadata": {},
       "output_type": "pyout",
       "prompt_number": 12,
       "text": [
        "Successfully Compiled"
       ]
      }
     ],
     "prompt_number": 12
    },
    {
     "cell_type": "code",
     "collapsed": false,
     "input": [
      "syn:maFonction(3,2,[30,40,50])."
     ],
     "language": "python",
     "metadata": {},
     "outputs": [
      {
       "html": [
        "125"
       ],
       "metadata": {},
       "output_type": "pyout",
       "prompt_number": 15,
       "text": [
        "125"
       ]
      }
     ],
     "prompt_number": 15
    },
    {
     "cell_type": "code",
     "collapsed": false,
     "input": [
      "{1,2}."
     ],
     "language": "python",
     "metadata": {},
     "outputs": [
      {
       "html": [
        "<pre>{1,2}</pre>"
       ],
       "metadata": {},
       "output_type": "pyout",
       "prompt_number": 19,
       "text": [
        "{1,2}"
       ]
      }
     ],
     "prompt_number": 19
    },
    {
     "cell_type": "code",
     "collapsed": false,
     "input": [
      "(1,2)."
     ],
     "language": "python",
     "metadata": {},
     "outputs": [
      {
       "html": [
        "<pre>{badmatch,{error,{1,erl_parse,[\"syntax error before: \",\"','\"]}}}</pre>"
       ],
       "metadata": {},
       "output_type": "pyout",
       "prompt_number": 20,
       "text": [
        "{badmatch,{error,{1,erl_parse,[\"syntax error before: \",\"','\"]}}}"
       ]
      }
     ]
    },
    {
     "cell_type": "code",
     "collapsed": false,
     "input": [
      "1,2."
     ],
     "language": "python",
     "metadata": {},
     "outputs": [
      {
       "html": [
        "<pre>{badmatch,{ok,[{integer,1,1},{integer,1,2}]}}</pre>"
       ],
       "metadata": {},
       "output_type": "pyout",
       "prompt_number": 21,
       "text": [
        "{badmatch,{ok,[{integer,1,1},{integer,1,2}]}}"
       ]
      }
     ]
    },
    {
     "cell_type": "markdown",
     "metadata": {},
     "source": [
      "## Plus tard\n",
      "Il y a d'autres choses dans la syntaxe Erlang, mais on peut s'en passer, sauf deux choses que je vous raconterai plus tard : \n",
      "* la gestion du parall\u00e9lisme (concurrence disent certains, je pr\u00e9f\u00e8re dire collaboration)\n",
      "* la gestion de la communication \n",
      "\n",
      "Mais *plus tard* ..."
     ]
    }
   ],
   "metadata": {}
  }
 ]
}