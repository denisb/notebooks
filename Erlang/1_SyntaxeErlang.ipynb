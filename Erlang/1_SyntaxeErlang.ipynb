{
 "metadata": {
  "celltoolbar": "Raw Cell Format",
  "name": "",
  "signature": "sha256:b7db688b8ae712b2948e622a18b4429a85083e796509c2646eda1b42c0ef6357"
 },
 "nbformat": 3,
 "nbformat_minor": 0,
 "worksheets": [
  {
   "cells": [
    {
     "cell_type": "markdown",
     "metadata": {},
     "source": [
      "# Syntaxe d'Erlang (mini-cours 1/5)\n",
      "## Constantes et Variables\n",
      "Erlang comporte constantes et Variables :\n",
      "* constantes : 10, \"Bien le bonjour\", identifierCommencantParUneMinuscule\n",
      "* Variables : IdentifierCommencantParUneMAJUSCULE, X, AutreVariable\n",
      "\n",
      "Une constante n'est \u00e9gale qu'\u00e0 elle m\u00eame, si elle repr\u00e9sente une valeur, la valeur c'est elle m\u00eame, et elle ne change pas. \n",
      "\n",
      "Une Variable peut prendre n'importe quelle valeur, cela se fait \u00e0 l'aide d'une affectation ou instanciation (implicite, par unification [parfois dit filtrage par motif ou pattern matching] cf. plus loin) ou explicite (affectation rare mais possible) mais une fois que cette instanciation  a \u00e9t\u00e9 faite, cette valeur est fig\u00e9e. Pour changer la valeur associ\u00e9e \u00e0 une Variable, il faut effacer cette valeur explicitement (rare). Erlang appartient \u00e0 cette famille de langages fonctionnels purs dont les Variables sont des Variables \u00e0 instanciation unique, ou non mutable (immutable ou immuable).\n",
      "\n",
      "Variables et constantes se diff\u00e9rencient en fonction de leur initiale :\n",
      "* les constantes (symboliques, repr\u00e9sent\u00e9es par un identifier) commencent par une muniscule\n",
      "* les Variables commentent par une majuscule\n",
      "\n",
      "Exemples :\n",
      "* une constante num\u00e9rique"
     ]
    },
    {
     "cell_type": "code",
     "collapsed": false,
     "input": [
      "10."
     ],
     "language": "python",
     "metadata": {},
     "outputs": [
      {
       "html": [
        "10"
       ],
       "metadata": {},
       "output_type": "pyout",
       "prompt_number": 1,
       "text": [
        "10"
       ]
      }
     ],
     "prompt_number": 1
    },
    {
     "cell_type": "markdown",
     "metadata": {},
     "source": [
      "* une constante texte"
     ]
    },
    {
     "cell_type": "code",
     "collapsed": false,
     "input": [
      "\"Bien le bonjour\"."
     ],
     "language": "python",
     "metadata": {},
     "outputs": [
      {
       "html": [
        "<pre>Bien le bonjour</pre>"
       ],
       "metadata": {},
       "output_type": "pyout",
       "prompt_number": 1,
       "text": [
        "Bien le bonjour"
       ]
      }
     ],
     "prompt_number": 1
    },
    {
     "cell_type": "markdown",
     "metadata": {},
     "source": [
      "* une variable"
     ]
    },
    {
     "cell_type": "code",
     "collapsed": false,
     "input": [
      "Variable."
     ],
     "language": "python",
     "metadata": {},
     "outputs": [
      {
       "html": [
        "<pre>{unbound_var,'Variable'}</pre>"
       ],
       "metadata": {},
       "output_type": "pyout",
       "prompt_number": 5,
       "text": [
        "{unbound_var,'Variable'}"
       ]
      }
     ]
    },
    {
     "cell_type": "markdown",
     "metadata": {},
     "source": [
      "(*l'interpr\u00e9teur n'est pas content parce que cette variable n'a pas encore de valeur, il ne peut pas l'afficher*)\n",
      "\n",
      "* Une variable, avec une valeur"
     ]
    },
    {
     "cell_type": "code",
     "collapsed": false,
     "input": [
      "V = 4."
     ],
     "language": "python",
     "metadata": {},
     "outputs": [
      {
       "html": [
        "4"
       ],
       "metadata": {},
       "output_type": "pyout",
       "prompt_number": 6,
       "text": [
        "4"
       ]
      }
     ],
     "prompt_number": 6
    },
    {
     "cell_type": "code",
     "collapsed": false,
     "input": [
      "V."
     ],
     "language": "python",
     "metadata": {},
     "outputs": [
      {
       "html": [
        "4"
       ],
       "metadata": {},
       "output_type": "pyout",
       "prompt_number": 7,
       "text": [
        "4"
       ]
      }
     ],
     "prompt_number": 7
    },
    {
     "cell_type": "markdown",
     "metadata": {},
     "source": [
      "Attention, comme V a une valeur, on ne peut plus faire d'affectation (sauf \u00e0 remettre la m\u00eame valeur)"
     ]
    },
    {
     "cell_type": "code",
     "collapsed": false,
     "input": [
      "V=5."
     ],
     "language": "python",
     "metadata": {},
     "outputs": [
      {
       "html": [
        "<pre>{badmatch,5}</pre>"
       ],
       "metadata": {},
       "output_type": "pyout",
       "prompt_number": 7,
       "text": [
        "{badmatch,5}"
       ]
      }
     ]
    },
    {
     "cell_type": "code",
     "collapsed": false,
     "input": [
      "V=4."
     ],
     "language": "python",
     "metadata": {},
     "outputs": [
      {
       "html": [
        "4"
       ],
       "metadata": {},
       "output_type": "pyout",
       "prompt_number": 6,
       "text": [
        "4"
       ]
      }
     ],
     "prompt_number": 6
    },
    {
     "cell_type": "markdown",
     "metadata": {},
     "source": [
      "## Expressions et listes\n",
      "A partir des Variables et constantes, on peut construire des expressions (usuelles avec +, -, *, ...),  des listes avec deux constructeurs ( [PremierElement|FinDeListe] et []) et plein d'autres choses ...\n",
      "\n",
      "Pour les listes, il y a aussi des formes simplifi\u00e9es avec des crochets et des virgules (ex. : [1,2,3])\n",
      "\n",
      "A l'\u00e9valuation, les expressions sont calcul\u00e9es (si possibles)."
     ]
    },
    {
     "cell_type": "code",
     "collapsed": false,
     "input": [
      "(10+5) div 4."
     ],
     "language": "python",
     "metadata": {},
     "outputs": [
      {
       "html": [
        "3"
       ],
       "metadata": {},
       "output_type": "pyout",
       "prompt_number": 9,
       "text": [
        "3"
       ]
      }
     ],
     "prompt_number": 9
    },
    {
     "cell_type": "code",
     "collapsed": false,
     "input": [
      "L=[1,2,5]."
     ],
     "language": "python",
     "metadata": {},
     "outputs": [
      {
       "html": [
        "[1, 2, 5]"
       ],
       "metadata": {},
       "output_type": "pyout",
       "prompt_number": 9,
       "text": [
        "[1, 2, 5]"
       ]
      }
     ],
     "prompt_number": 9
    },
    {
     "cell_type": "markdown",
     "metadata": {},
     "source": [
      "Rem. : sur l'affectation **PartieGauche = PartieDroite**, pour la partie droite, l'affectation est aussi une \u00e9valuation, pour que cette \u00e9valuation r\u00e9ussisse il ne faut pas qu'il reste de variable sans valeur dans la partie droite ; pour la partie gauche, l'affectation est aussi une unification, elle permet de d\u00e9composer un terme (cependant, il faut que la partie droite de l'affectation ne contienne pas de variable, sinon, l'algorithme d'unification pourrait boucler, et pour \u00e9viter de boucler, il \u00e9choue, mais c'est coh\u00e9rent avec l'utilisation de la partie droite avec l'\u00e9valuation).\n",
      "\n",
      "Il est habituel que la partie droite et la partie gauche d'une \u00e9valuation soit trait\u00e9es de mani\u00e8re diff\u00e9rente, ce qui rend l'affectation asym\u00e9trique ; pour l'unification, c'est un choix qui distingue les langages avec unification sym\u00e9trique (ProLog) et introduit le probl\u00e8me du test d'occurence et des solutions possibles \u00e0 base de graphes, et les langages avec unification asym\u00e9trique (Erlang) qui mettent en place un cadre plus simple \u00e0 g\u00e9rer (pour le compilateur ou l'interpr\u00e9teur).\n",
      "\n",
      "L'affectation (et l'unification) suit le sh\u00e9ma suivant :\n",
      "* Motif = Expression\n",
      "\n",
      "ou, avec plus de d\u00e9tail\n",
      "* TermeAvecOuSansVariable = ExpressionSansVariableApr\u00e8sEvaluation\n",
      "\n",
      "Exemple d'unification (et d\u00e9composition) avec la liste pr\u00e9c\u00e9dente"
     ]
    },
    {
     "cell_type": "code",
     "collapsed": false,
     "input": [
      "[E|Reste]=L."
     ],
     "language": "python",
     "metadata": {},
     "outputs": [
      {
       "html": [
        "[1, 2, 5]"
       ],
       "metadata": {},
       "output_type": "pyout",
       "prompt_number": 11,
       "text": [
        "[1, 2, 5]"
       ]
      }
     ],
     "prompt_number": 11
    },
    {
     "cell_type": "code",
     "collapsed": false,
     "input": [
      "E."
     ],
     "language": "python",
     "metadata": {},
     "outputs": [
      {
       "html": [
        "1"
       ],
       "metadata": {},
       "output_type": "pyout",
       "prompt_number": 12,
       "text": [
        "1"
       ]
      }
     ],
     "prompt_number": 12
    },
    {
     "cell_type": "code",
     "collapsed": false,
     "input": [
      "Reste."
     ],
     "language": "python",
     "metadata": {},
     "outputs": [
      {
       "html": [
        "[2, 5]"
       ],
       "metadata": {},
       "output_type": "pyout",
       "prompt_number": 13,
       "text": [
        "[2, 5]"
       ]
      }
     ],
     "prompt_number": 13
    },
    {
     "cell_type": "markdown",
     "metadata": {},
     "source": [
      "Les listes peuvent s'imbriquer"
     ]
    },
    {
     "cell_type": "code",
     "collapsed": false,
     "input": [
      "[E,[E]|[E+E|[]]]."
     ],
     "language": "python",
     "metadata": {},
     "outputs": [
      {
       "html": [
        "[1, [1], 2]"
       ],
       "metadata": {},
       "output_type": "pyout",
       "prompt_number": 12,
       "text": [
        "[1, [1], 2]"
       ]
      }
     ],
     "prompt_number": 12
    },
    {
     "cell_type": "markdown",
     "metadata": {},
     "source": [
      "Mais attention, lors de l'\u00e9valuation, il ne faut pas qu'il reste de variables sans valeur."
     ]
    },
    {
     "cell_type": "code",
     "collapsed": false,
     "input": [
      "[E|Z]."
     ],
     "language": "python",
     "metadata": {},
     "outputs": [
      {
       "html": [
        "<pre>{unbound_var,'Z'}</pre>"
       ],
       "metadata": {},
       "output_type": "pyout",
       "prompt_number": 15,
       "text": [
        "{unbound_var,'Z'}"
       ]
      }
     ]
    },
    {
     "cell_type": "code",
     "collapsed": false,
     "input": [
      "1+Z."
     ],
     "language": "python",
     "metadata": {},
     "outputs": [
      {
       "html": [
        "<pre>{unbound_var,'Z'}</pre>"
       ],
       "metadata": {},
       "output_type": "pyout",
       "prompt_number": 16,
       "text": [
        "{unbound_var,'Z'}"
       ]
      }
     ]
    },
    {
     "cell_type": "markdown",
     "metadata": {},
     "source": [
      "Un d\u00e9tail, en fait, les cha\u00eenes de caract\u00e8res sont des listes des codes ascii (pourquoi pas), et \u00e0 l'affichage, cela peut parfois se voir : "
     ]
    },
    {
     "cell_type": "code",
     "collapsed": false,
     "input": [
      "[65,66,67]."
     ],
     "language": "python",
     "metadata": {},
     "outputs": [
      {
       "html": [
        "<pre>ABC</pre>"
       ],
       "metadata": {},
       "output_type": "pyout",
       "prompt_number": 16,
       "text": [
        "ABC"
       ]
      }
     ],
     "prompt_number": 16
    },
    {
     "cell_type": "markdown",
     "metadata": {},
     "source": [
      "## Fonctions\n",
      "Enfin, on peut contruire des fonctions, en utilisant : *unification*, *raisonnement par cas* (avec garde) et *r\u00e9cursivit\u00e9*. Pour le nom des fonctions, choisir une constante (un nom commen\u00e7ant par une minuscule).\n",
      "\n",
      "Hors fonction anonyme (voir plus loin), les fonctions doivent \u00eatre d\u00e9finies dans un \"module\", et hors du module il faut faire r\u00e9f\u00e9rence \u00e0 ce module pour les utiliser (notation nomModule:NomFonction(Params))\n",
      "\n",
      "Pour l'**unification** (parfois d\u00e9nomm\u00e9e d\u00e9composition ou filtrage par motif, ou pattern matching), cela concerne la d\u00e9finition de la forme ou de la valeur attendue des param\u00e8tres (ils sont consid\u00e9r\u00e9s comme les partie gauche d'une affectation):"
     ]
    },
    {
     "cell_type": "code",
     "collapsed": false,
     "input": [
      "-module(syn).\n",
      "-compile(export_all).\n",
      "\n",
      "maFonction(1,X,[A|_L])-> X+A."
     ],
     "language": "python",
     "metadata": {},
     "outputs": [
      {
       "html": [
        "<pre>Successfully Compiled</pre>"
       ],
       "metadata": {},
       "output_type": "pyout",
       "prompt_number": 17,
       "text": [
        "Successfully Compiled"
       ]
      }
     ],
     "prompt_number": 17
    },
    {
     "cell_type": "markdown",
     "metadata": {},
     "source": [
      "ici, le premier param\u00e8tre doit valoir 1 pour que la fonction s'applique, le second param\u00e8tre peut \u00eatre quelconque (mais comme ensuite il faudra faire une addition, il vaut mieux mettre un nombre). Le dernier param\u00e8tre doit \u00eatre une liste avec au moins 1 \u00e9l\u00e9ments A (L peut \u00eatre vide, \u00e0 part le fait que L doit \u00eatre une liste, sinon la forme [...|.] n'a pas beaucoup de sens, L peut \u00eatre quelconque)."
     ]
    },
    {
     "cell_type": "code",
     "collapsed": false,
     "input": [
      "syn:maFonction(1,2,[3])."
     ],
     "language": "python",
     "metadata": {},
     "outputs": [
      {
       "html": [
        "5"
       ],
       "metadata": {},
       "output_type": "pyout",
       "prompt_number": 18,
       "text": [
        "5"
       ]
      }
     ],
     "prompt_number": 18
    },
    {
     "cell_type": "code",
     "collapsed": false,
     "input": [
      "syn:maFonction(1,2,[3,4])."
     ],
     "language": "python",
     "metadata": {},
     "outputs": [
      {
       "html": [
        "5"
       ],
       "metadata": {},
       "output_type": "pyout",
       "prompt_number": 19,
       "text": [
        "5"
       ]
      }
     ],
     "prompt_number": 19
    },
    {
     "cell_type": "code",
     "collapsed": false,
     "input": [
      "syn:maFonction(2,2,[3,4])."
     ],
     "language": "python",
     "metadata": {},
     "outputs": [
      {
       "html": [
        "<pre>function_clause</pre>"
       ],
       "metadata": {},
       "output_type": "pyout",
       "prompt_number": 20,
       "text": [
        "function_clause"
       ]
      }
     ]
    },
    {
     "cell_type": "code",
     "collapsed": false,
     "input": [
      "syn:maFonction(1,2,[])."
     ],
     "language": "python",
     "metadata": {},
     "outputs": [
      {
       "html": [
        "<pre>function_clause</pre>"
       ],
       "metadata": {},
       "output_type": "pyout",
       "prompt_number": 21,
       "text": [
        "function_clause"
       ]
      }
     ]
    },
    {
     "cell_type": "markdown",
     "metadata": {},
     "source": [
      "rem. lors de l'appel, les param\u00e8tres d'une fonction sont consid\u00e9r\u00e9s comme les parties droites d'une affectation, ils ne doivent pas comporter de variables sans valeur (m\u00eame pour une partie sans inter\u00eat !))"
     ]
    },
    {
     "cell_type": "code",
     "collapsed": false,
     "input": [
      "syn:maFonction(1,2,[3,B])."
     ],
     "language": "python",
     "metadata": {},
     "outputs": [
      {
       "html": [
        "<pre>{unbound_var,'B'}</pre>"
       ],
       "metadata": {},
       "output_type": "pyout",
       "prompt_number": 18,
       "text": [
        "{unbound_var,'B'}"
       ]
      }
     ]
    },
    {
     "cell_type": "markdown",
     "metadata": {},
     "source": [
      "La **d\u00e9finition par cas** se fait en ajoutant plusieurs r\u00e8gles d'application s\u00e9par\u00e9es par des point-virgules (\u00e0 la fin on garde un point). \n",
      "\n",
      "Remarque, lors de l'\u00e9x\u00e9cution, le premier cas valide/possible seulement sera utilis\u00e9, sur la base de l'unification de la partie gauche (avant la fl\u00e8che). Une fois, une partie gauche unifiable trouv\u00e9e, l'ex\u00e9cution se fera selon ce cas d'application et ce choix ne sera pas remis en cause par la suite. Cela peut sembler naturel, c'est pourtant un autre choix qui est fait dans les langages de la famille ProLog o\u00f9 l'ensemble des cas possibles peuvent \u00eatre \u00e9x\u00e9cut\u00e9s (cela s'appelle le non-d\u00e9terminisme et peut engendre de la redondance dans les solutions propos\u00e9es par un programme (pas de chance), ou permettre une mise en place simple de recherche combinatoire (\u00e7a, c'est mieux))"
     ]
    },
    {
     "cell_type": "code",
     "collapsed": false,
     "input": [
      "-module(syn).\n",
      "-compile(export_all).\n",
      "\n",
      "maFonction(1,X,[A|_L])-> X+A;\n",
      "maFonction(2,X,[A,B|_L])-> X+A+B."
     ],
     "language": "python",
     "metadata": {},
     "outputs": [
      {
       "html": [
        "<pre>Successfully Compiled</pre>"
       ],
       "metadata": {},
       "output_type": "pyout",
       "prompt_number": 30,
       "text": [
        "Successfully Compiled"
       ]
      }
     ],
     "prompt_number": 30
    },
    {
     "cell_type": "code",
     "collapsed": false,
     "input": [
      "syn:maFonction(1,2,[3])."
     ],
     "language": "python",
     "metadata": {},
     "outputs": [
      {
       "html": [
        "5"
       ],
       "metadata": {},
       "output_type": "pyout",
       "prompt_number": 32,
       "text": [
        "5"
       ]
      }
     ],
     "prompt_number": 32
    },
    {
     "cell_type": "code",
     "collapsed": false,
     "input": [
      "syn:maFonction(2,2,[3,4])."
     ],
     "language": "python",
     "metadata": {},
     "outputs": [
      {
       "html": [
        "9"
       ],
       "metadata": {},
       "output_type": "pyout",
       "prompt_number": 35,
       "text": [
        "9"
       ]
      }
     ],
     "prompt_number": 35
    },
    {
     "cell_type": "markdown",
     "metadata": {},
     "source": [
      "Rem. quand il manque un cas d'application, l'ex\u00e9cution n'est pas possible (attention \u00e0 la compl\u00e9tude de vos programmes)."
     ]
    },
    {
     "cell_type": "code",
     "collapsed": false,
     "input": [
      "syn:maFonction(-1,2,[3])."
     ],
     "language": "python",
     "metadata": {},
     "outputs": [
      {
       "html": [
        "<pre>function_clause</pre>"
       ],
       "metadata": {},
       "output_type": "pyout",
       "prompt_number": 36,
       "text": [
        "function_clause"
       ]
      }
     ]
    },
    {
     "cell_type": "markdown",
     "metadata": {},
     "source": [
      "Enfin, la **r\u00e9cursivit\u00e9** ..."
     ]
    },
    {
     "cell_type": "code",
     "collapsed": false,
     "input": [
      "-module(syn).\n",
      "-compile(export_all).\n",
      "\n",
      "maFonction(0,X,_L)-> X;\n",
      "maFonction(N,X,[A|L])-> A+maFonction(N-1,X,L)."
     ],
     "language": "python",
     "metadata": {},
     "outputs": [
      {
       "html": [
        "<pre>Successfully Compiled</pre>"
       ],
       "metadata": {},
       "output_type": "pyout",
       "prompt_number": 1,
       "text": [
        "Successfully Compiled"
       ]
      }
     ],
     "prompt_number": 1
    },
    {
     "cell_type": "code",
     "collapsed": false,
     "input": [
      "syn:maFonction(1,2,[3,4,5])."
     ],
     "language": "python",
     "metadata": {},
     "outputs": [
      {
       "html": [
        "5"
       ],
       "metadata": {},
       "output_type": "pyout",
       "prompt_number": 38,
       "text": [
        "5"
       ]
      }
     ],
     "prompt_number": 38
    },
    {
     "cell_type": "code",
     "collapsed": false,
     "input": [
      "syn:maFonction(3,2,[3,4,5,6])."
     ],
     "language": "python",
     "metadata": {},
     "outputs": [
      {
       "html": [
        "14"
       ],
       "metadata": {},
       "output_type": "pyout",
       "prompt_number": 39,
       "text": [
        "14"
       ]
      }
     ],
     "prompt_number": 39
    },
    {
     "cell_type": "code",
     "collapsed": false,
     "input": [
      "syn:maFonction(6,2,[3,4,5,6])."
     ],
     "language": "python",
     "metadata": {},
     "outputs": []
    },
    {
     "cell_type": "markdown",
     "metadata": {},
     "source": [
      "### Divers\n",
      "Pour la d\u00e9finition par cas, on peut ajouter des **gardes** pour que les r\u00e8gles ne s'appliquent que dans certaines conditions, cela apparait avec le mot cl\u00e9 \"when\" :"
     ]
    },
    {
     "cell_type": "code",
     "collapsed": false,
     "input": [
      "-module(syn).\n",
      "-compile(export_all).\n",
      "\n",
      "maFonction(0,X,_L)-> X;\n",
      "maFonction(N,X,[A|L]) when N>0 -> A+maFonction(N-1,X,L)."
     ],
     "language": "python",
     "metadata": {},
     "outputs": [
      {
       "html": [
        "<pre>Successfully Compiled</pre>"
       ],
       "metadata": {},
       "output_type": "pyout",
       "prompt_number": 8,
       "text": [
        "Successfully Compiled"
       ]
      }
     ],
     "prompt_number": 8
    },
    {
     "cell_type": "code",
     "collapsed": false,
     "input": [
      "syn:maFonction(-1,2,[3,4,5,6])."
     ],
     "language": "python",
     "metadata": {},
     "outputs": [
      {
       "html": [
        "<pre>function_clause</pre>"
       ],
       "metadata": {},
       "output_type": "pyout",
       "prompt_number": 9,
       "text": [
        "function_clause"
       ]
      }
     ]
    },
    {
     "cell_type": "code",
     "collapsed": false,
     "input": [
      "syn:maFonction(4,2,[3,4,5,6])."
     ],
     "language": "python",
     "metadata": {},
     "outputs": [
      {
       "html": [
        "20"
       ],
       "metadata": {},
       "output_type": "pyout",
       "prompt_number": 10,
       "text": [
        "20"
       ]
      }
     ],
     "prompt_number": 10
    },
    {
     "cell_type": "code",
     "collapsed": false,
     "input": [
      "syn:maFonction(5,2,[3,4,5,6])."
     ],
     "language": "python",
     "metadata": {},
     "outputs": [
      {
       "html": [
        "<pre>function_clause</pre>"
       ],
       "metadata": {},
       "output_type": "pyout",
       "prompt_number": 11,
       "text": [
        "function_clause"
       ]
      }
     ]
    },
    {
     "cell_type": "markdown",
     "metadata": {},
     "source": [
      "Enfin, en plus du point virgule qui signifie plus ou moins 'ou', il y a la virgule qui signifie 'et' :"
     ]
    },
    {
     "cell_type": "code",
     "collapsed": false,
     "input": [
      "-module(syn).\n",
      "-compile(export_all).\n",
      "\n",
      "maFonction(0,X,_L)-> X;\n",
      "maFonction(N,X,[A|L]) when N>0 , A > 10 -> \n",
      "  Tmp=1+A,\n",
      "  Tmp+maFonction(N-1,X,L)."
     ],
     "language": "python",
     "metadata": {},
     "outputs": [
      {
       "html": [
        "<pre>Successfully Compiled</pre>"
       ],
       "metadata": {},
       "output_type": "pyout",
       "prompt_number": 12,
       "text": [
        "Successfully Compiled"
       ]
      }
     ],
     "prompt_number": 12
    },
    {
     "cell_type": "code",
     "collapsed": false,
     "input": [
      "syn:maFonction(3,2,[30,40,50])."
     ],
     "language": "python",
     "metadata": {},
     "outputs": [
      {
       "html": [
        "125"
       ],
       "metadata": {},
       "output_type": "pyout",
       "prompt_number": 15,
       "text": [
        "125"
       ]
      }
     ],
     "prompt_number": 15
    },
    {
     "cell_type": "code",
     "collapsed": false,
     "input": [
      "{1,2}."
     ],
     "language": "python",
     "metadata": {},
     "outputs": [
      {
       "html": [
        "<pre>{1,2}</pre>"
       ],
       "metadata": {},
       "output_type": "pyout",
       "prompt_number": 22,
       "text": [
        "{1,2}"
       ]
      }
     ],
     "prompt_number": 22
    },
    {
     "cell_type": "code",
     "collapsed": false,
     "input": [
      "(1,2)."
     ],
     "language": "python",
     "metadata": {},
     "outputs": [
      {
       "html": [
        "<pre>{badmatch,{error,{1,erl_parse,[\"syntax error before: \",\"','\"]}}}</pre>"
       ],
       "metadata": {},
       "output_type": "pyout",
       "prompt_number": 20,
       "text": [
        "{badmatch,{error,{1,erl_parse,[\"syntax error before: \",\"','\"]}}}"
       ]
      }
     ]
    },
    {
     "cell_type": "code",
     "collapsed": false,
     "input": [
      "1,2."
     ],
     "language": "python",
     "metadata": {},
     "outputs": [
      {
       "html": [
        "<pre>{badmatch,{ok,[{integer,1,1},{integer,1,2}]}}</pre>"
       ],
       "metadata": {},
       "output_type": "pyout",
       "prompt_number": 21,
       "text": [
        "{badmatch,{ok,[{integer,1,1},{integer,1,2}]}}"
       ]
      }
     ]
    },
    {
     "cell_type": "markdown",
     "metadata": {},
     "source": [
      "Hors module, on peut aussi d\u00e9finir des **fonctions anonymes** (et dans des versions plus r\u00e9cente de l'interpr\u00e9teur, des fonctions anonymes avec un nom (pour pouvoir faire de la r\u00e9cursivit\u00e9, c'est pratique))."
     ]
    },
    {
     "cell_type": "code",
     "collapsed": false,
     "input": [
      "MonPlus = fun(Arg1,Arg2) -> Arg1+Arg2 end."
     ],
     "language": "python",
     "metadata": {},
     "outputs": [
      {
       "html": [
        "<pre>#Fun<erl_eval.12.80484245></pre>"
       ],
       "metadata": {},
       "output_type": "pyout",
       "prompt_number": 24,
       "text": [
        "#Fun<erl_eval.12.80484245>"
       ]
      }
     ],
     "prompt_number": 24
    },
    {
     "cell_type": "code",
     "collapsed": false,
     "input": [
      "MonPlus."
     ],
     "language": "python",
     "metadata": {},
     "outputs": [
      {
       "html": [
        "<pre>#Fun<erl_eval.12.80484245></pre>"
       ],
       "metadata": {},
       "output_type": "pyout",
       "prompt_number": 25,
       "text": [
        "#Fun<erl_eval.12.80484245>"
       ]
      }
     ],
     "prompt_number": 25
    },
    {
     "cell_type": "code",
     "collapsed": false,
     "input": [
      "MonPlus(5,6)."
     ],
     "language": "python",
     "metadata": {},
     "outputs": [
      {
       "html": [
        "11"
       ],
       "metadata": {},
       "output_type": "pyout",
       "prompt_number": 26,
       "text": [
        "11"
       ]
      }
     ],
     "prompt_number": 26
    },
    {
     "cell_type": "markdown",
     "metadata": {},
     "source": [
      "Enfin, on peut aussi nommer une fonction avec son arit\u00e9 (pour distinguer plusieurs fonctions partageant le m\u00eame nom mais ayant des arit\u00e9s diff\u00e9rentes) :"
     ]
    },
    {
     "cell_type": "code",
     "collapsed": false,
     "input": [
      "fun syn:maFonction/3."
     ],
     "language": "python",
     "metadata": {},
     "outputs": [
      {
       "html": [
        "<pre>#Fun<syn.maFonction.3></pre>"
       ],
       "metadata": {},
       "output_type": "pyout",
       "prompt_number": 1,
       "text": [
        "#Fun<syn.maFonction.3>"
       ]
      }
     ],
     "prompt_number": 1
    },
    {
     "cell_type": "markdown",
     "metadata": {},
     "source": [
      "## Plus tard\n",
      "Il y a d'autres choses dans la syntaxe Erlang, mais on peut s'en passer, sauf deux choses que je vous raconterai plus tard : \n",
      "* la gestion du parall\u00e9lisme (concurrence disent certains, je pr\u00e9f\u00e8re dire collaboration)\n",
      "* la gestion de la communication \n",
      "\n",
      "Mais *plus tard* ..."
     ]
    }
   ],
   "metadata": {}
  }
 ]
}