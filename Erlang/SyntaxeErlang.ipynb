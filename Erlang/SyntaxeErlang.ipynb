{
 "metadata": {
  "name": "",
  "signature": "sha256:7ef50a463418ac74f3df4c321b3d12aa8756bd460ca8ad9abf0ba82029a022f5"
 },
 "nbformat": 3,
 "nbformat_minor": 0,
 "worksheets": [
  {
   "cells": [
    {
     "cell_type": "markdown",
     "metadata": {},
     "source": [
      "# Syntaxe d'Erlang (mini-cours 1/5)\n",
      "## Constantes et Variables\n",
      "Erlang comporte constantes et Variables :\n",
      "* constantes : 10, \"Bien le bonjour\", identifierCommencantParUneMinuscule\n",
      "* Variables : IdentifierCommencantParUneMAJUSCULE, X, AutreVariable\n",
      "\n",
      "Une constante n'est \u00e9gale qu'\u00e0 elle m\u00eame, si elle repr\u00e9sente une valeur, la valeur c'est elle m\u00eame, et elle ne change pas. \n",
      "\n",
      "Une Variable peut prendre n'importe quelle valeur, cela se fait \u00e0 l'aide d'une affectation ou instanciation (implicite, par unification cf. plus loin) ou explicite (afectation rare mais possible) mais une fois que cette instanciation  a \u00e9t\u00e9 faite, cette valeur est fig\u00e9e. Pour changer la valeur associ\u00e9e \u00e0 une Variable, il faut effacer cette valeur explicitement (rare). Erlang appartient \u00e0 cette famille de langages fonntionnels purs dont les Variables sont des Variables \u00e0 instanciation unique.\n",
      "\n",
      "Variables et constantes se diff\u00e9rencient en fonction de leur initiale :\n",
      "* les constantes (symboliques, repr\u00e9sent\u00e9es par un identifier) commencent par une muniscule\n",
      "* les Variables commentent par une majuscule\n"
     ]
    },
    {
     "cell_type": "code",
     "collapsed": false,
     "input": [
      "10."
     ],
     "language": "python",
     "metadata": {},
     "outputs": [
      {
       "html": [
        "10"
       ],
       "metadata": {},
       "output_type": "pyout",
       "prompt_number": 1,
       "text": [
        "10"
       ]
      }
     ],
     "prompt_number": 1
    },
    {
     "cell_type": "code",
     "collapsed": false,
     "input": [
      "\"Bien le bonjour\"."
     ],
     "language": "python",
     "metadata": {},
     "outputs": [
      {
       "html": [
        "<pre>Bien le bonjour</pre>"
       ],
       "metadata": {},
       "output_type": "pyout",
       "prompt_number": 1,
       "text": [
        "Bien le bonjour"
       ]
      }
     ],
     "prompt_number": 1
    },
    {
     "cell_type": "code",
     "collapsed": false,
     "input": [
      "Variable."
     ],
     "language": "python",
     "metadata": {},
     "outputs": [
      {
       "html": [
        "<pre>{unbound_var,'Variable'}</pre>"
       ],
       "metadata": {},
       "output_type": "pyout",
       "prompt_number": 3,
       "text": [
        "{unbound_var,'Variable'}"
       ]
      }
     ]
    },
    {
     "cell_type": "markdown",
     "metadata": {},
     "source": [
      "## Expressions et listes\n",
      "A partir des Variables et constantes, on peut construire des expressions (usuelles avec +, -, *, ...),  des listes avec deux constructeurs ( [PremierElement|FinDeListe] et []) et plein d'autres choses ...\n",
      "\n",
      "Pour les listes, il y a aussi des formes simplifi\u00e9es avec des crochets et des virgules (ex. : [1,2,3])\n",
      "\n",
      "A l'\u00e9valuation, les expressions sont calcul\u00e9es (si possibles)."
     ]
    },
    {
     "cell_type": "code",
     "collapsed": false,
     "input": [
      "(14+9) div 4."
     ],
     "language": "python",
     "metadata": {},
     "outputs": [
      {
       "html": [
        "5"
       ],
       "metadata": {},
       "output_type": "pyout",
       "prompt_number": 2,
       "text": [
        "5"
       ]
      }
     ],
     "prompt_number": 2
    },
    {
     "cell_type": "code",
     "collapsed": false,
     "input": [
      "E=4."
     ],
     "language": "python",
     "metadata": {},
     "outputs": [
      {
       "html": [
        "4"
       ],
       "metadata": {},
       "output_type": "pyout",
       "prompt_number": 3,
       "text": [
        "4"
       ]
      }
     ],
     "prompt_number": 3
    },
    {
     "cell_type": "code",
     "collapsed": false,
     "input": [
      "[1+2,E|[5|[]]]."
     ],
     "language": "python",
     "metadata": {},
     "outputs": [
      {
       "html": [
        "[3, 4, 5]"
       ],
       "metadata": {},
       "output_type": "pyout",
       "prompt_number": 30,
       "text": [
        "[3, 4, 5]"
       ]
      }
     ],
     "prompt_number": 30
    },
    {
     "cell_type": "markdown",
     "metadata": {},
     "source": [
      "## Fonctions\n",
      "Enfin, on peut contruire des fonctions, en utilisant : *unification*, *raisonnement par cas* (avec garde) et *r\u00e9cursivit\u00e9*. Pour le nom des fonctions, choisir une constante (un nom commen\u00e7ant par une minuscule).\n",
      "\n",
      "Pour l'**unification**, cela concerne la d\u00e9finition de la forme ou de la valeur attendue des param\u00e8tres :"
     ]
    },
    {
     "cell_type": "code",
     "collapsed": false,
     "input": [
      "-module(syn).\n",
      "-compile(export_all).\n",
      "\n",
      "maFonction(1,X,[A|_L])-> 1+X+A."
     ],
     "language": "python",
     "metadata": {},
     "outputs": [
      {
       "html": [
        "<pre>Successfully Compiled</pre>"
       ],
       "metadata": {},
       "output_type": "pyout",
       "prompt_number": 24,
       "text": [
        "Successfully Compiled"
       ]
      }
     ],
     "prompt_number": 24
    },
    {
     "cell_type": "markdown",
     "metadata": {},
     "source": [
      "ici, le premier param\u00e8tre doit valoir 1 pour que la fonction s'applique, le second param\u00e8tre peut \u00eatre quelconque (mais comme ensuite il faudra faire une addition, il vaut mieux mettre un nombre). Le dernier param\u00e8tre doit \u00eatre une liste avec au moins 1 \u00e9l\u00e9ments A (L peut \u00eatre vide, \u00e0 part le fait que L doit \u00eatre une liste, sinon la forme [...|.] n'a pas beaucoup de sens, L peut \u00eatre quelconque)."
     ]
    },
    {
     "cell_type": "code",
     "collapsed": false,
     "input": [
      "syn:maFonction(1,2,[3])."
     ],
     "language": "python",
     "metadata": {},
     "outputs": [
      {
       "html": [
        "6"
       ],
       "metadata": {},
       "output_type": "pyout",
       "prompt_number": 46,
       "text": [
        "6"
       ]
      }
     ],
     "prompt_number": 46
    },
    {
     "cell_type": "markdown",
     "metadata": {},
     "source": [
      "La **d\u00e9finition par cas** se fait en ajoutant plusieurs r\u00e8gles d'application s\u00e9par\u00e9es par des point-virgules (\u00e0 la fin on garde un point)."
     ]
    },
    {
     "cell_type": "code",
     "collapsed": false,
     "input": [
      "-module(syn).\n",
      "-compile(export_all).\n",
      "\n",
      "maFonction(1,X,[A|_L])-> 1+X+A;\n",
      "maFonction(2,X,[A,B|_L])-> 2+X+A+B."
     ],
     "language": "python",
     "metadata": {},
     "outputs": [
      {
       "html": [
        "<pre>Successfully Compiled</pre>"
       ],
       "metadata": {},
       "output_type": "pyout",
       "prompt_number": 26,
       "text": [
        "Successfully Compiled"
       ]
      }
     ],
     "prompt_number": 26
    },
    {
     "cell_type": "code",
     "collapsed": false,
     "input": [
      "syn:maFonction(2,2,[3,4])."
     ],
     "language": "python",
     "metadata": {},
     "outputs": [
      {
       "html": [
        "11"
       ],
       "metadata": {},
       "output_type": "pyout",
       "prompt_number": 27,
       "text": [
        "11"
       ]
      }
     ],
     "prompt_number": 27
    },
    {
     "cell_type": "markdown",
     "metadata": {},
     "source": [
      "Enfin, la **r\u00e9cursivit\u00e9** ..."
     ]
    },
    {
     "cell_type": "code",
     "collapsed": false,
     "input": [
      "-module(syn).\n",
      "-compile(export_all).\n",
      "\n",
      "maFonction(0,X,_L)-> X;\n",
      "maFonction(N,X,[A|L])-> 1+A+maFonction(N-1,X,L)."
     ],
     "language": "python",
     "metadata": {},
     "outputs": [
      {
       "html": [
        "<pre>Successfully Compiled</pre>"
       ],
       "metadata": {},
       "output_type": "pyout",
       "prompt_number": 28,
       "text": [
        "Successfully Compiled"
       ]
      }
     ],
     "prompt_number": 28
    },
    {
     "cell_type": "code",
     "collapsed": false,
     "input": [
      "syn:maFonction(3,2,[3,4,5])."
     ],
     "language": "python",
     "metadata": {},
     "outputs": [
      {
       "html": [
        "17"
       ],
       "metadata": {},
       "output_type": "pyout",
       "prompt_number": 38,
       "text": [
        "17"
       ]
      }
     ],
     "prompt_number": 38
    },
    {
     "cell_type": "markdown",
     "metadata": {},
     "source": [
      "### Divers\n",
      "Pour la d\u00e9finition par cas, on peut ajouter des **gardes** pour que les r\u00e8gles ne s'appliquent que dans certaines conditions, cela apparait avec le mot cl\u00e9 \"when\" :"
     ]
    },
    {
     "cell_type": "code",
     "collapsed": false,
     "input": [
      "-module(syn).\n",
      "-compile(export_all).\n",
      "\n",
      "maFonction(0,X,_L)-> X;\n",
      "maFonction(N,X,[A|L]) when N>0 -> 1+A+maFonction(N-1,X,L)."
     ],
     "language": "python",
     "metadata": {},
     "outputs": [
      {
       "html": [
        "<pre>Successfully Compiled</pre>"
       ],
       "metadata": {},
       "output_type": "pyout",
       "prompt_number": 39,
       "text": [
        "Successfully Compiled"
       ]
      }
     ],
     "prompt_number": 39
    },
    {
     "cell_type": "markdown",
     "metadata": {},
     "source": [
      "Enfin, en plus du point virgule qui signifie plus ou moins 'ou', il y a la virgule qui signifie 'et' :"
     ]
    },
    {
     "cell_type": "code",
     "collapsed": false,
     "input": [
      "-module(syn).\n",
      "-compile(export_all).\n",
      "\n",
      "maFonction(0,X,_L)-> X;\n",
      "maFonction(N,X,[A|L]) when N>0 -> \n",
      "  Tmp=1+A,\n",
      "  Tmp+maFonction(N-1,X,L)."
     ],
     "language": "python",
     "metadata": {},
     "outputs": [
      {
       "html": [
        "<pre>Successfully Compiled</pre>"
       ],
       "metadata": {},
       "output_type": "pyout",
       "prompt_number": 42,
       "text": [
        "Successfully Compiled"
       ]
      }
     ],
     "prompt_number": 42
    },
    {
     "cell_type": "code",
     "collapsed": false,
     "input": [
      "syn:maFonction(3,2,[3,4,5])."
     ],
     "language": "python",
     "metadata": {},
     "outputs": [
      {
       "html": [
        "17"
       ],
       "metadata": {},
       "output_type": "pyout",
       "prompt_number": 43,
       "text": [
        "17"
       ]
      }
     ],
     "prompt_number": 43
    },
    {
     "cell_type": "markdown",
     "metadata": {},
     "source": [
      "## Plus tard\n",
      "Il y a d'autres choses dans la syntaxe Erlang, mais on peut s'en passer, sauf deux choses que je vous raconterais plus tard : \n",
      "* la gestion du parall\u00e9lisme (concurrence disent certains, je pr\u00e9f\u00e8re dire collaboration)\n",
      "* la gestion de la communication \n",
      "\n",
      "Mais *plus tard* ..."
     ]
    }
   ],
   "metadata": {}
  }
 ]
}