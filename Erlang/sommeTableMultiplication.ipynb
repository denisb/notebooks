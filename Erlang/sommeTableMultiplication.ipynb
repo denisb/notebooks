{
 "metadata": {
  "name": "",
  "signature": "sha256:ca7c7b9977c856740b0208e27b2e2d450dbe57c454d2161cf4e0a4c04d11a73e"
 },
 "nbformat": 3,
 "nbformat_minor": 0,
 "worksheets": [
  {
   "cells": [
    {
     "cell_type": "markdown",
     "metadata": {},
     "source": [
      "# Somme des \u00e9l\u00e9ments d'une table de multiplication\n",
      "\n",
      "Il s'agit de produire les i*j pour i, j allant de 0 \u00e0 10 (ou plus), comme dans une table de multiplication, puis de faire leur somme.\n",
      "\n",
      "## Solution s\u00e9quentielle\n",
      "\n",
      "### Somme sur une ligne\n",
      "On commence par effectuer la somme des produits d'une ligne"
     ]
    },
    {
     "cell_type": "code",
     "collapsed": false,
     "input": [
      "-module(tdm).\n",
      "-compile(export_all).\n",
      "\n",
      "sommeLigne(0,_I)->0;\n",
      "sommeLigne(N,I)->\n",
      "  N*I+sommeLigne(N-1,I)."
     ],
     "language": "python",
     "metadata": {},
     "outputs": [
      {
       "html": [
        "<pre>Successfully Compiled</pre>"
       ],
       "metadata": {},
       "output_type": "pyout",
       "prompt_number": 1,
       "text": [
        "Successfully Compiled"
       ]
      }
     ],
     "prompt_number": 1
    },
    {
     "cell_type": "markdown",
     "metadata": {},
     "source": [
      "exemple pour la somme des multiples de 3 :"
     ]
    },
    {
     "cell_type": "code",
     "collapsed": false,
     "input": [
      "tdm:sommeLigne(10,3)."
     ],
     "language": "python",
     "metadata": {},
     "outputs": [
      {
       "html": [
        "165"
       ],
       "metadata": {},
       "output_type": "pyout",
       "prompt_number": 2,
       "text": [
        "165"
       ]
      }
     ],
     "prompt_number": 2
    },
    {
     "cell_type": "markdown",
     "metadata": {},
     "source": [
      "### Somme de l'ensemble du tableau\n",
      "\n",
      "On it\u00e8re sur l'ensemble des lignes"
     ]
    },
    {
     "cell_type": "code",
     "collapsed": false,
     "input": [
      "-module(tdm).\n",
      "-compile(export_all).\n",
      "\n",
      "sommeLigne(0,_I)->0;\n",
      "sommeLigne(N,I)->\n",
      "  N*I+sommeLigne(N-1,I).\n",
      "  \n",
      "sommeDesLignes(N,Debut,Debut)-> \n",
      "  sommeLigne(N,Debut);\n",
      "sommeDesLignes(N,Debut,Fin)->\n",
      "  sommeLigne(N,Debut)+sommeDesLignes(N,Debut+1,Fin).\n",
      "\n",
      "sommeTable(N)->\n",
      "  sommeDesLignes(N,0,N)."
     ],
     "language": "python",
     "metadata": {},
     "outputs": [
      {
       "html": [
        "<pre>Successfully Compiled</pre>"
       ],
       "metadata": {},
       "output_type": "pyout",
       "prompt_number": 1,
       "text": [
        "Successfully Compiled"
       ]
      }
     ],
     "prompt_number": 1
    },
    {
     "cell_type": "markdown",
     "metadata": {},
     "source": [
      "exemple pour la table de 0..10 x 0..10 :"
     ]
    },
    {
     "cell_type": "code",
     "collapsed": false,
     "input": [
      "tdm:sommeTable(10)."
     ],
     "language": "python",
     "metadata": {},
     "outputs": [
      {
       "html": [
        "3025"
       ],
       "metadata": {},
       "output_type": "pyout",
       "prompt_number": 2,
       "text": [
        "3025"
       ]
      }
     ],
     "prompt_number": 2
    },
    {
     "cell_type": "markdown",
     "metadata": {},
     "source": [
      "## Version parall\u00e8le\n",
      "\n",
      "### Version avec 2 processus\n",
      "L'un des processus fait les premi\u00e8res lignes, l'autre les suivantes :"
     ]
    },
    {
     "cell_type": "code",
     "collapsed": false,
     "input": [
      "-module(tdm).\n",
      "-compile(export_all).\n",
      "\n",
      "sommeLigne(0,_I)->0;\n",
      "sommeLigne(N,I)->\n",
      "  N*I+sommeLigne(N-1,I).\n",
      "  \n",
      "sommeTable(N)->\n",
      "  sommeDesLignes(N,0,N).\n",
      "  \n",
      "sommeDesLignes(N,Debut,Debut)-> \n",
      "  sommeLigne(N,Debut);\n",
      "sommeDesLignes(N,Debut,Fin)->\n",
      "  sommeLigne(N,Debut)+sommeDesLignes(N,Debut+1,Fin).\n",
      " \n",
      "procSommeDesLignes(N,Debut,Fin,Proc) ->\n",
      "  Proc ! sommeDesLignes(N,Debut,Fin).\n",
      "\n",
      "pingPong(N)->\n",
      "  spawn(tdm,procSommeDesLignes,[N,0,N div 2,self()]),\n",
      "  spawn(tdm,procSommeDesLignes,[N,N div 2+1,N,self()]),\n",
      "  receive S1 ->\n",
      "    receive S2 -> S1+S2 end end.  "
     ],
     "language": "python",
     "metadata": {},
     "outputs": [
      {
       "html": [
        "<pre>Successfully Compiled</pre>"
       ],
       "metadata": {},
       "output_type": "pyout",
       "prompt_number": 3,
       "text": [
        "Successfully Compiled"
       ]
      }
     ],
     "prompt_number": 3
    },
    {
     "cell_type": "markdown",
     "metadata": {},
     "source": [
      "exemple de calcul pour 10"
     ]
    },
    {
     "cell_type": "code",
     "collapsed": false,
     "input": [
      "tdm:pingPong(10)."
     ],
     "language": "python",
     "metadata": {},
     "outputs": [
      {
       "html": [
        "3025"
       ],
       "metadata": {},
       "output_type": "pyout",
       "prompt_number": 4,
       "text": [
        "3025"
       ]
      }
     ],
     "prompt_number": 4
    },
    {
     "cell_type": "markdown",
     "metadata": {},
     "source": [
      "exemple de calcul pour 20"
     ]
    },
    {
     "cell_type": "code",
     "collapsed": false,
     "input": [
      "tdm:pingPong(20)."
     ],
     "language": "python",
     "metadata": {},
     "outputs": [
      {
       "html": [
        "44100"
       ],
       "metadata": {},
       "output_type": "pyout",
       "prompt_number": 5,
       "text": [
        "44100"
       ]
      }
     ],
     "prompt_number": 5
    },
    {
     "cell_type": "markdown",
     "metadata": {},
     "source": [
      "### Version avec plus de processus\n",
      "\n",
      "On prendra Q processus pour calculer la somme des \u00e9l\u00e9ments d'une table NxN (avec Q qui divise N)"
     ]
    },
    {
     "cell_type": "code",
     "collapsed": false,
     "input": [
      "-module(tdm).\n",
      "-compile(export_all).\n",
      "\n",
      "sommeLigne(0,_I)->0;\n",
      "sommeLigne(N,I)->\n",
      "  N*I+sommeLigne(N-1,I).\n",
      "  \n",
      "sommeTable(N)->\n",
      "  sommeDesLignes(N,0,N).\n",
      "  \n",
      "sommeDesLignes(N,Debut,Debut)-> \n",
      "  sommeLigne(N,Debut);\n",
      "sommeDesLignes(N,Debut,Fin)->\n",
      "  sommeLigne(N,Debut)+sommeDesLignes(N,Debut+1,Fin).\n",
      "\n",
      "procSommeDesLignes(N,Debut,Fin,Proc) ->\n",
      "  Proc ! sommeDesLignes(N,Debut,Fin).\n",
      "  \n",
      "consommations(0) -> 0;\n",
      "consommations(K) -> \n",
      "  receive S -> S + consommations(K-1) end.\n",
      "  \n",
      "genereProducteurs(_N,_NdivK,0,_LeConsommateur) -> done;\n",
      "genereProducteurs(N,NdivK,K,LeConsommateur) ->\n",
      "  spawn(tdm,procSommeDesLignes,[N,(K-1)*NdivK+1,K*NdivK,LeConsommateur]),\n",
      "  genereProducteurs(N,NdivK,K-1,LeConsommateur).\n",
      "  \n",
      "kProc(N,K) ->\n",
      "  genereProducteurs(N,N div K,K,self()),\n",
      "  consommations(K)."
     ],
     "language": "python",
     "metadata": {},
     "outputs": [
      {
       "html": [
        "<pre>Successfully Compiled</pre>"
       ],
       "metadata": {},
       "output_type": "pyout",
       "prompt_number": 7,
       "text": [
        "Successfully Compiled"
       ]
      }
     ],
     "prompt_number": 7
    },
    {
     "cell_type": "markdown",
     "metadata": {},
     "source": [
      "exemple avec 2 processus pour une table 20*20"
     ]
    },
    {
     "cell_type": "code",
     "collapsed": false,
     "input": [
      "tdm:kProc(20,2)."
     ],
     "language": "python",
     "metadata": {},
     "outputs": [
      {
       "html": [
        "44100"
       ],
       "metadata": {},
       "output_type": "pyout",
       "prompt_number": 8,
       "text": [
        "44100"
       ]
      }
     ],
     "prompt_number": 8
    },
    {
     "cell_type": "markdown",
     "metadata": {},
     "source": [
      "exemple avec 4 processus pour une table 20*20"
     ]
    },
    {
     "cell_type": "code",
     "collapsed": false,
     "input": [
      "tdm:kProc(20,4)."
     ],
     "language": "python",
     "metadata": {},
     "outputs": [
      {
       "html": [
        "44100"
       ],
       "metadata": {},
       "output_type": "pyout",
       "prompt_number": 10,
       "text": [
        "44100"
       ]
      }
     ],
     "prompt_number": 10
    },
    {
     "cell_type": "markdown",
     "metadata": {},
     "source": [
      "exemple avec 5 processus pour une table 20*20"
     ]
    },
    {
     "cell_type": "code",
     "collapsed": false,
     "input": [
      "tdm:kProc(20,5)."
     ],
     "language": "python",
     "metadata": {},
     "outputs": [
      {
       "html": [
        "44100"
       ],
       "metadata": {},
       "output_type": "pyout",
       "prompt_number": 11,
       "text": [
        "44100"
       ]
      }
     ],
     "prompt_number": 11
    },
    {
     "cell_type": "markdown",
     "metadata": {},
     "source": [
      "fin."
     ]
    }
   ],
   "metadata": {}
  }
 ]
}