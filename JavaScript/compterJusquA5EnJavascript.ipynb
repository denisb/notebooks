{
 "cells": [
  {
   "cell_type": "markdown",
   "id": "6b1f3928",
   "metadata": {
    "toc": true
   },
   "source": [
    "<h1>Table of Contents<span class=\"tocSkip\"></span></h1>\n",
    "<div class=\"toc\"><ul class=\"toc-item\"><li><span><a href=\"#Vous-savez-compter-sur-vos-doigts-?\" data-toc-modified-id=\"Vous-savez-compter-sur-vos-doigts-?-1\"><span class=\"toc-item-num\">1&nbsp;&nbsp;</span>Vous savez compter sur vos doigts ?</a></span></li><li><span><a href=\"#Dans-le-desordre-?\" data-toc-modified-id=\"Dans-le-desordre-?-2\"><span class=\"toc-item-num\">2&nbsp;&nbsp;</span>Dans le desordre ?</a></span></li><li><span><a href=\"#Attente-active\" data-toc-modified-id=\"Attente-active-3\"><span class=\"toc-item-num\">3&nbsp;&nbsp;</span>Attente active</a></span></li><li><span><a href=\"#Partager-?\" data-toc-modified-id=\"Partager-?-4\"><span class=\"toc-item-num\">4&nbsp;&nbsp;</span>Partager ?</a></span></li><li><span><a href=\"#Des-textes-?\" data-toc-modified-id=\"Des-textes-?-5\"><span class=\"toc-item-num\">5&nbsp;&nbsp;</span>Des textes ?</a></span></li><li><span><a href=\"#Variable-intermédiaire\" data-toc-modified-id=\"Variable-intermédiaire-6\"><span class=\"toc-item-num\">6&nbsp;&nbsp;</span>Variable intermédiaire</a></span></li><li><span><a href=\"#Solution-?\" data-toc-modified-id=\"Solution-?-7\"><span class=\"toc-item-num\">7&nbsp;&nbsp;</span>Solution ?</a></span></li><li><span><a href=\"#Conclusion\" data-toc-modified-id=\"Conclusion-8\"><span class=\"toc-item-num\">8&nbsp;&nbsp;</span>Conclusion</a></span></li></ul></div>"
   ]
  },
  {
   "cell_type": "markdown",
   "id": "5faf8749",
   "metadata": {},
   "source": [
    "*(lire, réfléchir et exécuter les cellules au fur et à mesure, et plutôt dans cet ordre : si vous exécutez les cellules avant de lire les textes [et les codes] et avant aussi de réfléchir, le résultat sera très probablement moins intéressant.  \n",
    "N.B. : pour exécuter une cellule, utiliser le bouton/menu en haut, ou Ctrl-Entrée avec le curseur dans la cellule. Attention à ne pas lancer l'exécution de toutes les celulles en même temps (sinon, lire ce qui précède)  \n",
    "**N.B. (2)** : pour éviter de voir les résultats des exécutions précédente, **commencer par effacer tous les résultats d'exécution** : menu Modifier/Supprimer tous les éléments de sortie ou menu Cell/All Output/Clear)*\n",
    "\n",
    "## Vous savez compter sur vos doigts ?\n",
    "\n",
    "Moi aussi :"
   ]
  },
  {
   "cell_type": "code",
   "execution_count": null,
   "id": "b21abd48",
   "metadata": {
    "ExecuteTime": {
     "end_time": "2022-06-09T09:40:27.809611Z",
     "start_time": "2022-06-09T09:40:27.803119Z"
    }
   },
   "outputs": [],
   "source": [
    "%%writefile script01_Séquentiel.js\n",
    "console.log(\"Je compte sur mes doigts.\")\n",
    "for(i=1;i<=5;i++) {\n",
    "    console.log(i);}\n",
    "console.log(\"C'est fini !\")"
   ]
  },
  {
   "cell_type": "markdown",
   "id": "4d0e0aed",
   "metadata": {},
   "source": [
    "L'exécution est immédiate (réfléchir 2s avant de l'exécuter pour prévoir le résultat/l'affichage) :"
   ]
  },
  {
   "cell_type": "code",
   "execution_count": null,
   "id": "a4480b9f",
   "metadata": {
    "ExecuteTime": {
     "end_time": "2022-06-09T09:42:21.838160Z",
     "start_time": "2022-06-09T09:42:21.032913Z"
    }
   },
   "outputs": [],
   "source": [
    "%%sh \n",
    "node script01_Séquentiel.js"
   ]
  },
  {
   "cell_type": "markdown",
   "id": "bae5de17",
   "metadata": {},
   "source": [
    "## Dans le desordre ?\n",
    "\n",
    "Mais je voudrais que les affichages soient dans le désordre. Par exemple, cela pourrait servir à un tirage aléatoire, la dernière valeur affichée serait la valeur tirée. Ce n'est pas très important, mais c'est plus marrant comme ça.\n",
    "\n",
    "Ma première idée est simple, on décale l'affichage d'un temps aléatoire. Pour cela on utilise un timer javascript qui retarde l'exécution d'un code le temps que l'on veut [temps donné en milliseconde en second argument] :"
   ]
  },
  {
   "cell_type": "code",
   "execution_count": null,
   "id": "7cbfac6a",
   "metadata": {
    "ExecuteTime": {
     "end_time": "2022-06-09T09:53:53.679892Z",
     "start_time": "2022-06-09T09:53:53.673161Z"
    }
   },
   "outputs": [],
   "source": [
    "%%writefile script02_Asynchrone.js\n",
    "for(i=1;i<=5;i++) {\n",
    "    setTimeout(function() {console.log(i);}, 1000+Math.random()*1000);}\n",
    "console.log(\"C'est fini !\")"
   ]
  },
  {
   "cell_type": "markdown",
   "id": "c5550307",
   "metadata": {},
   "source": [
    "Comme tout à l'heure, avant d'exécuter le code suivant, prévoir ce qu'il va donner. Alors forcément, comme il y a de l'aléatoire, la prévision sera plus difficile, et même, d'une exécution à l'autre, elle risque de donner des résultats différents, mais essayer quand même de prévoir la forme de ce que cela va donner, un exemple de ce que cela peut donner. Et si vous lancez plusieurs exécutions, vous pouvez avoir une chance d'observer exactement ce que vous aviez prévu.  \n",
    "Rem. : comme 5! = 120, c'est beaucoup ; si vous voulez réduire à moins d'aléatoire, changer le code pour compter jusqu'à 2 seulement à la place de 5  (ne pas oublier de ré-exécuter la cellule pour effectivement changer le fichier) et faite plusieurs tests pour espérer tomber de temps en temps [en moyenne 1 fois sur 2 si vous ne comptez que jusqu'à 2 ?] sur votre prévision).  \n",
    "Rem. 2. : si vous trouvez que c'est un peu trop lent, vous pouvez aussi réduire les temps d'attente aléatoire (mais pas trop)."
   ]
  },
  {
   "cell_type": "code",
   "execution_count": null,
   "id": "b6984c8a",
   "metadata": {
    "ExecuteTime": {
     "end_time": "2022-06-09T09:53:58.837339Z",
     "start_time": "2022-06-09T09:53:56.191539Z"
    }
   },
   "outputs": [],
   "source": [
    "%%sh \n",
    "node script02_Asynchrone.js"
   ]
  },
  {
   "cell_type": "markdown",
   "id": "31e675ca",
   "metadata": {},
   "source": [
    "Alors ?  \n",
    "Moi, de mon côté, je vois bien l'affichage avec un temps aléatoire, mais pas le caractère aléatoire du résultat ! Vous aussi ?\n",
    "\n",
    "Mais Pourquoi ?\n",
    "\n",
    "\n",
    "Une idée d'explication ? c'est peut-être que la boucle se termine trop tôt (elle se termine probablement effectivement très vite) et que les valeurs affichées avec un retard (1s et plus) dépendent de la valeur de fin de la boucle au lieu de la valeur demandée au départ.  \n",
    "\n",
    "## Attente active\n",
    "Je vais essayer de retarder artificiellement le temps d'exécution de la boucle. Malheureusement, il n'y a pas de fonction sleep en javascript. J'ajoute donc une attente active qui boucle sur elle même le temps qu'il faut (pour que le temps passe, 1s et un plus)"
   ]
  },
  {
   "cell_type": "code",
   "execution_count": null,
   "id": "31ee5ee3",
   "metadata": {
    "ExecuteTime": {
     "end_time": "2022-06-09T11:18:49.788665Z",
     "start_time": "2022-06-09T11:18:49.782735Z"
    }
   },
   "outputs": [],
   "source": [
    "%%writefile script03_AttenteActive.js\n",
    "for(i=1;i<=5;i++) {\n",
    "    delai = Math.random()*1000\n",
    "    for(debut=Date.now();Date.now()<(debut+1000+delai);) {;} //attente active\n",
    "    setTimeout(function() {console.log(i);}, 1000+delai);}\n",
    "console.log(\"fin\")"
   ]
  },
  {
   "cell_type": "code",
   "execution_count": null,
   "id": "c0cd6e0d",
   "metadata": {},
   "outputs": [],
   "source": [
    "%%sh \n",
    "node script03_AttenteActive.js"
   ]
  },
  {
   "cell_type": "markdown",
   "id": "e5fddf36",
   "metadata": {},
   "source": [
    "C'est pire.  \n",
    "Non ?  \n",
    "(le temps d'exécution global est pire !)\n",
    "\n",
    "## Partager ?\n",
    "C'est peut-être parce que la boucle ne laisse pas le temps aux affichages (tous les affichages attendent la fin de la boucle). Je vais donc interrompre l'exécution de la boucle pour que le temps d'exécution global puisse être partagé avec le temps d'exécution des affichages. \n",
    "\n",
    "Ce n'est pas si simple (interrompre un flux d'exécution et le reprendre plus tard), sauf si c'est prévu (sleep), entre les deux, il faut conserver l'environnement (les variables) et il ne s'agit pas juste de dire, stop et reprends plus tard, il faut dire, stop et reprend plus tard avec les valeurs suivantes de la boucle. Il faut transporter l'environnement dans le futur. Pour reprendre plus tard, par contre, c'est simple, c'est comme exécutee plus tard, c'est un timer. On peut même indiquer un temps d'attente nul avant la reprise.\n",
    "\n",
    "Pour arriver à faire cela, je transforme un peu la boucle en une suite d'exécution à suivre (autant que de tour de boucle), quelque part cela s'apparente à une réécriture récursive de la boucle :"
   ]
  },
  {
   "cell_type": "code",
   "execution_count": null,
   "id": "d53a9358",
   "metadata": {
    "ExecuteTime": {
     "end_time": "2022-06-09T11:39:15.857512Z",
     "start_time": "2022-06-09T11:39:15.850902Z"
    }
   },
   "outputs": [],
   "source": [
    "%%writefile script04_AsynchroneCollaboratif.js\n",
    "function ffoorr(i,n) {\n",
    "  if (i<=n) {setTimeout(function() {console.log(i);}, 1000+Math.random()*1000);}\n",
    "  if (i<=n) {setTimeout(function() {ffoorr(i+1,n);},  0);}} // dès que possible lance la suite\n",
    "ffoorr(1,5);\n",
    "console.log(\"fin\")"
   ]
  },
  {
   "cell_type": "code",
   "execution_count": null,
   "id": "549cff96",
   "metadata": {
    "ExecuteTime": {
     "end_time": "2022-06-09T11:39:20.476524Z",
     "start_time": "2022-06-09T11:39:17.958765Z"
    }
   },
   "outputs": [],
   "source": [
    "%%sh \n",
    "node script04_AsynchroneCollaboratif.js"
   ]
  },
  {
   "cell_type": "markdown",
   "id": "e1785ad7",
   "metadata": {},
   "source": [
    "Cela marche !\n",
    "\n",
    "J'espère que cela convaincra ceux qui ont peur de la récursivité que c'est utile !\n",
    "\n",
    "## Des textes ?\n",
    "Mais c'est un peu compliqué (la récursivité), alors j'ai une autre idée, en gardant le programme de départ asynchrone sans partage : essayer de construire un texte avec ce qui est à afficher (au lieu de reposer sur une variable qui évolue). Comme les textes sont des constantes (en général), et que les changements de textes ne se passent pas sur place (en général) la référence au texte évolue au cours du temps et ce seront des adresses différentes qui seront passées à la fonction d'affichage (alors que pour la variable i, il est probable que ce soit toujours la même référence qui soit utilisée, d'où l'explication possible du problème)."
   ]
  },
  {
   "cell_type": "code",
   "execution_count": null,
   "id": "61ce22af",
   "metadata": {
    "ExecuteTime": {
     "end_time": "2022-06-09T11:46:00.516651Z",
     "start_time": "2022-06-09T11:46:00.508425Z"
    }
   },
   "outputs": [],
   "source": [
    "%%writefile script05_TexteAffiché.js\n",
    "for(i=1;i<=5;i++) {\n",
    "    txt=\" \"+i; // pour forcer le texte avec le bon affichage\n",
    "    setTimeout(function() {console.log(txt);}, 1000+Math.random()*1000);}\n",
    "console.log(\"fin\")"
   ]
  },
  {
   "cell_type": "code",
   "execution_count": null,
   "id": "a201264c",
   "metadata": {
    "ExecuteTime": {
     "end_time": "2022-06-09T11:46:05.809154Z",
     "start_time": "2022-06-09T11:46:03.050245Z"
    }
   },
   "outputs": [],
   "source": [
    "%%sh \n",
    "node script05_TexteAffiché.js"
   ]
  },
  {
   "cell_type": "markdown",
   "id": "a9b14775",
   "metadata": {},
   "source": [
    "Alors ?\n",
    "\n",
    "Et si on construit le texte de ce qui est à faire (le code), c'est pareil ?"
   ]
  },
  {
   "cell_type": "code",
   "execution_count": null,
   "id": "15de14bf",
   "metadata": {
    "ExecuteTime": {
     "end_time": "2022-06-09T11:47:37.456694Z",
     "start_time": "2022-06-09T11:47:37.450376Z"
    }
   },
   "outputs": [],
   "source": [
    "%%writefile script05_TexteCode.js\n",
    "for(i=1;i<=5;i++) {\n",
    "    eval(\"setTimeout(function() {console.log(\"+i+\");}, 1000+Math.random()*1000);\");}\n",
    "console.log(\"fin\")"
   ]
  },
  {
   "cell_type": "code",
   "execution_count": null,
   "id": "91fa2b2a",
   "metadata": {
    "ExecuteTime": {
     "end_time": "2022-06-09T11:47:41.782141Z",
     "start_time": "2022-06-09T11:47:39.432239Z"
    }
   },
   "outputs": [],
   "source": [
    "%%sh \n",
    "node script05_TexteCode.js"
   ]
  },
  {
   "cell_type": "markdown",
   "id": "be308f46",
   "metadata": {},
   "source": [
    "Alors ?  \n",
    "Mais ce n'est pas complètement naturel, ni simple (et on évite eval en général).\n",
    "\n",
    "## Variable intermédiaire\n",
    "J'ai une autre idée (merci internet) : introduire une variable intermédiaire (en ajoutant un couche de fonction, pour que l'affichage ne se déroule pas sur la variable initiale, mais sur une variable intermédiaire [celle de la fonction créée à la volée])"
   ]
  },
  {
   "cell_type": "code",
   "execution_count": null,
   "id": "ed40eb92",
   "metadata": {
    "ExecuteTime": {
     "end_time": "2022-05-24T15:02:53.592056Z",
     "start_time": "2022-05-24T15:02:53.129Z"
    }
   },
   "outputs": [],
   "source": [
    "%%writefile script06_Fonction.js\n",
    "for(i=1;i<=5;i++) {\n",
    "    setTimeout((function(x) {return function () {console.log(x);}})(i), 1000+Math.random()*1000);}\n",
    "console.log(\"fin\")"
   ]
  },
  {
   "cell_type": "code",
   "execution_count": null,
   "id": "4f57357d",
   "metadata": {},
   "outputs": [],
   "source": [
    "%%sh \n",
    "node script06_Fonction.js"
   ]
  },
  {
   "cell_type": "markdown",
   "id": "04881828",
   "metadata": {},
   "source": [
    "Alors ? (mais cette fonction de fonction dans une fonction de fonction, ce n'est pas évident)\n",
    "\n",
    "Peut-être en changeant de variableen prenant une variable relai on peut avoir le même résultat, plus simple :"
   ]
  },
  {
   "cell_type": "code",
   "execution_count": null,
   "id": "77a5b067",
   "metadata": {
    "ExecuteTime": {
     "end_time": "2022-05-24T14:15:05.365306Z",
     "start_time": "2022-05-24T14:15:04.687Z"
    }
   },
   "outputs": [],
   "source": [
    "%%writefile script06_Relai.js\n",
    "for(i=1;i<=5;i++) {\n",
    "    k=i;\n",
    "    setTimeout(function () {console.log(k);}, 1000+Math.random()*1000);}\n",
    "console.log(\"C'est fini !\")"
   ]
  },
  {
   "cell_type": "code",
   "execution_count": null,
   "id": "7aeeb343",
   "metadata": {},
   "outputs": [],
   "source": [
    "%%sh \n",
    "node script06_Relai.js"
   ]
  },
  {
   "cell_type": "markdown",
   "id": "0847a17e",
   "metadata": {},
   "source": [
    "Et si on précisait le type de cette variable relai pour qu'elle soit locale ? En javascript, par défaut, les variables sont plutôt globales (on peut même utiliser var pour le préciser). Pour une variable local, il faut utiliser let (loc cela aurait été peut-être plus clair). Et si on veut tester, il y aussi les variables constantes."
   ]
  },
  {
   "cell_type": "code",
   "execution_count": null,
   "id": "146beb0a",
   "metadata": {
    "ExecuteTime": {
     "end_time": "2022-05-24T15:07:12.513785Z",
     "start_time": "2022-05-24T15:07:12.043Z"
    }
   },
   "outputs": [],
   "source": [
    "%%writefile script06_RelaiVar.js\n",
    "for(i=1;i<=5;i++) {\n",
    "    var k=i;\n",
    "    setTimeout(function () {console.log(k);}, 1000+Math.random()*1000);}\n",
    "console.log(\"C'est fini !\")"
   ]
  },
  {
   "cell_type": "code",
   "execution_count": null,
   "id": "73d49424",
   "metadata": {},
   "outputs": [],
   "source": [
    "%%sh \n",
    "node script06_RelaiVar.js"
   ]
  },
  {
   "cell_type": "code",
   "execution_count": null,
   "id": "8749a319",
   "metadata": {
    "ExecuteTime": {
     "end_time": "2022-05-24T14:14:39.222291Z",
     "start_time": "2022-05-24T14:14:38.546Z"
    }
   },
   "outputs": [],
   "source": [
    "%%writefile script06_RelaiLet.js\n",
    "for(i=1;i<=5;i++) {\n",
    "    let k=i;\n",
    "    setTimeout(function () {console.log(k);}, 1000+Math.random()*1000);}\n",
    "console.log(\"C'est fini !\")"
   ]
  },
  {
   "cell_type": "code",
   "execution_count": null,
   "id": "29972a78",
   "metadata": {},
   "outputs": [],
   "source": [
    "%%sh \n",
    "node script06_RelaiLet.js"
   ]
  },
  {
   "cell_type": "code",
   "execution_count": null,
   "id": "49b3cdbf",
   "metadata": {
    "ExecuteTime": {
     "end_time": "2022-05-24T15:06:42.965664Z",
     "start_time": "2022-05-24T15:06:42.497Z"
    }
   },
   "outputs": [],
   "source": [
    "%%writefile script06_RelaiConst.js\n",
    "for(i=1;i<=5;i++) {\n",
    "    const k=i;\n",
    "    setTimeout(function () {console.log(k);}, 1000+Math.random()*1000);}\n",
    "console.log(\"C'est fini !\")"
   ]
  },
  {
   "cell_type": "code",
   "execution_count": null,
   "id": "47511c7c",
   "metadata": {},
   "outputs": [],
   "source": [
    "%%sh \n",
    "node script06_RelaiConst.js"
   ]
  },
  {
   "cell_type": "markdown",
   "id": "9a58db0a",
   "metadata": {},
   "source": [
    "Ok ? (si on connait var, let et const)\n",
    "\n",
    "## Solution ?\n",
    "\n",
    "Et si finalement, la solution n'était pas là, dans le choix entre var, let et const pour la définition de l'indice de boucle :"
   ]
  },
  {
   "cell_type": "code",
   "execution_count": null,
   "id": "86737c44",
   "metadata": {
    "ExecuteTime": {
     "end_time": "2022-06-09T12:01:36.212781Z",
     "start_time": "2022-06-09T12:01:36.205416Z"
    }
   },
   "outputs": [],
   "source": [
    "%%writefile script07_Var.js\n",
    "for(var i=1;i<=5;i++) {\n",
    "    setTimeout(function() {console.log(i);}, 1000+Math.random()*1000);}\n",
    "console.log(\"C'est fini !\")"
   ]
  },
  {
   "cell_type": "code",
   "execution_count": null,
   "id": "3b4f5380",
   "metadata": {
    "ExecuteTime": {
     "end_time": "2022-06-09T12:01:40.666607Z",
     "start_time": "2022-06-09T12:01:37.917095Z"
    }
   },
   "outputs": [],
   "source": [
    "%%sh \n",
    "node script07_Var.js"
   ]
  },
  {
   "cell_type": "code",
   "execution_count": null,
   "id": "63c529f4",
   "metadata": {
    "ExecuteTime": {
     "end_time": "2022-05-24T15:05:31.227583Z",
     "start_time": "2022-05-24T15:05:30.760Z"
    }
   },
   "outputs": [],
   "source": [
    "%%writefile script07_Let.js\n",
    "for(let i=1;i<=5;i++) {\n",
    "    setTimeout(function() {console.log(i);}, 1000+Math.random()*1000);}\n",
    "console.log(\"C'est fini !\")"
   ]
  },
  {
   "cell_type": "code",
   "execution_count": null,
   "id": "2c532b9a",
   "metadata": {},
   "outputs": [],
   "source": [
    "%%sh \n",
    "node script07_Let.js"
   ]
  },
  {
   "cell_type": "code",
   "execution_count": null,
   "id": "ada98aba",
   "metadata": {
    "ExecuteTime": {
     "end_time": "2022-06-09T12:01:53.560525Z",
     "start_time": "2022-06-09T12:01:53.553468Z"
    }
   },
   "outputs": [],
   "source": [
    "%%writefile script07_Const.js\n",
    "for(const i=1;i<=5;i++) {\n",
    "    setTimeout(function() {console.log(i);}, 1000+Math.random()*1000);}\n",
    "console.log(\"C'est fini !\")"
   ]
  },
  {
   "cell_type": "code",
   "execution_count": null,
   "id": "b2737c66",
   "metadata": {
    "ExecuteTime": {
     "end_time": "2022-06-09T12:01:56.193777Z",
     "start_time": "2022-06-09T12:01:55.375967Z"
    }
   },
   "outputs": [],
   "source": [
    "%%sh \n",
    "node script07_Const.js"
   ]
  },
  {
   "cell_type": "markdown",
   "id": "d76682bd",
   "metadata": {},
   "source": [
    "## Conclusion\n",
    "\n",
    "En regardant les solutions (combien ? 6 solutions pour 13 essais ? c'est pas mal déjà), on peut se demander celle que l'on préfère, si on en préfère une ?\n",
    "\n",
    "Peut-être y a-t-ils d'autres solutions encore ? plus naturelles ?\n",
    "\n",
    "À vous d'essayer :"
   ]
  },
  {
   "cell_type": "code",
   "execution_count": null,
   "id": "347445e4",
   "metadata": {
    "ExecuteTime": {
     "end_time": "2022-06-09T12:06:25.420710Z",
     "start_time": "2022-06-09T12:06:25.413351Z"
    }
   },
   "outputs": [],
   "source": [
    "%%writefile script42_MaSolution.js\n",
    "for(i=1;i<=5;i++) {\n",
    "    setTimeout(function() {console.log(i);}, 1000+Math.random()*1000);}\n",
    "console.log(\"C'est fini !\")"
   ]
  },
  {
   "cell_type": "code",
   "execution_count": null,
   "id": "f739440d",
   "metadata": {
    "ExecuteTime": {
     "end_time": "2022-06-09T12:06:29.646783Z",
     "start_time": "2022-06-09T12:06:27.287521Z"
    }
   },
   "outputs": [],
   "source": [
    "%%sh \n",
    "node script42_MaSolution.js"
   ]
  },
  {
   "cell_type": "code",
   "execution_count": null,
   "id": "dbb2a9e1",
   "metadata": {},
   "outputs": [],
   "source": [
    "%%writefile script43_MaSolution.js\n",
    "for(i=1;i<=5;i++) {\n",
    "    setTimeout(function() {console.log(i);}, 1000+Math.random()*1000);}\n",
    "console.log(\"C'est fini !\")"
   ]
  },
  {
   "cell_type": "code",
   "execution_count": null,
   "id": "19422983",
   "metadata": {},
   "outputs": [],
   "source": [
    "%%sh \n",
    "node script43_MaSolution.js"
   ]
  },
  {
   "cell_type": "code",
   "execution_count": null,
   "id": "12ea4cda",
   "metadata": {},
   "outputs": [],
   "source": [
    "%%writefile script44_MaSolution.js\n",
    "for(i=1;i<=5;i++) {\n",
    "    setTimeout(function() {console.log(i);}, 1000+Math.random()*1000);}\n",
    "console.log(\"C'est fini !\")"
   ]
  },
  {
   "cell_type": "code",
   "execution_count": null,
   "id": "ba4ce2bc",
   "metadata": {},
   "outputs": [],
   "source": [
    "%%sh \n",
    "node script44_MaSolution.js"
   ]
  },
  {
   "cell_type": "markdown",
   "id": "978ce3d3",
   "metadata": {},
   "source": [
    "---\n",
    "Annexe (en vrac, d'autres essais)"
   ]
  },
  {
   "cell_type": "code",
   "execution_count": null,
   "id": "a2927221",
   "metadata": {
    "ExecuteTime": {
     "end_time": "2022-05-24T13:18:48.456027Z",
     "start_time": "2022-05-24T13:18:47.881Z"
    }
   },
   "outputs": [],
   "source": [
    "%%writefile script99_Autre.js\n",
    "for(i=1;i<=5;i++) {\n",
    "    f = function () { return i;};\n",
    "    setTimeout(function() {console.log(f());}, 1000+Math.random()*1000);}\n",
    "console.log(\"C'est fini !\")"
   ]
  },
  {
   "cell_type": "code",
   "execution_count": null,
   "id": "631628f9",
   "metadata": {
    "ExecuteTime": {
     "end_time": "2022-05-24T13:19:34.004421Z",
     "start_time": "2022-05-24T13:19:33.434Z"
    }
   },
   "outputs": [],
   "source": [
    "%%writefile script99_Autre.js\n",
    "for(i=1;i<=5;i++) {\n",
    "    f = function () { return i;};\n",
    "    v = f();\n",
    "    setTimeout(function() {console.log(v);}, 1000+Math.random()*1000);}\n",
    "console.log(\"C'est fini !\")"
   ]
  },
  {
   "cell_type": "code",
   "execution_count": null,
   "id": "190656ec",
   "metadata": {
    "ExecuteTime": {
     "end_time": "2022-05-24T13:21:18.335914Z",
     "start_time": "2022-05-24T13:21:17.763Z"
    }
   },
   "outputs": [],
   "source": [
    "%%writefile script99_Autre.js\n",
    "for(i=1;i<=5;i++) {\n",
    "    f = function () { return function () {console.log(i);};};\n",
    "    v = f();\n",
    "    setTimeout(v, 1000+Math.random()*1000);}\n",
    "console.log(\"C'est fini !\")"
   ]
  },
  {
   "cell_type": "code",
   "execution_count": null,
   "id": "af0a9a10",
   "metadata": {
    "ExecuteTime": {
     "end_time": "2022-05-24T13:24:13.666445Z",
     "start_time": "2022-05-24T13:24:13.005Z"
    }
   },
   "outputs": [],
   "source": [
    "%%writefile script99_Autre.js\n",
    "for(i=1;i<=5;i++) {\n",
    "    f = function () { return i;};\n",
    "    v = eval(f());\n",
    "    setTimeout(function() {console.log(v);}, 1000+Math.random()*1000);}\n",
    "console.log(\"C'est fini !\")"
   ]
  },
  {
   "cell_type": "code",
   "execution_count": null,
   "id": "bba544c1",
   "metadata": {
    "ExecuteTime": {
     "end_time": "2022-05-24T13:25:45.278819Z",
     "start_time": "2022-05-24T13:25:44.697Z"
    }
   },
   "outputs": [],
   "source": [
    "%%writefile script99_Autre.js\n",
    "for(i=1;i<=5;i++) {\n",
    "    f = function () { return function () {console.log(i);};};\n",
    "    v = eval(f());\n",
    "    setTimeout(v, 1000+Math.random()*1000);}\n",
    "console.log(\"C'est fini !\")"
   ]
  },
  {
   "cell_type": "code",
   "execution_count": null,
   "id": "511893cc",
   "metadata": {
    "ExecuteTime": {
     "end_time": "2022-05-24T14:08:03.079951Z",
     "start_time": "2022-05-24T14:08:02.416Z"
    }
   },
   "outputs": [],
   "source": [
    "%%writefile script99_Autre.js\n",
    "for(i=1;i<=5;i++) {\n",
    "    f = function () {console.log(i);};\n",
    "    setTimeout(f, 1000+Math.random()*1000);}\n",
    "console.log(\"C'est fini !\")"
   ]
  },
  {
   "cell_type": "code",
   "execution_count": null,
   "id": "aae70571",
   "metadata": {
    "ExecuteTime": {
     "end_time": "2022-05-24T15:04:43.210305Z",
     "start_time": "2022-05-24T15:04:42.745Z"
    }
   },
   "outputs": [],
   "source": [
    "%%writefile script99_Autre.js\n",
    "for(i=1;i<=5;i++) {\n",
    "    const f = function () {console.log(i);};\n",
    "    setTimeout(f, 1000+Math.random()*1000);}\n",
    "console.log(\"C'est fini !\")"
   ]
  },
  {
   "cell_type": "code",
   "execution_count": null,
   "id": "f0af8117",
   "metadata": {
    "ExecuteTime": {
     "end_time": "2022-05-24T14:18:35.988027Z",
     "start_time": "2022-05-24T14:18:35.301Z"
    }
   },
   "outputs": [],
   "source": [
    "%%writefile script99_Autre.js\n",
    "for(i=1;i<=5;i++) {\n",
    "    let f = function () {console.log(i);};\n",
    "    setTimeout(f, 1000+Math.random()*1000);}\n",
    "console.log(\"C'est fini !\")"
   ]
  },
  {
   "cell_type": "code",
   "execution_count": null,
   "id": "bc7732a7",
   "metadata": {},
   "outputs": [],
   "source": [
    "%%writefile script99_Autre.js\n",
    "for(i=1;i<=5;i++) {\n",
    "    var f = function () {console.log(i);};\n",
    "    setTimeout(f, 1000+Math.random()*1000);}\n",
    "console.log(\"C'est fini !\")"
   ]
  },
  {
   "cell_type": "code",
   "execution_count": null,
   "id": "91ddad92",
   "metadata": {},
   "outputs": [],
   "source": [
    "%%sh \n",
    "node script99_Autre.js"
   ]
  },
  {
   "cell_type": "code",
   "execution_count": 4,
   "id": "2093f3ba",
   "metadata": {
    "ExecuteTime": {
     "end_time": "2022-06-14T12:32:34.324423Z",
     "start_time": "2022-06-14T12:32:34.316538Z"
    }
   },
   "outputs": [
    {
     "name": "stdout",
     "output_type": "stream",
     "text": [
      "Writing script99_Autre.js\n"
     ]
    }
   ],
   "source": [
    "%%writefile script99_Autre.js\n",
    "for(i=1;i<=5;i++) {\n",
    "    j=eval(\"i\")\n",
    "    setTimeout(function() {console.log(j);}, 1000+Math.random()*1000);}\n",
    "console.log(\"C'est fini !\")"
   ]
  },
  {
   "cell_type": "code",
   "execution_count": 5,
   "id": "d3ec6f10",
   "metadata": {
    "ExecuteTime": {
     "end_time": "2022-06-14T12:32:38.929048Z",
     "start_time": "2022-06-14T12:32:36.139437Z"
    }
   },
   "outputs": [
    {
     "name": "stdout",
     "output_type": "stream",
     "text": [
      "C'est fini !\n",
      "5\n",
      "5\n",
      "5\n",
      "5\n",
      "5\n"
     ]
    }
   ],
   "source": [
    "%%sh \n",
    "node script99_Autre.js"
   ]
  }
 ],
 "metadata": {
  "kernelspec": {
   "display_name": "Python 3 (ipykernel)",
   "language": "python",
   "name": "python3"
  },
  "language_info": {
   "codemirror_mode": {
    "name": "ipython",
    "version": 3
   },
   "file_extension": ".py",
   "mimetype": "text/x-python",
   "name": "python",
   "nbconvert_exporter": "python",
   "pygments_lexer": "ipython3",
   "version": "3.9.7"
  },
  "toc": {
   "base_numbering": 1,
   "nav_menu": {},
   "number_sections": true,
   "sideBar": false,
   "skip_h1_title": true,
   "title_cell": "Table of Contents",
   "title_sidebar": "Contents",
   "toc_cell": true,
   "toc_position": {},
   "toc_section_display": false,
   "toc_window_display": true
  },
  "varInspector": {
   "cols": {
    "lenName": 16,
    "lenType": 16,
    "lenVar": 40
   },
   "kernels_config": {
    "python": {
     "delete_cmd_postfix": "",
     "delete_cmd_prefix": "del ",
     "library": "var_list.py",
     "varRefreshCmd": "print(var_dic_list())"
    },
    "r": {
     "delete_cmd_postfix": ") ",
     "delete_cmd_prefix": "rm(",
     "library": "var_list.r",
     "varRefreshCmd": "cat(var_dic_list()) "
    }
   },
   "types_to_exclude": [
    "module",
    "function",
    "builtin_function_or_method",
    "instance",
    "_Feature"
   ],
   "window_display": false
  }
 },
 "nbformat": 4,
 "nbformat_minor": 5
}
