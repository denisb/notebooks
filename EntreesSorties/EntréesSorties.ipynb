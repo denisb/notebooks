{
 "cells": [
  {
   "cell_type": "markdown",
   "id": "1896017a",
   "metadata": {
    "toc": true
   },
   "source": [
    "<h1>Table of Contents<span class=\"tocSkip\"></span></h1>\n",
    "<div class=\"toc\"><ul class=\"toc-item\"></ul></div>"
   ]
  },
  {
   "cell_type": "markdown",
   "id": "4bf6f4d3",
   "metadata": {},
   "source": [
    "Objectif :\n",
    "* interfacer un programme **prog** avec jupyter pour qu'il puisse avoir des entrées/sorties dans jupyter (seul python sait bien avoir des entrées/sorties au départ)\n",
    "* définir un lanceur/compagnon python du programme **prog** qui gère les entrées/sorties :\n",
    "```python\n",
    "def lanceur(prog):\n",
    "    os.system( prog+ \" < fournir entrée par fifo + eventuellement recup sorties &\")\n",
    "    #\"lancer le fournisseur d'entree (en python) vers fifo\"\n",
    "```\n",
    "\n",
    "Les soucis et les solutions : \n",
    "* le programme **prog**s'exécute avec jupyter dans un shell (invisible), il n'a pas moyen de lui donner des entrées (et les sorties ne s'affichent pas toujours tout de suite) : prévoir un compagnon \"python\" qui fournira des entrées (en python, input fonctionne) via une fifo\n",
    "* les fifo se bloquent d'un côté ou l'autre s'il n'y a personne de l'autre côté : il faut lancer le processus du programme **prog** en tâche de fond avant le début des saisies/affichages\n",
    "* si le programme **prog** doit avoir des entrées et des sorties, les blocages peuvent arriver des 2 côtés : éviter des fifo simultanément en entrée et en sortie \n",
    "* comme le programme **prog** est en tâche de fond, utiliser par ex. la sortie erreur pour que l'affichage se fasse en jupyter et sans bloccage (il semble que la sortie erreur soit mieux gérée que la sortie std sous jupyter, en tout cas pour les processus en tâche de fond lancés dans un shell (invisible ?), en tout cas, la sortie erreur apparait sur jupyter et immédiatement, même pour un processus en tâche de fond lancés dans un shell (invisible ?)) : en C, par exemple, passer par warnx (sinon il y a d'autres solutions en utilisant des fichiers temporaires en les ouvrant et les fermant explicitement souvent et en les oscultant régulièrement)\n",
    "* si plusieurs saisies arrivent sur la fifo, chacune risque de déclencher **prog** et fermer la fifo (dommage) : prévoir de garder la fifo ouverte un certains temps\n",
    "* au bout du délai, enlever la fifo (pour que les suivants ne récupère pas des données non utilisées)\n",
    "\n",
    "Fichiers :\n",
    "* lanceur/compagnon (en entrée : le programme, une longueur de boucle de saisie, ici 4 par défaut, et un temps d'exécution, ici 20s)"
   ]
  },
  {
   "cell_type": "code",
   "execution_count": 18,
   "id": "b8459c84",
   "metadata": {
    "ExecuteTime": {
     "end_time": "2022-10-17T12:45:54.862410Z",
     "start_time": "2022-10-17T12:45:54.854508Z"
    }
   },
   "outputs": [],
   "source": [
    "import os\n",
    "import time\n",
    "\n",
    "def lanceur(prog,nb=4,tps=20):\n",
    "    os.system(\"if [ -p monPipeEnEntree ]; then rm monPipeEnEntree; fi\")\n",
    "    os.system(\"mkfifo monPipeEnEntree\")\n",
    "    os.system(\"sleep \"+str(tps)+\" > monPipeEnEntree &\")         # important : ouvrir et garder le pipe ouvert pour un temps assez grand\n",
    "    os.system(\"(sleep \"+str(tps+1)+\" ; rm monPipeEnEntree) &\")\n",
    "    os.system(prog+\" < monPipeEnEntree &\")                      # important : lancer le programme (prévoir que les sorties soient visibles, par ex. sur la sortie erreur)\n",
    "    for i in range(nb):\n",
    "        time.sleep(0.5)\n",
    "        x=input(\"?\")                                            # important : faire une saisie (cela peut servir)\n",
    "        os.system(\"echo \"+x+\" > monPipeEnEntree\")               # important : envoyer la saisie sur le programme (si cela peut servir)"
   ]
  },
  {
   "cell_type": "markdown",
   "id": "51a640d5",
   "metadata": {},
   "source": [
    "Le programme prog :"
   ]
  },
  {
   "cell_type": "code",
   "execution_count": 13,
   "id": "c27253c3",
   "metadata": {
    "ExecuteTime": {
     "end_time": "2022-10-17T12:40:24.901195Z",
     "start_time": "2022-10-17T12:40:24.894284Z"
    }
   },
   "outputs": [
    {
     "name": "stdout",
     "output_type": "stream",
     "text": [
      "Overwriting prog.c\n"
     ]
    }
   ],
   "source": [
    "%%writefile prog.c\n",
    "#include <stdio.h>\n",
    "#include <stdint.h>\n",
    "#include <err.h>\n",
    "\n",
    "int main(int argc, char * argv[]) {\n",
    "int32_t z;\n",
    "for(int i=0;i<4;i++) {\n",
    "  warnx(\"Donner un entier, svp.\");\n",
    "  scanf(\"%d\",&z);\n",
    "  warnx(\"%d =>  %d\",z,(int16_t) z);}\n",
    "return 0;}"
   ]
  },
  {
   "cell_type": "code",
   "execution_count": 14,
   "id": "56371b76",
   "metadata": {
    "ExecuteTime": {
     "end_time": "2022-10-17T12:40:27.202893Z",
     "start_time": "2022-10-17T12:40:27.108555Z"
    }
   },
   "outputs": [
    {
     "data": {
      "text/plain": [
       "[]"
      ]
     },
     "execution_count": 14,
     "metadata": {},
     "output_type": "execute_result"
    }
   ],
   "source": [
    "%sx gcc -o prog.e prog.c"
   ]
  },
  {
   "cell_type": "code",
   "execution_count": 17,
   "id": "3ecdb79b",
   "metadata": {
    "ExecuteTime": {
     "end_time": "2022-10-17T12:42:13.254626Z",
     "start_time": "2022-10-17T12:42:06.701228Z"
    }
   },
   "outputs": [
    {
     "name": "stderr",
     "output_type": "stream",
     "text": [
      "prog.e: Donner un entier, svp.\n"
     ]
    },
    {
     "name": "stdout",
     "output_type": "stream",
     "text": [
      "?4\n"
     ]
    },
    {
     "name": "stderr",
     "output_type": "stream",
     "text": [
      "prog.e: 4 =>  4\n",
      "prog.e: Donner un entier, svp.\n"
     ]
    },
    {
     "name": "stdout",
     "output_type": "stream",
     "text": [
      "?6\n"
     ]
    },
    {
     "name": "stderr",
     "output_type": "stream",
     "text": [
      "prog.e: 6 =>  6\n",
      "prog.e: Donner un entier, svp.\n"
     ]
    },
    {
     "name": "stdout",
     "output_type": "stream",
     "text": [
      "?8\n"
     ]
    },
    {
     "name": "stderr",
     "output_type": "stream",
     "text": [
      "prog.e: 8 =>  8\n",
      "prog.e: Donner un entier, svp.\n"
     ]
    },
    {
     "name": "stdout",
     "output_type": "stream",
     "text": [
      "?95\n"
     ]
    },
    {
     "name": "stderr",
     "output_type": "stream",
     "text": [
      "prog.e: 95 =>  95\n"
     ]
    }
   ],
   "source": [
    "lanceur(\"./prog.e\",4,30)"
   ]
  }
 ],
 "metadata": {
  "kernelspec": {
   "display_name": "Python 3 (ipykernel)",
   "language": "python",
   "name": "python3"
  },
  "language_info": {
   "codemirror_mode": {
    "name": "ipython",
    "version": 3
   },
   "file_extension": ".py",
   "mimetype": "text/x-python",
   "name": "python",
   "nbconvert_exporter": "python",
   "pygments_lexer": "ipython3",
   "version": "3.9.7"
  },
  "latex_envs": {
   "LaTeX_envs_menu_present": true,
   "autoclose": false,
   "autocomplete": true,
   "bibliofile": "biblio.bib",
   "cite_by": "apalike",
   "current_citInitial": 1,
   "eqLabelWithNumbers": true,
   "eqNumInitial": 1,
   "hotkeys": {
    "equation": "Ctrl-E",
    "itemize": "Ctrl-I"
   },
   "labels_anchors": false,
   "latex_user_defs": false,
   "report_style_numbering": false,
   "user_envs_cfg": false
  },
  "toc": {
   "base_numbering": 1,
   "nav_menu": {},
   "number_sections": true,
   "sideBar": false,
   "skip_h1_title": true,
   "title_cell": "Table of Contents",
   "title_sidebar": "Contents",
   "toc_cell": true,
   "toc_position": {},
   "toc_section_display": false,
   "toc_window_display": true
  },
  "varInspector": {
   "cols": {
    "lenName": 16,
    "lenType": 16,
    "lenVar": 40
   },
   "kernels_config": {
    "python": {
     "delete_cmd_postfix": "",
     "delete_cmd_prefix": "del ",
     "library": "var_list.py",
     "varRefreshCmd": "print(var_dic_list())"
    },
    "r": {
     "delete_cmd_postfix": ") ",
     "delete_cmd_prefix": "rm(",
     "library": "var_list.r",
     "varRefreshCmd": "cat(var_dic_list()) "
    }
   },
   "types_to_exclude": [
    "module",
    "function",
    "builtin_function_or_method",
    "instance",
    "_Feature"
   ],
   "window_display": false
  }
 },
 "nbformat": 4,
 "nbformat_minor": 5
}
