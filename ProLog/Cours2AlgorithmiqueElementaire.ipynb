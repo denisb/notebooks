{
 "cells": [
  {
   "cell_type": "markdown",
   "id": "2b01103b-91d5-488c-9723-7ca06a125f03",
   "metadata": {
    "editable": true,
    "execution": {
     "iopub.execute_input": "2024-01-12T08:55:53.447632Z",
     "iopub.status.busy": "2024-01-12T08:55:53.447304Z",
     "iopub.status.idle": "2024-01-12T08:55:53.452035Z",
     "shell.execute_reply": "2024-01-12T08:55:53.451385Z",
     "shell.execute_reply.started": "2024-01-12T08:55:53.447608Z"
    },
    "slideshow": {
     "slide_type": ""
    },
    "tags": []
   },
   "source": [
    "<img src=\"logoUGA.png\"></img>\n",
    "\n",
    "Séance 3 et 4 ; Cours 2 : Algorithmique élémentaire (en prolog)\n"
   ]
  },
  {
   "cell_type": "markdown",
   "id": "953c5d1f-1dbb-46f9-899c-22fbea6afa85",
   "metadata": {
    "editable": true,
    "slideshow": {
     "slide_type": "skip"
    },
    "tags": []
   },
   "source": [
    "1) Algorithmique Prolog (rappel/1ère approche)\n",
    "   * Structure de données\n",
    "   * Structure de contrôle / du contrôle de l'exécution (cf. implémentation)\n",
    "2) Algorithmique classique\n",
    "   * Structure de données\n",
    "   * Structure de contrôle\n",
    "   * et Implémentation (compilation vs compilation ; gestion de la mémoire)\n",
    "3) Propriétés algorithmiques (classiques, \\[et déclaratives])\n",
    "   * Correction\n",
    "   * Complétude\n",
    "   * Terminaison (+Complexité)\n",
    "   * \\[Déclarativité] (\\[Réversibilité], \\[Non-Déterminisme])\n",
    "5) Exemples de programme"
   ]
  },
  {
   "cell_type": "markdown",
   "id": "87dbab5b-dff9-4df3-a374-619a8b15b4f8",
   "metadata": {
    "editable": true,
    "slideshow": {
     "slide_type": "slide"
    },
    "tags": []
   },
   "source": [
    "# Algorithmique ProLog (rappel/1ère approche)\n",
    "\n",
    "Sur la base de : **Prog = Data + Contrôle**"
   ]
  },
  {
   "cell_type": "markdown",
   "id": "1e0051ba-e9b2-488c-8abc-930125faf543",
   "metadata": {
    "editable": true,
    "slideshow": {
     "slide_type": "fragment"
    },
    "tags": []
   },
   "source": [
    "Point de départ, rappel des principes (JP Delahaye) :\n",
    "\n",
    "1. Enoncer des **Faits**\n",
    "2. Donner des **règles de raisonnement** se basant sur ces faits pour produire d'autres faits\n",
    "3. Savoir poser des questions (**requêtes**)\n",
    "\n",
    "Dans tous les cas, les faits doivent être vrais (\"prouvés\" à partir de faits plus élémentaires), \n",
    "sinon ils sont réputés faux (Hypothèse de monde clos)"
   ]
  },
  {
   "cell_type": "code",
   "execution_count": 9,
   "id": "14540b79-1888-4f67-96f5-5c30aa6a1165",
   "metadata": {
    "editable": true,
    "execution": {
     "iopub.execute_input": "2024-01-15T09:18:03.781642Z",
     "iopub.status.busy": "2024-01-15T09:18:03.781303Z",
     "iopub.status.idle": "2024-01-15T09:18:03.802755Z",
     "shell.execute_reply": "2024-01-15T09:18:03.801568Z",
     "shell.execute_reply.started": "2024-01-15T09:18:03.781611Z"
    },
    "slideshow": {
     "slide_type": "notes"
    },
    "tags": []
   },
   "outputs": [
    {
     "name": "stdout",
     "output_type": "stream",
     "text": [
      "Overwriting prog.pl\n"
     ]
    }
   ],
   "source": [
    "%%writefile prog.pl\n",
    "/* nbZero(L,N) est vrai ssi la liste L contient N zéros */\n",
    "\n",
    "/* des faits : */\n",
    "nbZero([],0).\n",
    "nbZero([0],1). /* fait utile ? */\n",
    "nbZero([1],0). /* fait utile ? */\n",
    "\n",
    "\n",
    "/* des règles : */\n",
    "nbZero([1|L],N):- /* règle utile ? */\n",
    "    nbZero(L,N).\n",
    "nbZero([0|L],NplusUn):-\n",
    "    nbZero(L,N),\n",
    "    plusUn(NplusUn,N).\n",
    "nbZero([X|L],N):-\n",
    "    dif(X,0),\n",
    "    nbZero(L,N). \n",
    "\n",
    "plusUn(NplusUn,N) :-\n",
    "    NplusUn is N+1.\n",
    "    \n",
    "main :-  writeln('L ?'), read(L),\n",
    "  nbZero(L,N), write('Pour L = '), write(L), write(' N : '), writeln(N).\n",
    ":- main."
   ]
  },
  {
   "cell_type": "markdown",
   "id": "3b8edb0a-b92e-4bb0-98a8-eb7e2b4df414",
   "metadata": {
    "editable": true,
    "slideshow": {
     "slide_type": "notes"
    },
    "tags": []
   },
   "source": [
    "des requêtes :"
   ]
  },
  {
   "cell_type": "code",
   "execution_count": 10,
   "id": "1c15e373-e9e8-491c-a239-aaf9055ccc10",
   "metadata": {
    "editable": true,
    "execution": {
     "iopub.execute_input": "2024-01-15T09:18:06.165175Z",
     "iopub.status.busy": "2024-01-15T09:18:06.164467Z",
     "iopub.status.idle": "2024-01-15T09:18:06.323242Z",
     "shell.execute_reply": "2024-01-15T09:18:06.322228Z",
     "shell.execute_reply.started": "2024-01-15T09:18:06.165147Z"
    },
    "slideshow": {
     "slide_type": "notes"
    },
    "tags": []
   },
   "outputs": [
    {
     "name": "stdout",
     "output_type": "stream",
     "text": [
      "L ?\n",
      "Pour L = [1,0,0,1,1,0] N : 3\n"
     ]
    }
   ],
   "source": [
    "!echo \"[1,0,0,1,1,0].\" | swipl -g halt -s prog.pl"
   ]
  },
  {
   "cell_type": "code",
   "execution_count": 11,
   "id": "fcb2806b-72a6-4317-ad9c-56748440d9a6",
   "metadata": {
    "editable": true,
    "execution": {
     "iopub.execute_input": "2024-01-15T09:18:09.520857Z",
     "iopub.status.busy": "2024-01-15T09:18:09.520176Z",
     "iopub.status.idle": "2024-01-15T09:18:09.674746Z",
     "shell.execute_reply": "2024-01-15T09:18:09.673973Z",
     "shell.execute_reply.started": "2024-01-15T09:18:09.520837Z"
    },
    "slideshow": {
     "slide_type": "notes"
    },
    "tags": []
   },
   "outputs": [
    {
     "name": "stdout",
     "output_type": "stream",
     "text": [
      "L ?\n",
      "Pour L = [1,1,0] N : 1\n"
     ]
    }
   ],
   "source": [
    "!echo \"[A,B,C].\" | swipl -g halt -s prog.pl"
   ]
  },
  {
   "cell_type": "markdown",
   "id": "177e330c-2c8a-4027-940a-dd15af68f070",
   "metadata": {
    "editable": true,
    "slideshow": {
     "slide_type": "slide"
    },
    "tags": []
   },
   "source": [
    "## Structures de données\n",
    "\n",
    "* constantes (entier, chaine, etc.) et identificateurs = commence par une minuscule\n",
    "* Variables = Commence Par Une Majuscule ( _ou _un \\_souligné \"\\_\"),  \n",
    "**Attention** : les variables sont à instanciation unique  \n",
    "(hors retour sur points de choix, les variables ont vocation à prendre une valeur et ne pas en changer ensuite au cours d'une exécution : on ne peut pas faire N = N+1, ou N++)  \n",
    "* Listes = liste vide \\[ ], liste explicite \\[ 1, 2, 3] et constructeur de liste \\[ E | L ]\n",
    "\n",
    "Autres :\n",
    "\n",
    "* Liste = File (pour avoir une file, prendre 2 piles ?, ou 2 listes), **Pile**, Séquence ou TeteQueue ?\n",
    "* Ensemble ? Dictionnaire ?\n",
    "* Arbre = Liste de liste, ex. : `[Racine,[FilsGauche,[],[]],[FilsDroit,[],[]]]`\n",
    "* Graphes, liste circulaire (plus tard)\n",
    "* Pointeur ? (tout est pointeur, partage naturel des données, possibilité de structures incomplètes et concaténation en temps constant)\n",
    "\n",
    "Q ? Peut-on parcourir les nombres de 1 à N ? "
   ]
  },
  {
   "cell_type": "code",
   "execution_count": 12,
   "id": "5ab579c5-6da6-475a-bc84-9146b7578d3c",
   "metadata": {
    "editable": true,
    "execution": {
     "iopub.execute_input": "2024-01-15T09:19:53.326320Z",
     "iopub.status.busy": "2024-01-15T09:19:53.325923Z",
     "iopub.status.idle": "2024-01-15T09:19:53.344007Z",
     "shell.execute_reply": "2024-01-15T09:19:53.343424Z",
     "shell.execute_reply.started": "2024-01-15T09:19:53.326303Z"
    },
    "slideshow": {
     "slide_type": "notes"
    },
    "tags": []
   },
   "outputs": [
    {
     "name": "stdout",
     "output_type": "stream",
     "text": [
      "Overwriting prog.pl\n"
     ]
    }
   ],
   "source": [
    "%%writefile prog.pl\n",
    "/* parcourEtAffiche(N) est vrai ssi R parcours et affiche les entiers jusqu'à N */\n",
    "parcourEtAffiche(0).\n",
    "parcourEtAffiche(N):-\n",
    "  moinsUn(NMoins1,N),\n",
    "  parcourEtAffiche(NMoins1),\n",
    "  writeln(N).\n",
    "\n",
    "moinsUn(NMoinsUn,N) :-\n",
    "  NMoinsUn is N-1.\n",
    "\n",
    "main :-  writeln('N ?'), read(Entree),\n",
    "  parcourEtAffiche(Entree).\n",
    ":- main."
   ]
  },
  {
   "cell_type": "code",
   "execution_count": 13,
   "id": "83701eef-e3ad-42aa-b516-e0e2797a58e9",
   "metadata": {
    "editable": true,
    "execution": {
     "iopub.execute_input": "2024-01-15T09:19:55.326565Z",
     "iopub.status.busy": "2024-01-15T09:19:55.326266Z",
     "iopub.status.idle": "2024-01-15T09:19:55.487537Z",
     "shell.execute_reply": "2024-01-15T09:19:55.486920Z",
     "shell.execute_reply.started": "2024-01-15T09:19:55.326544Z"
    },
    "slideshow": {
     "slide_type": "notes"
    },
    "tags": []
   },
   "outputs": [
    {
     "name": "stdout",
     "output_type": "stream",
     "text": [
      "N ?\n",
      "1\n",
      "2\n",
      "3\n",
      "4\n",
      "5\n"
     ]
    }
   ],
   "source": [
    "!echo \"5.\" | swipl -g halt -s prog.pl"
   ]
  },
  {
   "cell_type": "markdown",
   "id": "7eb86b25-e6dd-4cc4-80bc-690bdb1ade21",
   "metadata": {
    "editable": true,
    "slideshow": {
     "slide_type": ""
    },
    "tags": []
   },
   "source": [
    "## Structure de contrôle\n",
    "\n",
    "* Unification (affectation *implicite*, opérations *structurelles* \\[hors arithmétique], test d'égalité, pour le test de différence : dif(X,Y) ; si besoin eq(X,X) pour test et affectation explicite)\n",
    "* Groupe de règles (liées syntaxiquement par des points \".\") : liées au niveau sémantique par un **OU** (ou \"naturel\" de la logique classique, pas le \"ou\" exclusif ; chaque règle doit pouvoir être *choisie* lors d'une résolution), représente une décomposition du problème par un **Raisonnement par Cas**, les cas peuvent être disjoints ou se chevaucher, l'espace recouvert est la zone de résolution du problème, il faut qu'il y ait égalité entre l'un et l'autre (que l'union des cas recouvre *complètement* la zone de résolution du problème)\n",
    "* Corps d'une règle : faits liés au niveau sémantique par des **ET** (et syntaxiquement par des virgules \",\"), lors de la résolution d'une requête, tous les faits doivent être prouvés, il y a **enchaînement** de la recherche de ces preuves selon l'ordre d'apparition dans le fichier\n",
    "* **Récursivité** de la recherche de faits pour un même ensemble de règles possible ! sous réserve d'avoir des règles s'appliquant sans récursivité (sinon, problème de boucle infinie). Il s'agit d'une forme de résolution par sous-problèmes isomorphes, ex. : diviser pour régner (divide and conquer) ; souvent cela ressemble à une répétition (enrichie de l'accès explicite à l'ensemble de la pile d'appel, même si cette pile d'appel n'est pas toujours utilisée au delà du haut de pile).  \n",
    "Rem. : décomposer un problème en sous problèmes non isomorphes est aussi possible en ProLog, comme dans la plupart des langages de programmation, c'est le principe de base des décompositions algorithmiques qui introduit la définitions des fonctions et procédures annexes (et permet de réduire chaque problème à des problèmes plus petits et plus faciles à résoudre)  \n",
    "  * Pour la récursivité, motif de base :\n",
    "\n",
    "```prolog\n",
    "prog(Env,Sol). %%cas de base (=sans appel récursif)\n",
    "prog(Env,Sol) -: %%cas de décomposition et de propagation de la résolution\n",
    "  décomposition(Env,E,SousEnv), \n",
    "  prog(SousEnv,SousSol), \n",
    "  recomposition(SousSol,E,Sol).\n",
    "```\n",
    "\n",
    "Exemple avec la concaténation"
   ]
  },
  {
   "cell_type": "code",
   "execution_count": 92,
   "id": "b48f81f6-ea4b-4979-b00c-32b12574e8ed",
   "metadata": {
    "editable": true,
    "execution": {
     "iopub.execute_input": "2024-01-16T13:08:05.702481Z",
     "iopub.status.busy": "2024-01-16T13:08:05.702200Z",
     "iopub.status.idle": "2024-01-16T13:08:05.722378Z",
     "shell.execute_reply": "2024-01-16T13:08:05.721600Z",
     "shell.execute_reply.started": "2024-01-16T13:08:05.702464Z"
    },
    "slideshow": {
     "slide_type": ""
    },
    "tags": []
   },
   "outputs": [
    {
     "name": "stdout",
     "output_type": "stream",
     "text": [
      "Overwriting prog.pl\n"
     ]
    }
   ],
   "source": [
    "%%writefile prog.pl\n",
    "/* concatene(D,F,L) est vrai ssi la concaténation des listes D et F corespond à la liste L. */\n",
    "concatene([],F,F).\n",
    "concatene([E|L],F,[E|R]):-concatene(L,F,R).\n",
    "\n",
    "main :-  writeln('Votre requête ?'), read(Entree),\n",
    "  findall(Entree,Entree,Resultats),\n",
    "  write('Liste des résultats : '), writeln(Resultats).\n",
    ":- main."
   ]
  },
  {
   "cell_type": "code",
   "execution_count": 91,
   "id": "c4a56f31-8d3f-48d4-8d11-8121830873da",
   "metadata": {
    "editable": true,
    "execution": {
     "iopub.execute_input": "2024-01-16T13:06:47.576248Z",
     "iopub.status.busy": "2024-01-16T13:06:47.575923Z",
     "iopub.status.idle": "2024-01-16T13:06:47.750417Z",
     "shell.execute_reply": "2024-01-16T13:06:47.748688Z",
     "shell.execute_reply.started": "2024-01-16T13:06:47.576226Z"
    },
    "slideshow": {
     "slide_type": "notes"
    },
    "tags": []
   },
   "outputs": [
    {
     "name": "stdout",
     "output_type": "stream",
     "text": [
      "Votre requête ?\n",
      "Liste des résultats : [concatene([2,0],[2,4],[2,0,2,4])]\n"
     ]
    }
   ],
   "source": [
    "!echo \"concatene([2,0],[2,4],L).\" | swipl -g halt -s prog.pl"
   ]
  },
  {
   "cell_type": "markdown",
   "id": "61c4334e-2f85-4505-9599-4fb3b1486709",
   "metadata": {
    "editable": true,
    "slideshow": {
     "slide_type": "notes"
    },
    "tags": []
   },
   "source": [
    "  * Rem. : `décomposition` et `recomposition` peuvent avoir lieu dès la tête de la règle.\n",
    "  * Rem. : une décomposition peut aussi donner lieu à un autre problème, il n'y a pas alors nécessairement récursivité (à priori), mais tout de même résolution du sous-problème puis recomposition, ex. : coupe selon pivot choisi en début de liste. Dans ce cas, une astuce (?!) pour rester dans les résolutions récursives, consiste souvent à ne pas effectuer vraiment la décomposition, et garde l'environnement complet dans l'appel récursif.\n",
    "  * Rem. : une récursivité peut être *lancée* pour chaque paramètre ayant une structure récursive (pas seulement pour les paramètres pensés comme des données en entrée du problèmes ; les paramètres pensés comme les solutions du problème peuvent aussi être sujet à décomposition récursive : chaînage *avant* **vs** chaînage *arrière*)\n",
    "  * Rem. : les **cas de base** habituels pour les listes concernent la liste vide, mais peuvent aussi concerner les listes à 1 éléments, 2 éléments, ou plus, 1 élément ayant une propriété particulière (nul, non nul, etc.)\n",
    "  * Rem. : les **cas de propagation** habituels pour les listes concernent des décompositions de liste `[E|L]`, et concerne un appel récursif sur `L` mais peuvent aussi concerner des décompositions de liste avec 2 éléments, ou plus, (etc.), et peuvent  concerner plus d'un appel, sur `L` ou sur `E` (etc.)\n",
    "  * Rem. la récursivité n'est pas seulement une forme de répétition (plus proche de la programmation fonctionnelle de A. Church et qui a donné Lisp, etc.), c'est aussi la forme adaptée aux formes de données récursives arborescentes ou associées aux graphes (pour lesquelles les boucles ne sont pas adaptées, ex. parcourir un arbre binaire par boucle n'est pas naturel/facile, alors que le parcours récursif est naturel/simple) ; et au delà d'être la solution la plus adaptée à la récursivité structurelle des arbres (et graphes), c'est, de part cette adaptation, l'usage des arbres et des graphes qui est favorisée/rendu possible, et donc tout le domaine des **optimisations** par analyse dichotomique ou des données naturellement décrites par des graphes (puissant modèle de représentation des données).\n",
    "  * Le zoo des formes de récursivité n'est pas limité au motif de base, il est aussi fourni (et pourquoi pas plus) que le zoo des formes de répétition dans les langages classiques\n",
    "  * Exemple : filtrage, recherche, ajout, concaténation"
   ]
  },
  {
   "cell_type": "code",
   "execution_count": 31,
   "id": "987b5a45-39ea-4e50-819f-98d31fc7072c",
   "metadata": {
    "editable": true,
    "execution": {
     "iopub.execute_input": "2024-01-15T09:39:53.963754Z",
     "iopub.status.busy": "2024-01-15T09:39:53.963433Z",
     "iopub.status.idle": "2024-01-15T09:39:53.991887Z",
     "shell.execute_reply": "2024-01-15T09:39:53.989944Z",
     "shell.execute_reply.started": "2024-01-15T09:39:53.963738Z"
    },
    "slideshow": {
     "slide_type": "notes"
    },
    "tags": []
   },
   "outputs": [
    {
     "name": "stdout",
     "output_type": "stream",
     "text": [
      "Overwriting prog.pl\n"
     ]
    }
   ],
   "source": [
    "%%writefile prog.pl\n",
    "/* paritéLongueur(L,P) est vrai ssi la liste L est de parité P */ /* version avec 2 propagations */ \n",
    "pariteLongueur1([],pair).\n",
    "pariteLongueur1([_E],impair).  /* fait utile ? */\n",
    "pariteLongueur1([_E|L],impair):-\n",
    "  pariteLongueur1(L,pair).\n",
    "pariteLongueur1([_E|L],pair):-\n",
    "  pariteLongueur1(L,impair).\n",
    "   \n",
    "main :-  writeln('L ?'), read(L),\n",
    "  pariteLongueur1(L,P), write('Pour L = '), write(L), write(' P : '), writeln(P).\n",
    ":- main."
   ]
  },
  {
   "cell_type": "code",
   "execution_count": 35,
   "id": "4cf885eb-b3e5-423d-a840-15a08052638b",
   "metadata": {
    "editable": true,
    "execution": {
     "iopub.execute_input": "2024-01-15T09:40:06.218930Z",
     "iopub.status.busy": "2024-01-15T09:40:06.218508Z",
     "iopub.status.idle": "2024-01-15T09:40:06.231232Z",
     "shell.execute_reply": "2024-01-15T09:40:06.230651Z",
     "shell.execute_reply.started": "2024-01-15T09:40:06.218909Z"
    },
    "slideshow": {
     "slide_type": "notes"
    },
    "tags": []
   },
   "outputs": [
    {
     "name": "stdout",
     "output_type": "stream",
     "text": [
      "Overwriting prog.pl\n"
     ]
    }
   ],
   "source": [
    "%%writefile prog.pl\n",
    "/* paritéLongueur(L,P) est vrai ssi la liste L est de parité P */ /* version avec 2 prédicats */ \n",
    "pariteLongueur2([],pair).\n",
    "pariteLongueur2([_E|L],Q):-\n",
    "  pariteLongueur2(L,P),\n",
    "  inverse(P,Q).\n",
    "\n",
    "inverse(pair,impair).\n",
    "inverse(impair,pair).\n",
    "\n",
    "main :-  writeln('L ?'), read(L),\n",
    "  pariteLongueur2(L,P), write('Pour L = '), write(L), write(' P : '), writeln(P).\n",
    ":- main."
   ]
  },
  {
   "cell_type": "code",
   "execution_count": 33,
   "id": "40098263-5f64-49c8-8c99-507a0d0d2945",
   "metadata": {
    "editable": true,
    "execution": {
     "iopub.execute_input": "2024-01-15T09:40:01.890768Z",
     "iopub.status.busy": "2024-01-15T09:40:01.890457Z",
     "iopub.status.idle": "2024-01-15T09:40:01.912262Z",
     "shell.execute_reply": "2024-01-15T09:40:01.910889Z",
     "shell.execute_reply.started": "2024-01-15T09:40:01.890744Z"
    },
    "slideshow": {
     "slide_type": "notes"
    },
    "tags": []
   },
   "outputs": [
    {
     "name": "stdout",
     "output_type": "stream",
     "text": [
      "Overwriting prog.pl\n"
     ]
    }
   ],
   "source": [
    "%%writefile prog.pl\n",
    "/* paritéLongueur(L,P) est vrai ssi la liste L est de parité P */ /* version avec 2 faits */ \n",
    "pariteLongueur3([],pair).\n",
    "pariteLongueur3([_E],impair).\n",
    "pariteLongueur3([_E,_F|L],P):-\n",
    "  pariteLongueur3(L,P).\n",
    "\n",
    "main :-  writeln('L ?'), read(L),\n",
    "  pariteLongueur3(L,P), write('Pour L = '), write(L), write(' P : '), writeln(P).\n",
    ":- main."
   ]
  },
  {
   "cell_type": "code",
   "execution_count": 36,
   "id": "0211e3a1-312b-4f8a-ab23-809bfb6269b5",
   "metadata": {
    "editable": true,
    "execution": {
     "iopub.execute_input": "2024-01-15T09:40:08.874261Z",
     "iopub.status.busy": "2024-01-15T09:40:08.873888Z",
     "iopub.status.idle": "2024-01-15T09:40:09.034924Z",
     "shell.execute_reply": "2024-01-15T09:40:09.034272Z",
     "shell.execute_reply.started": "2024-01-15T09:40:08.874237Z"
    },
    "slideshow": {
     "slide_type": "notes"
    },
    "tags": []
   },
   "outputs": [
    {
     "name": "stdout",
     "output_type": "stream",
     "text": [
      "L ?\n",
      "Pour L = [1,2,3,4] P : pair\n"
     ]
    }
   ],
   "source": [
    "!echo \"[1,2,3,4].\" | swipl -g halt -s prog.pl"
   ]
  },
  {
   "cell_type": "code",
   "execution_count": 28,
   "id": "0860caf5-24fa-4e66-a853-22e32f953f79",
   "metadata": {
    "editable": true,
    "execution": {
     "iopub.execute_input": "2024-01-15T09:38:51.144813Z",
     "iopub.status.busy": "2024-01-15T09:38:51.144497Z",
     "iopub.status.idle": "2024-01-15T09:38:51.300298Z",
     "shell.execute_reply": "2024-01-15T09:38:51.299218Z",
     "shell.execute_reply.started": "2024-01-15T09:38:51.144791Z"
    },
    "slideshow": {
     "slide_type": "notes"
    },
    "tags": []
   },
   "outputs": [
    {
     "name": "stdout",
     "output_type": "stream",
     "text": [
      "L ?\n",
      "Pour L = [] P : pair\n"
     ]
    }
   ],
   "source": [
    "!echo \"L.\" | swipl -g halt -s prog.pl"
   ]
  },
  {
   "cell_type": "markdown",
   "id": "c713b06a-e24a-4498-a0f9-4f1b076054ba",
   "metadata": {
    "editable": true,
    "slideshow": {
     "slide_type": "slide"
    },
    "tags": []
   },
   "source": [
    "# Algorithmique classique\n",
    "\n",
    "ProLog permet-il de faire la même chose que les langages \"classiques\" ?\n",
    "\n",
    "* Structures de données\n",
    "  * similaire, sauf pour les Variables, les Variables prolog sont moins souples (mais cela facilitera les preuves de programme plus tard)  \n",
    "la notion de variable classique (modifiable sur place) est plus proche de la notion de paramètre (et il y a plus de paramètre en programmation logique qu'en programmation classique, cela permet de compenser)  \n",
    "Si vous prévoyez de transposer un algorithme classique avec une variable locale changeant régulièrement de valeur (par exemple un accumulateur), ajouter un paramètre à votre programme (pensez à bien l'initialiser)\n",
    "* Structures de contrôle\n",
    "  * Expression (structurelles), Affectation, Séquence, Test : similaire\n",
    "  * Conditionnelle : raisonnement par cas, cependant dans les conditionnelles classiques le \"**OU**\" est exclusif, pour obtenir le même résultat (si nécessaire), il faut garantir le non recouvrement des différents cas, que les cas représentent une partition de l'espace de résolution. Ex pour `Si C alors A sinon B`, traduction :\n",
    "\n",
    "```prolog\n",
    "prog(Env,Sol) :- \n",
    "  testC(Env),\n",
    "  progA(Env,Sol).\n",
    "prog(Env,Sol) :-\n",
    "  testNonC(Env),\n",
    "  progB(Env,Sol).\n",
    "```\n",
    "\n",
    "  * Répétition (boucle) : les boucles sont des conditionnelles récursives ! Traduction de la boucle `Tant que C faire A`:\n",
    "\n",
    "```prolog\n",
    "progTantQue(Env,Sol) :- \n",
    "  testC(Env),\n",
    "  progA(Env,SolInterm),\n",
    "  progTantQue(Env,SolInterm).\n",
    "progTantQue(Env,Sol) :-\n",
    "  testNonC(Env).\n",
    "```\n",
    "\n",
    "Rem. la programmation logique ne permet pas de faire plus/mieux que la programmation classique (il est \"facile' de simuler la programmation logique avec la programmation classique \\[les algo d'unification et de résolution sont donnés])"
   ]
  },
  {
   "cell_type": "markdown",
   "id": "589c41d4-ad40-4123-b195-7c2db6a84766",
   "metadata": {
    "editable": true,
    "slideshow": {
     "slide_type": "slide"
    },
    "tags": []
   },
   "source": [
    "<img src=\"logoUGA.png\"></img>"
   ]
  },
  {
   "cell_type": "code",
   "execution_count": 155,
   "id": "e28467b4-3f67-4b3f-b243-46e98a8b1c41",
   "metadata": {
    "editable": true,
    "execution": {
     "iopub.execute_input": "2024-01-22T15:59:58.949155Z",
     "iopub.status.busy": "2024-01-22T15:59:58.948732Z",
     "iopub.status.idle": "2024-01-22T15:59:58.967468Z",
     "shell.execute_reply": "2024-01-22T15:59:58.966915Z",
     "shell.execute_reply.started": "2024-01-22T15:59:58.949132Z"
    },
    "slideshow": {
     "slide_type": "fragment"
    },
    "tags": []
   },
   "outputs": [
    {
     "name": "stdout",
     "output_type": "stream",
     "text": [
      "Overwriting prog.pl\n"
     ]
    }
   ],
   "source": [
    "%%writefile prog.pl\n",
    "/* max(A,B,M) est vrai ssi le max de A et B vaut M */   /* exemple de conditionnelle simple */\n",
    "max(A,A,A).\n",
    "max(A,B,A):-\n",
    "  A>B.\n",
    "max(A,B,B):-\n",
    "  B>A.\n",
    "\n",
    "main :-  writeln('A ?'), read(A), writeln('B ?'), read(B),\n",
    "  max(A,B,M), write('M : '), writeln(M).\n",
    ":- main. /* rem., on peut tester avec ou sans contraintes : use_module(library(clpq)) */\n",
    "/* sans contraintes : erreur possible pour X. Y. si solution 2 ou si regle 1 plante */"
   ]
  },
  {
   "cell_type": "code",
   "execution_count": 150,
   "id": "6d1dad6f-5758-4abe-bd2f-ab6103b34630",
   "metadata": {
    "editable": true,
    "execution": {
     "iopub.execute_input": "2024-01-22T15:57:19.025393Z",
     "iopub.status.busy": "2024-01-22T15:57:19.025019Z",
     "iopub.status.idle": "2024-01-22T15:57:19.233351Z",
     "shell.execute_reply": "2024-01-22T15:57:19.231970Z",
     "shell.execute_reply.started": "2024-01-22T15:57:19.025374Z"
    },
    "slideshow": {
     "slide_type": "fragment"
    },
    "tags": []
   },
   "outputs": [
    {
     "name": "stdout",
     "output_type": "stream",
     "text": [
      "A ?\n",
      "B ?\n",
      "M : 2\n"
     ]
    }
   ],
   "source": [
    "!echo \"1. 2.\" | swipl -g halt -s prog.pl"
   ]
  },
  {
   "cell_type": "code",
   "execution_count": 154,
   "id": "68d39d17-a30f-46f9-bcb2-541a2f8489f5",
   "metadata": {
    "editable": true,
    "execution": {
     "iopub.execute_input": "2024-01-22T15:59:12.989973Z",
     "iopub.status.busy": "2024-01-22T15:59:12.989640Z",
     "iopub.status.idle": "2024-01-22T15:59:13.010986Z",
     "shell.execute_reply": "2024-01-22T15:59:13.009755Z",
     "shell.execute_reply.started": "2024-01-22T15:59:12.989948Z"
    },
    "slideshow": {
     "slide_type": "notes"
    },
    "tags": []
   },
   "outputs": [
    {
     "name": "stdout",
     "output_type": "stream",
     "text": [
      "Overwriting prog.pl\n"
     ]
    }
   ],
   "source": [
    "%%writefile prog.pl\n",
    "/* longueurClassique(L,N) est vrai ssi L est une liste de longueur N */   /* exemple de boucle simple version classique ! */\n",
    "longueurClassique(L,N) :-\n",
    "  longueur(L,0,N).\n",
    "\n",
    "longueur([_E|L],LongLoc,N) :-\n",
    "  plusUn(LongLocPlusUn,LongLoc),\n",
    "  longueur(L,LongLocPlusUn,N).\n",
    "longueur([],LongLoc,LongLoc).\n",
    "\n",
    "plusUn(NplusUn,N) :-\n",
    "    NplusUn is N+1.\n",
    "\n",
    "main :-  writeln('L ?'), read(L), \n",
    "  longueurClassique(L,N), write('N : '), writeln(N).\n",
    ":- main."
   ]
  },
  {
   "cell_type": "code",
   "execution_count": 68,
   "id": "2a1f330d-6434-43a0-a3ed-4be137559f97",
   "metadata": {
    "editable": true,
    "execution": {
     "iopub.execute_input": "2024-01-15T10:28:40.553952Z",
     "iopub.status.busy": "2024-01-15T10:28:40.553187Z",
     "iopub.status.idle": "2024-01-15T10:28:40.718759Z",
     "shell.execute_reply": "2024-01-15T10:28:40.717635Z",
     "shell.execute_reply.started": "2024-01-15T10:28:40.553934Z"
    },
    "slideshow": {
     "slide_type": "notes"
    },
    "tags": []
   },
   "outputs": [
    {
     "name": "stdout",
     "output_type": "stream",
     "text": [
      "L ?\n",
      "N : 4\n"
     ]
    }
   ],
   "source": [
    "!echo \"[1,2,3,4].\" | swipl -g halt -s prog.pl"
   ]
  },
  {
   "cell_type": "code",
   "execution_count": 70,
   "id": "f8ebbeaa-ba86-4580-bbb1-d4bb85a39d8f",
   "metadata": {
    "editable": true,
    "execution": {
     "iopub.execute_input": "2024-01-15T10:30:08.133628Z",
     "iopub.status.busy": "2024-01-15T10:30:08.133416Z",
     "iopub.status.idle": "2024-01-15T10:30:08.151803Z",
     "shell.execute_reply": "2024-01-15T10:30:08.150962Z",
     "shell.execute_reply.started": "2024-01-15T10:30:08.133614Z"
    },
    "slideshow": {
     "slide_type": "notes"
    },
    "tags": []
   },
   "outputs": [
    {
     "name": "stdout",
     "output_type": "stream",
     "text": [
      "Overwriting prog.pl\n"
     ]
    }
   ],
   "source": [
    "%%writefile prog.pl\n",
    "/* longueur(L,N) est vrai ssi L est une liste de longueur N */   /* version récursive */\n",
    "longueur([_E|L],NPlusUn) :-\n",
    "  longueur(L,N),\n",
    "  plusUn(NPlusUn,N).\n",
    "longueur([],0).\n",
    "\n",
    "plusUn(NplusUn,N) :-\n",
    "    NplusUn is N+1.\n",
    "\n",
    "main :-  writeln('L ?'), read(L), \n",
    "  longueur(L,N), write('N : '), writeln(N).\n",
    ":- main."
   ]
  },
  {
   "cell_type": "code",
   "execution_count": 71,
   "id": "52919d95-0cef-4ecb-9787-1d2fae4fadb1",
   "metadata": {
    "editable": true,
    "execution": {
     "iopub.execute_input": "2024-01-15T10:30:16.732887Z",
     "iopub.status.busy": "2024-01-15T10:30:16.732168Z",
     "iopub.status.idle": "2024-01-15T10:30:16.894309Z",
     "shell.execute_reply": "2024-01-15T10:30:16.892746Z",
     "shell.execute_reply.started": "2024-01-15T10:30:16.732842Z"
    },
    "slideshow": {
     "slide_type": "notes"
    },
    "tags": []
   },
   "outputs": [
    {
     "name": "stdout",
     "output_type": "stream",
     "text": [
      "L ?\n",
      "N : 4\n"
     ]
    }
   ],
   "source": [
    "!echo \"[1,2,3,4].\" | swipl -g halt -s prog.pl"
   ]
  },
  {
   "cell_type": "markdown",
   "id": "8eaedc87-f209-4582-a28b-937589f3c901",
   "metadata": {
    "editable": true,
    "slideshow": {
     "slide_type": "slide"
    },
    "tags": []
   },
   "source": [
    "<img src=\"logoUGA.png\"></img>\n",
    "\n",
    "# Propriétés algorithmiques"
   ]
  },
  {
   "cell_type": "markdown",
   "id": "e4bcfecc-da02-4c59-9eba-603010d20e26",
   "metadata": {
    "editable": true,
    "slideshow": {
     "slide_type": "slide"
    },
    "tags": []
   },
   "source": [
    "## Correction\n",
    "\n",
    "Un programme (ensemble de faits et de règles) est correct vis à vis d'une spécification quand les faits produits par ce programme correspondent aux spécifications (i.e. : sont corrects vis à vis des spécifications, vérifient ces spécifications)\n",
    "\n",
    "Pour prouver la correction d'un programme, il faut vérifier que les faits sont correctes et que chaque règle engendre des faits corrects. Chaque preuve est réduite à la règle, avec une hypothèse de correction globale (c'est un avantage du découpage / raisonnement par cas)\n",
    "\n",
    "Faudra-t-il faire des preuves formelles ? Ce serait faire dire des \"et\" à des \"et\" et composer des spécifications (informelle ?).\n",
    "\n",
    "Dans une approche semi-formelle, il suffit de trouver des arguments convaincants ; cela doit reposer sur des quasi-évidences ; pour chaque fait et règle, individuellement\n",
    "\n",
    "Conclusion : version limitée de la correction (un minimum d'argumentation sera nécessaire, mais \"on\" n'ira pas au delà)"
   ]
  },
  {
   "cell_type": "markdown",
   "id": "32d90d2f-1b5e-4b48-9779-5fb0911086e0",
   "metadata": {
    "editable": true,
    "slideshow": {
     "slide_type": "slide"
    },
    "tags": []
   },
   "source": [
    "## Complétude\n",
    "\n",
    "Un programme sera dit complet vis à vis d'un problème, si toutes les solutions seront produites par ce programme ; il ne sera pas complet, si des instances du problème ayant des solutions ne reçoivent pas de solutions\n",
    "\n",
    "Pour prouver la complétude d'un programme, il faut prouver que le découpage par cas recouvre l'ensemble données et des solutions du problème. Certains cas peuvent donc ne pas apparaître dans le découpage si ils ne donnent pas lieu à solution, mais sinon, il faut qu'ils y soient.\n",
    "\n",
    "Une analyse des têtes de règle permet souvent de prouver la complétude d'un programme (c'est le cas de problème à solution unique pour un ensemble d'entrée déterminé)\n",
    "\n",
    "La preuve de complétude nécessite donc une analyse globale d'un ensemble de règle (souvent réduite à l'analyse des têtes de règles, mais cela reste une analyse globale)\n",
    "\n",
    "Des contraintes dans le corps des règles peuvent invalider certains cas/tête. Dans ce cas, l'analyse doit être plus fine.\n",
    "\n",
    "Pour faciliter l'analyse de la complétude, une analyse de la combinatoire des situations peut être utile. Ex. : cas de l'analyse d'une partie de shifumi (peut dépendre de ce que l'on veut avoir comme comportement : le nom du vainqueur, si le premier jour gagne, si la partie est nulle, etc.)\n",
    "\n",
    "Rem. : un programme complet peut fournir plusieurs solutions (identiques ou différentes) à un problème donnée, c'est le cas des résolutions non-déterministes (voir le non-déterminisme plus loin), cela n'empêche pas le programme d'être complet."
   ]
  },
  {
   "cell_type": "markdown",
   "id": "a3026979-4d7e-46e4-9e19-9bf011f250cd",
   "metadata": {
    "editable": true,
    "slideshow": {
     "slide_type": "slide"
    },
    "tags": []
   },
   "source": [
    "## Terminaison\n",
    "\n",
    "L'exécution d'un programme termine si la résolution de la requête initiale se termine après un nombre fini d'étapes (pas de boucle infini).\n",
    "\n",
    "Parmi les exécutions de programmes ne terminant pas :\n",
    "\n",
    "* il y a ceux qui cherchent une solution indéfiniment mais ne donnent aucune solution (en un temps fini, qlq soit sa durée)\n",
    "* il y a ceux qui donnent une ou une partie des solutions en un temps fini, mais qui échouent à donner certaines solutions quelque soit le temps attendu\n",
    "* il y a ceux qui donneront tous les solutions attendues si l'on attends assez longtemps (c'est le cas de programmes décrivant dans un bon ordre un ensemble infini de solution)\n",
    "\n",
    "Pour prouver la terminaison d'un programme, il suffit en général d'exhiber une fonction archimédienne bornée basée sur l'exécution du programme, par exemple la taille d'une liste, de taille finie au début et réduite d'un élément au moins à chaque appel récursif (c'est un cas courant).\n",
    "\n",
    "La preuve doit être fait pour chaque appel récursif (individuellement).\n",
    "\n",
    "Au delà de la terminaison, la complexité algorithmique d'un programme peut être définie, avec 2 variantes (par ex.) :\n",
    "\n",
    "* nombre d'étapes nécessaire pour produire la première solution d'un programme\n",
    "* nombre d'étapes nécessaire pour produire l'ensemble des solutions et s'arréter\n",
    "\n",
    "Attention, les preuves de terminaison disent si les exécutions se terminent, elles ne disent pas si elles se terminent avec une solution ou pas. Attention aux programmes qui se terminent trop facilement, sans donner de solution ou en donnant des solutions qui n'en sont pas (par exemple, pour vérifier la croissance d'une liste, ou couper une liste en deux sous-listes de même longueur \\[ou presque], en prenant 2 éléments par 2 éléments, la croissance sera par morceau, ou le découpage peut échouer...)"
   ]
  },
  {
   "cell_type": "markdown",
   "id": "f4c4e4fe-8396-4ab4-9cdc-689c9ff24703",
   "metadata": {
    "editable": true,
    "slideshow": {
     "slide_type": "slide"
    },
    "tags": []
   },
   "source": [
    "<img src=\"logoUGA.png\"></img>\n",
    "\n",
    "## Exemple de programmes à problème \n",
    "\n",
    "Termine, correct, mais incomplet "
   ]
  },
  {
   "cell_type": "code",
   "execution_count": 171,
   "id": "bc8fc297-2eb4-47ae-916f-6b70cb03e4a4",
   "metadata": {
    "editable": true,
    "execution": {
     "iopub.execute_input": "2024-01-23T08:05:14.888682Z",
     "iopub.status.busy": "2024-01-23T08:05:14.887407Z",
     "iopub.status.idle": "2024-01-23T08:05:14.913958Z",
     "shell.execute_reply": "2024-01-23T08:05:14.912775Z",
     "shell.execute_reply.started": "2024-01-23T08:05:14.888647Z"
    },
    "slideshow": {
     "slide_type": "fragment"
    },
    "tags": []
   },
   "outputs": [
    {
     "name": "stdout",
     "output_type": "stream",
     "text": [
      "Overwriting prog.pl\n"
     ]
    }
   ],
   "source": [
    "%%writefile prog.pl\n",
    "/* coupe(L,P,Q) est vrai ssi L est une liste et P, Q deux sous listes (rg pair/impair) */ \n",
    "coupe([],[],[]).\n",
    "coupe([E],[E],[]).\n",
    "coupe([E,F|L],[E|P],[F|Q]) :-\n",
    "  coupe(L,P,Q).\n",
    "\n",
    "main :-  writeln('L ?'), read(L), \n",
    "  coupe(L,P,Q), write('P : '), writeln(P), write('Q : '), writeln(Q).\n",
    ":- main."
   ]
  },
  {
   "cell_type": "markdown",
   "id": "75dfc00b-54e5-4247-a36f-14ee0a811625",
   "metadata": {
    "editable": true,
    "slideshow": {
     "slide_type": "notes"
    },
    "tags": []
   },
   "source": [
    "Des fois cela peut marcher, et des fois, non. Cela dépend de la requête. Dans certains cas on peut donner un exemple qui marche et un qui ne marche pas.\n",
    "\n",
    "Que donne la requête suivante ? (donner aussi si c'est possible une requête qui n'a pas le même comportement)"
   ]
  },
  {
   "cell_type": "code",
   "execution_count": 174,
   "id": "ea72308c-e36f-4554-b96a-d451821eca5d",
   "metadata": {
    "editable": true,
    "execution": {
     "iopub.execute_input": "2024-01-23T08:06:25.904082Z",
     "iopub.status.busy": "2024-01-23T08:06:25.903610Z",
     "iopub.status.idle": "2024-01-23T08:06:26.131146Z",
     "shell.execute_reply": "2024-01-23T08:06:26.128785Z",
     "shell.execute_reply.started": "2024-01-23T08:06:25.904032Z"
    },
    "slideshow": {
     "slide_type": "fragment"
    },
    "tags": []
   },
   "outputs": [
    {
     "name": "stdout",
     "output_type": "stream",
     "text": [
      "L ?\n",
      "P : [1,3,5]\n",
      "Q : [2,4]\n"
     ]
    }
   ],
   "source": [
    "!echo \"[1,2,3,4,5].\" | swipl -g halt -s prog.pl"
   ]
  },
  {
   "cell_type": "markdown",
   "id": "4a1881ed-b48a-49cb-9c18-ff298986c05f",
   "metadata": {
    "editable": true,
    "slideshow": {
     "slide_type": "slide"
    },
    "tags": []
   },
   "source": [
    "<img src=\"logoUGA.png\"></img>\n",
    "\n",
    "Termine, complet, mais incorrect "
   ]
  },
  {
   "cell_type": "code",
   "execution_count": 191,
   "id": "a1874705-23be-49f5-9ad4-d051b254019f",
   "metadata": {
    "editable": true,
    "execution": {
     "iopub.execute_input": "2024-01-23T08:19:38.686101Z",
     "iopub.status.busy": "2024-01-23T08:19:38.685640Z",
     "iopub.status.idle": "2024-01-23T08:19:38.716844Z",
     "shell.execute_reply": "2024-01-23T08:19:38.715664Z",
     "shell.execute_reply.started": "2024-01-23T08:19:38.686048Z"
    },
    "slideshow": {
     "slide_type": "fragment"
    },
    "tags": []
   },
   "outputs": [
    {
     "name": "stdout",
     "output_type": "stream",
     "text": [
      "Overwriting prog.pl\n"
     ]
    }
   ],
   "source": [
    "%%writefile prog.pl\n",
    "/* croissant(L) est vrai ssi L est une liste croissante */ \n",
    "croissant([]).\n",
    "croissant([_E]).\n",
    "croissant([E,F|L]) :-\n",
    "  {E<F},\n",
    "  croissant([F|L]).\n",
    "\n",
    "main :-  writeln('L ?'), read(L), \n",
    "  croissant(L), writeln('croissant.').\n",
    ":- use_module(library(clpq)), main."
   ]
  },
  {
   "cell_type": "markdown",
   "id": "6e1aecdb-dd94-4791-87e0-40b6fac51525",
   "metadata": {
    "editable": true,
    "slideshow": {
     "slide_type": "notes"
    },
    "tags": []
   },
   "source": [
    "Des fois cela peut marcher, et des fois, non. Cela dépend de la requête. Dans certains cas on peut donner un exemple qui marche et un qui ne marche pas.\n",
    "\n",
    "\n",
    "Que donne la requête suivante ? (donner aussi si c'est possible une requête qui n'a pas le même comportement)"
   ]
  },
  {
   "cell_type": "code",
   "execution_count": 193,
   "id": "90d1dce5-dfe7-4a47-9e99-1d89bc203ecb",
   "metadata": {
    "editable": true,
    "execution": {
     "iopub.execute_input": "2024-01-23T08:19:52.881361Z",
     "iopub.status.busy": "2024-01-23T08:19:52.880838Z",
     "iopub.status.idle": "2024-01-23T08:19:53.174331Z",
     "shell.execute_reply": "2024-01-23T08:19:53.172289Z",
     "shell.execute_reply.started": "2024-01-23T08:19:52.881333Z"
    },
    "slideshow": {
     "slide_type": "fragment"
    },
    "tags": []
   },
   "outputs": [
    {
     "name": "stdout",
     "output_type": "stream",
     "text": [
      "L ?\n",
      "\n",
      "Warning: Goal (directive) failed: user:(use_module(library(clpq)),main)\n"
     ]
    }
   ],
   "source": [
    "!echo \"[3,X,2,6].\" | swipl -g halt -s prog.pl"
   ]
  },
  {
   "cell_type": "markdown",
   "id": "fa3d2cc6-e220-4154-a7d4-125c980b39e6",
   "metadata": {
    "editable": true,
    "slideshow": {
     "slide_type": "slide"
    },
    "tags": []
   },
   "source": [
    "<img src=\"logoUGA.png\"></img>\n",
    "\n",
    "Complet, correct, mais ne termine pas."
   ]
  },
  {
   "cell_type": "code",
   "execution_count": 195,
   "id": "efae17ed-e400-4254-9f91-84b7af5c74c5",
   "metadata": {
    "editable": true,
    "execution": {
     "iopub.execute_input": "2024-01-23T08:23:41.059307Z",
     "iopub.status.busy": "2024-01-23T08:23:41.058509Z",
     "iopub.status.idle": "2024-01-23T08:23:41.092790Z",
     "shell.execute_reply": "2024-01-23T08:23:41.091236Z",
     "shell.execute_reply.started": "2024-01-23T08:23:41.059275Z"
    },
    "slideshow": {
     "slide_type": "fragment"
    },
    "tags": []
   },
   "outputs": [
    {
     "name": "stdout",
     "output_type": "stream",
     "text": [
      "Overwriting prog.pl\n"
     ]
    }
   ],
   "source": [
    "%%writefile prog.pl\n",
    "/* coupe(L,P,Q) est vrai ssi L est une liste et P, Q deux sous listes (début / fin ) */ \n",
    "coupe(L,P,Q) :-\n",
    "  longueur(P,N),\n",
    "  longueur(Q,N),\n",
    "  concatene(P,Q,L).\n",
    "coupe(L,P,Q) :-\n",
    "  longueur(P,N),\n",
    "  longueur(Q,NPlus1),\n",
    "  plusUn(NPlus1,N),\n",
    "  concatene(P,Q,L).\n",
    "\n",
    "longueur([_E|L],NPlusUn) :-\n",
    "  longueur(L,N),\n",
    "  plusUn(NPlusUn,N).\n",
    "longueur([],0).\n",
    "\n",
    "plusUn(NplusUn,N) :-\n",
    "    NplusUn is N+1.\n",
    "\n",
    "concatene([],F,F).\n",
    "concatene([E|L],F,[E|R]):-\n",
    "  concatene(L,F,R).\n",
    "\n",
    "\n",
    "main :-  writeln('L ?'), read(L), \n",
    "  coupe(L,P,Q), write('P : '), writeln(P), write('Q : '), writeln(Q).\n",
    ":- main."
   ]
  },
  {
   "cell_type": "markdown",
   "id": "9716f56d-8014-4e17-a4b6-41fa43b05e25",
   "metadata": {
    "editable": true,
    "slideshow": {
     "slide_type": "notes"
    },
    "tags": []
   },
   "source": [
    "Des fois cela peut marcher, et des fois, non. Cela dépend de la requête. Dans certains cas on peut donner un exemple qui marche et un qui ne marche pas.\n",
    "\n",
    "\n",
    "Que donne la requête suivante ? (donner aussi si c'est possible une requête qui n'a pas le même comportement)"
   ]
  },
  {
   "cell_type": "code",
   "execution_count": 196,
   "id": "13b005ba-fa79-4b70-a641-06b397068559",
   "metadata": {
    "editable": true,
    "execution": {
     "iopub.execute_input": "2024-01-23T08:23:43.709551Z",
     "iopub.status.busy": "2024-01-23T08:23:43.708940Z",
     "iopub.status.idle": "2024-01-23T08:23:46.676628Z",
     "shell.execute_reply": "2024-01-23T08:23:46.674673Z",
     "shell.execute_reply.started": "2024-01-23T08:23:43.709509Z"
    },
    "slideshow": {
     "slide_type": "fragment"
    },
    "tags": []
   },
   "outputs": [
    {
     "name": "stdout",
     "output_type": "stream",
     "text": [
      "L ?\n",
      "\n",
      "ERROR: Stack limit (1.0Gb) exceeded\n",
      "ERROR:   Stack sizes: local: 0.8Gb, global: 0.2Gb, trail: 38.4Mb\n",
      "ERROR:   Stack depth: 5,032,945, last-call: 0%, Choice points: 5,032,923\n",
      "ERROR:   Possible non-terminating recursion:\n",
      "ERROR:     [5,032,945] user:longueur(_40266196, _40266198)\n",
      "ERROR:     [5,032,944] user:longueur([length:1|_40266224], _40266218)\n",
      "Warning: Goal (directive) failed: user:main\n"
     ]
    }
   ],
   "source": [
    "!echo \"[1,2,3,4].\" | swipl -g halt -s prog.pl"
   ]
  },
  {
   "cell_type": "markdown",
   "id": "1bfe7b84-1e89-4956-af9c-bc1afc0d6bfb",
   "metadata": {
    "editable": true,
    "slideshow": {
     "slide_type": "slide"
    },
    "tags": []
   },
   "source": [
    "<img src=\"logoUGA.png\"></img>\n",
    "\n",
    "## Autres propriétés (liées à la programmation déclarative)\n",
    "\n",
    "**Non-déterminisme** : quand plusieurs solutions peuvent être données à une même situation. (rem. : certaines ou toutes les solutions peuvent être redondantes). C'est surtout utile pour des recherches combinatoires et de la programmation par contraintes (à voir plus tard).\n",
    "\n",
    "**Réversibilité** : quand le programme permet de remonter des solutions aux données ; ou plus généralement quand la notion de donnée/sortie n'est pas prise en compte. Ajoute de la souplesse dans la programmation, mais peut être difficile à obtenir. (à voir plus tard)."
   ]
  },
  {
   "cell_type": "markdown",
   "id": "b3349d45-1dc4-4ad4-928b-3b137f60d928",
   "metadata": {
    "editable": true,
    "slideshow": {
     "slide_type": "slide"
    },
    "tags": []
   },
   "source": [
    "<img src=\"logoUGA.png\"></img>\n",
    "\n",
    "## Conclusion\n",
    "\n",
    "Les propriétés **correction/complétude/terminaison** aident à écrire ses programmes avec un découpage local/global qui peut clarifier le travail :\n",
    "\n",
    "* la complétude : pour trouver l'ensemble des cas de base (analyse globale souvent réduite aux têtes de règles)\n",
    "* correction et terminaison : pour rédiger chaque cas individuellement (analyses locales, individuelles, pour chaque cas)\n",
    "\n",
    "En programmation classique, (il arrive que l')on écrit/ve le programme puis on prouve la correction/complétude/terminaison et on calcul la complexité algorithmique ; en programmation déclarative, le processus est en partie inversé, on (peut) raisonner sur la complétude/correction pour écrire l'essentiel du programme en assurant la terminaison par construction et vérifier la complexité à la fin : la correction/completude/terminaison est obtenue par construction, ou à la construction, c'est peut-être plus délicat à écrire, mais au final on a les propriétés voulues sans avoir à les payer à la suite ! Le bilan est positif.  \n",
    "D'où le scénario de programmation suivant :\n",
    "\n",
    "* raisonner sur un découpage global des différents cas à analyser (**raisonnement par cas**) avec la **complétude** en tête, et en ayant l'intuition des cas particuliers à prendre en compte. Si possible, faire un découpage qui soit une partition des cas, c'est à dire en ayant un découpage ou chaque cas est exclusif des autres. Si ce n'est pas possible, le programme pourra être non-déterministe, cela peut être un effet recherché pour énumérer l'ensemble des solutions ou faire un générateur de tests.\n",
    "* pour chaque cas, partir d'un schéma de programmation classique avec une décomposition/recomposition assurant la **terminaison**, si le sous-problème à résoudre pour le SousEnvironnement est similaire au problème initial, utiliser la **récursivité**, attention, ce n'est pas toujours le cas, il ce peut que le sous-problème à résoudre pour le SousEnvironnement soit légèrement différent ou très différent, alors introduire un autre programme spécifique pour résoudre ce sous-problème\n",
    "* compléter le schéma classique en respectant la **spécification** pour établir la **correction** de votre programme.\n",
    "\n",
    "Et la programmation ressemble à la définition récursive de nos programmes, sous forme d'équations de récurrence.\n",
    "\n",
    "La **récursivité** est (probablement) plus difficile à maîtriser (?), mais ouvre la voie aux programmations sans bug, optimisées et adaptées aux données complexes/naturelles (en forme d'arbres ou de réseaux \\[graphes])"
   ]
  },
  {
   "cell_type": "markdown",
   "id": "74aab294-52b7-49b1-a537-91e3c5f91ffa",
   "metadata": {
    "editable": true,
    "slideshow": {
     "slide_type": "notes"
    },
    "tags": []
   },
   "source": [
    "# Exemples\n",
    "\n",
    "* premier, dernier\n",
    "* ajouterEnPremier, ajouterEnDernier\n",
    "* estTrié, différencesSuccessives\n",
    "* concatener\n",
    "* suppressionDoublonConsécutifs, inversionOrdre\n",
    "* coupeEnDeux\n"
   ]
  },
  {
   "cell_type": "markdown",
   "id": "6518733e-a2d3-4743-81ec-8d980875e426",
   "metadata": {
    "editable": true,
    "slideshow": {
     "slide_type": "notes"
    },
    "tags": []
   },
   "source": [
    "## Sur Caseine\n",
    "\n",
    "Prévu pour TD2 :\n",
    "\n",
    "* Ensemble 1 \n",
    "  * longueur\n",
    "  * dérivation\n",
    "  * inversion\n",
    "  * palindrome\n",
    "* Ensemble 2\n",
    "  * somme\n",
    "  * supprimer0\n",
    "  * supprimerDoublonQlcq\n",
    "* Ensemble 3\n",
    "  * prefixe\n",
    "  * coupe\n",
    "  * echangeDebutFin\n",
    " \n",
    "Prévu pour TD 3\n",
    "\n",
    "* les 4 Tris\n",
    "  * insertion et triInsertion\n",
    "  * minimum et triSelectionMin\n",
    "  * fusion et triFusion\n",
    "  * coupe et triPivot"
   ]
  }
 ],
 "metadata": {
  "kernelspec": {
   "display_name": "Python 3 (ipykernel)",
   "language": "python",
   "name": "python3"
  },
  "language_info": {
   "codemirror_mode": {
    "name": "ipython",
    "version": 3
   },
   "file_extension": ".py",
   "mimetype": "text/x-python",
   "name": "python",
   "nbconvert_exporter": "python",
   "pygments_lexer": "ipython3",
   "version": "3.10.12"
  },
  "rise": {
   "scroll": true
  },
  "title": "Cours 2 : Algorithmique élémentaire"
 },
 "nbformat": 4,
 "nbformat_minor": 5
}
