{
 "cells": [
  {
   "cell_type": "markdown",
   "id": "33601c1e-961d-4b94-b5a3-70f34ef92dff",
   "metadata": {
    "editable": true,
    "slideshow": {
     "slide_type": "slide"
    },
    "tags": []
   },
   "source": [
    "# Introduction à la Programmation Logique\n",
    "\n",
    "Séance 1+ et 2, Cours 1\n"
   ]
  },
  {
   "cell_type": "markdown",
   "id": "65e96170-8b37-4385-8632-542d8d7942ea",
   "metadata": {
    "editable": true,
    "slideshow": {
     "slide_type": "skip"
    },
    "tags": []
   },
   "source": [
    "Un plan pour commencer :"
   ]
  },
  {
   "cell_type": "markdown",
   "id": "ab1220a9-abf3-4987-bb2d-0ad5e0813705",
   "metadata": {
    "editable": true,
    "slideshow": {
     "slide_type": "slide"
    },
    "tags": []
   },
   "source": [
    "1) Histoire et diversité des langages de programmation\n",
    "2) Démonstration IA de ProLog\n",
    "3) Structure de ProLog\n",
    "   * Principe (Delahaye)\n",
    "   * Lexical\n",
    "   * Grammaire\n",
    "   * Unification\n",
    "   * Exécution\n",
    "   * Arbre\n",
    "4) Premiers exemples sur les listes"
   ]
  },
  {
   "cell_type": "markdown",
   "id": "8b3d8f62-4c26-41f0-98f7-d5aea2595cd7",
   "metadata": {
    "editable": true,
    "slideshow": {
     "slide_type": "slide"
    },
    "tags": []
   },
   "source": [
    "# Histoire des langages de programmation\n",
    "\n",
    "ou brainstorming sur \"quels langages de programmation connaissez-vous ? Et quels paradigmes ?\"\n",
    "\n",
    "Ceux qui nous intéressent :\n",
    "\n",
    "* Approche logique\n",
    "* Approche par contraintes\n",
    "* Approche parallèle\n",
    "* Approche fonctionnelle (pure)  \n",
    "\n",
    "Autres perspectives\n",
    "\n",
    "* Algo vs Données\n",
    "* Action vs Etat\n",
    "* IA (symbolique vs statistique) ? Typage ? Performance ?\n",
    "\n"
   ]
  },
  {
   "cell_type": "markdown",
   "id": "e70063f2-6a8f-4619-a9ae-a298826b0755",
   "metadata": {
    "editable": true,
    "slideshow": {
     "slide_type": "notes"
    }
   },
   "source": [
    "Pour repérer dans le temps, tous ces paradigmes ou langage, voici une carte des langages trouvée sur le web (il y en a de plus récentes, celle-ci s'arrête en 2002 avant Rust, GoLang, Kotlin,...) "
   ]
  },
  {
   "cell_type": "markdown",
   "id": "c5e49253-a6d3-46df-a6b5-adb8a7efaacd",
   "metadata": {
    "editable": true,
    "slideshow": {
     "slide_type": "slide"
    },
    "tags": []
   },
   "source": [
    "![](histLangProgBig.png)"
   ]
  },
  {
   "cell_type": "markdown",
   "id": "39553de8-26cf-45a6-a23d-8e22bfa90d5b",
   "metadata": {
    "editable": true,
    "slideshow": {
     "slide_type": "slide"
    },
    "tags": []
   },
   "source": [
    "Quelques étapes ou formes (?), dans la progression (en facilité d'écriture, de compréhension, de preuve, d'amélioration, etc.) :  \n",
    "\n",
    "* programmation par **schéma**\n",
    "* programmation assembleur par **sauts**\n",
    "* programmation (assembleur) **indentée** (structurée (?))\n",
    "* programmation structurée ou par **blocs**\n",
    "* extension par une structuration de plus haut niveau, par **objet**"
   ]
  },
  {
   "cell_type": "markdown",
   "id": "0cba5d21-2805-4f8c-8614-9f81d179cc16",
   "metadata": {
    "editable": true,
    "slideshow": {
     "slide_type": "notes"
    },
    "tags": []
   },
   "source": [
    "commentaires :  \n",
    "\n",
    "* programmation à partir de **schéma** (cf. le premier programme selon l'Eniac, ou la programmation des circuits ou les logigrammes/algorigrammes/organigrammes), l'algorithmique s'y exprime à travers des mémoires pour les variables, des multiplexeurs pour les conditionnelles, des boucles (physiques) pour les boucles (algorithmiques)\n",
    "* programmation assembleur (cf. le premier programme selon la machine de Manchester, SSEM dit \"Baby\"), l'algorithmique s'y exprime à travers des **sauts**, saut en avant pour les conditionnelles, saut en arrière pour les boucles, accès à la mémoire pour les variables\n",
    "* programmation (assembleur, puis beaucoup d'autres, dont en particulier Python) **indentée**/structurée (?) (avant l'introduction des blocs), les structures algorithmiques sont les mêmes que précédemment, mais l'indentation est un essai de mise en évidences de ces structures pour faciliter la lecture, la compréhension, les preuves, les modifications\n",
    "* programmation structurée ou par **blocs** (c'est la forme actuelle la plus utilisée) avec une définition explicite du début et de la fin des blocs par les structures de conditionnelles ou de boucles, l'interdiction -le plus souvent- d'entrer ou de sortir du bloc hors des débuts et fins (interdiction des sauts)\n",
    "* extension de la programmation précédente par une structuration de plus haut niveau, par **objet**"
   ]
  },
  {
   "cell_type": "markdown",
   "id": "cef86ac8-c956-402e-b0a7-46a0839dfc25",
   "metadata": {
    "editable": true,
    "slideshow": {
     "slide_type": "fragment"
    },
    "tags": []
   },
   "source": [
    "Autres formes (minoritaires ?) :  \n",
    "\n",
    "* programmation **récursive**\n",
    "* programmation **fonctionnelle** (pure)\n",
    "* programmation **déclarative** (dont programmation logique, programmation par contraintes et programmation logique par contraintes)\n",
    "* programmation **parallèle**\n",
    "* programmation **lettrée\" (ou littéraire, comme ce document)\n",
    "\n",
    "Quelques illustrations ? "
   ]
  },
  {
   "cell_type": "markdown",
   "id": "a1e9ee78-912f-4acb-b922-e0b36edc8257",
   "metadata": {
    "editable": true,
    "slideshow": {
     "slide_type": "subslide"
    },
    "tags": []
   },
   "source": [
    "Illustrations\n",
    "\n",
    "Sur l'Eniac :  \n",
    "\n",
    "![eniac-program.png](eniac-program.png)\n",
    "\n",
    "Sur la machine de Manchester :  \n",
    "\n",
    "![the-first-computer-program-n.png](the-first-computer-program-n.png)\n",
    "\n",
    "En assembleur Arm (32 bits) :  \n",
    "\n",
    "```\n",
    "red:\n",
    "    push {lr}\n",
    "    mov r5, #0 @i <- 0\n",
    "    mov r6, r1 @ on deplace la taille de r1 à r6 \n",
    "    mov r7, r0 @ adresse du tab de r0 à r1\n",
    "tantque :\n",
    "    cmp r5, r6\n",
    "    beq fintantque\n",
    "    ldrb  r1, [r7, r5]   @ on recupere l'octet courant\n",
    "    mov r0, r2\n",
    "    bl EcrNdecim32\n",
    "    blx r3\n",
    "    add r5, r5, #1\n",
    "    bal tantque\n",
    "fintantque:\n",
    "    mov r4 , r0\n",
    "    pop {lr}\n",
    "    bx lr\n",
    "```\n",
    "\n",
    "En Python :  \n",
    "\n",
    "```Python\n",
    "    def tri(self):\n",
    "        if self.tete == None :\n",
    "            pass\n",
    "        else :\n",
    "            if (self.tete).suivant == None :\n",
    "                pass\n",
    "            else :\n",
    "                liste = Sequence()\n",
    "                cel = Cellule()\n",
    "                cel.valeur = (self.tete).valeur\n",
    "                liste.tete = cel\n",
    "                cell = (self.tete).suivant\n",
    "                while (cell.suivant != None) :\n",
    "                    Sequence.insertion_triee(liste,cell.valeur)\n",
    "                    cell = cell.suivant\n",
    "                Sequence.insertion_triee(liste, cell.valeur)\n",
    "                self.tete = liste.tete\n",
    "```\n",
    "En C :  \n",
    "\n",
    "```C\n",
    "void tri(liste_t *l) {\n",
    "  liste_t *liste2=malloc(sizeof(liste2));\n",
    "  cellule_t *cell=malloc(sizeof(cell));\n",
    "  cellule_t *nouveau=malloc(sizeof(nouveau));\n",
    "  if(l->tete==NULL){\n",
    "      return;}\n",
    "  cell=l->tete;\n",
    "  nouveau->valeur=cell->valeur;\n",
    "  nouveau->suivant=NULL;\n",
    "  liste2->tete=nouveau;\n",
    "  while(cell->suivant!=NULL){\n",
    "      cell=cell->suivant;\n",
    "      insertion(liste2,cell->valeur);\n",
    "      printf(\"OK\\n\");}\n",
    "  l->tete=liste2->tete;\n",
    "  return;}\n",
    "```\n",
    "\n",
    "En Prolog :  \n",
    "\n",
    "```Prolog\n",
    "tri([],[]).\n",
    "tri([X],[X]).\n",
    "tri([X,Y|L],T3):-\n",
    "    divise([X,Y|L],L1,L2),\n",
    "    tri(L1,T1),\n",
    "    tri(L2,T2),\n",
    "    fusion(T1,T2,T3).\n",
    "```\n",
    "\n",
    "Plus d'exemples sur [https://rosettacode.org/wiki/Rosetta_Code](https://rosettacode.org/wiki/Rosetta_Code) :  \n",
    "\n",
    "(remarques : parfois avec/sans version récursives ; la comparaison non-récursive vs récursive est intéressante)  \n",
    "\n",
    "* [https://rosettacode.org/wiki/Sorting_algorithms/Merge_sort#AArch64_Assembly](https://rosettacode.org/wiki/Sorting_algorithms/Merge_sort#AArch64_Assembly)\n",
    "* [https://rosettacode.org/wiki/Sorting_algorithms/Merge_sort#Python](https://rosettacode.org/wiki/Sorting_algorithms/Merge_sort#Python)\n",
    "* [https://rosettacode.org/wiki/Sorting_algorithms/Merge_sort#C](https://rosettacode.org/wiki/Sorting_algorithms/Merge_sort#C)\n",
    "* [https://rosettacode.org/wiki/Sorting_algorithms/Merge_sort#Prolog](https://rosettacode.org/wiki/Sorting_algorithms/Merge_sort#Prolog)\n",
    "* [https://rosettacode.org/wiki/Sorting_algorithms/Merge_sort#Erlang](https://rosettacode.org/wiki/Sorting_algorithms/Merge_sort#Erlang)"
   ]
  },
  {
   "cell_type": "markdown",
   "id": "02b0c008-4e07-4133-a28a-0733ccffd0c2",
   "metadata": {
    "editable": true,
    "slideshow": {
     "slide_type": "slide"
    },
    "tags": []
   },
   "source": [
    "# Démonstration \n",
    "\n",
    "*avec éléments de syntaxe et principes (déclaratifs) de base*\n",
    "\n",
    "\n",
    "A propos de la famille Ingalls\n",
    "\n",
    "```\n",
    "       lansford\n",
    "        /      \\\n",
    "     peter       charles\n",
    "      / \\        |    \\   \\\n",
    "  alice  ella   mary laura carrie\n",
    "    |      |     |     |\n",
    "  altha   earl  adam  rose\n",
    "```"
   ]
  },
  {
   "cell_type": "markdown",
   "id": "e7b68b3f-5bd2-4b3f-9364-5963d7da5c3c",
   "metadata": {
    "editable": true,
    "slideshow": {
     "slide_type": "skip"
    },
    "tags": []
   },
   "source": [
    "&nbsp;\n",
    "\n",
    "voir [swish](https://swish.swi-prolog.org/p/matriarcatIngallsSauvegardePublique.swinb) pour une version de secours (interactive aussi)"
   ]
  },
  {
   "cell_type": "markdown",
   "id": "b20619c3-c905-4342-902c-e36ceae452ce",
   "metadata": {
    "editable": true,
    "slideshow": {
     "slide_type": "slide"
    },
    "tags": []
   },
   "source": [
    "Sous forme Prolog, cette base de faits sera rédigée de la manière suivante :"
   ]
  },
  {
   "cell_type": "code",
   "execution_count": 9,
   "id": "57d96c87-6760-4bf4-9a7d-72e05f036464",
   "metadata": {
    "editable": true,
    "slideshow": {
     "slide_type": "fragment"
    },
    "tags": []
   },
   "outputs": [
    {
     "name": "stdout",
     "output_type": "stream",
     "text": [
      "Overwriting parent.pl\n"
     ]
    }
   ],
   "source": [
    "%%writefile parent.pl\n",
    "parent(lansford,peter).\n",
    "parent(peter,alice).\n",
    "parent(alice,altha).\n",
    "parent(peter,ella).\n",
    "parent(ella,earl).\n",
    "parent(lansford,charles).\n",
    "parent(charles,mary).\n",
    "parent(mary,adam).\n",
    "parent(charles,laura).\n",
    "parent(laura,rose).\n",
    "parent(charles,carrie)."
   ]
  },
  {
   "cell_type": "markdown",
   "id": "22814090-e810-48c9-a186-e7a4d87cb909",
   "metadata": {
    "editable": true,
    "slideshow": {
     "slide_type": "slide"
    },
    "tags": []
   },
   "source": [
    "Pour interroger, un petit programme \"principal\" spécial \"parent\" :"
   ]
  },
  {
   "cell_type": "code",
   "execution_count": 11,
   "id": "8bd99c07-8b31-48d4-887f-730440c3d39a",
   "metadata": {
    "editable": true,
    "execution": {
     "iopub.execute_input": "2024-01-11T10:54:45.001713Z",
     "iopub.status.busy": "2024-01-11T10:54:45.000608Z",
     "iopub.status.idle": "2024-01-11T10:54:45.019361Z",
     "shell.execute_reply": "2024-01-11T10:54:45.018376Z",
     "shell.execute_reply.started": "2024-01-11T10:54:45.001674Z"
    },
    "slideshow": {
     "slide_type": "fragment"
    },
    "tags": []
   },
   "outputs": [
    {
     "name": "stdout",
     "output_type": "stream",
     "text": [
      "Writing mainDirect.pl\n"
     ]
    }
   ],
   "source": [
    "%%writefile mainDirect.pl\n",
    "main :-\n",
    "  writeln('Qui comme parent ? (charles, mary, ...), suivi d''un point'),\n",
    "  read(Entree),\n",
    "  parent(Entree,Sortie),\n",
    "  write('Enfant : '),\n",
    "  writeln(Sortie).\n",
    "  \n",
    ":- main."
   ]
  },
  {
   "cell_type": "markdown",
   "id": "b59e3e73-fe97-4903-b25e-67bce113ead6",
   "metadata": {
    "editable": true,
    "slideshow": {
     "slide_type": "slide"
    },
    "tags": []
   },
   "source": [
    "avec un fichier d'*assemblage* :"
   ]
  },
  {
   "cell_type": "code",
   "execution_count": 12,
   "id": "053f0851-dbf4-4a8b-9895-131ae356dc22",
   "metadata": {
    "editable": true,
    "execution": {
     "iopub.execute_input": "2024-01-11T10:54:47.708411Z",
     "iopub.status.busy": "2024-01-11T10:54:47.707963Z",
     "iopub.status.idle": "2024-01-11T10:54:47.720998Z",
     "shell.execute_reply": "2024-01-11T10:54:47.720125Z",
     "shell.execute_reply.started": "2024-01-11T10:54:47.708382Z"
    },
    "slideshow": {
     "slide_type": "fragment"
    },
    "tags": []
   },
   "outputs": [
    {
     "name": "stdout",
     "output_type": "stream",
     "text": [
      "Writing pour_progDirect.pl\n"
     ]
    }
   ],
   "source": [
    "%%writefile pour_progDirect.pl\n",
    "#include \"parent.pl\"\n",
    "#include \"mainDirect.pl\""
   ]
  },
  {
   "cell_type": "markdown",
   "id": "6443fbb2-d29a-457c-b44d-c65b3872ed99",
   "metadata": {
    "editable": true,
    "slideshow": {
     "slide_type": "slide"
    },
    "tags": []
   },
   "source": [
    "Enfin l'assemblage et la requête (à la suite la réponse à l'exécution) :"
   ]
  },
  {
   "cell_type": "code",
   "execution_count": 13,
   "id": "2c893b7b-b681-496b-a971-44a76465b7bc",
   "metadata": {
    "editable": true,
    "execution": {
     "iopub.execute_input": "2024-01-11T10:54:50.410283Z",
     "iopub.status.busy": "2024-01-11T10:54:50.410000Z",
     "iopub.status.idle": "2024-01-11T10:54:50.684445Z",
     "shell.execute_reply": "2024-01-11T10:54:50.683852Z",
     "shell.execute_reply.started": "2024-01-11T10:54:50.410264Z"
    },
    "slideshow": {
     "slide_type": "fragment"
    },
    "tags": []
   },
   "outputs": [
    {
     "name": "stdout",
     "output_type": "stream",
     "text": [
      "Qui comme parent ? (charles, mary, ...), suivi d'un point\n",
      "Enfant : adam\n"
     ]
    }
   ],
   "source": [
    "!cpp -P -o progDirect.pl pour_progDirect.pl\n",
    "!echo \"mary.\" | swipl -g halt -s progDirect.pl"
   ]
  },
  {
   "cell_type": "markdown",
   "id": "5d01b6ac-4b9b-455c-b1a4-f840b364d2c1",
   "metadata": {
    "editable": true,
    "slideshow": {
     "slide_type": "fragment"
    }
   },
   "source": [
    "&nbsp;"
   ]
  },
  {
   "cell_type": "markdown",
   "id": "229206ab-76e4-420a-b813-a6afd848d640",
   "metadata": {
    "editable": true,
    "slideshow": {
     "slide_type": "slide"
    },
    "tags": []
   },
   "source": [
    "&nbsp;\n",
    "\n",
    "Pour interroger, un petit programme \"principal\" plus général (le reste est quasi-idem) :"
   ]
  },
  {
   "cell_type": "code",
   "execution_count": 11,
   "id": "cf5f12c0-3a72-4096-bd5f-92f62e7cc2bb",
   "metadata": {
    "editable": true,
    "slideshow": {
     "slide_type": "fragment"
    },
    "tags": []
   },
   "outputs": [
    {
     "name": "stdout",
     "output_type": "stream",
     "text": [
      "Overwriting main.pl\n"
     ]
    }
   ],
   "source": [
    "%%writefile main.pl\n",
    "main :-\n",
    "  writeln('Votre requête ?'),\n",
    "  read(Entree),\n",
    "  findall(Entree,Entree,Resultats),\n",
    "  write('Liste des résultats : '),\n",
    "  sort(Resultats,ResultatsTries),\n",
    "  writeln(ResultatsTries).\n",
    "  \n",
    ":- main."
   ]
  },
  {
   "cell_type": "code",
   "execution_count": 1,
   "id": "337d623f-cd4e-4f15-adc4-ba7481aec87c",
   "metadata": {
    "editable": true,
    "execution": {
     "iopub.execute_input": "2024-03-26T14:46:11.271495Z",
     "iopub.status.busy": "2024-03-26T14:46:11.270735Z",
     "iopub.status.idle": "2024-03-26T14:46:11.296353Z",
     "shell.execute_reply": "2024-03-26T14:46:11.295463Z",
     "shell.execute_reply.started": "2024-03-26T14:46:11.271456Z"
    },
    "slideshow": {
     "slide_type": "fragment"
    },
    "tags": []
   },
   "outputs": [
    {
     "name": "stdout",
     "output_type": "stream",
     "text": [
      "Overwriting pour_prog.pl\n"
     ]
    }
   ],
   "source": [
    "%%writefile pour_prog.pl\n",
    "#include \"parent.pl\"\n",
    "#include \"main.pl\""
   ]
  },
  {
   "cell_type": "code",
   "execution_count": 20,
   "id": "8e463f30-9dd7-49fb-a7c1-9a4651da36e9",
   "metadata": {
    "editable": true,
    "execution": {
     "iopub.execute_input": "2024-01-11T10:55:57.368737Z",
     "iopub.status.busy": "2024-01-11T10:55:57.368454Z",
     "iopub.status.idle": "2024-01-11T10:55:57.543058Z",
     "shell.execute_reply": "2024-01-11T10:55:57.541747Z",
     "shell.execute_reply.started": "2024-01-11T10:55:57.368717Z"
    },
    "slideshow": {
     "slide_type": "fragment"
    },
    "tags": []
   },
   "outputs": [
    {
     "name": "stdout",
     "output_type": "stream",
     "text": [
      "Votre requête ?\n",
      "Liste des résultats : [parent(mary,adam)]\n"
     ]
    }
   ],
   "source": [
    "!cpp -P -o prog.pl pour_prog.pl\n",
    "!echo \"parent(mary,adam).\" | swipl -g halt -s prog.pl"
   ]
  },
  {
   "cell_type": "markdown",
   "id": "dc836f56-0a95-4533-8e1b-42b5a9b54140",
   "metadata": {
    "editable": true,
    "slideshow": {
     "slide_type": "notes"
    },
    "tags": []
   },
   "source": [
    "Des exemples de requêtes :"
   ]
  },
  {
   "cell_type": "code",
   "execution_count": 21,
   "id": "ffc90823-ee96-42c9-a69d-6bcc0b52c35b",
   "metadata": {
    "editable": true,
    "execution": {
     "iopub.execute_input": "2024-01-11T10:55:59.864447Z",
     "iopub.status.busy": "2024-01-11T10:55:59.864152Z",
     "iopub.status.idle": "2024-01-11T10:56:00.023010Z",
     "shell.execute_reply": "2024-01-11T10:56:00.022469Z",
     "shell.execute_reply.started": "2024-01-11T10:55:59.864427Z"
    },
    "slideshow": {
     "slide_type": "notes"
    },
    "tags": []
   },
   "outputs": [
    {
     "name": "stdout",
     "output_type": "stream",
     "text": [
      "Votre requête ?\n",
      "Liste des résultats : []\n"
     ]
    }
   ],
   "source": [
    "!echo \"parent(adam,mary).\" | swipl -g halt -s prog.pl"
   ]
  },
  {
   "cell_type": "code",
   "execution_count": 22,
   "id": "68f58489-2b70-42c3-ab21-3a8a9e0d94ff",
   "metadata": {
    "editable": true,
    "execution": {
     "iopub.execute_input": "2024-01-11T10:56:02.614174Z",
     "iopub.status.busy": "2024-01-11T10:56:02.613544Z",
     "iopub.status.idle": "2024-01-11T10:56:02.782991Z",
     "shell.execute_reply": "2024-01-11T10:56:02.781567Z",
     "shell.execute_reply.started": "2024-01-11T10:56:02.614144Z"
    },
    "slideshow": {
     "slide_type": "notes"
    },
    "tags": []
   },
   "outputs": [
    {
     "name": "stdout",
     "output_type": "stream",
     "text": [
      "Votre requête ?\n",
      "Liste des résultats : [parent(mary,adam)]\n"
     ]
    }
   ],
   "source": [
    "!echo \"parent(mary,Enfant).\" | swipl -g halt -s prog.pl"
   ]
  },
  {
   "cell_type": "code",
   "execution_count": 23,
   "id": "0d69f5d3-a925-4545-b507-19c33a2140f3",
   "metadata": {
    "editable": true,
    "execution": {
     "iopub.execute_input": "2024-01-11T10:56:05.562389Z",
     "iopub.status.busy": "2024-01-11T10:56:05.562055Z",
     "iopub.status.idle": "2024-01-11T10:56:05.716238Z",
     "shell.execute_reply": "2024-01-11T10:56:05.715428Z",
     "shell.execute_reply.started": "2024-01-11T10:56:05.562365Z"
    },
    "slideshow": {
     "slide_type": "notes"
    },
    "tags": []
   },
   "outputs": [
    {
     "name": "stdout",
     "output_type": "stream",
     "text": [
      "Votre requête ?\n",
      "Liste des résultats : [parent(charles,mary)]\n"
     ]
    }
   ],
   "source": [
    "!echo \"parent(Parent,mary).\" | swipl -g halt -s prog.pl"
   ]
  },
  {
   "cell_type": "markdown",
   "id": "64550322-5656-4fe3-b342-476253abb678",
   "metadata": {
    "editable": true,
    "slideshow": {
     "slide_type": "slide"
    },
    "tags": []
   },
   "source": [
    "On ajoute d'autres règles (grand parent et ancetre) :"
   ]
  },
  {
   "cell_type": "code",
   "execution_count": 10,
   "id": "8ff2fd37-3a1a-445d-a878-380ce03d5ac1",
   "metadata": {
    "editable": true,
    "slideshow": {
     "slide_type": "fragment"
    },
    "tags": []
   },
   "outputs": [
    {
     "name": "stdout",
     "output_type": "stream",
     "text": [
      "Overwriting grandParent.pl\n"
     ]
    }
   ],
   "source": [
    "%%writefile grandParent.pl\n",
    "grandParent(X,Z):-\n",
    "  parent(X,Y),\n",
    "  parent(Y,Z)."
   ]
  },
  {
   "cell_type": "code",
   "execution_count": 26,
   "id": "0d01cd3b-1153-4aa1-bcdb-8a157e91e432",
   "metadata": {
    "editable": true,
    "execution": {
     "iopub.execute_input": "2024-01-11T10:57:17.998172Z",
     "iopub.status.busy": "2024-01-11T10:57:17.997873Z",
     "iopub.status.idle": "2024-01-11T10:57:18.016244Z",
     "shell.execute_reply": "2024-01-11T10:57:18.015744Z",
     "shell.execute_reply.started": "2024-01-11T10:57:17.998152Z"
    },
    "slideshow": {
     "slide_type": "fragment"
    },
    "tags": []
   },
   "outputs": [
    {
     "name": "stdout",
     "output_type": "stream",
     "text": [
      "Overwriting pour_prog.pl\n"
     ]
    }
   ],
   "source": [
    "%%writefile pour_prog.pl\n",
    "#include \"parent.pl\"\n",
    "#include \"grandParent.pl\"\n",
    "#include \"main.pl\""
   ]
  },
  {
   "cell_type": "code",
   "execution_count": 27,
   "id": "24c99a76-a998-4536-a03a-e1b842898e9d",
   "metadata": {
    "editable": true,
    "execution": {
     "iopub.execute_input": "2024-01-11T10:57:44.895797Z",
     "iopub.status.busy": "2024-01-11T10:57:44.895262Z",
     "iopub.status.idle": "2024-01-11T10:57:45.188621Z",
     "shell.execute_reply": "2024-01-11T10:57:45.187457Z",
     "shell.execute_reply.started": "2024-01-11T10:57:44.895773Z"
    },
    "slideshow": {
     "slide_type": "fragment"
    },
    "tags": []
   },
   "outputs": [
    {
     "name": "stdout",
     "output_type": "stream",
     "text": [
      "Votre requête ?\n",
      "Liste des résultats : [grandParent(charles,adam),grandParent(charles,rose)]\n"
     ]
    }
   ],
   "source": [
    "!cpp -P -o prog.pl pour_prog.pl\n",
    "!echo \"grandParent(charles,PetitEnfant).\" | swipl -g halt -s prog.pl"
   ]
  },
  {
   "cell_type": "code",
   "execution_count": 12,
   "id": "53a51962-7d67-4ade-9047-64993807e28b",
   "metadata": {
    "editable": true,
    "slideshow": {
     "slide_type": "slide"
    },
    "tags": []
   },
   "outputs": [
    {
     "name": "stdout",
     "output_type": "stream",
     "text": [
      "Overwriting ancetre.pl\n"
     ]
    }
   ],
   "source": [
    "%%writefile ancetre.pl\n",
    "ancetre(X,Z):-\n",
    "  parent(X,Y),\n",
    "  ancetre(Y,Z).\n",
    "ancetre(X,Z):-\n",
    "  parent(X,Z)."
   ]
  },
  {
   "cell_type": "code",
   "execution_count": 13,
   "id": "10e6791b-cb18-4ebf-b80b-48e181aa09d4",
   "metadata": {
    "editable": true,
    "slideshow": {
     "slide_type": "notes"
    },
    "tags": []
   },
   "outputs": [
    {
     "name": "stdout",
     "output_type": "stream",
     "text": [
      "Overwriting pour_prog.pl\n"
     ]
    }
   ],
   "source": [
    "%%writefile pour_prog.pl\n",
    "#include \"parent.pl\"\n",
    "#include \"grandParent.pl\"\n",
    "#include \"ancetre.pl\"\n",
    "#include \"main.pl\""
   ]
  },
  {
   "cell_type": "code",
   "execution_count": 30,
   "id": "d97d9e2c-a85e-4f00-ad4d-997fdb1ffa38",
   "metadata": {
    "editable": true,
    "execution": {
     "iopub.execute_input": "2024-01-11T10:58:53.586116Z",
     "iopub.status.busy": "2024-01-11T10:58:53.585815Z",
     "iopub.status.idle": "2024-01-11T10:58:53.883916Z",
     "shell.execute_reply": "2024-01-11T10:58:53.882945Z",
     "shell.execute_reply.started": "2024-01-11T10:58:53.586095Z"
    },
    "slideshow": {
     "slide_type": "fragment"
    },
    "tags": []
   },
   "outputs": [
    {
     "name": "stdout",
     "output_type": "stream",
     "text": [
      "Votre requête ?\n",
      "Liste des résultats : [ancetre(charles,adam),ancetre(charles,carrie),ancetre(charles,laura),ancetre(charles,mary),ancetre(charles,rose)]\n"
     ]
    }
   ],
   "source": [
    "!cpp -P -o prog.pl pour_prog.pl\n",
    "!echo \"ancetre(charles,EnfantEtCo).\" | swipl -g halt -s prog.pl"
   ]
  },
  {
   "cell_type": "markdown",
   "id": "a0ee18d0-c9e2-4db6-8941-c5612288af26",
   "metadata": {
    "editable": true,
    "slideshow": {
     "slide_type": "slide"
    },
    "tags": []
   },
   "source": [
    "Une trace pour voir comment ça marche ?"
   ]
  },
  {
   "cell_type": "code",
   "execution_count": 16,
   "id": "06117c26-4f73-406c-a4d7-df4baef55d3e",
   "metadata": {
    "editable": true,
    "slideshow": {
     "slide_type": "fragment"
    },
    "tags": []
   },
   "outputs": [
    {
     "name": "stdout",
     "output_type": "stream",
     "text": [
      "Votre requête ?\n",
      "\n",
      "%         ancetre/2: [all]\n",
      " T [39] Call: ancetre(charles, _356)\n",
      " T [48] Call: ancetre(mary, _356)\n",
      " T [57] Call: ancetre(adam, _356)\n",
      " T [57] Fail: ancetre(adam, _356)\n",
      " T [48] Exit: ancetre(mary, adam)\n",
      " T [39] Exit: ancetre(charles, adam)\n",
      " T [39] Redo: ancetre(charles, adam)\n",
      " T [48] Call: ancetre(laura, _356)\n",
      " T [57] Call: ancetre(rose, _356)\n",
      " T [57] Fail: ancetre(rose, _356)\n",
      " T [48] Exit: ancetre(laura, rose)\n",
      " T [39] Exit: ancetre(charles, rose)\n",
      " T [39] Redo: ancetre(charles, rose)\n",
      " T [48] Call: ancetre(carrie, _356)\n",
      " T [48] Fail: ancetre(carrie, _356)\n",
      " T [39] Exit: ancetre(charles, mary)\n",
      " T [39] Redo: ancetre(charles, mary)\n",
      " T [39] Exit: ancetre(charles, laura)\n",
      " T [39] Redo: ancetre(charles, laura)\n",
      " T [39] Exit: ancetre(charles, carrie)\n",
      "Liste des résultats : [(trace(ancetre),ancetre(charles,adam)),(trace(ancetre),ancetre(charles,carrie)),(trace(ancetre),ancetre(charles,laura)),(trace(ancetre),ancetre(charles,mary)),(trace(ancetre),ancetre(charles,rose))]\n"
     ]
    }
   ],
   "source": [
    "!cpp -P -o prog.pl pour_prog.pl\n",
    "!echo \"trace(ancetre), ancetre(charles,EnfantEtCo).\" | swipl -g halt -s prog.pl"
   ]
  },
  {
   "cell_type": "markdown",
   "id": "699ced3e-6fe6-4d07-87f6-b0ba64623ac1",
   "metadata": {
    "editable": true,
    "slideshow": {
     "slide_type": "slide"
    },
    "tags": []
   },
   "source": [
    "Le programme final, complet :"
   ]
  },
  {
   "cell_type": "code",
   "execution_count": 15,
   "id": "1b83e118-252f-4983-bfc3-fe9a6cd50eb1",
   "metadata": {
    "editable": true,
    "slideshow": {
     "slide_type": "fragment"
    },
    "tags": []
   },
   "outputs": [
    {
     "name": "stdout",
     "output_type": "stream",
     "text": [
      "parent(lansford,peter).\n",
      "parent(peter,alice).\n",
      "parent(alice,altha).\n",
      "parent(peter,ella).\n",
      "parent(ella,earl).\n",
      "parent(lansford,charles).\n",
      "parent(charles,mary).\n",
      "parent(mary,adam).\n",
      "parent(charles,laura).\n",
      "parent(laura,rose).\n",
      "parent(charles,carrie).\n",
      "grandParent(X,Z):-\n",
      "  parent(X,Y),\n",
      "  parent(Y,Z).\n",
      "ancetre(X,Z):-\n",
      "  parent(X,Y),\n",
      "  ancetre(Y,Z).\n",
      "ancetre(X,Z):-\n",
      "  parent(X,Z).\n",
      "main :-\n",
      "  writeln('Votre requête ?'),\n",
      "  read(Entree),\n",
      "  findall(Entree,Entree,Resultats),\n",
      "  write('Liste des résultats : '),\n",
      "  sort(Resultats,ResultatsTries),\n",
      "  writeln(ResultatsTries).\n",
      ":- main.\n"
     ]
    }
   ],
   "source": [
    "!cpp -P -o prog.pl pour_prog.pl\n",
    "!cat prog.pl"
   ]
  },
  {
   "cell_type": "markdown",
   "id": "1bed85d9-1071-4f8a-83bd-78fd953ce31f",
   "metadata": {
    "editable": true,
    "slideshow": {
     "slide_type": "slide"
    },
    "tags": []
   },
   "source": [
    "Autres Démos (s'il reste du temps) :  \n",
    "\n",
    "* https://swish.swi-prolog.org/p/matriarcatIngallsSauvegardePublique.swinb ([ici](https://swish.swi-prolog.org/p/matriarcatIngallsSauvegardePublique.swinb))\n",
    "* caseine"
   ]
  },
  {
   "cell_type": "markdown",
   "id": "0985e3ba-12b2-4e28-a71e-40d245babcda",
   "metadata": {
    "editable": true,
    "slideshow": {
     "slide_type": "slide"
    },
    "tags": []
   },
   "source": [
    "# Eléments structurels de la programmation logique"
   ]
  },
  {
   "cell_type": "markdown",
   "id": "e8444dd0-83c6-4ee8-b6c6-e8c5604959e7",
   "metadata": {
    "editable": true,
    "slideshow": {
     "slide_type": "notes"
    },
    "tags": []
   },
   "source": [
    "Comment tout cela marche, et comment va-t-on l'utiliser.\n",
    "\n",
    "Pour commencer, quelques principes directeurs :"
   ]
  },
  {
   "cell_type": "markdown",
   "id": "caca9904-f9a7-4cb9-88c2-8d0167713824",
   "metadata": {
    "editable": true,
    "slideshow": {
     "slide_type": "slide"
    },
    "tags": []
   },
   "source": [
    "## Principes (JP Delahaye) :\n",
    "\n",
    "1. Enoncer des **Faits**\n",
    "2. Donner des **règles de raisonnement** se basant sur ces faits pour produire d'autres faits\n",
    "3. Savoir poser des questions (**requêtes**)"
   ]
  },
  {
   "cell_type": "markdown",
   "id": "a62770f9-1213-45bd-b0a2-522e75c7f951",
   "metadata": {
    "editable": true,
    "slideshow": {
     "slide_type": "slide"
    },
    "tags": []
   },
   "source": [
    "## Eléments lexicaux\n",
    "\n",
    "* constantes (entier, str, etc.) et identificateurs = commence par une minuscule\n",
    "* Variables = Commence Par Une Majuscule ( _ou _un \\_souligné \"\\_\")\n",
    "* Listes = liste vide \\[ ], liste explicite \\[ 1, 2, 3] et constructeur de liste \\[ E | L ]\n"
   ]
  },
  {
   "cell_type": "markdown",
   "id": "cca6f328-897d-466f-a027-83663a2eccfa",
   "metadata": {
    "editable": true,
    "slideshow": {
     "slide_type": "notes"
    },
    "tags": []
   },
   "source": [
    "Dans les exemples précedents, on a déjà pu voir ces éléments (constantes, Variable), pour les listes et les nombres, voir plus loin (ou à un prochain cours)"
   ]
  },
  {
   "cell_type": "markdown",
   "id": "7ee5c563-f585-43ef-899c-14317a9f77e4",
   "metadata": {
    "editable": true,
    "slideshow": {
     "slide_type": "slide"
    },
    "tags": []
   },
   "source": [
    "## Grammaire \n",
    "(https://www.complang.tuwien.ac.at/sicstus/sicstus_42.html) :\n",
    "```\n",
    "clause --> non-unit-clause | unit-clause\n",
    "non-unit-clause --> head :- body\n",
    "unit-clause --> head\n",
    "head --> [[[[module : head]]]]\n",
    "| goal\n",
    "body --> [[[[module : body]]]]\n",
    "| [...]\n",
    "| body , body\n",
    "| goal\n",
    "goal --> term\n",
    "term --> functor ( arguments )\n",
    "| ( subterm )\n",
    "| { subterm }\n",
    "| list\n",
    "| string\n",
    "| constant\n",
    "| variable\n",
    "arguments --> subterm\n",
    "| subterm , arguments\n",
    "subterm --> term\n",
    "list --> []\n",
    "| [ listexpr ]\n",
    "listexpr --> subterm\n",
    "| subterm , listexpr\n",
    "| subterm | subterm\n",
    "constant --> atom | number\n",
    "atom --> name\n",
    "functor --> name\n",
    "```"
   ]
  },
  {
   "cell_type": "markdown",
   "id": "3e9e94d8-41ec-4adc-8a25-e0821c076eb9",
   "metadata": {
    "editable": true,
    "slideshow": {
     "slide_type": "notes"
    },
    "tags": []
   },
   "source": [
    "A noter :\n",
    "\n",
    "* le sous-ensemble présenté s'appelle : pure-prolog (c'est presque sans mot clés !)\n",
    "* tout ne sera pas utilisé dans **ce cours** (mais ce qui restera suffira pour tout faire, ou presque)\n",
    "* attention, sur le web, vous trouverez beaucoup plus ; sur le web, on cherche un peu plus d'efficacité que dans ce cours (et moins de concept) ; dans ce cours, on se focalisera sur la déclarativité, les propriétés algorithmiques, ce que les autres langages ne font pas, etc."
   ]
  },
  {
   "cell_type": "markdown",
   "id": "ef8919b2-18ea-4d63-af3d-49b52b32690a",
   "metadata": {
    "editable": true,
    "slideshow": {
     "slide_type": "slide"
    },
    "tags": []
   },
   "source": [
    "## Algorithme d'Unification \n",
    "(Herbrand algorithm, wwwdh.cs.fau.de/IMMD8/Lectures/LOGIK/isoprolog.pdf)"
   ]
  },
  {
   "cell_type": "markdown",
   "id": "574f8506-025b-4535-bb52-4461cbf950bc",
   "metadata": {
    "editable": true,
    "slideshow": {
     "slide_type": "notes"
    },
    "tags": []
   },
   "source": [
    "C'est pour savoir si X=Y (si une expression/un terme ressemble à un/e autre), dans d'autres langage cela s'appelle du matching (franglais). C'est pratique pour le programmeur, sans être essentiel. Pour autant, c'est juste une 1/2 page de code, alors pourquoi s'en priver (?)"
   ]
  },
  {
   "cell_type": "markdown",
   "id": "d0183ff4-76dc-4469-9f58-660f3840b785",
   "metadata": {
    "editable": true,
    "slideshow": {
     "slide_type": "fragment"
    },
    "tags": []
   },
   "source": [
    "![Herbrand](herbrand.png)"
   ]
  },
  {
   "cell_type": "markdown",
   "id": "deffdf38-0a78-4dd9-b987-22057bf0f5b3",
   "metadata": {
    "editable": true,
    "raw_mimetype": "",
    "slideshow": {
     "slide_type": "slide"
    },
    "tags": []
   },
   "source": [
    "## Moteur d'exécution (Deransart)"
   ]
  },
  {
   "cell_type": "markdown",
   "id": "560ff89b-d8a0-42f6-b0df-d841d21c4b68",
   "metadata": {
    "editable": true,
    "slideshow": {
     "slide_type": "notes"
    },
    "tags": []
   },
   "source": [
    "Là c'est le cœur, mais c'est très court !  \n",
    "\n",
    "Accrochez-vous (et en même temps, cela n'est pas si compliqué, cela devrait bien se passer)"
   ]
  },
  {
   "cell_type": "markdown",
   "id": "8bb5ced3-071e-4d3c-9364-4343f9269398",
   "metadata": {
    "editable": true,
    "jp-MarkdownHeadingCollapsed": true,
    "raw_mimetype": "",
    "slideshow": {
     "slide_type": "fragment"
    },
    "tags": []
   },
   "source": [
    "![Deransart](modeleExecutionProlog.png)"
   ]
  },
  {
   "cell_type": "markdown",
   "id": "ebe22f84-0c50-4107-b792-1a9383b55b34",
   "metadata": {
    "editable": true,
    "slideshow": {
     "slide_type": "notes"
    },
    "tags": []
   },
   "source": [
    "A noter :\n",
    "\n",
    "* les choix (étrange pour une spécification, de laisser cette liberté de choisir)\n",
    "* en fait tous les choix peuvent être pris mais pas en même temps, il faudra les prendre l'un après l'autre dans un certains ordre\n",
    "  * le premier : predication-choice (sur le choix du fait à prouver), la stratégie habituelle est de prendre les faits dans l'ordre d'apparition au cours de l'exécution\n",
    "  * le second : clause-choice (sur la règle de déducion à appliquer), la stratégie habituelle est de prendre les règles dans l'ordre d'apparition dans le fichier où se trouve le programme"
   ]
  },
  {
   "cell_type": "markdown",
   "id": "f10bf3d5-ccfb-4584-ab9f-36955320c731",
   "metadata": {
    "editable": true,
    "jp-MarkdownHeadingCollapsed": true,
    "slideshow": {
     "slide_type": "notes"
    },
    "tags": []
   },
   "source": [
    "## Arbre d'exécution\n",
    "\n",
    "voir sur un exemple (vidéo, image ou au tableau)\n",
    "\n",
    "* sur ?- ancetre(charles,X).\n",
    "* ou sur le prédicat ajout : https://www.youtube.com/watch?v=s74X4cix0NA"
   ]
  },
  {
   "cell_type": "markdown",
   "id": "414b757e-cb19-4856-a582-ba9b3d6d8c54",
   "metadata": {
    "editable": true,
    "slideshow": {
     "slide_type": "slide"
    },
    "tags": []
   },
   "source": [
    "# Premiers programmes\n",
    "\n",
    "* premier, dernier ; ajouterEnPremier, ajouterEnDernier\n",
    "* concatener"
   ]
  },
  {
   "cell_type": "code",
   "execution_count": 31,
   "id": "639d57a8-a970-41b7-8ca2-37cb489f5f2e",
   "metadata": {
    "editable": true,
    "execution": {
     "iopub.execute_input": "2024-01-11T10:59:27.636429Z",
     "iopub.status.busy": "2024-01-11T10:59:27.636080Z",
     "iopub.status.idle": "2024-01-11T10:59:27.655330Z",
     "shell.execute_reply": "2024-01-11T10:59:27.654784Z",
     "shell.execute_reply.started": "2024-01-11T10:59:27.636407Z"
    },
    "slideshow": {
     "slide_type": "fragment"
    },
    "tags": []
   },
   "outputs": [
    {
     "name": "stdout",
     "output_type": "stream",
     "text": [
      "Overwriting prog.pl\n"
     ]
    }
   ],
   "source": [
    "%%writefile prog.pl\n",
    "/* ajouteEnDernier(R,L,E) est vrai ssi R est obtenu à partir de L en ajoutant E en dernier. */\n",
    "ajouteEnDernier(E,[],[E]).\n",
    "ajouteEnDernier(E,[F|L],[F|M]):-ajouteEnDernier(E,L,M).\n",
    "\n",
    "/* concatene(D,F,L) est vrai si et seulement la concaténation des listes D et F donne la liste L. */\n",
    "concatene([],L,L).\n",
    "concatene([E|L],M,[E|R]):-concatene(L,M,R).\n",
    "\n",
    "main :-  writeln('Votre requête ?'), read(Entree),\n",
    "  findall(Entree,Entree,Resultats),\n",
    "  write('Liste des résultats : '), writeln(Resultats).\n",
    ":- main."
   ]
  },
  {
   "cell_type": "code",
   "execution_count": 32,
   "id": "2ee13ae7-067a-47c2-8a05-da7dcfa8eae7",
   "metadata": {
    "editable": true,
    "execution": {
     "iopub.execute_input": "2024-01-11T10:59:35.830791Z",
     "iopub.status.busy": "2024-01-11T10:59:35.830470Z",
     "iopub.status.idle": "2024-01-11T10:59:35.993741Z",
     "shell.execute_reply": "2024-01-11T10:59:35.992755Z",
     "shell.execute_reply.started": "2024-01-11T10:59:35.830770Z"
    },
    "slideshow": {
     "slide_type": "fragment"
    },
    "tags": []
   },
   "outputs": [
    {
     "name": "stdout",
     "output_type": "stream",
     "text": [
      "Votre requête ?\n",
      "Liste des résultats : [ajouteEnDernier(1,[2,0,2,3],[2,0,2,3,1])]\n"
     ]
    }
   ],
   "source": [
    "!echo \"ajouteEnDernier(1,[2,0,2,3],L).\" | swipl -g halt -s prog.pl"
   ]
  },
  {
   "cell_type": "code",
   "execution_count": 33,
   "id": "d114de03-dc60-43d9-a85d-ff88ee0096e2",
   "metadata": {
    "editable": true,
    "execution": {
     "iopub.execute_input": "2024-01-11T10:59:39.840908Z",
     "iopub.status.busy": "2024-01-11T10:59:39.840380Z",
     "iopub.status.idle": "2024-01-11T10:59:40.001068Z",
     "shell.execute_reply": "2024-01-11T10:59:39.999660Z",
     "shell.execute_reply.started": "2024-01-11T10:59:39.840881Z"
    },
    "slideshow": {
     "slide_type": "fragment"
    },
    "tags": []
   },
   "outputs": [
    {
     "name": "stdout",
     "output_type": "stream",
     "text": [
      "Votre requête ?\n",
      "Liste des résultats : [concatene([2,0],[2,4],[2,0,2,4])]\n"
     ]
    }
   ],
   "source": [
    "!echo \"concatene([2,0],[2,4],L).\" | swipl -g halt -s prog.pl"
   ]
  },
  {
   "cell_type": "markdown",
   "id": "7c977531-79eb-446d-83d0-d0d3f751eaf2",
   "metadata": {
    "editable": true,
    "slideshow": {
     "slide_type": "fragment"
    }
   },
   "source": [
    "&nbsp;"
   ]
  },
  {
   "cell_type": "markdown",
   "id": "2a4b650d-5017-436c-be6c-aac5962655ef",
   "metadata": {
    "editable": true,
    "execution": {
     "iopub.execute_input": "2024-01-08T15:34:23.720151Z",
     "iopub.status.busy": "2024-01-08T15:34:23.719402Z",
     "iopub.status.idle": "2024-01-08T15:34:24.548630Z",
     "shell.execute_reply": "2024-01-08T15:34:24.546781Z",
     "shell.execute_reply.started": "2024-01-08T15:34:23.720130Z"
    },
    "slideshow": {
     "slide_type": "slide"
    },
    "tags": []
   },
   "source": [
    "fin"
   ]
  },
  {
   "cell_type": "markdown",
   "id": "ca28dc38-3af1-4b29-918f-1e94a65f902b",
   "metadata": {
    "editable": true,
    "slideshow": {
     "slide_type": "notes"
    }
   },
   "source": [
    "## Sur Caseine\n",
    "\n",
    "Prévu 3 pistes **Base de faits** :\n",
    "\n",
    "* Pour le CM : exercices sur les familles\n",
    "  * grandParent\n",
    "  * enfant\n",
    "  * ancetre\n",
    "  * generation\n",
    "* Pour le TD : exercices sur les nombres en chiffres romains\n",
    "  * plus2\n",
    "  * moins1\n",
    "  * plus\n",
    "  * mult\n",
    "  * estPair\n",
    "  * plusGrand\n",
    "  * max\n",
    "  * pgcd\n",
    "* Pour les révisions : exercices sur la géographie en Italie\n",
    "  * sudEst\n",
    "  * nord\n",
    "  * directionSud\n",
    "  * quartSE"
   ]
  }
 ],
 "metadata": {
  "kernelspec": {
   "display_name": "Python 3 (ipykernel)",
   "language": "python",
   "name": "python3"
  },
  "language_info": {
   "codemirror_mode": {
    "name": "ipython",
    "version": 3
   },
   "file_extension": ".py",
   "mimetype": "text/x-python",
   "name": "python",
   "nbconvert_exporter": "python",
   "pygments_lexer": "ipython3",
   "version": "3.10.12"
  },
  "rise": {
   "auto_select": "none",
   "footer": "<span style='z-index:99; position:relative; left:100%; bottom:10px; font-size:16px;'>Denis Bouhineau --- Printemps 2024</span>",
   "header": "<img src='https://moodle.caseine.org/pluginfile.php/251364/mod_label/intro/logoUGA.png' style='z-index:99; position:fixed;'>UGA",
   "scroll": true,
   "slideNumber": "c"
  },
  "scenes_data": {
   "active_scene": "Default Scene",
   "init_scene": "",
   "scenes": [
    "Default Scene"
   ]
  },
  "title": "Cours 1 : Introduction à la Programmation Logique"
 },
 "nbformat": 4,
 "nbformat_minor": 5
}
