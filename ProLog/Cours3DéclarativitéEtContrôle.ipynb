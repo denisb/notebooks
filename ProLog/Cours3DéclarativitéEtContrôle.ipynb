{
 "cells": [
  {
   "cell_type": "markdown",
   "id": "301bbc2f-7e0e-49de-8d49-9bc269d143a2",
   "metadata": {
    "editable": true,
    "slideshow": {
     "slide_type": "slide"
    },
    "tags": []
   },
   "source": [
    "<img src=\"logoUGA.png\"></img>\n",
    "\n",
    "# Cours 3 : Déclarativité et Contrôle\n",
    "\n",
    "Séance 4 et 5\n",
    "\n",
    "Fin du prolog pur, début de la convergence entre différents paradigmes de programmation (CP, RO, CAS), avec la logique comme pilier central général."
   ]
  },
  {
   "cell_type": "markdown",
   "id": "dc9e7f0d-40ea-44be-8f23-b44f2380ba10",
   "metadata": {
    "editable": true,
    "slideshow": {
     "slide_type": "notes"
    },
    "tags": []
   },
   "source": [
    "1) Réversibilité (quand on peut, si on peut : ce n'est pas un objectif en soi ; mais parfois, c'est une partie de la solution, cela ouvre d'autres perspectives de résolution, à explorer !)\n",
    "   * Prédicat naturellement symétrique\n",
    "   * Cas de la concaténation (8 cas à observer)\n",
    "   * Réversibilité de prédicats courants ?\n",
    "3) Contraintes (réversibilité arithmétique ?)\n",
    "   * cas du dif, cas du is\n",
    "   * cas des contraintes numériques (linéaires et/ou pas, entière vs réelle vs complexe)\n",
    "   * cas des contraintes structurelles (=>graphes !)\n",
    "   * cas des contraintes ensemblistes\n",
    "4) Non-déterminisme\n",
    "   * Solutions redondantes\n",
    "   * Solutions non-redondantes\n",
    "   * Prédicats d'énumération classiques (entiers naturels, entiers relatifs, couple, puissance, produit cartésien, liste, partie, permutation)\n",
    "   * Enumération + Contraintes => Recherche combinatoire \n",
    "5) Contrôle de l'exécution : Coupure, ordre supérieur, gel, assert\n",
    "   * Coupure (mécanisme de base, not, coupure verte vs coupure rouge)"
   ]
  },
  {
   "cell_type": "markdown",
   "id": "e1ea0039-a9f1-487b-a865-a8e5b6b94ac0",
   "metadata": {
    "editable": true,
    "slideshow": {
     "slide_type": "slide"
    },
    "tags": []
   },
   "source": [
    "<img src=\"logoUGA.png\"></img>\n",
    "\n",
    "# Réversibilité\n",
    "\n",
    "Un programme sera dit réversible si l'exécution prévue (Données ==>> Résultats) peut être inversé (Résultats <<== Données), c'est à dire si le profil informel du prédicat est stricte (certaines variables ont un statut de données en entrée strict, ou pas)\n",
    "\n",
    "La réversibilité est établi en assurant la terminaison des exécutions pour des profils d'appels différents. En première approche, la correction et la complétude ne sont pas touchées.\n",
    "\n",
    "La réversibilité n'est pas un objectif en soi, mais permet des usages plus diversifiés, réduit le nombre de programmes nécessaires (un seul programme pour la concaténation et la séparation, par ex.), ouvre des perspectives de recherche d'algorithmes nouveaux (en chaînage arrière, plutôt qu'en chaînage avant seul ; ou avec des chaînages mixtes), permet des utilisations avec des données partiellement connues (données imparfaites ou données avec parties manquantes) ; pour le test (avec les contraintes et le non-déterminisme, cf. plus loin), cela peut permettre de vérifier des propriétés par vérification de contrainte, et de produire des générateurs de tests automatiques.  "
   ]
  },
  {
   "cell_type": "markdown",
   "id": "7d7b2ac5-6454-4f11-ae35-fe03a1f282af",
   "metadata": {
    "editable": true,
    "slideshow": {
     "slide_type": "notes"
    },
    "tags": []
   },
   "source": [
    "## Prédicats symétriques\n",
    "\n",
    "Certains prédicats semblent symétriques, p(I,O) = p(O,I), pour autant les programmes sont-ils reversibles, est-il possible de les rendre réversibles ?\n",
    "* symétrique (ok)"
   ]
  },
  {
   "cell_type": "code",
   "execution_count": 1,
   "id": "2737d621-8b1b-4b5e-84c1-6aecbfd9b1f8",
   "metadata": {
    "editable": true,
    "execution": {
     "iopub.execute_input": "2024-01-22T08:38:27.247618Z",
     "iopub.status.busy": "2024-01-22T08:38:27.245707Z",
     "iopub.status.idle": "2024-01-22T08:38:27.294240Z",
     "shell.execute_reply": "2024-01-22T08:38:27.293485Z",
     "shell.execute_reply.started": "2024-01-22T08:38:27.247383Z"
    },
    "slideshow": {
     "slide_type": "slide"
    },
    "tags": []
   },
   "outputs": [
    {
     "name": "stdout",
     "output_type": "stream",
     "text": [
      "Overwriting prog.pl\n"
     ]
    }
   ],
   "source": [
    "%%writefile prog.pl\n",
    "/* symétrique(A,B) vrai ssi A et B sont 2 arbres binaires symétriques l'un de l'autre */\n",
    "symetrique([],[]).\n",
    "symetrique([Rac,FilsGaucheA,FilsDroitA],[Rac,FilsGaucheB,FilsDroitB]):-\n",
    "  symetrique(FilsGaucheA,FilsDroitB),\n",
    "  symetrique(FilsDroitA,FilsGaucheB).\n",
    "\n",
    "main :-  writeln('Votre requête ?'), read(Entree),\n",
    "  findall(Entree,Entree,Resultats),\n",
    "  write('Liste des résultats : '), writeln(Resultats).\n",
    ":- main."
   ]
  },
  {
   "cell_type": "code",
   "execution_count": 2,
   "id": "3fa4f004-0d66-4dcf-85fb-70f6ea0a6c7c",
   "metadata": {
    "editable": true,
    "execution": {
     "iopub.execute_input": "2024-01-22T08:38:29.306655Z",
     "iopub.status.busy": "2024-01-22T08:38:29.306364Z",
     "iopub.status.idle": "2024-01-22T08:38:29.468195Z",
     "shell.execute_reply": "2024-01-22T08:38:29.467074Z",
     "shell.execute_reply.started": "2024-01-22T08:38:29.306634Z"
    },
    "slideshow": {
     "slide_type": "fragment"
    },
    "tags": []
   },
   "outputs": [
    {
     "name": "stdout",
     "output_type": "stream",
     "text": [
      "Votre requête ?\n",
      "Liste des résultats : [symetrique([1,[2,[],[]],[]],[1,[],[2,[],[]]])]\n"
     ]
    }
   ],
   "source": [
    "!echo \"symetrique([1,[2,[],[]],[]],X).\" | swipl -g halt -s prog.pl"
   ]
  },
  {
   "cell_type": "code",
   "execution_count": 3,
   "id": "7ccac32a-e071-4f33-a7c6-ae85f2da2b98",
   "metadata": {
    "editable": true,
    "execution": {
     "iopub.execute_input": "2024-01-22T08:38:55.597106Z",
     "iopub.status.busy": "2024-01-22T08:38:55.596777Z",
     "iopub.status.idle": "2024-01-22T08:38:55.752016Z",
     "shell.execute_reply": "2024-01-22T08:38:55.751148Z",
     "shell.execute_reply.started": "2024-01-22T08:38:55.597082Z"
    },
    "slideshow": {
     "slide_type": "notes"
    },
    "tags": []
   },
   "outputs": [
    {
     "name": "stdout",
     "output_type": "stream",
     "text": [
      "Votre requête ?\n",
      "Liste des résultats : [symetrique([1,[],[2,[],[]]],[1,[2,[],[]],[]])]\n"
     ]
    }
   ],
   "source": [
    "!echo \"symetrique(X,[1,[2,[],[]],[]]).\" | swipl -g halt -s prog.pl"
   ]
  },
  {
   "cell_type": "markdown",
   "id": "05f7867f-6761-4aa5-a708-a85e372cca8e",
   "metadata": {
    "editable": true,
    "slideshow": {
     "slide_type": "notes"
    },
    "tags": []
   },
   "source": [
    "* inverser premier et dernier élément d'une liste (?, cela dépend de l'écriture)"
   ]
  },
  {
   "cell_type": "code",
   "execution_count": 5,
   "id": "39a5dfcf-6f56-4136-b36a-fa86174387b6",
   "metadata": {
    "editable": true,
    "execution": {
     "iopub.execute_input": "2024-01-22T08:47:06.826431Z",
     "iopub.status.busy": "2024-01-22T08:47:06.826043Z",
     "iopub.status.idle": "2024-01-22T08:47:06.850295Z",
     "shell.execute_reply": "2024-01-22T08:47:06.849569Z",
     "shell.execute_reply.started": "2024-01-22T08:47:06.826401Z"
    },
    "slideshow": {
     "slide_type": "slide"
    },
    "tags": []
   },
   "outputs": [
    {
     "name": "stdout",
     "output_type": "stream",
     "text": [
      "Overwriting prog.pl\n"
     ]
    }
   ],
   "source": [
    "%%writefile prog.pl\n",
    "/* inversePermierDernier(A,B) vrai ssi A et B sont 2 avec les mêmes éléments sauf les extrèmes qui sont inversés */\n",
    "inversePermierDernier([],[]).\n",
    "inversePermierDernier([A],[A]).\n",
    "inversePermierDernier([A,B],[B,A]).\n",
    "inversePermierDernier(A,B) :-\n",
    "  concatene([Premier],FinA,A),\n",
    "  concatene([Dernier],FinB,B),\n",
    "  concatene(Centre,[Dernier],FinA),\n",
    "  concatene(Centre,[Premier],FinB).\n",
    "\n",
    "concatene([],F,F).\n",
    "concatene([E|L],F,[E|R]):-concatene(L,F,R).\n",
    "\n",
    "main :-  writeln('Votre requête ?'), read(Entree),\n",
    "  findall(Entree,Entree,Resultats),\n",
    "  write('Liste des résultats : '), writeln(Resultats).\n",
    ":- main."
   ]
  },
  {
   "cell_type": "code",
   "execution_count": 6,
   "id": "59243a1a-e982-4099-bb0e-e52d86c17eb5",
   "metadata": {
    "editable": true,
    "execution": {
     "iopub.execute_input": "2024-01-22T08:47:20.178871Z",
     "iopub.status.busy": "2024-01-22T08:47:20.178565Z",
     "iopub.status.idle": "2024-01-22T08:47:20.339437Z",
     "shell.execute_reply": "2024-01-22T08:47:20.338374Z",
     "shell.execute_reply.started": "2024-01-22T08:47:20.178848Z"
    },
    "slideshow": {
     "slide_type": "fragment"
    },
    "tags": []
   },
   "outputs": [
    {
     "name": "stdout",
     "output_type": "stream",
     "text": [
      "Votre requête ?\n",
      "Liste des résultats : [inversePermierDernier([1,2,3,4,5],[5,2,3,4,1])]\n"
     ]
    }
   ],
   "source": [
    "!echo \"inversePermierDernier([1,2,3,4,5],X).\" | swipl -g halt -s prog.pl"
   ]
  },
  {
   "cell_type": "code",
   "execution_count": 7,
   "id": "e92393da-35ae-424f-89e6-ea36ad8b986b",
   "metadata": {
    "editable": true,
    "execution": {
     "iopub.execute_input": "2024-01-22T08:47:41.752420Z",
     "iopub.status.busy": "2024-01-22T08:47:41.752095Z",
     "iopub.status.idle": "2024-01-22T08:47:46.872584Z",
     "shell.execute_reply": "2024-01-22T08:47:46.870055Z",
     "shell.execute_reply.started": "2024-01-22T08:47:41.752395Z"
    },
    "slideshow": {
     "slide_type": "fragment"
    },
    "tags": []
   },
   "outputs": [
    {
     "name": "stdout",
     "output_type": "stream",
     "text": [
      "Votre requête ?\n",
      "\n",
      "ERROR: Stack limit (1.0Gb) exceeded\n",
      "ERROR:   Stack sizes: local: 4Kb, global: 0.9Gb, trail: 0Kb\n",
      "ERROR:   Stack depth: 19,173,120, last-call: 100%, Choice points: 13\n",
      "ERROR:   In:\n",
      "ERROR:     [19,173,120] user:concatene('<garbage_collected>', [length:1], _416)\n",
      "ERROR:     [38] user:inversePermierDernier('<garbage_collected>', '<garbage_collected>')\n",
      "ERROR:     [37] '$bags':findall_loop(<compound inversePermierDernier/2>, '<garbage_collected>', _464, [])\n",
      "ERROR:     [36] system:setup_call_catcher_cleanup(<compound (:)/2>, <compound (:)/2>, _494, <compound (:)/2>)\n",
      "ERROR:     [32] user:main\n",
      "ERROR: \n",
      "ERROR: Use the --stack_limit=size[KMG] command line option or\n",
      "ERROR: ?- set_prolog_flag(stack_limit, 2_147_483_648). to double the limit.\n",
      "Warning: Goal (directive) failed: user:main\n"
     ]
    }
   ],
   "source": [
    "!echo \"inversePermierDernier(X,[1,2,3,4,5]).\" | swipl -g halt -s prog.pl"
   ]
  },
  {
   "cell_type": "markdown",
   "id": "62a2299b-3395-42e8-937c-78995a3c18ca",
   "metadata": {
    "editable": true,
    "slideshow": {
     "slide_type": "notes"
    },
    "tags": []
   },
   "source": [
    "Pour comprendre pourquoi l'un fonctionne et pas l'autre, il faut analyser la réversibilité de la concaténation (puis la réversibilité du prédicat d'inversion premier-dernier, ensuite)."
   ]
  },
  {
   "cell_type": "markdown",
   "id": "53812b0f-5417-4dab-99bc-96120c131153",
   "metadata": {
    "editable": true,
    "slideshow": {
     "slide_type": "slide"
    },
    "tags": []
   },
   "source": [
    "<img src=\"logoUGA.png\"></img>\n",
    "\n",
    "## Concaténation\n",
    "\n",
    "Cas de la concaténation :"
   ]
  },
  {
   "cell_type": "code",
   "execution_count": null,
   "id": "b0e424ea-c7af-4e72-965b-29c5d47f81b0",
   "metadata": {
    "editable": true,
    "slideshow": {
     "slide_type": "slide"
    },
    "tags": []
   },
   "outputs": [],
   "source": [
    "%%writefile prog.pl\n",
    "/* concatene(D,F,L) est vrai ssi la concaténation des listes D et F corespond à la liste L. */\n",
    "concatene([],F,F).\n",
    "concatene([E|L],F,[E|R]):-concatene(L,F,R).\n",
    "\n",
    "main :-  writeln('Votre requête ?'), read(Entree),\n",
    "  findall(Entree,Entree,Resultats),\n",
    "  write('Liste des résultats : '), writeln(Resultats).\n",
    ":- main."
   ]
  },
  {
   "cell_type": "code",
   "execution_count": 16,
   "id": "a6394829-50c2-4bc0-ac7e-4a9e393d1175",
   "metadata": {
    "editable": true,
    "execution": {
     "iopub.execute_input": "2024-01-22T09:04:08.709045Z",
     "iopub.status.busy": "2024-01-22T09:04:08.708823Z",
     "iopub.status.idle": "2024-01-22T09:04:08.869615Z",
     "shell.execute_reply": "2024-01-22T09:04:08.868613Z",
     "shell.execute_reply.started": "2024-01-22T09:04:08.709029Z"
    },
    "slideshow": {
     "slide_type": "fragment"
    },
    "tags": []
   },
   "outputs": [
    {
     "name": "stdout",
     "output_type": "stream",
     "text": [
      "Votre requête ?\n",
      "L=[1,2,3,4,5]\n",
      "Liste des résultats : [(concatene([1,2],[3,4,5],[1,2,3,4,5]),write(L=),writeln([1,2,3,4,5]))]\n"
     ]
    }
   ],
   "source": [
    "!echo \"concatene([1,2],[3,4,5],L),write(\\\"L=\\\"),writeln(L).\" | swipl -g halt -s prog.pl"
   ]
  },
  {
   "cell_type": "code",
   "execution_count": 17,
   "id": "d87bcb13-fcfe-4bcb-91a7-917aec63e8a8",
   "metadata": {
    "editable": true,
    "execution": {
     "iopub.execute_input": "2024-01-22T09:04:24.648894Z",
     "iopub.status.busy": "2024-01-22T09:04:24.648577Z",
     "iopub.status.idle": "2024-01-22T09:04:24.811047Z",
     "shell.execute_reply": "2024-01-22T09:04:24.809691Z",
     "shell.execute_reply.started": "2024-01-22T09:04:24.648872Z"
    },
    "slideshow": {
     "slide_type": "notes"
    },
    "tags": []
   },
   "outputs": [
    {
     "name": "stdout",
     "output_type": "stream",
     "text": [
      "Votre requête ?\n",
      "D=[1,2]\n",
      "Liste des résultats : [(concatene([1,2],[3,4,5],[1,2,3,4,5]),write(D=),writeln([1,2]))]\n"
     ]
    }
   ],
   "source": [
    "!echo \"concatene(D,[3,4,5],[1,2,3,4,5]),write(\\\"D=\\\"),writeln(D).\" | swipl -g halt -s prog.pl"
   ]
  },
  {
   "cell_type": "code",
   "execution_count": 18,
   "id": "6e79e15d-bcee-47c6-9b38-00ed4b020513",
   "metadata": {
    "editable": true,
    "execution": {
     "iopub.execute_input": "2024-01-22T09:04:40.320576Z",
     "iopub.status.busy": "2024-01-22T09:04:40.320278Z",
     "iopub.status.idle": "2024-01-22T09:04:40.474473Z",
     "shell.execute_reply": "2024-01-22T09:04:40.472623Z",
     "shell.execute_reply.started": "2024-01-22T09:04:40.320560Z"
    },
    "slideshow": {
     "slide_type": "notes"
    },
    "tags": []
   },
   "outputs": [
    {
     "name": "stdout",
     "output_type": "stream",
     "text": [
      "Votre requête ?\n",
      "F=[3,4,5]\n",
      "Liste des résultats : [(concatene([1,2],[3,4,5],[1,2,3,4,5]),write(F=),writeln([3,4,5]))]\n"
     ]
    }
   ],
   "source": [
    "!echo \"concatene([1,2],F,[1,2,3,4,5]),write(\\\"F=\\\"),writeln(F).\" | swipl -g halt -s prog.pl"
   ]
  },
  {
   "cell_type": "code",
   "execution_count": 19,
   "id": "90d98e27-6889-439e-a113-05a940e9e79d",
   "metadata": {
    "editable": true,
    "execution": {
     "iopub.execute_input": "2024-01-22T09:05:22.548445Z",
     "iopub.status.busy": "2024-01-22T09:05:22.547589Z",
     "iopub.status.idle": "2024-01-22T09:05:22.695977Z",
     "shell.execute_reply": "2024-01-22T09:05:22.695201Z",
     "shell.execute_reply.started": "2024-01-22T09:05:22.548416Z"
    },
    "slideshow": {
     "slide_type": "notes"
    },
    "tags": []
   },
   "outputs": [
    {
     "name": "stdout",
     "output_type": "stream",
     "text": [
      "Votre requête ?\n",
      "D=[]\n",
      "F=[1,2,3,4,5]\n",
      "D=[1]\n",
      "F=[2,3,4,5]\n",
      "D=[1,2]\n",
      "F=[3,4,5]\n",
      "D=[1,2,3]\n",
      "F=[4,5]\n",
      "D=[1,2,3,4]\n",
      "F=[5]\n",
      "D=[1,2,3,4,5]\n",
      "F=[]\n",
      "Liste des résultats : [(concatene([],[1,2,3,4,5],[1,2,3,4,5]),write(D=),writeln([]),write(F=),writeln([1,2,3,4,5])),(concatene([1],[2,3,4,5],[1,2,3,4,5]),write(D=),writeln([1]),write(F=),writeln([2,3,4,5])),(concatene([1,2],[3,4,5],[1,2,3,4,5]),write(D=),writeln([1,2]),write(F=),writeln([3,4,5])),(concatene([1,2,3],[4,5],[1,2,3,4,5]),write(D=),writeln([1,2,3]),write(F=),writeln([4,5])),(concatene([1,2,3,4],[5],[1,2,3,4,5]),write(D=),writeln([1,2,3,4]),write(F=),writeln([5])),(concatene([1,2,3,4,5],[],[1,2,3,4,5]),write(D=),writeln([1,2,3,4,5]),write(F=),writeln([]))]\n"
     ]
    }
   ],
   "source": [
    "!echo \"concatene(D,F,[1,2,3,4,5]),write(\\\"D=\\\"),writeln(D),write(\\\"F=\\\"),writeln(F).\" | swipl -g halt -s prog.pl"
   ]
  },
  {
   "cell_type": "code",
   "execution_count": null,
   "id": "957b3f9a-5b61-49be-89a1-732b0aee6b34",
   "metadata": {
    "editable": true,
    "scrolled": true,
    "slideshow": {
     "slide_type": "notes"
    },
    "tags": []
   },
   "outputs": [],
   "source": [
    "!echo \"concatene(D,[3,4,5],L),write(\\\"D=\\\"),writeln(D),write(\\\"L=\\\"),writeln(L).\" | swipl -g halt -s prog.pl"
   ]
  },
  {
   "cell_type": "code",
   "execution_count": 22,
   "id": "8082cc4f-e8b4-4887-b466-a24b883622af",
   "metadata": {
    "editable": true,
    "execution": {
     "iopub.execute_input": "2024-01-22T09:08:23.057680Z",
     "iopub.status.busy": "2024-01-22T09:08:23.057355Z",
     "iopub.status.idle": "2024-01-22T09:08:23.211531Z",
     "shell.execute_reply": "2024-01-22T09:08:23.210743Z",
     "shell.execute_reply.started": "2024-01-22T09:08:23.057656Z"
    },
    "slideshow": {
     "slide_type": "notes"
    },
    "tags": []
   },
   "outputs": [
    {
     "name": "stdout",
     "output_type": "stream",
     "text": [
      "Votre requête ?\n",
      "F=_2486\n",
      "L=[1,2|_2486]\n",
      "Liste des résultats : [(concatene([1,2],_2588,[1,2|_2588]),write(F=),writeln(_2588),write(L=),writeln([1,2|_2588]))]\n"
     ]
    }
   ],
   "source": [
    "!echo \"concatene([1,2],F,L),write(\\\"F=\\\"),writeln(F),write(\\\"L=\\\"),writeln(L).\" | swipl -g halt -s prog.pl"
   ]
  },
  {
   "cell_type": "markdown",
   "id": "9b7b6b85-fa42-4d07-a4ad-ab7cd2a72cf1",
   "metadata": {
    "editable": true,
    "slideshow": {
     "slide_type": "notes"
    },
    "tags": []
   },
   "source": [
    "## Prédicats courants\n",
    "\n",
    "* sur le premier élément d'une liste : premier, fin, ajoutEnPremier, supprimePremier, séparePremierFin\n",
    "* sur le dernier élément d'une liste : dernier, debut, ajoutEnFin, sépareDebutDernier\n",
    "* prédicat linéaire sur une liste donnant un nombre : longueur, somme, indice, nbOccurence\n",
    "* prédicat linéaire sur une liste donnant une liste : remplace, filtre, concatene, supprDoublonConsécutif\n",
    "* prédicat moins élémentaire sur une liste : inversePremierDernier, inverse, supprDoublonQlcq, tri\n",
    "\n",
    "On peut étudier maintenant et comprendre la reversibilité de inversePremierDernier.\n",
    "\n",
    "Parmi les prédicats de la premier liste, ajoutEnPremier et supprimePremier sont inverse l'un de l'autre et peuvent être fait à partir de séparePremierFin s'il est réversible (ce qui semble raisonnable, le prédicat ne nécessite probablement pas de récursivité, la terminaison ne doit pas être un problème)."
   ]
  },
  {
   "cell_type": "code",
   "execution_count": 29,
   "id": "28f372a2-77ab-4399-928e-b13b236e4f60",
   "metadata": {
    "editable": true,
    "execution": {
     "iopub.execute_input": "2024-01-22T09:38:47.350137Z",
     "iopub.status.busy": "2024-01-22T09:38:47.349347Z",
     "iopub.status.idle": "2024-01-22T09:38:47.377433Z",
     "shell.execute_reply": "2024-01-22T09:38:47.376094Z",
     "shell.execute_reply.started": "2024-01-22T09:38:47.350108Z"
    },
    "slideshow": {
     "slide_type": "notes"
    },
    "tags": []
   },
   "outputs": [
    {
     "name": "stdout",
     "output_type": "stream",
     "text": [
      "Overwriting prog.pl\n"
     ]
    }
   ],
   "source": [
    "%%writefile prog.pl\n",
    "/* separePremierFin(E,F,L) est vrai ssi E est le premier et F la fin de la liste L, i.e. : [E|F] = L . */\n",
    "separePremierFin(E,F,[E|F]).\n",
    "\n",
    "/* ajoutEnPremier(E,L,R) est vrai ssi en ajoutant E en premier à L , on a la même liste que R */\n",
    "ajoutEnPremier(E,L,Res) :-\n",
    "  separePremierFin(E,L,Res).\n",
    "\n",
    "/* supprimePremier(L,R) est vrai ssi en supprimant le premier élément de L , on a la même liste que R */\n",
    "supprimePremier(L,Res) :-\n",
    "  separePremierFin(_E,Res,L).\n",
    "    \n",
    "main :-  writeln('Votre requête ?'), read(Entree),\n",
    "  findall(Entree,Entree,Resultats),\n",
    "  write('Liste des résultats : '), writeln(Resultats).\n",
    ":- main."
   ]
  },
  {
   "cell_type": "code",
   "execution_count": 26,
   "id": "972e5bec-b75a-4e0e-aa5a-501f21d6c706",
   "metadata": {
    "editable": true,
    "execution": {
     "iopub.execute_input": "2024-01-22T09:29:26.221930Z",
     "iopub.status.busy": "2024-01-22T09:29:26.221592Z",
     "iopub.status.idle": "2024-01-22T09:29:26.384593Z",
     "shell.execute_reply": "2024-01-22T09:29:26.383170Z",
     "shell.execute_reply.started": "2024-01-22T09:29:26.221905Z"
    },
    "slideshow": {
     "slide_type": "notes"
    },
    "tags": []
   },
   "outputs": [
    {
     "name": "stdout",
     "output_type": "stream",
     "text": [
      "Votre requête ?\n",
      "L=[0,1,2,3]\n",
      "Liste des résultats : [(ajoutEnPremier(0,[1,2,3],[0,1,2,3]),write(L=),writeln([0,1,2,3]))]\n"
     ]
    }
   ],
   "source": [
    "!echo \"ajoutEnPremier(0,[1,2,3],L),write(\\\"L=\\\"),writeln(L).\" | swipl -g halt -s prog.pl"
   ]
  },
  {
   "cell_type": "code",
   "execution_count": 27,
   "id": "b0766ef9-9547-4845-a534-2828f05912c1",
   "metadata": {
    "editable": true,
    "execution": {
     "iopub.execute_input": "2024-01-22T09:29:30.847692Z",
     "iopub.status.busy": "2024-01-22T09:29:30.847332Z",
     "iopub.status.idle": "2024-01-22T09:29:31.005035Z",
     "shell.execute_reply": "2024-01-22T09:29:31.003817Z",
     "shell.execute_reply.started": "2024-01-22T09:29:30.847665Z"
    },
    "slideshow": {
     "slide_type": "notes"
    },
    "tags": []
   },
   "outputs": [
    {
     "name": "stdout",
     "output_type": "stream",
     "text": [
      "Votre requête ?\n",
      "L=[2,3]\n",
      "Liste des résultats : [(supprimePremier([1,2,3],[2,3]),write(L=),writeln([2,3]))]\n"
     ]
    }
   ],
   "source": [
    "!echo \"supprimePremier([1,2,3],L),write(\\\"L=\\\"),writeln(L).\" | swipl -g halt -s prog.pl"
   ]
  },
  {
   "cell_type": "markdown",
   "id": "0dcb054d-3aaf-4fbe-be5e-f9602d22f8b9",
   "metadata": {},
   "source": [
    "Pour les prédicats sur le dernier élément, est-il raisonnable de vouloir le même comportement ? Pour le premier élément, il n'y avait pas de difficulté (car pas de récursivité), mais pour le dernier élément, à priori cela sera plus difficile à cause de la récursivité et du risque de non-terminaison. Il faut donc vérifier la terminaison avec attention"
   ]
  },
  {
   "cell_type": "code",
   "execution_count": 30,
   "id": "b8ee82ec-5f6f-4e8d-9fce-fb23970d25f2",
   "metadata": {
    "editable": true,
    "execution": {
     "iopub.execute_input": "2024-01-22T09:45:03.455977Z",
     "iopub.status.busy": "2024-01-22T09:45:03.455314Z",
     "iopub.status.idle": "2024-01-22T09:45:03.473454Z",
     "shell.execute_reply": "2024-01-22T09:45:03.472831Z",
     "shell.execute_reply.started": "2024-01-22T09:45:03.455945Z"
    },
    "slideshow": {
     "slide_type": "notes"
    },
    "tags": []
   },
   "outputs": [
    {
     "name": "stdout",
     "output_type": "stream",
     "text": [
      "Overwriting prog.pl\n"
     ]
    }
   ],
   "source": [
    "%%writefile prog.pl\n",
    "/* separeDebutDernier(Debut,Dernier,L) est vrai ssi Debut est le début et Dernier le dernier élément de la liste L */\n",
    "separeDebutDernier([],Dernier,[Dernier]).\n",
    "separeDebutDernier([E|Debut],Dernier,[E|Res]):-\n",
    "  separeDebutDernier(Debut,Dernier,Res).\n",
    "\n",
    "/* ajoutEnDernier(E,L,R) est vrai ssi en ajoutant E en dernier à L , on a la même liste que R */\n",
    "ajoutEnDernier(E,L,Res) :-\n",
    "  separeDebutDernier(L,E,Res).\n",
    "\n",
    "/* supprimeDernier(L,R) est vrai ssi en supprimant le dernier élément de L , on a la même liste que R */\n",
    "supprimeDernier(L,Res) :-\n",
    "  separeDebutDernier(Res,_E,L).\n",
    "    \n",
    "main :-  writeln('Votre requête ?'), read(Entree),\n",
    "  findall(Entree,Entree,Resultats),\n",
    "  write('Liste des résultats : '), writeln(Resultats).\n",
    ":- main."
   ]
  },
  {
   "cell_type": "code",
   "execution_count": 31,
   "id": "5a7c4cb9-a40f-40d7-8142-a068c8eb903d",
   "metadata": {
    "editable": true,
    "execution": {
     "iopub.execute_input": "2024-01-22T09:45:20.914571Z",
     "iopub.status.busy": "2024-01-22T09:45:20.914258Z",
     "iopub.status.idle": "2024-01-22T09:45:21.067254Z",
     "shell.execute_reply": "2024-01-22T09:45:21.066136Z",
     "shell.execute_reply.started": "2024-01-22T09:45:20.914549Z"
    },
    "slideshow": {
     "slide_type": "notes"
    },
    "tags": []
   },
   "outputs": [
    {
     "name": "stdout",
     "output_type": "stream",
     "text": [
      "Votre requête ?\n",
      "L=[1,2,3,4]\n",
      "Liste des résultats : [(ajoutEnDernier(4,[1,2,3],[1,2,3,4]),write(L=),writeln([1,2,3,4]))]\n"
     ]
    }
   ],
   "source": [
    "!echo \"ajoutEnDernier(4,[1,2,3],L),write(\\\"L=\\\"),writeln(L).\" | swipl -g halt -s prog.pl"
   ]
  },
  {
   "cell_type": "code",
   "execution_count": 32,
   "id": "2792ded5-9e36-42b5-b7c1-077cf8c7a5fe",
   "metadata": {
    "editable": true,
    "execution": {
     "iopub.execute_input": "2024-01-22T09:45:34.680769Z",
     "iopub.status.busy": "2024-01-22T09:45:34.680416Z",
     "iopub.status.idle": "2024-01-22T09:45:34.840881Z",
     "shell.execute_reply": "2024-01-22T09:45:34.840040Z",
     "shell.execute_reply.started": "2024-01-22T09:45:34.680741Z"
    },
    "slideshow": {
     "slide_type": "notes"
    },
    "tags": []
   },
   "outputs": [
    {
     "name": "stdout",
     "output_type": "stream",
     "text": [
      "Votre requête ?\n",
      "L=[1,2]\n",
      "Liste des résultats : [(supprimeDernier([1,2,3],[1,2]),write(L=),writeln([1,2]))]\n"
     ]
    }
   ],
   "source": [
    "!echo \"supprimeDernier([1,2,3],L),write(\\\"L=\\\"),writeln(L).\" | swipl -g halt -s prog.pl"
   ]
  },
  {
   "cell_type": "markdown",
   "id": "02469581-46a3-4ea9-b45a-69dada02bb7b",
   "metadata": {
    "editable": true,
    "slideshow": {
     "slide_type": "notes"
    },
    "tags": []
   },
   "source": [
    "Pour les autres prédicats, idem, il faut regarder finement les terminaisons et aussi, parfois, se demander ce que pourrait être l'inverse d'un prédicat. Ex. :\n",
    "\n",
    "* l'inverse de la longueur, la génération d'une liste quelconque de longueur donnée ? (ok)\n",
    "* l'inverse de la somme, en limitant aux entiers positifs non nul, l'ensemble des découpages possibles d'un entier en somme d'entiers positifs non nuls ; en ne supposant pas de limitation, ... ? \n",
    "* l'inverse du tri, la permutation ? (ok, mais il y a peut-être plus simple)\n",
    "Visiblement, certains prédicats risquent de ne pas être facilement inversibles.\n",
    "\n",
    "La réversibilité, introduit deux questions naturelles : comment assurer l'inversion numérique (de A+B => = C, peut-on déduire à partir de A et de C la valeur de B) et comment caractériser/prendre en compte la multiplicité des solutions (ex. les permutations)."
   ]
  },
  {
   "cell_type": "markdown",
   "id": "ba00c341-79e4-451d-8b81-683ed7308c63",
   "metadata": {
    "editable": true,
    "slideshow": {
     "slide_type": "slide"
    },
    "tags": []
   },
   "source": [
    "<img src=\"logoUGA.png\"></img>\n",
    "\n",
    "# Non déterminisme\n",
    "\n",
    "Avec les prédicats réversibles ou naturellement avec certains prédicats, plusieurs solutions peuvent être trouvées par le moteur d'inférence ProLog. "
   ]
  },
  {
   "cell_type": "code",
   "execution_count": 61,
   "id": "5c7452fb-70ca-4e7c-893e-822e79dc30bc",
   "metadata": {
    "editable": true,
    "execution": {
     "iopub.execute_input": "2024-01-22T10:53:27.509021Z",
     "iopub.status.busy": "2024-01-22T10:53:27.508416Z",
     "iopub.status.idle": "2024-01-22T10:53:27.527727Z",
     "shell.execute_reply": "2024-01-22T10:53:27.526890Z",
     "shell.execute_reply.started": "2024-01-22T10:53:27.508990Z"
    },
    "slideshow": {
     "slide_type": "slide"
    },
    "tags": []
   },
   "outputs": [
    {
     "name": "stdout",
     "output_type": "stream",
     "text": [
      "Overwriting prog.pl\n"
     ]
    }
   ],
   "source": [
    "%%writefile prog.pl\n",
    "/* membre(E,L) est vrai ssi E est dans la liste L */\n",
    "membre(E,[E|_L]).\n",
    "membre(E,[_F|L]):-\n",
    "  membre(E,L).\n",
    "\n",
    "main :-  writeln('Votre requête ?'), read(Entree),\n",
    "  findall(Entree,Entree,Resultats),\n",
    "  write('Liste des résultats : '), writeln(Resultats).\n",
    ":- main."
   ]
  },
  {
   "cell_type": "code",
   "execution_count": 62,
   "id": "37997037-7500-4a25-90bb-a92a6a0735f9",
   "metadata": {
    "editable": true,
    "execution": {
     "iopub.execute_input": "2024-01-22T10:53:29.550258Z",
     "iopub.status.busy": "2024-01-22T10:53:29.549942Z",
     "iopub.status.idle": "2024-01-22T10:53:29.713664Z",
     "shell.execute_reply": "2024-01-22T10:53:29.712764Z",
     "shell.execute_reply.started": "2024-01-22T10:53:29.550236Z"
    },
    "slideshow": {
     "slide_type": "fragment"
    },
    "tags": []
   },
   "outputs": [
    {
     "name": "stdout",
     "output_type": "stream",
     "text": [
      "Votre requête ?\n",
      "E=1\n",
      "E=2\n",
      "E=3\n",
      "Liste des résultats : [(membre(1,[1,2,3]),write(E=),writeln(1)),(membre(2,[1,2,3]),write(E=),writeln(2)),(membre(3,[1,2,3]),write(E=),writeln(3))]\n"
     ]
    }
   ],
   "source": [
    "!echo \"membre(E,[1,2,3]), write(\\\"E=\\\"), writeln(E).\" | swipl -g halt -s prog.pl"
   ]
  },
  {
   "cell_type": "markdown",
   "id": "9bcf9e44-929a-49d0-92b6-e0997ce55b5e",
   "metadata": {
    "editable": true,
    "slideshow": {
     "slide_type": "notes"
    },
    "tags": []
   },
   "source": [
    "Ces solutions :\n",
    "\n",
    "* peuvent être redondantes (c'est complet, mais redondant ; en travaillant sur la complétude, sans la perdre, l'objectif est alors de ne plus avoir de règles redondantes)\n",
    "* peuvent être en nombre infini (alors il faut prévoir un mécanisme de coupure, pour éviter une boucle infinie, ou se restreindre à la première solution\n",
    "  * parmi les solutions en nombre infini, attention à garantir que toutes les solutions arrivent si l'on attends assez longtemps.\n",
    " \n",
    "Exemple de solution redondante (pour membre) :"
   ]
  },
  {
   "cell_type": "code",
   "execution_count": 71,
   "id": "6863d760-4f39-4d36-a851-bbea6af9747d",
   "metadata": {
    "editable": true,
    "execution": {
     "iopub.execute_input": "2024-01-22T10:55:42.836943Z",
     "iopub.status.busy": "2024-01-22T10:55:42.836674Z",
     "iopub.status.idle": "2024-01-22T10:55:42.860331Z",
     "shell.execute_reply": "2024-01-22T10:55:42.859160Z",
     "shell.execute_reply.started": "2024-01-22T10:55:42.836922Z"
    },
    "slideshow": {
     "slide_type": "notes"
    },
    "tags": []
   },
   "outputs": [
    {
     "name": "stdout",
     "output_type": "stream",
     "text": [
      "Overwriting prog.pl\n"
     ]
    }
   ],
   "source": [
    "%%writefile prog.pl\n",
    "/* membre(E,L) est vrai ssi E est dans la liste L */\n",
    "membre(E,[E]).\n",
    "membre(E,[E|_L]).\n",
    "membre(E,[_F|L]):-\n",
    "  membre(E,L).\n",
    "\n",
    "main :-  writeln('Votre requête ?'), read(Entree),\n",
    "  findall(Entree,Entree,Resultats),\n",
    "  write('Liste des résultats : '), writeln(Resultats).\n",
    ":- main."
   ]
  },
  {
   "cell_type": "code",
   "execution_count": 72,
   "id": "a30c4fe8-6146-45d6-9b7b-6f3069521983",
   "metadata": {
    "editable": true,
    "execution": {
     "iopub.execute_input": "2024-01-22T10:55:44.651750Z",
     "iopub.status.busy": "2024-01-22T10:55:44.651533Z",
     "iopub.status.idle": "2024-01-22T10:55:44.807998Z",
     "shell.execute_reply": "2024-01-22T10:55:44.807039Z",
     "shell.execute_reply.started": "2024-01-22T10:55:44.651736Z"
    },
    "slideshow": {
     "slide_type": ""
    },
    "tags": []
   },
   "outputs": [
    {
     "name": "stdout",
     "output_type": "stream",
     "text": [
      "Votre requête ?\n",
      "E=1\n",
      "E=2\n",
      "E=3\n",
      "E=3\n",
      "Liste des résultats : [(membre(1,[1,2,3]),write(E=),writeln(1)),(membre(2,[1,2,3]),write(E=),writeln(2)),(membre(3,[1,2,3]),write(E=),writeln(3)),(membre(3,[1,2,3]),write(E=),writeln(3))]\n"
     ]
    }
   ],
   "source": [
    "!echo \"membre(E,[1,2,3]), write(\\\"E=\\\"), writeln(E).\" | swipl -g halt -s prog.pl"
   ]
  },
  {
   "cell_type": "markdown",
   "id": "94c69555-aca2-4344-a717-bc61c7e5a2ae",
   "metadata": {},
   "source": [
    "attention à ne pas réduire la complétude en voulant éviter la redondance"
   ]
  },
  {
   "cell_type": "code",
   "execution_count": 73,
   "id": "97a8ea96-1ae8-4a2f-b521-84238e6db37f",
   "metadata": {
    "editable": true,
    "execution": {
     "iopub.execute_input": "2024-01-22T10:55:50.730345Z",
     "iopub.status.busy": "2024-01-22T10:55:50.729750Z",
     "iopub.status.idle": "2024-01-22T10:55:50.742127Z",
     "shell.execute_reply": "2024-01-22T10:55:50.741645Z",
     "shell.execute_reply.started": "2024-01-22T10:55:50.730283Z"
    },
    "slideshow": {
     "slide_type": "notes"
    },
    "tags": []
   },
   "outputs": [
    {
     "name": "stdout",
     "output_type": "stream",
     "text": [
      "Overwriting prog.pl\n"
     ]
    }
   ],
   "source": [
    "%%writefile prog.pl\n",
    "/* membre(E,L) est vrai ssi E est dans la liste L */\n",
    "membre(E,[E]).\n",
    "membre(E,[_F|L]):-\n",
    "  membre(E,L).\n",
    "\n",
    "main :-  writeln('Votre requête ?'), read(Entree),\n",
    "  findall(Entree,Entree,Resultats),\n",
    "  write('Liste des résultats : '), writeln(Resultats).\n",
    ":- main."
   ]
  },
  {
   "cell_type": "code",
   "execution_count": 74,
   "id": "bf300765-c23b-45ea-b1f8-61abbd3a5056",
   "metadata": {
    "editable": true,
    "execution": {
     "iopub.execute_input": "2024-01-22T10:55:52.971657Z",
     "iopub.status.busy": "2024-01-22T10:55:52.971224Z",
     "iopub.status.idle": "2024-01-22T10:55:53.125393Z",
     "shell.execute_reply": "2024-01-22T10:55:53.124656Z",
     "shell.execute_reply.started": "2024-01-22T10:55:52.971639Z"
    },
    "slideshow": {
     "slide_type": "notes"
    },
    "tags": []
   },
   "outputs": [
    {
     "name": "stdout",
     "output_type": "stream",
     "text": [
      "Votre requête ?\n",
      "E=3\n",
      "Liste des résultats : [(membre(3,[1,2,3]),write(E=),writeln(3))]\n"
     ]
    }
   ],
   "source": [
    "!echo \"membre(E,[1,2,3]), write(\\\"E=\\\"), writeln(E).\" | swipl -g halt -s prog.pl"
   ]
  },
  {
   "cell_type": "markdown",
   "id": "4deac998-69e9-4095-ba62-f9ca89e63f6a",
   "metadata": {},
   "source": [
    "Autre soucis potentiel, (avec le programme initial), il peut y avoir redondance des réponses, si un élément apparait plusieurs fois dans la liste.  \n",
    "Pour éviter cela :"
   ]
  },
  {
   "cell_type": "code",
   "execution_count": 116,
   "id": "c039af7c-2c0c-4e8b-87e7-3de75ef1147a",
   "metadata": {
    "execution": {
     "iopub.execute_input": "2024-02-01T12:51:04.363309Z",
     "iopub.status.busy": "2024-02-01T12:51:04.362669Z",
     "iopub.status.idle": "2024-02-01T12:51:04.387056Z",
     "shell.execute_reply": "2024-02-01T12:51:04.385972Z",
     "shell.execute_reply.started": "2024-02-01T12:51:04.363285Z"
    }
   },
   "outputs": [
    {
     "name": "stdout",
     "output_type": "stream",
     "text": [
      "Overwriting prog.pl\n"
     ]
    }
   ],
   "source": [
    "%%writefile prog.pl\n",
    "/* membre(E,L) est vrai ssi E est dans la liste L */\n",
    "membre(E,[E|_L]).\n",
    "membre(E,[F|L]):-\n",
    "  dif(E,F),\n",
    "  membre(E,L).\n",
    "\n",
    "main :-  writeln('Votre requête ?'), read(Entree),\n",
    "  findall(Entree,Entree,Resultats),\n",
    "  write('Liste des résultats : '), writeln(Resultats).\n",
    ":- main."
   ]
  },
  {
   "cell_type": "code",
   "execution_count": 117,
   "id": "2771228c-2ab4-4f40-8b01-1fb304337ab4",
   "metadata": {
    "execution": {
     "iopub.execute_input": "2024-02-01T12:51:45.522915Z",
     "iopub.status.busy": "2024-02-01T12:51:45.522636Z",
     "iopub.status.idle": "2024-02-01T12:51:45.686446Z",
     "shell.execute_reply": "2024-02-01T12:51:45.685839Z",
     "shell.execute_reply.started": "2024-02-01T12:51:45.522893Z"
    }
   },
   "outputs": [
    {
     "name": "stdout",
     "output_type": "stream",
     "text": [
      "Votre requête ?\n",
      "E=1\n",
      "E=2\n",
      "Liste des résultats : [(membre(1,[1,2,1]),write(E=),writeln(1)),(membre(2,[1,2,1]),write(E=),writeln(2))]\n"
     ]
    }
   ],
   "source": [
    "!echo \"membre(E,[1,2,1]), write(\\\"E=\\\"), writeln(E).\" | swipl -g halt -s prog.pl"
   ]
  },
  {
   "cell_type": "markdown",
   "id": "2403a815-8c81-44b9-9f14-09fea723ab4e",
   "metadata": {
    "editable": true,
    "slideshow": {
     "slide_type": ""
    },
    "tags": []
   },
   "source": [
    "L'exemple précédent, a limiter les inconnues en fixant la liste, et demandant l'élément.  \n",
    "Pour aller plus loin, on va mettre en inconnu, l'élément et la liste.  \n",
    "On repart du prédicat initial."
   ]
  },
  {
   "cell_type": "code",
   "execution_count": 113,
   "id": "4b8fd5f9-b545-42b3-b3ad-c3ce43cfd1e6",
   "metadata": {
    "editable": true,
    "execution": {
     "iopub.execute_input": "2024-02-01T12:44:01.389534Z",
     "iopub.status.busy": "2024-02-01T12:44:01.388382Z",
     "iopub.status.idle": "2024-02-01T12:44:01.424054Z",
     "shell.execute_reply": "2024-02-01T12:44:01.423362Z",
     "shell.execute_reply.started": "2024-02-01T12:44:01.389371Z"
    },
    "slideshow": {
     "slide_type": ""
    },
    "tags": []
   },
   "outputs": [
    {
     "name": "stdout",
     "output_type": "stream",
     "text": [
      "Overwriting prog.pl\n"
     ]
    }
   ],
   "source": [
    "%%writefile prog.pl\n",
    "/* membre(E,L) est vrai ssi E est dans la liste L */\n",
    "membre(E,[E|_L]).\n",
    "membre(E,[_F|L]):-\n",
    "  membre(E,L).\n",
    "\n",
    "main :-  writeln('Votre requête ?'), read(Entree),\n",
    "  findall(Entree,Entree,Resultats),\n",
    "  write('Liste des résultats : '), writeln(Resultats).\n",
    ":- main."
   ]
  },
  {
   "cell_type": "code",
   "execution_count": null,
   "id": "49e4e3f0-a609-421e-b620-89b482f288b6",
   "metadata": {
    "editable": true,
    "scrolled": true,
    "slideshow": {
     "slide_type": ""
    },
    "tags": []
   },
   "outputs": [],
   "source": [
    "!echo \"membre(E,L), write(\\\"E=\\\"), write(E), write(\\\" L=\\\"), writeln(L).\" | swipl -g halt -s prog.pl"
   ]
  },
  {
   "cell_type": "markdown",
   "id": "a7730a96-3003-419d-962b-6e071767cf0f",
   "metadata": {},
   "source": [
    "réponse :\n",
    "```\n",
    "E=_2528 L=[_2528|_2624]\n",
    "E=_2528 L=[_2622,_2528|_2630]\n",
    "E=_2528 L=[_2622,_2628,_2528|_2636]\n",
    "E=_2528 L=[_2622,_2628,_2634,_2528|_2642]\n",
    "E=_2528 L=[_2622,_2628,_2634,_2640,_2528|_2648]\n",
    "E=_2528 L=[_2622,_2628,_2634,_2640,_2646,_2528|_2654]\n",
    "E=_2528 L=[_2622,_2628,_2634,_2640,_2646,_2652,_2528|_2660]\n",
    "E=_2528 L=[_2622,_2628,_2634,_2640,_2646,_2652,_2658,_2528|_2666]\n",
    "E=_2528 L=[_2622,_2628,_2634,_2640,_2646,_2652,_2658,_2664,_2528|_2672]\n",
    "E=_2528 L=[_2622,_2628,_2634,_2640,_2646,_2652,_2658,_2664,_2670,_2528|_2678]\n",
    "E=_2528 L=[_2622,_2628,_2634,_2640,_2646,_2652,_2658,_2664,_2670,_2676,_2528|_2684]\n",
    "...\n",
    "```"
   ]
  },
  {
   "cell_type": "markdown",
   "id": "5b74075a-f07f-453d-ab6c-1359fd5a0883",
   "metadata": {},
   "source": [
    "Inconvénient : cela ne donne pas de liste explicite (la fin de liste est implicite)  \n",
    "Pour améliorer cela, on peut demander à expliciter la fin de liste, avec un prédicat qui enumère les listes."
   ]
  },
  {
   "cell_type": "code",
   "execution_count": 120,
   "id": "3e45c6b1-4e71-4a89-be9c-269d58b09a09",
   "metadata": {
    "execution": {
     "iopub.execute_input": "2024-02-01T12:54:09.540320Z",
     "iopub.status.busy": "2024-02-01T12:54:09.539594Z",
     "iopub.status.idle": "2024-02-01T12:54:09.559285Z",
     "shell.execute_reply": "2024-02-01T12:54:09.558174Z",
     "shell.execute_reply.started": "2024-02-01T12:54:09.540298Z"
    }
   },
   "outputs": [
    {
     "name": "stdout",
     "output_type": "stream",
     "text": [
      "Overwriting prog.pl\n"
     ]
    }
   ],
   "source": [
    "%%writefile prog.pl\n",
    "/* membre(E,L) est vrai ssi E est dans la liste L */\n",
    "membre(E,[E|L]):-\n",
    "  liste(L).\n",
    "membre(E,[_F|L]):-\n",
    "  membre(E,L).\n",
    "\n",
    "liste([]).\n",
    "liste([_E|L]):-\n",
    "  liste(L).\n",
    "\n",
    "main :-  writeln('Votre requête ?'), read(Entree),\n",
    "  findall(Entree,Entree,Resultats),\n",
    "  write('Liste des résultats : '), writeln(Resultats).\n",
    ":- main."
   ]
  },
  {
   "cell_type": "code",
   "execution_count": null,
   "id": "6e4f60b1-0884-4d62-80a0-fc4a3fb9b487",
   "metadata": {},
   "outputs": [],
   "source": [
    "!echo \"membre(E,L), write(\\\"E=\\\"), write(E), write(\\\" L=\\\"), writeln(L).\" | swipl -g halt -s prog.pl"
   ]
  },
  {
   "cell_type": "markdown",
   "id": "7906b696-b1a6-4034-8c9e-4f99509df658",
   "metadata": {},
   "source": [
    "Réponse :\n",
    "```\n",
    "E=_2600 L=[_2600]\n",
    "E=_2600 L=[_2600,_2700]\n",
    "E=_2600 L=[_2600,_2700,_2706]\n",
    "E=_2600 L=[_2600,_2700,_2706,_2712]\n",
    "E=_2600 L=[_2600,_2700,_2706,_2712,_2718]\n",
    "E=_2600 L=[_2600,_2700,_2706,_2712,_2718,_2724]\n",
    "E=_2600 L=[_2600,_2700,_2706,_2712,_2718,_2724,_2730]\n",
    "E=_2600 L=[_2600,_2700,_2706,_2712,_2718,_2724,_2730,_2736]\n",
    "E=_2600 L=[_2600,_2700,_2706,_2712,_2718,_2724,_2730,_2736,_2742]\n",
    "```\n",
    "C'est mieux, les listes sont explicites, mais, les listes ont toutes E en début, aucune liste avec E en second, ou en 3e position.  \n",
    "C'est qu'il y a 2 énumarations infinie concurrentes, toutes les listes avec E, et toutes les listes de fin (qlc).  \n",
    "C'est un problème courant (général).  \n",
    "On peut trouver une demi-solution en limitant la taille de la liste résultat."
   ]
  },
  {
   "cell_type": "code",
   "execution_count": 123,
   "id": "34010dbe-55f8-44bd-bec6-37b1f3a92c7e",
   "metadata": {
    "execution": {
     "iopub.execute_input": "2024-02-01T12:57:49.225757Z",
     "iopub.status.busy": "2024-02-01T12:57:49.225513Z",
     "iopub.status.idle": "2024-02-01T12:57:49.385861Z",
     "shell.execute_reply": "2024-02-01T12:57:49.384891Z",
     "shell.execute_reply.started": "2024-02-01T12:57:49.225741Z"
    }
   },
   "outputs": [
    {
     "name": "stdout",
     "output_type": "stream",
     "text": [
      "Votre requête ?\n",
      "E=_2602 L=[_2602,_2608,_2614]\n",
      "E=_2608 L=[_2602,_2608,_2614]\n",
      "E=_2614 L=[_2602,_2608,_2614]\n",
      "Liste des résultats : [(membre(_2940,[_2940,_2952,_2958]),write(E=),write(_2940),write( L=),writeln([_2940,_2952,_2958])),(membre(_2840,[_2846,_2840,_2858]),write(E=),write(_2840),write( L=),writeln([_2846,_2840,_2858])),(membre(_2740,[_2746,_2752,_2740]),write(E=),write(_2740),write( L=),writeln([_2746,_2752,_2740]))]\n"
     ]
    }
   ],
   "source": [
    "!echo \"membre(E,[A,B,C]), write(\\\"E=\\\"), write(E), write(\\\" L=\\\"), writeln([A,B,C]).\" | swipl -g halt -s prog.pl"
   ]
  },
  {
   "cell_type": "markdown",
   "id": "638df9e3-70d9-4fce-b0ee-98e5be4e6d2c",
   "metadata": {},
   "source": [
    "Il faudrait pouvoir faire une requête, avec liste initiale de longueur 1, puis 2, puis 3, etc.  \n",
    "Pour faire cela (c'est une solution générale), on change la requête initiale (seulement la requête initiale, cela ne change pas le programme spécifique, mais répond à la recherche d'une requête qui demande des listes de longueur 1 puis 2, puis 3, etc.). Cela utilise aussi le prédicat ```liste```, c'est un hazard, mais c'est bien le même prédicat :"
   ]
  },
  {
   "cell_type": "code",
   "execution_count": null,
   "id": "4d49a376-0a0f-4bf3-920a-1005c222034b",
   "metadata": {},
   "outputs": [],
   "source": [
    "!echo \"liste(L), membre(E,L), write(\\\"E=\\\"), write(E), write(\\\" L=\\\"), writeln(L).\" | swipl -g halt -s prog.pl"
   ]
  },
  {
   "cell_type": "markdown",
   "id": "da44da6a-2740-438c-bf58-0d42f1bbfbd8",
   "metadata": {},
   "source": [
    "Réponse :\n",
    "```\n",
    "Votre requête ?\n",
    "E=_2604 L=[_2604]\n",
    "E=_2604 L=[_2604,_2710]\n",
    "E=_2604 L=[_2704,_2604]\n",
    "E=_2604 L=[_2604,_2710,_2716]\n",
    "E=_2604 L=[_2704,_2604,_2716]\n",
    "E=_2604 L=[_2704,_2710,_2604]\n",
    "E=_2604 L=[_2604,_2710,_2716,_2722]\n",
    "E=_2604 L=[_2704,_2604,_2716,_2722]\n",
    "E=_2604 L=[_2704,_2710,_2604,_2722]\n",
    "E=_2604 L=[_2704,_2710,_2716,_2604]\n",
    "E=_2604 L=[_2604,_2710,_2716,_2722,_2728]\n",
    "E=_2604 L=[_2704,_2604,_2716,_2722,_2728]\n",
    "E=_2604 L=[_2704,_2710,_2604,_2722,_2728]\n",
    "```\n",
    "C'est ok ! On voit bien l'élément E apparaitre explicitement dans toutes les listes, avec des listes de toutes les longueurs. \n",
    "Cependant, on pourrait vouloir avoir 2 variantes, l'une où on explicite les E (et quand c'est une autre variable, ce ne peut pas être E), et l'une ou E est unique dans la liste.   \n",
    "Avec E multiples explicites :"
   ]
  },
  {
   "cell_type": "code",
   "execution_count": 129,
   "id": "a91bdd41-5f18-4398-aada-4504557e1c0c",
   "metadata": {
    "execution": {
     "iopub.execute_input": "2024-02-01T13:10:39.908363Z",
     "iopub.status.busy": "2024-02-01T13:10:39.907706Z",
     "iopub.status.idle": "2024-02-01T13:10:39.927973Z",
     "shell.execute_reply": "2024-02-01T13:10:39.927432Z",
     "shell.execute_reply.started": "2024-02-01T13:10:39.908328Z"
    }
   },
   "outputs": [
    {
     "name": "stdout",
     "output_type": "stream",
     "text": [
      "Overwriting prog.pl\n"
     ]
    }
   ],
   "source": [
    "%%writefile prog.pl\n",
    "/* membre(E,L) est vrai ssi E est dans la liste L */\n",
    "membre(E,[E|L]):-\n",
    "  listeSansE(E,L).\n",
    "membre(E,[E|L]):-\n",
    "  membre(E,L).\n",
    "membre(E,[F|L]):-\n",
    "  dif(E,F),\n",
    "  membre(E,L).\n",
    "\n",
    "listeSansE(_E,[]).\n",
    "listeSansE(E,[F|L]):-\n",
    "  dif(E,F),\n",
    "  listeSansE(E,L).\n",
    "\n",
    "liste([]).\n",
    "liste([_E|L]):-\n",
    "  liste(L).\n",
    "\n",
    "main :-  writeln('Votre requête ?'), read(Entree),\n",
    "  findall(Entree,Entree,Resultats),\n",
    "  write('Liste des résultats : '), writeln(Resultats).\n",
    ":- main."
   ]
  },
  {
   "cell_type": "code",
   "execution_count": null,
   "id": "a15a03b7-e745-411e-83ba-b919057e84a7",
   "metadata": {},
   "outputs": [],
   "source": [
    "!echo \"liste(L), membre(E,L), write(\\\"E=\\\"), write(E), write(\\\" L=\\\"), writeln(L).\" | swipl -g halt -s prog.pl"
   ]
  },
  {
   "cell_type": "markdown",
   "id": "1f85db67-10d1-489b-b935-1b2dcd2b457f",
   "metadata": {},
   "source": [
    "Réponse :\n",
    "```\n",
    "E=_2620 L=[_2620]\n",
    "E=_4520 L=[_4520,_4552]\n",
    "E=_2620 L=[_2620,_2620]\n",
    "E=_4520 L=[_4552,_4520]\n",
    "E=_4526 L=[_4526,_4558,_4678]\n",
    "E=_4526 L=[_4526,_4526,_4558]\n",
    "E=_2620 L=[_2620,_2620,_2620]\n",
    "E=_4526 L=[_4526,_4558,_4526]\n",
    "E=_4526 L=[_4558,_4526,_4680]\n",
    "E=_4526 L=[_4558,_4526,_4526]\n",
    "E=_4526 L=[_4558,_4678,_4526]\n",
    "E=_4532 L=[_4532,_4564,_4684,_4804]\n",
    "E=_4532 L=[_4532,_4532,_4564,_4684]\n",
    "E=_4532 L=[_4532,_4532,_4532,_4564]\n",
    "E=_2620 L=[_2620,_2620,_2620,_2620]\n",
    "E=_4532 L=[_4532,_4532,_4564,_4532]\n",
    "E=_4532 L=[_4532,_4564,_4532,_4686]\n",
    "E=_4532 L=[_4532,_4564,_4532,_4532]\n",
    "E=_4532 L=[_4532,_4564,_4684,_4532]\n",
    "E=_4532 L=[_4564,_4532,_4686,_4808]\n",
    "E=_4532 L=[_4564,_4532,_4532,_4686]\n",
    "E=_4532 L=[_4564,_4532,_4532,_4532]\n",
    "E=_4532 L=[_4564,_4532,_4686,_4532]\n",
    "E=_4532 L=[_4564,_4684,_4532,_4806]\n",
    "E=_4532 L=[_4564,_4684,_4532,_4532]\n",
    "E=_4532 L=[_4564,_4684,_4804,_4532]\n",
    "```\n",
    "C'est ok, pour vérifier qu'il y a le bon nombre de réponses, il faut faire un peu de combinatoire. Il y a à chaque fois $2^n-1$ listes (en binaire, tous les nombres de n bits, sauf 00...0).  \n",
    "Remarque, c'est une bonne pratique de faire de la combinatoire pour vérifier que l'on a le bon nombre de solutions.\n",
    "\n",
    "Pour, E unique (ce n'est plus membre, mais membreUnique) :"
   ]
  },
  {
   "cell_type": "code",
   "execution_count": 131,
   "id": "177f9b68-2265-4bd8-900a-07e0cd81e01f",
   "metadata": {
    "execution": {
     "iopub.execute_input": "2024-02-01T13:14:30.672919Z",
     "iopub.status.busy": "2024-02-01T13:14:30.672587Z",
     "iopub.status.idle": "2024-02-01T13:14:30.694343Z",
     "shell.execute_reply": "2024-02-01T13:14:30.693647Z",
     "shell.execute_reply.started": "2024-02-01T13:14:30.672896Z"
    }
   },
   "outputs": [
    {
     "name": "stdout",
     "output_type": "stream",
     "text": [
      "Overwriting prog.pl\n"
     ]
    }
   ],
   "source": [
    "%%writefile prog.pl\n",
    "/* membreUnique(E,L) est vrai ssi E est dans la liste L */\n",
    "membreUnique(E,[E|L]):-\n",
    "  listeSansE(E,L).\n",
    "membreUnique(E,[F|L]):-\n",
    "  dif(E,F),\n",
    "  membreUnique(E,L).\n",
    "\n",
    "listeSansE(_E,[]).\n",
    "listeSansE(E,[F|L]):-\n",
    "  dif(E,F),\n",
    "  listeSansE(E,L).\n",
    "\n",
    "liste([]).\n",
    "liste([_E|L]):-\n",
    "  liste(L).\n",
    "\n",
    "main :-  writeln('Votre requête ?'), read(Entree),\n",
    "  findall(Entree,Entree,Resultats),\n",
    "  write('Liste des résultats : '), writeln(Resultats).\n",
    ":- main."
   ]
  },
  {
   "cell_type": "code",
   "execution_count": null,
   "id": "b8067f03-00c8-495e-b52e-d52e2d7d7796",
   "metadata": {},
   "outputs": [],
   "source": [
    "!echo \"liste(L), membreUnique(E,L), write(\\\"E=\\\"), write(E), write(\\\" L=\\\"), writeln(L).\" | swipl -g halt -s prog.pl"
   ]
  },
  {
   "cell_type": "markdown",
   "id": "f0088890-1fd8-4e61-8779-e928094a90e9",
   "metadata": {},
   "source": [
    "Réponse :\n",
    "```\n",
    "E=_2620 L=[_2620]\n",
    "E=_4520 L=[_4520,_4552]\n",
    "E=_4520 L=[_4552,_4520]\n",
    "E=_4526 L=[_4526,_4558,_4678]\n",
    "E=_4526 L=[_4558,_4526,_4680]\n",
    "E=_4526 L=[_4558,_4678,_4526]\n",
    "E=_4532 L=[_4532,_4564,_4684,_4804]\n",
    "E=_4532 L=[_4564,_4532,_4686,_4808]\n",
    "E=_4532 L=[_4564,_4684,_4532,_4806]\n",
    "E=_4532 L=[_4564,_4684,_4804,_4532]\n",
    "```\n",
    "\n",
    "Remarques :\n",
    "\n",
    "* ce ne serait pas une bonne idée d'intégrer l'appel de la requête à liste dans un prédicat qui ferait cet appel.  \n",
    "Ponctuellement cela marcherait, si on associait plus tard plusieurs prédicats de ce type, on risquerait de retomber sur le problème intial (plusieurs énumérations infinie en parallèle).  \n",
    "Cette solution fonctionne, parce que l'appel est le premier de la requête, et contraint toutes les énumérations à suivre.\n",
    "* cette solution, n'est pas très efficace, pour chaque nouvelle liste initiale créée par l'appel du premier liste, toutes les énumération sont reproduites.\n",
    "Pour une énumérations initialement \"linéaire\", on passe à une complexité \"quadratique\"  \n"
   ]
  },
  {
   "cell_type": "markdown",
   "id": "b5fab10f-95f5-464a-9793-4130e42c6321",
   "metadata": {
    "editable": true,
    "slideshow": {
     "slide_type": "slide"
    },
    "tags": []
   },
   "source": [
    "<img src=\"logoUGA.png\"></img>\n",
    "\n",
    "## Enumérations classiques\n",
    "\n",
    "Parmi les prédicats non déterministes, on trouve tous les prédicats d'énumérations d'ensembles (finis ou pas) :\n",
    "\n",
    "* énumération d'un ensemble fini (membre, intervalle)\n",
    "* énumération d'un ensemble infini (entier naturel, entier pair, entier relatif, etc.)\n",
    "* énumération d'un produit cartésien (ex. : couple de booléens, trio de nombres, etc.), d'une liste d'entier\n",
    "* énumération des parties d'un ensemble fini, d'une permutation\n",
    "\n",
    "Un point commun à la plupart de ces programmes, les récursivités ne s'écrivent pas en 2 cas (1 cas de base, 1 cas de propagation ; sinon cela ne serait pas non-déterministe), mais avec au moins 3 cas (parfois cela peut être un peu caché).\n",
    "\n",
    "Pour vérifier que ces programmes sont corrects, souvent, cela peut être une bonne idée de compter le nombre de solution (et vérifier que c'est bien ce que la combinatoire devait donner)\n",
    "\n",
    "### Exemples\n",
    "\n",
    "**Pour les entiers relatifs**, attention à panacher positifs et négatifs.  \n",
    "  Pour comprendre comme cela marche (ou pas), dessiner des arbres d'exécution.  \n",
    "  Rem. : Dans tous les cas, on peut prouver la correction, la complétude et la terminaison."
   ]
  },
  {
   "cell_type": "code",
   "execution_count": 134,
   "id": "475c40ef-a8e4-4e73-b7b0-173f62e89c60",
   "metadata": {
    "editable": true,
    "execution": {
     "iopub.execute_input": "2024-02-01T13:30:03.323229Z",
     "iopub.status.busy": "2024-02-01T13:30:03.322964Z",
     "iopub.status.idle": "2024-02-01T13:30:03.337224Z",
     "shell.execute_reply": "2024-02-01T13:30:03.336693Z",
     "shell.execute_reply.started": "2024-02-01T13:30:03.323203Z"
    },
    "slideshow": {
     "slide_type": "slide"
    },
    "tags": []
   },
   "outputs": [
    {
     "name": "stdout",
     "output_type": "stream",
     "text": [
      "Overwriting prog.pl\n"
     ]
    }
   ],
   "source": [
    "%%writefile prog.pl\n",
    "/* entierRelatif(N) est vrai ssi N est un entier relatif */\n",
    "entierRelatif(0).\n",
    "entierRelatif(N):-\n",
    "  entierPositif(N).\n",
    "entierRelatif(N):-\n",
    "  entierNegatif(N).\n",
    "\n",
    "entierPositif(1).\n",
    "entierPositif(N):-\n",
    "  entierPositif(M),{N=M+1}.\n",
    "\n",
    "entierNegatif(-1).\n",
    "entierNegatif(N):-\n",
    "  entierNegatif(M),{N=M-1}.\n",
    "\n",
    "main :-  writeln('Votre requête ?'), read(Entree),\n",
    "  findall(Entree,Entree,Resultats),\n",
    "  write('Liste des résultats : '), writeln(Resultats).\n",
    ":- use_module(library(clpq)), main."
   ]
  },
  {
   "cell_type": "code",
   "execution_count": null,
   "id": "e83b6570-50ac-47f0-8901-070859f08e0d",
   "metadata": {
    "editable": true,
    "slideshow": {
     "slide_type": "fragment"
    },
    "tags": []
   },
   "outputs": [],
   "source": [
    "!echo \"entierPositif(E), write(\\\"E=\\\"), writeln(E).\" | swipl -g halt -s prog.pl"
   ]
  },
  {
   "cell_type": "markdown",
   "id": "e1a04f07-6216-462d-9e8e-d944ecaaab6e",
   "metadata": {},
   "source": [
    "réponse :\n",
    "```\n",
    "E=1\n",
    "E=2\n",
    "E=3\n",
    "E=4\n",
    "E=5\n",
    "E=6\n",
    "E=7\n",
    "E=8\n",
    "E=9\n",
    "E=10\n",
    "```"
   ]
  },
  {
   "cell_type": "code",
   "execution_count": null,
   "id": "3b5d3df5-3a4f-4883-93a6-e98b7cb5a3d2",
   "metadata": {
    "editable": true,
    "slideshow": {
     "slide_type": "notes"
    },
    "tags": []
   },
   "outputs": [],
   "source": [
    "!echo \"entierNegatif(E), write(\\\"E=\\\"), writeln(E).\" | swipl -g halt -s prog.pl"
   ]
  },
  {
   "cell_type": "markdown",
   "id": "b28ae14a-c9ca-4a3b-a57e-03eea60d1db3",
   "metadata": {},
   "source": [
    "réponse :\n",
    "```\n",
    "E=-1\n",
    "E=-2\n",
    "E=-3\n",
    "E=-4\n",
    "E=-5\n",
    "E=-6\n",
    "E=-7\n",
    "E=-8\n",
    "E=-9\n",
    "E=-10\n",
    "```"
   ]
  },
  {
   "cell_type": "code",
   "execution_count": null,
   "id": "b71a7caf-897a-4ec2-a2a0-470a0f7a3a5f",
   "metadata": {
    "editable": true,
    "scrolled": true,
    "slideshow": {
     "slide_type": "notes"
    },
    "tags": []
   },
   "outputs": [],
   "source": [
    "!echo \"entierRelatif(E), write(\\\"E=\\\"), writeln(E).\" | swipl -g halt -s prog.pl"
   ]
  },
  {
   "cell_type": "markdown",
   "id": "d7723b71-9414-4767-82b9-d10e8906b4ae",
   "metadata": {
    "execution": {
     "iopub.execute_input": "2024-02-01T13:31:53.588401Z",
     "iopub.status.busy": "2024-02-01T13:31:53.588067Z",
     "iopub.status.idle": "2024-02-01T13:31:53.596818Z",
     "shell.execute_reply": "2024-02-01T13:31:53.595833Z",
     "shell.execute_reply.started": "2024-02-01T13:31:53.588373Z"
    }
   },
   "source": [
    "réponse :\n",
    "```\n",
    "E=1\n",
    "E=2\n",
    "E=3\n",
    "E=4\n",
    "E=5\n",
    "E=6\n",
    "E=7\n",
    "E=8\n",
    "E=9\n",
    "E=10\n",
    "```"
   ]
  },
  {
   "cell_type": "markdown",
   "id": "ca5c89eb-57d2-4564-a5c1-9f93caaacef5",
   "metadata": {},
   "source": [
    "Pour éviter de n'avoir que la moitié des entiers relatifs il faut prévoir 2 solutions quand cela termine (une solution positive et une négative) :"
   ]
  },
  {
   "cell_type": "code",
   "execution_count": 139,
   "id": "dd8357d1-1007-44d8-b0f6-c1c04c110ac0",
   "metadata": {
    "editable": true,
    "execution": {
     "iopub.execute_input": "2024-02-01T13:32:21.488332Z",
     "iopub.status.busy": "2024-02-01T13:32:21.488064Z",
     "iopub.status.idle": "2024-02-01T13:32:21.507722Z",
     "shell.execute_reply": "2024-02-01T13:32:21.507019Z",
     "shell.execute_reply.started": "2024-02-01T13:32:21.488314Z"
    },
    "slideshow": {
     "slide_type": "notes"
    },
    "tags": []
   },
   "outputs": [
    {
     "name": "stdout",
     "output_type": "stream",
     "text": [
      "Overwriting prog.pl\n"
     ]
    }
   ],
   "source": [
    "%%writefile prog.pl\n",
    "/* entierRelatif(N) est vrai ssi N est un entier relatif */\n",
    "entierRelatif(N):-\n",
    "  entierRelatif(0,N).\n",
    "\n",
    "entierRelatif(N,N).\n",
    "entierRelatif(M,N):-\n",
    "  {N = -M}.\n",
    "entierRelatif(M,N):-\n",
    "  {P = M+1},\n",
    "  entierRelatif(P,N).\n",
    "\n",
    "\n",
    "main :-  writeln('Votre requête ?'), read(Entree),\n",
    "  findall(Entree,Entree,Resultats),\n",
    "  write('Liste des résultats : '), writeln(Resultats).\n",
    ":- use_module(library(clpq)), main."
   ]
  },
  {
   "cell_type": "code",
   "execution_count": null,
   "id": "103b3ad8-0139-49d6-83ab-71f3ea58f086",
   "metadata": {},
   "outputs": [],
   "source": [
    "!echo \"entierRelatif(E), write(\\\"E=\\\"), writeln(E).\" | swipl -g halt -s prog.pl"
   ]
  },
  {
   "cell_type": "markdown",
   "id": "162b678b-6363-4ab7-9730-3ff904fb3a9e",
   "metadata": {},
   "source": [
    "réponse :\n",
    "```\n",
    "E=0\n",
    "E=0\n",
    "E=1\n",
    "E=-1\n",
    "E=2\n",
    "E=-2\n",
    "E=3\n",
    "E=-3\n",
    "E=4\n",
    "E=-4\n",
    "E=5\n",
    "E=-5\n",
    "```"
   ]
  },
  {
   "cell_type": "markdown",
   "id": "1a8dd025-4301-41f2-bb2a-34b663d4bbc4",
   "metadata": {},
   "source": [
    "C'est une bonne solution (linéaire).  \n",
    "Il y aurait une autre solution (moins efficace, i.e. quadratique), en préfixant la requête initiale par un prédicat qui énumère les entiers (naturels) et génère ainsi une borne max pour que les énumérations à suivre des entiers positifs et négatifs puissent être contraints par cette borne et ne soit pas infinis. C'est le type de solution générale déjà utilisé pour membre dans la section précédente : limiter les résultats dans une boule, ou sur une sphére, dont le rayon (de la boule ou de la sphère) parcours progressivement les valeurs 0, 1, 2,... "
   ]
  },
  {
   "cell_type": "markdown",
   "id": "9180abbe-01e0-41bf-8405-df9cbcf2cc08",
   "metadata": {
    "editable": true,
    "execution": {
     "iopub.execute_input": "2024-01-22T11:26:35.436068Z",
     "iopub.status.busy": "2024-01-22T11:26:35.435654Z",
     "iopub.status.idle": "2024-01-22T11:26:35.442499Z",
     "shell.execute_reply": "2024-01-22T11:26:35.441666Z",
     "shell.execute_reply.started": "2024-01-22T11:26:35.436034Z"
    },
    "slideshow": {
     "slide_type": "notes"
    },
    "tags": []
   },
   "source": [
    "**Exemple pour Parties**"
   ]
  },
  {
   "cell_type": "code",
   "execution_count": 95,
   "id": "5a0349a9-c2ec-4a4c-a4ba-f85e8a0e9715",
   "metadata": {
    "editable": true,
    "execution": {
     "iopub.execute_input": "2024-01-22T11:30:06.097333Z",
     "iopub.status.busy": "2024-01-22T11:30:06.097119Z",
     "iopub.status.idle": "2024-01-22T11:30:06.117270Z",
     "shell.execute_reply": "2024-01-22T11:30:06.116609Z",
     "shell.execute_reply.started": "2024-01-22T11:30:06.097320Z"
    },
    "slideshow": {
     "slide_type": "notes"
    },
    "tags": []
   },
   "outputs": [
    {
     "name": "stdout",
     "output_type": "stream",
     "text": [
      "Overwriting prog.pl\n"
     ]
    }
   ],
   "source": [
    "%%writefile prog.pl\n",
    "/* partie(P,L) est vrai ssi P est une partie de L */\n",
    "partie([],[]).\n",
    "partie([E|P],[E|L]):-\n",
    "  partie(P,L).\n",
    "partie(P,[_E|L]):-\n",
    "  partie(P,L).\n",
    "\n",
    "\n",
    "main :-  writeln('Votre requête ?'), read(Entree),\n",
    "  findall(Entree,Entree,Resultats),\n",
    "  write('Liste des résultats : '), writeln(Resultats).\n",
    ":- main."
   ]
  },
  {
   "cell_type": "code",
   "execution_count": 97,
   "id": "302db5b5-d10f-449d-9dfa-3762579722dc",
   "metadata": {
    "editable": true,
    "execution": {
     "iopub.execute_input": "2024-01-22T11:30:33.364535Z",
     "iopub.status.busy": "2024-01-22T11:30:33.364212Z",
     "iopub.status.idle": "2024-01-22T11:30:33.566206Z",
     "shell.execute_reply": "2024-01-22T11:30:33.565232Z",
     "shell.execute_reply.started": "2024-01-22T11:30:33.364510Z"
    },
    "slideshow": {
     "slide_type": "notes"
    },
    "tags": []
   },
   "outputs": [
    {
     "name": "stdout",
     "output_type": "stream",
     "text": [
      "Votre requête ?\n",
      "P=[1,2,3]\n",
      "P=[1,2]\n",
      "P=[1,3]\n",
      "P=[1]\n",
      "P=[2,3]\n",
      "P=[2]\n",
      "P=[3]\n",
      "P=[]\n",
      "Liste des résultats : [(partie([1,2,3],[1,2,3]),write(P=),writeln([1,2,3])),(partie([1,2],[1,2,3]),write(P=),writeln([1,2])),(partie([1,3],[1,2,3]),write(P=),writeln([1,3])),(partie([1],[1,2,3]),write(P=),writeln([1])),(partie([2,3],[1,2,3]),write(P=),writeln([2,3])),(partie([2],[1,2,3]),write(P=),writeln([2])),(partie([3],[1,2,3]),write(P=),writeln([3])),(partie([],[1,2,3]),write(P=),writeln([]))]\n"
     ]
    }
   ],
   "source": [
    "!echo \"partie(P,[1,2,3]), write(\\\"P=\\\"), writeln(P).\" | swipl -g halt -s prog.pl"
   ]
  },
  {
   "cell_type": "markdown",
   "id": "bddf4f44-9cff-4b21-94ff-abdbd7d0aa20",
   "metadata": {},
   "source": [
    "**Exemple pour permutation**"
   ]
  },
  {
   "cell_type": "code",
   "execution_count": 98,
   "id": "99162ece-567b-439e-b823-4b451b4a9c23",
   "metadata": {
    "editable": true,
    "execution": {
     "iopub.execute_input": "2024-01-22T11:32:47.628400Z",
     "iopub.status.busy": "2024-01-22T11:32:47.628160Z",
     "iopub.status.idle": "2024-01-22T11:32:47.643950Z",
     "shell.execute_reply": "2024-01-22T11:32:47.643243Z",
     "shell.execute_reply.started": "2024-01-22T11:32:47.628385Z"
    },
    "slideshow": {
     "slide_type": "notes"
    },
    "tags": []
   },
   "outputs": [
    {
     "name": "stdout",
     "output_type": "stream",
     "text": [
      "Overwriting prog.pl\n"
     ]
    }
   ],
   "source": [
    "%%writefile prog.pl\n",
    "/* permutation(P,L) est vrai ssi P est une permutation de L */\n",
    "permutation([],[]).\n",
    "permutation([E|P],L):-\n",
    "  membre(E,L,R),\n",
    "  permutation(P,R).\n",
    "\n",
    "membre(E,[E|L],L).\n",
    "membre(E,[F|L],[F|R]):-\n",
    "  membre(E,L,R).\n",
    "\n",
    "main :-  writeln('Votre requête ?'), read(Entree),\n",
    "  findall(Entree,Entree,Resultats),\n",
    "  write('Liste des résultats : '), writeln(Resultats).\n",
    ":- main."
   ]
  },
  {
   "cell_type": "code",
   "execution_count": 99,
   "id": "74ddc337-c28f-40b7-b9ce-9bd419c30778",
   "metadata": {
    "editable": true,
    "execution": {
     "iopub.execute_input": "2024-01-22T11:33:04.424734Z",
     "iopub.status.busy": "2024-01-22T11:33:04.424442Z",
     "iopub.status.idle": "2024-01-22T11:33:04.631203Z",
     "shell.execute_reply": "2024-01-22T11:33:04.630241Z",
     "shell.execute_reply.started": "2024-01-22T11:33:04.424711Z"
    },
    "slideshow": {
     "slide_type": "notes"
    },
    "tags": []
   },
   "outputs": [
    {
     "name": "stdout",
     "output_type": "stream",
     "text": [
      "Votre requête ?\n",
      "P=[1,2,3]\n",
      "P=[1,3,2]\n",
      "P=[2,1,3]\n",
      "P=[2,3,1]\n",
      "P=[3,1,2]\n",
      "P=[3,2,1]\n",
      "Liste des résultats : [(permutation([1,2,3],[1,2,3]),write(P=),writeln([1,2,3])),(permutation([1,3,2],[1,2,3]),write(P=),writeln([1,3,2])),(permutation([2,1,3],[1,2,3]),write(P=),writeln([2,1,3])),(permutation([2,3,1],[1,2,3]),write(P=),writeln([2,3,1])),(permutation([3,1,2],[1,2,3]),write(P=),writeln([3,1,2])),(permutation([3,2,1],[1,2,3]),write(P=),writeln([3,2,1]))]\n"
     ]
    }
   ],
   "source": [
    "!echo \"permutation(P,[1,2,3]), write(\\\"P=\\\"), writeln(P).\" | swipl -g halt -s prog.pl"
   ]
  },
  {
   "cell_type": "markdown",
   "id": "9c3ddc39-30ed-45a1-870d-c4db304251cf",
   "metadata": {
    "editable": true,
    "slideshow": {
     "slide_type": "slide"
    },
    "tags": []
   },
   "source": [
    "<img src=\"logoUGA.png\"></img>\n",
    "\n",
    "# Contraintes\n",
    "\n",
    "(fin du prolog pur : tout ce qui précède, dont reversibilité et non-déterminisme, (tout hors dif), est défini dans le noyau de prolog)  \n",
    "(début d'un autre paradigme de programmation : la programmation logique avec contraintes, PLC/CLP qui étend la programmation logique et la programmation par contraintes, en réutilisant les avancées de la Recherche Opérationnelle RO)\n",
    "\n",
    "Rappel : \n",
    "\n",
    "* en pur Prolog pas d'arithmétique (N+1 est un terme/arbre +(N,1))\n",
    "* pour ajouter de l'arithmétique, pendant 20 ans, dif et is\n",
    "  * dif : pour établir la différence entre termes\n",
    "  * is : pour calculer des expressions"
   ]
  },
  {
   "cell_type": "code",
   "execution_count": 33,
   "id": "ea3a4479-de81-4643-ab66-01de3eb7edf4",
   "metadata": {
    "editable": true,
    "execution": {
     "iopub.execute_input": "2024-01-22T09:56:31.649126Z",
     "iopub.status.busy": "2024-01-22T09:56:31.648564Z",
     "iopub.status.idle": "2024-01-22T09:56:31.667973Z",
     "shell.execute_reply": "2024-01-22T09:56:31.666937Z",
     "shell.execute_reply.started": "2024-01-22T09:56:31.649105Z"
    },
    "jupyter": {
     "source_hidden": true
    },
    "slideshow": {
     "slide_type": "slide"
    },
    "tags": []
   },
   "outputs": [
    {
     "name": "stdout",
     "output_type": "stream",
     "text": [
      "Overwriting prog.pl\n"
     ]
    }
   ],
   "source": [
    "%%writefile prog.pl\n",
    "main :-  writeln('Votre requête ?'), read(Entree),\n",
    "  findall(Entree,Entree,Resultats),\n",
    "  write('Liste des résultats : '), writeln(Resultats).\n",
    ":- main."
   ]
  },
  {
   "cell_type": "code",
   "execution_count": 34,
   "id": "19206b64-563a-47ca-997f-3aa8da10bf9a",
   "metadata": {
    "editable": true,
    "execution": {
     "iopub.execute_input": "2024-01-22T09:56:49.896638Z",
     "iopub.status.busy": "2024-01-22T09:56:49.896161Z",
     "iopub.status.idle": "2024-01-22T09:56:50.068739Z",
     "shell.execute_reply": "2024-01-22T09:56:50.067590Z",
     "shell.execute_reply.started": "2024-01-22T09:56:49.896622Z"
    },
    "slideshow": {
     "slide_type": "fragment"
    },
    "tags": []
   },
   "outputs": [
    {
     "name": "stdout",
     "output_type": "stream",
     "text": [
      "Votre requête ?\n",
      "Liste des résultats : [dif(2,3)]\n"
     ]
    }
   ],
   "source": [
    "!echo \"dif(2,3).\" | swipl -g halt -s prog.pl"
   ]
  },
  {
   "cell_type": "code",
   "execution_count": 35,
   "id": "3682a19f-e2df-421e-869a-d8c730d43af4",
   "metadata": {
    "editable": true,
    "execution": {
     "iopub.execute_input": "2024-01-22T09:57:05.545171Z",
     "iopub.status.busy": "2024-01-22T09:57:05.544841Z",
     "iopub.status.idle": "2024-01-22T09:57:05.710484Z",
     "shell.execute_reply": "2024-01-22T09:57:05.709580Z",
     "shell.execute_reply.started": "2024-01-22T09:57:05.545145Z"
    },
    "slideshow": {
     "slide_type": "notes"
    },
    "tags": []
   },
   "outputs": [
    {
     "name": "stdout",
     "output_type": "stream",
     "text": [
      "Votre requête ?\n",
      "Liste des résultats : []\n"
     ]
    }
   ],
   "source": [
    "!echo \"dif(2,2).\" | swipl -g halt -s prog.pl"
   ]
  },
  {
   "cell_type": "code",
   "execution_count": 36,
   "id": "6a59ce13-756c-4a5c-92cf-5f0594f05e34",
   "metadata": {
    "editable": true,
    "execution": {
     "iopub.execute_input": "2024-01-22T09:57:13.506823Z",
     "iopub.status.busy": "2024-01-22T09:57:13.506517Z",
     "iopub.status.idle": "2024-01-22T09:57:13.667724Z",
     "shell.execute_reply": "2024-01-22T09:57:13.666950Z",
     "shell.execute_reply.started": "2024-01-22T09:57:13.506800Z"
    },
    "slideshow": {
     "slide_type": "notes"
    },
    "tags": []
   },
   "outputs": [
    {
     "name": "stdout",
     "output_type": "stream",
     "text": [
      "Votre requête ?\n",
      "Liste des résultats : [dif(2,_4610)]\n"
     ]
    }
   ],
   "source": [
    "!echo \"dif(2,X).\" | swipl -g halt -s prog.pl"
   ]
  },
  {
   "cell_type": "code",
   "execution_count": 37,
   "id": "b6d3b3d4-3b29-4da8-b84e-73dd909469f2",
   "metadata": {
    "editable": true,
    "execution": {
     "iopub.execute_input": "2024-01-22T09:57:23.683720Z",
     "iopub.status.busy": "2024-01-22T09:57:23.683370Z",
     "iopub.status.idle": "2024-01-22T09:57:23.841658Z",
     "shell.execute_reply": "2024-01-22T09:57:23.841018Z",
     "shell.execute_reply.started": "2024-01-22T09:57:23.683689Z"
    },
    "slideshow": {
     "slide_type": "notes"
    },
    "tags": []
   },
   "outputs": [
    {
     "name": "stdout",
     "output_type": "stream",
     "text": [
      "Votre requête ?\n",
      "Liste des résultats : [dif(_4610,_4672)]\n"
     ]
    }
   ],
   "source": [
    "!echo \"dif(X,Y).\" | swipl -g halt -s prog.pl"
   ]
  },
  {
   "cell_type": "code",
   "execution_count": 38,
   "id": "6b161c63-f524-405d-8254-9a2b03c93da6",
   "metadata": {
    "editable": true,
    "execution": {
     "iopub.execute_input": "2024-01-22T09:57:33.710478Z",
     "iopub.status.busy": "2024-01-22T09:57:33.709793Z",
     "iopub.status.idle": "2024-01-22T09:57:33.864812Z",
     "shell.execute_reply": "2024-01-22T09:57:33.864152Z",
     "shell.execute_reply.started": "2024-01-22T09:57:33.710445Z"
    },
    "slideshow": {
     "slide_type": "notes"
    },
    "tags": []
   },
   "outputs": [
    {
     "name": "stdout",
     "output_type": "stream",
     "text": [
      "Votre requête ?\n",
      "Liste des résultats : []\n"
     ]
    }
   ],
   "source": [
    "!echo \"dif(X,X).\" | swipl -g halt -s prog.pl"
   ]
  },
  {
   "cell_type": "markdown",
   "id": "8fde96c3-e690-4501-b1ec-0c947180da7c",
   "metadata": {
    "editable": true,
    "slideshow": {
     "slide_type": "notes"
    },
    "tags": []
   },
   "source": [
    "* dif est reversible, il n'y a pas de statut spécifique pour les paramètres, toutes les exécutions fonctionnent. Avec dif, on peut faire un prédicat supprimeDoublon reversible, mais attention à ne pas en vouloir trop (ajouter des doublons, cela peut se faire un nombre infini de fois, il risque d'y avoir une nombre de solution infini ; pour limiter les réponses, donner une liste réponse de taille fixe, ex. : supprimeDoublon([A,B,C,D],[1,2]). )"
   ]
  },
  {
   "cell_type": "code",
   "execution_count": 39,
   "id": "74e540b9-9c59-463f-8e58-c35d6ae049ab",
   "metadata": {
    "editable": true,
    "execution": {
     "iopub.execute_input": "2024-01-22T09:58:46.854254Z",
     "iopub.status.busy": "2024-01-22T09:58:46.853943Z",
     "iopub.status.idle": "2024-01-22T09:58:47.006917Z",
     "shell.execute_reply": "2024-01-22T09:58:47.006226Z",
     "shell.execute_reply.started": "2024-01-22T09:58:46.854236Z"
    },
    "slideshow": {
     "slide_type": "slide"
    },
    "tags": []
   },
   "outputs": [
    {
     "name": "stdout",
     "output_type": "stream",
     "text": [
      "Votre requête ?\n",
      "Liste des résultats : [5 is 2+3]\n"
     ]
    }
   ],
   "source": [
    "!echo \"E is 2+3.\" | swipl -g halt -s prog.pl"
   ]
  },
  {
   "cell_type": "code",
   "execution_count": 40,
   "id": "b2f7af45-a9d9-4f5f-8393-ced31cf45686",
   "metadata": {
    "collapsed": true,
    "editable": true,
    "execution": {
     "iopub.execute_input": "2024-01-22T09:59:05.871384Z",
     "iopub.status.busy": "2024-01-22T09:59:05.870263Z",
     "iopub.status.idle": "2024-01-22T09:59:06.025918Z",
     "shell.execute_reply": "2024-01-22T09:59:06.024873Z",
     "shell.execute_reply.started": "2024-01-22T09:59:05.871334Z"
    },
    "jupyter": {
     "outputs_hidden": true
    },
    "slideshow": {
     "slide_type": "fragment"
    },
    "tags": []
   },
   "outputs": [
    {
     "name": "stdout",
     "output_type": "stream",
     "text": [
      "Votre requête ?\n",
      "\n",
      "ERROR: is/2: Arguments are not sufficiently instantiated\n",
      "Warning: Goal (directive) failed: user:main\n"
     ]
    }
   ],
   "source": [
    "!echo \"5 is E+3.\" | swipl -g halt -s prog.pl"
   ]
  },
  {
   "cell_type": "markdown",
   "id": "18cb1f6d-55b2-4ce6-abbf-ca9c4b266ec4",
   "metadata": {
    "editable": true,
    "slideshow": {
     "slide_type": "notes"
    },
    "tags": []
   },
   "source": [
    "* is n'est pas réversible, son utilisation dans les prédicats introduit des comportements non réversibles.\n",
    "\n",
    "Rem. (il n'y a pas que is en cause, c'est tout l'arithmétique et les tests, l'utilisation prévue est orientée et non-réversible) :"
   ]
  },
  {
   "cell_type": "code",
   "execution_count": 41,
   "id": "2c73f402-ced9-44e5-89c5-f67cb65329f5",
   "metadata": {
    "editable": true,
    "execution": {
     "iopub.execute_input": "2024-01-22T10:00:44.272938Z",
     "iopub.status.busy": "2024-01-22T10:00:44.272359Z",
     "iopub.status.idle": "2024-01-22T10:00:44.426049Z",
     "shell.execute_reply": "2024-01-22T10:00:44.424687Z",
     "shell.execute_reply.started": "2024-01-22T10:00:44.272909Z"
    },
    "slideshow": {
     "slide_type": "notes"
    },
    "tags": []
   },
   "outputs": [
    {
     "name": "stdout",
     "output_type": "stream",
     "text": [
      "Votre requête ?\n",
      "\n",
      "ERROR: >/2: Arguments are not sufficiently instantiated\n",
      "Warning: Goal (directive) failed: user:main\n"
     ]
    }
   ],
   "source": [
    "!echo \"2 > X.\" | swipl -g halt -s prog.pl"
   ]
  },
  {
   "cell_type": "markdown",
   "id": "07f06beb-e263-459f-8d2b-ef177d92405f",
   "metadata": {
    "editable": true,
    "slideshow": {
     "slide_type": "notes"
    },
    "tags": []
   },
   "source": [
    "Pour pallier à ce défaut de réversibilité pour l'arithmétique, de nombreuses solutions ont été explorées par la communauté prolog :\n",
    "\n",
    "* contraintes pseudo-linéaires (simplexe)\n",
    "* contraintes entières ou réelles, ou complexes\n",
    "* contraintes sur ensemble fini, ou sur intervalle\n",
    "* propagation de contraintes\n",
    "\n",
    "\n",
    "Pour ce cours, le moteur de résolution adopté sera clpq, dit de résolution de contraintes rationnelles (pseudo-linéaire). Cela limitera, certes, mais en pratique cela sera suffisant (en particulier en Miage). La syntaxe est simple, il suffit d'ajouter des accolades, ex. : {A+B=C}\n",
    "\n",
    "Le moteur de résolution de contrainte s'intègre au moteur d'unification, dans les arbres d'exécution (à la main), on pourra ajouter des ensembles de contraintes à respecter, et les résoudre \"à la main\", si nécessaire. "
   ]
  },
  {
   "cell_type": "code",
   "execution_count": 42,
   "id": "048452d0-f801-4cef-90f3-7508ab3f8114",
   "metadata": {
    "editable": true,
    "execution": {
     "iopub.execute_input": "2024-01-22T10:09:45.431438Z",
     "iopub.status.busy": "2024-01-22T10:09:45.431075Z",
     "iopub.status.idle": "2024-01-22T10:09:45.446711Z",
     "shell.execute_reply": "2024-01-22T10:09:45.446180Z",
     "shell.execute_reply.started": "2024-01-22T10:09:45.431413Z"
    },
    "slideshow": {
     "slide_type": "slide"
    },
    "tags": []
   },
   "outputs": [
    {
     "name": "stdout",
     "output_type": "stream",
     "text": [
      "Overwriting prog.pl\n"
     ]
    }
   ],
   "source": [
    "%%writefile prog.pl\n",
    "main :-  writeln('Votre requête ?'), read(Entree),\n",
    "  findall(Entree,Entree,Resultats),\n",
    "  write('Liste des résultats : '), writeln(Resultats).\n",
    ":- use_module(library(clpq)), main."
   ]
  },
  {
   "cell_type": "code",
   "execution_count": 43,
   "id": "f98e7f76-4b0f-4827-8ef7-84b461a51f3a",
   "metadata": {
    "editable": true,
    "execution": {
     "iopub.execute_input": "2024-01-22T10:10:05.029140Z",
     "iopub.status.busy": "2024-01-22T10:10:05.028611Z",
     "iopub.status.idle": "2024-01-22T10:10:05.229862Z",
     "shell.execute_reply": "2024-01-22T10:10:05.228297Z",
     "shell.execute_reply.started": "2024-01-22T10:10:05.029118Z"
    },
    "slideshow": {
     "slide_type": "fragment"
    },
    "tags": []
   },
   "outputs": [
    {
     "name": "stdout",
     "output_type": "stream",
     "text": [
      "Votre requête ?\n",
      "Liste des résultats : [{5=2+3}]\n"
     ]
    }
   ],
   "source": [
    "!echo \"{5=E+3}.\" | swipl -g halt -s prog.pl"
   ]
  },
  {
   "cell_type": "markdown",
   "id": "4ece8def-e46e-4a9a-bbed-62709172900d",
   "metadata": {
    "editable": true,
    "slideshow": {
     "slide_type": "notes"
    },
    "tags": []
   },
   "source": [
    "D'autres domaines scientifique utilisant des contraintes (appartenant à la Recherche Operationnelle ou à la Programmation par Contraintes) ont aussi été mis à contribution pour donner ainsi naissance à la Programmation Logique avec Contraintes (PLC ou CLP) :\n",
    "\n",
    "* contraintes sur les booléens ou sur des ensembles finis (pour des représentations et des énumérations \"efficaces\", ou pour des représentation de problème en 0-1, avec ou sans (ensembliste))\n",
    "* contraintes structurelles (sur les structures arborescentes => graphes)\n",
    "  * exemple de listes circulaires"
   ]
  },
  {
   "cell_type": "code",
   "execution_count": 44,
   "id": "a8c30aa3-7aad-4d74-9c10-07b8667dba14",
   "metadata": {
    "editable": true,
    "execution": {
     "iopub.execute_input": "2024-01-22T10:17:55.790360Z",
     "iopub.status.busy": "2024-01-22T10:17:55.790078Z",
     "iopub.status.idle": "2024-01-22T10:17:55.988782Z",
     "shell.execute_reply": "2024-01-22T10:17:55.987101Z",
     "shell.execute_reply.started": "2024-01-22T10:17:55.790346Z"
    },
    "slideshow": {
     "slide_type": "notes"
    },
    "tags": []
   },
   "outputs": [
    {
     "name": "stdout",
     "output_type": "stream",
     "text": [
      "Votre requête ?\n",
      "Liste des résultats : @([S_1=S_1],[S_1=[1,2,3|S_1]])\n"
     ]
    }
   ],
   "source": [
    "!echo \"L=[1,2,3|L].\" | swipl -g halt -s prog.pl"
   ]
  },
  {
   "cell_type": "markdown",
   "id": "bbcd5711-5652-490a-9f61-ea528417896e",
   "metadata": {
    "editable": true,
    "slideshow": {
     "slide_type": "notes"
    },
    "tags": []
   },
   "source": [
    "  * exemple de graphe"
   ]
  },
  {
   "cell_type": "code",
   "execution_count": 47,
   "id": "592ef728-3dba-4a38-8c96-5755bf6afe39",
   "metadata": {
    "editable": true,
    "execution": {
     "iopub.execute_input": "2024-01-22T10:20:51.485585Z",
     "iopub.status.busy": "2024-01-22T10:20:51.484955Z",
     "iopub.status.idle": "2024-01-22T10:20:51.685225Z",
     "shell.execute_reply": "2024-01-22T10:20:51.684607Z",
     "shell.execute_reply.started": "2024-01-22T10:20:51.485548Z"
    },
    "slideshow": {
     "slide_type": "notes"
    },
    "tags": []
   },
   "outputs": [
    {
     "name": "stdout",
     "output_type": "stream",
     "text": [
      "Votre requête ?\n",
      "Liste des résultats : @([S_1=S_1],[S_1=[1,[2,S_1,[]],[3,[],S_1]]])\n"
     ]
    }
   ],
   "source": [
    "!echo \"L=[1,[2,L,[]],[3,[],L]].\" | swipl -g halt -s prog.pl"
   ]
  },
  {
   "cell_type": "markdown",
   "id": "962313b5-cbcc-46e1-8a1f-bf13f30c1f32",
   "metadata": {
    "editable": true,
    "slideshow": {
     "slide_type": "notes"
    },
    "tags": []
   },
   "source": [
    "Certains prédicats continuent de marcher sur ces objets (d'autres non, ou pas tel que) :\n",
    "\n",
    "* premier, ajoutEnPremier, supprimePremier : ok\n",
    "* dernier, etc. : ko"
   ]
  },
  {
   "cell_type": "code",
   "execution_count": 49,
   "id": "62f93bfc-335e-44c6-8868-52755cfb289d",
   "metadata": {
    "editable": true,
    "execution": {
     "iopub.execute_input": "2024-01-22T10:25:03.389001Z",
     "iopub.status.busy": "2024-01-22T10:25:03.388691Z",
     "iopub.status.idle": "2024-01-22T10:25:03.409442Z",
     "shell.execute_reply": "2024-01-22T10:25:03.408566Z",
     "shell.execute_reply.started": "2024-01-22T10:25:03.388977Z"
    },
    "slideshow": {
     "slide_type": "notes"
    },
    "tags": []
   },
   "outputs": [
    {
     "name": "stdout",
     "output_type": "stream",
     "text": [
      "Overwriting prog.pl\n"
     ]
    }
   ],
   "source": [
    "%%writefile prog.pl\n",
    "/* separePremierFin(E,F,L) est vrai ssi E est le premier et F la fin de la liste L, i.e. : [E|F] = L . */\n",
    "separePremierFin(E,F,[E|F]).\n",
    "\n",
    "/* ajoutEnPremier(E,L,R) est vrai ssi en ajoutant E en premier à L , on a la même liste que R */\n",
    "ajoutEnPremier(E,L,Res) :-\n",
    "  separePremierFin(E,L,Res).\n",
    "\n",
    "/* supprimePremier(L,R) est vrai ssi en supprimant le premier élément de L , on a la même liste que R */\n",
    "supprimePremier(L,Res) :-\n",
    "  separePremierFin(_E,Res,L).\n",
    "\n",
    "/* separeDebutDernier(Debut,Dernier,L) est vrai ssi Debut est le début et Dernier le dernier élément de la liste L */\n",
    "separeDebutDernier([],Dernier,[Dernier]).\n",
    "separeDebutDernier([E|Debut],Dernier,[E|Res]):-\n",
    "  separeDebutDernier(Debut,Dernier,Res).\n",
    "\n",
    "/* ajoutEnDernier(E,L,R) est vrai ssi en ajoutant E en dernier à L , on a la même liste que R */\n",
    "ajoutEnDernier(E,L,Res) :-\n",
    "  separeDebutDernier(L,E,Res).\n",
    "\n",
    "/* supprimeDernier(L,R) est vrai ssi en supprimant le dernier élément de L , on a la même liste que R */\n",
    "supprimeDernier(L,Res) :-\n",
    "  separeDebutDernier(Res,_E,L).\n",
    "\n",
    "main :-  writeln('Votre requête ?'), read(Entree),\n",
    "  findall(Entree,Entree,Resultats),\n",
    "  write('Liste des résultats : '), writeln(Resultats).\n",
    ":- main."
   ]
  },
  {
   "cell_type": "code",
   "execution_count": 51,
   "id": "be62dff2-115f-42fe-a070-8511515cfcc9",
   "metadata": {
    "editable": true,
    "execution": {
     "iopub.execute_input": "2024-01-22T10:25:39.966070Z",
     "iopub.status.busy": "2024-01-22T10:25:39.965827Z",
     "iopub.status.idle": "2024-01-22T10:25:40.117201Z",
     "shell.execute_reply": "2024-01-22T10:25:40.116582Z",
     "shell.execute_reply.started": "2024-01-22T10:25:39.966051Z"
    },
    "slideshow": {
     "slide_type": "notes"
    },
    "tags": []
   },
   "outputs": [
    {
     "name": "stdout",
     "output_type": "stream",
     "text": [
      "Votre requête ?\n",
      "Liste des résultats : @([([1|S_1]=[1|S_1],supprimePremier([1|S_1],S_1))],[S_1=[2,1|S_1]])\n"
     ]
    }
   ],
   "source": [
    "!echo \"L=[1,2|L], supprimePremier(L,R).\" | swipl -g halt -s prog.pl"
   ]
  },
  {
   "cell_type": "code",
   "execution_count": 52,
   "id": "183215c7-c367-4414-8e56-78b296f70ec0",
   "metadata": {
    "editable": true,
    "execution": {
     "iopub.execute_input": "2024-01-22T10:26:09.193185Z",
     "iopub.status.busy": "2024-01-22T10:26:09.192836Z",
     "iopub.status.idle": "2024-01-22T10:26:11.455392Z",
     "shell.execute_reply": "2024-01-22T10:26:11.453582Z",
     "shell.execute_reply.started": "2024-01-22T10:26:09.193161Z"
    },
    "slideshow": {
     "slide_type": "notes"
    },
    "tags": []
   },
   "outputs": [
    {
     "name": "stdout",
     "output_type": "stream",
     "text": [
      "Votre requête ?\n",
      "\n",
      "ERROR: Stack limit (1.0Gb) exceeded\n",
      "ERROR:   Stack sizes: local: 3Kb, global: 0.9Gb, trail: 0Kb\n",
      "ERROR:   Stack depth: 38,346,207, last-call: 100%, Choice points: 13\n",
      "ERROR:   In:\n",
      "ERROR:     [38,346,207] user:separeDebutDernier('<garbage_collected>', 0, _416)\n",
      "ERROR:     [37] '$bags':findall_loop(<compound (',')/2>, '<garbage_collected>', _438, [])\n",
      "ERROR:     [36] system:setup_call_catcher_cleanup(<compound (:)/2>, <compound (:)/2>, _468, <compound (:)/2>)\n",
      "ERROR:     [32] user:main\n",
      "ERROR:     [31] system:catch(<compound (:)/2>, <compound error/2>, <compound (:)/2>)\n",
      "ERROR: \n",
      "ERROR: Use the --stack_limit=size[KMG] command line option or\n",
      "ERROR: ?- set_prolog_flag(stack_limit, 2_147_483_648). to double the limit.\n",
      "Warning: Goal (directive) failed: user:main\n"
     ]
    }
   ],
   "source": [
    "!echo \"L=[1,2|L], ajoutEnDernier(0,L,R).\" | swipl -g halt -s prog.pl"
   ]
  },
  {
   "cell_type": "markdown",
   "id": "e00fa95b-dab4-44f1-96ff-7384fc4dc941",
   "metadata": {
    "editable": true,
    "slideshow": {
     "slide_type": "notes"
    },
    "tags": []
   },
   "source": [
    "L'algorithmique de ces objets doit prendre en compte les boucles possibles dans les structures de données pour éviter les boucles infinies intr (c'est possible, en marquant ces objets ou en gardant la liste des objets déjà visités, cf. algorithmique sur les graphes)"
   ]
  },
  {
   "cell_type": "markdown",
   "id": "0336b7c1-a1ab-4d50-ae8c-4481e616efbd",
   "metadata": {
    "editable": true,
    "slideshow": {
     "slide_type": "slide"
    },
    "tags": []
   },
   "source": [
    "<img src=\"logoUGA.png\"></img>\n",
    "\n",
    "# Non-déterminisme + Contraintes = résolution combinatoire, contraintes en premier\n",
    "\n",
    "L'association des contraintes et du non-déterminisme donne une programmation combinatoire (parfois efficace) pour la résolution de problèmes ; souvent, si elle n'est pas efficace, elle est au moins simple à mettre en oeuvre.\n",
    "\n",
    "La démarche classique :\n",
    "\n",
    "```prolog\n",
    "probleme(donnees,solution):-\n",
    "  enumération(donnees, candidatsSolutions),\n",
    "  vérificationContraintes(candidatsSolutions,solution).\n",
    "```\n",
    "\n",
    "est remplacée par une résolution combinatoire, contraintes en premier :\n",
    "\n",
    "```prolog\n",
    "probleme(donnees,solution):-\n",
    "  vérificationContraintes(candidatsSolutions,solution),\n",
    "  enumération(donnees, candidatsSolutions).\n",
    "```\n",
    "\n",
    "Exemple, coloriage de la carte de la Suisse (et pays limitrophes) :\n",
    "\n",
    "* le problème : 4 couleurs, 5 pays, éviter de colorier les pays voisins avec la même couleur.\n",
    "* solution classique : énumération des 4\\*4\\*4\\*4\\*4 (1024) cartes possibles, et pour chaque carte vérifications de contraintes de proximité (en général, les premiers coloriages sont uniformes, et pour sortir des solutions uniformes, cela prends du temps)\n",
    "* solution aléatoire (pas si mauvaise, mais aléatoire)\n",
    "* solutions combinatoire, contraintes en premier : mettre en place les contraintes se fait en une 8 étapes (une fois pour toute), l'énumération des couleurs évite les coloriages uniformes, c'est plus rapide"
   ]
  },
  {
   "cell_type": "markdown",
   "id": "41acb3dd-2055-485f-ba2c-bfbf474783a7",
   "metadata": {
    "editable": true,
    "execution": {
     "iopub.execute_input": "2024-01-25T07:59:45.916504Z",
     "iopub.status.busy": "2024-01-25T07:59:45.914250Z",
     "iopub.status.idle": "2024-01-25T07:59:45.952811Z",
     "shell.execute_reply": "2024-01-25T07:59:45.948276Z",
     "shell.execute_reply.started": "2024-01-25T07:59:45.916350Z"
    },
    "slideshow": {
     "slide_type": ""
    },
    "tags": []
   },
   "source": [
    "# Réversibilité + Non-déterminisme + Contraintes ==>> validation de programme (preuves et tests), une piste à explorer ?\n",
    "\n",
    "* preuve, ex : ?- estTrié([1,2,X,Y,3,4]). ?- estTrié([3,4,X,Y,1,2]). ?- estTrié([X,Y,Z]). *à explorer*\n",
    "* tests, générateur de tests, similaire à résolution combinatoire, mais sous forme tests combinatoires avec vérification des tests à suivre. *à explorer*"
   ]
  },
  {
   "cell_type": "markdown",
   "id": "ee7db163-ff01-44c0-a6cd-1f3812714830",
   "metadata": {
    "editable": true,
    "slideshow": {
     "slide_type": "notes"
    },
    "tags": []
   },
   "source": [
    "# Contrôle de l'exécution : Coupure, ordre supérieur, gel, assert\n",
    "\n",
    "## Coupure : !\n",
    "\n",
    "* mécanisme de base avec un arbre\n",
    "* not ou \\+ :  \n",
    "  `not(P):= P, !, fail.`  \n",
    "  `not(P).`  \n",
    "  mais attention au not(not(P)), ce n'est pas équivalent à P\n",
    "* définition des coupure verte (ne réduit pas l'espace de solution, ex. une coupure après la requête pour une recherche de la premier solution) et des coupure rouge (peut réduire l'espace des solutions)"
   ]
  },
  {
   "cell_type": "code",
   "execution_count": 105,
   "id": "4fd800a7-9452-4911-8687-4088c81b8cad",
   "metadata": {
    "editable": true,
    "execution": {
     "iopub.execute_input": "2024-01-22T11:55:07.816904Z",
     "iopub.status.busy": "2024-01-22T11:55:07.816576Z",
     "iopub.status.idle": "2024-01-22T11:55:07.835435Z",
     "shell.execute_reply": "2024-01-22T11:55:07.834698Z",
     "shell.execute_reply.started": "2024-01-22T11:55:07.816881Z"
    },
    "slideshow": {
     "slide_type": "notes"
    },
    "tags": []
   },
   "outputs": [
    {
     "name": "stdout",
     "output_type": "stream",
     "text": [
      "Overwriting prog.pl\n"
     ]
    }
   ],
   "source": [
    "%%writefile prog.pl\n",
    "membre(E,[E|_L]).\n",
    "membre(E,[_F|L]):-\n",
    "  membre(E,L).\n",
    "\n",
    "main :-  writeln('Votre requête ?'), read(Entree),\n",
    "  findall(Entree,Entree,Resultats),\n",
    "  write('Liste des résultats : '), writeln(Resultats).\n",
    ":- main."
   ]
  },
  {
   "cell_type": "code",
   "execution_count": 106,
   "id": "adbaedfb-f6b6-4812-adff-3df803ab831f",
   "metadata": {
    "editable": true,
    "execution": {
     "iopub.execute_input": "2024-01-22T11:55:09.918533Z",
     "iopub.status.busy": "2024-01-22T11:55:09.917966Z",
     "iopub.status.idle": "2024-01-22T11:55:10.078384Z",
     "shell.execute_reply": "2024-01-22T11:55:10.077638Z",
     "shell.execute_reply.started": "2024-01-22T11:55:09.918505Z"
    },
    "slideshow": {
     "slide_type": "notes"
    },
    "tags": []
   },
   "outputs": [
    {
     "name": "stdout",
     "output_type": "stream",
     "text": [
      "Votre requête ?\n",
      "Liste des résultats : [not(membre(1,[2,0,2,4]))]\n"
     ]
    }
   ],
   "source": [
    "!echo \"not(membre(1,[2,0,2,4])).\" | swipl -g halt -s prog.pl"
   ]
  },
  {
   "cell_type": "code",
   "execution_count": 107,
   "id": "df4c15b6-ac80-4263-adfb-8a59d3fde435",
   "metadata": {
    "editable": true,
    "execution": {
     "iopub.execute_input": "2024-01-22T11:55:25.413970Z",
     "iopub.status.busy": "2024-01-22T11:55:25.413642Z",
     "iopub.status.idle": "2024-01-22T11:55:25.575141Z",
     "shell.execute_reply": "2024-01-22T11:55:25.574433Z",
     "shell.execute_reply.started": "2024-01-22T11:55:25.413942Z"
    },
    "slideshow": {
     "slide_type": "notes"
    },
    "tags": []
   },
   "outputs": [
    {
     "name": "stdout",
     "output_type": "stream",
     "text": [
      "Votre requête ?\n",
      "Liste des résultats : []\n"
     ]
    }
   ],
   "source": [
    "!echo \"not(membre(0,[2,0,2,4])).\" | swipl -g halt -s prog.pl"
   ]
  },
  {
   "cell_type": "code",
   "execution_count": 109,
   "id": "68e6f4f8-f4b1-4b17-b27b-a169c2f3aec4",
   "metadata": {
    "editable": true,
    "execution": {
     "iopub.execute_input": "2024-01-22T11:56:00.797632Z",
     "iopub.status.busy": "2024-01-22T11:56:00.797317Z",
     "iopub.status.idle": "2024-01-22T11:56:00.956534Z",
     "shell.execute_reply": "2024-01-22T11:56:00.955618Z",
     "shell.execute_reply.started": "2024-01-22T11:56:00.797607Z"
    },
    "slideshow": {
     "slide_type": "notes"
    },
    "tags": []
   },
   "outputs": [
    {
     "name": "stdout",
     "output_type": "stream",
     "text": [
      "Votre requête ?\n",
      "Liste des résultats : []\n"
     ]
    }
   ],
   "source": [
    "!echo \"not(membre(X,[2,0,2,4])).\" | swipl -g halt -s prog.pl"
   ]
  },
  {
   "cell_type": "code",
   "execution_count": 110,
   "id": "62f12f22-6ae6-4761-a35b-117ec5c8a4a4",
   "metadata": {
    "editable": true,
    "execution": {
     "iopub.execute_input": "2024-01-22T11:56:08.144822Z",
     "iopub.status.busy": "2024-01-22T11:56:08.144609Z",
     "iopub.status.idle": "2024-01-22T11:56:08.301112Z",
     "shell.execute_reply": "2024-01-22T11:56:08.300278Z",
     "shell.execute_reply.started": "2024-01-22T11:56:08.144805Z"
    },
    "slideshow": {
     "slide_type": "notes"
    },
    "tags": []
   },
   "outputs": [
    {
     "name": "stdout",
     "output_type": "stream",
     "text": [
      "Votre requête ?\n",
      "Liste des résultats : [not(not(membre(_2612,[2,0,2,4])))]\n"
     ]
    }
   ],
   "source": [
    "!echo \"not(not(membre(X,[2,0,2,4]))).\" | swipl -g halt -s prog.pl"
   ]
  },
  {
   "cell_type": "code",
   "execution_count": 111,
   "id": "b25f3b09-ab1b-44ba-aedc-eb1d75a73ff9",
   "metadata": {
    "editable": true,
    "execution": {
     "iopub.execute_input": "2024-01-22T11:56:24.717599Z",
     "iopub.status.busy": "2024-01-22T11:56:24.716839Z",
     "iopub.status.idle": "2024-01-22T11:56:24.874317Z",
     "shell.execute_reply": "2024-01-22T11:56:24.873676Z",
     "shell.execute_reply.started": "2024-01-22T11:56:24.717564Z"
    },
    "slideshow": {
     "slide_type": "notes"
    },
    "tags": []
   },
   "outputs": [
    {
     "name": "stdout",
     "output_type": "stream",
     "text": [
      "Votre requête ?\n",
      "Liste des résultats : [membre(2,[2,0,2,4]),membre(0,[2,0,2,4]),membre(2,[2,0,2,4]),membre(4,[2,0,2,4])]\n"
     ]
    }
   ],
   "source": [
    "!echo \"membre(X,[2,0,2,4]).\" | swipl -g halt -s prog.pl"
   ]
  },
  {
   "cell_type": "markdown",
   "id": "8c36cb1e-5742-4bed-920c-225df1974cfe",
   "metadata": {
    "editable": true,
    "slideshow": {
     "slide_type": "notes"
    },
    "tags": []
   },
   "source": [
    "## Autres\n",
    "\n",
    "* Ordre supérieur (c'est findAll, call, apply : déjà vu ou utilisé ; peut permettre l'introspection)\n",
    "* Gel (c'est une manière de gérer les contraintes : un prédicat est gelé sur une variable, le moteur attend tant que la variable est inconnu, quand la variable est connue, l'exécution du prédicat est lancée)\n",
    "* Assert (on ajoute des règles au programme par programme), cela peut donner naissance à des optimisations, et à une forme de programmation dite programmation dynamique (avec mémoïsation)"
   ]
  }
 ],
 "metadata": {
  "kernelspec": {
   "display_name": "Python 3 (ipykernel)",
   "language": "python",
   "name": "python3"
  },
  "language_info": {
   "codemirror_mode": {
    "name": "ipython",
    "version": 3
   },
   "file_extension": ".py",
   "mimetype": "text/x-python",
   "name": "python",
   "nbconvert_exporter": "python",
   "pygments_lexer": "ipython3",
   "version": "3.10.12"
  },
  "rise": {
   "scroll": true
  },
  "title": "Cours 3 : Algorithmique déclarative"
 },
 "nbformat": 4,
 "nbformat_minor": 5
}
